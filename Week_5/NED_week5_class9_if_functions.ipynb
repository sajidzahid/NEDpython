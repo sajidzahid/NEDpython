{
  "nbformat": 4,
  "nbformat_minor": 0,
  "metadata": {
    "colab": {
      "provenance": []
    },
    "kernelspec": {
      "name": "python3",
      "display_name": "Python 3"
    },
    "language_info": {
      "name": "python"
    }
  },
  "cells": [
    {
      "cell_type": "markdown",
      "source": [
        "# If, Else Condition"
      ],
      "metadata": {
        "id": "aS9OO4hODPkj"
      }
    },
    {
      "cell_type": "code",
      "source": [
        "Input_User_Name = input(\"Enter Your Name:\")\n",
        "Input_City_Name = input(\"Enter Your City Name\")\n",
        "Input_Your_Age = input(\"Enter Your Age\")\n",
        "print(\"Your Name is:\",Input_User_Name)\n",
        "print(\"Your City Name is:\",Input_City_Name)\n",
        "print(\"Your Age is:\",Input_Your_Age)"
      ],
      "metadata": {
        "colab": {
          "base_uri": "https://localhost:8080/"
        },
        "id": "luQNH8BGDVJp",
        "outputId": "f075133d-0697-47b1-d0a6-bfac70e160ca"
      },
      "execution_count": 1,
      "outputs": [
        {
          "output_type": "stream",
          "name": "stdout",
          "text": [
            "Enter Your Name:Sajid\n",
            "Enter Your City NameKarachi\n",
            "Enter Your Age39\n",
            "Your Name is: Sajid\n",
            "Your City Name is: Karachi\n",
            "Your Age is: 39\n"
          ]
        }
      ]
    },
    {
      "cell_type": "code",
      "source": [
        "Input_User_Name = input(\"Enter Your Name:\")\n",
        "Input_City_Name = input(\"Enter Your City Name\")\n",
        "Input_Your_Age = input(\"Enter Your Age\")\n",
        "\n",
        "if: Input_City_Name = \"Karachi\"\n",
        "if Input_User_Name = \"Sajid\"\n",
        "if Input_Your_Age = \"38\"\n",
        "    print(\"Welcome to Karachi\")\n",
        "else:\n",
        "  Print(\"Any thing goes worng\")\n",
        "\n",
        "\n",
        "    print(\"Your Name is:\",Input_User_Name)\n",
        "    print(\"Your City Name is:\",Input_City_Name)\n",
        "    print(\"Your Age is:\",Input_Your_Age)"
      ],
      "metadata": {
        "colab": {
          "base_uri": "https://localhost:8080/",
          "height": 106
        },
        "id": "IaSwlptDI6Y3",
        "outputId": "4f6b6567-2675-43e7-ed0c-1a2380cdf57b"
      },
      "execution_count": 4,
      "outputs": [
        {
          "output_type": "error",
          "ename": "SyntaxError",
          "evalue": "invalid syntax (<ipython-input-4-8e495bc75ce4>, line 5)",
          "traceback": [
            "\u001b[0;36m  File \u001b[0;32m\"<ipython-input-4-8e495bc75ce4>\"\u001b[0;36m, line \u001b[0;32m5\u001b[0m\n\u001b[0;31m    if: Input_City_Name = \"Karachi\"\u001b[0m\n\u001b[0m      ^\u001b[0m\n\u001b[0;31mSyntaxError\u001b[0m\u001b[0;31m:\u001b[0m invalid syntax\n"
          ]
        }
      ]
    },
    {
      "cell_type": "code",
      "source": [],
      "metadata": {
        "id": "_NqWaXynJiEl"
      },
      "execution_count": null,
      "outputs": []
    }
  ]
}