{
  "cells": [
    {
      "cell_type": "markdown",
      "metadata": {
        "id": "aS9OO4hODPkj"
      },
      "source": [
        "# If, Else Condition"
      ]
    },
    {
      "cell_type": "code",
      "execution_count": null,
      "metadata": {
        "colab": {
          "base_uri": "https://localhost:8080/"
        },
        "id": "luQNH8BGDVJp",
        "outputId": "f075133d-0697-47b1-d0a6-bfac70e160ca"
      },
      "outputs": [
        {
          "name": "stdout",
          "output_type": "stream",
          "text": [
            "Enter Your Name:Sajid\n",
            "Enter Your City NameKarachi\n",
            "Enter Your Age39\n",
            "Your Name is: Sajid\n",
            "Your City Name is: Karachi\n",
            "Your Age is: 39\n"
          ]
        }
      ],
      "source": [
        "Input_User_Name = input(\"Enter Your Name:\")\n",
        "Input_City_Name = input(\"Enter Your City Name\")\n",
        "Input_Your_Age = input(\"Enter Your Age\")\n",
        "print(\"Your Name is:\",Input_User_Name)\n",
        "print(\"Your City Name is:\",Input_City_Name)\n",
        "print(\"Your Age is:\",Input_Your_Age)"
      ]
    },
    {
      "cell_type": "code",
      "execution_count": null,
      "metadata": {
        "colab": {
          "base_uri": "https://localhost:8080/",
          "height": 106
        },
        "id": "IaSwlptDI6Y3",
        "outputId": "a9706c3c-640a-4b28-f339-6d7ab81c1d0b"
      },
      "outputs": [
        {
          "ename": "SyntaxError",
          "evalue": "invalid syntax. Maybe you meant '==' or ':=' instead of '='? (<ipython-input-4-5cd952b54021>, line 5)",
          "output_type": "error",
          "traceback": [
            "\u001b[0;36m  File \u001b[0;32m\"<ipython-input-4-5cd952b54021>\"\u001b[0;36m, line \u001b[0;32m5\u001b[0m\n\u001b[0;31m    if Input_City_Name = \"Karachi\" and >=38 and \"Sajid\":\u001b[0m\n\u001b[0m       ^\u001b[0m\n\u001b[0;31mSyntaxError\u001b[0m\u001b[0;31m:\u001b[0m invalid syntax. Maybe you meant '==' or ':=' instead of '='?\n"
          ]
        }
      ],
      "source": [
        "Input_User_Name = input(\"Enter Your Name:\")\n",
        "Input_City_Name = input(\"Enter Your City Name\")\n",
        "Input_Your_Age = int(input(\"Enter Your Age\"))\n",
        "\n",
        "if Input_City_Name = \"Karachi\" and >=38 and \"Sajid\":\n",
        "    print(f\"Welcome to Karachi\")\n",
        "else:\n",
        "  Print(f\"Any thing goes worng\")\n",
        "\n",
        "\n",
        "    print(\"Your Name is:\",Input_User_Name)\n",
        "    print(\"Your City Name is:\",Input_City_Name)\n",
        "    print(\"Your Age is:\",Input_Your_Age)"
      ]
    },
    {
      "cell_type": "code",
      "execution_count": null,
      "metadata": {
        "id": "_NqWaXynJiEl"
      },
      "outputs": [],
      "source": [
        "# prompt: Input_User_Name = input(\"Enter Your Name:\")\n",
        "# Input_City_Name = input(\"Enter Your City Name\")\n",
        "# Input_Your_Age = int(input(\"Enter Your Age\"))\n",
        "# if Input_City_Name = \"Karachi\" and >=38 and \"Sajid\":\n",
        "#     print(f\"Welcome to Karachi\")\n",
        "# else:\n",
        "#   Print(f\"Any thing goes worng\")\n",
        "#     print(\"Your Name is:\",Input_User_Name)\n",
        "#     print(\"Your City Name is:\",Input_City_Name)\n",
        "#     print(\"Your Age is:\",Input_Your_Age)\n",
        "\n",
        "# # If, Else Condition\n",
        "Input_User_Name = input(\"Enter Your Name:\")\n",
        "Input_City_Name = input(\"Enter Your City Name\")\n",
        "Input_Your_Age = input(\"Enter Your Age\")\n",
        "print(\"Your Name is:\",Input_User_Name)\n",
        "print(\"Your City Name is:\",Input_City_Name)\n",
        "print(\"Your Age is:\",Input_Your_Age)\n",
        "Input_User_Name = input(\"Enter Your Name:\")\n",
        "Input_City_Name = input(\"Enter Your City Name\")\n",
        "Input_Your_Age = int(input(\"Enter Your Age\"))\n",
        "\n",
        "if Input_City_Name == \"Karachi\" and Input_Your_Age >= 38 and Input_User_Name == \"Sajid\":\n",
        "    print(f\"Welcome to Karachi\")\n",
        "else:\n",
        "    print(f\"Something went wrong\") #Fixed typo here: Print -> print\n",
        "    print(\"Your Name is:\",Input_User_Name)\n",
        "    print(\"Your City Name is:\",Input_City_Name)\n",
        "    print(\"Your Age is:\",Input_Your_Age)"
      ]
    },
    {
      "cell_type": "code",
      "execution_count": null,
      "metadata": {
        "colab": {
          "base_uri": "https://localhost:8080/"
        },
        "id": "8f561EOASoRf",
        "outputId": "ea750885-d4af-4105-c784-9392c46767bd"
      },
      "outputs": [
        {
          "ename": "IndentationError",
          "evalue": "expected an indented block after 'if' statement on line 5 (1489753022.py, line 6)",
          "output_type": "error",
          "traceback": [
            "\u001b[1;36m  Cell \u001b[1;32mIn[46], line 6\u001b[1;36m\u001b[0m\n\u001b[1;33m    elif\u001b[0m\n\u001b[1;37m    ^\u001b[0m\n\u001b[1;31mIndentationError\u001b[0m\u001b[1;31m:\u001b[0m expected an indented block after 'if' statement on line 5\n"
          ]
        }
      ],
      "source": [
        "Input_User_Name = input(\"Enter Your Name:\")\n",
        "Input_City_Name = input(\"Enter Your City Name:\")\n",
        "Input_Your_Age = int(input(\"Enter Your Age:\"))\n",
        "\n",
        "if Input_City_Name == \"Karachi\" and Input_Your_Age >= 38 and Input_User_Name == \"Sajid\":\n",
        "elif\n",
        "    print(f\"Welcome to Karachi\")\n",
        "else:\n",
        "    print(f\"Something went wrong\") #Fixed typo here: Print -> print\n",
        ""
      ]
    },
    {
      "cell_type": "code",
      "execution_count": null,
      "metadata": {
        "id": "U-p5DxvjSo70",
        "outputId": "47ad6b39-ee02-43c0-ff4b-ab0e84dc5d6b"
      },
      "outputs": [
        {
          "name": "stdout",
          "output_type": "stream",
          "text": [
            "Your Name is: sajid\n",
            "Your City Name is: karachi\n",
            "Your Age is: 38\n"
          ]
        },
        {
          "name": "stdin",
          "output_type": "stream",
          "text": [
            "Enter Your Name: kkk\n",
            "Enter Your City Name kki\n",
            "Enter Your Age 88\n"
          ]
        }
      ],
      "source": [
        "print(\"Your Name is:\",Input_User_Name)\n",
        "print(\"Your City Name is:\",Input_City_Name)\n",
        "print(\"Your Age is:\",Input_Your_Age)\n",
        "Input_User_Name = input(\"Enter Your Name:\")\n",
        "Input_City_Name = input(\"Enter Your City Name\")\n",
        "Input_Your_Age = int(input(\"Enter Your Age\"))\n"
      ]
    },
    {
      "cell_type": "code",
      "execution_count": null,
      "metadata": {
        "id": "4SmiivFrDshf",
        "outputId": "f304cb49-9510-48ad-b7c1-33d67b7829e0"
      },
      "outputs": [
        {
          "name": "stdin",
          "output_type": "stream",
          "text": [
            "Enter Your Name: jjj\n",
            "Enter Your City Name: jjj\n",
            "Enter Your Age: jj\n"
          ]
        },
        {
          "ename": "ValueError",
          "evalue": "invalid literal for int() with base 10: 'jj'",
          "output_type": "error",
          "traceback": [
            "\u001b[1;31m---------------------------------------------------------------------------\u001b[0m",
            "\u001b[1;31mValueError\u001b[0m                                Traceback (most recent call last)",
            "Cell \u001b[1;32mIn[50], line 3\u001b[0m\n\u001b[0;32m      1\u001b[0m Input_User_Name \u001b[38;5;241m=\u001b[39m \u001b[38;5;28minput\u001b[39m(\u001b[38;5;124m\"\u001b[39m\u001b[38;5;124mEnter Your Name:\u001b[39m\u001b[38;5;124m\"\u001b[39m)\u001b[38;5;241m.\u001b[39mlower()\n\u001b[0;32m      2\u001b[0m Input_City_Name \u001b[38;5;241m=\u001b[39m \u001b[38;5;28minput\u001b[39m(\u001b[38;5;124m\"\u001b[39m\u001b[38;5;124mEnter Your City Name:\u001b[39m\u001b[38;5;124m\"\u001b[39m)\u001b[38;5;241m.\u001b[39mlower()\n\u001b[1;32m----> 3\u001b[0m Input_Your_Age \u001b[38;5;241m=\u001b[39m \u001b[38;5;28mint\u001b[39m(\u001b[38;5;28minput\u001b[39m(\u001b[38;5;124m\"\u001b[39m\u001b[38;5;124mEnter Your Age:\u001b[39m\u001b[38;5;124m\"\u001b[39m))\n\u001b[0;32m      5\u001b[0m \u001b[38;5;28;01mif\u001b[39;00m Input_City_Name \u001b[38;5;241m==\u001b[39m \u001b[38;5;124m\"\u001b[39m\u001b[38;5;124mKarachi\u001b[39m\u001b[38;5;124m\"\u001b[39m \u001b[38;5;129;01mand\u001b[39;00m Input_Your_Age \u001b[38;5;241m>\u001b[39m\u001b[38;5;241m=\u001b[39m \u001b[38;5;241m38\u001b[39m \u001b[38;5;129;01mand\u001b[39;00m Input_User_Name \u001b[38;5;241m==\u001b[39m \u001b[38;5;124m\"\u001b[39m\u001b[38;5;124mSajid\u001b[39m\u001b[38;5;124m\"\u001b[39m:\n\u001b[0;32m      6\u001b[0m     \u001b[38;5;28mprint\u001b[39m(\u001b[38;5;124m\"\u001b[39m\u001b[38;5;124mWelcome to Karachi\u001b[39m\u001b[38;5;124m\"\u001b[39m)\n",
            "\u001b[1;31mValueError\u001b[0m: invalid literal for int() with base 10: 'jj'"
          ]
        }
      ],
      "source": [
        "Input_User_Name = input(\"Enter Your Name:\").lower()\n",
        "Input_City_Name = input(\"Enter Your City Name:\").lower()\n",
        "Input_Your_Age = int(input(\"Enter Your Age:\"))\n",
        "\n",
        "if Input_City_Name == \"Karachi\" and Input_Your_Age >= 38 and Input_User_Name == \"Sajid\":\n",
        "    print(\"Welcome to Karachi\")\n",
        "elif Input_City_Name == \"Lahore\" and Input_Your_Age <= 15 and Input_User_Name == \"Abdul Baari\":\n",
        "    print(\"Welcome to Lahore\")\n",
        "elif Input_City_Name == \"Multan\" and Input_Your_Age <= 15 and Input_User_Name == \"Minahil\":\n",
        "    print(\"Welcome to Multan\")\n",
        "elif Input_City_Name == \"Islamabad\" and Input_Your_Age <= 15 and Input_User_Name == \"Musfirah\":\n",
        "    print(\"Welcome to Islamabad\")\n",
        "else:\n",
        "    print(\"Something went wrong\")\n"
      ]
    },
    {
      "cell_type": "code",
      "execution_count": null,
      "metadata": {
        "id": "lKBBC5kDDshg"
      },
      "outputs": [],
      "source": [
        "import reportlab"
      ]
    },
    {
      "cell_type": "code",
      "execution_count": null,
      "metadata": {
        "id": "Qi9fxDRVDshh",
        "outputId": "f8e363a7-9192-4741-be8d-c9ed52d24e96"
      },
      "outputs": [
        {
          "name": "stdin",
          "output_type": "stream",
          "text": [
            "Enter the name:  sajid\n",
            "Enter the message:  hello\n"
          ]
        },
        {
          "name": "stdout",
          "output_type": "stream",
          "text": [
            "Card saved as card.pdf\n"
          ]
        }
      ],
      "source": [
        "from reportlab.lib.pagesizes import letter\n",
        "from reportlab.pdfgen import canvas\n",
        "\n",
        "def create_card(name, message, filename):\n",
        "    c = canvas.Canvas(filename, pagesize=letter)\n",
        "    width, height = letter\n",
        "\n",
        "    # Draw a rectangle for the card\n",
        "    c.rect(50, height - 150, width - 100, 100, fill=1)\n",
        "\n",
        "    # Add text to the card\n",
        "    c.setFont(\"Helvetica\", 24)\n",
        "    c.drawString(100, height - 100, f\"Name: {name}\")\n",
        "    c.setFont(\"Helvetica\", 16)\n",
        "    c.drawString(100, height - 130, message)\n",
        "\n",
        "    c.save()\n",
        "\n",
        "# Example usage\n",
        "name = input(\"Enter the name: \")\n",
        "message = input(\"Enter the message: \")\n",
        "filename = \"card.pdf\"\n",
        "create_card(name, message, filename)\n",
        "print(f\"Card saved as {filename}\")"
      ]
    },
    {
      "cell_type": "code",
      "execution_count": null,
      "metadata": {
        "id": "OCO0h6aFDshi"
      },
      "outputs": [],
      "source": []
    },
    {
      "cell_type": "code",
      "execution_count": null,
      "metadata": {
        "id": "Zf15ukxYDshi"
      },
      "outputs": [],
      "source": []
    },
    {
      "cell_type": "markdown",
      "source": [
        "# Preparing Caculator"
      ],
      "metadata": {
        "id": "oyKcpMzvDuQr"
      }
    },
    {
      "cell_type": "code",
      "source": [
        "a = float(input(\"Enter First Number:\"))\n",
        "b = float(input(\"Enter Second Number:\"))\n",
        "c = str(input(\"Apply Any Operator:\"))\n",
        "\n",
        "result = eval(f\"{a} {c} {b}\")\n",
        "print(result)"
      ],
      "metadata": {
        "colab": {
          "base_uri": "https://localhost:8080/"
        },
        "id": "UUw9TpoADznA",
        "outputId": "dd74cafc-e960-4b37-f19c-372a49b3f388"
      },
      "execution_count": 6,
      "outputs": [
        {
          "output_type": "stream",
          "name": "stdout",
          "text": [
            "Enter First Number:5\n",
            "Enter Second Number:5\n",
            "Apply Any Operator:*\n",
            "25.0\n"
          ]
        }
      ]
    },
    {
      "cell_type": "code",
      "source": [
        "a = 5\n",
        "b = 3\n",
        "print(a+b)\n",
        "print(b-a)\n",
        "print(a*b)"
      ],
      "metadata": {
        "colab": {
          "base_uri": "https://localhost:8080/"
        },
        "id": "Rj9LCFcHD-RS",
        "outputId": "0d966cdc-9cf9-4226-aef8-f3eba6f85734"
      },
      "execution_count": 10,
      "outputs": [
        {
          "output_type": "stream",
          "name": "stdout",
          "text": [
            "8\n",
            "-2\n",
            "15\n"
          ]
        }
      ]
    },
    {
      "cell_type": "code",
      "source": [
        "a = 5\n",
        "b = 3\n",
        "print(a+b)\n",
        "print(b-a)\n",
        "print(a*b)\n",
        "print(a/b)\n",
        "print(a%b)\n",
        "print(a//b)\n",
        "print(a**b)\n",
        "\n"
      ],
      "metadata": {
        "colab": {
          "base_uri": "https://localhost:8080/"
        },
        "id": "jOPlqturGPVY",
        "outputId": "45dcc54a-5038-49a0-a862-21c2b65d94db"
      },
      "execution_count": 11,
      "outputs": [
        {
          "output_type": "stream",
          "name": "stdout",
          "text": [
            "8\n",
            "-2\n",
            "15\n",
            "1.6666666666666667\n",
            "2\n",
            "1\n",
            "125\n"
          ]
        }
      ]
    },
    {
      "cell_type": "code",
      "source": [
        "# prompt: a = float(input(\"Enter First Number:\"))\n",
        "# b = float(input(\"Enter Second Number:\"))\n",
        "# c = str(input(\"Apply Any Operator:\"))\n",
        "# result = eval(f\"{a} {c} {b}\")\n",
        "# print(result)\n",
        "# I want results of every operator in single run with the help of if else statement\n",
        "\n",
        "a = float(input(\"Enter First Number:\"))\n",
        "b = float(input(\"Enter Second Number:\"))\n",
        "\n",
        "print(f\"{a} + {b} = {a + b}\")\n",
        "print(f\"{a} - {b} = {a - b}\")\n",
        "print(f\"{a} * {b} = {a * b}\")\n",
        "print(f\"{a} / {b} = {a / b}\")\n",
        "print(f\"{a} % {b} = {a % b}\")\n",
        "print(f\"{a} // {b} = {a // b}\")\n",
        "print(f\"{a} ** {b} = {a ** b}\")"
      ],
      "metadata": {
        "id": "VAnk__ASIJQS"
      },
      "execution_count": null,
      "outputs": []
    },
    {
      "cell_type": "code",
      "source": [
        "a = float(input(\"Enter First Number:\"))\n",
        "b = float(input(\"Enter Second Number:\"))\n",
        "\n",
        "print(f\"{a} + {b} = {a + b}\")\n",
        "print(f\"{a} - {b} = {a - b}\")\n",
        "print(f\"{a} * {b} = {a * b}\")\n",
        "print(f\"{a} / {b} = {a / b}\")\n",
        "print(f\"{a} % {b} = {a % b}\")\n",
        "print(f\"{a} // {b} = {a // b}\")\n",
        "print(f\"{a} ** {b} = {a ** b}\")"
      ],
      "metadata": {
        "colab": {
          "base_uri": "https://localhost:8080/"
        },
        "id": "vIXzTw--KO8b",
        "outputId": "0b56699f-d959-40df-fc10-50000da0f80a"
      },
      "execution_count": 12,
      "outputs": [
        {
          "output_type": "stream",
          "name": "stdout",
          "text": [
            "Enter First Number:5\n",
            "Enter Second Number:2\n",
            "5.0 + 2.0 = 7.0\n",
            "5.0 - 2.0 = 3.0\n",
            "5.0 * 2.0 = 10.0\n",
            "5.0 / 2.0 = 2.5\n",
            "5.0 % 2.0 = 1.0\n",
            "5.0 // 2.0 = 2.0\n",
            "5.0 ** 2.0 = 25.0\n"
          ]
        }
      ]
    },
    {
      "cell_type": "code",
      "source": [],
      "metadata": {
        "id": "dAyN2kTKKPhr"
      },
      "execution_count": null,
      "outputs": []
    }
  ],
  "metadata": {
    "colab": {
      "provenance": []
    },
    "kernelspec": {
      "display_name": "Python [conda env:base] *",
      "language": "python",
      "name": "conda-base-py"
    },
    "language_info": {
      "codemirror_mode": {
        "name": "ipython",
        "version": 3
      },
      "file_extension": ".py",
      "mimetype": "text/x-python",
      "name": "python",
      "nbconvert_exporter": "python",
      "pygments_lexer": "ipython3",
      "version": "3.11.5"
    }
  },
  "nbformat": 4,
  "nbformat_minor": 0
}