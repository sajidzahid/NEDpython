{
 "cells": [
  {
   "cell_type": "markdown",
   "metadata": {
    "id": "KAABLur8EM77"
   },
   "source": [
    "# if\n",
    "* if\n",
    "* if else\n",
    "* if elif else\n",
    "* nested if\n",
    "* short hand if\n",
    "* short hand if else"
   ]
  },
  {
   "cell_type": "code",
   "execution_count": 3,
   "metadata": {
    "colab": {
     "base_uri": "https://localhost:8080/"
    },
    "id": "g6FZ6nySD45U",
    "outputId": "d00aab40-78a9-49bc-d3d7-5f91c4bfdfd6"
   },
   "outputs": [
    {
     "name": "stdout",
     "output_type": "stream",
     "text": [
      "True\n",
      "True\n",
      "True\n"
     ]
    }
   ],
   "source": [
    "# logic\n",
    "print(5 == 5)\n",
    "print(5 == 5 and 6 == 6)\n",
    "print(5 == 5 or 6 == 6)"
   ]
  },
  {
   "cell_type": "markdown",
   "metadata": {
    "id": "P5WdvOMXFBii"
   },
   "source": [
    "```\n",
    "if logic:\n",
    "  True_block\n",
    "```"
   ]
  },
  {
   "cell_type": "code",
   "execution_count": 4,
   "metadata": {
    "colab": {
     "base_uri": "https://localhost:8080/"
    },
    "id": "f41SiNPGE50m",
    "outputId": "1c89f477-d840-43ac-a966-49b5e155348d"
   },
   "outputs": [
    {
     "name": "stdout",
     "output_type": "stream",
     "text": [
      "Start software code\n",
      "Line1\n",
      "Line2\n",
      "Line3\n",
      "End software code\n"
     ]
    }
   ],
   "source": [
    "print(\"Start software code\")\n",
    "print(\"Line1\") # run if logic True\n",
    "print(\"Line2\") # run if logic True\n",
    "print(\"Line3\") # run if logic True\n",
    "print(\"End software code\")"
   ]
  },
  {
   "cell_type": "code",
   "execution_count": 5,
   "metadata": {
    "colab": {
     "base_uri": "https://localhost:8080/"
    },
    "id": "bMb_T8IiEkGA",
    "outputId": "11a6e2e0-0292-4b22-a052-0ee888b39790"
   },
   "outputs": [
    {
     "name": "stdout",
     "output_type": "stream",
     "text": [
      "Start software code\n",
      "Line1\n",
      "Line2\n",
      "Line3\n",
      "End software code\n"
     ]
    }
   ],
   "source": [
    "print(\"Start software code\")\n",
    "\n",
    "if True:\n",
    "  print(\"Line1\") # run if logic True\n",
    "  print(\"Line2\") # run if logic True\n",
    "  print(\"Line3\") # run if logic True\n",
    "\n",
    "\n",
    "print(\"End software code\")"
   ]
  },
  {
   "cell_type": "code",
   "execution_count": 6,
   "metadata": {
    "colab": {
     "base_uri": "https://localhost:8080/"
    },
    "id": "IabWIN9BEXrW",
    "outputId": "08c44a34-c1cd-4679-a212-86686a2d51de"
   },
   "outputs": [
    {
     "name": "stdout",
     "output_type": "stream",
     "text": [
      "Start software code\n",
      "End software code\n"
     ]
    }
   ],
   "source": [
    "print(\"Start software code\")\n",
    "\n",
    "if False:\n",
    "  print(\"Line1\") # run if logic True\n",
    "  print(\"Line2\") # run if logic True\n",
    "  print(\"Line3\") # run if logic True\n",
    "\n",
    "\n",
    "print(\"End software code\")"
   ]
  },
  {
   "cell_type": "code",
   "execution_count": 8,
   "metadata": {
    "colab": {
     "base_uri": "https://localhost:8080/"
    },
    "id": "86lhy-aMG18s",
    "outputId": "76a1d9f4-3f02-439d-9832-01a646d5118f"
   },
   "outputs": [
    {
     "name": "stdout",
     "output_type": "stream",
     "text": [
      "Enter User Name: admin\n",
      "Enter your Password: admin\n",
      "Start software code\n",
      "Welcome admin\n",
      "End software code\n"
     ]
    }
   ],
   "source": [
    "input_user_name = input(\"Enter User Name: \")\n",
    "input_password = input(\"Enter your Password: \")\n",
    "\n",
    "print(\"Start software code\")\n",
    "\n",
    "\n",
    "if input_user_name == \"admin\" and input_password == \"admin\":\n",
    "  print(\"Welcome admin\")\n",
    "\n",
    "print(\"End software code\")"
   ]
  },
  {
   "cell_type": "code",
   "execution_count": 9,
   "metadata": {
    "colab": {
     "base_uri": "https://localhost:8080/"
    },
    "id": "1VA785trHVCJ",
    "outputId": "1078b182-e6e2-4c77-faa1-0156c422b698"
   },
   "outputs": [
    {
     "name": "stdout",
     "output_type": "stream",
     "text": [
      "Enter User Name: admin\n",
      "Enter your Password: 123\n",
      "===Start software code\n",
      "===End software code\n"
     ]
    }
   ],
   "source": [
    "input_user_name = input(\"Enter User Name: \")\n",
    "input_password = input(\"Enter your Password: \")\n",
    "\n",
    "print(\"===Start software code\")\n",
    "\n",
    "\n",
    "if input_user_name == \"admin\" and input_password == \"admin\":\n",
    "  print(\"Welcome admin\")\n",
    "\n",
    "print(\"===End software code\")"
   ]
  },
  {
   "cell_type": "markdown",
   "metadata": {
    "id": "Y0AIrLBNHnam"
   },
   "source": [
    "```\n",
    "if logic:\n",
    "  True_block\n",
    "else:\n",
    "  False_block\n",
    "```"
   ]
  },
  {
   "cell_type": "code",
   "execution_count": 10,
   "metadata": {
    "colab": {
     "base_uri": "https://localhost:8080/"
    },
    "id": "uoByDBCIHIc7",
    "outputId": "8df616f9-9487-4d13-ea7b-35e9059a1dea"
   },
   "outputs": [
    {
     "name": "stdout",
     "output_type": "stream",
     "text": [
      "Start software code\n",
      "Line1\n",
      "Line2\n",
      "Line3\n",
      "End software code\n"
     ]
    }
   ],
   "source": [
    "print(\"Start software code\")\n",
    "\n",
    "if True:\n",
    "  print(\"Line1\") # run if logic True\n",
    "  print(\"Line2\") # run if logic True\n",
    "  print(\"Line3\") # run if logic True\n",
    "else:\n",
    "  print(\"Line4\") # run if logic False\n",
    "  print(\"Line5\") # run if logic False\n",
    "  print(\"Line6\") # run if logic False\n",
    "\n",
    "\n",
    "print(\"End software code\")"
   ]
  },
  {
   "cell_type": "code",
   "execution_count": 11,
   "metadata": {
    "colab": {
     "base_uri": "https://localhost:8080/"
    },
    "id": "DLq6LpkaIFZW",
    "outputId": "134a92c7-83db-4dd3-c9c2-48e00d50bd88"
   },
   "outputs": [
    {
     "name": "stdout",
     "output_type": "stream",
     "text": [
      "Start software code\n",
      "Line4\n",
      "Line5\n",
      "Line6\n",
      "End software code\n"
     ]
    }
   ],
   "source": [
    "print(\"Start software code\")\n",
    "\n",
    "if False:\n",
    "  print(\"Line1\") # run if logic True\n",
    "  print(\"Line2\") # run if logic True\n",
    "  print(\"Line3\") # run if logic True\n",
    "else:\n",
    "  print(\"Line4\") # run if logic False\n",
    "  print(\"Line5\") # run if logic False\n",
    "  print(\"Line6\") # run if logic False\n",
    "\n",
    "\n",
    "print(\"End software code\")"
   ]
  },
  {
   "cell_type": "code",
   "execution_count": 12,
   "metadata": {
    "colab": {
     "base_uri": "https://localhost:8080/"
    },
    "id": "GhvHZPvuIlCz",
    "outputId": "7d260ce9-af7b-4283-98c7-94899a52fa36"
   },
   "outputs": [
    {
     "name": "stdout",
     "output_type": "stream",
     "text": [
      "Start software code\n",
      "Enter User Name: admin\n",
      "Enter your Password: admin\n",
      "Welcome User!\n",
      "End software code\n"
     ]
    }
   ],
   "source": [
    "print(\"Start software code\")\n",
    "\n",
    "input_user_name = input(\"Enter User Name: \")\n",
    "input_password = input(\"Enter your Password: \")\n",
    "\n",
    "if input_user_name == \"admin\" and input_password == 'admin':\n",
    "  print(\"Welcome User!\")\n",
    "else:\n",
    "  print(\"Invalid User Name or Password\")\n",
    "\n",
    "\n",
    "print(\"End software code\")"
   ]
  },
  {
   "cell_type": "code",
   "execution_count": 13,
   "metadata": {
    "colab": {
     "base_uri": "https://localhost:8080/"
    },
    "id": "53HixSsbI7Bm",
    "outputId": "4cd6e0c1-ce90-482d-c967-c93369079b38"
   },
   "outputs": [
    {
     "name": "stdout",
     "output_type": "stream",
     "text": [
      "Start software code\n",
      "Enter User Name: admin\n",
      "Enter your Password: 126\n",
      "Invalid User Name or Password\n",
      "End software code\n"
     ]
    }
   ],
   "source": [
    "print(\"Start software code\")\n",
    "\n",
    "input_user_name = input(\"Enter User Name: \")\n",
    "input_password = input(\"Enter your Password: \")\n",
    "\n",
    "if input_user_name == \"admin\" and input_password == 'admin':\n",
    "  print(\"Welcome User!\")\n",
    "else:\n",
    "  print(\"Invalid User Name or Password\")\n",
    "\n",
    "\n",
    "print(\"End software code\")"
   ]
  },
  {
   "cell_type": "markdown",
   "metadata": {
    "id": "T_jVeNKMJvha"
   },
   "source": [
    "# Tasks\n",
    "input:\n",
    "* name\n",
    "* city\n",
    "* age (convert into int)\n",
    "\n",
    "\n",
    "ouput:\n",
    "condition: if city==\"karachi\" and age >= 18\n",
    "  Welcome {name} to NED!\n"
   ]
  },
  {
   "cell_type": "code",
   "execution_count": 14,
   "metadata": {
    "colab": {
     "base_uri": "https://localhost:8080/"
    },
    "id": "lhN4Ns1RKYIQ",
    "outputId": "a9df976b-150e-4fbe-8d99-1cc02b91c99b"
   },
   "outputs": [
    {
     "name": "stdout",
     "output_type": "stream",
     "text": [
      "Enter your name: Qasim\n",
      "Enter your city: karachi\n",
      "Enter your age: 30\n",
      "Welcome Qasim to NED!\n"
     ]
    }
   ],
   "source": [
    "# prompt: # Tasks\n",
    "# input:\n",
    "# * name\n",
    "# * city\n",
    "# * age (convert into int)\n",
    "# ouput:\n",
    "# condition: if city==\"karachi\" and age >= 18\n",
    "#   Welcome {name} to NED!\n",
    "\n",
    "name = input(\"Enter your name: \")\n",
    "city = input(\"Enter your city: \")\n",
    "age = int(input(\"Enter your age: \"))\n",
    "\n",
    "if city == \"karachi\" and age >= 18:\n",
    "  print(f\"Welcome {name} to NED!\")"
   ]
  },
  {
   "cell_type": "code",
   "execution_count": 15,
   "metadata": {
    "colab": {
     "base_uri": "https://localhost:8080/"
    },
    "id": "OCtsFIQcKsAL",
    "outputId": "474ba065-4915-41c4-8bb6-f06eded93c31"
   },
   "outputs": [
    {
     "name": "stdout",
     "output_type": "stream",
     "text": [
      "Enter your Name: Qasim\n",
      "Enter your City: karachi\n",
      "Enter your Age: 30\n",
      "Welcome Qasim to NED!\n"
     ]
    }
   ],
   "source": [
    "name = input(\"Enter your Name: \")\n",
    "city = input(\"Enter your City: \")\n",
    "age = int(input(\"Enter your Age: \"))\n",
    "\n",
    "if city == \"karachi\" and age >= 18:\n",
    "  print(f\"Welcome {name} to NED!\")\n",
    "\n",
    "else:\n",
    "  print(\"You are not welcome!\")"
   ]
  },
  {
   "cell_type": "markdown",
   "metadata": {
    "id": "wjNyA-DELMzy"
   },
   "source": [
    "# if chain (always run only one block)\n",
    "* if elif else"
   ]
  },
  {
   "cell_type": "code",
   "execution_count": 20,
   "metadata": {
    "colab": {
     "base_uri": "https://localhost:8080/"
    },
    "id": "2tN5NpkQLZJj",
    "outputId": "bc2ecda2-32fa-4146-ad48-14fb3e34c8ac"
   },
   "outputs": [
    {
     "name": "stdout",
     "output_type": "stream",
     "text": [
      "A\n"
     ]
    }
   ],
   "source": [
    "percentage = 75\n",
    "\n",
    "if percentage >= 80:\n",
    "  print(\"A+\")\n",
    "elif percentage >= 70:\n",
    "  print(\"A\")\n",
    "elif percentage >= 60:\n",
    "  print(\"B\")\n",
    "else:\n",
    "  print(\"Fail\")"
   ]
  },
  {
   "cell_type": "code",
   "execution_count": null,
   "metadata": {
    "id": "legggwAuLZQH"
   },
   "outputs": [],
   "source": [
    "percentage = 75\n",
    "\n",
    "if False:\n",
    "  print(\"A+\")\n",
    "elif True:\n",
    "  print(\"A\")\n",
    "elif False:\n",
    "  print(\"B\")\n",
    "else:\n",
    "  print(\"Fail\")"
   ]
  },
  {
   "cell_type": "code",
   "execution_count": 2,
   "metadata": {
    "id": "gqbzLLHqLZTA"
   },
   "outputs": [
    {
     "name": "stdout",
     "output_type": "stream",
     "text": [
      "A\n"
     ]
    }
   ],
   "source": [
    "percentage = 75\n",
    "\n",
    "if percentage >= 80:\n",
    "  print(\"A+\")\n",
    "elif percentage >= 70:\n",
    "  print(\"A\")\n",
    "elif percentage >= 60:\n",
    "  print(\"B\")\n",
    "elif percentage >= 50:\n",
    "  print(\"C\")\n",
    "elif percentage >= 40:\n",
    "  print(\"D\")\n",
    "elif percentage >= 33:\n",
    "  print(\"E\")\n",
    "else:\n",
    "  print(\"Fail\")"
   ]
  },
  {
   "cell_type": "code",
   "execution_count": 21,
   "metadata": {
    "colab": {
     "base_uri": "https://localhost:8080/"
    },
    "id": "WMRcjU8JLZVy",
    "outputId": "fd6a3966-ff9f-4ea8-e0f6-3fee3c46a32b"
   },
   "outputs": [
    {
     "name": "stdout",
     "output_type": "stream",
     "text": [
      "Fail\n"
     ]
    }
   ],
   "source": [
    "percentage = 90\n",
    "\n",
    "if percentage >= 0:\n",
    "  print(\"Fail\")\n",
    "elif percentage >= 33:\n",
    "  print(\"E\")\n",
    "elif percentage >= 40:\n",
    "  print(\"D\")\n",
    "elif percentage >= 50:\n",
    "  print(\"C\")\n",
    "elif percentage >= 60:\n",
    "  print(\"B\")\n",
    "elif percentage >= 70:\n",
    "  print(\"A\")\n",
    "elif percentage >= 80:\n",
    "  print(\"A+\")\n"
   ]
  },
  {
   "cell_type": "code",
   "execution_count": null,
   "metadata": {
    "id": "k2en3ceZNWIn"
   },
   "outputs": [],
   "source": [
    "percentage = 90\n",
    "\n",
    "if True:\n",
    "  print(\"Fail\")\n",
    "elif 90 >= 33:\n",
    "  print(\"E\")\n",
    "elif 90 >= 40:\n",
    "  print(\"D\")\n",
    "elif 90 >= 50:\n",
    "  print(\"C\")\n",
    "elif 90 >= 60:\n",
    "  print(\"B\")\n",
    "elif 90 >= 70:\n",
    "  print(\"A\")\n",
    "elif 90 >= 80:\n",
    "  print(\"A+\")\n"
   ]
  },
  {
   "cell_type": "code",
   "execution_count": 22,
   "metadata": {
    "colab": {
     "base_uri": "https://localhost:8080/"
    },
    "id": "SAEH7cGcNmJq",
    "outputId": "7702b073-9a24-4ad5-bbf4-d703f3267dc9"
   },
   "outputs": [
    {
     "name": "stdout",
     "output_type": "stream",
     "text": [
      "A+\n"
     ]
    }
   ],
   "source": [
    "percentage = 90\n",
    "\n",
    "if percentage >= 0 and percentage < 33:\n",
    "  print(\"Fail\")\n",
    "elif percentage >= 33 and percentage < 40:\n",
    "  print(\"E\")\n",
    "elif percentage >= 40 and percentage < 50:\n",
    "  print(\"D\")\n",
    "elif percentage >= 50 and percentage < 60:\n",
    "  print(\"C\")\n",
    "elif percentage >= 60 and percentage < 70:\n",
    "  print(\"B\")\n",
    "elif percentage >= 70 and percentage < 80:\n",
    "  print(\"A\")\n",
    "elif percentage >= 80 and percentage <=100:\n",
    "  print(\"A+\")\n"
   ]
  },
  {
   "cell_type": "markdown",
   "metadata": {
    "id": "owOzb0vSOeZs"
   },
   "source": [
    "# * nested if\n",
    "```\n",
    "if logic1:\n",
    "  if child_logic1:\n",
    "    True Block\n",
    "else:\n",
    "  else_block\n",
    "```"
   ]
  },
  {
   "cell_type": "code",
   "execution_count": 23,
   "metadata": {
    "colab": {
     "base_uri": "https://localhost:8080/"
    },
    "id": "EHUsZuYILZY0",
    "outputId": "52932367-25c0-480d-a4dc-12b73063f9bf"
   },
   "outputs": [
    {
     "name": "stdout",
     "output_type": "stream",
     "text": [
      "A\n"
     ]
    }
   ],
   "source": [
    "program = \"pgd data science\"\n",
    "percentage = 75\n",
    "\n",
    "if program == \"pgd data science\":\n",
    "  if percentage >= 80: # nested\n",
    "    print(\"A+\")\n",
    "  elif percentage >= 70: # nested\n",
    "    print(\"A\")\n",
    "  elif percentage >= 60: # nested\n",
    "    print(\"B\")\n",
    "  else: # nested\n",
    "    print(\"Fail\")\n",
    "else:\n",
    "  print(\"Not valid student.\")"
   ]
  },
  {
   "cell_type": "code",
   "execution_count": 26,
   "metadata": {
    "colab": {
     "base_uri": "https://localhost:8080/"
    },
    "id": "Y0dd8OHWPcY9",
    "outputId": "c1f1cd18-9ded-4371-bdee-363e142ad988"
   },
   "outputs": [
    {
     "name": "stdout",
     "output_type": "stream",
     "text": [
      "Enter your program name: PgD DaTa Science\n",
      "A\n"
     ]
    }
   ],
   "source": [
    "program = input(\"Enter your program name: \").lower()\n",
    "percentage = 75\n",
    "\n",
    "if program == \"pgd data science\":\n",
    "  if percentage >= 80: # nested\n",
    "    print(\"A+\")\n",
    "  elif percentage >= 70: # nested\n",
    "    print(\"A\")\n",
    "  elif percentage >= 60: # nested\n",
    "    print(\"B\")\n",
    "  else: # nested\n",
    "    print(\"Fail\")\n",
    "else:\n",
    "  print(\"Not valid student.\")"
   ]
  },
  {
   "cell_type": "code",
   "execution_count": 29,
   "metadata": {
    "colab": {
     "base_uri": "https://localhost:8080/"
    },
    "id": "ot0LuixgROmP",
    "outputId": "f91d978d-f24f-4999-bc35-5e868336f7ac"
   },
   "outputs": [
    {
     "name": "stdout",
     "output_type": "stream",
     "text": [
      "PakIstaN zind abad\n",
      "pakistan zind abad\n",
      "PAKISTAN ZIND ABAD\n"
     ]
    }
   ],
   "source": [
    "data = \"PakIstaN zind abad\"\n",
    "\n",
    "print(data)\n",
    "print(data.lower())\n",
    "print(data.upper())"
   ]
  },
  {
   "cell_type": "markdown",
   "metadata": {
    "id": "J21RffHFK616"
   },
   "source": [
    "# short hand (comprehensive style) if\n",
    "* short hand if else\n",
    "\n"
   ]
  },
  {
   "cell_type": "markdown",
   "metadata": {
    "id": "ChuLbmTeSQ9i"
   },
   "source": [
    "```\n",
    "if logic:\n",
    "  true_block\n",
    "else:\n",
    "  false_block\n",
    "```\n",
    "\n",
    "convert into short hand\n",
    "\n",
    "```\n",
    "true_block if logic else false_block\n",
    "```"
   ]
  },
  {
   "cell_type": "code",
   "execution_count": 31,
   "metadata": {
    "colab": {
     "base_uri": "https://localhost:8080/"
    },
    "id": "NFYFltcASBUz",
    "outputId": "648ca47e-1075-4106-97ec-717abe7e2e4e"
   },
   "outputs": [
    {
     "name": "stdout",
     "output_type": "stream",
     "text": [
      "Pakistan zinda bad\n"
     ]
    }
   ],
   "source": [
    "print(\"Pakistan zinda bad\") if True else print(\"USA\")"
   ]
  },
  {
   "cell_type": "code",
   "execution_count": 32,
   "metadata": {
    "colab": {
     "base_uri": "https://localhost:8080/"
    },
    "id": "MVuExtqcS3xk",
    "outputId": "3e29e90d-6739-4cca-d110-0a89714124df"
   },
   "outputs": [
    {
     "name": "stdout",
     "output_type": "stream",
     "text": [
      "USA\n"
     ]
    }
   ],
   "source": [
    "print(\"Pakistan zinda bad\") if False else print(\"USA\")"
   ]
  },
  {
   "cell_type": "code",
   "execution_count": 34,
   "metadata": {
    "colab": {
     "base_uri": "https://localhost:8080/"
    },
    "id": "w6Mw0GrPSnxi",
    "outputId": "980734dd-73a0-464a-9843-6503aa6bf07f"
   },
   "outputs": [
    {
     "name": "stdout",
     "output_type": "stream",
     "text": [
      "Pakistan zinda bad\n"
     ]
    }
   ],
   "source": [
    "# prompt: write short hand if example only for true block, remove else block\n",
    "\n",
    "print(\"Pakistan zinda bad\") if True else None"
   ]
  },
  {
   "cell_type": "code",
   "execution_count": 35,
   "metadata": {
    "colab": {
     "base_uri": "https://localhost:8080/"
    },
    "id": "NGqL7CEvUsEX",
    "outputId": "6bf34e8a-2eb1-41f3-b80e-fa9cdbf33331"
   },
   "outputs": [
    {
     "name": "stdout",
     "output_type": "stream",
     "text": [
      "name: Qasim\n",
      "father_name: Aslam\n",
      "Age: 30\n",
      "Do you want to add new record? (y/n)y\n",
      "name: Asif\n",
      "father_name: Abid\n",
      "Age: 35\n",
      "Do you want to add new record? (y/n)n\n"
     ]
    },
    {
     "data": {
      "text/plain": [
       "[{'name': 'Qasim', 'father_name': 'Aslam', 'age': 30},\n",
       " {'name': 'Asif', 'father_name': 'Abid', 'age': 35}]"
      ]
     },
     "execution_count": 35,
     "metadata": {},
     "output_type": "execute_result"
    }
   ],
   "source": [
    "students = []\n",
    "while True:\n",
    "  data = {\n",
    "      \"name\": input(\"name: \"),\n",
    "      'father_name' : input(\"father_name: \"),\n",
    "      'age' : int(input(\"Age: \"))\n",
    "\n",
    "  }\n",
    "  students.append(data)\n",
    "\n",
    "  message = input(\"Do you want to add new record? (y/n)\")\n",
    "  if message != 'y':\n",
    "    break\n",
    "students"
   ]
  },
  {
   "cell_type": "code",
   "execution_count": null,
   "metadata": {
    "id": "Q7uJcUKGVYxB"
   },
   "outputs": [],
   "source": []
  }
 ],
 "metadata": {
  "colab": {
   "provenance": []
  },
  "kernelspec": {
   "display_name": "Python [conda env:base] *",
   "language": "python",
   "name": "conda-base-py"
  },
  "language_info": {
   "codemirror_mode": {
    "name": "ipython",
    "version": 3
   },
   "file_extension": ".py",
   "mimetype": "text/x-python",
   "name": "python",
   "nbconvert_exporter": "python",
   "pygments_lexer": "ipython3",
   "version": "3.11.5"
  }
 },
 "nbformat": 4,
 "nbformat_minor": 4
}
