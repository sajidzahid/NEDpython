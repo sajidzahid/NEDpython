{
 "cells": [
  {
   "cell_type": "markdown",
   "id": "39a5d516-cfa2-4907-898d-a0d94f4fd5eb",
   "metadata": {},
   "source": [
    "# Make a Calculator Using Conditional Statements."
   ]
  },
  {
   "cell_type": "code",
   "execution_count": 19,
   "id": "1dca5743-a447-41a8-89ed-b105244a392a",
   "metadata": {},
   "outputs": [
    {
     "ename": "SyntaxError",
     "evalue": "unterminated string literal (detected at line 11) (758121836.py, line 11)",
     "output_type": "error",
     "traceback": [
      "\u001b[1;36m  Cell \u001b[1;32mIn[19], line 11\u001b[1;36m\u001b[0m\n\u001b[1;33m    print(\"result: , cal_1/cal_2)\u001b[0m\n\u001b[1;37m          ^\u001b[0m\n\u001b[1;31mSyntaxError\u001b[0m\u001b[1;31m:\u001b[0m unterminated string literal (detected at line 11)\n"
     ]
    }
   ],
   "source": [
    "cal_1 = int(input (\"Enter any Number:\"))\n",
    "cal_2 = int(input (\"Enter any Number:\"))\n",
    "opr_3 = str(input (\"Enter any operator:\"))\n",
    "\n",
    "if operator == \"+\":\n",
    "    print(\"result: \", cal_1+cal_2)\n",
    "elif opr_3 == :\"-\":\n",
    "    print(\"result: \", cal_1-cal_2)\n",
    "elif opr_3 == :\"/\":\n",
    "    if cal_2 == 0:\n",
    "    print(\"result: , cal_1/cal_2)\n",
    "    else: \n",
    "          print(\"result: \", cal_1/cal_2)\n",
    "elif opr_3 == :\"*\":\n",
    "    print(\"result: \", cal_1*cal_2)\n",
    "else: \n",
    "print(\"Your Operator is not Supported\")\n",
    "\n",
    "    "
   ]
  },
  {
   "cell_type": "code",
   "execution_count": null,
   "id": "a238d73b-aad3-4cdb-9c48-f33a442d1b2a",
   "metadata": {},
   "outputs": [],
   "source": [
    " # import math # Whole library Imported.\n",
    "# import math as mt # Develper can give my short name of any class as (mt) alias.\n",
    "# from math import sqrt # "
   ]
  },
  {
   "cell_type": "code",
   "execution_count": 5,
   "id": "1b750a72-52ef-4542-940f-e32aa9d13dfa",
   "metadata": {},
   "outputs": [],
   "source": [
    "import math"
   ]
  },
  {
   "cell_type": "markdown",
   "id": "1b97e5ce-136b-4a42-9ea6-f4143468baed",
   "metadata": {},
   "source": []
  }
 ],
 "metadata": {
  "kernelspec": {
   "display_name": "Python [conda env:base] *",
   "language": "python",
   "name": "conda-base-py"
  },
  "language_info": {
   "codemirror_mode": {
    "name": "ipython",
    "version": 3
   },
   "file_extension": ".py",
   "mimetype": "text/x-python",
   "name": "python",
   "nbconvert_exporter": "python",
   "pygments_lexer": "ipython3",
   "version": "3.11.5"
  }
 },
 "nbformat": 4,
 "nbformat_minor": 5
}
