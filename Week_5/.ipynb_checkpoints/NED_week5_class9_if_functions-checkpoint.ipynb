{
 "cells": [
  {
   "cell_type": "markdown",
   "metadata": {
    "id": "aS9OO4hODPkj"
   },
   "source": [
    "# If, Else Condition"
   ]
  },
  {
   "cell_type": "code",
   "execution_count": null,
   "metadata": {
    "colab": {
     "base_uri": "https://localhost:8080/"
    },
    "id": "luQNH8BGDVJp",
    "outputId": "f075133d-0697-47b1-d0a6-bfac70e160ca"
   },
   "outputs": [
    {
     "name": "stdout",
     "output_type": "stream",
     "text": [
      "Enter Your Name:Sajid\n",
      "Enter Your City NameKarachi\n",
      "Enter Your Age39\n",
      "Your Name is: Sajid\n",
      "Your City Name is: Karachi\n",
      "Your Age is: 39\n"
     ]
    }
   ],
   "source": [
    "Input_User_Name = input(\"Enter Your Name:\")\n",
    "Input_City_Name = input(\"Enter Your City Name\")\n",
    "Input_Your_Age = input(\"Enter Your Age\")\n",
    "print(\"Your Name is:\",Input_User_Name)\n",
    "print(\"Your City Name is:\",Input_City_Name)\n",
    "print(\"Your Age is:\",Input_Your_Age)"
   ]
  },
  {
   "cell_type": "code",
   "execution_count": 4,
   "metadata": {
    "colab": {
     "base_uri": "https://localhost:8080/",
     "height": 106
    },
    "id": "IaSwlptDI6Y3",
    "outputId": "a9706c3c-640a-4b28-f339-6d7ab81c1d0b"
   },
   "outputs": [
    {
     "ename": "SyntaxError",
     "evalue": "invalid syntax. Maybe you meant '==' or ':=' instead of '='? (<ipython-input-4-5cd952b54021>, line 5)",
     "output_type": "error",
     "traceback": [
      "\u001b[0;36m  File \u001b[0;32m\"<ipython-input-4-5cd952b54021>\"\u001b[0;36m, line \u001b[0;32m5\u001b[0m\n\u001b[0;31m    if Input_City_Name = \"Karachi\" and >=38 and \"Sajid\":\u001b[0m\n\u001b[0m       ^\u001b[0m\n\u001b[0;31mSyntaxError\u001b[0m\u001b[0;31m:\u001b[0m invalid syntax. Maybe you meant '==' or ':=' instead of '='?\n"
     ]
    }
   ],
   "source": [
    "Input_User_Name = input(\"Enter Your Name:\")\n",
    "Input_City_Name = input(\"Enter Your City Name\")\n",
    "Input_Your_Age = int(input(\"Enter Your Age\"))\n",
    "\n",
    "if Input_City_Name = \"Karachi\" and >=38 and \"Sajid\":\n",
    "    print(f\"Welcome to Karachi\")\n",
    "else:\n",
    "  Print(f\"Any thing goes worng\")\n",
    "\n",
    "\n",
    "    print(\"Your Name is:\",Input_User_Name)\n",
    "    print(\"Your City Name is:\",Input_City_Name)\n",
    "    print(\"Your Age is:\",Input_Your_Age)"
   ]
  },
  {
   "cell_type": "code",
   "execution_count": null,
   "metadata": {
    "id": "_NqWaXynJiEl"
   },
   "outputs": [],
   "source": [
    "# prompt: Input_User_Name = input(\"Enter Your Name:\")\n",
    "# Input_City_Name = input(\"Enter Your City Name\")\n",
    "# Input_Your_Age = int(input(\"Enter Your Age\"))\n",
    "# if Input_City_Name = \"Karachi\" and >=38 and \"Sajid\":\n",
    "#     print(f\"Welcome to Karachi\")\n",
    "# else:\n",
    "#   Print(f\"Any thing goes worng\")\n",
    "#     print(\"Your Name is:\",Input_User_Name)\n",
    "#     print(\"Your City Name is:\",Input_City_Name)\n",
    "#     print(\"Your Age is:\",Input_Your_Age)\n",
    "\n",
    "# # If, Else Condition\n",
    "Input_User_Name = input(\"Enter Your Name:\")\n",
    "Input_City_Name = input(\"Enter Your City Name\")\n",
    "Input_Your_Age = input(\"Enter Your Age\")\n",
    "print(\"Your Name is:\",Input_User_Name)\n",
    "print(\"Your City Name is:\",Input_City_Name)\n",
    "print(\"Your Age is:\",Input_Your_Age)\n",
    "Input_User_Name = input(\"Enter Your Name:\")\n",
    "Input_City_Name = input(\"Enter Your City Name\")\n",
    "Input_Your_Age = int(input(\"Enter Your Age\"))\n",
    "\n",
    "if Input_City_Name == \"Karachi\" and Input_Your_Age >= 38 and Input_User_Name == \"Sajid\":\n",
    "    print(f\"Welcome to Karachi\")\n",
    "else:\n",
    "    print(f\"Something went wrong\") #Fixed typo here: Print -> print\n",
    "    print(\"Your Name is:\",Input_User_Name)\n",
    "    print(\"Your City Name is:\",Input_City_Name)\n",
    "    print(\"Your Age is:\",Input_Your_Age)"
   ]
  },
  {
   "cell_type": "code",
   "execution_count": 46,
   "metadata": {
    "colab": {
     "base_uri": "https://localhost:8080/"
    },
    "id": "8f561EOASoRf",
    "outputId": "ea750885-d4af-4105-c784-9392c46767bd"
   },
   "outputs": [
    {
     "ename": "IndentationError",
     "evalue": "expected an indented block after 'if' statement on line 5 (1489753022.py, line 6)",
     "output_type": "error",
     "traceback": [
      "\u001b[1;36m  Cell \u001b[1;32mIn[46], line 6\u001b[1;36m\u001b[0m\n\u001b[1;33m    elif\u001b[0m\n\u001b[1;37m    ^\u001b[0m\n\u001b[1;31mIndentationError\u001b[0m\u001b[1;31m:\u001b[0m expected an indented block after 'if' statement on line 5\n"
     ]
    }
   ],
   "source": [
    "Input_User_Name = input(\"Enter Your Name:\")\n",
    "Input_City_Name = input(\"Enter Your City Name:\")\n",
    "Input_Your_Age = int(input(\"Enter Your Age:\"))\n",
    "\n",
    "if Input_City_Name == \"Karachi\" and Input_Your_Age >= 38 and Input_User_Name == \"Sajid\":\n",
    "elif\n",
    "    print(f\"Welcome to Karachi\")\n",
    "else:\n",
    "    print(f\"Something went wrong\") #Fixed typo here: Print -> print\n",
    "    "
   ]
  },
  {
   "cell_type": "code",
   "execution_count": 48,
   "metadata": {
    "id": "U-p5DxvjSo70"
   },
   "outputs": [
    {
     "name": "stdout",
     "output_type": "stream",
     "text": [
      "Your Name is: sajid\n",
      "Your City Name is: karachi\n",
      "Your Age is: 38\n"
     ]
    },
    {
     "name": "stdin",
     "output_type": "stream",
     "text": [
      "Enter Your Name: kkk\n",
      "Enter Your City Name kki\n",
      "Enter Your Age 88\n"
     ]
    }
   ],
   "source": [
    "print(\"Your Name is:\",Input_User_Name)\n",
    "print(\"Your City Name is:\",Input_City_Name)\n",
    "print(\"Your Age is:\",Input_Your_Age)\n",
    "Input_User_Name = input(\"Enter Your Name:\")\n",
    "Input_City_Name = input(\"Enter Your City Name\")\n",
    "Input_Your_Age = int(input(\"Enter Your Age\"))\n"
   ]
  },
  {
   "cell_type": "code",
   "execution_count": 42,
   "metadata": {},
   "outputs": [
    {
     "name": "stdin",
     "output_type": "stream",
     "text": [
      "Enter Your Name: Sajid\n",
      "Enter Your City Name: Karachi\n",
      "Enter Your Age: 38\n"
     ]
    }
   ],
   "source": [
    "Input_User_Name = input(\"Enter Your Name:\").lower()\n",
    "Input_City_Name = input(\"Enter Your City Name:\").lower()\n",
    "Input_Your_Age = int(input(\"Enter Your Age:\"))\n",
    "\n",
    "if Input_City_Name == \"Karachi\" and Input_Your_Age >= 38 and Input_User_Name == \"Sajid\":\n",
    "    print(\"Welcome to Karachi\")\n",
    "elif Input_City_Name == \"Lahore\" and Input_Your_Age <= 15 and Input_User_Name == \"Abdul Baari\":\n",
    "    print(\"Welcome to Lahore\")\n",
    "elif Input_City_Name == \"Multan\" and Input_Your_Age <= 15 and Input_User_Name == \"Minahil\":\n",
    "    print(\"Welcome to Multan\")\n",
    "elif Input_City_Name == \"Islamabad\" and Input_Your_Age <= 15 and Input_User_Name == \"Musfirah\":\n",
    "    print(\"Welcome to Islamabad\")\n",
    "else:\n",
    "    print(\"Something went wrong\")\n"
   ]
  },
  {
   "cell_type": "code",
   "execution_count": null,
   "metadata": {},
   "outputs": [],
   "source": []
  }
 ],
 "metadata": {
  "colab": {
   "provenance": []
  },
  "kernelspec": {
   "display_name": "Python [conda env:base] *",
   "language": "python",
   "name": "conda-base-py"
  },
  "language_info": {
   "codemirror_mode": {
    "name": "ipython",
    "version": 3
   },
   "file_extension": ".py",
   "mimetype": "text/x-python",
   "name": "python",
   "nbconvert_exporter": "python",
   "pygments_lexer": "ipython3",
   "version": "3.11.5"
  }
 },
 "nbformat": 4,
 "nbformat_minor": 4
}
