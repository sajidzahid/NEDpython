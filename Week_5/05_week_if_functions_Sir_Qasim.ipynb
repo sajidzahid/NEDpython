{
  "nbformat": 4,
  "nbformat_minor": 0,
  "metadata": {
    "colab": {
      "provenance": []
    },
    "kernelspec": {
      "name": "python3",
      "display_name": "Python 3"
    },
    "language_info": {
      "name": "python"
    }
  },
  "cells": [
    {
      "cell_type": "markdown",
      "source": [
        "# if\n",
        "* if\n",
        "* if else\n",
        "* if elif else\n",
        "* nested if\n",
        "* short hand if\n",
        "* short hand if else"
      ],
      "metadata": {
        "id": "KAABLur8EM77"
      }
    },
    {
      "cell_type": "code",
      "execution_count": 3,
      "metadata": {
        "colab": {
          "base_uri": "https://localhost:8080/"
        },
        "id": "g6FZ6nySD45U",
        "outputId": "d00aab40-78a9-49bc-d3d7-5f91c4bfdfd6"
      },
      "outputs": [
        {
          "output_type": "stream",
          "name": "stdout",
          "text": [
            "True\n",
            "True\n",
            "True\n"
          ]
        }
      ],
      "source": [
        "# logic\n",
        "print(5 == 5)\n",
        "print(5 == 5 and 6 == 6)\n",
        "print(5 == 5 or 6 == 6)"
      ]
    },
    {
      "cell_type": "markdown",
      "source": [
        "```\n",
        "if logic:\n",
        "  True_block\n",
        "```"
      ],
      "metadata": {
        "id": "P5WdvOMXFBii"
      }
    },
    {
      "cell_type": "code",
      "source": [
        "print(\"Start software code\")\n",
        "print(\"Line1\") # run if logic True\n",
        "print(\"Line2\") # run if logic True\n",
        "print(\"Line3\") # run if logic True\n",
        "print(\"End software code\")"
      ],
      "metadata": {
        "colab": {
          "base_uri": "https://localhost:8080/"
        },
        "id": "f41SiNPGE50m",
        "outputId": "1c89f477-d840-43ac-a966-49b5e155348d"
      },
      "execution_count": 4,
      "outputs": [
        {
          "output_type": "stream",
          "name": "stdout",
          "text": [
            "Start software code\n",
            "Line1\n",
            "Line2\n",
            "Line3\n",
            "End software code\n"
          ]
        }
      ]
    },
    {
      "cell_type": "code",
      "source": [
        "print(\"Start software code\")\n",
        "\n",
        "if True:\n",
        "  print(\"Line1\") # run if logic True\n",
        "  print(\"Line2\") # run if logic True\n",
        "  print(\"Line3\") # run if logic True\n",
        "\n",
        "\n",
        "print(\"End software code\")"
      ],
      "metadata": {
        "colab": {
          "base_uri": "https://localhost:8080/"
        },
        "id": "bMb_T8IiEkGA",
        "outputId": "11a6e2e0-0292-4b22-a052-0ee888b39790"
      },
      "execution_count": 5,
      "outputs": [
        {
          "output_type": "stream",
          "name": "stdout",
          "text": [
            "Start software code\n",
            "Line1\n",
            "Line2\n",
            "Line3\n",
            "End software code\n"
          ]
        }
      ]
    },
    {
      "cell_type": "code",
      "source": [
        "print(\"Start software code\")\n",
        "\n",
        "if False:\n",
        "  print(\"Line1\") # run if logic True\n",
        "  print(\"Line2\") # run if logic True\n",
        "  print(\"Line3\") # run if logic True\n",
        "\n",
        "\n",
        "print(\"End software code\")"
      ],
      "metadata": {
        "colab": {
          "base_uri": "https://localhost:8080/"
        },
        "id": "IabWIN9BEXrW",
        "outputId": "08c44a34-c1cd-4679-a212-86686a2d51de"
      },
      "execution_count": 6,
      "outputs": [
        {
          "output_type": "stream",
          "name": "stdout",
          "text": [
            "Start software code\n",
            "End software code\n"
          ]
        }
      ]
    },
    {
      "cell_type": "code",
      "source": [
        "input_user_name = input(\"Enter User Name: \")\n",
        "input_password = input(\"Enter your Password: \")\n",
        "\n",
        "print(\"Start software code\")\n",
        "\n",
        "\n",
        "if input_user_name == \"admin\" and input_password == \"admin\":\n",
        "  print(\"Welcome admin\")\n",
        "\n",
        "print(\"End software code\")"
      ],
      "metadata": {
        "colab": {
          "base_uri": "https://localhost:8080/"
        },
        "id": "86lhy-aMG18s",
        "outputId": "76a1d9f4-3f02-439d-9832-01a646d5118f"
      },
      "execution_count": 8,
      "outputs": [
        {
          "output_type": "stream",
          "name": "stdout",
          "text": [
            "Enter User Name: admin\n",
            "Enter your Password: admin\n",
            "Start software code\n",
            "Welcome admin\n",
            "End software code\n"
          ]
        }
      ]
    },
    {
      "cell_type": "code",
      "source": [
        "input_user_name = input(\"Enter User Name: \")\n",
        "input_password = input(\"Enter your Password: \")\n",
        "\n",
        "print(\"===Start software code\")\n",
        "\n",
        "\n",
        "if input_user_name == \"admin\" and input_password == \"admin\":\n",
        "  print(\"Welcome admin\")\n",
        "\n",
        "print(\"===End software code\")"
      ],
      "metadata": {
        "colab": {
          "base_uri": "https://localhost:8080/"
        },
        "id": "1VA785trHVCJ",
        "outputId": "1078b182-e6e2-4c77-faa1-0156c422b698"
      },
      "execution_count": 9,
      "outputs": [
        {
          "output_type": "stream",
          "name": "stdout",
          "text": [
            "Enter User Name: admin\n",
            "Enter your Password: 123\n",
            "===Start software code\n",
            "===End software code\n"
          ]
        }
      ]
    },
    {
      "cell_type": "markdown",
      "source": [
        "```\n",
        "if logic:\n",
        "  True_block\n",
        "else:\n",
        "  False_block\n",
        "```"
      ],
      "metadata": {
        "id": "Y0AIrLBNHnam"
      }
    },
    {
      "cell_type": "code",
      "source": [
        "print(\"Start software code\")\n",
        "\n",
        "if True:\n",
        "  print(\"Line1\") # run if logic True\n",
        "  print(\"Line2\") # run if logic True\n",
        "  print(\"Line3\") # run if logic True\n",
        "else:\n",
        "  print(\"Line4\") # run if logic False\n",
        "  print(\"Line5\") # run if logic False\n",
        "  print(\"Line6\") # run if logic False\n",
        "\n",
        "\n",
        "print(\"End software code\")"
      ],
      "metadata": {
        "colab": {
          "base_uri": "https://localhost:8080/"
        },
        "id": "uoByDBCIHIc7",
        "outputId": "8df616f9-9487-4d13-ea7b-35e9059a1dea"
      },
      "execution_count": 10,
      "outputs": [
        {
          "output_type": "stream",
          "name": "stdout",
          "text": [
            "Start software code\n",
            "Line1\n",
            "Line2\n",
            "Line3\n",
            "End software code\n"
          ]
        }
      ]
    },
    {
      "cell_type": "code",
      "source": [
        "print(\"Start software code\")\n",
        "\n",
        "if False:\n",
        "  print(\"Line1\") # run if logic True\n",
        "  print(\"Line2\") # run if logic True\n",
        "  print(\"Line3\") # run if logic True\n",
        "else:\n",
        "  print(\"Line4\") # run if logic False\n",
        "  print(\"Line5\") # run if logic False\n",
        "  print(\"Line6\") # run if logic False\n",
        "\n",
        "\n",
        "print(\"End software code\")"
      ],
      "metadata": {
        "colab": {
          "base_uri": "https://localhost:8080/"
        },
        "id": "DLq6LpkaIFZW",
        "outputId": "134a92c7-83db-4dd3-c9c2-48e00d50bd88"
      },
      "execution_count": 11,
      "outputs": [
        {
          "output_type": "stream",
          "name": "stdout",
          "text": [
            "Start software code\n",
            "Line4\n",
            "Line5\n",
            "Line6\n",
            "End software code\n"
          ]
        }
      ]
    },
    {
      "cell_type": "code",
      "source": [
        "print(\"Start software code\")\n",
        "\n",
        "input_user_name = input(\"Enter User Name: \")\n",
        "input_password = input(\"Enter your Password: \")\n",
        "\n",
        "if input_user_name == \"admin\" and input_password == 'admin':\n",
        "  print(\"Welcome User!\")\n",
        "else:\n",
        "  print(\"Invalid User Name or Password\")\n",
        "\n",
        "\n",
        "print(\"End software code\")"
      ],
      "metadata": {
        "colab": {
          "base_uri": "https://localhost:8080/"
        },
        "id": "GhvHZPvuIlCz",
        "outputId": "7d260ce9-af7b-4283-98c7-94899a52fa36"
      },
      "execution_count": 12,
      "outputs": [
        {
          "output_type": "stream",
          "name": "stdout",
          "text": [
            "Start software code\n",
            "Enter User Name: admin\n",
            "Enter your Password: admin\n",
            "Welcome User!\n",
            "End software code\n"
          ]
        }
      ]
    },
    {
      "cell_type": "code",
      "source": [
        "print(\"Start software code\")\n",
        "\n",
        "input_user_name = input(\"Enter User Name: \")\n",
        "input_password = input(\"Enter your Password: \")\n",
        "\n",
        "if input_user_name == \"admin\" and input_password == 'admin':\n",
        "  print(\"Welcome User!\")\n",
        "else:\n",
        "  print(\"Invalid User Name or Password\")\n",
        "\n",
        "\n",
        "print(\"End software code\")"
      ],
      "metadata": {
        "colab": {
          "base_uri": "https://localhost:8080/"
        },
        "id": "53HixSsbI7Bm",
        "outputId": "4cd6e0c1-ce90-482d-c967-c93369079b38"
      },
      "execution_count": 13,
      "outputs": [
        {
          "output_type": "stream",
          "name": "stdout",
          "text": [
            "Start software code\n",
            "Enter User Name: admin\n",
            "Enter your Password: 126\n",
            "Invalid User Name or Password\n",
            "End software code\n"
          ]
        }
      ]
    },
    {
      "cell_type": "markdown",
      "source": [
        "# Tasks\n",
        "input:\n",
        "* name\n",
        "* city\n",
        "* age (convert into int)\n",
        "\n",
        "\n",
        "ouput:\n",
        "condition: if city==\"karachi\" and age >= 18\n",
        "  Welcome {name} to NED!\n"
      ],
      "metadata": {
        "id": "T_jVeNKMJvha"
      }
    },
    {
      "cell_type": "code",
      "source": [
        "# prompt: # Tasks\n",
        "# input:\n",
        "# * name\n",
        "# * city\n",
        "# * age (convert into int)\n",
        "# ouput:\n",
        "# condition: if city==\"karachi\" and age >= 18\n",
        "#   Welcome {name} to NED!\n",
        "\n",
        "name = input(\"Enter your name: \")\n",
        "city = input(\"Enter your city: \")\n",
        "age = int(input(\"Enter your age: \"))\n",
        "\n",
        "if city == \"karachi\" and age >= 18:\n",
        "  print(f\"Welcome {name} to NED!\")"
      ],
      "metadata": {
        "colab": {
          "base_uri": "https://localhost:8080/"
        },
        "id": "lhN4Ns1RKYIQ",
        "outputId": "a9df976b-150e-4fbe-8d99-1cc02b91c99b"
      },
      "execution_count": 14,
      "outputs": [
        {
          "output_type": "stream",
          "name": "stdout",
          "text": [
            "Enter your name: Qasim\n",
            "Enter your city: karachi\n",
            "Enter your age: 30\n",
            "Welcome Qasim to NED!\n"
          ]
        }
      ]
    },
    {
      "cell_type": "code",
      "source": [
        "name = input(\"Enter your Name: \")\n",
        "city = input(\"Enter your City: \")\n",
        "age = int(input(\"Enter your Age: \"))\n",
        "\n",
        "if city == \"karachi\" and age >= 18:\n",
        "  print(f\"Welcome {name} to NED!\")\n",
        "\n",
        "else:\n",
        "  print(\"You are not welcome!\")"
      ],
      "metadata": {
        "colab": {
          "base_uri": "https://localhost:8080/"
        },
        "id": "OCtsFIQcKsAL",
        "outputId": "474ba065-4915-41c4-8bb6-f06eded93c31"
      },
      "execution_count": 15,
      "outputs": [
        {
          "output_type": "stream",
          "name": "stdout",
          "text": [
            "Enter your Name: Qasim\n",
            "Enter your City: karachi\n",
            "Enter your Age: 30\n",
            "Welcome Qasim to NED!\n"
          ]
        }
      ]
    },
    {
      "cell_type": "markdown",
      "source": [
        "# if chain (always run only one block)\n",
        "* if elif else"
      ],
      "metadata": {
        "id": "wjNyA-DELMzy"
      }
    },
    {
      "cell_type": "code",
      "source": [
        "percentage = 75\n",
        "\n",
        "if percentage >= 80:\n",
        "  print(\"A+\")\n",
        "elif percentage >= 70:\n",
        "  print(\"A\")\n",
        "elif percentage >= 60:\n",
        "  print(\"B\")\n",
        "else:\n",
        "  print(\"Fail\")"
      ],
      "metadata": {
        "colab": {
          "base_uri": "https://localhost:8080/"
        },
        "id": "2tN5NpkQLZJj",
        "outputId": "bc2ecda2-32fa-4146-ad48-14fb3e34c8ac"
      },
      "execution_count": 20,
      "outputs": [
        {
          "output_type": "stream",
          "name": "stdout",
          "text": [
            "A\n"
          ]
        }
      ]
    },
    {
      "cell_type": "code",
      "source": [
        "percentage = 75\n",
        "\n",
        "if False:\n",
        "  print(\"A+\")\n",
        "elif True:\n",
        "  print(\"A\")\n",
        "elif False:\n",
        "  print(\"B\")\n",
        "else:\n",
        "  print(\"Fail\")"
      ],
      "metadata": {
        "id": "legggwAuLZQH"
      },
      "execution_count": null,
      "outputs": []
    },
    {
      "cell_type": "code",
      "source": [
        "percentage = 75\n",
        "\n",
        "if percentage >= 80:\n",
        "  print(\"A+\")\n",
        "elif percentage >= 70:\n",
        "  print(\"A\")\n",
        "elif percentage >= 60:\n",
        "  print(\"B\")\n",
        "elif percentage >= 50:\n",
        "  print(\"C\")\n",
        "elif percentage >= 40:\n",
        "  print(\"D\")\n",
        "elif percentage >= 33:\n",
        "  print(\"E\")\n",
        "else:\n",
        "  print(\"Fail\")"
      ],
      "metadata": {
        "id": "gqbzLLHqLZTA"
      },
      "execution_count": null,
      "outputs": []
    },
    {
      "cell_type": "code",
      "source": [
        "percentage = 90\n",
        "\n",
        "if percentage >= 0:\n",
        "  print(\"Fail\")\n",
        "elif percentage >= 33:\n",
        "  print(\"E\")\n",
        "elif percentage >= 40:\n",
        "  print(\"D\")\n",
        "elif percentage >= 50:\n",
        "  print(\"C\")\n",
        "elif percentage >= 60:\n",
        "  print(\"B\")\n",
        "elif percentage >= 70:\n",
        "  print(\"A\")\n",
        "elif percentage >= 80:\n",
        "  print(\"A+\")\n"
      ],
      "metadata": {
        "colab": {
          "base_uri": "https://localhost:8080/"
        },
        "id": "WMRcjU8JLZVy",
        "outputId": "fd6a3966-ff9f-4ea8-e0f6-3fee3c46a32b"
      },
      "execution_count": 21,
      "outputs": [
        {
          "output_type": "stream",
          "name": "stdout",
          "text": [
            "Fail\n"
          ]
        }
      ]
    },
    {
      "cell_type": "code",
      "source": [
        "percentage = 90\n",
        "\n",
        "if True:\n",
        "  print(\"Fail\")\n",
        "elif 90 >= 33:\n",
        "  print(\"E\")\n",
        "elif 90 >= 40:\n",
        "  print(\"D\")\n",
        "elif 90 >= 50:\n",
        "  print(\"C\")\n",
        "elif 90 >= 60:\n",
        "  print(\"B\")\n",
        "elif 90 >= 70:\n",
        "  print(\"A\")\n",
        "elif 90 >= 80:\n",
        "  print(\"A+\")\n"
      ],
      "metadata": {
        "id": "k2en3ceZNWIn"
      },
      "execution_count": null,
      "outputs": []
    },
    {
      "cell_type": "code",
      "source": [
        "percentage = 90\n",
        "\n",
        "if percentage >= 0 and percentage < 33:\n",
        "  print(\"Fail\")\n",
        "elif percentage >= 33 and percentage < 40:\n",
        "  print(\"E\")\n",
        "elif percentage >= 40 and percentage < 50:\n",
        "  print(\"D\")\n",
        "elif percentage >= 50 and percentage < 60:\n",
        "  print(\"C\")\n",
        "elif percentage >= 60 and percentage < 70:\n",
        "  print(\"B\")\n",
        "elif percentage >= 70 and percentage < 80:\n",
        "  print(\"A\")\n",
        "elif percentage >= 80 and percentage <=100:\n",
        "  print(\"A+\")\n"
      ],
      "metadata": {
        "colab": {
          "base_uri": "https://localhost:8080/"
        },
        "id": "SAEH7cGcNmJq",
        "outputId": "7702b073-9a24-4ad5-bbf4-d703f3267dc9"
      },
      "execution_count": 22,
      "outputs": [
        {
          "output_type": "stream",
          "name": "stdout",
          "text": [
            "A+\n"
          ]
        }
      ]
    },
    {
      "cell_type": "markdown",
      "source": [
        "# * nested if\n",
        "```\n",
        "if logic1:\n",
        "  if child_logic1:\n",
        "    True Block\n",
        "else:\n",
        "  else_block\n",
        "```"
      ],
      "metadata": {
        "id": "owOzb0vSOeZs"
      }
    },
    {
      "cell_type": "code",
      "source": [
        "program = \"pgd data science\"\n",
        "percentage = 75\n",
        "\n",
        "if program == \"pgd data science\":\n",
        "  if percentage >= 80: # nested\n",
        "    print(\"A+\")\n",
        "  elif percentage >= 70: # nested\n",
        "    print(\"A\")\n",
        "  elif percentage >= 60: # nested\n",
        "    print(\"B\")\n",
        "  else: # nested\n",
        "    print(\"Fail\")\n",
        "else:\n",
        "  print(\"Not valid student.\")"
      ],
      "metadata": {
        "colab": {
          "base_uri": "https://localhost:8080/"
        },
        "id": "EHUsZuYILZY0",
        "outputId": "52932367-25c0-480d-a4dc-12b73063f9bf"
      },
      "execution_count": 23,
      "outputs": [
        {
          "output_type": "stream",
          "name": "stdout",
          "text": [
            "A\n"
          ]
        }
      ]
    },
    {
      "cell_type": "code",
      "source": [
        "program = input(\"Enter your program name: \").lower()\n",
        "percentage = 75\n",
        "\n",
        "if program == \"pgd data science\":\n",
        "  if percentage >= 80: # nested\n",
        "    print(\"A+\")\n",
        "  elif percentage >= 70: # nested\n",
        "    print(\"A\")\n",
        "  elif percentage >= 60: # nested\n",
        "    print(\"B\")\n",
        "  else: # nested\n",
        "    print(\"Fail\")\n",
        "else:\n",
        "  print(\"Not valid student.\")"
      ],
      "metadata": {
        "colab": {
          "base_uri": "https://localhost:8080/"
        },
        "id": "Y0dd8OHWPcY9",
        "outputId": "c1f1cd18-9ded-4371-bdee-363e142ad988"
      },
      "execution_count": 26,
      "outputs": [
        {
          "output_type": "stream",
          "name": "stdout",
          "text": [
            "Enter your program name: PgD DaTa Science\n",
            "A\n"
          ]
        }
      ]
    },
    {
      "cell_type": "code",
      "source": [
        "data = \"PakIstaN zind abad\"\n",
        "\n",
        "print(data)\n",
        "print(data.lower())\n",
        "print(data.upper())"
      ],
      "metadata": {
        "colab": {
          "base_uri": "https://localhost:8080/"
        },
        "id": "ot0LuixgROmP",
        "outputId": "f91d978d-f24f-4999-bc35-5e868336f7ac"
      },
      "execution_count": 29,
      "outputs": [
        {
          "output_type": "stream",
          "name": "stdout",
          "text": [
            "PakIstaN zind abad\n",
            "pakistan zind abad\n",
            "PAKISTAN ZIND ABAD\n"
          ]
        }
      ]
    },
    {
      "cell_type": "markdown",
      "source": [
        "# short hand (comprehensive style) if\n",
        "* short hand if else\n",
        "\n"
      ],
      "metadata": {
        "id": "J21RffHFK616"
      }
    },
    {
      "cell_type": "markdown",
      "source": [
        "```\n",
        "if logic:\n",
        "  true_block\n",
        "else:\n",
        "  false_block\n",
        "```\n",
        "\n",
        "convert into short hand\n",
        "\n",
        "```\n",
        "true_block if logic else false_block\n",
        "```"
      ],
      "metadata": {
        "id": "ChuLbmTeSQ9i"
      }
    },
    {
      "cell_type": "code",
      "source": [
        "print(\"Pakistan zinda bad\") if True else print(\"USA\")"
      ],
      "metadata": {
        "colab": {
          "base_uri": "https://localhost:8080/"
        },
        "id": "NFYFltcASBUz",
        "outputId": "648ca47e-1075-4106-97ec-717abe7e2e4e"
      },
      "execution_count": 31,
      "outputs": [
        {
          "output_type": "stream",
          "name": "stdout",
          "text": [
            "Pakistan zinda bad\n"
          ]
        }
      ]
    },
    {
      "cell_type": "code",
      "source": [
        "print(\"Pakistan zinda bad\") if False else print(\"USA\")"
      ],
      "metadata": {
        "colab": {
          "base_uri": "https://localhost:8080/"
        },
        "id": "MVuExtqcS3xk",
        "outputId": "3e29e90d-6739-4cca-d110-0a89714124df"
      },
      "execution_count": 32,
      "outputs": [
        {
          "output_type": "stream",
          "name": "stdout",
          "text": [
            "USA\n"
          ]
        }
      ]
    },
    {
      "cell_type": "code",
      "source": [
        "# prompt: write short hand if example only for true block, remove else block\n",
        "\n",
        "print(\"Pakistan zinda bad\") if True else None"
      ],
      "metadata": {
        "colab": {
          "base_uri": "https://localhost:8080/"
        },
        "id": "w6Mw0GrPSnxi",
        "outputId": "980734dd-73a0-464a-9843-6503aa6bf07f"
      },
      "execution_count": 34,
      "outputs": [
        {
          "output_type": "stream",
          "name": "stdout",
          "text": [
            "Pakistan zinda bad\n"
          ]
        }
      ]
    },
    {
      "cell_type": "code",
      "source": [
        "students = []\n",
        "while True:\n",
        "  data = {\n",
        "      \"name\": input(\"name: \"),\n",
        "      'father_name' : input(\"father_name: \"),\n",
        "      'age' : int(input(\"Age: \"))\n",
        "\n",
        "  }\n",
        "  students.append(data)\n",
        "\n",
        "  message = input(\"Do you want to add new record? (y/n)\")\n",
        "  if message != 'y':\n",
        "    break\n",
        "students"
      ],
      "metadata": {
        "colab": {
          "base_uri": "https://localhost:8080/"
        },
        "id": "NGqL7CEvUsEX",
        "outputId": "6bf34e8a-2eb1-41f3-b80e-fa9cdbf33331"
      },
      "execution_count": 35,
      "outputs": [
        {
          "name": "stdout",
          "output_type": "stream",
          "text": [
            "name: Qasim\n",
            "father_name: Aslam\n",
            "Age: 30\n",
            "Do you want to add new record? (y/n)y\n",
            "name: Asif\n",
            "father_name: Abid\n",
            "Age: 35\n",
            "Do you want to add new record? (y/n)n\n"
          ]
        },
        {
          "output_type": "execute_result",
          "data": {
            "text/plain": [
              "[{'name': 'Qasim', 'father_name': 'Aslam', 'age': 30},\n",
              " {'name': 'Asif', 'father_name': 'Abid', 'age': 35}]"
            ]
          },
          "metadata": {},
          "execution_count": 35
        }
      ]
    },
    {
      "cell_type": "code",
      "source": [],
      "metadata": {
        "id": "Q7uJcUKGVYxB"
      },
      "execution_count": null,
      "outputs": []
    }
  ]
}