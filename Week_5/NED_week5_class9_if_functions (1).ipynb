{
  "nbformat": 4,
  "nbformat_minor": 0,
  "metadata": {
    "colab": {
      "provenance": []
    },
    "kernelspec": {
      "name": "python3",
      "display_name": "Python 3"
    },
    "language_info": {
      "name": "python"
    }
  },
  "cells": [
    {
      "cell_type": "markdown",
      "source": [
        "# If, Else Condition"
      ],
      "metadata": {
        "id": "aS9OO4hODPkj"
      }
    },
    {
      "cell_type": "code",
      "source": [
        "Input_User_Name = input(\"Enter Your Name:\")\n",
        "Input_City_Name = input(\"Enter Your City Name\")\n",
        "Input_Your_Age = input(\"Enter Your Age\")\n",
        "print(\"Your Name is:\",Input_User_Name)\n",
        "print(\"Your City Name is:\",Input_City_Name)\n",
        "print(\"Your Age is:\",Input_Your_Age)"
      ],
      "metadata": {
        "colab": {
          "base_uri": "https://localhost:8080/"
        },
        "id": "luQNH8BGDVJp",
        "outputId": "f075133d-0697-47b1-d0a6-bfac70e160ca"
      },
      "execution_count": null,
      "outputs": [
        {
          "output_type": "stream",
          "name": "stdout",
          "text": [
            "Enter Your Name:Sajid\n",
            "Enter Your City NameKarachi\n",
            "Enter Your Age39\n",
            "Your Name is: Sajid\n",
            "Your City Name is: Karachi\n",
            "Your Age is: 39\n"
          ]
        }
      ]
    },
    {
      "cell_type": "code",
      "source": [
        "Input_User_Name = input(\"Enter Your Name:\")\n",
        "Input_City_Name = input(\"Enter Your City Name\")\n",
        "Input_Your_Age = int(input(\"Enter Your Age\"))\n",
        "\n",
        "if Input_City_Name = \"Karachi\" and >=38 and \"Sajid\":\n",
        "    print(f\"Welcome to Karachi\")\n",
        "else:\n",
        "  Print(f\"Any thing goes worng\")\n",
        "\n",
        "\n",
        "    print(\"Your Name is:\",Input_User_Name)\n",
        "    print(\"Your City Name is:\",Input_City_Name)\n",
        "    print(\"Your Age is:\",Input_Your_Age)"
      ],
      "metadata": {
        "colab": {
          "base_uri": "https://localhost:8080/",
          "height": 106
        },
        "id": "IaSwlptDI6Y3",
        "outputId": "a9706c3c-640a-4b28-f339-6d7ab81c1d0b"
      },
      "execution_count": 4,
      "outputs": [
        {
          "output_type": "error",
          "ename": "SyntaxError",
          "evalue": "invalid syntax. Maybe you meant '==' or ':=' instead of '='? (<ipython-input-4-5cd952b54021>, line 5)",
          "traceback": [
            "\u001b[0;36m  File \u001b[0;32m\"<ipython-input-4-5cd952b54021>\"\u001b[0;36m, line \u001b[0;32m5\u001b[0m\n\u001b[0;31m    if Input_City_Name = \"Karachi\" and >=38 and \"Sajid\":\u001b[0m\n\u001b[0m       ^\u001b[0m\n\u001b[0;31mSyntaxError\u001b[0m\u001b[0;31m:\u001b[0m invalid syntax. Maybe you meant '==' or ':=' instead of '='?\n"
          ]
        }
      ]
    },
    {
      "cell_type": "code",
      "source": [
        "# prompt: Input_User_Name = input(\"Enter Your Name:\")\n",
        "# Input_City_Name = input(\"Enter Your City Name\")\n",
        "# Input_Your_Age = int(input(\"Enter Your Age\"))\n",
        "# if Input_City_Name = \"Karachi\" and >=38 and \"Sajid\":\n",
        "#     print(f\"Welcome to Karachi\")\n",
        "# else:\n",
        "#   Print(f\"Any thing goes worng\")\n",
        "#     print(\"Your Name is:\",Input_User_Name)\n",
        "#     print(\"Your City Name is:\",Input_City_Name)\n",
        "#     print(\"Your Age is:\",Input_Your_Age)\n",
        "\n",
        "# # If, Else Condition\n",
        "Input_User_Name = input(\"Enter Your Name:\")\n",
        "Input_City_Name = input(\"Enter Your City Name\")\n",
        "Input_Your_Age = input(\"Enter Your Age\")\n",
        "print(\"Your Name is:\",Input_User_Name)\n",
        "print(\"Your City Name is:\",Input_City_Name)\n",
        "print(\"Your Age is:\",Input_Your_Age)\n",
        "Input_User_Name = input(\"Enter Your Name:\")\n",
        "Input_City_Name = input(\"Enter Your City Name\")\n",
        "Input_Your_Age = int(input(\"Enter Your Age\"))\n",
        "\n",
        "if Input_City_Name == \"Karachi\" and Input_Your_Age >= 38 and Input_User_Name == \"Sajid\":\n",
        "    print(f\"Welcome to Karachi\")\n",
        "else:\n",
        "    print(f\"Something went wrong\") #Fixed typo here: Print -> print\n",
        "    print(\"Your Name is:\",Input_User_Name)\n",
        "    print(\"Your City Name is:\",Input_City_Name)\n",
        "    print(\"Your Age is:\",Input_Your_Age)"
      ],
      "metadata": {
        "id": "_NqWaXynJiEl"
      },
      "execution_count": null,
      "outputs": []
    },
    {
      "cell_type": "code",
      "source": [
        "Input_User_Name = input(\"Enter Your Name:\")\n",
        "Input_City_Name = input(\"Enter Your City Name\")\n",
        "Input_Your_Age = input(\"Enter Your Age\")\n",
        "print(\"Your Name is:\",Input_User_Name)\n",
        "print(\"Your City Name is:\",Input_City_Name)\n",
        "print(\"Your Age is:\",Input_Your_Age)\n",
        "Input_User_Name = input(\"Enter Your Name:\")\n",
        "Input_City_Name = input(\"Enter Your City Name\")\n",
        "Input_Your_Age = int(input(\"Enter Your Age\"))\n",
        "\n",
        "if Input_City_Name == \"Karachi\" and Input_Your_Age >= 38 and Input_User_Name == \"Sajid\":\n",
        "    print(f\"Welcome to Karachi\")\n",
        "else:\n",
        "    print(f\"Something went wrong\") #Fixed typo here: Print -> print\n"
      ],
      "metadata": {
        "colab": {
          "base_uri": "https://localhost:8080/"
        },
        "id": "8f561EOASoRf",
        "outputId": "ea750885-d4af-4105-c784-9392c46767bd"
      },
      "execution_count": null,
      "outputs": [
        {
          "name": "stdout",
          "output_type": "stream",
          "text": [
            "Your Name is: Sajid\n",
            "Your City Name is: Karachi\n",
            "Your Age is: 38\n",
            "Enter Your Name:Sajid\n"
          ]
        }
      ]
    },
    {
      "cell_type": "code",
      "source": [],
      "metadata": {
        "id": "U-p5DxvjSo70"
      },
      "execution_count": null,
      "outputs": []
    }
  ]
}