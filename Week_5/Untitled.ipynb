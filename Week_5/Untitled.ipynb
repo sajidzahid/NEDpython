{
 "cells": [
  {
   "cell_type": "code",
   "execution_count": null,
   "id": "3cd87478-d913-4d0c-b85b-7bceba405f78",
   "metadata": {},
   "outputs": [],
   "source": [
    "import pip install reportlab\n"
   ]
  },
  {
   "cell_type": "code",
   "execution_count": null,
   "id": "72bcb063-4865-49c6-980b-8ac63243284c",
   "metadata": {},
   "outputs": [],
   "source": [
    "from reportlab.lib.pagesizes import letter\n",
    "from reportlab.pdfgen import canvas\n",
    "\n",
    "def create_card(name, message, filename):\n",
    "    c = canvas.Canvas(filename, pagesize=letter)\n",
    "    width, height = letter\n",
    "\n",
    "    # Draw a rectangle for the card\n",
    "    c.rect(50, height - 150, width - 100, 100, fill=1)\n",
    "\n",
    "    # Add text to the card\n",
    "    c.setFont(\"Helvetica\", 24)\n",
    "    c.drawString(100, height - 100, f\"Name: {name}\")\n",
    "    c.setFont(\"Helvetica\", 16)\n",
    "    c.drawString(100, height - 130, message)\n",
    "\n",
    "    c.save()\n",
    "\n",
    "# Example usage\n",
    "name = input(\"Enter the name: \")\n",
    "message = input(\"Enter the message: \")\n",
    "filename = \"card.pdf\"\n",
    "create_card(name, message, filename)\n",
    "print(f\"Card saved as {filename}\")"
   ]
  },
  {
   "cell_type": "code",
   "execution_count": null,
   "id": "dcb8a7e3-2b5f-4faf-85eb-0252a652a5ad",
   "metadata": {},
   "outputs": [],
   "source": []
  },
  {
   "cell_type": "code",
   "execution_count": null,
   "id": "c1edb847-864e-4686-88c8-55c7f973d373",
   "metadata": {},
   "outputs": [],
   "source": []
  }
 ],
 "metadata": {
  "kernelspec": {
   "display_name": "Python [conda env:base] *",
   "language": "python",
   "name": "conda-base-py"
  },
  "language_info": {
   "codemirror_mode": {
    "name": "ipython",
    "version": 3
   },
   "file_extension": ".py",
   "mimetype": "text/x-python",
   "name": "python",
   "nbconvert_exporter": "python",
   "pygments_lexer": "ipython3",
   "version": "3.11.5"
  }
 },
 "nbformat": 4,
 "nbformat_minor": 5
}
