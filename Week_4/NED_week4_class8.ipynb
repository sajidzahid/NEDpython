{
 "cells": [
  {
   "cell_type": "markdown",
   "id": "3336242f-6bae-4043-a4f5-7133cd0d335a",
   "metadata": {},
   "source": [
    "# Loops\n",
    "\n",
    "* For Loop\n",
    "* While Loop"
   ]
  },
  {
   "cell_type": "code",
   "execution_count": null,
   "id": "392e5082-73af-4eac-a3d6-ef0eda49ebc7",
   "metadata": {},
   "outputs": [],
   "source": [
    "number_range = range(0,10)"
   ]
  },
  {
   "cell_type": "markdown",
   "id": "d7789ee6-47df-43fd-99e0-0be273e5af14",
   "metadata": {},
   "source": [
    "# i = iterator"
   ]
  },
  {
   "cell_type": "code",
   "execution_count": 14,
   "id": "5a68b982-b6ab-403a-864d-cad4c2bff786",
   "metadata": {},
   "outputs": [
    {
     "name": "stdout",
     "output_type": "stream",
     "text": [
      "0\n",
      "1\n",
      "2\n",
      "3\n",
      "4\n",
      "5\n",
      "6\n",
      "7\n",
      "8\n",
      "9\n"
     ]
    }
   ],
   "source": [
    "for i in range(0,10):\n",
    "    print(i)"
   ]
  },
  {
   "cell_type": "code",
   "execution_count": 22,
   "id": "77ab9857-5440-46c4-9eb2-0c98ee60f603",
   "metadata": {},
   "outputs": [
    {
     "name": "stdout",
     "output_type": "stream",
     "text": [
      "10\n",
      "11\n",
      "12\n",
      "13\n",
      "14\n",
      "15\n",
      "16\n",
      "17\n",
      "18\n",
      "19\n"
     ]
    }
   ],
   "source": [
    "for i in range(0,10):\n",
    "    print(i+10) # Tab (Spacebar) in necessary when colon is used in syntax."
   ]
  },
  {
   "cell_type": "code",
   "execution_count": 24,
   "id": "8e23f0a4-03b5-49e5-b08d-751f72b541c9",
   "metadata": {},
   "outputs": [
    {
     "name": "stdout",
     "output_type": "stream",
     "text": [
      "10\n",
      "20\n",
      "11\n",
      "21\n",
      "12\n",
      "22\n",
      "13\n",
      "23\n",
      "14\n",
      "24\n",
      "15\n",
      "25\n",
      "16\n",
      "26\n",
      "17\n",
      "27\n",
      "18\n",
      "28\n",
      "19\n",
      "29\n",
      "last-value:  9\n"
     ]
    }
   ],
   "source": [
    "for i in range(0,10):\n",
    "    print(i+10)\n",
    "    print(i+20)\n",
    "print(\"last-value: \",i)"
   ]
  },
  {
   "cell_type": "code",
   "execution_count": 28,
   "id": "2a62f1b0-db12-4a20-b5d0-b187348b273b",
   "metadata": {},
   "outputs": [
    {
     "name": "stdout",
     "output_type": "stream",
     "text": [
      "MANGO\n",
      "APPLE\n",
      "STRAWBERRY\n"
     ]
    }
   ],
   "source": [
    "fruits = [\"mango\", \"apple\", \"strawberry\"]\n",
    "for fruit in fruits:\n",
    "    print(fruit.upper()) # Upper function use to capitalized the letters."
   ]
  },
  {
   "cell_type": "code",
   "execution_count": 43,
   "id": "a3fb5fac-e5ba-4ad5-833e-0c2155d1fd47",
   "metadata": {},
   "outputs": [
    {
     "name": "stdout",
     "output_type": "stream",
     "text": [
      "['MANGO', 'APPLE', 'STRAWBERRY']\n"
     ]
    }
   ],
   "source": [
    "#            0        1          2\n",
    "# This function is use when we need to capitilized the values. \n",
    "fruits = [\"mango\", \"apple\", \"strawberry\"]\n",
    "index = 0\n",
    "for fruit in fruits:\n",
    "    fruits [index]=fruit.upper()\n",
    "    index +=1\n",
    "print(fruits)"
   ]
  },
  {
   "cell_type": "code",
   "execution_count": 40,
   "id": "f7efdf0f-43b5-4da0-bd01-56c13b02be71",
   "metadata": {},
   "outputs": [],
   "source": [
    "# Write a program which will taka a interger input and print the multiplication table. - ASSIGNEMENT"
   ]
  },
  {
   "cell_type": "code",
   "execution_count": 57,
   "id": "d605359b-4101-463d-a10a-7d3185f38d3a",
   "metadata": {},
   "outputs": [
    {
     "ename": "IndentationError",
     "evalue": "unexpected indent (2703718125.py, line 3)",
     "output_type": "error",
     "traceback": [
      "\u001b[1;36m  Cell \u001b[1;32mIn[57], line 3\u001b[1;36m\u001b[0m\n\u001b[1;33m    for i in range(1,11)\u001b[0m\n\u001b[1;37m    ^\u001b[0m\n\u001b[1;31mIndentationError\u001b[0m\u001b[1;31m:\u001b[0m unexpected indent\n"
     ]
    }
   ],
   "source": [
    "number = int(input(\"Enter Multiplication Table\"))\n",
    "number = int(input(\"Enter range\"))\n",
    "    for i in range(1,11)\n",
    "    print(f\"{i} x {number} =\" , i*number)\n",
    "\n",
    "             "
   ]
  },
  {
   "cell_type": "code",
   "execution_count": 59,
   "id": "0e8e55a3-0049-4d55-931e-e2fb38ad4404",
   "metadata": {},
   "outputs": [
    {
     "name": "stdin",
     "output_type": "stream",
     "text": [
      "Enter the number to generate the multiplication table:  2\n",
      "Enter the range for the table (e.g., 10 for 1-10):  10\n"
     ]
    },
    {
     "name": "stdout",
     "output_type": "stream",
     "text": [
      "\n",
      "Multiplication Table for 2:\n",
      "\n",
      "2 x 1 = 2\n",
      "2 x 2 = 4\n",
      "2 x 3 = 6\n",
      "2 x 4 = 8\n",
      "2 x 5 = 10\n",
      "2 x 6 = 12\n",
      "2 x 7 = 14\n",
      "2 x 8 = 16\n",
      "2 x 9 = 18\n",
      "2 x 10 = 20\n"
     ]
    }
   ],
   "source": [
    "# Get the number from the user\n",
    "number = int(input(\"Enter the number to generate the multiplication table: \"))\n",
    "\n",
    "# Get the range for the table\n",
    "table_range = int(input(\"Enter the range for the table (e.g., 10 for 1-10): \"))\n",
    "\n",
    "# Generate and print the table\n",
    "print(f\"\\nMultiplication Table for {number}:\\n\")\n",
    "for i in range(1, table_range + 1):\n",
    " print(f\"{number} x {i} = {number * i}\")"
   ]
  },
  {
   "cell_type": "code",
   "execution_count": 61,
   "id": "1c2a5a67-695c-4ac9-a9fe-f8b494cdcce7",
   "metadata": {},
   "outputs": [
    {
     "name": "stdout",
     "output_type": "stream",
     "text": [
      "['mango', 'apple', 'strawberry', 'Guava']\n",
      "['mango', 'apple', 'strawberry', 'Guava']\n",
      "['mango', 'apple', 'strawberry', 'Guava']\n",
      "['mango', 'apple', 'strawberry', 'Guava']\n"
     ]
    }
   ],
   "source": [
    "fruits = [\"mango\", \"apple\", \"strawberry\", \"Guava\"]\n",
    "for fruit_index in range(len(fruits)):\n",
    "    print(fruits)"
   ]
  },
  {
   "cell_type": "code",
   "execution_count": 65,
   "id": "dca4af11-5794-4291-8449-6d83e849df87",
   "metadata": {},
   "outputs": [
    {
     "name": "stdout",
     "output_type": "stream",
     "text": [
      "['MANGO', 'apple', 'strawberry', 'Guava']\n",
      "['MANGO', 'APPLE', 'strawberry', 'Guava']\n",
      "['MANGO', 'APPLE', 'STRAWBERRY', 'Guava']\n",
      "['MANGO', 'APPLE', 'STRAWBERRY', 'GUAVA']\n"
     ]
    }
   ],
   "source": [
    "fruits = [\"mango\", \"apple\", \"strawberry\", \"Guava\"]\n",
    "for fruit_index in range(len(fruits)):\n",
    "    fruits[fruit_index] = fruits[fruit_index].upper()\n",
    "    print(fruits)"
   ]
  },
  {
   "cell_type": "code",
   "execution_count": null,
   "id": "62f66022-e3db-4c76-8d6a-62aa4f92262b",
   "metadata": {},
   "outputs": [],
   "source": [
    "# Write a program which will sum all the numbers from 1 to 1000."
   ]
  },
  {
   "cell_type": "code",
   "execution_count": 102,
   "id": "264487ea-9710-40e4-aff2-01ac2cdb7cf2",
   "metadata": {},
   "outputs": [
    {
     "name": "stdout",
     "output_type": "stream",
     "text": [
      "500500\n"
     ]
    }
   ],
   "source": [
    "total = 0\n",
    "for i in range(1,1001):\n",
    "    total += i\n",
    "print(total)"
   ]
  },
  {
   "cell_type": "markdown",
   "id": "cc77d871-3127-448a-b089-42f29e1b7d1f",
   "metadata": {},
   "source": [
    "# While Loops"
   ]
  },
  {
   "cell_type": "code",
   "execution_count": 118,
   "id": "8968eba4-12de-4e72-9047-e4097aff3ad7",
   "metadata": {},
   "outputs": [
    {
     "name": "stdout",
     "output_type": "stream",
     "text": [
      "1 Value of i:  21\n",
      "loop has ended\n",
      "1\n",
      "21\n",
      "2 Value of i:  41\n",
      "loop has ended\n",
      "2\n",
      "41\n",
      "3 Value of i:  61\n",
      "loop has ended\n",
      "3\n",
      "61\n",
      "4 Value of i:  81\n",
      "loop has ended\n",
      "4\n",
      "81\n",
      "5 Value of i:  101\n",
      "loop has ended\n",
      "5\n",
      "101\n",
      "6 Value of i:  121\n",
      "loop has ended\n",
      "6\n",
      "121\n",
      "7 Value of i:  141\n",
      "loop has ended\n",
      "7\n",
      "141\n",
      "8 Value of i:  161\n",
      "loop has ended\n",
      "8\n",
      "161\n",
      "9 Value of i:  181\n",
      "loop has ended\n",
      "9\n",
      "181\n",
      "10 Value of i:  201\n",
      "loop has ended\n",
      "10\n",
      "201\n",
      "11 Value of i:  221\n",
      "loop has ended\n",
      "11\n",
      "221\n"
     ]
    }
   ],
   "source": [
    "total = 0\n",
    "i = 1\n",
    "while total <= 10:\n",
    "    i +=20\n",
    "    total +=1\n",
    "    print(total, \"Value of i: \",i)\n",
    "    print(\"loop has ended\")\n",
    "    print(total)\n",
    "    print(i)"
   ]
  },
  {
   "cell_type": "code",
   "execution_count": null,
   "id": "3be471b5-79a1-4150-9268-6f91add9844e",
   "metadata": {},
   "outputs": [],
   "source": [
    "total = 0\n",
    "i = 1\n",
    "while total <= 100:\n",
    "    i +=10\n",
    "    total +=1\n",
    "    print(total, \"Value of i: \",i)\n",
    "    "
   ]
  },
  {
   "cell_type": "code",
   "execution_count": 1,
   "id": "d47b3b76-1104-4d6a-9098-822601abdcdd",
   "metadata": {},
   "outputs": [
    {
     "name": "stdin",
     "output_type": "stream",
     "text": [
      "Enter a number from 0 to 10 2\n"
     ]
    },
    {
     "name": "stdout",
     "output_type": "stream",
     "text": [
      "You have guessed the incorrect number\n"
     ]
    }
   ],
   "source": [
    "import random\n",
    "random_number = random.randint(0,10)\n",
    "usr_number = int(input('Enter a number from 0 to 10'))\n",
    "\n",
    "while usr_number != random_number:\n",
    "    print('You have guessed the incorrect number')\n",
    "    break\n",
    "    "
   ]
  },
  {
   "cell_type": "markdown",
   "id": "8ad04963-1c9e-4ee9-b979-f53376d2f655",
   "metadata": {},
   "source": [
    "# Nested for loops"
   ]
  },
  {
   "cell_type": "code",
   "execution_count": 4,
   "id": "de2a0b48-8f27-4fed-ae0a-bc8cdc7990fb",
   "metadata": {},
   "outputs": [
    {
     "name": "stdout",
     "output_type": "stream",
     "text": [
      "mango\n",
      "m\n",
      "a\n",
      "n\n",
      "g\n",
      "o\n",
      "apple\n",
      "a\n",
      "p\n",
      "p\n",
      "l\n",
      "e\n",
      "strawberry\n",
      "s\n",
      "t\n",
      "r\n",
      "a\n",
      "w\n",
      "b\n",
      "e\n",
      "r\n",
      "r\n",
      "y\n",
      "Guava\n",
      "G\n",
      "u\n",
      "a\n",
      "v\n",
      "a\n"
     ]
    }
   ],
   "source": [
    "fruits = [\"mango\", \"apple\", \"strawberry\", \"Guava\"]\n",
    "for i in fruits:\n",
    "    print(i)\n",
    "    for j in i:\n",
    "        print(j)"
   ]
  },
  {
   "cell_type": "code",
   "execution_count": 6,
   "id": "1099bb9c-1bf7-4429-8147-c9c7ef4f3eba",
   "metadata": {},
   "outputs": [
    {
     "name": "stdout",
     "output_type": "stream",
     "text": [
      "(0,0) \n",
      "(0,1) \n",
      "(0,2) \n",
      "(1,0) \n",
      "(1,1) \n",
      "(1,2) \n",
      "(2,0) \n",
      "(2,1) \n",
      "(2,2) \n"
     ]
    }
   ],
   "source": [
    "for i in range(0,3):\n",
    "    for j in range(0,3):\n",
    "        print(f\"({i},{j})\", end = \" \")\n",
    "        print()"
   ]
  },
  {
   "cell_type": "code",
   "execution_count": null,
   "id": "3bb1d43f-a8eb-45a8-b8ac-df6000550dba",
   "metadata": {},
   "outputs": [],
   "source": []
  }
 ],
 "metadata": {
  "kernelspec": {
   "display_name": "Python [conda env:base] *",
   "language": "python",
   "name": "conda-base-py"
  },
  "language_info": {
   "codemirror_mode": {
    "name": "ipython",
    "version": 3
   },
   "file_extension": ".py",
   "mimetype": "text/x-python",
   "name": "python",
   "nbconvert_exporter": "python",
   "pygments_lexer": "ipython3",
   "version": "3.11.5"
  }
 },
 "nbformat": 4,
 "nbformat_minor": 5
}
