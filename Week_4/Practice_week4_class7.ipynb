{
  "nbformat": 4,
  "nbformat_minor": 0,
  "metadata": {
    "colab": {
      "provenance": []
    },
    "kernelspec": {
      "name": "python3",
      "display_name": "Python 3"
    },
    "language_info": {
      "name": "python"
    }
  },
  "cells": [
    {
      "cell_type": "markdown",
      "source": [
        "# String Data Types\n"
      ],
      "metadata": {
        "id": "vB39iutQTqpr"
      }
    },
    {
      "cell_type": "code",
      "source": [
        "a = \"Sajid\"\n",
        "b = 'Sajid'\n",
        "c = \"\"\"Sajid\"\"\"\n",
        "d = '''Sajid'''\n",
        "print(type(a), type(b), type(c), type(d))\n",
        "print(id(a), id(b), id(c), id(d))"
      ],
      "metadata": {
        "colab": {
          "base_uri": "https://localhost:8080/"
        },
        "id": "QjdKjB-LTwba",
        "outputId": "8ea8d65f-dd9f-467b-d0f2-08f4481ff985"
      },
      "execution_count": 8,
      "outputs": [
        {
          "output_type": "stream",
          "name": "stdout",
          "text": [
            "<class 'str'> <class 'str'> <class 'str'> <class 'str'>\n",
            "132936474793136 132936474793136 132936474793136 132936474793136\n"
          ]
        }
      ]
    },
    {
      "cell_type": "code",
      "source": [
        "list(dir(str))"
      ],
      "metadata": {
        "colab": {
          "base_uri": "https://localhost:8080/"
        },
        "collapsed": true,
        "id": "KUudryuzU_Dp",
        "outputId": "ee011a7d-9ce3-4b85-a404-e1f069f640e2"
      },
      "execution_count": 9,
      "outputs": [
        {
          "output_type": "execute_result",
          "data": {
            "text/plain": [
              "['__add__',\n",
              " '__class__',\n",
              " '__contains__',\n",
              " '__delattr__',\n",
              " '__dir__',\n",
              " '__doc__',\n",
              " '__eq__',\n",
              " '__format__',\n",
              " '__ge__',\n",
              " '__getattribute__',\n",
              " '__getitem__',\n",
              " '__getnewargs__',\n",
              " '__getstate__',\n",
              " '__gt__',\n",
              " '__hash__',\n",
              " '__init__',\n",
              " '__init_subclass__',\n",
              " '__iter__',\n",
              " '__le__',\n",
              " '__len__',\n",
              " '__lt__',\n",
              " '__mod__',\n",
              " '__mul__',\n",
              " '__ne__',\n",
              " '__new__',\n",
              " '__reduce__',\n",
              " '__reduce_ex__',\n",
              " '__repr__',\n",
              " '__rmod__',\n",
              " '__rmul__',\n",
              " '__setattr__',\n",
              " '__sizeof__',\n",
              " '__str__',\n",
              " '__subclasshook__',\n",
              " 'capitalize',\n",
              " 'casefold',\n",
              " 'center',\n",
              " 'count',\n",
              " 'encode',\n",
              " 'endswith',\n",
              " 'expandtabs',\n",
              " 'find',\n",
              " 'format',\n",
              " 'format_map',\n",
              " 'index',\n",
              " 'isalnum',\n",
              " 'isalpha',\n",
              " 'isascii',\n",
              " 'isdecimal',\n",
              " 'isdigit',\n",
              " 'isidentifier',\n",
              " 'islower',\n",
              " 'isnumeric',\n",
              " 'isprintable',\n",
              " 'isspace',\n",
              " 'istitle',\n",
              " 'isupper',\n",
              " 'join',\n",
              " 'ljust',\n",
              " 'lower',\n",
              " 'lstrip',\n",
              " 'maketrans',\n",
              " 'partition',\n",
              " 'removeprefix',\n",
              " 'removesuffix',\n",
              " 'replace',\n",
              " 'rfind',\n",
              " 'rindex',\n",
              " 'rjust',\n",
              " 'rpartition',\n",
              " 'rsplit',\n",
              " 'rstrip',\n",
              " 'split',\n",
              " 'splitlines',\n",
              " 'startswith',\n",
              " 'strip',\n",
              " 'swapcase',\n",
              " 'title',\n",
              " 'translate',\n",
              " 'upper',\n",
              " 'zfill']"
            ]
          },
          "metadata": {},
          "execution_count": 9
        }
      ]
    },
    {
      "cell_type": "code",
      "source": [
        "string_method = [method for method in dir(str) if not method.startswith('__')]\n",
        "for idx, method in enumerate(string_method):\n",
        "    print(f'{idx+1}. {method}')\n"
      ],
      "metadata": {
        "colab": {
          "base_uri": "https://localhost:8080/"
        },
        "id": "y3vBFJysVUOu",
        "outputId": "1d604aae-fac9-4652-f1d8-edfd0a1aab77"
      },
      "execution_count": 11,
      "outputs": [
        {
          "output_type": "stream",
          "name": "stdout",
          "text": [
            "1. capitalize\n",
            "2. casefold\n",
            "3. center\n",
            "4. count\n",
            "5. encode\n",
            "6. endswith\n",
            "7. expandtabs\n",
            "8. find\n",
            "9. format\n",
            "10. format_map\n",
            "11. index\n",
            "12. isalnum\n",
            "13. isalpha\n",
            "14. isascii\n",
            "15. isdecimal\n",
            "16. isdigit\n",
            "17. isidentifier\n",
            "18. islower\n",
            "19. isnumeric\n",
            "20. isprintable\n",
            "21. isspace\n",
            "22. istitle\n",
            "23. isupper\n",
            "24. join\n",
            "25. ljust\n",
            "26. lower\n",
            "27. lstrip\n",
            "28. maketrans\n",
            "29. partition\n",
            "30. removeprefix\n",
            "31. removesuffix\n",
            "32. replace\n",
            "33. rfind\n",
            "34. rindex\n",
            "35. rjust\n",
            "36. rpartition\n",
            "37. rsplit\n",
            "38. rstrip\n",
            "39. split\n",
            "40. splitlines\n",
            "41. startswith\n",
            "42. strip\n",
            "43. swapcase\n",
            "44. title\n",
            "45. translate\n",
            "46. upper\n",
            "47. zfill\n"
          ]
        }
      ]
    },
    {
      "cell_type": "code",
      "execution_count": 3,
      "metadata": {
        "colab": {
          "base_uri": "https://localhost:8080/"
        },
        "id": "9LzReZhmEOVF",
        "outputId": "bae2fadd-d18e-4319-9571-36c8097108a0"
      },
      "outputs": [
        {
          "output_type": "stream",
          "name": "stdout",
          "text": [
            "3\n",
            "c\n"
          ]
        }
      ],
      "source": [
        "#         0    1    2    3  4  5  6  7\n",
        "names = ['a', 'b', 'c', 'd', 1, 2, 3, 4]\n",
        "#        -8  -7     -6   -5  -4 -3 -2 -1\n",
        "print(names[-2])\n",
        "print(names[-6])\n"
      ]
    },
    {
      "cell_type": "code",
      "source": [
        "#         0    1    2    3   4  5  6  7\n",
        "names = ['a', 'b', 'c', 'd', 1, 2, 3, 4]\n",
        "#        -8   -7   -6    -5  -4 -3 -2 -1\n",
        "print(names[2])\n",
        "print(names[-6])\n"
      ],
      "metadata": {
        "colab": {
          "base_uri": "https://localhost:8080/"
        },
        "id": "bd0k0lYrFAqy",
        "outputId": "0d503be0-70d0-41b3-c341-1f7fe183de41"
      },
      "execution_count": 4,
      "outputs": [
        {
          "output_type": "stream",
          "name": "stdout",
          "text": [
            "c\n",
            "c\n"
          ]
        }
      ]
    },
    {
      "cell_type": "code",
      "source": [
        "#         0    1    2    3   4  5  6  7\n",
        "names = ['a', 'b', 'c', 'd', 1, 2, 3, 4]\n",
        "#        -8   -7   -6    -5  -4 -3 -2 -1\n",
        "print(names[2])\n",
        "print(names[-6])\n"
      ],
      "metadata": {
        "id": "Rt1Ue-E9F1ZX"
      },
      "execution_count": null,
      "outputs": []
    },
    {
      "cell_type": "code",
      "source": [
        "list_method = [method for method in(dir(list)) if not method.startswith('__')]\n",
        "for idx, method in enumerate(list_method):\n",
        "    print(f'{idx+1}. {method}')"
      ],
      "metadata": {
        "colab": {
          "base_uri": "https://localhost:8080/"
        },
        "id": "oI7nBlAzVw8e",
        "outputId": "b9dd43af-e50b-4fbd-f3dd-0402df3d3ac5"
      },
      "execution_count": 12,
      "outputs": [
        {
          "output_type": "stream",
          "name": "stdout",
          "text": [
            "1. append\n",
            "2. clear\n",
            "3. copy\n",
            "4. count\n",
            "5. extend\n",
            "6. index\n",
            "7. insert\n",
            "8. pop\n",
            "9. remove\n",
            "10. reverse\n",
            "11. sort\n"
          ]
        }
      ]
    },
    {
      "cell_type": "code",
      "source": [
        "tuple_method = [method for method in dir(tuple) if not method.startswith('_')]\n",
        "for idx, method in enumerate(tuple_method):\n",
        "    print(f'{idx+1}. {method}')"
      ],
      "metadata": {
        "colab": {
          "base_uri": "https://localhost:8080/"
        },
        "id": "7EqgJHYcV8i3",
        "outputId": "552d484c-3acb-4f84-c4b1-cd46bc2451ab"
      },
      "execution_count": 15,
      "outputs": [
        {
          "output_type": "stream",
          "name": "stdout",
          "text": [
            "1. count\n",
            "2. index\n"
          ]
        }
      ]
    },
    {
      "cell_type": "code",
      "source": [
        "a = \"sajid_zahid\"\n",
        "b = \"_Sajidzahid\"\n",
        "print(type(a), type(b))\n",
        "print(id(a), id(b))\n",
        "\n",
        "\n",
        "\n"
      ],
      "metadata": {
        "colab": {
          "base_uri": "https://localhost:8080/"
        },
        "id": "1f0ibp3JW5Z3",
        "outputId": "359d8615-1bfe-445c-b32a-b89c2ed0e287"
      },
      "execution_count": 35,
      "outputs": [
        {
          "output_type": "stream",
          "name": "stdout",
          "text": [
            "<class 'str'> <class 'str'>\n",
            "132936476413680 132936474790512\n"
          ]
        }
      ]
    },
    {
      "cell_type": "code",
      "source": [],
      "metadata": {
        "id": "G46hqqNGXCtL"
      },
      "execution_count": null,
      "outputs": []
    }
  ]
}