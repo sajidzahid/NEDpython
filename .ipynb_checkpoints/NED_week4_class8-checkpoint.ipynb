{
 "cells": [
  {
   "cell_type": "markdown",
   "id": "3336242f-6bae-4043-a4f5-7133cd0d335a",
   "metadata": {},
   "source": [
    "# Loops\n",
    "\n",
    "* For Loop\n",
    "* While Loop"
   ]
  },
  {
   "cell_type": "code",
   "execution_count": null,
   "id": "392e5082-73af-4eac-a3d6-ef0eda49ebc7",
   "metadata": {},
   "outputs": [],
   "source": [
    "number_range = range(0,10)"
   ]
  },
  {
   "cell_type": "markdown",
   "id": "d7789ee6-47df-43fd-99e0-0be273e5af14",
   "metadata": {},
   "source": [
    "# i = iterator"
   ]
  },
  {
   "cell_type": "code",
   "execution_count": 14,
   "id": "5a68b982-b6ab-403a-864d-cad4c2bff786",
   "metadata": {},
   "outputs": [
    {
     "name": "stdout",
     "output_type": "stream",
     "text": [
      "0\n",
      "1\n",
      "2\n",
      "3\n",
      "4\n",
      "5\n",
      "6\n",
      "7\n",
      "8\n",
      "9\n"
     ]
    }
   ],
   "source": [
    "for i in range(0,10):\n",
    "    print(i)"
   ]
  },
  {
   "cell_type": "code",
   "execution_count": 22,
   "id": "77ab9857-5440-46c4-9eb2-0c98ee60f603",
   "metadata": {},
   "outputs": [
    {
     "name": "stdout",
     "output_type": "stream",
     "text": [
      "10\n",
      "11\n",
      "12\n",
      "13\n",
      "14\n",
      "15\n",
      "16\n",
      "17\n",
      "18\n",
      "19\n"
     ]
    }
   ],
   "source": [
    "for i in range(0,10):\n",
    "    print(i+10) # Tab (Spacebar) in necessary when colon is used in syntax."
   ]
  },
  {
   "cell_type": "code",
   "execution_count": 24,
   "id": "8e23f0a4-03b5-49e5-b08d-751f72b541c9",
   "metadata": {},
   "outputs": [
    {
     "name": "stdout",
     "output_type": "stream",
     "text": [
      "10\n",
      "20\n",
      "11\n",
      "21\n",
      "12\n",
      "22\n",
      "13\n",
      "23\n",
      "14\n",
      "24\n",
      "15\n",
      "25\n",
      "16\n",
      "26\n",
      "17\n",
      "27\n",
      "18\n",
      "28\n",
      "19\n",
      "29\n",
      "last-value:  9\n"
     ]
    }
   ],
   "source": [
    "for i in range(0,10):\n",
    "    print(i+10)\n",
    "    print(i+20)\n",
    "print(\"last-value: \",i)"
   ]
  },
  {
   "cell_type": "code",
   "execution_count": 28,
   "id": "2a62f1b0-db12-4a20-b5d0-b187348b273b",
   "metadata": {},
   "outputs": [
    {
     "name": "stdout",
     "output_type": "stream",
     "text": [
      "MANGO\n",
      "APPLE\n",
      "STRAWBERRY\n"
     ]
    }
   ],
   "source": [
    "fruits = [\"mango\", \"apple\", \"strawberry\"]\n",
    "for fruit in fruits:\n",
    "    print(fruit.upper()) # Upper function use to capitalized the letters."
   ]
  },
  {
   "cell_type": "code",
   "execution_count": 43,
   "id": "a3fb5fac-e5ba-4ad5-833e-0c2155d1fd47",
   "metadata": {},
   "outputs": [
    {
     "name": "stdout",
     "output_type": "stream",
     "text": [
      "['MANGO', 'APPLE', 'STRAWBERRY']\n"
     ]
    }
   ],
   "source": [
    "#            0        1          2\n",
    "# This function is use when we need to capitilized the values. \n",
    "fruits = [\"mango\", \"apple\", \"strawberry\"]\n",
    "index = 0\n",
    "for fruit in fruits:\n",
    "    fruits [index]=fruit.upper()\n",
    "    index +=1\n",
    "print(fruits)"
   ]
  },
  {
   "cell_type": "code",
   "execution_count": 40,
   "id": "f7efdf0f-43b5-4da0-bd01-56c13b02be71",
   "metadata": {},
   "outputs": [],
   "source": [
    "# Write a program which will taka a interger input and print the multiplication table. - ASSIGNEMENT"
   ]
  },
  {
   "cell_type": "code",
   "execution_count": 57,
   "id": "d605359b-4101-463d-a10a-7d3185f38d3a",
   "metadata": {},
   "outputs": [
    {
     "ename": "IndentationError",
     "evalue": "unexpected indent (2703718125.py, line 3)",
     "output_type": "error",
     "traceback": [
      "\u001b[1;36m  Cell \u001b[1;32mIn[57], line 3\u001b[1;36m\u001b[0m\n\u001b[1;33m    for i in range(1,11)\u001b[0m\n\u001b[1;37m    ^\u001b[0m\n\u001b[1;31mIndentationError\u001b[0m\u001b[1;31m:\u001b[0m unexpected indent\n"
     ]
    }
   ],
   "source": [
    "number = int(input(\"Enter Multiplication Table\"))\n",
    "number = int(input(\"Enter range\"))\n",
    "    for i in range(1,11)\n",
    "    print(f\"{i} x {number} =\" , i*number)\n",
    "\n",
    "             "
   ]
  },
  {
   "cell_type": "code",
   "execution_count": 59,
   "id": "0e8e55a3-0049-4d55-931e-e2fb38ad4404",
   "metadata": {},
   "outputs": [
    {
     "name": "stdin",
     "output_type": "stream",
     "text": [
      "Enter the number to generate the multiplication table:  2\n",
      "Enter the range for the table (e.g., 10 for 1-10):  10\n"
     ]
    },
    {
     "name": "stdout",
     "output_type": "stream",
     "text": [
      "\n",
      "Multiplication Table for 2:\n",
      "\n",
      "2 x 1 = 2\n",
      "2 x 2 = 4\n",
      "2 x 3 = 6\n",
      "2 x 4 = 8\n",
      "2 x 5 = 10\n",
      "2 x 6 = 12\n",
      "2 x 7 = 14\n",
      "2 x 8 = 16\n",
      "2 x 9 = 18\n",
      "2 x 10 = 20\n"
     ]
    }
   ],
   "source": [
    "# Get the number from the user\n",
    "number = int(input(\"Enter the number to generate the multiplication table: \"))\n",
    "\n",
    "# Get the range for the table\n",
    "table_range = int(input(\"Enter the range for the table (e.g., 10 for 1-10): \"))\n",
    "\n",
    "# Generate and print the table\n",
    "print(f\"\\nMultiplication Table for {number}:\\n\")\n",
    "for i in range(1, table_range + 1):\n",
    " print(f\"{number} x {i} = {number * i}\")"
   ]
  },
  {
   "cell_type": "code",
   "execution_count": null,
   "id": "1c2a5a67-695c-4ac9-a9fe-f8b494cdcce7",
   "metadata": {},
   "outputs": [],
   "source": []
  }
 ],
 "metadata": {
  "kernelspec": {
   "display_name": "Python [conda env:base] *",
   "language": "python",
   "name": "conda-base-py"
  },
  "language_info": {
   "codemirror_mode": {
    "name": "ipython",
    "version": 3
   },
   "file_extension": ".py",
   "mimetype": "text/x-python",
   "name": "python",
   "nbconvert_exporter": "python",
   "pygments_lexer": "ipython3",
   "version": "3.11.5"
  }
 },
 "nbformat": 4,
 "nbformat_minor": 5
}
