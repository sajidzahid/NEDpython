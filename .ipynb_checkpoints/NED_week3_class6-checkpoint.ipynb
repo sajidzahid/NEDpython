{
 "cells": [
  {
   "cell_type": "code",
   "execution_count": 1,
   "id": "37ad051f-d262-4bb5-93b4-5dbdf889da77",
   "metadata": {},
   "outputs": [
    {
     "name": "stdout",
     "output_type": "stream",
     "text": [
      "5\n"
     ]
    }
   ],
   "source": [
    "a = 5\n",
    "print(a)"
   ]
  },
  {
   "cell_type": "markdown",
   "id": "da24ddbb-b04c-4705-8bd7-607ae5bb1efe",
   "metadata": {},
   "source": [
    "# Python Collection Data Types\n",
    "\n",
    "Python List\n",
    "\n"
   ]
  },
  {
   "cell_type": "code",
   "execution_count": 4,
   "id": "ad1ed3de-3c06-4525-8158-827a5673eee4",
   "metadata": {},
   "outputs": [
    {
     "name": "stdout",
     "output_type": "stream",
     "text": [
      "[]\n",
      "<class 'list'>\n"
     ]
    }
   ],
   "source": [
    "names = []\n",
    "print(names)\n",
    "print(type(names))"
   ]
  },
  {
   "cell_type": "code",
   "execution_count": 28,
   "id": "7b21c55c-0849-4230-bbc3-d58bd920be3a",
   "metadata": {},
   "outputs": [
    {
     "name": "stdout",
     "output_type": "stream",
     "text": [
      "()\n",
      "<class 'tuple'>\n"
     ]
    }
   ],
   "source": [
    "names = ()\n",
    "print(names)\n",
    "print(type(names))"
   ]
  },
  {
   "cell_type": "code",
   "execution_count": 14,
   "id": "506c9e07-aa11-4886-bdba-405379311001",
   "metadata": {},
   "outputs": [
    {
     "name": "stdout",
     "output_type": "stream",
     "text": [
      "['NED', 'Week_3', 'Class_6']\n"
     ]
    }
   ],
   "source": [
    "names = [\"NED\", \"Week_3\", \"Class_6\"]\n",
    "print(names)\n"
   ]
  },
  {
   "cell_type": "code",
   "execution_count": null,
   "id": "2043312e-cc35-40b1-a93f-bf087bb33adb",
   "metadata": {},
   "outputs": [],
   "source": [
    "# (Lists) functions are heterogenous meaning they can store more than one different data types.\n",
    "# (Lists) have NO Fixed size unlike arrays."
   ]
  },
  {
   "cell_type": "code",
   "execution_count": 16,
   "id": "10d9bba7-e0bb-498a-8205-2b00d513520d",
   "metadata": {},
   "outputs": [
    {
     "data": {
      "text/plain": [
       "['NED', 'Week_3', 'Class_6']"
      ]
     },
     "execution_count": 16,
     "metadata": {},
     "output_type": "execute_result"
    }
   ],
   "source": [
    "names "
   ]
  },
  {
   "cell_type": "code",
   "execution_count": 18,
   "id": "80aee7a3-58c5-4615-9015-c44c163eeec5",
   "metadata": {},
   "outputs": [
    {
     "name": "stdout",
     "output_type": "stream",
     "text": [
      "['Hello', 'world']\n"
     ]
    }
   ],
   "source": [
    "names = ['Hello', 'world']\n",
    "print(names)"
   ]
  },
  {
   "cell_type": "code",
   "execution_count": 26,
   "id": "41fd6c4c-5468-4af2-940e-ac0d9c76f62c",
   "metadata": {},
   "outputs": [
    {
     "data": {
      "text/plain": [
       "['NED', 'Week_3', 'Class_6']"
      ]
     },
     "execution_count": 26,
     "metadata": {},
     "output_type": "execute_result"
    }
   ],
   "source": [
    "names"
   ]
  },
  {
   "cell_type": "code",
   "execution_count": 44,
   "id": "2e10a439-08d0-43e9-9ef5-38e83207621d",
   "metadata": {},
   "outputs": [
    {
     "name": "stdout",
     "output_type": "stream",
     "text": [
      "3\n",
      "['NED', 'Week_3', 'Class_6']\n"
     ]
    }
   ],
   "source": [
    "names = [\"NED\", \"Week_3\", \"Class_6\"]\n",
    "print(len(names))\n",
    "print(names)\n"
   ]
  },
  {
   "cell_type": "code",
   "execution_count": 54,
   "id": "a25ecb2f-1934-4872-a20a-56b4a2589f66",
   "metadata": {},
   "outputs": [
    {
     "name": "stdout",
     "output_type": "stream",
     "text": [
      "['NED', 'Week_3', 'Class_6', 10, 12, 13, 13.5678, 90.1234, False, True, True]\n",
      "11\n"
     ]
    }
   ],
   "source": [
    "names = [\"NED\",\"Week_3\",\"Class_6\",10,12,13,13.5678,90.1234,False,True,True]\n",
    "print(names)\n",
    "print(len(names))"
   ]
  },
  {
   "cell_type": "code",
   "execution_count": 42,
   "id": "d2118112-1b04-4716-beb7-3b5612d40562",
   "metadata": {},
   "outputs": [
    {
     "data": {
      "text/plain": [
       "['NED', 'Week_3', 'Class_6,10,12,13,13.5678,90.1234,False,True,True']"
      ]
     },
     "execution_count": 42,
     "metadata": {},
     "output_type": "execute_result"
    }
   ],
   "source": [
    "names"
   ]
  },
  {
   "cell_type": "code",
   "execution_count": 52,
   "id": "95953ca2-bcc9-46ed-834a-2560a2e15f92",
   "metadata": {},
   "outputs": [
    {
     "name": "stdout",
     "output_type": "stream",
     "text": [
      "11\n"
     ]
    }
   ],
   "source": [
    "names = [\"NED\",\"Week_3\",\"Class_6\",10,12,13,13.5678,90.1234,False,True,True]\n",
    "print(len(names))"
   ]
  },
  {
   "cell_type": "code",
   "execution_count": 56,
   "id": "dbdf53e8-3d41-4b83-809b-499c6b80d125",
   "metadata": {},
   "outputs": [
    {
     "data": {
      "text/plain": [
       "11"
      ]
     },
     "execution_count": 56,
     "metadata": {},
     "output_type": "execute_result"
    }
   ],
   "source": [
    "len(names)"
   ]
  },
  {
   "cell_type": "code",
   "execution_count": 60,
   "id": "d6f44d1c-1590-45dc-ba95-8fbfe173c5be",
   "metadata": {},
   "outputs": [
    {
     "name": "stdout",
     "output_type": "stream",
     "text": [
      "['__add__', '__class__', '__class_getitem__', '__contains__', '__delattr__', '__delitem__', '__dir__', '__doc__', '__eq__', '__format__', '__ge__', '__getattribute__', '__getitem__', '__getstate__', '__gt__', '__hash__', '__iadd__', '__imul__', '__init__', '__init_subclass__', '__iter__', '__le__', '__len__', '__lt__', '__mul__', '__ne__', '__new__', '__reduce__', '__reduce_ex__', '__repr__', '__reversed__', '__rmul__', '__setattr__', '__setitem__', '__sizeof__', '__str__', '__subclasshook__', 'append', 'clear', 'copy', 'count', 'extend', 'index', 'insert', 'pop', 'remove', 'reverse', 'sort']\n"
     ]
    }
   ],
   "source": [
    "print(dir(names))"
   ]
  },
  {
   "cell_type": "code",
   "execution_count": 70,
   "id": "e2dec8a8-3bf0-4532-bf67-5e5130cee8da",
   "metadata": {},
   "outputs": [
    {
     "name": "stdout",
     "output_type": "stream",
     "text": [
      "[]\n",
      "['NED University', 'Batch', 10, 'SAP Group']\n"
     ]
    }
   ],
   "source": [
    "biodata = [] # empty List\n",
    "print(biodata)\n",
    "biodata.append(\"NED University\")\n",
    "biodata.append(\"Batch\")\n",
    "biodata.append(10)\n",
    "biodata.append(\"SAP Group\")\n",
    "print(biodata)\n",
    "\n"
   ]
  },
  {
   "cell_type": "code",
   "execution_count": 72,
   "id": "08f20dad-1583-4dbb-8689-6a1fb36e55f9",
   "metadata": {},
   "outputs": [
    {
     "name": "stdout",
     "output_type": "stream",
     "text": [
      "['NED', 'Week_3', 'Class_6', 10, 12, 13, 13.5678, 90.1234, False, True, True, 'SAJID']\n",
      "12\n"
     ]
    }
   ],
   "source": [
    "names.append(\"SAJID\")\n",
    "print(names)\n",
    "print(len(names))"
   ]
  },
  {
   "cell_type": "code",
   "execution_count": null,
   "id": "e559d59b-89c5-4f8e-87f6-f3db00119f55",
   "metadata": {},
   "outputs": [],
   "source": []
  }
 ],
 "metadata": {
  "kernelspec": {
   "display_name": "Python [conda env:base] *",
   "language": "python",
   "name": "conda-base-py"
  },
  "language_info": {
   "codemirror_mode": {
    "name": "ipython",
    "version": 3
   },
   "file_extension": ".py",
   "mimetype": "text/x-python",
   "name": "python",
   "nbconvert_exporter": "python",
   "pygments_lexer": "ipython3",
   "version": "3.11.5"
  }
 },
 "nbformat": 4,
 "nbformat_minor": 5
}
