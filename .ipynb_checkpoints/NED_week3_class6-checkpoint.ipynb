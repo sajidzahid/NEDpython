{
 "cells": [
  {
   "cell_type": "code",
   "execution_count": 1,
   "id": "37ad051f-d262-4bb5-93b4-5dbdf889da77",
   "metadata": {},
   "outputs": [
    {
     "name": "stdout",
     "output_type": "stream",
     "text": [
      "5\n"
     ]
    }
   ],
   "source": [
    "a = 5\n",
    "print(a)"
   ]
  },
  {
   "cell_type": "markdown",
   "id": "da24ddbb-b04c-4705-8bd7-607ae5bb1efe",
   "metadata": {},
   "source": [
    "# Python Collection Data Types\n",
    "\n",
    "Python List\n",
    "\n"
   ]
  },
  {
   "cell_type": "code",
   "execution_count": 4,
   "id": "ad1ed3de-3c06-4525-8158-827a5673eee4",
   "metadata": {},
   "outputs": [
    {
     "name": "stdout",
     "output_type": "stream",
     "text": [
      "[]\n",
      "<class 'list'>\n"
     ]
    }
   ],
   "source": [
    "names = []\n",
    "print(names)\n",
    "print(type(names))"
   ]
  },
  {
   "cell_type": "code",
   "execution_count": 28,
   "id": "7b21c55c-0849-4230-bbc3-d58bd920be3a",
   "metadata": {},
   "outputs": [
    {
     "name": "stdout",
     "output_type": "stream",
     "text": [
      "()\n",
      "<class 'tuple'>\n"
     ]
    }
   ],
   "source": [
    "names = ()\n",
    "print(names)\n",
    "print(type(names))"
   ]
  },
  {
   "cell_type": "code",
   "execution_count": 14,
   "id": "506c9e07-aa11-4886-bdba-405379311001",
   "metadata": {},
   "outputs": [
    {
     "name": "stdout",
     "output_type": "stream",
     "text": [
      "['NED', 'Week_3', 'Class_6']\n"
     ]
    }
   ],
   "source": [
    "names = [\"NED\", \"Week_3\", \"Class_6\"]\n",
    "print(names)\n"
   ]
  },
  {
   "cell_type": "code",
   "execution_count": null,
   "id": "2043312e-cc35-40b1-a93f-bf087bb33adb",
   "metadata": {},
   "outputs": [],
   "source": [
    "# (Lists) functions are heterogenous meaning they can store more than one different data types.\n",
    "# (Lists) have NO Fixed size unlike arrays."
   ]
  },
  {
   "cell_type": "code",
   "execution_count": 16,
   "id": "10d9bba7-e0bb-498a-8205-2b00d513520d",
   "metadata": {},
   "outputs": [
    {
     "data": {
      "text/plain": [
       "['NED', 'Week_3', 'Class_6']"
      ]
     },
     "execution_count": 16,
     "metadata": {},
     "output_type": "execute_result"
    }
   ],
   "source": [
    "names "
   ]
  },
  {
   "cell_type": "code",
   "execution_count": 18,
   "id": "80aee7a3-58c5-4615-9015-c44c163eeec5",
   "metadata": {},
   "outputs": [
    {
     "name": "stdout",
     "output_type": "stream",
     "text": [
      "['Hello', 'world']\n"
     ]
    }
   ],
   "source": [
    "names = ['Hello', 'world']\n",
    "print(names)"
   ]
  },
  {
   "cell_type": "code",
   "execution_count": 26,
   "id": "41fd6c4c-5468-4af2-940e-ac0d9c76f62c",
   "metadata": {},
   "outputs": [
    {
     "data": {
      "text/plain": [
       "['NED', 'Week_3', 'Class_6']"
      ]
     },
     "execution_count": 26,
     "metadata": {},
     "output_type": "execute_result"
    }
   ],
   "source": [
    "names"
   ]
  },
  {
   "cell_type": "code",
   "execution_count": 44,
   "id": "2e10a439-08d0-43e9-9ef5-38e83207621d",
   "metadata": {},
   "outputs": [
    {
     "name": "stdout",
     "output_type": "stream",
     "text": [
      "3\n",
      "['NED', 'Week_3', 'Class_6']\n"
     ]
    }
   ],
   "source": [
    "names = [\"NED\", \"Week_3\", \"Class_6\"]\n",
    "print(len(names))\n",
    "print(names)\n"
   ]
  },
  {
   "cell_type": "code",
   "execution_count": 54,
   "id": "a25ecb2f-1934-4872-a20a-56b4a2589f66",
   "metadata": {},
   "outputs": [
    {
     "name": "stdout",
     "output_type": "stream",
     "text": [
      "['NED', 'Week_3', 'Class_6', 10, 12, 13, 13.5678, 90.1234, False, True, True]\n",
      "11\n"
     ]
    }
   ],
   "source": [
    "names = [\"NED\",\"Week_3\",\"Class_6\",10,12,13,13.5678,90.1234,False,True,True]\n",
    "print(names)\n",
    "print(len(names))"
   ]
  },
  {
   "cell_type": "code",
   "execution_count": 42,
   "id": "d2118112-1b04-4716-beb7-3b5612d40562",
   "metadata": {},
   "outputs": [
    {
     "data": {
      "text/plain": [
       "['NED', 'Week_3', 'Class_6,10,12,13,13.5678,90.1234,False,True,True']"
      ]
     },
     "execution_count": 42,
     "metadata": {},
     "output_type": "execute_result"
    }
   ],
   "source": [
    "names"
   ]
  },
  {
   "cell_type": "code",
   "execution_count": 52,
   "id": "95953ca2-bcc9-46ed-834a-2560a2e15f92",
   "metadata": {},
   "outputs": [
    {
     "name": "stdout",
     "output_type": "stream",
     "text": [
      "11\n"
     ]
    }
   ],
   "source": [
    "names = [\"NED\",\"Week_3\",\"Class_6\",10,12,13,13.5678,90.1234,False,True,True]\n",
    "print(len(names))"
   ]
  },
  {
   "cell_type": "code",
   "execution_count": 56,
   "id": "dbdf53e8-3d41-4b83-809b-499c6b80d125",
   "metadata": {},
   "outputs": [
    {
     "data": {
      "text/plain": [
       "11"
      ]
     },
     "execution_count": 56,
     "metadata": {},
     "output_type": "execute_result"
    }
   ],
   "source": [
    "len(names)"
   ]
  },
  {
   "cell_type": "code",
   "execution_count": 60,
   "id": "d6f44d1c-1590-45dc-ba95-8fbfe173c5be",
   "metadata": {},
   "outputs": [
    {
     "name": "stdout",
     "output_type": "stream",
     "text": [
      "['__add__', '__class__', '__class_getitem__', '__contains__', '__delattr__', '__delitem__', '__dir__', '__doc__', '__eq__', '__format__', '__ge__', '__getattribute__', '__getitem__', '__getstate__', '__gt__', '__hash__', '__iadd__', '__imul__', '__init__', '__init_subclass__', '__iter__', '__le__', '__len__', '__lt__', '__mul__', '__ne__', '__new__', '__reduce__', '__reduce_ex__', '__repr__', '__reversed__', '__rmul__', '__setattr__', '__setitem__', '__sizeof__', '__str__', '__subclasshook__', 'append', 'clear', 'copy', 'count', 'extend', 'index', 'insert', 'pop', 'remove', 'reverse', 'sort']\n"
     ]
    }
   ],
   "source": [
    "print(dir(names))"
   ]
  },
  {
   "cell_type": "code",
   "execution_count": 70,
   "id": "e2dec8a8-3bf0-4532-bf67-5e5130cee8da",
   "metadata": {},
   "outputs": [
    {
     "name": "stdout",
     "output_type": "stream",
     "text": [
      "[]\n",
      "['NED University', 'Batch', 10, 'SAP Group']\n"
     ]
    }
   ],
   "source": [
    "biodata = [] # empty List\n",
    "print(biodata)\n",
    "biodata.append(\"NED University\")\n",
    "biodata.append(\"Batch\")\n",
    "biodata.append(10)\n",
    "biodata.append(\"SAP Group\")\n",
    "print(biodata)\n",
    "\n"
   ]
  },
  {
   "cell_type": "code",
   "execution_count": 72,
   "id": "08f20dad-1583-4dbb-8689-6a1fb36e55f9",
   "metadata": {},
   "outputs": [
    {
     "name": "stdout",
     "output_type": "stream",
     "text": [
      "['NED', 'Week_3', 'Class_6', 10, 12, 13, 13.5678, 90.1234, False, True, True, 'SAJID']\n",
      "12\n"
     ]
    }
   ],
   "source": [
    "names.append(\"SAJID\")\n",
    "print(names)\n",
    "print(len(names))"
   ]
  },
  {
   "cell_type": "code",
   "execution_count": 74,
   "id": "e559d59b-89c5-4f8e-87f6-f3db00119f55",
   "metadata": {},
   "outputs": [
    {
     "name": "stdout",
     "output_type": "stream",
     "text": [
      "['NED University', 'Batch', 10, 'SAP Group']\n"
     ]
    }
   ],
   "source": [
    "# Nested Lists\n",
    "# Demisionality of the lists increases only when a list has another list within it.\n",
    "print(biodata)\n",
    "names.append([\"Arochem\",\"Arochem Enterprises\"])"
   ]
  },
  {
   "cell_type": "code",
   "execution_count": 76,
   "id": "8aa294f4-a603-4b9c-9eb9-8f3039ac83e9",
   "metadata": {},
   "outputs": [
    {
     "name": "stdout",
     "output_type": "stream",
     "text": [
      "['NED University', 'Batch', 10, 'SAP Group']\n"
     ]
    }
   ],
   "source": [
    "print(biodata)"
   ]
  },
  {
   "cell_type": "code",
   "execution_count": 84,
   "id": "4c539a71-395a-49eb-b686-9a60d5c07ca4",
   "metadata": {},
   "outputs": [
    {
     "name": "stdout",
     "output_type": "stream",
     "text": [
      "([['NUST', 'AIR', 'FAST', 'ISL'], ['Peshawar University', 'Islamia College']], [['NED', 'KU', 'Sir Syed'], ['DHA Suffa', 'Szabist']])\n"
     ]
    }
   ],
   "source": [
    "unis = [[\"NUST\", \"AIR\", \"FAST\", \"ISL\"], [\"Peshawar University\", \"Islamia College\"]], [[\"NED\", \"KU\", \"Sir Syed\"], [\"DHA Suffa\", \"Szabist\"]]\n",
    "print(unis)"
   ]
  },
  {
   "cell_type": "code",
   "execution_count": 88,
   "id": "eee9046b-87d5-4f93-a1fc-d837d00bed9f",
   "metadata": {},
   "outputs": [
    {
     "name": "stdout",
     "output_type": "stream",
     "text": [
      "2\n"
     ]
    }
   ],
   "source": [
    "print(len(unis))"
   ]
  },
  {
   "cell_type": "code",
   "execution_count": 92,
   "id": "5053666a-d8ab-480e-9ac3-45cbb5a11ce2",
   "metadata": {},
   "outputs": [
    {
     "name": "stdout",
     "output_type": "stream",
     "text": [
      "([['NUST', 'AIR', 'FAST', 'ISL'], ['Peshawar University', 'Islamia College']], [['NED', 'KU', 'Sir Syed'], ['DHA Suffa', 'Szabist']], [[['Hello', 'World']]])\n"
     ]
    }
   ],
   "source": [
    "unis = [[\"NUST\", \"AIR\", \"FAST\", \"ISL\"], [\"Peshawar University\", \"Islamia College\"]], [[\"NED\", \"KU\", \"Sir Syed\"], [\"DHA Suffa\", \"Szabist\"]], [[[\"Hello\", \"World\"]]]\n",
    "print(unis)"
   ]
  },
  {
   "cell_type": "code",
   "execution_count": 94,
   "id": "4d3b9fde-c78f-4bd4-a983-d00aa3c21921",
   "metadata": {},
   "outputs": [
    {
     "name": "stdout",
     "output_type": "stream",
     "text": [
      "3\n"
     ]
    }
   ],
   "source": [
    "print(len(unis))"
   ]
  },
  {
   "cell_type": "code",
   "execution_count": 96,
   "id": "57365b68-dd40-4f08-bdcb-2a4bb79a598b",
   "metadata": {},
   "outputs": [
    {
     "name": "stdout",
     "output_type": "stream",
     "text": [
      "([['NUST', 'AIR', 'FAST', 'ISL'], ['Peshawar University', 'Islamia College']], [['NED', 'KU', 'Sir Syed'], ['DHA Suffa', 'Szabist']], [[['Hello', 'World']]], [[[['PanasonicHP', 'Lenovo']]]])\n"
     ]
    }
   ],
   "source": [
    "unis = [[\"NUST\", \"AIR\", \"FAST\", \"ISL\"], [\"Peshawar University\", \"Islamia College\"]], [[\"NED\", \"KU\", \"Sir Syed\"], [\"DHA Suffa\", \"Szabist\"]], [[[\"Hello\", \"World\"]]], [[[[\"Panasonic\" \"HP\", \"Lenovo\"]]]]\n",
    "print(unis)\n"
   ]
  },
  {
   "cell_type": "code",
   "execution_count": 98,
   "id": "ef54061f-4a6d-40f9-b5ee-0cdcb7a71029",
   "metadata": {},
   "outputs": [
    {
     "name": "stdout",
     "output_type": "stream",
     "text": [
      "4\n"
     ]
    }
   ],
   "source": [
    "print(len(unis))"
   ]
  },
  {
   "cell_type": "code",
   "execution_count": 100,
   "id": "7a468371-2327-4f48-9f10-78249bc60391",
   "metadata": {},
   "outputs": [
    {
     "data": {
      "text/plain": [
       "2"
      ]
     },
     "execution_count": 100,
     "metadata": {},
     "output_type": "execute_result"
    }
   ],
   "source": [
    "# Count Function show the repeatition of variable in the data. Like \"True\" is used (2) times.\n",
    "names.count(True)"
   ]
  },
  {
   "cell_type": "code",
   "execution_count": 102,
   "id": "89b484c8-6580-4642-b6e4-76d5ab2e96f3",
   "metadata": {},
   "outputs": [
    {
     "name": "stdout",
     "output_type": "stream",
     "text": [
      "['NED', 'Week_3', 'Class_6', 10, 12, 13, 13.5678, 90.1234, False, True, True, 'SAJID', ['Arochem', 'Arochem Enterprises']]\n"
     ]
    }
   ],
   "source": [
    "print(names)"
   ]
  },
  {
   "cell_type": "code",
   "execution_count": 108,
   "id": "a214e226-a03c-49bb-9ac0-0230b20cf76e",
   "metadata": {},
   "outputs": [
    {
     "data": {
      "text/plain": [
       "1"
      ]
     },
     "execution_count": 108,
     "metadata": {},
     "output_type": "execute_result"
    }
   ],
   "source": [
    "names.count(False)"
   ]
  },
  {
   "cell_type": "code",
   "execution_count": 111,
   "id": "12a2a80d-6290-4540-8ca8-0469126b5bf2",
   "metadata": {},
   "outputs": [
    {
     "data": {
      "text/plain": [
       "1"
      ]
     },
     "execution_count": 111,
     "metadata": {},
     "output_type": "execute_result"
    }
   ],
   "source": [
    "names.count(10)"
   ]
  },
  {
   "cell_type": "code",
   "execution_count": 113,
   "id": "620164ea-0fc7-48ec-be30-c5d1eb27d087",
   "metadata": {},
   "outputs": [
    {
     "name": "stdout",
     "output_type": "stream",
     "text": [
      "['NED', 'Week_3', 'Class_6', 10, 12, 13, 13.5678, 90.1234, False, True, True, 'SAJID', ['Arochem', 'Arochem Enterprises']]\n"
     ]
    }
   ],
   "source": [
    "print(names)"
   ]
  },
  {
   "cell_type": "code",
   "execution_count": null,
   "id": "16d57ebf-29aa-4adf-9556-3f1c33734835",
   "metadata": {},
   "outputs": [],
   "source": [
    "# 'append', 'clear', 'copy', 'count', 'extend', 'index', 'insert', 'pop', 'remove', 'reverse', 'sort'\n",
    "# These are the properties of Lists."
   ]
  },
  {
   "cell_type": "code",
   "execution_count": 119,
   "id": "dba44321-3652-4b24-bff5-b11aa97b8bd1",
   "metadata": {},
   "outputs": [],
   "source": [
    "names.extend(unis)"
   ]
  },
  {
   "cell_type": "code",
   "execution_count": 133,
   "id": "bdc0a8dc-4532-47ac-a03c-9c801044c056",
   "metadata": {},
   "outputs": [
    {
     "name": "stdout",
     "output_type": "stream",
     "text": [
      "['Apple', 'Mango', 'Cherry', 1, 22, 3, 4, 5, 6, 7, 8, 9]\n"
     ]
    }
   ],
   "source": [
    "# Extend Function adds Two Lists Together\n",
    "numbers = [1,22,3,4,5,6,7,8,9]\n",
    "fruits = [\"Apple\", \"Mango\", \"Cherry\"]\n",
    "fruits.extend(numbers) # Old fruits list is now updated.\n",
    "print(fruits)\n"
   ]
  },
  {
   "cell_type": "code",
   "execution_count": 123,
   "id": "1fa900d7-f7f7-4efe-aaaa-927fb74ceedd",
   "metadata": {},
   "outputs": [
    {
     "name": "stdout",
     "output_type": "stream",
     "text": [
      "[1, 22, 3, 4, 5, 6, 7, 8, 9]\n"
     ]
    }
   ],
   "source": [
    "print(numbers)"
   ]
  },
  {
   "cell_type": "code",
   "execution_count": 129,
   "id": "be35e74d-5bd4-45a5-b65f-17f2e9e0fe7d",
   "metadata": {},
   "outputs": [
    {
     "name": "stdout",
     "output_type": "stream",
     "text": [
      "['Apple', 'Mango', 'Cherry', 1, 22, 3, 4, 5, 6, 7, 8, 9]\n"
     ]
    }
   ],
   "source": [
    "print(fruits)"
   ]
  },
  {
   "cell_type": "code",
   "execution_count": 131,
   "id": "22c76fdf-28c4-4c61-b707-8f9794ee77fe",
   "metadata": {},
   "outputs": [
    {
     "name": "stdout",
     "output_type": "stream",
     "text": [
      "['Apple', 'Mango', 'Cherry', 1, 22, 3, 4, 5, 6, 7, 8, 9, 1, 22, 3, 4, 5, 6, 7, 8, 9]\n"
     ]
    }
   ],
   "source": [
    "fruits.extend(numbers) # Old fruits list is now updated.\n",
    "print(fruits)"
   ]
  },
  {
   "cell_type": "code",
   "execution_count": 139,
   "id": "8add9c63-1664-45be-98bb-f86124d3c291",
   "metadata": {},
   "outputs": [
    {
     "name": "stdout",
     "output_type": "stream",
     "text": [
      "['Apple', 'Mango', 'Cherry', 1, 22, 3, 4, 5, 6]\n"
     ]
    }
   ],
   "source": [
    "# POP function to remove the last value from the list\n",
    "fruits.pop()\n",
    "print(fruits)"
   ]
  },
  {
   "cell_type": "code",
   "execution_count": 143,
   "id": "2e13749e-8cff-4486-a923-b63571c05850",
   "metadata": {},
   "outputs": [
    {
     "name": "stdout",
     "output_type": "stream",
     "text": [
      "['Apple', 'Mango', 1, 22, 3, 4, 5, 6]\n"
     ]
    }
   ],
   "source": [
    "#  Remove function to remove the value from the list, Here we will try to remove the Cherry.\n",
    "fruits.remove(\"Cherry\")\n",
    "print(fruits)"
   ]
  },
  {
   "cell_type": "code",
   "execution_count": 145,
   "id": "4770f11d-d42a-48f9-a7d8-90e8ab81022c",
   "metadata": {},
   "outputs": [
    {
     "name": "stdout",
     "output_type": "stream",
     "text": [
      "[1, 22, 3, 4, 5, 6, 7, 8, 9]\n"
     ]
    }
   ],
   "source": [
    "# names_new = names.copy()\n",
    "numbers_new = numbers.copy()\n",
    "print(numbers)\n"
   ]
  },
  {
   "cell_type": "code",
   "execution_count": 147,
   "id": "d94fac3c-1385-418b-807a-8a7c5e098fd4",
   "metadata": {},
   "outputs": [
    {
     "name": "stdout",
     "output_type": "stream",
     "text": [
      "[9, 8, 7, 6, 5, 4, 3, 22, 1]\n"
     ]
    }
   ],
   "source": [
    "# Reverse Function to reverse the values in the list. Like I started from 1, 22 & so on. After reverse It shows the last number first & so on.\n",
    "numbers.reverse()\n",
    "print(numbers)"
   ]
  },
  {
   "cell_type": "code",
   "execution_count": 149,
   "id": "c1b22b58-586b-445f-860e-b6a42ffea0b8",
   "metadata": {},
   "outputs": [
    {
     "name": "stdout",
     "output_type": "stream",
     "text": [
      "[1, 5, 5, 6, 7, 8]\n"
     ]
    }
   ],
   "source": [
    "# Sort function to sort the values in Ascending orders. Like, 1, 2, 3, 4 & so on.\n",
    "number_1 = [1,5,6,8,7,5]\n",
    "number_1.sort()\n",
    "print(number_1)"
   ]
  },
  {
   "cell_type": "code",
   "execution_count": 151,
   "id": "576c9c84-a19e-47d7-93f8-939b2689654c",
   "metadata": {},
   "outputs": [
    {
     "name": "stdout",
     "output_type": "stream",
     "text": [
      "[8, 7, 6, 5, 5, 1]\n"
     ]
    }
   ],
   "source": [
    "# Sort reverse = True function to sort the values in desending orders. Like, 4,3,2,1 so on.\n",
    "number_1 = [1,5,6,8,7,5]\n",
    "number_1.sort(reverse = True)\n",
    "print(number_1)"
   ]
  },
  {
   "cell_type": "code",
   "execution_count": null,
   "id": "a09fc6be-98e6-4ce9-b2db-dfda4b70d33e",
   "metadata": {},
   "outputs": [],
   "source": []
  }
 ],
 "metadata": {
  "kernelspec": {
   "display_name": "Python [conda env:base] *",
   "language": "python",
   "name": "conda-base-py"
  },
  "language_info": {
   "codemirror_mode": {
    "name": "ipython",
    "version": 3
   },
   "file_extension": ".py",
   "mimetype": "text/x-python",
   "name": "python",
   "nbconvert_exporter": "python",
   "pygments_lexer": "ipython3",
   "version": "3.11.5"
  }
 },
 "nbformat": 4,
 "nbformat_minor": 5
}
