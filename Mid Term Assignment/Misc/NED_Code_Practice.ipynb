{
  "nbformat": 4,
  "nbformat_minor": 0,
  "metadata": {
    "colab": {
      "provenance": []
    },
    "kernelspec": {
      "name": "python3",
      "display_name": "Python 3"
    },
    "language_info": {
      "name": "python"
    }
  },
  "cells": [
    {
      "cell_type": "code",
      "execution_count": 2,
      "metadata": {
        "colab": {
          "base_uri": "https://localhost:8080/"
        },
        "id": "GmOrBd_3yQcI",
        "outputId": "54126b3f-a817-4fd3-beee-231673add8d3"
      },
      "outputs": [
        {
          "name": "stdout",
          "output_type": "stream",
          "text": [
            "Enter your Name: jj\n",
            "Enter your Father's Name: jj\n",
            "Enter your Gender (Male/Female): jj\n",
            "Enter your Country of Stay: jj\n",
            "Enter your Identity Number: jj\n",
            "Enter your Date of Birth (DD/MM/YYYY): jjj\n",
            "Enter your Date of Issue (DD/MM/YYYY): jjj\n",
            "Enter your Date of Expiry (DD/MM/YYYY): jjj\n"
          ]
        }
      ],
      "source": [
        "name = input(\"Enter your Name: \").strip()\n",
        "father_name = input(\"Enter your Father's Name: \").strip()\n",
        "gender = input(\"Enter your Gender (Male/Female): \").strip()\n",
        "country_of_stay = input(\"Enter your Country of Stay: \").strip()\n",
        "identity_number = input(\"Enter your Identity Number: \").strip()\n",
        "dob = input(\"Enter your Date of Birth (DD/MM/YYYY): \").strip()\n",
        "doi = input(\"Enter your Date of Issue (DD/MM/YYYY): \").strip()\n",
        "doe = input(\"Enter your Date of Expiry (DD/MM/YYYY): \").strip()"
      ]
    },
    {
      "cell_type": "code",
      "source": [
        "# prompt: explain .strip() function\n",
        "\n",
        "The `.strip()` method in Python removes leading and trailing whitespace characters from a string.  Whitespace characters include spaces, tabs, and newline characters.\n",
        "\n",
        "In the provided code snippet, each input line uses `.strip()` after getting input from the user.  This ensures that any extra spaces entered by the user before or after their actual input are removed.\n",
        "\n",
        "**Example:**\n",
        "\n",
        "Let's say the user enters:  \"   John Doe   \"\n",
        "\n",
        "Without `.strip()`, the variable `name` would contain \"   John Doe   \", including the leading and trailing spaces.\n",
        "\n",
        "With `.strip()`, the variable `name` would contain \"John Doe\" – the extra spaces are removed.\n",
        "\n",
        "This is important because it helps prevent unintended consequences in later processing. For example, if you were to compare this name to a stored value in a database, the extra spaces could cause a mismatch even if the names are identical in content.  Using `.strip()` guarantees that you are comparing the actual content of the string, not including incidental whitespace.\n"
      ],
      "metadata": {
        "id": "gR0JQDCJyVHM"
      },
      "execution_count": null,
      "outputs": []
    },
    {
      "cell_type": "code",
      "source": [
        "# prompt: c.drawString(width - 120, height - 20, \"National Identity Card\")   can I position it to extreme right side\n",
        "\n",
        "from reportlab.pdfgen import canvas\n",
        "from reportlab.lib.pagesizes import letter\n",
        "from reportlab.lib.units import inch\n",
        "\n",
        "def create_pdf(name, father_name, gender, country_of_stay, identity_number, dob, doi, doe):\n",
        "    c = canvas.Canvas(\"identity_card.pdf\", pagesize=letter)\n",
        "    width, height = letter\n",
        "\n",
        "    # ... (your existing code for drawing other elements)\n",
        "\n",
        "    # Position text at the extreme right\n",
        "    text_object = c.beginText()\n",
        "    text_object.setTextOrigin(width - 120, height - 20)  # Adjust 120 as needed for right margin\n",
        "    text_object.textLine(\"National Identity Card\")\n",
        "    c.drawText(text_object)\n",
        "\n",
        "\n",
        "    c.save()\n",
        "\n",
        "\n",
        "# Example usage (you'll get the input from the user as in your original code):\n",
        "name = input(\"Enter your Name: \").strip()\n",
        "father_name = input(\"Enter your Father's Name: \").strip()\n",
        "gender = input(\"Enter your Gender (Male/Female): \").strip()\n",
        "country_of_stay = input(\"Enter your Country of Stay: \").strip()\n",
        "identity_number = input(\"Enter your Identity Number: \").strip()\n",
        "dob = input(\"Enter your Date of Birth (DD/MM/YYYY): \").strip()\n",
        "doi = input(\"Enter your Date of Issue (DD/MM/YYYY): \").strip()\n",
        "doe = input(\"Enter your Date of Expiry (DD/MM/YYYY): \").strip()\n",
        "\n",
        "create_pdf(name, father_name, gender, country_of_stay, identity_number, dob, doi, doe)"
      ],
      "metadata": {
        "id": "_mR-RCrIz_cW"
      },
      "execution_count": null,
      "outputs": []
    }
  ]
}