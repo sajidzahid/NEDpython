{
  "nbformat": 4,
  "nbformat_minor": 0,
  "metadata": {
    "colab": {
      "provenance": []
    },
    "kernelspec": {
      "name": "python3",
      "display_name": "Python 3"
    },
    "language_info": {
      "name": "python"
    }
  },
  "cells": [
    {
      "cell_type": "code",
      "source": [
        "pip install reportlab"
      ],
      "metadata": {
        "colab": {
          "base_uri": "https://localhost:8080/"
        },
        "id": "qktqyPxBZS5Q",
        "outputId": "b8eada3c-fdf7-4a90-f7ac-c1af9d118e3f"
      },
      "execution_count": null,
      "outputs": [
        {
          "output_type": "stream",
          "name": "stdout",
          "text": [
            "Collecting reportlab\n",
            "  Downloading reportlab-4.2.5-py3-none-any.whl.metadata (1.5 kB)\n",
            "Requirement already satisfied: pillow>=9.0.0 in /usr/local/lib/python3.11/dist-packages (from reportlab) (11.1.0)\n",
            "Requirement already satisfied: chardet in /usr/local/lib/python3.11/dist-packages (from reportlab) (5.2.0)\n",
            "Downloading reportlab-4.2.5-py3-none-any.whl (1.9 MB)\n",
            "\u001b[?25l   \u001b[90m━━━━━━━━━━━━━━━━━━━━━━━━━━━━━━━━━━━━━━━━\u001b[0m \u001b[32m0.0/1.9 MB\u001b[0m \u001b[31m?\u001b[0m eta \u001b[36m-:--:--\u001b[0m\r\u001b[2K   \u001b[91m━━━━━━━━━━━━━━━━━━━━━━━━━━━━━━━━━━━━━━\u001b[0m\u001b[91m╸\u001b[0m\u001b[90m━\u001b[0m \u001b[32m1.9/1.9 MB\u001b[0m \u001b[31m67.8 MB/s\u001b[0m eta \u001b[36m0:00:01\u001b[0m\r\u001b[2K   \u001b[90m━━━━━━━━━━━━━━━━━━━━━━━━━━━━━━━━━━━━━━━━\u001b[0m \u001b[32m1.9/1.9 MB\u001b[0m \u001b[31m34.6 MB/s\u001b[0m eta \u001b[36m0:00:00\u001b[0m\n",
            "\u001b[?25hInstalling collected packages: reportlab\n",
            "Successfully installed reportlab-4.2.5\n"
          ]
        }
      ]
    },
    {
      "cell_type": "markdown",
      "source": [
        "# First Code"
      ],
      "metadata": {
        "id": "lbecjOO0cIKs"
      }
    },
    {
      "cell_type": "code",
      "source": [
        "import reportlab"
      ],
      "metadata": {
        "id": "04JZXvoYZlq4",
        "colab": {
          "base_uri": "https://localhost:8080/",
          "height": 314
        },
        "outputId": "fc9aa4a3-57ad-4277-dbdc-6620622c182f"
      },
      "execution_count": 4,
      "outputs": [
        {
          "output_type": "error",
          "ename": "ModuleNotFoundError",
          "evalue": "No module named 'reportlab'",
          "traceback": [
            "\u001b[0;31m---------------------------------------------------------------------------\u001b[0m",
            "\u001b[0;31mModuleNotFoundError\u001b[0m                       Traceback (most recent call last)",
            "\u001b[0;32m<ipython-input-4-643c40455ab4>\u001b[0m in \u001b[0;36m<cell line: 0>\u001b[0;34m()\u001b[0m\n\u001b[0;32m----> 1\u001b[0;31m \u001b[0;32mimport\u001b[0m \u001b[0mreportlab\u001b[0m\u001b[0;34m\u001b[0m\u001b[0;34m\u001b[0m\u001b[0m\n\u001b[0m",
            "\u001b[0;31mModuleNotFoundError\u001b[0m: No module named 'reportlab'",
            "",
            "\u001b[0;31m---------------------------------------------------------------------------\u001b[0;32m\nNOTE: If your import is failing due to a missing package, you can\nmanually install dependencies using either !pip or !apt.\n\nTo view examples of installing some common dependencies, click the\n\"Open Examples\" button below.\n\u001b[0;31m---------------------------------------------------------------------------\u001b[0m\n"
          ],
          "errorDetails": {
            "actions": [
              {
                "action": "open_url",
                "actionText": "Open Examples",
                "url": "/notebooks/snippets/importing_libraries.ipynb"
              }
            ]
          }
        }
      ]
    },
    {
      "cell_type": "code",
      "source": [
        "import reportlab.pdfgen\n"
      ],
      "metadata": {
        "id": "nTilH4LnbNWx",
        "colab": {
          "base_uri": "https://localhost:8080/",
          "height": 314
        },
        "outputId": "41ea71a2-5005-4fde-8a56-8c8574b4dfbe"
      },
      "execution_count": 3,
      "outputs": [
        {
          "output_type": "error",
          "ename": "ModuleNotFoundError",
          "evalue": "No module named 'reportlab'",
          "traceback": [
            "\u001b[0;31m---------------------------------------------------------------------------\u001b[0m",
            "\u001b[0;31mModuleNotFoundError\u001b[0m                       Traceback (most recent call last)",
            "\u001b[0;32m<ipython-input-3-65a09930c2d3>\u001b[0m in \u001b[0;36m<cell line: 0>\u001b[0;34m()\u001b[0m\n\u001b[0;32m----> 1\u001b[0;31m \u001b[0;32mimport\u001b[0m \u001b[0mreportlab\u001b[0m\u001b[0;34m.\u001b[0m\u001b[0mpdfgen\u001b[0m\u001b[0;34m\u001b[0m\u001b[0;34m\u001b[0m\u001b[0m\n\u001b[0m",
            "\u001b[0;31mModuleNotFoundError\u001b[0m: No module named 'reportlab'",
            "",
            "\u001b[0;31m---------------------------------------------------------------------------\u001b[0;32m\nNOTE: If your import is failing due to a missing package, you can\nmanually install dependencies using either !pip or !apt.\n\nTo view examples of installing some common dependencies, click the\n\"Open Examples\" button below.\n\u001b[0;31m---------------------------------------------------------------------------\u001b[0m\n"
          ],
          "errorDetails": {
            "actions": [
              {
                "action": "open_url",
                "actionText": "Open Examples",
                "url": "/notebooks/snippets/importing_libraries.ipynb"
              }
            ]
          }
        }
      ]
    },
    {
      "cell_type": "code",
      "source": [
        "reportlab.pdfgen.canvas"
      ],
      "metadata": {
        "colab": {
          "base_uri": "https://localhost:8080/"
        },
        "id": "OAS7oNprbTvh",
        "outputId": "152e5e4f-8947-4b23-ccd1-6c51456b074d"
      },
      "execution_count": null,
      "outputs": [
        {
          "output_type": "execute_result",
          "data": {
            "text/plain": [
              "<module 'reportlab.pdfgen.canvas' from '/usr/local/lib/python3.11/dist-packages/reportlab/pdfgen/canvas.py'>"
            ]
          },
          "metadata": {},
          "execution_count": 8
        }
      ]
    },
    {
      "cell_type": "code",
      "execution_count": null,
      "metadata": {
        "colab": {
          "base_uri": "https://localhost:8080/",
          "height": 436
        },
        "id": "-ku6vI8VZH9H",
        "outputId": "e4e7cd79-a08e-47c5-a440-3933242e6665"
      },
      "outputs": [
        {
          "name": "stdout",
          "output_type": "stream",
          "text": [
            "Enter your Name: Muhammad Sajid\n",
            "Enter your Father's Name: Muhammad Zahid\n",
            "Enter your Gender (Male/Female): Male\n",
            "Enter your Country of Stay: Pakistan\n",
            "Enter your Identity Number: 4210156467099\n",
            "Enter your Date of Birth (DD/MM/YYYY): 23/01/1981\n",
            "Enter your Date of Issue (DD/MM/YYYY): 18/07/2022\n",
            "Enter your Date of Expiry (DD/MM/YYYY): 18/07/2032\n"
          ]
        },
        {
          "output_type": "error",
          "ename": "NameError",
          "evalue": "name 'credit_card' is not defined",
          "traceback": [
            "\u001b[0;31m---------------------------------------------------------------------------\u001b[0m",
            "\u001b[0;31mNameError\u001b[0m                                 Traceback (most recent call last)",
            "\u001b[0;32m<ipython-input-9-a2e3e62db672>\u001b[0m in \u001b[0;36m<cell line: 0>\u001b[0;34m()\u001b[0m\n\u001b[1;32m     41\u001b[0m \u001b[0;34m\u001b[0m\u001b[0m\n\u001b[1;32m     42\u001b[0m \u001b[0;31m# Call the function\u001b[0m\u001b[0;34m\u001b[0m\u001b[0;34m\u001b[0m\u001b[0m\n\u001b[0;32m---> 43\u001b[0;31m \u001b[0mcreate_cnic_card\u001b[0m\u001b[0;34m(\u001b[0m\u001b[0;34m)\u001b[0m\u001b[0;34m\u001b[0m\u001b[0;34m\u001b[0m\u001b[0m\n\u001b[0m",
            "\u001b[0;32m<ipython-input-9-a2e3e62db672>\u001b[0m in \u001b[0;36mcreate_cnic_card\u001b[0;34m()\u001b[0m\n\u001b[1;32m     14\u001b[0m     \u001b[0;31m# Set up the PDF\u001b[0m\u001b[0;34m\u001b[0m\u001b[0;34m\u001b[0m\u001b[0m\n\u001b[1;32m     15\u001b[0m     \u001b[0mpdf_file\u001b[0m \u001b[0;34m=\u001b[0m \u001b[0;34m\"CNIC_Card.pdf\"\u001b[0m\u001b[0;34m\u001b[0m\u001b[0;34m\u001b[0m\u001b[0m\n\u001b[0;32m---> 16\u001b[0;31m     \u001b[0mwidth\u001b[0m\u001b[0;34m,\u001b[0m \u001b[0mheight\u001b[0m \u001b[0;34m=\u001b[0m \u001b[0mcredit_card\u001b[0m  \u001b[0;31m# Using credit-card sized dimensions\u001b[0m\u001b[0;34m\u001b[0m\u001b[0;34m\u001b[0m\u001b[0m\n\u001b[0m\u001b[1;32m     17\u001b[0m     \u001b[0mc\u001b[0m \u001b[0;34m=\u001b[0m \u001b[0mcanvas\u001b[0m\u001b[0;34m.\u001b[0m\u001b[0mCanvas\u001b[0m\u001b[0;34m(\u001b[0m\u001b[0mpdf_file\u001b[0m\u001b[0;34m,\u001b[0m \u001b[0mpagesize\u001b[0m\u001b[0;34m=\u001b[0m\u001b[0mcredit_card\u001b[0m\u001b[0;34m)\u001b[0m\u001b[0;34m\u001b[0m\u001b[0;34m\u001b[0m\u001b[0m\n\u001b[1;32m     18\u001b[0m \u001b[0;34m\u001b[0m\u001b[0m\n",
            "\u001b[0;31mNameError\u001b[0m: name 'credit_card' is not defined"
          ]
        }
      ],
      "source": [
        "from reportlab.pdfgen import canvas\n",
        "\n",
        "def create_cnic_card():\n",
        "    # Get user inputs\n",
        "    name = input(\"Enter your Name: \")\n",
        "    father_name = input(\"Enter your Father's Name: \")\n",
        "    gender = input(\"Enter your Gender (Male/Female): \")\n",
        "    country_of_stay = input(\"Enter your Country of Stay: \")\n",
        "    identity_number = input(\"Enter your Identity Number: \")\n",
        "    dob = input(\"Enter your Date of Birth (DD/MM/YYYY): \")\n",
        "    doi = input(\"Enter your Date of Issue (DD/MM/YYYY): \")\n",
        "    doe = input(\"Enter your Date of Expiry (DD/MM/YYYY): \")\n",
        "\n",
        "    # Set up the PDF\n",
        "    pdf_file = \"CNIC_Card.pdf\"\n",
        "    width, height = credit_card  # Using credit-card sized dimensions\n",
        "    c = canvas.Canvas(pdf_file, pagesize=credit_card)\n",
        "\n",
        "    # Add headers\n",
        "    c.setFont(\"Helvetica-Bold\", 10)\n",
        "    c.drawString(20, height - 20, \"Pakistan\")\n",
        "    c.setFont(\"Helvetica\", 8)\n",
        "    c.drawString(20, height - 35, \"Islamic Republic of Pakistan\")\n",
        "    c.setFont(\"Helvetica-Bold\", 10)\n",
        "    c.drawString(width - 120, height - 20, \"National Identity Card\")\n",
        "\n",
        "    # Add user data\n",
        "    c.setFont(\"Helvetica\", 8)\n",
        "    c.drawString(20, height - 60, f\"Name: {name}\")\n",
        "    c.drawString(20, height - 75, f\"Father Name: {father_name}\")\n",
        "    c.drawString(20, height - 90, f\"Gender: {gender}\")\n",
        "    c.drawString(20, height - 105, f\"Country of Stay: {country_of_stay}\")\n",
        "    c.drawString(20, height - 120, f\"Identity Number: {identity_number}\")\n",
        "    c.drawString(20, height - 135, f\"Date of Birth: {dob}\")\n",
        "    c.drawString(20, height - 150, f\"Date of Issue: {doi}\")\n",
        "    c.drawString(20, height - 165, f\"Date of Expiry: {doe}\")\n",
        "\n",
        "    # Save PDF\n",
        "    c.save()\n",
        "    print(f\"CNIC Card has been saved as {pdf_file}.\")\n",
        "\n",
        "# Call the function\n",
        "create_cnic_card()\n"
      ]
    },
    {
      "cell_type": "markdown",
      "source": [
        "# 2nd Code"
      ],
      "metadata": {
        "id": "ZoUIcdgYcFRy"
      }
    },
    {
      "cell_type": "code",
      "source": [
        "from reportlab.lib.pagesizes import credit_card\n",
        "from reportlab.pdfgen import canvas\n",
        "\n",
        "def create_cnic_card():\n",
        "    # Get user inputs\n",
        "    name = input(\"Enter your Name: \").strip()\n",
        "    father_name = input(\"Enter your Father's Name: \").strip()\n",
        "    gender = input(\"Enter your Gender (Male/Female): \").strip()\n",
        "    country_of_stay = input(\"Enter your Country of Stay: \").strip()\n",
        "    identity_number = input(\"Enter your Identity Number: \").strip()\n",
        "    dob = input(\"Enter your Date of Birth (DD/MM/YYYY): \").strip()\n",
        "    doi = input(\"Enter your Date of Issue (DD/MM/YYYY): \").strip()\n",
        "    doe = input(\"Enter your Date of Expiry (DD/MM/YYYY): \").strip()\n",
        "\n",
        "    # Define the PDF file name\n",
        "    pdf_file = \"CNIC_Card.pdf\"\n",
        "\n",
        "    # Get the dimensions of a credit card\n",
        "    width, height = credit_card\n",
        "\n",
        "    # Create a canvas for the PDF\n",
        "    c = canvas.Canvas(pdf_file, pagesize=credit_card)\n",
        "\n",
        "    # Add headings\n",
        "    c.setFont(\"Helvetica-Bold\", 12)\n",
        "    c.drawString(20, height - 30, \"Pakistan\")\n",
        "    c.setFont(\"Helvetica\", 10)\n",
        "    c.drawString(20, height - 50, \"Islamic Republic of Pakistan\")\n",
        "    c.setFont(\"Helvetica-Bold\", 12)\n",
        "    c.drawString(width - 150, height - 30, \"National Identity Card\")\n",
        "\n",
        "    # Add user data\n",
        "    c.setFont(\"Helvetica\", 9)\n",
        "    y = height - 80  # Start position for user data\n",
        "    line_spacing = 15  # Space between each line of text\n",
        "\n",
        "    c.drawString(20, y, f\"Name: {name}\")\n",
        "    y -= line_spacing\n",
        "    c.drawString(20, y, f\"Father Name: {father_name}\")\n",
        "    y -= line_spacing\n",
        "    c.drawString(20, y, f\"Gender: {gender}\")\n",
        "    y -= line_spacing\n",
        "    c.drawString(20, y, f\"Country of Stay: {country_of_stay}\")\n",
        "    y -= line_spacing\n",
        "    c.drawString(20, y, f\"Identity Number: {identity_number}\")\n",
        "    y -= line_spacing\n",
        "    c.drawString(20, y, f\"Date of Birth: {dob}\")\n",
        "    y -= line_spacing\n",
        "    c.drawString(20, y, f\"Date of Issue: {doi}\")\n",
        "    y -= line_spacing\n",
        "    c.drawString(20, y, f\"Date of Expiry: {doe}\")\n",
        "\n",
        "    # Save the PDF file\n",
        "    c.save()\n",
        "    print(f\"CNIC Card has been successfully saved as '{pdf_file}'.\")\n",
        "\n",
        "# Call the function\n",
        "if __name__ == \"__main__\":\n",
        "    create_cnic_card()"
      ],
      "metadata": {
        "colab": {
          "base_uri": "https://localhost:8080/",
          "height": 383
        },
        "id": "Ptefl72bZ04S",
        "outputId": "41686f24-8b08-4921-ca87-e8b2efd1dc1e"
      },
      "execution_count": null,
      "outputs": [
        {
          "output_type": "error",
          "ename": "ImportError",
          "evalue": "cannot import name 'credit_card' from 'reportlab.lib.pagesizes' (/usr/local/lib/python3.11/dist-packages/reportlab/lib/pagesizes.py)",
          "traceback": [
            "\u001b[0;31m---------------------------------------------------------------------------\u001b[0m",
            "\u001b[0;31mImportError\u001b[0m                               Traceback (most recent call last)",
            "\u001b[0;32m<ipython-input-11-99607b005141>\u001b[0m in \u001b[0;36m<cell line: 0>\u001b[0;34m()\u001b[0m\n\u001b[0;32m----> 1\u001b[0;31m \u001b[0;32mfrom\u001b[0m \u001b[0mreportlab\u001b[0m\u001b[0;34m.\u001b[0m\u001b[0mlib\u001b[0m\u001b[0;34m.\u001b[0m\u001b[0mpagesizes\u001b[0m \u001b[0;32mimport\u001b[0m \u001b[0mcredit_card\u001b[0m\u001b[0;34m\u001b[0m\u001b[0;34m\u001b[0m\u001b[0m\n\u001b[0m\u001b[1;32m      2\u001b[0m \u001b[0;32mfrom\u001b[0m \u001b[0mreportlab\u001b[0m\u001b[0;34m.\u001b[0m\u001b[0mpdfgen\u001b[0m \u001b[0;32mimport\u001b[0m \u001b[0mcanvas\u001b[0m\u001b[0;34m\u001b[0m\u001b[0;34m\u001b[0m\u001b[0m\n\u001b[1;32m      3\u001b[0m \u001b[0;34m\u001b[0m\u001b[0m\n\u001b[1;32m      4\u001b[0m \u001b[0;32mdef\u001b[0m \u001b[0mcreate_cnic_card\u001b[0m\u001b[0;34m(\u001b[0m\u001b[0;34m)\u001b[0m\u001b[0;34m:\u001b[0m\u001b[0;34m\u001b[0m\u001b[0;34m\u001b[0m\u001b[0m\n\u001b[1;32m      5\u001b[0m     \u001b[0;31m# Get user inputs\u001b[0m\u001b[0;34m\u001b[0m\u001b[0;34m\u001b[0m\u001b[0m\n",
            "\u001b[0;31mImportError\u001b[0m: cannot import name 'credit_card' from 'reportlab.lib.pagesizes' (/usr/local/lib/python3.11/dist-packages/reportlab/lib/pagesizes.py)",
            "",
            "\u001b[0;31m---------------------------------------------------------------------------\u001b[0;32m\nNOTE: If your import is failing due to a missing package, you can\nmanually install dependencies using either !pip or !apt.\n\nTo view examples of installing some common dependencies, click the\n\"Open Examples\" button below.\n\u001b[0;31m---------------------------------------------------------------------------\u001b[0m\n"
          ],
          "errorDetails": {
            "actions": [
              {
                "action": "open_url",
                "actionText": "Open Examples",
                "url": "/notebooks/snippets/importing_libraries.ipynb"
              }
            ]
          }
        }
      ]
    },
    {
      "cell_type": "code",
      "source": [
        "pip install reportlab"
      ],
      "metadata": {
        "colab": {
          "base_uri": "https://localhost:8080/"
        },
        "id": "1myj6tGfgmzf",
        "outputId": "78cfce44-51b3-48fe-8ef4-b991b1c615e9"
      },
      "execution_count": 6,
      "outputs": [
        {
          "output_type": "stream",
          "name": "stdout",
          "text": [
            "Collecting reportlab\n",
            "  Downloading reportlab-4.2.5-py3-none-any.whl.metadata (1.5 kB)\n",
            "Requirement already satisfied: pillow>=9.0.0 in /usr/local/lib/python3.11/dist-packages (from reportlab) (11.1.0)\n",
            "Requirement already satisfied: chardet in /usr/local/lib/python3.11/dist-packages (from reportlab) (5.2.0)\n",
            "Downloading reportlab-4.2.5-py3-none-any.whl (1.9 MB)\n",
            "\u001b[?25l   \u001b[90m━━━━━━━━━━━━━━━━━━━━━━━━━━━━━━━━━━━━━━━━\u001b[0m \u001b[32m0.0/1.9 MB\u001b[0m \u001b[31m?\u001b[0m eta \u001b[36m-:--:--\u001b[0m\r\u001b[2K   \u001b[91m━\u001b[0m\u001b[91m╸\u001b[0m\u001b[90m━━━━━━━━━━━━━━━━━━━━━━━━━━━━━━━━━━━━━━\u001b[0m \u001b[32m0.1/1.9 MB\u001b[0m \u001b[31m2.4 MB/s\u001b[0m eta \u001b[36m0:00:01\u001b[0m\r\u001b[2K   \u001b[91m━━━━━━━━━━━━━\u001b[0m\u001b[91m╸\u001b[0m\u001b[90m━━━━━━━━━━━━━━━━━━━━━━━━━━\u001b[0m \u001b[32m0.7/1.9 MB\u001b[0m \u001b[31m9.4 MB/s\u001b[0m eta \u001b[36m0:00:01\u001b[0m\r\u001b[2K   \u001b[90m━━━━━━━━━━━━━━━━━━━━━━━━━━━━━━━━━━━━━━━━\u001b[0m \u001b[32m1.9/1.9 MB\u001b[0m \u001b[31m18.2 MB/s\u001b[0m eta \u001b[36m0:00:00\u001b[0m\n",
            "\u001b[?25hInstalling collected packages: reportlab\n",
            "Successfully installed reportlab-4.2.5\n"
          ]
        }
      ]
    },
    {
      "cell_type": "code",
      "source": [
        "import reportlab"
      ],
      "metadata": {
        "id": "hnYvFrObgytH"
      },
      "execution_count": 7,
      "outputs": []
    },
    {
      "cell_type": "code",
      "source": [
        "import reportlab.pdfgen"
      ],
      "metadata": {
        "id": "tvg1njabg4fO"
      },
      "execution_count": 8,
      "outputs": []
    },
    {
      "cell_type": "code",
      "source": [
        "from reportlab.lib.pagesizes import mm\n",
        "from reportlab.pdfgen import canvas\n",
        "\n",
        "def create_cnic_card():\n",
        "    # Get user inputs\n",
        "    name = input(\"Enter your Name: \").strip()\n",
        "    father_name = input(\"Enter your Father's Name: \").strip()\n",
        "    gender = input(\"Enter your Gender (Male/Female): \").strip()\n",
        "    country_of_stay = input(\"Enter your Country of Stay: \").strip()\n",
        "    identity_number = input(\"Enter your Identity Number: \").strip()\n",
        "    dob = input(\"Enter your Date of Birth (DD/MM/YYYY): \").strip()\n",
        "    doi = input(\"Enter your Date of Issue (DD/MM/YYYY): \").strip()\n",
        "    doe = input(\"Enter your Date of Expiry (DD/MM/YYYY): \").strip()\n",
        "\n",
        "    # Define the dimensions for a credit card (85.6mm x 54mm)\n",
        "    width, height = 85.6 * mm, 54 * mm\n",
        "\n",
        "    # Create the PDF canvas\n",
        "    pdf_file = \"CNIC_Card.pdf\"\n",
        "    c = canvas.Canvas(pdf_file, pagesize=(width, height))\n",
        "\n",
        "    # Add headers\n",
        "    c.setFont(\"Helvetica-Bold\", 8)\n",
        "    c.drawString(5 * mm, height - 10 * mm, \"Pakistan\")\n",
        "    c.setFont(\"Helvetica\", 7)\n",
        "    c.drawString(5 * mm, height - 15 * mm, \"Islamic Republic of Pakistan\")\n",
        "    c.setFont(\"Helvetica-Bold\", 8)\n",
        "    c.drawString(width - 50 * mm, height - 10 * mm, \"National Identity Card\")\n",
        "\n",
        "    # Add user data\n",
        "    c.setFont(\"Helvetica\", 6)\n",
        "    y = height - 25 * mm  # Start position for user data\n",
        "    line_spacing = 4 * mm  # Space between each line of text\n",
        "\n",
        "    c.drawString(5 * mm, y, f\"Name: {name}\")\n",
        "    y -= line_spacing\n",
        "    c.drawString(5 * mm, y, f\"Father Name: {father_name}\")\n",
        "    y -= line_spacing\n",
        "    c.drawString(5 * mm, y, f\"Gender: {gender}\")\n",
        "    y -= line_spacing\n",
        "    c.drawString(5 * mm, y, f\"Country of Stay: {country_of_stay}\")\n",
        "    y -= line_spacing\n",
        "    c.drawString(5 * mm, y, f\"Identity Number: {identity_number}\")\n",
        "    y -= line_spacing\n",
        "    c.drawString(5 * mm, y, f\"Date of Birth: {dob}\")\n",
        "    y -= line_spacing\n",
        "    c.drawString(5 * mm, y, f\"Date of Issue: {doi}\")\n",
        "    y -= line_spacing\n",
        "    c.drawString(5 * mm, y, f\"Date of Expiry: {doe}\")\n",
        "\n",
        "    # Save the PDF file\n",
        "    c.save()\n",
        "    print(f\"CNIC Card has been successfully saved as '{pdf_file}'.\")\n",
        "\n",
        "# Call the function\n",
        "if __name__ == \"__main__\":\n",
        "    create_cnic_card()\n",
        "\n",
        "    import os\n",
        "print(f\"PDF saved in: {os.getcwd()}\")"
      ],
      "metadata": {
        "colab": {
          "base_uri": "https://localhost:8080/"
        },
        "id": "KPh_K1cwdfoh",
        "outputId": "ff01170f-92ea-4407-f50f-853ffe057ec4"
      },
      "execution_count": 10,
      "outputs": [
        {
          "output_type": "stream",
          "name": "stdout",
          "text": [
            "Enter your Name: Muhammad Sajid\n",
            "Enter your Father's Name: Muhammad Zahid\n",
            "Enter your Gender (Male/Female): Male\n",
            "Enter your Country of Stay: Pakistan\n",
            "Enter your Identity Number: 4210156467099\n",
            "Enter your Date of Birth (DD/MM/YYYY): 23/01/1981\n",
            "Enter your Date of Issue (DD/MM/YYYY): 22/07/2022\n",
            "Enter your Date of Expiry (DD/MM/YYYY): 22/02/2032\n",
            "CNIC Card has been successfully saved as 'CNIC_Card.pdf'.\n",
            "PDF saved in: /content\n"
          ]
        }
      ]
    },
    {
      "cell_type": "code",
      "source": [],
      "metadata": {
        "id": "FWrfSlEJfJjH"
      },
      "execution_count": null,
      "outputs": []
    }
  ]
}