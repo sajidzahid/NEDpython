{
  "nbformat": 4,
  "nbformat_minor": 0,
  "metadata": {
    "colab": {
      "provenance": []
    },
    "kernelspec": {
      "name": "python3",
      "display_name": "Python 3"
    },
    "language_info": {
      "name": "python"
    }
  },
  "cells": [
    {
      "cell_type": "code",
      "source": [
        "pip install reportlab"
      ],
      "metadata": {
        "colab": {
          "base_uri": "https://localhost:8080/"
        },
        "id": "cy6F7K79vjxA",
        "outputId": "abdc6ae1-5c2a-43cb-a979-ea35371cd5c6"
      },
      "execution_count": 3,
      "outputs": [
        {
          "output_type": "stream",
          "name": "stdout",
          "text": [
            "Collecting reportlab\n",
            "  Downloading reportlab-4.2.5-py3-none-any.whl.metadata (1.5 kB)\n",
            "Requirement already satisfied: pillow>=9.0.0 in /usr/local/lib/python3.11/dist-packages (from reportlab) (11.1.0)\n",
            "Requirement already satisfied: chardet in /usr/local/lib/python3.11/dist-packages (from reportlab) (5.2.0)\n",
            "Downloading reportlab-4.2.5-py3-none-any.whl (1.9 MB)\n",
            "\u001b[?25l   \u001b[90m━━━━━━━━━━━━━━━━━━━━━━━━━━━━━━━━━━━━━━━━\u001b[0m \u001b[32m0.0/1.9 MB\u001b[0m \u001b[31m?\u001b[0m eta \u001b[36m-:--:--\u001b[0m\r\u001b[2K   \u001b[91m━━━\u001b[0m\u001b[90m╺\u001b[0m\u001b[90m━━━━━━━━━━━━━━━━━━━━━━━━━━━━━━━━━━━━\u001b[0m \u001b[32m0.2/1.9 MB\u001b[0m \u001b[31m4.8 MB/s\u001b[0m eta \u001b[36m0:00:01\u001b[0m\r\u001b[2K   \u001b[91m━━━━━━━━━━━━━━━━━━━━━━━━━━\u001b[0m\u001b[91m╸\u001b[0m\u001b[90m━━━━━━━━━━━━━\u001b[0m \u001b[32m1.3/1.9 MB\u001b[0m \u001b[31m19.0 MB/s\u001b[0m eta \u001b[36m0:00:01\u001b[0m\r\u001b[2K   \u001b[90m━━━━━━━━━━━━━━━━━━━━━━━━━━━━━━━━━━━━━━━━\u001b[0m \u001b[32m1.9/1.9 MB\u001b[0m \u001b[31m19.5 MB/s\u001b[0m eta \u001b[36m0:00:00\u001b[0m\n",
            "\u001b[?25hInstalling collected packages: reportlab\n",
            "Successfully installed reportlab-4.2.5\n"
          ]
        }
      ]
    },
    {
      "cell_type": "code",
      "source": [
        "import reportlab"
      ],
      "metadata": {
        "id": "O_1OajnRvnan"
      },
      "execution_count": 4,
      "outputs": []
    },
    {
      "cell_type": "code",
      "source": [
        "import reportlab.pdfgen"
      ],
      "metadata": {
        "id": "tvg1njabg4fO"
      },
      "execution_count": 5,
      "outputs": []
    },
    {
      "cell_type": "code",
      "source": [
        "from reportlab.lib.pagesizes import mm"
      ],
      "metadata": {
        "id": "7KOB9o6gvqkU"
      },
      "execution_count": 6,
      "outputs": []
    },
    {
      "cell_type": "code",
      "source": [
        "from reportlab.pdfgen import canvas"
      ],
      "metadata": {
        "id": "gK2CBl0wvrw2"
      },
      "execution_count": 7,
      "outputs": []
    },
    {
      "cell_type": "code",
      "source": [
        "def create_cnic_card():\n",
        "    # Get user inputs\n",
        "    name = input(\"Enter your Name: \").strip()\n",
        "    father_name = input(\"Enter your Father's Name: \").strip()\n",
        "    gender = input(\"Enter your Gender (Male/Female): \").strip()\n",
        "    country_of_stay = input(\"Enter your Country of Stay: \").strip()\n",
        "    identity_number = input(\"Enter your Identity Number: \").strip()\n",
        "    dob = input(\"Enter your Date of Birth (DD/MM/YYYY): \").strip()\n",
        "    doi = input(\"Enter your Date of Issue (DD/MM/YYYY): \").strip()\n",
        "    doe = input(\"Enter your Date of Expiry (DD/MM/YYYY): \").strip()\n",
        "\n",
        "    # Define the dimensions for a credit card (85.6mm x 54mm)\n",
        "    width, height = 85.6 * mm, 55 * mm\n",
        "\n",
        "    # Create the PDF canvas\n",
        "    pdf_file = \"CNIC_Card.pdf\"\n",
        "    c = canvas.Canvas(pdf_file, pagesize=(width, height))\n",
        "\n",
        "    # Add headers\n",
        "    c.setFont(\"Helvetica-Bold\", 8)\n",
        "    c.drawString(5 * mm, height - 10 * mm, \"Pakistan\")\n",
        "    c.setFont(\"Helvetica\", 7)\n",
        "    c.drawString(5 * mm, height - 15 * mm, \"Islamic Republic of Pakistan\")\n",
        "    c.setFont(\"Helvetica-Bold\", 8)\n",
        "    c.drawString(width - 50 * mm, height - 10 * mm, \"National Identity Card\")\n",
        "\n",
        "    # Add user data\n",
        "    c.setFont(\"Helvetica\", 6)\n",
        "    y = height - 25 * mm  # Start position for user data\n",
        "    line_spacing = 4 * mm  # Space between each line of text\n",
        "\n",
        "    c.drawString(5 * mm, y, f\"Name: {name}\")\n",
        "    y -= line_spacing\n",
        "    c.drawString(5 * mm, y, f\"Father Name: {father_name}\")\n",
        "    y -= line_spacing\n",
        "    c.drawString(5 * mm, y, f\"Gender: {gender}\")\n",
        "    y -= line_spacing\n",
        "    c.drawString(5 * mm, y, f\"Country of Stay: {country_of_stay}\")\n",
        "    y -= line_spacing\n",
        "    c.drawString(5 * mm, y, f\"Identity Number: {identity_number}\")\n",
        "    y -= line_spacing\n",
        "    c.drawString(5 * mm, y, f\"Date of Birth: {dob}\")\n",
        "    y -= line_spacing\n",
        "    c.drawString(5 * mm, y, f\"Date of Issue: {doi}\")\n",
        "    y -= line_spacing\n",
        "    c.drawString(5 * mm, y, f\"Date of Expiry: {doe}\")\n",
        "\n",
        "    # Save the PDF file\n",
        "    c.save()\n",
        "    print(f\"CNIC Card has been successfully saved as '{pdf_file}'.\")\n",
        "\n",
        "# Call the function\n",
        "if __name__ == \"__main__\":\n",
        "    create_cnic_card()\n",
        "\n",
        "    import os\n",
        "print(f\"PDF saved in: {os.getcwd()}\")"
      ],
      "metadata": {
        "colab": {
          "base_uri": "https://localhost:8080/"
        },
        "id": "KPh_K1cwdfoh",
        "outputId": "83c3c470-54e9-4bbd-d7df-835d894103ec"
      },
      "execution_count": 11,
      "outputs": [
        {
          "output_type": "stream",
          "name": "stdout",
          "text": [
            "Enter your Name: Sajid\n",
            "Enter your Father's Name: Zahid\n",
            "Enter your Gender (Male/Female): Male\n",
            "Enter your Country of Stay: Pak\n",
            "Enter your Identity Number: 4210156467099\n",
            "Enter your Date of Birth (DD/MM/YYYY): 23/01/981\n",
            "Enter your Date of Issue (DD/MM/YYYY): 18/02/2022\n",
            "Enter your Date of Expiry (DD/MM/YYYY): 18/07/2032\n",
            "CNIC Card has been successfully saved as 'CNIC_Card.pdf'.\n",
            "PDF saved in: /content\n"
          ]
        }
      ]
    },
    {
      "cell_type": "code",
      "source": [],
      "metadata": {
        "id": "FWrfSlEJfJjH"
      },
      "execution_count": null,
      "outputs": []
    }
  ]
}