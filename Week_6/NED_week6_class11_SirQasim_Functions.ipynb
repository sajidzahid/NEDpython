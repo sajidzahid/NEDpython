{
  "nbformat": 4,
  "nbformat_minor": 0,
  "metadata": {
    "colab": {
      "provenance": []
    },
    "kernelspec": {
      "name": "python3",
      "display_name": "Python 3"
    },
    "language_info": {
      "name": "python"
    }
  },
  "cells": [
    {
      "cell_type": "markdown",
      "source": [
        "# Functions\n",
        "we can create function for repeatating tasks.\n",
        "\n",
        "* function core components\n",
        "  * function declairation\n",
        "    * function name\n",
        "    * parameters\n",
        "      * type (optional)\n",
        "    * return type (optional)\n",
        "  * function body\n",
        "    * set of instructions\n",
        "    * optional\n",
        "      * doc string\n",
        "      * type hints\n",
        "  * function calling\n",
        "* return function\n",
        "* none-return function\n",
        "* defualt function\n",
        "  * not required any parameter declaire/calling time\n",
        "\n",
        "* required parameter functions\n",
        "* passing arguments\n",
        "  * postional\n",
        "    * list/tuple\n",
        "  * key-value\n",
        "    * dictionary\n",
        "\n",
        "* unlimited-parameters function\n",
        "  * postional\n",
        "  * key-word\n",
        "\n",
        "\n",
        "## predine-functions\n",
        "* `print(), len(), id(), dir()`\n",
        "\n",
        "## user-define-fucntion\n",
        "* create your custom/ own function\n",
        "* optional parameters\n",
        "\n",
        "  \n",
        "\n"
      ],
      "metadata": {
        "id": "FkYDsaR_F8zL"
      }
    },
    {
      "cell_type": "code",
      "source": [
        "print(\"NED University\")\n",
        "print(\"City: Karachi\")\n",
        "print(\"Course: Data Science Batch-10\")\n",
        "print(\"Student Name: Muhammad Sajid\")\n"
      ],
      "metadata": {
        "colab": {
          "base_uri": "https://localhost:8080/"
        },
        "id": "WlcWhwm4UyOM",
        "outputId": "31827c78-2936-44ba-d5fc-273f624ecc24"
      },
      "execution_count": null,
      "outputs": [
        {
          "output_type": "stream",
          "name": "stdout",
          "text": [
            "NED University\n",
            "City: Karachi\n",
            "Course: Data Science Batch-10\n",
            "Student Name: Muhammad Sajid\n"
          ]
        }
      ]
    },
    {
      "cell_type": "code",
      "source": [
        "print(\"NED University\")\n",
        "print(\"City: Karachi\")\n",
        "print(\"Course: Data Science Batch-10\")\n",
        "print(\"Student Name: Muhammad Qasim\")\n"
      ],
      "metadata": {
        "colab": {
          "base_uri": "https://localhost:8080/"
        },
        "id": "6sKBDiU0VJWK",
        "outputId": "0cc79b4e-974e-4284-e77d-ca3cba498c77"
      },
      "execution_count": null,
      "outputs": [
        {
          "output_type": "stream",
          "name": "stdout",
          "text": [
            "NED University\n",
            "City: Karachi\n",
            "Course: Data Science Batch-10\n",
            "Student Name: Muhammad Qasim\n"
          ]
        }
      ]
    },
    {
      "cell_type": "markdown",
      "source": [
        "# Function Syntax\n",
        "```python\n",
        "def function_name(parameter1,parameter2,...):\n",
        "  funtion_body\n",
        "\n",
        "```"
      ],
      "metadata": {
        "id": "AJqU6AohVib3"
      }
    },
    {
      "cell_type": "code",
      "source": [
        "def info():\n",
        "    print(\"NED University\")\n",
        "    print(\"City: Karachi\")\n",
        "    print(\"Course: Data Science Batch-10\")\n",
        "    print(\"Student Name: Muhammad Sajid\")"
      ],
      "metadata": {
        "id": "jUH03hIyVQbN"
      },
      "execution_count": null,
      "outputs": []
    },
    {
      "cell_type": "code",
      "source": [
        "info()"
      ],
      "metadata": {
        "colab": {
          "base_uri": "https://localhost:8080/"
        },
        "id": "Dk696XTaVUBq",
        "outputId": "a93f275c-8a2d-4001-d5a0-2c075b270af6"
      },
      "execution_count": null,
      "outputs": [
        {
          "output_type": "stream",
          "name": "stdout",
          "text": [
            "NED University\n",
            "City: Karachi\n",
            "Course: Data Science Batch-10\n",
            "Student Name: Muhammad Sajid\n"
          ]
        }
      ]
    },
    {
      "cell_type": "code",
      "source": [
        "info()\n",
        "info()\n",
        "info()\n",
        "info()\n"
      ],
      "metadata": {
        "colab": {
          "base_uri": "https://localhost:8080/"
        },
        "id": "YxoU6PsJVVe9",
        "outputId": "5d6365b7-2df7-4112-8c09-d8e9a8d2a57e"
      },
      "execution_count": null,
      "outputs": [
        {
          "output_type": "stream",
          "name": "stdout",
          "text": [
            "NED University\n",
            "City: Karachi\n",
            "Course: Data Science Batch-10\n",
            "Student Name: Muhammad Sajid\n",
            "NED University\n",
            "City: Karachi\n",
            "Course: Data Science Batch-10\n",
            "Student Name: Muhammad Sajid\n",
            "NED University\n",
            "City: Karachi\n",
            "Course: Data Science Batch-10\n",
            "Student Name: Muhammad Sajid\n",
            "NED University\n",
            "City: Karachi\n",
            "Course: Data Science Batch-10\n",
            "Student Name: Muhammad Sajid\n"
          ]
        }
      ]
    },
    {
      "cell_type": "code",
      "source": [
        "def info()->None:\n",
        "    print(\"NED University\")\n",
        "    print(\"City: Karachi\")\n",
        "    print(\"Course: Data Science Batch-10\")\n",
        "    print(\"Student Name: Muhammad Sajid\")"
      ],
      "metadata": {
        "id": "vmZzHfLXVoXu"
      },
      "execution_count": null,
      "outputs": []
    },
    {
      "cell_type": "code",
      "source": [
        "info()"
      ],
      "metadata": {
        "colab": {
          "base_uri": "https://localhost:8080/"
        },
        "id": "sO_8j3wZWf8V",
        "outputId": "67ad88f2-f70a-428b-fa02-72f259923bcc"
      },
      "execution_count": null,
      "outputs": [
        {
          "output_type": "stream",
          "name": "stdout",
          "text": [
            "NED University\n",
            "City: Karachi\n",
            "Course: Data Science Batch-10\n",
            "Student Name: Muhammad Sajid\n"
          ]
        }
      ]
    },
    {
      "cell_type": "code",
      "source": [
        "def info()->None:\n",
        "  '''\n",
        "  This function is calling student information\n",
        "  '''\n",
        "  print(\"NED University\")\n",
        "  print(\"City: Karachi\")\n",
        "  print(\"Course: Data Science Batch-10\")\n",
        "  print(\"Student Name: Muhammad Sajid\")"
      ],
      "metadata": {
        "id": "i-mF9zPRWvOO"
      },
      "execution_count": null,
      "outputs": []
    },
    {
      "cell_type": "code",
      "source": [
        "info()"
      ],
      "metadata": {
        "colab": {
          "base_uri": "https://localhost:8080/"
        },
        "id": "_Ur2XD_QW-BK",
        "outputId": "565cbada-b5b9-45a0-d6f7-71b565893320"
      },
      "execution_count": null,
      "outputs": [
        {
          "output_type": "stream",
          "name": "stdout",
          "text": [
            "NED University\n",
            "City: Karachi\n",
            "Course: Data Science Batch-10\n",
            "Student Name: Muhammad Sajid\n"
          ]
        }
      ]
    },
    {
      "cell_type": "markdown",
      "source": [
        "# Return Function and None-Return Function\n",
        "## Return Function\n",
        "* when we call this function it will return object(str,  int, list)\n",
        "* we can assign this value to variable\n",
        "\n",
        "# None-Return function\n",
        "* exclude above two properties"
      ],
      "metadata": {
        "id": "M4BOfN62mK37"
      }
    },
    {
      "cell_type": "code",
      "source": [
        "my_var = (\"Pakistan Zindabad\")\n",
        "print(my_var)\n",
        "print(my_var)\n"
      ],
      "metadata": {
        "colab": {
          "base_uri": "https://localhost:8080/"
        },
        "id": "hKMWpw3RYK_7",
        "outputId": "27132aba-2494-414f-b42d-0835890d0003"
      },
      "execution_count": null,
      "outputs": [
        {
          "output_type": "stream",
          "name": "stdout",
          "text": [
            "Pakistan Zindabad\n",
            "Pakistan Zindabad\n"
          ]
        }
      ]
    },
    {
      "cell_type": "code",
      "source": [
        "my_var = print(\"Pakistan Zindabad\") # Non-return function\n",
        "print(my_var) # Check Variable value\n",
        "print(my_var) # Check Variable Value\n"
      ],
      "metadata": {
        "colab": {
          "base_uri": "https://localhost:8080/"
        },
        "id": "_Tdp4DirmUB9",
        "outputId": "f8215fe8-8665-468a-e6b5-72fe048e6d7c"
      },
      "execution_count": null,
      "outputs": [
        {
          "output_type": "stream",
          "name": "stdout",
          "text": [
            "Pakistan Zindabad\n",
            "None\n",
            "None\n"
          ]
        }
      ]
    },
    {
      "cell_type": "code",
      "source": [
        "my_var = len(\"Pakistan Zindabad\") # return function\n",
        "print(my_var) # Check Variable value\n",
        "print(my_var) # Check Variable Value\n"
      ],
      "metadata": {
        "colab": {
          "base_uri": "https://localhost:8080/"
        },
        "id": "jrHGDKDRnCsq",
        "outputId": "f6926a80-a38e-44f2-b21b-8ea67e402e7d"
      },
      "execution_count": null,
      "outputs": [
        {
          "output_type": "stream",
          "name": "stdout",
          "text": [
            "17\n",
            "17\n"
          ]
        }
      ]
    },
    {
      "cell_type": "code",
      "source": [
        "my_var = id(\"Pakistan Zindabad\") # return function\n",
        "print(my_var) # Check Variable value\n",
        "print(my_var) # Check Variable Value\n"
      ],
      "metadata": {
        "colab": {
          "base_uri": "https://localhost:8080/"
        },
        "id": "X_kHxUoHnJ-Z",
        "outputId": "149d72ad-abae-4ca3-9c63-b949db2c5c5d"
      },
      "execution_count": null,
      "outputs": [
        {
          "output_type": "stream",
          "name": "stdout",
          "text": [
            "138474580263120\n",
            "138474580263120\n"
          ]
        }
      ]
    },
    {
      "cell_type": "code",
      "source": [
        "my_var = info() # None-return function\n",
        "print(my_var) # check variable value\n",
        "print(my_var) # check variable value"
      ],
      "metadata": {
        "colab": {
          "base_uri": "https://localhost:8080/"
        },
        "id": "NhPMwK8CY2tY",
        "outputId": "8f8f3062-7d03-45e9-d1c3-e94506f47a5d"
      },
      "execution_count": null,
      "outputs": [
        {
          "output_type": "stream",
          "name": "stdout",
          "text": [
            "NED University\n",
            "City: Karachi\n",
            "Course: Data Science Batch-10\n",
            "Student Name: Muhammad Sajid\n",
            "None\n",
            "None\n"
          ]
        }
      ]
    },
    {
      "cell_type": "code",
      "source": [
        "my_var = (\"Pakistan Zindabad\") # return function\n",
        "print(my_var) # check variable value\n",
        "print(my_var) # check variable value"
      ],
      "metadata": {
        "colab": {
          "base_uri": "https://localhost:8080/"
        },
        "id": "Pt-ggiCdcnGn",
        "outputId": "884f55e5-673b-42e1-e80d-592db3df1525"
      },
      "execution_count": null,
      "outputs": [
        {
          "output_type": "stream",
          "name": "stdout",
          "text": [
            "Pakistan Zindabad\n",
            "Pakistan Zindabad\n"
          ]
        }
      ]
    },
    {
      "cell_type": "markdown",
      "source": [
        "# required parameters/Arguments functions\n",
        "* parameters: in function body/declairation\n",
        "* arguments: calling time\n",
        "\n",
        "```\n",
        "# This is formatted as code\n",
        "```\n",
        "\n"
      ],
      "metadata": {
        "id": "1hQL-_5QnkKX"
      }
    },
    {
      "cell_type": "code",
      "source": [
        "def add_two_numbers(num1,num2):\n",
        "  return num1 + num1  # We mentioned num1 two times - the result will be num1 add with num1."
      ],
      "metadata": {
        "id": "KqxJBCeWcv7X"
      },
      "execution_count": null,
      "outputs": []
    },
    {
      "cell_type": "code",
      "source": [
        "print(add_two_numbers(500,200))"
      ],
      "metadata": {
        "colab": {
          "base_uri": "https://localhost:8080/"
        },
        "id": "XuOj9T_bnsmm",
        "outputId": "a151699b-163d-4ffe-ff89-d6baeebf61be"
      },
      "execution_count": null,
      "outputs": [
        {
          "output_type": "stream",
          "name": "stdout",
          "text": [
            "1000\n"
          ]
        }
      ]
    },
    {
      "cell_type": "code",
      "source": [
        "def add_two_numbers(num1,num2): # Here we mentioned the num1 = 200 & num2 = 300, & add both parameters\n",
        "  return num1 + num2"
      ],
      "metadata": {
        "id": "_96liti3nvzN"
      },
      "execution_count": null,
      "outputs": []
    },
    {
      "cell_type": "code",
      "source": [
        "add_two_numbers(200,300)"
      ],
      "metadata": {
        "colab": {
          "base_uri": "https://localhost:8080/"
        },
        "id": "U08G1z6qobC1",
        "outputId": "c07980fd-4edd-4ca1-9de7-bce5daf29604"
      },
      "execution_count": null,
      "outputs": [
        {
          "output_type": "execute_result",
          "data": {
            "text/plain": [
              "500"
            ]
          },
          "metadata": {},
          "execution_count": 15
        }
      ]
    },
    {
      "cell_type": "code",
      "source": [
        "print(add_two_numbers(200,300))"
      ],
      "metadata": {
        "colab": {
          "base_uri": "https://localhost:8080/"
        },
        "id": "QdE-Wr_1odQZ",
        "outputId": "4506183e-d1f5-4cec-bafb-a8aaf0d19372"
      },
      "execution_count": null,
      "outputs": [
        {
          "output_type": "stream",
          "name": "stdout",
          "text": [
            "500\n"
          ]
        }
      ]
    },
    {
      "cell_type": "code",
      "source": [
        "add_two_numbers(200) # we only apply one argument in while calling the function. originally there are two arguments required as per parameters."
      ],
      "metadata": {
        "colab": {
          "base_uri": "https://localhost:8080/",
          "height": 141
        },
        "id": "p0maSfDZo-0E",
        "outputId": "3d4a82d3-17d3-4bab-e355-4cf4c7e5706d"
      },
      "execution_count": null,
      "outputs": [
        {
          "output_type": "error",
          "ename": "TypeError",
          "evalue": "add_two_numbers() missing 1 required positional argument: 'num2'",
          "traceback": [
            "\u001b[0;31m---------------------------------------------------------------------------\u001b[0m",
            "\u001b[0;31mTypeError\u001b[0m                                 Traceback (most recent call last)",
            "\u001b[0;32m<ipython-input-18-5a4b30096bed>\u001b[0m in \u001b[0;36m<cell line: 0>\u001b[0;34m()\u001b[0m\n\u001b[0;32m----> 1\u001b[0;31m \u001b[0madd_two_numbers\u001b[0m\u001b[0;34m(\u001b[0m\u001b[0;36m200\u001b[0m\u001b[0;34m)\u001b[0m \u001b[0;31m# we only apply one argument in while calling the function. originally there are two arguments required as per parameters.\u001b[0m\u001b[0;34m\u001b[0m\u001b[0;34m\u001b[0m\u001b[0m\n\u001b[0m",
            "\u001b[0;31mTypeError\u001b[0m: add_two_numbers() missing 1 required positional argument: 'num2'"
          ]
        }
      ]
    },
    {
      "cell_type": "markdown",
      "source": [
        "If function has two parameter defined so, above error is generated because we mentioned the one argument. it is called required functions- means what ever parameters are in the function the argument aslo required same."
      ],
      "metadata": {
        "id": "I7DYzxevrfXB"
      }
    },
    {
      "cell_type": "code",
      "source": [
        "add_two_numbers(7,3) # here we passed two arguments- the results is true i.e num1 = 7 & num2 = 3 Total 10"
      ],
      "metadata": {
        "colab": {
          "base_uri": "https://localhost:8080/"
        },
        "id": "pxUCqjZopFdj",
        "outputId": "91b79da8-8222-4ccb-8f36-819157748b60"
      },
      "execution_count": null,
      "outputs": [
        {
          "output_type": "execute_result",
          "data": {
            "text/plain": [
              "10"
            ]
          },
          "metadata": {},
          "execution_count": 20
        }
      ]
    },
    {
      "cell_type": "code",
      "source": [
        "def add_two_numbers_new(num1: int,num2: int) ->int:\n",
        "  return num1 + num2"
      ],
      "metadata": {
        "id": "o7yrT2DSsYUx"
      },
      "execution_count": null,
      "outputs": []
    },
    {
      "cell_type": "code",
      "source": [
        "add_two_numbers()\n",
        "add_two_numbers_new()"
      ],
      "metadata": {
        "id": "0BJAuUYSspHj"
      },
      "execution_count": null,
      "outputs": []
    },
    {
      "cell_type": "markdown",
      "source": [
        "# optional parameters/Arguments functions\n",
        "* parameters: in function body/declairation\n",
        "* arguments: calling time\n",
        "\n",
        "```\n",
        "# This is formatted as code\n",
        "```\n"
      ],
      "metadata": {
        "id": "72k_vmT2sQUI"
      }
    },
    {
      "cell_type": "code",
      "source": [
        "def add_numbers(num1, num2: int = 0) -> int: # This optional parameters/arguments functions\n",
        "  return num1 + num2"
      ],
      "metadata": {
        "id": "UjMvrreNp0OQ"
      },
      "execution_count": null,
      "outputs": []
    },
    {
      "cell_type": "code",
      "source": [
        "add_numbers(7) # By default num2 picked as zero value."
      ],
      "metadata": {
        "colab": {
          "base_uri": "https://localhost:8080/"
        },
        "id": "UsoK3kP0xBW3",
        "outputId": "1faab76e-6121-4880-fd48-b9244dc5fbdc"
      },
      "execution_count": null,
      "outputs": [
        {
          "output_type": "execute_result",
          "data": {
            "text/plain": [
              "7"
            ]
          },
          "metadata": {},
          "execution_count": 23
        }
      ]
    },
    {
      "cell_type": "code",
      "source": [
        "add_numbers(7,3) # her we passed both values according to the parameters"
      ],
      "metadata": {
        "colab": {
          "base_uri": "https://localhost:8080/"
        },
        "id": "xABP2U2Yw-du",
        "outputId": "5399c735-6040-4757-e548-f50b5d472397"
      },
      "execution_count": null,
      "outputs": [
        {
          "output_type": "execute_result",
          "data": {
            "text/plain": [
              "10"
            ]
          },
          "metadata": {},
          "execution_count": 24
        }
      ]
    },
    {
      "cell_type": "code",
      "source": [
        "print(add_numbers(7,3)) # here we are calling print function.\n",
        "print(add_numbers(3))"
      ],
      "metadata": {
        "colab": {
          "base_uri": "https://localhost:8080/"
        },
        "id": "C0CVSJE-xEJu",
        "outputId": "7b5c8612-ff7c-4c1d-9ecb-f4d72618e3d6"
      },
      "execution_count": null,
      "outputs": [
        {
          "output_type": "stream",
          "name": "stdout",
          "text": [
            "10\n",
            "3\n"
          ]
        }
      ]
    },
    {
      "cell_type": "code",
      "source": [
        "add_numbers(7,3) # only given one result - because it is calling functions\n",
        "add_numbers(3)"
      ],
      "metadata": {
        "colab": {
          "base_uri": "https://localhost:8080/"
        },
        "id": "4MpO20Ff0SRX",
        "outputId": "637183c2-f5e7-460e-ccae-e1c843adb5c3"
      },
      "execution_count": null,
      "outputs": [
        {
          "output_type": "execute_result",
          "data": {
            "text/plain": [
              "3"
            ]
          },
          "metadata": {},
          "execution_count": 31
        }
      ]
    },
    {
      "cell_type": "code",
      "source": [
        "# prompt: add_numbers(7,3)\n",
        "# add_numbers(3)\n",
        "# print(add_numbers(7,3))\n",
        "# print(add_numbers(3))\n",
        "# why it is given only one result\n",
        "\n",
        "The code calls `add_numbers` multiple times, but only the explicitly printed calls will show output.  Let's break down why:\n",
        "\n",
        "\n",
        "1. **`add_numbers(7,3)` and `add_numbers(3)` (no print statements):** These lines *execute* the function, but the return value is not used or displayed.  The function calculates 10 and 3 respectively, but the results are discarded.\n",
        "\n",
        "\n",
        "2. **`print(add_numbers(7,3))`:** This line *executes* `add_numbers(7,3)`, which returns 10.  The `print()` function then displays this return value (10).\n",
        "\n",
        "\n",
        "3. **`print(add_numbers(3))`:** This line *executes* `add_numbers(3)`. Because `num2` has a default value of 0, the function calculates 3 + 0 = 3.  The `print()` function then displays this return value (3).\n",
        "\n",
        "\n",
        "**In summary:**  Function calls without `print()` or an assignment to a variable don't produce visible output in the console.  The code executes the function, but the result isn't displayed unless you explicitly use `print()` or store it in a variable.\n"
      ],
      "metadata": {
        "colab": {
          "base_uri": "https://localhost:8080/"
        },
        "id": "KQRTCCx90qxn",
        "outputId": "63859297-8ec4-45bc-cf23-44387e942a5a"
      },
      "execution_count": null,
      "outputs": [
        {
          "output_type": "execute_result",
          "data": {
            "text/plain": [
              "3"
            ]
          },
          "metadata": {},
          "execution_count": 32
        }
      ]
    },
    {
      "cell_type": "markdown",
      "source": [
        "# Passing Arguments\n"
      ],
      "metadata": {
        "id": "OLGAh1HB3dBc"
      }
    },
    {
      "cell_type": "code",
      "source": [
        "def add_numbers(num1: int, num2: int) ->int:\n",
        "  print(\"num1 value\", num1, \"type\", type(num1))\n",
        "  print(f\"num2 value\", num2, \"type\", type(num2))\n",
        "  return num1 + num2"
      ],
      "metadata": {
        "id": "dl8ufuAI0wMB"
      },
      "execution_count": null,
      "outputs": []
    },
    {
      "cell_type": "markdown",
      "source": [
        "# Positional Arguments"
      ],
      "metadata": {
        "id": "dmj9Qt6-IIkb"
      }
    },
    {
      "cell_type": "code",
      "source": [
        "add_numbers(3,7)"
      ],
      "metadata": {
        "colab": {
          "base_uri": "https://localhost:8080/"
        },
        "id": "80aMhscT4BN7",
        "outputId": "68d05a66-d8a3-413f-8619-b51db6e864d1"
      },
      "execution_count": null,
      "outputs": [
        {
          "output_type": "stream",
          "name": "stdout",
          "text": [
            "num1 value 3 type <class 'int'>\n",
            "num2 value 7 type <class 'int'>\n"
          ]
        },
        {
          "output_type": "execute_result",
          "data": {
            "text/plain": [
              "10"
            ]
          },
          "metadata": {},
          "execution_count": 11
        }
      ]
    },
    {
      "cell_type": "markdown",
      "source": [
        "# Un-zip"
      ],
      "metadata": {
        "id": "p6aW7OugJdEa"
      }
    },
    {
      "cell_type": "code",
      "source": [
        "l1 = [10,20]\n",
        "print(l1[0]),\n",
        "print(l1[1])\n",
        "print(add_numbers(l1[0],l1[1]))"
      ],
      "metadata": {
        "colab": {
          "base_uri": "https://localhost:8080/"
        },
        "id": "CK8FVkGXIeaY",
        "outputId": "e20f4af8-e852-4728-a2ee-ca000022d079"
      },
      "execution_count": null,
      "outputs": [
        {
          "output_type": "stream",
          "name": "stdout",
          "text": [
            "10\n",
            "20\n",
            "num1 value 10 type <class 'int'>\n",
            "num2 value 20 type <class 'int'>\n",
            "30\n"
          ]
        }
      ]
    },
    {
      "cell_type": "code",
      "source": [
        "l1 = [10,20]\n",
        "a = l1[0]\n",
        "b = l1[1]\n",
        "a, b = l1\n",
        "print(a)\n",
        "print(b)\n",
        "\n",
        "print(add_numbers(a,b))"
      ],
      "metadata": {
        "colab": {
          "base_uri": "https://localhost:8080/"
        },
        "id": "E4jPMpM9JlLw",
        "outputId": "be0b0aeb-4e9d-4193-fe03-fed9ddfc49cf"
      },
      "execution_count": null,
      "outputs": [
        {
          "output_type": "stream",
          "name": "stdout",
          "text": [
            "10\n",
            "20\n",
            "num1 value 10 type <class 'int'>\n",
            "num2 value 20 type <class 'int'>\n",
            "30\n"
          ]
        }
      ]
    },
    {
      "cell_type": "code",
      "source": [
        "l1 = [10,20]\n",
        "add_numbers(*l1) # Add * before list/tuple function calling time."
      ],
      "metadata": {
        "colab": {
          "base_uri": "https://localhost:8080/"
        },
        "id": "ke3thCPpJlJt",
        "outputId": "9f611e3a-d245-4b7a-cece-b60262aa27d9"
      },
      "execution_count": null,
      "outputs": [
        {
          "output_type": "stream",
          "name": "stdout",
          "text": [
            "num1 value 10 type <class 'int'>\n",
            "num2 value 20 type <class 'int'>\n"
          ]
        },
        {
          "output_type": "execute_result",
          "data": {
            "text/plain": [
              "30"
            ]
          },
          "metadata": {},
          "execution_count": 18
        }
      ]
    },
    {
      "cell_type": "code",
      "source": [],
      "metadata": {
        "id": "M9vJQYB2JlDo"
      },
      "execution_count": null,
      "outputs": []
    },
    {
      "cell_type": "markdown",
      "source": [
        "# Key-word Arguments"
      ],
      "metadata": {
        "id": "wpZN-RszIODa"
      }
    },
    {
      "cell_type": "code",
      "source": [
        "add_numbers(num1=3, num2=7)"
      ],
      "metadata": {
        "colab": {
          "base_uri": "https://localhost:8080/"
        },
        "id": "jfiH8Kwj4Hig",
        "outputId": "3dffc441-a788-420f-d89a-a8daa0328c67"
      },
      "execution_count": null,
      "outputs": [
        {
          "output_type": "stream",
          "name": "stdout",
          "text": [
            "num1 value 3 type <class 'int'>\n",
            "num2 value 7 type <class 'int'>\n"
          ]
        },
        {
          "output_type": "execute_result",
          "data": {
            "text/plain": [
              "10"
            ]
          },
          "metadata": {},
          "execution_count": 35
        }
      ]
    },
    {
      "cell_type": "code",
      "source": [
        "data1 ={\"num2\": 3, \"num1\": 7}\n",
        "add_numbers(**data1) # Double strik before dictionary in function calling.\n",
        " # add_numbers(num2=3, num1=7)"
      ],
      "metadata": {
        "colab": {
          "base_uri": "https://localhost:8080/"
        },
        "id": "AqcBaMW7K0E_",
        "outputId": "6e82da51-52ad-4633-f10b-a7d0ea2d08ff"
      },
      "execution_count": null,
      "outputs": [
        {
          "output_type": "stream",
          "name": "stdout",
          "text": [
            "num1 value 7 type <class 'int'>\n",
            "num2 value 3 type <class 'int'>\n"
          ]
        },
        {
          "output_type": "execute_result",
          "data": {
            "text/plain": [
              "10"
            ]
          },
          "metadata": {},
          "execution_count": 24
        }
      ]
    },
    {
      "cell_type": "code",
      "source": [
        "def NED_student_card(id:int, name: str, fname: str, course: str, timing: str) -> None:\n",
        "  card: str = f\"\"\"\n",
        "  NED University\n",
        "  Student Id: {id}\n",
        "  Name: {name}\n",
        "  Father's Name: {fname}\n",
        "  Course: {course}\n",
        "  Timing: {timing}\n",
        "  \"\"\"\n",
        "  return(card) # it will give results in un-formatted form by calling NED_function_card."
      ],
      "metadata": {
        "id": "qPFrsB7Q4S4j"
      },
      "execution_count": null,
      "outputs": []
    },
    {
      "cell_type": "code",
      "source": [
        "NED_student_card(1, \"Muhammad Sajid\", \"Muhammad Zahid\", \"Data Science\", \"9 to 12\") # Like this functions is calling but result is un-formatted.\n",
        "NED_student_card(2, \"Muhammad Qasim\", \"Muhammad Aslam\", \"Data Science\", \"9 to 12\") # Like this functions is calling but result is un-formatted."
      ],
      "metadata": {
        "colab": {
          "base_uri": "https://localhost:8080/",
          "height": 36
        },
        "id": "KrqgN5904qW4",
        "outputId": "5213406d-1a40-4294-d166-94eed74fb849"
      },
      "execution_count": null,
      "outputs": [
        {
          "output_type": "execute_result",
          "data": {
            "text/plain": [
              "\"\\n  NED University\\n  Student Id: 2\\n  Name: Muhammad Qasim\\n  Father's Name: Muhammad Aslam\\n  Course: Data Science\\n  Timing: 9 to 12\\n  \""
            ],
            "application/vnd.google.colaboratory.intrinsic+json": {
              "type": "string"
            }
          },
          "metadata": {},
          "execution_count": 41
        }
      ]
    },
    {
      "cell_type": "code",
      "source": [
        "print(NED_student_card(1, \"Muhammad Sajid\", \"Muhammad Zahid\", \"Data Science\", \"9 to 12\")) # Now we need print function to get result in formatted form.\n",
        "print(NED_student_card(2, \"Muhammad Qasim\", \"Muhammad Aslam\", \"Data Science\", \"9 to 12\"))  # Now we need print function to get result in formatted form."
      ],
      "metadata": {
        "colab": {
          "base_uri": "https://localhost:8080/"
        },
        "id": "k9W22JLe4tTz",
        "outputId": "9880328f-9f91-4deb-c6e3-a358a29c988e"
      },
      "execution_count": null,
      "outputs": [
        {
          "output_type": "stream",
          "name": "stdout",
          "text": [
            "\n",
            "  NED University\n",
            "  Student Id: 1\n",
            "  Name: Muhammad Sajid\n",
            "  Father's Name: Muhammad Zahid\n",
            "  Course: Data Science\n",
            "  Timing: 9 to 12\n",
            "  \n",
            "\n",
            "  NED University\n",
            "  Student Id: 2\n",
            "  Name: Muhammad Qasim\n",
            "  Father's Name: Muhammad Aslam\n",
            "  Course: Data Science\n",
            "  Timing: 9 to 12\n",
            "  \n"
          ]
        }
      ]
    },
    {
      "cell_type": "code",
      "source": [
        "def NED_student_card(id:int, name: str, fname: str, course: str, timing: str) -> None:\n",
        "  card: str = f\"\"\"\n",
        "  NED University\n",
        "  Student Id: {id}\n",
        "  Name: {name}\n",
        "  Father's Name: {fname}\n",
        "  Course: {course}\n",
        "  Timing: {timing}\n",
        "  \"\"\"\n",
        "  print(card) # it will give results formatted by just calling functions NED_student_card. because we used print(card) instead of return(card)."
      ],
      "metadata": {
        "id": "W08_I9z65RJL"
      },
      "execution_count": null,
      "outputs": []
    },
    {
      "cell_type": "code",
      "source": [
        "NED_student_card(1, \"Muhammad Sajid\", \"Muhammad Zahid\", \"Data Science\", \"9 to 12\") # There is no need to call print function for formatted form.\n",
        "NED_student_card(2, \"Muhammad Qasim\", \"Muhammad Aslam\", \"Data Science\", \"9 to 12\")  # There is no need to call print function for formatted form.\n"
      ],
      "metadata": {
        "colab": {
          "base_uri": "https://localhost:8080/"
        },
        "id": "JPgLoask6I9l",
        "outputId": "12ca53a0-7b1d-48eb-d8cb-790c9d8b7846"
      },
      "execution_count": null,
      "outputs": [
        {
          "output_type": "stream",
          "name": "stdout",
          "text": [
            "\n",
            "  NED University\n",
            "  Student Id: 1\n",
            "  Name: Muhammad Sajid\n",
            "  Father's Name: Muhammad Zahid\n",
            "  Course: Data Science\n",
            "  Timing: 9 to 12\n",
            "  \n",
            "\n",
            "  NED University\n",
            "  Student Id: 2\n",
            "  Name: Muhammad Qasim\n",
            "  Father's Name: Muhammad Aslam\n",
            "  Course: Data Science\n",
            "  Timing: 9 to 12\n",
            "  \n"
          ]
        }
      ]
    },
    {
      "cell_type": "code",
      "source": [
        "NED_student_card(3, \"Muhammad Qasim\", \"Muhammad Aslam\", \"Data Science\", \"9 to 12\")  # There is no need to call print function for formatted form."
      ],
      "metadata": {
        "id": "lJ2MtOPX6LEi",
        "colab": {
          "base_uri": "https://localhost:8080/"
        },
        "outputId": "132cea94-296e-4d5b-b8ae-47f2babdbe5c"
      },
      "execution_count": null,
      "outputs": [
        {
          "output_type": "stream",
          "name": "stdout",
          "text": [
            "\n",
            "  NED University\n",
            "  Student Id: 3\n",
            "  Name: Muhammad Qasim\n",
            "  Father's Name: Muhammad Aslam\n",
            "  Course: Data Science\n",
            "  Timing: 9 to 12\n",
            "  \n"
          ]
        }
      ]
    },
    {
      "cell_type": "code",
      "source": [
        "NED_student_card(name=3, fname=\"Muhammad Qasim\", id=\"Muhammad Aslam\", course=\"Data Science\", timing=\"9 to 12\")  # There is no need to call print function for formatted form."
      ],
      "metadata": {
        "colab": {
          "base_uri": "https://localhost:8080/"
        },
        "id": "_54ppqq-HX_o",
        "outputId": "131ad970-c15f-4e9c-8efb-15025c2db72a"
      },
      "execution_count": null,
      "outputs": [
        {
          "output_type": "stream",
          "name": "stdout",
          "text": [
            "\n",
            "  NED University\n",
            "  Student Id: Muhammad Aslam\n",
            "  Name: 3\n",
            "  Father's Name: Muhammad Qasim\n",
            "  Course: Data Science\n",
            "  Timing: 9 to 12\n",
            "  \n"
          ]
        }
      ]
    },
    {
      "cell_type": "markdown",
      "source": [
        "# Function Type\n",
        "  * Lambda function\n",
        "  * Generator Function\n",
        "  * Recursive Function\n",
        "  * Decorator Function"
      ],
      "metadata": {
        "id": "lJS2yOBVMDu5"
      }
    },
    {
      "cell_type": "markdown",
      "source": [
        "## Lambda Function\n",
        "\n",
        "* One line function\n",
        "* without name function\n",
        "* not used before this line\n",
        "* not after this line\n",
        "\n",
        "simple function\n",
        "'''python\n",
        "def function_name(part1,part2,..):\n",
        "    function body\n",
        "'''"
      ],
      "metadata": {
        "id": "dqzKFugQMV8P"
      }
    },
    {
      "cell_type": "code",
      "source": [
        "def my_add(num1,num2):\n",
        "  return num1 + num2\n",
        "\n",
        "\n",
        "my_add(3,7)"
      ],
      "metadata": {
        "colab": {
          "base_uri": "https://localhost:8080/"
        },
        "id": "F7JH3qO2H1rP",
        "outputId": "938fbc31-4b22-4784-de1c-e481cd20d89c"
      },
      "execution_count": null,
      "outputs": [
        {
          "output_type": "execute_result",
          "data": {
            "text/plain": [
              "10"
            ]
          },
          "metadata": {},
          "execution_count": 29
        }
      ]
    },
    {
      "cell_type": "code",
      "source": [
        "abc = lambda num1, num2: num1 + num2\n",
        "abc(3,7)"
      ],
      "metadata": {
        "colab": {
          "base_uri": "https://localhost:8080/"
        },
        "id": "UPnnRfT1ObQ3",
        "outputId": "46b8d8b2-ac2d-440e-c90d-69472cac995e"
      },
      "execution_count": null,
      "outputs": [
        {
          "output_type": "execute_result",
          "data": {
            "text/plain": [
              "10"
            ]
          },
          "metadata": {},
          "execution_count": 30
        }
      ]
    },
    {
      "cell_type": "code",
      "source": [
        "# prompt: create list of tuple then sort with lambda function\n",
        "\n",
        "# Sample list of tuples\n",
        "data = [\n",
        "    (3, 'apple'),\n",
        "     (1, 'banana'),\n",
        "      (2, 'cherry')]\n",
        "\n",
        "# Sort the list of tuples using a lambda function as the key\n",
        "sorted_data = sorted(data, key=lambda x: x[0])  # Sort based on the first element of each tuple\n",
        "\n",
        "# Print the sorted list\n",
        "sorted_data\n"
      ],
      "metadata": {
        "colab": {
          "base_uri": "https://localhost:8080/"
        },
        "id": "jOYj9fDTOi1l",
        "outputId": "5aa88ccd-bb4a-4ab8-c3ff-cced176f535a"
      },
      "execution_count": null,
      "outputs": [
        {
          "output_type": "execute_result",
          "data": {
            "text/plain": [
              "[(1, 'banana'), (2, 'cherry'), (3, 'apple')]"
            ]
          },
          "metadata": {},
          "execution_count": 31
        }
      ]
    },
    {
      "cell_type": "code",
      "source": [
        "# prompt: create list of tuple then sort with lambda function\n",
        "\n",
        "# Sample list of tuples\n",
        "data = [\n",
        "    (3, 'apple'),\n",
        "     (1, 'banana'),\n",
        "      (2, 'cherry')]\n",
        "\n",
        "# Sort the list of tuples using a lambda function as the key\n",
        "sorted_data = sorted(data, key=lambda x: x[1])  # Sort based on the first element of each tuple\n",
        "\n",
        "# Print the sorted list\n",
        "sorted_data\n"
      ],
      "metadata": {
        "colab": {
          "base_uri": "https://localhost:8080/"
        },
        "id": "yNNa6TgLOKAL",
        "outputId": "d5278b81-8ee8-484b-8272-06f45438cad2"
      },
      "execution_count": null,
      "outputs": [
        {
          "output_type": "execute_result",
          "data": {
            "text/plain": [
              "[(3, 'apple'), (1, 'banana'), (2, 'cherry')]"
            ]
          },
          "metadata": {},
          "execution_count": 32
        }
      ]
    },
    {
      "cell_type": "markdown",
      "source": [
        "# Generator Function\n",
        "\n",
        "* Run Step by Step\n",
        "*     perform one step then stop\n",
        "* when you run it again then it will take next step.\n",
        "\n",
        "Generator always remember the last function run.\n",
        "\n",
        "\"\"\"python\n",
        "\n",
        "function calling by yield and print(next())\n",
        "\n",
        "\n",
        "\"\"\""
      ],
      "metadata": {
        "id": "nJPmb9OnP5PT"
      }
    },
    {
      "cell_type": "code",
      "source": [
        "def my_range(start, end, step=1):\n",
        "  for i in range(start, end+1, step):\n",
        "    yield i"
      ],
      "metadata": {
        "id": "9kI4_u-BPH7S"
      },
      "execution_count": null,
      "outputs": []
    },
    {
      "cell_type": "code",
      "source": [
        "l1 = my_range(1,10)\n"
      ],
      "metadata": {
        "id": "00kOud6IRAXf"
      },
      "execution_count": null,
      "outputs": []
    },
    {
      "cell_type": "code",
      "source": [
        "l1"
      ],
      "metadata": {
        "colab": {
          "base_uri": "https://localhost:8080/"
        },
        "id": "psOdh8KsRIUm",
        "outputId": "f422fa3d-15e2-4687-aff3-e423399bd054"
      },
      "execution_count": null,
      "outputs": [
        {
          "output_type": "execute_result",
          "data": {
            "text/plain": [
              "<generator object my_range at 0x7c1b074f5d50>"
            ]
          },
          "metadata": {},
          "execution_count": 12
        }
      ]
    },
    {
      "cell_type": "code",
      "source": [
        "l1 = my_range(1,10)\n",
        "print(next(l1))\n",
        "print(next(l1))\n",
        "print(\"Pakistan Zindabad\")\n",
        "print(next(l1))\n",
        "print(list(l1))"
      ],
      "metadata": {
        "colab": {
          "base_uri": "https://localhost:8080/"
        },
        "id": "7r0olvfVRPcY",
        "outputId": "3bbfc9c4-9f04-4dc8-ff11-c480eb7667b0"
      },
      "execution_count": null,
      "outputs": [
        {
          "output_type": "stream",
          "name": "stdout",
          "text": [
            "1\n",
            "2\n",
            "Pakistan Zindabad\n",
            "3\n",
            "[4, 5, 6, 7, 8, 9, 10]\n"
          ]
        }
      ]
    },
    {
      "cell_type": "markdown",
      "source": [
        "# Recursive Function\n",
        "\n",
        "* Repitition of function.\n",
        "* Function Call it-self in it body.\n",
        "* Recursion (Infinite)\n",
        "      * We have stop it at particular point."
      ],
      "metadata": {
        "id": "ZZQKWDkVSZJ5"
      }
    },
    {
      "cell_type": "code",
      "source": [
        "# prompt: create simple recursion function example\n",
        "\n",
        "def factorial(n):\n",
        "  if n == 0:\n",
        "    return 1\n",
        "  else:\n",
        "    return n * factorial(n-1)\n",
        "\n",
        "print(factorial(5))\n"
      ],
      "metadata": {
        "colab": {
          "base_uri": "https://localhost:8080/"
        },
        "id": "Um6VNRFORXkO",
        "outputId": "20859a8c-b6cb-4bde-891d-1c35311af901"
      },
      "execution_count": null,
      "outputs": [
        {
          "output_type": "stream",
          "name": "stdout",
          "text": [
            "120\n"
          ]
        }
      ]
    },
    {
      "cell_type": "code",
      "source": [
        "def factorial(n):\n",
        "  if n == 0:\n",
        "    return 1  # This will return (1) when zero value.\n",
        "  else:\n",
        "    return n * factorial(n-1)\n",
        "#                    5 * 5-1=4 * 4-1=3 * 3-1 =2 * 2-1 = 1 * 1-1 = 0=1 (return 1) if value becomes zero.\n",
        "print(factorial(5))"
      ],
      "metadata": {
        "colab": {
          "base_uri": "https://localhost:8080/"
        },
        "id": "IpPpeoH9TNfp",
        "outputId": "f6debb22-4088-44ad-f56b-19b589f90e8e"
      },
      "execution_count": null,
      "outputs": [
        {
          "output_type": "stream",
          "name": "stdout",
          "text": [
            "120\n"
          ]
        }
      ]
    },
    {
      "cell_type": "markdown",
      "source": [
        "# Decorator Function\n",
        "\n",
        "* append @ before function_name\n",
        "* Design pattern will be same for every function."
      ],
      "metadata": {
        "id": "LxOOxI9KUWvM"
      }
    },
    {
      "cell_type": "code",
      "source": [
        "# prompt: create simple decorator function examples with description in docs string\n",
        "\n",
        "def my_decorator(func):\n",
        "  \"\"\"\n",
        "  This is a simple decorator function.\n",
        "\n",
        "  Args:\n",
        "      func: The function to be decorated.\n",
        "\n",
        "  Returns:\n",
        "      The decorated function.\n",
        "  \"\"\"\n",
        "  def wrapper():\n",
        "    \"\"\"\n",
        "    This is the wrapper function.\n",
        "    \"\"\"\n",
        "    print(\"Before function execution\")\n",
        "    func()\n",
        "    print(\"After function execution\")\n",
        "  return wrapper\n",
        "\n",
        "@my_decorator\n",
        "def say_hello():\n",
        "  \"\"\"\n",
        "  This function prints 'Hello!'.\n",
        "  \"\"\"\n",
        "  print(\"Hello!\")\n",
        "\n",
        "say_hello()\n",
        "\n",
        "\n",
        "def repeat_decorator(num_times):\n",
        "  \"\"\"\n",
        "  Repeats the decorated function a specified number of times.\n",
        "\n",
        "  Args:\n",
        "    num_times: The number of times to repeat the function.\n",
        "\n",
        "  Returns:\n",
        "    A decorator function.\n",
        "  \"\"\"\n",
        "  def decorator_repeat(func):\n",
        "    \"\"\"\n",
        "    Decorator function to repeat function calls.\n",
        "    \"\"\"\n",
        "    def wrapper(*args, **kwargs):\n",
        "      \"\"\"\n",
        "      Wrapper to execute function multiple times.\n",
        "      \"\"\"\n",
        "      for _ in range(num_times):\n",
        "        result = func(*args, **kwargs)\n",
        "      return result\n",
        "    return wrapper\n",
        "  return decorator_repeat\n",
        "\n",
        "@repeat_decorator(num_times=3)\n",
        "def greet(name):\n",
        "  \"\"\"\n",
        "  Greets a person by name.\n",
        "  \"\"\"\n",
        "  print(f\"Hello, {name}!\")\n",
        "\n",
        "greet(\"World\")\n"
      ],
      "metadata": {
        "colab": {
          "base_uri": "https://localhost:8080/"
        },
        "id": "NyWc62nlTzzN",
        "outputId": "8f52e7ab-46d6-4826-a6ef-d7c4b7b952af"
      },
      "execution_count": null,
      "outputs": [
        {
          "output_type": "stream",
          "name": "stdout",
          "text": [
            "Before function execution\n",
            "Hello!\n",
            "After function execution\n",
            "Hello, World!\n",
            "Hello, World!\n",
            "Hello, World!\n"
          ]
        }
      ]
    },
    {
      "cell_type": "code",
      "source": [
        "def say_hello(): # Normal function calling.\n",
        "  \"\"\"\n",
        "  This function prints 'Hello!'.\n",
        "  \"\"\"\n",
        "  print(\"Hello!\")\n",
        "\n",
        "say_hello()"
      ],
      "metadata": {
        "colab": {
          "base_uri": "https://localhost:8080/"
        },
        "id": "NFD_4pd4U_c0",
        "outputId": "f1e0e078-5d0b-4db5-ddb9-0173c8764c68"
      },
      "execution_count": null,
      "outputs": [
        {
          "output_type": "stream",
          "name": "stdout",
          "text": [
            "Hello!\n"
          ]
        }
      ]
    },
    {
      "cell_type": "code",
      "source": [
        "@my_decorator  # Calling Decorator Function.\n",
        "def say_hello():\n",
        "  \"\"\"\n",
        "  This function prints 'Hello!'.\n",
        "  \"\"\"\n",
        "  print(\"Hello!\")\n",
        "\n",
        "say_hello()"
      ],
      "metadata": {
        "colab": {
          "base_uri": "https://localhost:8080/"
        },
        "id": "GI1mXY1uWvVJ",
        "outputId": "ae612345-d368-4c03-f203-c8c5744f09d5"
      },
      "execution_count": null,
      "outputs": [
        {
          "output_type": "stream",
          "name": "stdout",
          "text": [
            "Before function execution\n",
            "Hello!\n",
            "After function execution\n"
          ]
        }
      ]
    },
    {
      "cell_type": "code",
      "source": [],
      "metadata": {
        "id": "KveIfYymW3S-"
      },
      "execution_count": null,
      "outputs": []
    }
  ]
}