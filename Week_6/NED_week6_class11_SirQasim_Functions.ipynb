{
  "nbformat": 4,
  "nbformat_minor": 0,
  "metadata": {
    "colab": {
      "provenance": []
    },
    "kernelspec": {
      "name": "python3",
      "display_name": "Python 3"
    },
    "language_info": {
      "name": "python"
    }
  },
  "cells": [
    {
      "cell_type": "markdown",
      "source": [
        "# Functions\n",
        "we can create function for repeatating tasks.\n",
        "\n",
        "* function core components\n",
        "  * function declairation\n",
        "    * function name\n",
        "    * parameters\n",
        "      * type (optional)\n",
        "    * return type (optional)\n",
        "  * function body\n",
        "    * set of instructions\n",
        "    * optional\n",
        "      * doc string\n",
        "      * type hints\n",
        "  * function calling\n",
        "* return function\n",
        "* none-return function\n",
        "* defualt function\n",
        "  * not required any parameter declaire/calling time\n",
        "\n",
        "* required parameter functions\n",
        "* passing arguments\n",
        "  * postional\n",
        "    * list/tuple\n",
        "  * key-value\n",
        "    * dictionary\n",
        "\n",
        "* unlimited-parameters function\n",
        "  * postional\n",
        "  * key-word\n",
        "\n",
        "\n",
        "## predine-functions\n",
        "* `print(), len(), id(), dir()`\n",
        "\n",
        "## user-define-fucntion\n",
        "* create your custom/ own function\n",
        "* optional parameters\n",
        "\n",
        "  \n",
        "\n"
      ],
      "metadata": {
        "id": "FkYDsaR_F8zL"
      }
    },
    {
      "cell_type": "code",
      "source": [
        "print(\"NED University\")\n",
        "print(\"City: Karachi\")\n",
        "print(\"Course: Data Science Batch-10\")\n",
        "print(\"Student Name: Muhammad Sajid\")\n"
      ],
      "metadata": {
        "colab": {
          "base_uri": "https://localhost:8080/"
        },
        "id": "WlcWhwm4UyOM",
        "outputId": "31827c78-2936-44ba-d5fc-273f624ecc24"
      },
      "execution_count": 1,
      "outputs": [
        {
          "output_type": "stream",
          "name": "stdout",
          "text": [
            "NED University\n",
            "City: Karachi\n",
            "Course: Data Science Batch-10\n",
            "Student Name: Muhammad Sajid\n"
          ]
        }
      ]
    },
    {
      "cell_type": "code",
      "source": [
        "print(\"NED University\")\n",
        "print(\"City: Karachi\")\n",
        "print(\"Course: Data Science Batch-10\")\n",
        "print(\"Student Name: Muhammad Qasim\")\n"
      ],
      "metadata": {
        "colab": {
          "base_uri": "https://localhost:8080/"
        },
        "id": "6sKBDiU0VJWK",
        "outputId": "0cc79b4e-974e-4284-e77d-ca3cba498c77"
      },
      "execution_count": 2,
      "outputs": [
        {
          "output_type": "stream",
          "name": "stdout",
          "text": [
            "NED University\n",
            "City: Karachi\n",
            "Course: Data Science Batch-10\n",
            "Student Name: Muhammad Qasim\n"
          ]
        }
      ]
    },
    {
      "cell_type": "markdown",
      "source": [
        "# Function Syntax\n",
        "```python\n",
        "def function_name(parameter1,parameter2,...):\n",
        "  funtion_body\n",
        "\n",
        "```"
      ],
      "metadata": {
        "id": "AJqU6AohVib3"
      }
    },
    {
      "cell_type": "code",
      "source": [
        "def info():\n",
        "    print(\"NED University\")\n",
        "    print(\"City: Karachi\")\n",
        "    print(\"Course: Data Science Batch-10\")\n",
        "    print(\"Student Name: Muhammad Sajid\")"
      ],
      "metadata": {
        "id": "jUH03hIyVQbN"
      },
      "execution_count": 3,
      "outputs": []
    },
    {
      "cell_type": "code",
      "source": [
        "info()"
      ],
      "metadata": {
        "colab": {
          "base_uri": "https://localhost:8080/"
        },
        "id": "Dk696XTaVUBq",
        "outputId": "8c9552ef-85fb-4c9b-e06a-9fe4563d0c23"
      },
      "execution_count": 4,
      "outputs": [
        {
          "output_type": "stream",
          "name": "stdout",
          "text": [
            "NED University\n",
            "City: Karachi\n",
            "Course: Data Science Batch-10\n",
            "Student Name: Muhammad Sajid\n"
          ]
        }
      ]
    },
    {
      "cell_type": "code",
      "source": [
        "info()\n",
        "info()\n",
        "info()\n",
        "info()\n"
      ],
      "metadata": {
        "colab": {
          "base_uri": "https://localhost:8080/"
        },
        "id": "YxoU6PsJVVe9",
        "outputId": "5d6365b7-2df7-4112-8c09-d8e9a8d2a57e"
      },
      "execution_count": 5,
      "outputs": [
        {
          "output_type": "stream",
          "name": "stdout",
          "text": [
            "NED University\n",
            "City: Karachi\n",
            "Course: Data Science Batch-10\n",
            "Student Name: Muhammad Sajid\n",
            "NED University\n",
            "City: Karachi\n",
            "Course: Data Science Batch-10\n",
            "Student Name: Muhammad Sajid\n",
            "NED University\n",
            "City: Karachi\n",
            "Course: Data Science Batch-10\n",
            "Student Name: Muhammad Sajid\n",
            "NED University\n",
            "City: Karachi\n",
            "Course: Data Science Batch-10\n",
            "Student Name: Muhammad Sajid\n"
          ]
        }
      ]
    },
    {
      "cell_type": "code",
      "source": [
        "def info()->None:\n",
        "    print(\"NED University\")\n",
        "    print(\"City: Karachi\")\n",
        "    print(\"Course: Data Science Batch-10\")\n",
        "    print(\"Student Name: Muhammad Sajid\")"
      ],
      "metadata": {
        "id": "vmZzHfLXVoXu"
      },
      "execution_count": 9,
      "outputs": []
    },
    {
      "cell_type": "code",
      "source": [
        "info()"
      ],
      "metadata": {
        "colab": {
          "base_uri": "https://localhost:8080/"
        },
        "id": "sO_8j3wZWf8V",
        "outputId": "67ad88f2-f70a-428b-fa02-72f259923bcc"
      },
      "execution_count": 10,
      "outputs": [
        {
          "output_type": "stream",
          "name": "stdout",
          "text": [
            "NED University\n",
            "City: Karachi\n",
            "Course: Data Science Batch-10\n",
            "Student Name: Muhammad Sajid\n"
          ]
        }
      ]
    },
    {
      "cell_type": "code",
      "source": [
        "def info()->None:\n",
        "  '''\n",
        "  This function is calling student information\n",
        "  '''\n",
        "  print(\"NED University\")\n",
        "  print(\"City: Karachi\")\n",
        "  print(\"Course: Data Science Batch-10\")\n",
        "  print(\"Student Name: Muhammad Sajid\")"
      ],
      "metadata": {
        "id": "i-mF9zPRWvOO"
      },
      "execution_count": 23,
      "outputs": []
    },
    {
      "cell_type": "code",
      "source": [
        "info()"
      ],
      "metadata": {
        "colab": {
          "base_uri": "https://localhost:8080/"
        },
        "id": "_Ur2XD_QW-BK",
        "outputId": "b567fd24-406b-4e7a-8279-ccf34c82beea"
      },
      "execution_count": 24,
      "outputs": [
        {
          "output_type": "stream",
          "name": "stdout",
          "text": [
            "NED University\n",
            "City: Karachi\n",
            "Course: Data Science Batch-10\n",
            "Student Name: Muhammad Sajid\n"
          ]
        }
      ]
    },
    {
      "cell_type": "code",
      "source": [
        "my_var = (\"Pakistan Zindabad\")\n",
        "print(my_var)\n",
        "print(my_var)\n"
      ],
      "metadata": {
        "colab": {
          "base_uri": "https://localhost:8080/"
        },
        "id": "hKMWpw3RYK_7",
        "outputId": "27132aba-2494-414f-b42d-0835890d0003"
      },
      "execution_count": 22,
      "outputs": [
        {
          "output_type": "stream",
          "name": "stdout",
          "text": [
            "Pakistan Zindabad\n",
            "Pakistan Zindabad\n"
          ]
        }
      ]
    },
    {
      "cell_type": "code",
      "source": [
        "my_var = info() # None-return function\n",
        "print(my_var) # check variable value\n",
        "print(my_var) # check variable value"
      ],
      "metadata": {
        "colab": {
          "base_uri": "https://localhost:8080/"
        },
        "id": "NhPMwK8CY2tY",
        "outputId": "3750c79c-bdc7-4815-97a6-8c44bc732404"
      },
      "execution_count": 25,
      "outputs": [
        {
          "output_type": "stream",
          "name": "stdout",
          "text": [
            "NED University\n",
            "City: Karachi\n",
            "Course: Data Science Batch-10\n",
            "Student Name: Muhammad Sajid\n",
            "None\n",
            "None\n"
          ]
        }
      ]
    },
    {
      "cell_type": "code",
      "source": [
        "my_var = (\"Pakistan Zindabad\")\n",
        "print(my_var) # check variable value\n",
        "print(my_var) # check variable value"
      ],
      "metadata": {
        "colab": {
          "base_uri": "https://localhost:8080/"
        },
        "id": "Pt-ggiCdcnGn",
        "outputId": "884f55e5-673b-42e1-e80d-592db3df1525"
      },
      "execution_count": 27,
      "outputs": [
        {
          "output_type": "stream",
          "name": "stdout",
          "text": [
            "Pakistan Zindabad\n",
            "Pakistan Zindabad\n"
          ]
        }
      ]
    },
    {
      "cell_type": "code",
      "source": [],
      "metadata": {
        "id": "KqxJBCeWcv7X"
      },
      "execution_count": null,
      "outputs": []
    }
  ]
}