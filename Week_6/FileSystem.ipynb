{
 "cells": [
  {
   "cell_type": "markdown",
   "id": "44ce285e-fd3e-4ab9-9d19-26beb97ad00d",
   "metadata": {},
   "source": [
    "## FILESYSTEM"
   ]
  },
  {
   "cell_type": "code",
   "execution_count": 10,
   "id": "4a4641db-e93d-466b-b2c0-b64415ace9a9",
   "metadata": {},
   "outputs": [
    {
     "name": "stdout",
     "output_type": "stream",
     "text": [
      "Lorem Ipsum is simply dummy text of the printing and typesetting industry. Lorem Ipsum has been the industry's standard dummy text ever since the 1500s, when an unknown printer took a galley of type and scrambled it to make a type specimen book. It has survived not only five centuries, but also the leap into electronic typesetting, remaining essentially unchanged. It was popularised in the 1960s with the release of Letraset sheets containing Lorem Ipsum passages, and more recently with desktop publishing software like Aldus PageMaker including versions of Lorem Ipsum.\n",
      "\n",
      "\n"
     ]
    }
   ],
   "source": [
    "## To read a file located in a different directory\n",
    "\n",
    "file = open(r\"/home/alimohtashim/Documents/readme.txt\",'r')\n",
    "contents = file.read()\n",
    "file.close()\n",
    "print(contents)"
   ]
  },
  {
   "cell_type": "code",
   "execution_count": 12,
   "id": "d96efcec-baf6-41a6-90df-85b71717bc5c",
   "metadata": {},
   "outputs": [
    {
     "name": "stdout",
     "output_type": "stream",
     "text": [
      "Lorem Ipsum is simply dummy text of the printing and typesetting industry. Lorem Ipsum has been the industry's standard dummy text ever since the 1500s, when an unknown printer took a galley of type and scrambled it to make a type specimen book. It has survived not only five centuries, but also the leap into electronic typesetting, remaining essentially unchanged. It was popularised in the 1960s with the release of Letraset sheets containing Lorem Ipsum passages, and more recently with desktop publishing software like Aldus PageMaker including versions of Lorem Ipsum.\n",
      "My name is ali mohtashim zaidi\n",
      "\n",
      "My name is ali mohtashim zaidi\n",
      "\n",
      "My name is ali mohtashim zaidi\n",
      "\n",
      "My name is ali mohtashim zaidi\n",
      "\n",
      "My name is ali mohtashim zaidi\n",
      "\n",
      "My name ABC\n",
      "\n",
      "My name ABC\n",
      "\n",
      "My name ABC\n",
      "\n",
      "My name ABC\n",
      "\n"
     ]
    }
   ],
   "source": [
    "## To read a file within a same directory\n",
    "file = open(r\"news.txt\",'r')\n",
    "contents = file.read()\n",
    "file.close()\n",
    "print(contents)"
   ]
  },
  {
   "cell_type": "code",
   "execution_count": null,
   "id": "a94b15a9-b240-4d26-b609-de3b32d3ff5d",
   "metadata": {},
   "outputs": [],
   "source": []
  }
 ],
 "metadata": {
  "kernelspec": {
   "display_name": "Python [conda env:base] *",
   "language": "python",
   "name": "conda-base-py"
  },
  "language_info": {
   "codemirror_mode": {
    "name": "ipython",
    "version": 3
   },
   "file_extension": ".py",
   "mimetype": "text/x-python",
   "name": "python",
   "nbconvert_exporter": "python",
   "pygments_lexer": "ipython3",
   "version": "3.12.7"
  }
 },
 "nbformat": 4,
 "nbformat_minor": 5
}
