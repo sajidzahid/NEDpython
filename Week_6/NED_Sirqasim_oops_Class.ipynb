{
  "cells": [
    {
      "cell_type": "markdown",
      "source": [
        "# Linear Programming"
      ],
      "metadata": {
        "id": "bPUj2bSqi4DZ"
      }
    },
    {
      "cell_type": "code",
      "source": [
        "print(\"Pakistan Zindabad\")\n",
        "print(\"Pakistan Zindabad\")\n",
        "print(\"Pakistan Zindabad\")\n",
        "print(\"Pakistan Zindabad\")\n",
        "print(\"Pakistan Zindabad\")"
      ],
      "metadata": {
        "colab": {
          "base_uri": "https://localhost:8080/"
        },
        "id": "Iw5zetOSi8s0",
        "outputId": "d187c041-601d-44f7-981c-b7b44b8e2d14"
      },
      "execution_count": 1,
      "outputs": [
        {
          "output_type": "stream",
          "name": "stdout",
          "text": [
            "Pakistan Zindabad\n",
            "Pakistan Zindabad\n",
            "Pakistan Zindabad\n",
            "Pakistan Zindabad\n",
            "Pakistan Zindabad\n"
          ]
        }
      ]
    },
    {
      "cell_type": "markdown",
      "source": [
        "# Structure Programming"
      ],
      "metadata": {
        "id": "dOeEJxjxjI5A"
      }
    },
    {
      "cell_type": "code",
      "source": [
        "for i in range(10):\n",
        "  print(\"Pakistan Zindabad\")"
      ],
      "metadata": {
        "colab": {
          "base_uri": "https://localhost:8080/"
        },
        "id": "O2swWfMci8oe",
        "outputId": "86777cc8-20f5-410d-ec01-d0691013efaa"
      },
      "execution_count": 2,
      "outputs": [
        {
          "output_type": "stream",
          "name": "stdout",
          "text": [
            "Pakistan Zindabad\n",
            "Pakistan Zindabad\n",
            "Pakistan Zindabad\n",
            "Pakistan Zindabad\n",
            "Pakistan Zindabad\n",
            "Pakistan Zindabad\n",
            "Pakistan Zindabad\n",
            "Pakistan Zindabad\n",
            "Pakistan Zindabad\n",
            "Pakistan Zindabad\n"
          ]
        }
      ]
    },
    {
      "cell_type": "code",
      "source": [
        "def student1_login(): pass\n",
        "def student2_login(): pass\n",
        "def student3_login(): pass\n",
        "def student4_login(): pass\n",
        "def student5_login(): pass\n",
        "\n",
        "def student1_signup(): pass\n",
        "def student2_signup(): pass\n",
        "def student3_signup(): pass\n",
        "def student4_signup(): pass\n",
        "def student5_signup(): pass\n",
        "\n",
        "student1_name = \"\"\n",
        "student2_name = \"\"\n",
        "student3_name = \"\"\n",
        "student4_name = \"\"\n",
        "student5_name = \"\"\n",
        "\n",
        "student1_password = \"\"\n",
        "student2_password = \"\"\n",
        "student3_password = \"\"\n",
        "student4_password = \"\"\n",
        "student5_password = \"\"\n",
        "\n",
        "student1_education = \"\"\n",
        "student2_education = \"\"\n",
        "student3_education = \"\"\n",
        "student4_education = \"\"\n",
        "student5_education = \"\"\n",
        "\n",
        "\n",
        "\n"
      ],
      "metadata": {
        "id": "TMm_j1SEi8Ys"
      },
      "execution_count": null,
      "outputs": []
    },
    {
      "cell_type": "markdown",
      "source": [
        "# Object Oriented Programming - OOP's\n",
        "\n",
        "* Class\n",
        "* Objects\n",
        "  * Methods\n",
        "  * Attributes\n",
        "* Encapsulation\n",
        "* Inheritance\n",
        "* Abstraction\n",
        "* Polymorphisam\n",
        "\n"
      ],
      "metadata": {
        "id": "nXWHwiQnjkRn"
      }
    },
    {
      "cell_type": "code",
      "source": [
        "class Student():  # This is called function.\n",
        "\n",
        "  def __init__(self, sid, sname):  # This is called Constructor Method under the function class.\n",
        "    self.id = sid\n",
        "    self.name = sname"
      ],
      "metadata": {
        "id": "dRuXR_rpnpZK"
      },
      "execution_count": 4,
      "outputs": []
    },
    {
      "cell_type": "code",
      "source": [
        "class Student():\n",
        "\n",
        "  def __init__(self, name, education): # Constructor Method.\n",
        "    self.name = name # Attribute\n",
        "    self.password = \"\" # Attribute\n",
        "    self.user_name = \"\"\n",
        "    self.login = False # Attribute\n",
        "    self.education = education # Attirbute\n",
        "    self.login = False # Attribute\n",
        "    self.country = \"\"\n"
      ],
      "metadata": {
        "id": "qWiD8uU0npTv"
      },
      "execution_count": 14,
      "outputs": []
    },
    {
      "cell_type": "code",
      "source": [
        "obj1 = Student(\"Ali\", \"MS\") # This is called Object-1\n",
        "obj2 = Student(\"Sajid\", \"MSDS\") # This is called Object-2\n",
        "\n",
        "\n",
        "print(obj1.name)\n",
        "print(obj1.education)\n",
        "\n",
        "print()\n",
        "\n",
        "print(obj2.name)\n",
        "print(obj2.education)\n",
        "print(obj2.country)"
      ],
      "metadata": {
        "colab": {
          "base_uri": "https://localhost:8080/"
        },
        "id": "17h7oot2npHu",
        "outputId": "57981d84-acfb-4628-c6ca-a8af30cf9c0b"
      },
      "execution_count": 15,
      "outputs": [
        {
          "output_type": "stream",
          "name": "stdout",
          "text": [
            "Ali\n",
            "MS\n",
            "\n",
            "Sajid\n",
            "MSDS\n",
            "\n"
          ]
        }
      ]
    },
    {
      "cell_type": "code",
      "source": [
        "class NedStudent(): # Remove self from attributes.\n",
        "\n",
        "  def __init__(self, name, education): # Constructor Method.\n",
        "    name = name # # Removed self. from Attribute\n",
        "    password = \"\" # Attribute\n",
        "    user_name = \"\"\n",
        "    login = False # Attribute\n",
        "    education = education # Attirbute\n",
        "    login = False # Attribute\n",
        "    country = \"\"\n"
      ],
      "metadata": {
        "id": "7eFXBTeCtVkj"
      },
      "execution_count": 16,
      "outputs": []
    },
    {
      "cell_type": "code",
      "source": [
        "obj1 = NedStudent(\"Ali\", \"MS\") # This is called Object-1\n",
        "obj2 = NedStudent(\"Sajid\", \"MSDS\") # This is called Object-2\n",
        "\n",
        "\n",
        "print(obj1.name)\n",
        "print(obj1.education)\n",
        "\n",
        "print()\n",
        "\n",
        "print(obj2.name)\n",
        "print(obj2.education)\n",
        "print(obj2.country)\n",
        "\n",
        "# This function is not calling becuase we removed the extra word self. from attributes."
      ],
      "metadata": {
        "colab": {
          "base_uri": "https://localhost:8080/",
          "height": 211
        },
        "id": "R0r8omiTtgVA",
        "outputId": "41525e16-e94d-4a01-f94e-d95faf5fb76e"
      },
      "execution_count": 19,
      "outputs": [
        {
          "output_type": "error",
          "ename": "AttributeError",
          "evalue": "'NedStudent' object has no attribute 'name'",
          "traceback": [
            "\u001b[0;31m---------------------------------------------------------------------------\u001b[0m",
            "\u001b[0;31mAttributeError\u001b[0m                            Traceback (most recent call last)",
            "\u001b[0;32m<ipython-input-19-cd8a68a66a2d>\u001b[0m in \u001b[0;36m<cell line: 0>\u001b[0;34m()\u001b[0m\n\u001b[1;32m      3\u001b[0m \u001b[0;34m\u001b[0m\u001b[0m\n\u001b[1;32m      4\u001b[0m \u001b[0;34m\u001b[0m\u001b[0m\n\u001b[0;32m----> 5\u001b[0;31m \u001b[0mprint\u001b[0m\u001b[0;34m(\u001b[0m\u001b[0mobj1\u001b[0m\u001b[0;34m.\u001b[0m\u001b[0mname\u001b[0m\u001b[0;34m)\u001b[0m\u001b[0;34m\u001b[0m\u001b[0;34m\u001b[0m\u001b[0m\n\u001b[0m\u001b[1;32m      6\u001b[0m \u001b[0mprint\u001b[0m\u001b[0;34m(\u001b[0m\u001b[0mobj1\u001b[0m\u001b[0;34m.\u001b[0m\u001b[0meducation\u001b[0m\u001b[0;34m)\u001b[0m\u001b[0;34m\u001b[0m\u001b[0;34m\u001b[0m\u001b[0m\n\u001b[1;32m      7\u001b[0m \u001b[0;34m\u001b[0m\u001b[0m\n",
            "\u001b[0;31mAttributeError\u001b[0m: 'NedStudent' object has no attribute 'name'"
          ]
        }
      ]
    },
    {
      "cell_type": "code",
      "source": [
        "class Student():\n",
        "\n",
        "  def __init__(self, name, education): # Constructor Method.\n",
        "    self.name = name # Attribute\n",
        "    self.password = \"\" # Attribute\n",
        "    self.user_name = \"\"\n",
        "    self.login = False # Attribute\n",
        "    self.education = education # Attirbute\n",
        "    self.login = False # Attribute\n",
        "    self.country = \"\"\n",
        "\n",
        "  def signup(self, user, password): # Method # 1\n",
        "    self.user_name = user\n",
        "    self.password = password\n",
        "    print(\"User Created\")\n",
        "\n",
        "  def loging(self, user, password): # Method # 2\n",
        "    if user == self.user_name and password == self.password:\n",
        "      self.login = True\n",
        "      print(\"Login Successfull\")\n",
        "    else:\n",
        "      print(\"Login Failed\")\n",
        "\n",
        "obj1 = Student(\"Ali\", \"MS\") # This is called Object-1\n"
      ],
      "metadata": {
        "id": "QFN3LXEauURa"
      },
      "execution_count": 38,
      "outputs": []
    },
    {
      "cell_type": "code",
      "source": [],
      "metadata": {
        "id": "-efrocXhwTyI"
      },
      "execution_count": null,
      "outputs": []
    },
    {
      "cell_type": "code",
      "execution_count": null,
      "metadata": {
        "id": "8gUE2XwYfrlZ"
      },
      "outputs": [],
      "source": [
        "import datetime"
      ]
    },
    {
      "cell_type": "code",
      "execution_count": null,
      "metadata": {
        "colab": {
          "base_uri": "https://localhost:8080/"
        },
        "id": "DeGo8FNef5xn",
        "outputId": "7e1e8df9-c2b7-453c-c021-10adbad7baff"
      },
      "outputs": [
        {
          "name": "stdout",
          "output_type": "stream",
          "text": [
            "2025-02-08 07:44:07.363435\n"
          ]
        }
      ],
      "source": [
        "print(datetime.datetime.now())"
      ]
    },
    {
      "cell_type": "code",
      "execution_count": null,
      "metadata": {
        "colab": {
          "base_uri": "https://localhost:8080/"
        },
        "id": "o7hSS2m3f-_a",
        "outputId": "ec2ca238-d556-4d0d-8541-7ded1b1cf898"
      },
      "outputs": [
        {
          "name": "stdout",
          "output_type": "stream",
          "text": [
            "<__main__.Person object at 0x7ba86a25de10>\n"
          ]
        }
      ],
      "source": [
        "class Person:\n",
        "    def __init__(self, name, age):\n",
        "        self.name = name\n",
        "        self.age = age\n",
        "print(Person(\"Sajid\", 42))"
      ]
    },
    {
      "cell_type": "code",
      "execution_count": null,
      "metadata": {
        "colab": {
          "base_uri": "https://localhost:8080/"
        },
        "id": "_mh4amZugVcM",
        "outputId": "f15477e2-10cc-4902-8545-aab6a436d07f"
      },
      "outputs": [
        {
          "name": "stdout",
          "output_type": "stream",
          "text": [
            "['__class__', '__delattr__', '__dir__', '__doc__', '__eq__', '__format__', '__ge__', '__getattribute__', '__getstate__', '__gt__', '__hash__', '__init__', '__init_subclass__', '__le__', '__lt__', '__ne__', '__new__', '__reduce__', '__reduce_ex__', '__repr__', '__setattr__', '__sizeof__', '__str__', '__subclasshook__']\n"
          ]
        }
      ],
      "source": [
        "list = dir(object)\n",
        "print(list)"
      ]
    },
    {
      "cell_type": "code",
      "execution_count": null,
      "metadata": {
        "id": "VHZoX7tBhGmj"
      },
      "outputs": [],
      "source": [
        "# prompt: simple code in class and object\n",
        "\n",
        "class Person:\n",
        "    def __init__(self, name, age):\n",
        "        self.name = name\n",
        "        self.age = age\n",
        "\n",
        "    def __str__(self):\n",
        "        return f\"Name: {self.name}, Age: {self.age}\"\n",
        "\n",
        "person = Person(\"Sajid\", 42)\n",
        "person\n"
      ]
    },
    {
      "cell_type": "markdown",
      "metadata": {
        "id": "daaf9eDXhda4"
      },
      "source": [
        "Assignment to call all the method of object by using the Generative AI"
      ]
    },
    {
      "cell_type": "code",
      "execution_count": null,
      "metadata": {
        "colab": {
          "base_uri": "https://localhost:8080/"
        },
        "id": "r2IjHBNAhdLx",
        "outputId": "34e86cb1-164d-4c32-f35a-60b185ed8030"
      },
      "outputs": [
        {
          "name": "stdout",
          "output_type": "stream",
          "text": [
            "1. __class__\n",
            "2. __delattr__\n",
            "3. __dir__\n",
            "4. __doc__\n",
            "5. __eq__\n",
            "6. __format__\n",
            "7. __ge__\n",
            "8. __getattribute__\n",
            "9. __getstate__\n",
            "10. __gt__\n",
            "11. __hash__\n",
            "12. __init__\n",
            "13. __init_subclass__\n",
            "14. __le__\n",
            "15. __lt__\n",
            "16. __ne__\n",
            "17. __new__\n",
            "18. __reduce__\n",
            "19. __reduce_ex__\n",
            "20. __repr__\n",
            "21. __setattr__\n",
            "22. __sizeof__\n",
            "23. __str__\n",
            "24. __subclasshook__\n"
          ]
        }
      ],
      "source": [
        "object1 = [method for method in dir(object) if not method.startswith('*')]\n",
        "for function, method in enumerate(object1):\n",
        "    print(f'{function+1}. {method}')"
      ]
    },
    {
      "cell_type": "markdown",
      "metadata": {
        "id": "ls0Lpf2riLKy"
      },
      "source": [
        "https://github.com/EnggQasim/NED-Batch10-python/blob/main/07-week-oop/oop1.ipynb\n",
        "\n",
        "\n",
        "Shared by Sir Qasim\n"
      ]
    },
    {
      "cell_type": "code",
      "execution_count": null,
      "metadata": {
        "id": "-7s7sCe5iyTr",
        "outputId": "b8514028-fc81-4d0d-fb20-02792b7a62d2"
      },
      "outputs": [
        {
          "ename": "NameError",
          "evalue": "name 'pd' is not defined",
          "output_type": "error",
          "traceback": [
            "\u001b[1;31m---------------------------------------------------------------------------\u001b[0m",
            "\u001b[1;31mNameError\u001b[0m                                 Traceback (most recent call last)",
            "Cell \u001b[1;32mIn[8], line 1\u001b[0m\n\u001b[1;32m----> 1\u001b[0m df \u001b[38;5;241m=\u001b[39m \u001b[43mpd\u001b[49m\u001b[38;5;241m.\u001b[39mread_csv(\u001b[38;5;124m\"\u001b[39m\u001b[38;5;124mTitanic-Dataset.csv\u001b[39m\u001b[38;5;124m\"\u001b[39m)\n\u001b[0;32m      2\u001b[0m display(df\u001b[38;5;241m.\u001b[39mshape)\n",
            "\u001b[1;31mNameError\u001b[0m: name 'pd' is not defined"
          ]
        }
      ],
      "source": [
        "df = pd.read_csv(\"Titanic-Dataset.csv\")\n",
        "display(df.shape)"
      ]
    },
    {
      "cell_type": "code",
      "execution_count": null,
      "metadata": {
        "id": "MOmLjLAQiyTs"
      },
      "outputs": [],
      "source": []
    }
  ],
  "metadata": {
    "colab": {
      "provenance": []
    },
    "kernelspec": {
      "display_name": "Python 3",
      "name": "python3"
    },
    "language_info": {
      "codemirror_mode": {
        "name": "ipython",
        "version": 3
      },
      "file_extension": ".py",
      "mimetype": "text/x-python",
      "name": "python",
      "nbconvert_exporter": "python",
      "pygments_lexer": "ipython3",
      "version": "3.13.1"
    }
  },
  "nbformat": 4,
  "nbformat_minor": 0
}