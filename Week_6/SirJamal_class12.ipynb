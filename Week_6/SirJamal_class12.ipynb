{
 "cells": [
  {
   "cell_type": "code",
   "execution_count": 3,
   "id": "40055dc0-e956-4862-987e-5a65e64daf3d",
   "metadata": {},
   "outputs": [
    {
     "name": "stdout",
     "output_type": "stream",
     "text": [
      "jamal apple 10\n",
      "hassan mango 31\n",
      "zain banana 54\n",
      "haris guava 78\n"
     ]
    }
   ],
   "source": [
    "# Zip  keyword\n",
    "\n",
    "names= [\"jamal\",\"hassan\",\"zain\",\"haris\"] #4\n",
    "fruits = [\"apple\",\"mango\",\"banana\",\"guava\"] #4\n",
    "numbers = [10,31,54,78,90] #5\n",
    "\n",
    "for i, j, k in zip(names,fruits,numbers):\n",
    "    print(i,j,k)"
   ]
  },
  {
   "cell_type": "code",
   "execution_count": 4,
   "id": "28a5b929-e591-4a8d-9d91-e39123a40ebb",
   "metadata": {},
   "outputs": [
    {
     "data": {
      "text/plain": [
       "'haris'"
      ]
     },
     "execution_count": 4,
     "metadata": {},
     "output_type": "execute_result"
    }
   ],
   "source": [
    "i"
   ]
  },
  {
   "cell_type": "markdown",
   "id": "74b17101-a460-4133-8735-6f404567b471",
   "metadata": {},
   "source": [
    "# File Handling "
   ]
  },
  {
   "cell_type": "code",
   "execution_count": 7,
   "id": "7b35f929-5982-450e-8221-68191a36b66f",
   "metadata": {},
   "outputs": [
    {
     "name": "stdout",
     "output_type": "stream",
     "text": [
      "US President Donald Trump on Saturday ordered sweeping tariffs on goods from Mexico, Canada and China, demanding they stanch the flow of fentanyl â€” and illegal immigrants in the case of Canada and Mexico â€” into the United States, kicking off a trade war that could dent global growth and reignite inflation.\n",
      "\n",
      "Mexico and Canada, the top two US trading partners, immediately vowed retaliatory tariffs, while China said it would challenge Trump's move at the World Trade Organisation and take other \"countermeasures.\"\n",
      "\n",
      "Canada, Mexico order retaliation against US tariffs as China to challenge Trump's move\n",
      "By ReutersFebruary 02, 2025\n",
      "The Port of Oakland is seen at 12.01pm EST as US President-elect Donald Trump is inaugurated for a second term, in Oakland, California, US, January 20, 2025. â€” Reuters\n",
      "The Port of Oakland is seen at 12.01pm EST as US President-elect Donald Trump is inaugurated for a second term, in Oakland, California, US, January 20, 2025. â€” Reuters\n",
      "US President Donald Trump on Saturday ordered sweeping tariffs on goods from Mexico, Canada and China, demanding they stanch the flow of fentanyl â€” and illegal immigrants in the case of Canada and Mexico â€” into the United States, kicking off a trade war that could dent global growth and reignite inflation.\n",
      "\n",
      "Mexico and Canada, the top two US trading partners, immediately vowed retaliatory tariffs, while China said it would challenge Trump's move at the World Trade Organisation and take other \"countermeasures.\"\n",
      "\n",
      "In three executive orders, Trump imposed 25% tariffs on Mexican and most Canadian imports and 10% on goods from China, starting on Tuesday.\n",
      "\n",
      "He vowed to keep the duties in place until what he described as a national emergency over fentanyl, a deadly opioid, and illegal immigration to the US ends. The White House provided no other parameters for determining what might satisfy Trump's demands.\n",
      "\n",
      "Responding to concerns raised by oil refiners and Midwestern states, Trump imposed only a 10% duty on energy products from Canada, with Mexican energy imports facing the full 25% tariff.\n",
      "\n",
      "A White House fact sheet said the tariffs would stay in place \"until the crisis alleviated,\" but gave no details on what the three countries would need to do to win a reprieve.\n"
     ]
    }
   ],
   "source": [
    "file = open(r\"C:\\Users\\najee\\Desktop\\pgd b10\\news.txt\",\"r\")\n",
    "# open(file_path, mode (r,w,a)  if you are pasting the whole path then you must add r string\n",
    "contents = file.read()\n",
    "file.close()\n",
    "print(contents)"
   ]
  },
  {
   "cell_type": "code",
   "execution_count": 10,
   "id": "faeeb05c-056f-4428-9508-256484cbcaf8",
   "metadata": {},
   "outputs": [],
   "source": [
    "file = open(r\"C:\\Users\\najee\\Desktop\\pgd b10\\news.txt\",\"a\") # a = append\n",
    "# data = '''\n",
    "# My name is Jamal\n",
    "# I work in the field of AI\n",
    "\n",
    "# '''\n",
    "file.write('''My name is Jamal\n",
    "I work in the field of AI''')\n",
    "file.close()"
   ]
  },
  {
   "cell_type": "code",
   "execution_count": 11,
   "id": "907018d4-460e-4661-afdb-9cdde69c7bd7",
   "metadata": {},
   "outputs": [],
   "source": [
    "# write : overwrites the exitsting content in the file\n",
    "# will create a new file if the file name does not exist\n",
    "\n",
    "write_mode = open(r\"C:\\Users\\najee\\Desktop\\pgd b10\\news.txt\",\"w\")\n",
    "write_mode.write('''At nearly $100 billion in 2023, imports of crude oil accounted for roughly a quarter of all US imports from Canada, according to US Census Bureau data.''')\n",
    "write_mode.close()"
   ]
  },
  {
   "cell_type": "code",
   "execution_count": 13,
   "id": "1242837f-08b4-4adc-aa6c-48375bad9099",
   "metadata": {},
   "outputs": [],
   "source": [
    "write_mode = open(\"news_2ndFEB2025.txt\",\"w\")\n",
    "write_mode.write('''Canada's Trudeau announces tariffs on US in retaliation\n",
    "Canada will retaliate against President Donald Trump's new tariffs by imposing 25% tariffs US goods from drinks to appliances, Prime Minister Justin Trudeau said on Saturday.''')\n",
    "write_mode.close()"
   ]
  },
  {
   "cell_type": "code",
   "execution_count": 16,
   "id": "ac57fa57-78c8-4637-8bba-7be4c64e9a11",
   "metadata": {},
   "outputs": [
    {
     "name": "stdout",
     "output_type": "stream",
     "text": [
      "b'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'\n"
     ]
    }
   ],
   "source": [
    "# converting image to base64\n",
    "\n",
    "import base64\n",
    "\n",
    "# Encode the image to a base64 string.\n",
    "with open(\"image1.jpg\", \"rb\") as img:\n",
    "    s = base64.b64encode(img.read())\n",
    "\n",
    "print(s)\n",
    "\n",
    "# Save the encoded string to a file.\n",
    "# with open('encode.bin', \"wb\") as f:\n",
    "#     f.write(s)"
   ]
  },
  {
   "cell_type": "code",
   "execution_count": 17,
   "id": "106af3be-e759-46f8-b875-80be94b38794",
   "metadata": {},
   "outputs": [],
   "source": [
    "import base64  # For decoding.\n",
    "\n",
    "f = open('encode.bin', 'rb')  # Open encoded file.\n",
    "byte = f.read()  # Read data.\n",
    "f.close()\n",
    "\n",
    "decode = open('stringtoimage.png', 'wb')  # Open image file to save.\n",
    "decode.write(base64.b64decode(byte))  # Decode and write data.\n",
    "decode.close()\n"
   ]
  },
  {
   "cell_type": "raw",
   "id": "b2ed148f-0b09-4892-bea6-9582fe3d934a",
   "metadata": {},
   "source": [
    "image -> base64 encode -> save in a file\n",
    "read base64 string from file -> decode into a image type -> save"
   ]
  },
  {
   "cell_type": "code",
   "execution_count": 18,
   "id": "fc11fda4-30ea-445b-b383-9a510ff20ec8",
   "metadata": {},
   "outputs": [],
   "source": [
    "# Pandas"
   ]
  },
  {
   "cell_type": "code",
   "execution_count": null,
   "id": "e4f2a1dc-0b2e-41de-b7f0-dabaf1601a31",
   "metadata": {},
   "outputs": [],
   "source": [
    "! pip uninstall pandas"
   ]
  },
  {
   "cell_type": "code",
   "execution_count": 19,
   "id": "a6e712b3-7a7b-49cb-860d-d8b5dec7b0de",
   "metadata": {},
   "outputs": [],
   "source": [
    "import pandas as pd\n",
    "# read file .xlsx (Excelfile) .csv\n",
    "data = pd.read_csv(r\"C:\\Users\\najee\\Desktop\\pgd b10\\pakwheels.csv\")"
   ]
  },
  {
   "cell_type": "code",
   "execution_count": 29,
   "id": "545a0263-b198-42eb-82be-05804d9e09b8",
   "metadata": {},
   "outputs": [
    {
     "data": {
      "text/html": [
       "<div>\n",
       "<style scoped>\n",
       "    .dataframe tbody tr th:only-of-type {\n",
       "        vertical-align: middle;\n",
       "    }\n",
       "\n",
       "    .dataframe tbody tr th {\n",
       "        vertical-align: top;\n",
       "    }\n",
       "\n",
       "    .dataframe thead th {\n",
       "        text-align: right;\n",
       "    }\n",
       "</style>\n",
       "<table border=\"1\" class=\"dataframe\">\n",
       "  <thead>\n",
       "    <tr style=\"text-align: right;\">\n",
       "      <th></th>\n",
       "      <th>Unnamed: 0</th>\n",
       "      <th>ad_url</th>\n",
       "      <th>title</th>\n",
       "      <th>location</th>\n",
       "      <th>model_year</th>\n",
       "      <th>price</th>\n",
       "      <th>mileage</th>\n",
       "      <th>engine_type</th>\n",
       "      <th>transmission</th>\n",
       "      <th>registered_in</th>\n",
       "      <th>color</th>\n",
       "      <th>assembly</th>\n",
       "      <th>engine_capacity</th>\n",
       "      <th>body_type</th>\n",
       "      <th>ad_last_updated</th>\n",
       "      <th>car_features</th>\n",
       "      <th>description</th>\n",
       "    </tr>\n",
       "  </thead>\n",
       "  <tbody>\n",
       "    <tr>\n",
       "      <th>0</th>\n",
       "      <td>0</td>\n",
       "      <td>https://www.pakwheels.com/used-cars/honda-civi...</td>\n",
       "      <td>Honda Civic VTi Oriel Prosmatec 1.8 i-VTEC 2007</td>\n",
       "      <td>Islamabad Islamabad</td>\n",
       "      <td>2007.0</td>\n",
       "      <td>PKR 16.5 lacs</td>\n",
       "      <td>100,000 km</td>\n",
       "      <td>Petrol</td>\n",
       "      <td>Automatic</td>\n",
       "      <td>Lahore</td>\n",
       "      <td>Grey</td>\n",
       "      <td>Imported Cars</td>\n",
       "      <td>1800 cc</td>\n",
       "      <td>Sedan</td>\n",
       "      <td>Oct 09, 2022</td>\n",
       "      <td>ABS\\nAM/FM Radio\\nAir Bags\\nAir Conditioning\\n...</td>\n",
       "      <td>2007 model full option Chat piller geniune or ...</td>\n",
       "    </tr>\n",
       "    <tr>\n",
       "      <th>1</th>\n",
       "      <td>1</td>\n",
       "      <td>https://www.pakwheels.com/used-cars/suzuki-meh...</td>\n",
       "      <td>Suzuki Mehran VX Euro II 2012</td>\n",
       "      <td>Eden Gardens, Faisalabad Punjab</td>\n",
       "      <td>2012.0</td>\n",
       "      <td>PKR 7 lacs</td>\n",
       "      <td>100,000 km</td>\n",
       "      <td>Petrol</td>\n",
       "      <td>Manual</td>\n",
       "      <td>Faisalabad</td>\n",
       "      <td>Grey</td>\n",
       "      <td>Imported Cars</td>\n",
       "      <td>800 cc</td>\n",
       "      <td>Hatchback</td>\n",
       "      <td>Oct 09, 2022</td>\n",
       "      <td>AM/FM Radio\\nCD Player\\nImmobilizer Key</td>\n",
       "      <td>Very smooth drive,70% in orignal paint rest of...</td>\n",
       "    </tr>\n",
       "    <tr>\n",
       "      <th>2</th>\n",
       "      <td>2</td>\n",
       "      <td>https://www.pakwheels.com/used-cars/honda-civi...</td>\n",
       "      <td>Honda Civic EX 1995</td>\n",
       "      <td>Bostan Road, Rawalpindi Punjab</td>\n",
       "      <td>1995.0</td>\n",
       "      <td>PKR 7.6 lacs</td>\n",
       "      <td>999 km</td>\n",
       "      <td>Petrol</td>\n",
       "      <td>Manual</td>\n",
       "      <td>Lahore</td>\n",
       "      <td>Black</td>\n",
       "      <td>Imported Cars</td>\n",
       "      <td>1500 cc</td>\n",
       "      <td>Sedan</td>\n",
       "      <td>Oct 09, 2022</td>\n",
       "      <td>AM/FM Radio\\nAir Conditioning\\nAlloy Rims\\nCas...</td>\n",
       "      <td>1600cc Engine installed Alloy RimsAir Conditio...</td>\n",
       "    </tr>\n",
       "    <tr>\n",
       "      <th>3</th>\n",
       "      <td>3</td>\n",
       "      <td>https://www.pakwheels.com/used-cars/toyota-for...</td>\n",
       "      <td>Toyota Fortuner 2.7 VVTi 2013</td>\n",
       "      <td>Kallar Kahar Road, Chakwal Punjab</td>\n",
       "      <td>2013.0</td>\n",
       "      <td>PKR 70 lacs</td>\n",
       "      <td>94,000 km</td>\n",
       "      <td>Petrol</td>\n",
       "      <td>Automatic</td>\n",
       "      <td>Lahore</td>\n",
       "      <td>Black</td>\n",
       "      <td>Imported Cars</td>\n",
       "      <td>2700 cc</td>\n",
       "      <td>SUV</td>\n",
       "      <td>Oct 09, 2022</td>\n",
       "      <td>ABS\\nAM/FM Radio\\nAir Bags\\nAir Conditioning\\n...</td>\n",
       "      <td>Inside out fully original. Original return fil...</td>\n",
       "    </tr>\n",
       "    <tr>\n",
       "      <th>4</th>\n",
       "      <td>4</td>\n",
       "      <td>https://www.pakwheels.com/used-cars/suzuki-meh...</td>\n",
       "      <td>Suzuki Mehran VX Euro II 2015</td>\n",
       "      <td>Muzaffar Gargh Punjab</td>\n",
       "      <td>2015.0</td>\n",
       "      <td>PKR 8 lacs</td>\n",
       "      <td>86,000 km</td>\n",
       "      <td>Petrol</td>\n",
       "      <td>Manual</td>\n",
       "      <td>Multan</td>\n",
       "      <td>Grey</td>\n",
       "      <td>Imported Cars</td>\n",
       "      <td>796 cc</td>\n",
       "      <td>Hatchback</td>\n",
       "      <td>Oct 09, 2022</td>\n",
       "      <td>AM/FM Radio\\nCD Player\\nImmobilizer Key</td>\n",
       "      <td>gari total genion hy.chill a.c.new tires.no wo...</td>\n",
       "    </tr>\n",
       "  </tbody>\n",
       "</table>\n",
       "</div>"
      ],
      "text/plain": [
       "   Unnamed: 0                                             ad_url  \\\n",
       "0           0  https://www.pakwheels.com/used-cars/honda-civi...   \n",
       "1           1  https://www.pakwheels.com/used-cars/suzuki-meh...   \n",
       "2           2  https://www.pakwheels.com/used-cars/honda-civi...   \n",
       "3           3  https://www.pakwheels.com/used-cars/toyota-for...   \n",
       "4           4  https://www.pakwheels.com/used-cars/suzuki-meh...   \n",
       "\n",
       "                                             title  \\\n",
       "0  Honda Civic VTi Oriel Prosmatec 1.8 i-VTEC 2007   \n",
       "1                    Suzuki Mehran VX Euro II 2012   \n",
       "2                              Honda Civic EX 1995   \n",
       "3                    Toyota Fortuner 2.7 VVTi 2013   \n",
       "4                    Suzuki Mehran VX Euro II 2015   \n",
       "\n",
       "                             location  model_year          price     mileage  \\\n",
       "0                 Islamabad Islamabad      2007.0  PKR 16.5 lacs  100,000 km   \n",
       "1     Eden Gardens, Faisalabad Punjab      2012.0     PKR 7 lacs  100,000 km   \n",
       "2      Bostan Road, Rawalpindi Punjab      1995.0   PKR 7.6 lacs      999 km   \n",
       "3   Kallar Kahar Road, Chakwal Punjab      2013.0    PKR 70 lacs   94,000 km   \n",
       "4               Muzaffar Gargh Punjab      2015.0     PKR 8 lacs   86,000 km   \n",
       "\n",
       "  engine_type transmission registered_in  color       assembly  \\\n",
       "0      Petrol    Automatic        Lahore   Grey  Imported Cars   \n",
       "1      Petrol       Manual    Faisalabad   Grey  Imported Cars   \n",
       "2      Petrol       Manual        Lahore  Black  Imported Cars   \n",
       "3      Petrol    Automatic        Lahore  Black  Imported Cars   \n",
       "4      Petrol       Manual        Multan   Grey  Imported Cars   \n",
       "\n",
       "  engine_capacity  body_type ad_last_updated  \\\n",
       "0         1800 cc      Sedan    Oct 09, 2022   \n",
       "1          800 cc  Hatchback    Oct 09, 2022   \n",
       "2         1500 cc      Sedan    Oct 09, 2022   \n",
       "3         2700 cc        SUV    Oct 09, 2022   \n",
       "4          796 cc  Hatchback    Oct 09, 2022   \n",
       "\n",
       "                                        car_features  \\\n",
       "0  ABS\\nAM/FM Radio\\nAir Bags\\nAir Conditioning\\n...   \n",
       "1            AM/FM Radio\\nCD Player\\nImmobilizer Key   \n",
       "2  AM/FM Radio\\nAir Conditioning\\nAlloy Rims\\nCas...   \n",
       "3  ABS\\nAM/FM Radio\\nAir Bags\\nAir Conditioning\\n...   \n",
       "4            AM/FM Radio\\nCD Player\\nImmobilizer Key   \n",
       "\n",
       "                                         description  \n",
       "0  2007 model full option Chat piller geniune or ...  \n",
       "1  Very smooth drive,70% in orignal paint rest of...  \n",
       "2  1600cc Engine installed Alloy RimsAir Conditio...  \n",
       "3  Inside out fully original. Original return fil...  \n",
       "4  gari total genion hy.chill a.c.new tires.no wo...  "
      ]
     },
     "metadata": {},
     "output_type": "display_data"
    }
   ],
   "source": [
    "# to view the data\n",
    "display(data.head()) # returns first five rows of the data"
   ]
  },
  {
   "cell_type": "code",
   "execution_count": 25,
   "id": "6e2676ab-9f25-4af4-a541-d7efc8525000",
   "metadata": {},
   "outputs": [
    {
     "data": {
      "text/plain": [
       "(89956, 17)"
      ]
     },
     "execution_count": 25,
     "metadata": {},
     "output_type": "execute_result"
    }
   ],
   "source": [
    "data.shape"
   ]
  },
  {
   "cell_type": "code",
   "execution_count": 26,
   "id": "01e34fa1-10c1-4546-a3fd-4e6ae5a98187",
   "metadata": {},
   "outputs": [
    {
     "name": "stdout",
     "output_type": "stream",
     "text": [
      "<class 'pandas.core.frame.DataFrame'>\n",
      "RangeIndex: 89956 entries, 0 to 89955\n",
      "Data columns (total 17 columns):\n",
      " #   Column           Non-Null Count  Dtype  \n",
      "---  ------           --------------  -----  \n",
      " 0   Unnamed: 0       89956 non-null  int64  \n",
      " 1   ad_url           89956 non-null  object \n",
      " 2   title            89956 non-null  object \n",
      " 3   location         89954 non-null  object \n",
      " 4   model_year       87449 non-null  float64\n",
      " 5   price            89954 non-null  object \n",
      " 6   mileage          89954 non-null  object \n",
      " 7   engine_type      89001 non-null  object \n",
      " 8   transmission     89954 non-null  object \n",
      " 9   registered_in    89954 non-null  object \n",
      " 10  color            88093 non-null  object \n",
      " 11  assembly         89956 non-null  object \n",
      " 12  engine_capacity  89954 non-null  object \n",
      " 13  body_type        81407 non-null  object \n",
      " 14  ad_last_updated  89954 non-null  object \n",
      " 15  car_features     83435 non-null  object \n",
      " 16  description      89954 non-null  object \n",
      "dtypes: float64(1), int64(1), object(15)\n",
      "memory usage: 11.7+ MB\n"
     ]
    }
   ],
   "source": [
    "data.info()"
   ]
  },
  {
   "cell_type": "code",
   "execution_count": 27,
   "id": "dd573742-52f5-49d6-80ab-729bc1434447",
   "metadata": {},
   "outputs": [
    {
     "data": {
      "text/plain": [
       "pandas.core.frame.DataFrame"
      ]
     },
     "execution_count": 27,
     "metadata": {},
     "output_type": "execute_result"
    }
   ],
   "source": [
    "type(data)"
   ]
  },
  {
   "cell_type": "code",
   "execution_count": 40,
   "id": "5cf67919-9604-4387-b369-07c2ce2745d9",
   "metadata": {},
   "outputs": [
    {
     "data": {
      "text/plain": [
       "Unnamed: 0            0\n",
       "ad_url                0\n",
       "title                 0\n",
       "location              2\n",
       "model_year            0\n",
       "price                 2\n",
       "mileage               2\n",
       "engine_type         955\n",
       "transmission          2\n",
       "registered_in         2\n",
       "color              1863\n",
       "assembly              0\n",
       "engine_capacity       2\n",
       "body_type          8549\n",
       "ad_last_updated       2\n",
       "car_features       6521\n",
       "description           2\n",
       "dtype: int64"
      ]
     },
     "execution_count": 40,
     "metadata": {},
     "output_type": "execute_result"
    }
   ],
   "source": [
    "data.isnull().sum() # check null values in the data"
   ]
  },
  {
   "cell_type": "code",
   "execution_count": 44,
   "id": "c2f7a59a-4e96-4730-af8b-35cc64b89522",
   "metadata": {},
   "outputs": [
    {
     "name": "stdout",
     "output_type": "stream",
     "text": [
      "['Sedan' 'Hatchback' 'SUV' 'Mini Van' 'MPV' nan 'Double Cabin'\n",
      " 'Compact sedan' 'Pick Up' 'Van' 'Micro Van' 'High Roof' 'Compact SUV'\n",
      " 'Station Wagon' 'Crossover' 'Coupe' 'Subcompact hatchback' 'Convertible'\n",
      " 'Truck' 'Off-Road Vehicles' 'Single Cabin' 'Mini Vehicles'\n",
      " 'Compact hatchback']\n",
      "['Sedan' 'Hatchback' 'SUV' 'Mini Van' 'MPV' nan 'Double__Cabin'\n",
      " 'Compact sedan' 'Pick Up' 'Van' 'Micro Van' 'High Roof' 'Compact SUV'\n",
      " 'Station Wagon' 'Crossover' 'Coupe' 'Subcompact hatchback' 'Convertible'\n",
      " 'Truck' 'Off-Road Vehicles' 'Single Cabin' 'Mini Vehicles'\n",
      " 'Compact hatchback']\n"
     ]
    }
   ],
   "source": [
    "print(data[\"body_type\"].unique())\n",
    "data[\"body_type\"] = data[\"body_type\"].str.replace('Double Cabin','Double__Cabin')\n",
    "print(data[\"body_type\"].unique())"
   ]
  },
  {
   "cell_type": "code",
   "execution_count": 39,
   "id": "5a137188-7ee2-41bf-8b30-3a04889d1765",
   "metadata": {},
   "outputs": [
    {
     "name": "stderr",
     "output_type": "stream",
     "text": [
      "C:\\Users\\najee\\AppData\\Local\\Temp\\ipykernel_24880\\3550201434.py:1: FutureWarning: A value is trying to be set on a copy of a DataFrame or Series through chained assignment using an inplace method.\n",
      "The behavior will change in pandas 3.0. This inplace method will never work because the intermediate object on which we are setting values always behaves as a copy.\n",
      "\n",
      "For example, when doing 'df[col].method(value, inplace=True)', try using 'df.method({col: value}, inplace=True)' or df[col] = df[col].method(value) instead, to perform the operation inplace on the original object.\n",
      "\n",
      "\n",
      "  data[\"model_year\"].fillna(2000,inplace = True)\n"
     ]
    }
   ],
   "source": [
    "data[\"model_year\"].fillna(2000,inplace = True)\n",
    "mdy = list(data[\"model_year\"].values)\n",
    "mdy"
   ]
  },
  {
   "cell_type": "code",
   "execution_count": 49,
   "id": "b473a81a-98b7-4610-8d73-4a10b6d24e61",
   "metadata": {},
   "outputs": [
    {
     "data": {
      "text/plain": [
       "'https://www.pakwheels.com/used-cars/suzuki-margalla-1993-for-sale-in-islamabad-6722572'"
      ]
     },
     "execution_count": 49,
     "metadata": {},
     "output_type": "execute_result"
    }
   ],
   "source": [
    "data[\"ad_url\"].iloc[1010] # integer location, access values using indexing"
   ]
  },
  {
   "cell_type": "code",
   "execution_count": 33,
   "id": "3d01042e-29fe-4efa-83bf-1e1e05a00aa1",
   "metadata": {},
   "outputs": [
    {
     "data": {
      "text/html": [
       "<div>\n",
       "<style scoped>\n",
       "    .dataframe tbody tr th:only-of-type {\n",
       "        vertical-align: middle;\n",
       "    }\n",
       "\n",
       "    .dataframe tbody tr th {\n",
       "        vertical-align: top;\n",
       "    }\n",
       "\n",
       "    .dataframe thead th {\n",
       "        text-align: right;\n",
       "    }\n",
       "</style>\n",
       "<table border=\"1\" class=\"dataframe\">\n",
       "  <thead>\n",
       "    <tr style=\"text-align: right;\">\n",
       "      <th></th>\n",
       "      <th>Unnamed: 0</th>\n",
       "      <th>model_year</th>\n",
       "    </tr>\n",
       "  </thead>\n",
       "  <tbody>\n",
       "    <tr>\n",
       "      <th>count</th>\n",
       "      <td>89956.000000</td>\n",
       "      <td>87449.000000</td>\n",
       "    </tr>\n",
       "    <tr>\n",
       "      <th>mean</th>\n",
       "      <td>44977.500000</td>\n",
       "      <td>2012.861576</td>\n",
       "    </tr>\n",
       "    <tr>\n",
       "      <th>std</th>\n",
       "      <td>25968.204745</td>\n",
       "      <td>7.669485</td>\n",
       "    </tr>\n",
       "    <tr>\n",
       "      <th>min</th>\n",
       "      <td>0.000000</td>\n",
       "      <td>1990.000000</td>\n",
       "    </tr>\n",
       "    <tr>\n",
       "      <th>25%</th>\n",
       "      <td>22488.750000</td>\n",
       "      <td>2007.000000</td>\n",
       "    </tr>\n",
       "    <tr>\n",
       "      <th>50%</th>\n",
       "      <td>44977.500000</td>\n",
       "      <td>2015.000000</td>\n",
       "    </tr>\n",
       "    <tr>\n",
       "      <th>75%</th>\n",
       "      <td>67466.250000</td>\n",
       "      <td>2019.000000</td>\n",
       "    </tr>\n",
       "    <tr>\n",
       "      <th>max</th>\n",
       "      <td>89955.000000</td>\n",
       "      <td>2022.000000</td>\n",
       "    </tr>\n",
       "  </tbody>\n",
       "</table>\n",
       "</div>"
      ],
      "text/plain": [
       "         Unnamed: 0    model_year\n",
       "count  89956.000000  87449.000000\n",
       "mean   44977.500000   2012.861576\n",
       "std    25968.204745      7.669485\n",
       "min        0.000000   1990.000000\n",
       "25%    22488.750000   2007.000000\n",
       "50%    44977.500000   2015.000000\n",
       "75%    67466.250000   2019.000000\n",
       "max    89955.000000   2022.000000"
      ]
     },
     "execution_count": 33,
     "metadata": {},
     "output_type": "execute_result"
    }
   ],
   "source": [
    "data.describe()"
   ]
  },
  {
   "cell_type": "code",
   "execution_count": 52,
   "id": "2fad6306-44f7-4072-97a3-33364ab2324a",
   "metadata": {},
   "outputs": [
    {
     "data": {
      "text/plain": [
       "Index(['Unnamed: 0', 'ad_url', 'title', 'location', 'model_year', 'price',\n",
       "       'mileage', 'engine_type', 'transmission', 'registered_in', 'color',\n",
       "       'assembly', 'engine_capacity', 'body_type', 'ad_last_updated',\n",
       "       'car_features', 'description'],\n",
       "      dtype='object')"
      ]
     },
     "execution_count": 52,
     "metadata": {},
     "output_type": "execute_result"
    }
   ],
   "source": [
    "data.columns"
   ]
  },
  {
   "cell_type": "code",
   "execution_count": 57,
   "id": "9d50076d-78b7-48e0-9749-08dbc9bfed60",
   "metadata": {},
   "outputs": [],
   "source": [
    "car_types = data[['engine_type', 'transmission', 'registered_in', 'color','model_year','body_type']]\n",
    "# filter the data"
   ]
  },
  {
   "cell_type": "code",
   "execution_count": 58,
   "id": "0dd3d58c-f084-41eb-9cfa-52c5b823f7bb",
   "metadata": {},
   "outputs": [
    {
     "name": "stdout",
     "output_type": "stream",
     "text": [
      "<class 'pandas.core.frame.DataFrame'>\n",
      "RangeIndex: 89956 entries, 0 to 89955\n",
      "Data columns (total 6 columns):\n",
      " #   Column         Non-Null Count  Dtype  \n",
      "---  ------         --------------  -----  \n",
      " 0   engine_type    89001 non-null  object \n",
      " 1   transmission   89954 non-null  object \n",
      " 2   registered_in  89954 non-null  object \n",
      " 3   color          88093 non-null  object \n",
      " 4   model_year     89956 non-null  float64\n",
      " 5   body_type      81407 non-null  object \n",
      "dtypes: float64(1), object(5)\n",
      "memory usage: 4.1+ MB\n"
     ]
    }
   ],
   "source": [
    "car_types.info()"
   ]
  },
  {
   "cell_type": "code",
   "execution_count": 60,
   "id": "7eb482c4-560f-4967-ad5e-bf626edfacfc",
   "metadata": {},
   "outputs": [],
   "source": [
    "car_types.to_excel(\"newexcel_2.xlsx\", index=False)"
   ]
  },
  {
   "cell_type": "code",
   "execution_count": null,
   "id": "a010519c-41c5-4ed0-92d8-3375e5f71dd2",
   "metadata": {},
   "outputs": [],
   "source": [
    "import pandas as pd # write in every new file"
   ]
  },
  {
   "cell_type": "code",
   "execution_count": null,
   "id": "23d290f9-cdfb-4338-8710-0d39e870c6c2",
   "metadata": {},
   "outputs": [],
   "source": [
    "! pip install pandas # one time only"
   ]
  },
  {
   "cell_type": "code",
   "execution_count": 61,
   "id": "af0ef981-4ae6-4bdd-bd5e-1b5d6baee734",
   "metadata": {},
   "outputs": [
    {
     "data": {
      "text/plain": [
       "Index(['Unnamed: 0', 'ad_url', 'title', 'location', 'model_year', 'price',\n",
       "       'mileage', 'engine_type', 'transmission', 'registered_in', 'color',\n",
       "       'assembly', 'engine_capacity', 'body_type', 'ad_last_updated',\n",
       "       'car_features', 'description'],\n",
       "      dtype='object')"
      ]
     },
     "execution_count": 61,
     "metadata": {},
     "output_type": "execute_result"
    }
   ],
   "source": [
    "data.columns"
   ]
  },
  {
   "cell_type": "code",
   "execution_count": 63,
   "id": "123262b4-20ca-4464-b778-b423978a9b9d",
   "metadata": {},
   "outputs": [
    {
     "data": {
      "text/plain": [
       "array(['Petrol', 'Diesel', 'Hybrid', nan], dtype=object)"
      ]
     },
     "execution_count": 63,
     "metadata": {},
     "output_type": "execute_result"
    }
   ],
   "source": [
    "data[\"engine_type\"].unique()"
   ]
  },
  {
   "cell_type": "code",
   "execution_count": 66,
   "id": "d142d9ef-f4fe-4d6c-abd5-2c1cd70d95d1",
   "metadata": {},
   "outputs": [
    {
     "data": {
      "text/html": [
       "<div>\n",
       "<style scoped>\n",
       "    .dataframe tbody tr th:only-of-type {\n",
       "        vertical-align: middle;\n",
       "    }\n",
       "\n",
       "    .dataframe tbody tr th {\n",
       "        vertical-align: top;\n",
       "    }\n",
       "\n",
       "    .dataframe thead th {\n",
       "        text-align: right;\n",
       "    }\n",
       "</style>\n",
       "<table border=\"1\" class=\"dataframe\">\n",
       "  <thead>\n",
       "    <tr style=\"text-align: right;\">\n",
       "      <th></th>\n",
       "      <th>Unnamed: 0</th>\n",
       "      <th>ad_url</th>\n",
       "      <th>title</th>\n",
       "      <th>location</th>\n",
       "      <th>model_year</th>\n",
       "      <th>price</th>\n",
       "      <th>mileage</th>\n",
       "      <th>engine_type</th>\n",
       "      <th>transmission</th>\n",
       "      <th>registered_in</th>\n",
       "      <th>color</th>\n",
       "      <th>assembly</th>\n",
       "      <th>engine_capacity</th>\n",
       "      <th>body_type</th>\n",
       "      <th>ad_last_updated</th>\n",
       "      <th>car_features</th>\n",
       "      <th>description</th>\n",
       "    </tr>\n",
       "  </thead>\n",
       "  <tbody>\n",
       "    <tr>\n",
       "      <th>13</th>\n",
       "      <td>13</td>\n",
       "      <td>https://www.pakwheels.com/used-cars/alfa-romeo...</td>\n",
       "      <td>Alfa Romeo Other 2014</td>\n",
       "      <td>Kohat Road, Peshawar KPK</td>\n",
       "      <td>2014.0</td>\n",
       "      <td>PKR 15.5 lacs</td>\n",
       "      <td>89,285 km</td>\n",
       "      <td>Petrol</td>\n",
       "      <td>Automatic</td>\n",
       "      <td>Lahore</td>\n",
       "      <td>White</td>\n",
       "      <td>Imported</td>\n",
       "      <td>660 cc</td>\n",
       "      <td>NaN</td>\n",
       "      <td>Oct 09, 2022</td>\n",
       "      <td>ABS\\nAM/FM Radio\\nAir Bags\\nAir Conditioning\\n...</td>\n",
       "      <td>After Market Alloy rims. All original document...</td>\n",
       "    </tr>\n",
       "    <tr>\n",
       "      <th>29</th>\n",
       "      <td>29</td>\n",
       "      <td>https://www.pakwheels.com/used-cars/toyota-aqu...</td>\n",
       "      <td>Toyota Aqua G 2014</td>\n",
       "      <td>DHA Defence, Karachi Sindh</td>\n",
       "      <td>2014.0</td>\n",
       "      <td>PKR 33 lacs</td>\n",
       "      <td>149,252 km</td>\n",
       "      <td>Hybrid</td>\n",
       "      <td>Automatic</td>\n",
       "      <td>Karachi</td>\n",
       "      <td>White</td>\n",
       "      <td>Imported</td>\n",
       "      <td>1500 cc</td>\n",
       "      <td>Hatchback</td>\n",
       "      <td>Oct 09, 2022</td>\n",
       "      <td>ABS\\nAM/FM Radio\\nAir Bags\\nAir Conditioning\\n...</td>\n",
       "      <td>Toyota Aqua G pearl white *Top of the Line*Mod...</td>\n",
       "    </tr>\n",
       "    <tr>\n",
       "      <th>78</th>\n",
       "      <td>78</td>\n",
       "      <td>https://www.pakwheels.com/used-cars/honda-city...</td>\n",
       "      <td>Honda City 1.3 i-VTEC 2014</td>\n",
       "      <td>BOR Housing Society, Lahore Punjab</td>\n",
       "      <td>2014.0</td>\n",
       "      <td>PKR 24.5 lacs</td>\n",
       "      <td>100,000 km</td>\n",
       "      <td>Petrol</td>\n",
       "      <td>Manual</td>\n",
       "      <td>Lahore</td>\n",
       "      <td>White</td>\n",
       "      <td>Imported Cars</td>\n",
       "      <td>1300 cc</td>\n",
       "      <td>Sedan</td>\n",
       "      <td>Oct 09, 2022</td>\n",
       "      <td>ABS\\nAM/FM Radio\\nAir Conditioning\\nCD Player\\...</td>\n",
       "      <td>Honda city M/TModel 2014Registered 2014Sides m...</td>\n",
       "    </tr>\n",
       "    <tr>\n",
       "      <th>105</th>\n",
       "      <td>105</td>\n",
       "      <td>https://www.pakwheels.com/used-cars/toyota-cor...</td>\n",
       "      <td>Toyota Corolla XLi VVTi 2014</td>\n",
       "      <td>Kamoke Punjab</td>\n",
       "      <td>2014.0</td>\n",
       "      <td>PKR 21.5 lacs</td>\n",
       "      <td>107,000 km</td>\n",
       "      <td>Petrol</td>\n",
       "      <td>Manual</td>\n",
       "      <td>Lahore</td>\n",
       "      <td>White</td>\n",
       "      <td>Imported Cars</td>\n",
       "      <td>1300 cc</td>\n",
       "      <td>Sedan</td>\n",
       "      <td>Oct 09, 2022</td>\n",
       "      <td>AM/FM Radio\\nAir Conditioning\\nImmobilizer Key...</td>\n",
       "      <td>100% original. Fitted with new tires. Totally ...</td>\n",
       "    </tr>\n",
       "    <tr>\n",
       "      <th>134</th>\n",
       "      <td>134</td>\n",
       "      <td>https://www.pakwheels.com/used-cars/honda-city...</td>\n",
       "      <td>Honda City 1.3 i-VTEC 2014</td>\n",
       "      <td>Lahore Punjab</td>\n",
       "      <td>2014.0</td>\n",
       "      <td>PKR 22.5 lacs</td>\n",
       "      <td>200,000 km</td>\n",
       "      <td>Petrol</td>\n",
       "      <td>Manual</td>\n",
       "      <td>Lahore</td>\n",
       "      <td>Grey</td>\n",
       "      <td>Imported Cars</td>\n",
       "      <td>1300 cc</td>\n",
       "      <td>Sedan</td>\n",
       "      <td>Oct 09, 2022</td>\n",
       "      <td>ABS\\nAM/FM Radio\\nAir Conditioning\\nCD Player\\...</td>\n",
       "      <td>All original documents are complete\\n.\\nMentio...</td>\n",
       "    </tr>\n",
       "    <tr>\n",
       "      <th>...</th>\n",
       "      <td>...</td>\n",
       "      <td>...</td>\n",
       "      <td>...</td>\n",
       "      <td>...</td>\n",
       "      <td>...</td>\n",
       "      <td>...</td>\n",
       "      <td>...</td>\n",
       "      <td>...</td>\n",
       "      <td>...</td>\n",
       "      <td>...</td>\n",
       "      <td>...</td>\n",
       "      <td>...</td>\n",
       "      <td>...</td>\n",
       "      <td>...</td>\n",
       "      <td>...</td>\n",
       "      <td>...</td>\n",
       "      <td>...</td>\n",
       "    </tr>\n",
       "    <tr>\n",
       "      <th>89759</th>\n",
       "      <td>89759</td>\n",
       "      <td>https://www.pakwheels.com/used-cars/suzuki-cul...</td>\n",
       "      <td>Suzuki Cultus EURO II 2014</td>\n",
       "      <td>Chak 11P East, Rahim Yar Khan Punjab</td>\n",
       "      <td>2014.0</td>\n",
       "      <td>PKR 11.4 lacs</td>\n",
       "      <td>91,000 km</td>\n",
       "      <td>Petrol</td>\n",
       "      <td>Manual</td>\n",
       "      <td>Karachi</td>\n",
       "      <td>NaN</td>\n",
       "      <td>Imported Cars</td>\n",
       "      <td>1000 cc</td>\n",
       "      <td>Hatchback</td>\n",
       "      <td>Aug 30, 2022</td>\n",
       "      <td>AM/FM Radio\\nAir Conditioning\\nCD Player\\nDVD ...</td>\n",
       "      <td>good condition car.\\rurgent sale After Market ...</td>\n",
       "    </tr>\n",
       "    <tr>\n",
       "      <th>89840</th>\n",
       "      <td>89840</td>\n",
       "      <td>https://www.pakwheels.com/used-cars/suzuki-alt...</td>\n",
       "      <td>Suzuki Alto ECO-S 2014</td>\n",
       "      <td>Shalley Valley, Rawalpindi Punjab</td>\n",
       "      <td>2014.0</td>\n",
       "      <td>PKR 17.75 lacs</td>\n",
       "      <td>127,000 km</td>\n",
       "      <td>Petrol</td>\n",
       "      <td>Automatic</td>\n",
       "      <td>Rawalpindi</td>\n",
       "      <td>White</td>\n",
       "      <td>Imported</td>\n",
       "      <td>660 cc</td>\n",
       "      <td>Hatchback</td>\n",
       "      <td>Aug 30, 2022</td>\n",
       "      <td>ABS\\nAM/FM Radio\\nAir Bags\\nAir Conditioning\\n...</td>\n",
       "      <td>Neat and clean .No work .just by and drive.\\nM...</td>\n",
       "    </tr>\n",
       "    <tr>\n",
       "      <th>89843</th>\n",
       "      <td>89843</td>\n",
       "      <td>https://www.pakwheels.com/used-cars/honda-veze...</td>\n",
       "      <td>Honda Vezel Hybrid X 2014</td>\n",
       "      <td>Allama Iqbal Intl Airport, Lahore Punjab</td>\n",
       "      <td>2014.0</td>\n",
       "      <td>PKR 44.75 lacs</td>\n",
       "      <td>50,000 km</td>\n",
       "      <td>Hybrid</td>\n",
       "      <td>Automatic</td>\n",
       "      <td>Lahore</td>\n",
       "      <td>Black</td>\n",
       "      <td>Imported</td>\n",
       "      <td>1500 cc</td>\n",
       "      <td>Crossover</td>\n",
       "      <td>Aug 30, 2022</td>\n",
       "      <td>ABS\\nAM/FM Radio\\nAir Bags\\nAir Conditioning\\n...</td>\n",
       "      <td>Model 2014\\rImport 2017\\rRegistered 2018 Lahor...</td>\n",
       "    </tr>\n",
       "    <tr>\n",
       "      <th>89886</th>\n",
       "      <td>89886</td>\n",
       "      <td>https://www.pakwheels.com/used-cars/honda-veze...</td>\n",
       "      <td>Honda Vezel Hybrid Z Style Edition 2014</td>\n",
       "      <td>Bahadurabad, Karachi Sindh</td>\n",
       "      <td>2014.0</td>\n",
       "      <td>PKR 42.75 lacs</td>\n",
       "      <td>82,500 km</td>\n",
       "      <td>Petrol</td>\n",
       "      <td>Automatic</td>\n",
       "      <td>Karachi</td>\n",
       "      <td>White</td>\n",
       "      <td>Imported</td>\n",
       "      <td>1500 cc</td>\n",
       "      <td>Crossover</td>\n",
       "      <td>Aug 31, 2022</td>\n",
       "      <td>ABS\\nAM/FM Radio\\nAir Bags\\nAir Conditioning\\n...</td>\n",
       "      <td>Door sills gold emblems modula body kit includ...</td>\n",
       "    </tr>\n",
       "    <tr>\n",
       "      <th>89900</th>\n",
       "      <td>89900</td>\n",
       "      <td>https://www.pakwheels.com/used-cars/daihatsu-m...</td>\n",
       "      <td>Daihatsu Move Custom X 2014</td>\n",
       "      <td>Askari 12, Rawalpindi Punjab</td>\n",
       "      <td>2014.0</td>\n",
       "      <td>PKR 19.5 lacs</td>\n",
       "      <td>65,000 km</td>\n",
       "      <td>Petrol</td>\n",
       "      <td>Automatic</td>\n",
       "      <td>Islamabad</td>\n",
       "      <td>Black</td>\n",
       "      <td>Imported</td>\n",
       "      <td>660 cc</td>\n",
       "      <td>Hatchback</td>\n",
       "      <td>Aug 31, 2022</td>\n",
       "      <td>ABS\\nAM/FM Radio\\nAir Bags\\nAir Conditioning\\n...</td>\n",
       "      <td>Move X 2014 model 2018 importIslamabad number ...</td>\n",
       "    </tr>\n",
       "  </tbody>\n",
       "</table>\n",
       "<p>3682 rows × 17 columns</p>\n",
       "</div>"
      ],
      "text/plain": [
       "       Unnamed: 0                                             ad_url  \\\n",
       "13             13  https://www.pakwheels.com/used-cars/alfa-romeo...   \n",
       "29             29  https://www.pakwheels.com/used-cars/toyota-aqu...   \n",
       "78             78  https://www.pakwheels.com/used-cars/honda-city...   \n",
       "105           105  https://www.pakwheels.com/used-cars/toyota-cor...   \n",
       "134           134  https://www.pakwheels.com/used-cars/honda-city...   \n",
       "...           ...                                                ...   \n",
       "89759       89759  https://www.pakwheels.com/used-cars/suzuki-cul...   \n",
       "89840       89840  https://www.pakwheels.com/used-cars/suzuki-alt...   \n",
       "89843       89843  https://www.pakwheels.com/used-cars/honda-veze...   \n",
       "89886       89886  https://www.pakwheels.com/used-cars/honda-veze...   \n",
       "89900       89900  https://www.pakwheels.com/used-cars/daihatsu-m...   \n",
       "\n",
       "                                         title  \\\n",
       "13                       Alfa Romeo Other 2014   \n",
       "29                          Toyota Aqua G 2014   \n",
       "78                  Honda City 1.3 i-VTEC 2014   \n",
       "105               Toyota Corolla XLi VVTi 2014   \n",
       "134                 Honda City 1.3 i-VTEC 2014   \n",
       "...                                        ...   \n",
       "89759               Suzuki Cultus EURO II 2014   \n",
       "89840                   Suzuki Alto ECO-S 2014   \n",
       "89843                Honda Vezel Hybrid X 2014   \n",
       "89886  Honda Vezel Hybrid Z Style Edition 2014   \n",
       "89900              Daihatsu Move Custom X 2014   \n",
       "\n",
       "                                        location  model_year           price  \\\n",
       "13                      Kohat Road, Peshawar KPK      2014.0   PKR 15.5 lacs   \n",
       "29                    DHA Defence, Karachi Sindh      2014.0     PKR 33 lacs   \n",
       "78            BOR Housing Society, Lahore Punjab      2014.0   PKR 24.5 lacs   \n",
       "105                                Kamoke Punjab      2014.0   PKR 21.5 lacs   \n",
       "134                                Lahore Punjab      2014.0   PKR 22.5 lacs   \n",
       "...                                          ...         ...             ...   \n",
       "89759       Chak 11P East, Rahim Yar Khan Punjab      2014.0   PKR 11.4 lacs   \n",
       "89840          Shalley Valley, Rawalpindi Punjab      2014.0  PKR 17.75 lacs   \n",
       "89843   Allama Iqbal Intl Airport, Lahore Punjab      2014.0  PKR 44.75 lacs   \n",
       "89886                 Bahadurabad, Karachi Sindh      2014.0  PKR 42.75 lacs   \n",
       "89900               Askari 12, Rawalpindi Punjab      2014.0   PKR 19.5 lacs   \n",
       "\n",
       "          mileage engine_type transmission registered_in  color  \\\n",
       "13      89,285 km      Petrol    Automatic        Lahore  White   \n",
       "29     149,252 km      Hybrid    Automatic       Karachi  White   \n",
       "78     100,000 km      Petrol       Manual        Lahore  White   \n",
       "105    107,000 km      Petrol       Manual        Lahore  White   \n",
       "134    200,000 km      Petrol       Manual        Lahore   Grey   \n",
       "...           ...         ...          ...           ...    ...   \n",
       "89759   91,000 km      Petrol       Manual       Karachi    NaN   \n",
       "89840  127,000 km      Petrol    Automatic    Rawalpindi  White   \n",
       "89843   50,000 km      Hybrid    Automatic        Lahore  Black   \n",
       "89886   82,500 km      Petrol    Automatic       Karachi  White   \n",
       "89900   65,000 km      Petrol    Automatic     Islamabad  Black   \n",
       "\n",
       "            assembly engine_capacity  body_type ad_last_updated  \\\n",
       "13          Imported          660 cc        NaN    Oct 09, 2022   \n",
       "29          Imported         1500 cc  Hatchback    Oct 09, 2022   \n",
       "78     Imported Cars         1300 cc      Sedan    Oct 09, 2022   \n",
       "105    Imported Cars         1300 cc      Sedan    Oct 09, 2022   \n",
       "134    Imported Cars         1300 cc      Sedan    Oct 09, 2022   \n",
       "...              ...             ...        ...             ...   \n",
       "89759  Imported Cars         1000 cc  Hatchback    Aug 30, 2022   \n",
       "89840       Imported          660 cc  Hatchback    Aug 30, 2022   \n",
       "89843       Imported         1500 cc  Crossover    Aug 30, 2022   \n",
       "89886       Imported         1500 cc  Crossover    Aug 31, 2022   \n",
       "89900       Imported          660 cc  Hatchback    Aug 31, 2022   \n",
       "\n",
       "                                            car_features  \\\n",
       "13     ABS\\nAM/FM Radio\\nAir Bags\\nAir Conditioning\\n...   \n",
       "29     ABS\\nAM/FM Radio\\nAir Bags\\nAir Conditioning\\n...   \n",
       "78     ABS\\nAM/FM Radio\\nAir Conditioning\\nCD Player\\...   \n",
       "105    AM/FM Radio\\nAir Conditioning\\nImmobilizer Key...   \n",
       "134    ABS\\nAM/FM Radio\\nAir Conditioning\\nCD Player\\...   \n",
       "...                                                  ...   \n",
       "89759  AM/FM Radio\\nAir Conditioning\\nCD Player\\nDVD ...   \n",
       "89840  ABS\\nAM/FM Radio\\nAir Bags\\nAir Conditioning\\n...   \n",
       "89843  ABS\\nAM/FM Radio\\nAir Bags\\nAir Conditioning\\n...   \n",
       "89886  ABS\\nAM/FM Radio\\nAir Bags\\nAir Conditioning\\n...   \n",
       "89900  ABS\\nAM/FM Radio\\nAir Bags\\nAir Conditioning\\n...   \n",
       "\n",
       "                                             description  \n",
       "13     After Market Alloy rims. All original document...  \n",
       "29     Toyota Aqua G pearl white *Top of the Line*Mod...  \n",
       "78     Honda city M/TModel 2014Registered 2014Sides m...  \n",
       "105    100% original. Fitted with new tires. Totally ...  \n",
       "134    All original documents are complete\\n.\\nMentio...  \n",
       "...                                                  ...  \n",
       "89759  good condition car.\\rurgent sale After Market ...  \n",
       "89840  Neat and clean .No work .just by and drive.\\nM...  \n",
       "89843  Model 2014\\rImport 2017\\rRegistered 2018 Lahor...  \n",
       "89886  Door sills gold emblems modula body kit includ...  \n",
       "89900  Move X 2014 model 2018 importIslamabad number ...  \n",
       "\n",
       "[3682 rows x 17 columns]"
      ]
     },
     "execution_count": 66,
     "metadata": {},
     "output_type": "execute_result"
    }
   ],
   "source": [
    "data[data[\"model_year\"] == 2014.0]"
   ]
  },
  {
   "cell_type": "code",
   "execution_count": null,
   "id": "cea71458-891f-4892-adb0-c7f54693f0bf",
   "metadata": {},
   "outputs": [],
   "source": []
  }
 ],
 "metadata": {
  "kernelspec": {
   "display_name": "Python 3 (ipykernel)",
   "language": "python",
   "name": "python3"
  },
  "language_info": {
   "codemirror_mode": {
    "name": "ipython",
    "version": 3
   },
   "file_extension": ".py",
   "mimetype": "text/x-python",
   "name": "python",
   "nbconvert_exporter": "python",
   "pygments_lexer": "ipython3",
   "version": "3.12.7"
  }
 },
 "nbformat": 4,
 "nbformat_minor": 5
}
