{
  "nbformat": 4,
  "nbformat_minor": 0,
  "metadata": {
    "colab": {
      "provenance": []
    },
    "kernelspec": {
      "name": "python3",
      "display_name": "Python 3"
    },
    "language_info": {
      "name": "python"
    }
  },
  "cells": [
    {
      "cell_type": "code",
      "execution_count": 1,
      "metadata": {
        "colab": {
          "base_uri": "https://localhost:8080/"
        },
        "id": "iYm19OUyGxt7",
        "outputId": "80ba5ae7-b8ce-4381-96d5-fff589e3e1e6"
      },
      "outputs": [
        {
          "output_type": "stream",
          "name": "stdout",
          "text": [
            "Pakistn zinda bad\n"
          ]
        }
      ],
      "source": [
        "print(\"Pakistn zinda bad\") # function calling"
      ]
    },
    {
      "cell_type": "markdown",
      "source": [
        "# Functions\n",
        "we can create function for repeatating tasks.\n",
        "\n",
        "* function core components\n",
        "  * function declairation\n",
        "    * function name\n",
        "    * parameters\n",
        "      * type (optional)\n",
        "    * return type (optional)\n",
        "  * function body\n",
        "    * set of instructions\n",
        "    * optional\n",
        "      * doc string\n",
        "      * type hints\n",
        "  * function calling\n",
        "* return function\n",
        "* none-return function\n",
        "* defualt function\n",
        "  * not required any parameter declaire/calling time\n",
        "\n",
        "* required parameter functions\n",
        "* passing arguments\n",
        "  * postional\n",
        "    * list/tuple\n",
        "  * key-value\n",
        "    * dictionary\n",
        "\n",
        "* unlimited-parameters function\n",
        "  * postional\n",
        "  * key-word\n",
        "\n",
        "\n",
        "## predine-functions\n",
        "* `print(), len(), id(), dir()`\n",
        "\n",
        "## user-define-fucntion\n",
        "* create your custom/ own function\n",
        "* optional parameters\n",
        "\n",
        "  \n",
        "\n"
      ],
      "metadata": {
        "id": "uvNxHWdBG8Oh"
      }
    },
    {
      "cell_type": "markdown",
      "source": [
        "# Function type\n",
        "* lambda function\n",
        "* generator **function**\n",
        "* recursive function\n",
        "* decorator function"
      ],
      "metadata": {
        "id": "HpIzqTFbZ0Kx"
      }
    },
    {
      "cell_type": "code",
      "source": [],
      "metadata": {
        "id": "RFEwUES_ZzHr"
      },
      "execution_count": null,
      "outputs": []
    },
    {
      "cell_type": "code",
      "source": [
        "print(\"NED univserity\")\n",
        "print(\"City: Karachi\")\n",
        "print(\"Course : Data Science Batch-10\")\n",
        "print(\"Name : Muhammad Qasim\")"
      ],
      "metadata": {
        "colab": {
          "base_uri": "https://localhost:8080/"
        },
        "id": "rAVwbXI-IpGV",
        "outputId": "83b1beb0-805d-4f72-d75d-551fdd0d76da"
      },
      "execution_count": 3,
      "outputs": [
        {
          "output_type": "stream",
          "name": "stdout",
          "text": [
            "NED univserity\n",
            "City: Karachi\n",
            "Course : Data Science Batch-10\n",
            "Name : Muhammad Qasim\n"
          ]
        }
      ]
    },
    {
      "cell_type": "code",
      "source": [
        "print(\"NED univserity\")\n",
        "print(\"City: Karachi\")\n",
        "print(\"Course : Data Science Batch-10\")\n",
        "print(\"Name : Asif Khan\")"
      ],
      "metadata": {
        "colab": {
          "base_uri": "https://localhost:8080/"
        },
        "id": "19vMC-G4JD1c",
        "outputId": "5d4e03fe-262d-4ab1-800f-d835a9cd0dd4"
      },
      "execution_count": 4,
      "outputs": [
        {
          "output_type": "stream",
          "name": "stdout",
          "text": [
            "NED univserity\n",
            "City: Karachi\n",
            "Course : Data Science Batch-10\n",
            "Name : Asif Khan\n"
          ]
        }
      ]
    },
    {
      "cell_type": "markdown",
      "source": [
        "# function syntax\n",
        "```python\n",
        "def function_name(parameter1,parameter2,...):\n",
        "  funtion_body\n",
        "\n",
        "```"
      ],
      "metadata": {
        "id": "F1gcgZudKMui"
      }
    },
    {
      "cell_type": "code",
      "source": [
        "def info():\n",
        "  print(\"NED univserity\")\n",
        "  print(\"City: Karachi\")\n",
        "  print(\"Course : Data Science Batch-10\")\n",
        "  print(\"Name : Muhammad Qasim\")"
      ],
      "metadata": {
        "id": "-8783sjuJ0PW"
      },
      "execution_count": 97,
      "outputs": []
    },
    {
      "cell_type": "code",
      "source": [
        "def info()->None:\n",
        "  \"\"\"\n",
        "  this function print university information\n",
        "  not required any parameters\n",
        "  \"\"\"\n",
        "  print(\"NED univserity\")\n",
        "  print(\"City: Karachi\")\n",
        "  print(\"Course : Data Science Batch-10\")\n",
        "  print(\"Name : Muhammad Qasim\")\n",
        ""
      ],
      "metadata": {
        "id": "aB9MSEMMLPxu"
      },
      "execution_count": 18,
      "outputs": []
    },
    {
      "cell_type": "code",
      "source": [
        "info()"
      ],
      "metadata": {
        "id": "UuiUrQJ-Lhe8"
      },
      "execution_count": null,
      "outputs": []
    },
    {
      "cell_type": "code",
      "source": [
        "print()"
      ],
      "metadata": {
        "id": "IoP4wKeoLhtt"
      },
      "execution_count": null,
      "outputs": []
    },
    {
      "cell_type": "code",
      "source": [
        "def info()->None: # function declairation\n",
        "  print(\"NED univserity\") # function body start, instruction 1\n",
        "  print(\"City: Lahore\") # instruction 2\n",
        "  print(\"Course : Data Science Batch-10\") # instrunction 3\n",
        "  print(\"Name : Muhammad Qasim\") # instruction 4, end body\n",
        "\n",
        "\n"
      ],
      "metadata": {
        "id": "yYCYdfj1JTaq"
      },
      "execution_count": 15,
      "outputs": []
    },
    {
      "cell_type": "code",
      "source": [
        "info()\n",
        "info()\n",
        "info()\n",
        "info()"
      ],
      "metadata": {
        "colab": {
          "base_uri": "https://localhost:8080/"
        },
        "id": "Nr1elllLJ4l1",
        "outputId": "5a978cc2-4383-4896-d308-b6967b7571a8"
      },
      "execution_count": 12,
      "outputs": [
        {
          "output_type": "stream",
          "name": "stdout",
          "text": [
            "NED univserity\n",
            "City: Lahore\n",
            "Course : Data Science Batch-10\n",
            "Name : Muhammad Qasim\n",
            "NED univserity\n",
            "City: Lahore\n",
            "Course : Data Science Batch-10\n",
            "Name : Muhammad Qasim\n",
            "NED univserity\n",
            "City: Lahore\n",
            "Course : Data Science Batch-10\n",
            "Name : Muhammad Qasim\n",
            "NED univserity\n",
            "City: Lahore\n",
            "Course : Data Science Batch-10\n",
            "Name : Muhammad Qasim\n"
          ]
        }
      ]
    },
    {
      "cell_type": "code",
      "source": [
        "my_var = info() # None-return function\n",
        "print(my_var) # check variable value\n",
        "print(my_var) # check variable value"
      ],
      "metadata": {
        "colab": {
          "base_uri": "https://localhost:8080/"
        },
        "id": "brY2xw7ANtjB",
        "outputId": "18b4589d-8ae9-4dcd-c832-7b76f0ded931"
      },
      "execution_count": 24,
      "outputs": [
        {
          "output_type": "stream",
          "name": "stdout",
          "text": [
            "NED univserity\n",
            "City: Karachi\n",
            "Course : Data Science Batch-10\n",
            "Name : Muhammad Qasim\n",
            "None\n",
            "None\n"
          ]
        }
      ]
    },
    {
      "cell_type": "markdown",
      "source": [
        "# Return Function and None-Return Function\n",
        "## Return Function\n",
        "* when we call this function it will return object(str,  int, list)\n",
        "* we can assign this value to variable\n",
        "\n",
        "# None-Return function\n",
        "* exclude above two properties"
      ],
      "metadata": {
        "id": "GdLe55MqMhB_"
      }
    },
    {
      "cell_type": "code",
      "source": [
        "my_var = print(\"Pakistan zinda bad\") # None-return\n",
        "print(my_var) # check variable value\n",
        "print(my_var) # check variable value"
      ],
      "metadata": {
        "colab": {
          "base_uri": "https://localhost:8080/"
        },
        "id": "TvKAGA10J73h",
        "outputId": "736082f8-2531-48a7-a7a7-0e0d4c9ec7ac"
      },
      "execution_count": 20,
      "outputs": [
        {
          "output_type": "stream",
          "name": "stdout",
          "text": [
            "Pakistan zinda bad\n",
            "None\n",
            "None\n"
          ]
        }
      ]
    },
    {
      "cell_type": "code",
      "source": [
        "my_var = len(\"Pakistan zinda bad\") # return function\n",
        "print(my_var) # check variable value\n",
        "print(my_var) # check variable value"
      ],
      "metadata": {
        "colab": {
          "base_uri": "https://localhost:8080/"
        },
        "id": "Cy_Lr0cnNKGC",
        "outputId": "8a5e1018-23f6-42be-a75e-b6548a53f590"
      },
      "execution_count": 21,
      "outputs": [
        {
          "output_type": "stream",
          "name": "stdout",
          "text": [
            "18\n",
            "18\n"
          ]
        }
      ]
    },
    {
      "cell_type": "code",
      "source": [
        "my_var = id(\"Pakistan zinda bad\") # return function\n",
        "print(my_var) # check variable value\n",
        "print(my_var) # check variable value"
      ],
      "metadata": {
        "colab": {
          "base_uri": "https://localhost:8080/"
        },
        "id": "YvsetkwMNk95",
        "outputId": "eca7e13f-d3fa-4f55-9f8e-ac812acf6d7f"
      },
      "execution_count": 22,
      "outputs": [
        {
          "output_type": "stream",
          "name": "stdout",
          "text": [
            "134320781312928\n",
            "134320781312928\n"
          ]
        }
      ]
    },
    {
      "cell_type": "markdown",
      "source": [
        "# required parameters/Arguments functions\n",
        "* parameters: in function body/declairation\n",
        "* arguments: calling time\n",
        "\n",
        "```\n",
        "# This is formatted as code\n",
        "```\n",
        "\n"
      ],
      "metadata": {
        "id": "n3bMC-tmOpcD"
      }
    },
    {
      "cell_type": "code",
      "source": [
        "def add_two_numbers(num1, num2): # parameters num1 and num2\n",
        "  return num1 + num2\n"
      ],
      "metadata": {
        "id": "yFUEtiSGNmIV"
      },
      "execution_count": 27,
      "outputs": []
    },
    {
      "cell_type": "code",
      "source": [
        "add_two_numbers(1, 10) # arguments: 1, 10 , num1=1, num2=10\n"
      ],
      "metadata": {
        "colab": {
          "base_uri": "https://localhost:8080/"
        },
        "id": "0jPf-vdFO725",
        "outputId": "e7a7cd6b-3596-4908-cdd3-78399f4c90ea"
      },
      "execution_count": 28,
      "outputs": [
        {
          "output_type": "execute_result",
          "data": {
            "text/plain": [
              "11"
            ]
          },
          "metadata": {},
          "execution_count": 28
        }
      ]
    },
    {
      "cell_type": "code",
      "source": [
        "print(add_two_numbers(7,3))"
      ],
      "metadata": {
        "colab": {
          "base_uri": "https://localhost:8080/"
        },
        "id": "2Vi9vhy8PBX6",
        "outputId": "53450d04-dc5f-4b2a-a49e-5a2767d8a3f1"
      },
      "execution_count": 29,
      "outputs": [
        {
          "output_type": "stream",
          "name": "stdout",
          "text": [
            "10\n"
          ]
        }
      ]
    },
    {
      "cell_type": "code",
      "source": [
        "add_two_numbers(20)"
      ],
      "metadata": {
        "colab": {
          "base_uri": "https://localhost:8080/",
          "height": 141
        },
        "id": "z8JEmM8bPK0L",
        "outputId": "bd2a1caf-0392-478b-87a1-efc576f2d41e"
      },
      "execution_count": 30,
      "outputs": [
        {
          "output_type": "error",
          "ename": "TypeError",
          "evalue": "add_two_numbers() missing 1 required positional argument: 'num2'",
          "traceback": [
            "\u001b[0;31m---------------------------------------------------------------------------\u001b[0m",
            "\u001b[0;31mTypeError\u001b[0m                                 Traceback (most recent call last)",
            "\u001b[0;32m<ipython-input-30-fdfbb6e239d8>\u001b[0m in \u001b[0;36m<cell line: 0>\u001b[0;34m()\u001b[0m\n\u001b[0;32m----> 1\u001b[0;31m \u001b[0madd_two_numbers\u001b[0m\u001b[0;34m(\u001b[0m\u001b[0;36m20\u001b[0m\u001b[0;34m)\u001b[0m\u001b[0;34m\u001b[0m\u001b[0;34m\u001b[0m\u001b[0m\n\u001b[0m",
            "\u001b[0;31mTypeError\u001b[0m: add_two_numbers() missing 1 required positional argument: 'num2'"
          ]
        }
      ]
    },
    {
      "cell_type": "code",
      "source": [
        "print(add_two_numbers(1, 10))\n",
        "print(add_two_numbers(\"1\", 10))"
      ],
      "metadata": {
        "colab": {
          "base_uri": "https://localhost:8080/",
          "height": 245
        },
        "id": "yOfMUYchRJ2Y",
        "outputId": "3c0d1b21-c7f4-4bce-8ec6-b6143d8a9d53"
      },
      "execution_count": 32,
      "outputs": [
        {
          "output_type": "stream",
          "name": "stdout",
          "text": [
            "11\n"
          ]
        },
        {
          "output_type": "error",
          "ename": "TypeError",
          "evalue": "can only concatenate str (not \"int\") to str",
          "traceback": [
            "\u001b[0;31m---------------------------------------------------------------------------\u001b[0m",
            "\u001b[0;31mTypeError\u001b[0m                                 Traceback (most recent call last)",
            "\u001b[0;32m<ipython-input-32-fb4459091eda>\u001b[0m in \u001b[0;36m<cell line: 0>\u001b[0;34m()\u001b[0m\n\u001b[1;32m      1\u001b[0m \u001b[0mprint\u001b[0m\u001b[0;34m(\u001b[0m\u001b[0madd_two_numbers\u001b[0m\u001b[0;34m(\u001b[0m\u001b[0;36m1\u001b[0m\u001b[0;34m,\u001b[0m \u001b[0;36m10\u001b[0m\u001b[0;34m)\u001b[0m\u001b[0;34m)\u001b[0m\u001b[0;34m\u001b[0m\u001b[0;34m\u001b[0m\u001b[0m\n\u001b[0;32m----> 2\u001b[0;31m \u001b[0mprint\u001b[0m\u001b[0;34m(\u001b[0m\u001b[0madd_two_numbers\u001b[0m\u001b[0;34m(\u001b[0m\u001b[0;34m\"1\"\u001b[0m\u001b[0;34m,\u001b[0m \u001b[0;36m10\u001b[0m\u001b[0;34m)\u001b[0m\u001b[0;34m)\u001b[0m\u001b[0;34m\u001b[0m\u001b[0;34m\u001b[0m\u001b[0m\n\u001b[0m",
            "\u001b[0;32m<ipython-input-27-719703b7bf0b>\u001b[0m in \u001b[0;36madd_two_numbers\u001b[0;34m(num1, num2)\u001b[0m\n\u001b[1;32m      1\u001b[0m \u001b[0;32mdef\u001b[0m \u001b[0madd_two_numbers\u001b[0m\u001b[0;34m(\u001b[0m\u001b[0mnum1\u001b[0m\u001b[0;34m,\u001b[0m \u001b[0mnum2\u001b[0m\u001b[0;34m)\u001b[0m\u001b[0;34m:\u001b[0m\u001b[0;34m\u001b[0m\u001b[0;34m\u001b[0m\u001b[0m\n\u001b[0;32m----> 2\u001b[0;31m   \u001b[0;32mreturn\u001b[0m \u001b[0mnum1\u001b[0m \u001b[0;34m+\u001b[0m \u001b[0mnum2\u001b[0m\u001b[0;34m\u001b[0m\u001b[0;34m\u001b[0m\u001b[0m\n\u001b[0m",
            "\u001b[0;31mTypeError\u001b[0m: can only concatenate str (not \"int\") to str"
          ]
        }
      ]
    },
    {
      "cell_type": "code",
      "source": [
        "print(add_two_numbers_new(1,10))"
      ],
      "metadata": {
        "colab": {
          "base_uri": "https://localhost:8080/"
        },
        "id": "hUuN7ZonRT-u",
        "outputId": "86948d54-d31e-4c2b-87e2-d53697ea81dd"
      },
      "execution_count": 33,
      "outputs": [
        {
          "output_type": "stream",
          "name": "stdout",
          "text": [
            "11\n"
          ]
        }
      ]
    },
    {
      "cell_type": "code",
      "source": [
        "def add_two_numbers_new(num1: int, num2 : int) -> int: # parameters num1 and num2\n",
        "  return num1 + num2\n"
      ],
      "metadata": {
        "id": "rKlJITbVQxGW"
      },
      "execution_count": 31,
      "outputs": []
    },
    {
      "cell_type": "code",
      "source": [
        "add_two_numbers(1, 10) # arguments: 1, 10 , num1=1, num2=10\n",
        "\n",
        "add_two_numbers_new()"
      ],
      "metadata": {
        "id": "KkLOvObKQ6JQ"
      },
      "execution_count": null,
      "outputs": []
    },
    {
      "cell_type": "markdown",
      "source": [
        "# # Optional parameters/Arguments functions"
      ],
      "metadata": {
        "id": "ZuHk9hkxQq8_"
      }
    },
    {
      "cell_type": "code",
      "source": [
        "def add_numbers(num1, num2 = 0):\n",
        "  return num1 + num2\n",
        "\n",
        "print(add_numbers(3,7))\n",
        "print(add_numbers(3))\n"
      ],
      "metadata": {
        "colab": {
          "base_uri": "https://localhost:8080/"
        },
        "id": "YNr3J1dXPPak",
        "outputId": "39533e98-7589-4a0a-cccc-b77b2bd53358"
      },
      "execution_count": 35,
      "outputs": [
        {
          "output_type": "stream",
          "name": "stdout",
          "text": [
            "10\n",
            "3\n"
          ]
        }
      ]
    },
    {
      "cell_type": "code",
      "source": [
        "print(add_numbers())"
      ],
      "metadata": {
        "colab": {
          "base_uri": "https://localhost:8080/",
          "height": 141
        },
        "id": "pR7z1WfBRzZ2",
        "outputId": "d3299dc8-f9f9-412b-a046-745c8b471602"
      },
      "execution_count": 36,
      "outputs": [
        {
          "output_type": "error",
          "ename": "TypeError",
          "evalue": "add_numbers() missing 1 required positional argument: 'num1'",
          "traceback": [
            "\u001b[0;31m---------------------------------------------------------------------------\u001b[0m",
            "\u001b[0;31mTypeError\u001b[0m                                 Traceback (most recent call last)",
            "\u001b[0;32m<ipython-input-36-bc722b784aec>\u001b[0m in \u001b[0;36m<cell line: 0>\u001b[0;34m()\u001b[0m\n\u001b[0;32m----> 1\u001b[0;31m \u001b[0mprint\u001b[0m\u001b[0;34m(\u001b[0m\u001b[0madd_numbers\u001b[0m\u001b[0;34m(\u001b[0m\u001b[0;34m)\u001b[0m\u001b[0;34m)\u001b[0m\u001b[0;34m\u001b[0m\u001b[0;34m\u001b[0m\u001b[0m\n\u001b[0m",
            "\u001b[0;31mTypeError\u001b[0m: add_numbers() missing 1 required positional argument: 'num1'"
          ]
        }
      ]
    },
    {
      "cell_type": "code",
      "source": [
        "def add_numbers(num1 : int, num2 :int = 0)->int:\n",
        "  return num1 + num2\n",
        "\n",
        "print(add_numbers(3,7))\n",
        "print(add_numbers(3))\n"
      ],
      "metadata": {
        "colab": {
          "base_uri": "https://localhost:8080/"
        },
        "id": "FBj0knFvSLHC",
        "outputId": "5e4b0eb5-5cea-459a-e020-2cf106d32c5c"
      },
      "execution_count": 37,
      "outputs": [
        {
          "output_type": "stream",
          "name": "stdout",
          "text": [
            "10\n",
            "3\n"
          ]
        }
      ]
    },
    {
      "cell_type": "markdown",
      "source": [
        "# passing arguments"
      ],
      "metadata": {
        "id": "Hakl-00kSv5p"
      }
    },
    {
      "cell_type": "code",
      "source": [
        "def add_numbers(num1 : int, num2 :int = 0)->int:\n",
        "  print(\"num1 value\", num1, \"type\", type(num1))\n",
        "  print(f\"num2 value {num2} type {type(num2)}\")\n",
        "\n",
        "  return num1 + num2"
      ],
      "metadata": {
        "id": "Dv5QwDI2SQe4"
      },
      "execution_count": 40,
      "outputs": []
    },
    {
      "cell_type": "markdown",
      "source": [
        "## postional Argument"
      ],
      "metadata": {
        "id": "slKZ4Ij-Uq4L"
      }
    },
    {
      "cell_type": "code",
      "source": [
        "add_numbers(3,7) # postional argument"
      ],
      "metadata": {
        "colab": {
          "base_uri": "https://localhost:8080/"
        },
        "id": "BlfyTGunTB8n",
        "outputId": "1fc9bf7c-f2ea-4f77-a5ac-0b109082f4b4"
      },
      "execution_count": 42,
      "outputs": [
        {
          "output_type": "stream",
          "name": "stdout",
          "text": [
            "num1 value 3 type <class 'int'>\n",
            "num2 value 7 type <class 'int'>\n"
          ]
        },
        {
          "output_type": "execute_result",
          "data": {
            "text/plain": [
              "10"
            ]
          },
          "metadata": {},
          "execution_count": 42
        }
      ]
    },
    {
      "cell_type": "code",
      "source": [
        "l1 = [10, 20]\n",
        "\n",
        "add_numbers(*l1) # * before list/tupe function calling time"
      ],
      "metadata": {
        "colab": {
          "base_uri": "https://localhost:8080/"
        },
        "id": "N6dcOK03VtKo",
        "outputId": "55461267-32ee-4002-80da-0abec41cb5e6"
      },
      "execution_count": 56,
      "outputs": [
        {
          "output_type": "stream",
          "name": "stdout",
          "text": [
            "num1 value 10 type <class 'int'>\n",
            "num2 value 20 type <class 'int'>\n"
          ]
        },
        {
          "output_type": "execute_result",
          "data": {
            "text/plain": [
              "30"
            ]
          },
          "metadata": {},
          "execution_count": 56
        }
      ]
    },
    {
      "cell_type": "code",
      "source": [
        "#      0.  1\n",
        "l1 = [10, 20]\n",
        "a = l1[0]\n",
        "b = l1[1]\n",
        "print(a)\n",
        "print(b)\n",
        "\n",
        "\n",
        "print(add_numbers(l1[0], l1[1]))"
      ],
      "metadata": {
        "colab": {
          "base_uri": "https://localhost:8080/"
        },
        "id": "VWNMUfTeUyzV",
        "outputId": "7046d6e7-040b-437d-fe7e-c2ebda82141c"
      },
      "execution_count": 54,
      "outputs": [
        {
          "output_type": "stream",
          "name": "stdout",
          "text": [
            "10\n",
            "20\n",
            "num1 value 10 type <class 'int'>\n",
            "num2 value 20 type <class 'int'>\n",
            "30\n"
          ]
        }
      ]
    },
    {
      "cell_type": "markdown",
      "source": [
        "### unzip"
      ],
      "metadata": {
        "id": "nlojQv57ViQ_"
      }
    },
    {
      "cell_type": "code",
      "source": [
        "#      0.  1\n",
        "l1 = [10, 20]\n",
        "# a = l1[0]\n",
        "# b = l1[1]\n",
        "\n",
        "# a, b = [10, 20]\n",
        "a, b = l1\n",
        "\n",
        "print(a)\n",
        "print(b)\n",
        "\n"
      ],
      "metadata": {
        "colab": {
          "base_uri": "https://localhost:8080/"
        },
        "id": "sDX-kAC4VTvy",
        "outputId": "4f3a5ebb-f689-456c-c62b-61df0b400f0c"
      },
      "execution_count": 55,
      "outputs": [
        {
          "output_type": "stream",
          "name": "stdout",
          "text": [
            "10\n",
            "20\n"
          ]
        }
      ]
    },
    {
      "cell_type": "code",
      "source": [],
      "metadata": {
        "id": "3tjPpJwUUzI5"
      },
      "execution_count": null,
      "outputs": []
    },
    {
      "cell_type": "code",
      "source": [],
      "metadata": {
        "id": "H1Ia3wfMUzLT"
      },
      "execution_count": null,
      "outputs": []
    },
    {
      "cell_type": "markdown",
      "source": [
        "## key-word arguments"
      ],
      "metadata": {
        "id": "__GprM-RUtqM"
      }
    },
    {
      "cell_type": "code",
      "source": [
        "add_numbers(num2=3, num1=7) # key-word argument"
      ],
      "metadata": {
        "colab": {
          "base_uri": "https://localhost:8080/"
        },
        "id": "cb7RdCWZTEio",
        "outputId": "e7186bb4-68de-4f2c-a3aa-76f8310b984a"
      },
      "execution_count": 45,
      "outputs": [
        {
          "output_type": "stream",
          "name": "stdout",
          "text": [
            "num1 value 7 type <class 'int'>\n",
            "num2 value 3 type <class 'int'>\n"
          ]
        },
        {
          "output_type": "execute_result",
          "data": {
            "text/plain": [
              "10"
            ]
          },
          "metadata": {},
          "execution_count": 45
        }
      ]
    },
    {
      "cell_type": "code",
      "source": [
        "data1 = {\"num2\": 3, \"num1\": 7}\n",
        "\n",
        "\n",
        "add_numbers(**data1) # ** double sterik before diction in function calling\n",
        "# add_numbers(num2=3, num1=7)"
      ],
      "metadata": {
        "colab": {
          "base_uri": "https://localhost:8080/"
        },
        "id": "A3IBrwe8WCQm",
        "outputId": "f390bada-1680-4adb-cae8-5e10cfcea48c"
      },
      "execution_count": 57,
      "outputs": [
        {
          "output_type": "stream",
          "name": "stdout",
          "text": [
            "num1 value 7 type <class 'int'>\n",
            "num2 value 3 type <class 'int'>\n"
          ]
        },
        {
          "output_type": "execute_result",
          "data": {
            "text/plain": [
              "10"
            ]
          },
          "metadata": {},
          "execution_count": 57
        }
      ]
    },
    {
      "cell_type": "code",
      "source": [
        "add_numbers(num2=3, num1=7)"
      ],
      "metadata": {
        "id": "8p3hYOYLWSKK"
      },
      "execution_count": null,
      "outputs": []
    },
    {
      "cell_type": "code",
      "source": [
        "def ned_student_card(id:int, name: str, fname: str, course: str, timing: str)->str:\n",
        "  card : str = f\"\"\"\n",
        "  NED University\n",
        "  Student Id: {id}\n",
        "  Name: {name}\n",
        "  Father's Name: {fname}\n",
        "  Course: {course}\n",
        "  Timing: {timing}\n",
        "  \"\"\"\n",
        "  return card\n",
        "\n",
        "\n",
        ""
      ],
      "metadata": {
        "id": "RJ2qITlBTbDO"
      },
      "execution_count": 46,
      "outputs": []
    },
    {
      "cell_type": "code",
      "source": [
        "print(ned_student_card(1, \"Muhammad Qasim\", \"Muhammad Aslam\", \"Data Science\", \"9 to 12\"))\n"
      ],
      "metadata": {
        "colab": {
          "base_uri": "https://localhost:8080/"
        },
        "id": "rFLn61bUUAfr",
        "outputId": "84cea964-d2dd-43ba-f5ed-94e78340a08d"
      },
      "execution_count": 49,
      "outputs": [
        {
          "output_type": "stream",
          "name": "stdout",
          "text": [
            "\n",
            "  NED University\n",
            "  Student Id: 1\n",
            "  Name: Muhammad Qasim\n",
            "  Father's Name: Muhammad Aslam\n",
            "  Course: Data Science\n",
            "  Timing: 9 to 12\n",
            "  \n"
          ]
        }
      ]
    },
    {
      "cell_type": "code",
      "source": [
        "data1 = [1,\"Qasim\",\"Aslam\",\"Data Science\", \"9 to 12\"]"
      ],
      "metadata": {
        "id": "YyOnb-KZVFl7"
      },
      "execution_count": 58,
      "outputs": []
    },
    {
      "cell_type": "code",
      "source": [
        "data1 = [1,\"Qasim\",\"Aslam\",\"Data Science\", \"9 to 12\"]\n",
        "\n",
        "print(ned_student_card(data1[0], data1[1], data1[2], data1[3], data1[4]))\n",
        "print(\"=====\")\n",
        "\n",
        "data1 = [1,\"Qasim\",\"Aslam\",\"Data Science\", \"9 to 12\"]\n",
        "\n",
        "print(ned_student_card(*data1))\n"
      ],
      "metadata": {
        "colab": {
          "base_uri": "https://localhost:8080/"
        },
        "id": "tObOFjhjWsMG",
        "outputId": "a096522c-083f-4cf6-aaba-867784f367eb"
      },
      "execution_count": 60,
      "outputs": [
        {
          "output_type": "stream",
          "name": "stdout",
          "text": [
            "\n",
            "  NED University\n",
            "  Student Id: 1\n",
            "  Name: Qasim\n",
            "  Father's Name: Aslam\n",
            "  Course: Data Science\n",
            "  Timing: 9 to 12\n",
            "  \n",
            "=====\n",
            "\n",
            "  NED University\n",
            "  Student Id: 1\n",
            "  Name: Qasim\n",
            "  Father's Name: Aslam\n",
            "  Course: Data Science\n",
            "  Timing: 9 to 12\n",
            "  \n"
          ]
        }
      ]
    },
    {
      "cell_type": "code",
      "source": [
        "print(ned_student_card(name=1, fname=\"Muhammad Qasim\", id=\"Muhammad Aslam\", course=\"Data Science\", timing=\"9 to 12\"))"
      ],
      "metadata": {
        "colab": {
          "base_uri": "https://localhost:8080/"
        },
        "id": "S3OhHPCAUUqZ",
        "outputId": "1160bd5f-7ff2-4e6c-c96d-8c65dcda1b56"
      },
      "execution_count": 51,
      "outputs": [
        {
          "output_type": "stream",
          "name": "stdout",
          "text": [
            "\n",
            "  NED University\n",
            "  Student Id: Muhammad Aslam\n",
            "  Name: 1\n",
            "  Father's Name: Muhammad Qasim\n",
            "  Course: Data Science\n",
            "  Timing: 9 to 12\n",
            "  \n"
          ]
        }
      ]
    },
    {
      "cell_type": "code",
      "source": [
        "print(ned_student_card(2, \"Asif Khan\", \"Abid Khan\", \"Data Science\", \"9 to 12\"))\n",
        "#"
      ],
      "metadata": {
        "colab": {
          "base_uri": "https://localhost:8080/"
        },
        "id": "-qIE9rowUMpM",
        "outputId": "aa34d21e-cf59-4c52-f2b0-d5102e9e56f0"
      },
      "execution_count": 50,
      "outputs": [
        {
          "output_type": "stream",
          "name": "stdout",
          "text": [
            "\n",
            "  NED University\n",
            "  Student Id: 2\n",
            "  Name: Asif Khan\n",
            "  Father's Name: Abid Khan\n",
            "  Course: Data Science\n",
            "  Timing: 9 to 12\n",
            "  \n"
          ]
        }
      ]
    },
    {
      "cell_type": "markdown",
      "source": [
        "### unlimited-parameters function\n",
        "  * postional\n",
        "    * `*` place before parameter (during declairation time)\n",
        "  * key-word"
      ],
      "metadata": {
        "id": "DASbG0F3XXwP"
      }
    },
    {
      "cell_type": "code",
      "source": [
        "def my_sum(num1,num3, *nums):\n",
        "  print(f\"num1 value: {num1} type: {type(num1)}\")\n",
        "  print(f\"num3 value: {num3} type: {type(num3)}\")\n",
        "  print(f\"nums value: {nums} type: {type(nums)}\")\n",
        "  return num1 + num3 + sum(nums)\n",
        ""
      ],
      "metadata": {
        "id": "Q6w3HkKBUHo1"
      },
      "execution_count": 67,
      "outputs": []
    },
    {
      "cell_type": "code",
      "source": [
        "my_sum(1,3,7,8,9,10,11,100,100)\n",
        "# num1=1\n",
        "# num2=3\n",
        "# nums=(7,8,9,10,1)"
      ],
      "metadata": {
        "colab": {
          "base_uri": "https://localhost:8080/"
        },
        "id": "DY6gXkilXt8W",
        "outputId": "edc8350a-1155-4d6e-cf0f-a86162cae178"
      },
      "execution_count": 69,
      "outputs": [
        {
          "output_type": "stream",
          "name": "stdout",
          "text": [
            "num1 value: 1 type: <class 'int'>\n",
            "num3 value: 3 type: <class 'int'>\n",
            "nums value: (7, 8, 9, 10, 11, 100, 100) type: <class 'tuple'>\n"
          ]
        },
        {
          "output_type": "execute_result",
          "data": {
            "text/plain": [
              "249"
            ]
          },
          "metadata": {},
          "execution_count": 69
        }
      ]
    },
    {
      "cell_type": "code",
      "source": [
        "# * unlimited postional arguments\n",
        "# ** unlimited key-word arguments\n",
        "\n",
        "def my_sum(num1,num3=0, *nums, **args):\n",
        "  print(f\"num1 value: {num1} type: {type(num1)}\")\n",
        "  print(f\"num3 value: {num3} type: {type(num3)}\")\n",
        "  print(f\"nums value: {nums} type: {type(nums)}\")\n",
        "  print(f\"args value: {args} type: {type(args)}\")\n",
        "\n",
        "  return num1 + num3 + sum(nums)"
      ],
      "metadata": {
        "id": "Q_M7xObWXyZD"
      },
      "execution_count": 75,
      "outputs": []
    },
    {
      "cell_type": "code",
      "source": [],
      "metadata": {
        "id": "zuRbjKPGZTvH"
      },
      "execution_count": null,
      "outputs": []
    },
    {
      "cell_type": "code",
      "source": [
        "my_sum(1,3,8,9,10,id=20,name=\"Qasim\",course=\"Data Science\")"
      ],
      "metadata": {
        "colab": {
          "base_uri": "https://localhost:8080/"
        },
        "id": "dWkGkqfMYxug",
        "outputId": "dae36e2a-5f9a-4e42-e212-526d5eb217b8"
      },
      "execution_count": 74,
      "outputs": [
        {
          "output_type": "stream",
          "name": "stdout",
          "text": [
            "num1 value: 1 type: <class 'int'>\n",
            "num3 value: 3 type: <class 'int'>\n",
            "nums value: (8, 9, 10) type: <class 'tuple'>\n",
            "args value: {'id': 20, 'name': 'Qasim', 'course': 'Data Science'} type: <class 'dict'>\n"
          ]
        },
        {
          "output_type": "execute_result",
          "data": {
            "text/plain": [
              "31"
            ]
          },
          "metadata": {},
          "execution_count": 74
        }
      ]
    },
    {
      "cell_type": "code",
      "source": [
        "def my_sum(num1: int,num3 : int =0, *nums: int, **args:str)->int:\n",
        "  print(f\"num1 value: {num1} type: {type(num1)}\")\n",
        "  print(f\"num3 value: {num3} type: {type(num3)}\")\n",
        "  print(f\"nums value: {nums} type: {type(nums)}\")\n",
        "  print(f\"args value: {args} type: {type(args)}\")\n",
        "\n",
        "  return num1 + num3 + sum(nums)"
      ],
      "metadata": {
        "id": "f5_YwnXkY8RX"
      },
      "execution_count": 76,
      "outputs": []
    },
    {
      "cell_type": "code",
      "source": [
        "my_sum(1,3,8,9,10,id=20,name=\"Qasim\",course=\"Data Science\")"
      ],
      "metadata": {
        "colab": {
          "base_uri": "https://localhost:8080/"
        },
        "id": "IaXz27OfZc0L",
        "outputId": "85bb7a28-e758-47f7-e8f7-22454839d52a"
      },
      "execution_count": 77,
      "outputs": [
        {
          "output_type": "stream",
          "name": "stdout",
          "text": [
            "num1 value: 1 type: <class 'int'>\n",
            "num3 value: 3 type: <class 'int'>\n",
            "nums value: (8, 9, 10) type: <class 'tuple'>\n",
            "args value: {'id': 20, 'name': 'Qasim', 'course': 'Data Science'} type: <class 'dict'>\n"
          ]
        },
        {
          "output_type": "execute_result",
          "data": {
            "text/plain": [
              "31"
            ]
          },
          "metadata": {},
          "execution_count": 77
        }
      ]
    },
    {
      "cell_type": "markdown",
      "source": [
        "# Function type\n",
        "* lambda function\n",
        "* generator **function**\n",
        "* recursive function\n",
        "* decorator function"
      ],
      "metadata": {
        "id": "y9GoIFk9aEkz"
      }
    },
    {
      "cell_type": "markdown",
      "source": [
        "## Lambda function\n",
        "* one line function\n",
        "* without name function\n",
        "* not used before this line\n",
        "* not after this line\n",
        "\n",
        "Simple function\n",
        "```python\n",
        "def function_name(par1,par2,..):\n",
        "    function body\n",
        "\n",
        "```\n",
        "\n",
        "convert in lambda syntax\n",
        "```pthon\n",
        "lambda par1,par2 : function body\n",
        "\n",
        "```\n",
        "\n"
      ],
      "metadata": {
        "id": "XoEv6QS5aHLl"
      }
    },
    {
      "cell_type": "markdown",
      "source": [
        "# Recursive function\n",
        "* function call it-self in it body\n",
        "* recursion (infinit)\n",
        "  * we have to stop it at perticular point"
      ],
      "metadata": {
        "id": "jKADopb2drGB"
      }
    },
    {
      "cell_type": "code",
      "source": [
        "def my_add(num1, num2):\n",
        "  return num1 + num2\n",
        "\n",
        "my_add(3,7)"
      ],
      "metadata": {
        "colab": {
          "base_uri": "https://localhost:8080/"
        },
        "id": "fuZ3r6mRZeaT",
        "outputId": "644cbadf-eb82-4633-8a8d-6aff70c3f55c"
      },
      "execution_count": 79,
      "outputs": [
        {
          "output_type": "execute_result",
          "data": {
            "text/plain": [
              "10"
            ]
          },
          "metadata": {},
          "execution_count": 79
        }
      ]
    },
    {
      "cell_type": "code",
      "source": [
        "abc = lambda num1, num2 : num1 + num2\n",
        "\n",
        "abc(3,7)"
      ],
      "metadata": {
        "colab": {
          "base_uri": "https://localhost:8080/"
        },
        "id": "K8VCsfH3bBUN",
        "outputId": "8d30c0f8-c2d4-4f37-9bc0-2b57ffad6334"
      },
      "execution_count": 80,
      "outputs": [
        {
          "output_type": "execute_result",
          "data": {
            "text/plain": [
              "10"
            ]
          },
          "metadata": {},
          "execution_count": 80
        }
      ]
    },
    {
      "cell_type": "code",
      "source": [
        "# prompt: create list of tuple then sort with lambda function\n",
        "\n",
        "# Sample list of tuples\n",
        "data = [\n",
        "    (3, 'apple'),\n",
        "     (1, 'banana'),\n",
        "     (2, 'cherry')]\n",
        "\n",
        "# Sort the list of tuples using a lambda function as the key\n",
        "sorted_data = sorted(data, key=lambda x: x[0])  # Sort based on the first element of each tuple\n",
        "\n",
        "sorted_data\n"
      ],
      "metadata": {
        "colab": {
          "base_uri": "https://localhost:8080/"
        },
        "id": "qZ_0U358bMPb",
        "outputId": "b61baad8-749c-4d0f-ee6c-bf35a5e11c82"
      },
      "execution_count": 81,
      "outputs": [
        {
          "output_type": "execute_result",
          "data": {
            "text/plain": [
              "[(1, 'banana'), (2, 'cherry'), (3, 'apple')]"
            ]
          },
          "metadata": {},
          "execution_count": 81
        }
      ]
    },
    {
      "cell_type": "code",
      "source": [
        "# prompt: create list of tuple then sort with lambda function\n",
        "\n",
        "# Sample list of tuples\n",
        "data = [\n",
        "    (3, 'apple'),\n",
        "     (1, 'banana'),\n",
        "     (2, 'cherry')]\n",
        "\n",
        "# Sort the list of tuples using a lambda function as the key\n",
        "sorted_data = sorted(data, key=lambda x: x[1])  # Sort based on the first element of each tuple\n",
        "\n",
        "sorted_data"
      ],
      "metadata": {
        "colab": {
          "base_uri": "https://localhost:8080/"
        },
        "id": "CqhbUh2-buJm",
        "outputId": "c58fdac4-8dd4-4941-e4cd-ed7b070f1120"
      },
      "execution_count": 82,
      "outputs": [
        {
          "output_type": "execute_result",
          "data": {
            "text/plain": [
              "[(3, 'apple'), (1, 'banana'), (2, 'cherry')]"
            ]
          },
          "metadata": {},
          "execution_count": 82
        }
      ]
    },
    {
      "cell_type": "markdown",
      "source": [
        "# generator **function**\n",
        "* run step by step\n",
        "  * perform one step then stop\n",
        "* when you run it again then it will take next step\n"
      ],
      "metadata": {
        "id": "8Cz0WQe1b8PJ"
      }
    },
    {
      "cell_type": "code",
      "source": [
        "def my_range(start, end, step=1):\n",
        "  for i in range(start, end+1, step):\n",
        "    yield i"
      ],
      "metadata": {
        "id": "9n25bcfzbqmy"
      },
      "execution_count": 84,
      "outputs": []
    },
    {
      "cell_type": "code",
      "source": [
        "l1 = my_range(1,10)"
      ],
      "metadata": {
        "id": "wmEGPs-Ocp7F"
      },
      "execution_count": 85,
      "outputs": []
    },
    {
      "cell_type": "code",
      "source": [
        "l1"
      ],
      "metadata": {
        "colab": {
          "base_uri": "https://localhost:8080/"
        },
        "id": "VZYN1-O1cwhi",
        "outputId": "62562094-e0f9-4846-cc48-205d66407032"
      },
      "execution_count": 86,
      "outputs": [
        {
          "output_type": "execute_result",
          "data": {
            "text/plain": [
              "<generator object my_range at 0x7a29e4fa9a80>"
            ]
          },
          "metadata": {},
          "execution_count": 86
        }
      ]
    },
    {
      "cell_type": "code",
      "source": [
        "l1 = my_range(1,10)\n",
        "\n",
        "print(next(l1))\n",
        "print(next(l1))\n",
        "print(\"Pakistan zinda bad\")\n",
        "print(next(l1))\n",
        "print(list(l1))"
      ],
      "metadata": {
        "colab": {
          "base_uri": "https://localhost:8080/"
        },
        "id": "bB3OmcZvcy6k",
        "outputId": "1cd03de5-face-47b5-da0b-eb067036e0c7"
      },
      "execution_count": 91,
      "outputs": [
        {
          "output_type": "stream",
          "name": "stdout",
          "text": [
            "1\n",
            "2\n",
            "Pakistan zinda bad\n",
            "3\n",
            "[4, 5, 6, 7, 8, 9, 10]\n"
          ]
        }
      ]
    },
    {
      "cell_type": "markdown",
      "source": [
        "# Recursive function\n",
        "* function call it-self in it body\n",
        "* recursion (infinit)\n",
        "  * we have to stop it at perticular point"
      ],
      "metadata": {
        "id": "cRfDlPcmd_7l"
      }
    },
    {
      "cell_type": "code",
      "source": [
        "# prompt: create simple recursion function example\n",
        "\n",
        "def factorial(n):\n",
        "  if n == 0:\n",
        "    return 1\n",
        "  else:\n",
        "    return n * factorial(n-1)\n",
        "\n",
        "print(factorial(5))\n"
      ],
      "metadata": {
        "colab": {
          "base_uri": "https://localhost:8080/"
        },
        "id": "8Teu0H3rc6Wi",
        "outputId": "8c882ab5-865d-490a-f0c6-42f1855ee8d0"
      },
      "execution_count": 92,
      "outputs": [
        {
          "output_type": "stream",
          "name": "stdout",
          "text": [
            "120\n"
          ]
        }
      ]
    },
    {
      "cell_type": "code",
      "source": [
        "# prompt: create simple recursion function example\n",
        "\n",
        "def factorial(n):\n",
        "  if n == 0:\n",
        "    return 1\n",
        "  else:\n",
        "    return n * factorial(n-1)\n",
        "#               5 * 4 * 3 * 2 * 1 * 1\n",
        "print(factorial(5))\n",
        "print(5 * 4 * 3 * 2 * 1 * 1)\n"
      ],
      "metadata": {
        "colab": {
          "base_uri": "https://localhost:8080/"
        },
        "id": "cwzCFo_0eKd7",
        "outputId": "e3bab58a-e643-4c4d-96c9-dcd7b0817e40"
      },
      "execution_count": 93,
      "outputs": [
        {
          "output_type": "stream",
          "name": "stdout",
          "text": [
            "120\n",
            "120\n"
          ]
        }
      ]
    },
    {
      "cell_type": "markdown",
      "source": [
        "# Decorator function"
      ],
      "metadata": {
        "id": "JLL_yBPofAGm"
      }
    },
    {
      "cell_type": "code",
      "source": [],
      "metadata": {
        "id": "EjrVHoucfFT9"
      },
      "execution_count": null,
      "outputs": []
    },
    {
      "cell_type": "code",
      "source": [
        "# prompt: create simple decorator function example with descrition in docs string\n",
        "\n",
        "def my_decorator(func):\n",
        "  def wrapper():\n",
        "    print(\"Before function execution\")\n",
        "    func()\n",
        "    print(\"After function execution\")\n",
        "  return wrapper\n",
        "\n",
        "@my_decorator\n",
        "def say_hello():\n",
        "  \"\"\"\n",
        "  This is the function that will be decorated.\n",
        "  \"\"\"\n",
        "  print(\"Hello!\")\n",
        "\n",
        "say_hello()\n"
      ],
      "metadata": {
        "colab": {
          "base_uri": "https://localhost:8080/"
        },
        "id": "RCw0zmWGeveb",
        "outputId": "42e29d40-3228-4625-ae5d-2de3d4b04b98"
      },
      "execution_count": 95,
      "outputs": [
        {
          "output_type": "stream",
          "name": "stdout",
          "text": [
            "Before function execution\n",
            "Hello!\n",
            "After function execution\n"
          ]
        }
      ]
    },
    {
      "cell_type": "code",
      "source": [
        "@my_decorator\n",
        "def my_new():\n",
        "  print(\"Pakistan zinda bad\")\n",
        "\n",
        "my_new()"
      ],
      "metadata": {
        "colab": {
          "base_uri": "https://localhost:8080/"
        },
        "id": "dCIjAF_efOZN",
        "outputId": "ce6e1b1d-d171-493a-a818-c5eecc67bc5d"
      },
      "execution_count": 98,
      "outputs": [
        {
          "output_type": "stream",
          "name": "stdout",
          "text": [
            "Before function execution\n",
            "Pakistan zinda bad\n",
            "After function execution\n"
          ]
        }
      ]
    },
    {
      "cell_type": "code",
      "source": [
        "# prompt: def my_decorator(func):\n",
        "#   def wrapper():\n",
        "#     print(\"Before function execution\")\n",
        "#     func()\n",
        "#     print(\"After function execution\")\n",
        "#   return wrapper\n",
        "# @my_decorator\n",
        "# def say_hello():\n",
        "#   \"\"\"\n",
        "#   This is the function that will be decorated.\n",
        "#   \"\"\"\n",
        "#   print(\"Hello!\")\n",
        "# say_hello()\n",
        "# convert in simple function approch\n",
        "\n",
        "def my_decorator(func):\n",
        "  def wrapper():\n",
        "    print(\"Before function execution\")\n",
        "    func()\n",
        "    print(\"After function execution\")\n",
        "  return wrapper\n",
        "\n",
        "def say_hello():\n",
        "  \"\"\"\n",
        "  This is the function that will be decorated.\n",
        "  \"\"\"\n",
        "  print(\"Hello!\")\n",
        "\n",
        "decorated_function = my_decorator(say_hello)\n",
        "decorated_function()\n"
      ],
      "metadata": {
        "colab": {
          "base_uri": "https://localhost:8080/"
        },
        "id": "jkG4_5H3fqnG",
        "outputId": "26237140-d3e9-44d3-81e7-38ea2307c83e"
      },
      "execution_count": 99,
      "outputs": [
        {
          "output_type": "stream",
          "name": "stdout",
          "text": [
            "Before function execution\n",
            "Hello!\n",
            "After function execution\n"
          ]
        }
      ]
    },
    {
      "cell_type": "code",
      "source": [],
      "metadata": {
        "id": "zSjiG7afgbkN"
      },
      "execution_count": null,
      "outputs": []
    }
  ]
}