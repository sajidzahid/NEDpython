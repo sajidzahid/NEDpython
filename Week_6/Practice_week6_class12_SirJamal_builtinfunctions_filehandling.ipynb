{
 "cells": [
  {
   "cell_type": "markdown",
   "metadata": {
    "id": "8Oy-FqXtmtmN"
   },
   "source": [
    "# Zip and Un-Zip Functions"
   ]
  },
  {
   "cell_type": "code",
   "execution_count": null,
   "metadata": {
    "id": "RiQ4XNkNoHYP"
   },
   "outputs": [],
   "source": [
    "import builtins"
   ]
  },
  {
   "cell_type": "code",
   "execution_count": null,
   "metadata": {
    "colab": {
     "base_uri": "https://localhost:8080/"
    },
    "id": "8i0bmJS4oCMM",
    "outputId": "a384ddae-0ccf-4515-91ce-f32dccac601f"
   },
   "outputs": [
    {
     "name": "stdout",
     "output_type": "stream",
     "text": [
      "['ArithmeticError', 'AssertionError', 'AttributeError', 'BaseException', 'BaseExceptionGroup', 'BlockingIOError', 'BrokenPipeError', 'BufferError', 'BytesWarning', 'ChildProcessError', 'ConnectionAbortedError', 'ConnectionError', 'ConnectionRefusedError', 'ConnectionResetError', 'DeprecationWarning', 'EOFError', 'Ellipsis', 'EncodingWarning', 'EnvironmentError', 'Exception', 'ExceptionGroup', 'False', 'FileExistsError', 'FileNotFoundError', 'FloatingPointError', 'FutureWarning', 'GeneratorExit', 'IOError', 'ImportError', 'ImportWarning', 'IndentationError', 'IndexError', 'InterruptedError', 'IsADirectoryError', 'KeyError', 'KeyboardInterrupt', 'LookupError', 'MemoryError', 'ModuleNotFoundError', 'NameError', 'None', 'NotADirectoryError', 'NotImplemented', 'NotImplementedError', 'OSError', 'OverflowError', 'PendingDeprecationWarning', 'PermissionError', 'ProcessLookupError', 'RecursionError', 'ReferenceError', 'ResourceWarning', 'RuntimeError', 'RuntimeWarning', 'StopAsyncIteration', 'StopIteration', 'SyntaxError', 'SyntaxWarning', 'SystemError', 'SystemExit', 'TabError', 'TimeoutError', 'True', 'TypeError', 'UnboundLocalError', 'UnicodeDecodeError', 'UnicodeEncodeError', 'UnicodeError', 'UnicodeTranslateError', 'UnicodeWarning', 'UserWarning', 'ValueError', 'Warning', 'ZeroDivisionError', '__IPYTHON__', '__build_class__', '__debug__', '__doc__', '__import__', '__loader__', '__name__', '__package__', '__pybind11_internals_v4_gcc_libstdcpp_cxxabi1014__', '__spec__', 'abs', 'aiter', 'all', 'anext', 'any', 'ascii', 'bin', 'bool', 'breakpoint', 'bytearray', 'bytes', 'callable', 'chr', 'classmethod', 'compile', 'complex', 'copyright', 'credits', 'delattr', 'dict', 'dir', 'display', 'divmod', 'enumerate', 'eval', 'exec', 'execfile', 'filter', 'float', 'format', 'frozenset', 'get_ipython', 'getattr', 'globals', 'hasattr', 'hash', 'help', 'hex', 'id', 'input', 'int', 'isinstance', 'issubclass', 'iter', 'len', 'license', 'list', 'locals', 'map', 'max', 'memoryview', 'min', 'next', 'object', 'oct', 'open', 'ord', 'pow', 'print', 'property', 'range', 'repr', 'reversed', 'round', 'runfile', 'set', 'setattr', 'slice', 'sorted', 'staticmethod', 'str', 'sum', 'super', 'tuple', 'type', 'vars', 'zip']\n"
     ]
    }
   ],
   "source": [
    "print(dir(builtins))"
   ]
  },
  {
   "cell_type": "markdown",
   "metadata": {
    "id": "qAnGMemdsqwL"
   },
   "source": [
    "# To print the list with serial numbers of any methods, Functions, . This below method will be used. :"
   ]
  },
  {
   "cell_type": "code",
   "execution_count": null,
   "metadata": {
    "colab": {
     "base_uri": "https://localhost:8080/"
    },
    "id": "25Q-dM6MolS9",
    "outputId": "34b0fdc4-3602-49c1-ce89-b5da5c7c056d"
   },
   "outputs": [
    {
     "name": "stdout",
     "output_type": "stream",
     "text": [
      "1. ArithmeticError\n",
      "2. AssertionError\n",
      "3. AttributeError\n",
      "4. BaseException\n",
      "5. BaseExceptionGroup\n",
      "6. BlockingIOError\n",
      "7. BrokenPipeError\n",
      "8. BufferError\n",
      "9. BytesWarning\n",
      "10. ChildProcessError\n",
      "11. ConnectionAbortedError\n",
      "12. ConnectionError\n",
      "13. ConnectionRefusedError\n",
      "14. ConnectionResetError\n",
      "15. DeprecationWarning\n",
      "16. EOFError\n",
      "17. Ellipsis\n",
      "18. EncodingWarning\n",
      "19. EnvironmentError\n",
      "20. Exception\n",
      "21. ExceptionGroup\n",
      "22. False\n",
      "23. FileExistsError\n",
      "24. FileNotFoundError\n",
      "25. FloatingPointError\n",
      "26. FutureWarning\n",
      "27. GeneratorExit\n",
      "28. IOError\n",
      "29. ImportError\n",
      "30. ImportWarning\n",
      "31. IndentationError\n",
      "32. IndexError\n",
      "33. InterruptedError\n",
      "34. IsADirectoryError\n",
      "35. KeyError\n",
      "36. KeyboardInterrupt\n",
      "37. LookupError\n",
      "38. MemoryError\n",
      "39. ModuleNotFoundError\n",
      "40. NameError\n",
      "41. None\n",
      "42. NotADirectoryError\n",
      "43. NotImplemented\n",
      "44. NotImplementedError\n",
      "45. OSError\n",
      "46. OverflowError\n",
      "47. PendingDeprecationWarning\n",
      "48. PermissionError\n",
      "49. ProcessLookupError\n",
      "50. RecursionError\n",
      "51. ReferenceError\n",
      "52. ResourceWarning\n",
      "53. RuntimeError\n",
      "54. RuntimeWarning\n",
      "55. StopAsyncIteration\n",
      "56. StopIteration\n",
      "57. SyntaxError\n",
      "58. SyntaxWarning\n",
      "59. SystemError\n",
      "60. SystemExit\n",
      "61. TabError\n",
      "62. TimeoutError\n",
      "63. True\n",
      "64. TypeError\n",
      "65. UnboundLocalError\n",
      "66. UnicodeDecodeError\n",
      "67. UnicodeEncodeError\n",
      "68. UnicodeError\n",
      "69. UnicodeTranslateError\n",
      "70. UnicodeWarning\n",
      "71. UserWarning\n",
      "72. ValueError\n",
      "73. Warning\n",
      "74. ZeroDivisionError\n",
      "75. abs\n",
      "76. aiter\n",
      "77. all\n",
      "78. anext\n",
      "79. any\n",
      "80. ascii\n",
      "81. bin\n",
      "82. bool\n",
      "83. breakpoint\n",
      "84. bytearray\n",
      "85. bytes\n",
      "86. callable\n",
      "87. chr\n",
      "88. classmethod\n",
      "89. compile\n",
      "90. complex\n",
      "91. copyright\n",
      "92. credits\n",
      "93. delattr\n",
      "94. dict\n",
      "95. dir\n",
      "96. display\n",
      "97. divmod\n",
      "98. enumerate\n",
      "99. eval\n",
      "100. exec\n",
      "101. execfile\n",
      "102. filter\n",
      "103. float\n",
      "104. format\n",
      "105. frozenset\n",
      "106. get_ipython\n",
      "107. getattr\n",
      "108. globals\n",
      "109. hasattr\n",
      "110. hash\n",
      "111. help\n",
      "112. hex\n",
      "113. id\n",
      "114. input\n",
      "115. int\n",
      "116. isinstance\n",
      "117. issubclass\n",
      "118. iter\n",
      "119. len\n",
      "120. license\n",
      "121. list\n",
      "122. locals\n",
      "123. map\n",
      "124. max\n",
      "125. memoryview\n",
      "126. min\n",
      "127. next\n",
      "128. object\n",
      "129. oct\n",
      "130. open\n",
      "131. ord\n",
      "132. pow\n",
      "133. print\n",
      "134. property\n",
      "135. range\n",
      "136. repr\n",
      "137. reversed\n",
      "138. round\n",
      "139. runfile\n",
      "140. set\n",
      "141. setattr\n",
      "142. slice\n",
      "143. sorted\n",
      "144. staticmethod\n",
      "145. str\n",
      "146. sum\n",
      "147. super\n",
      "148. tuple\n",
      "149. type\n",
      "150. vars\n",
      "151. zip\n"
     ]
    }
   ],
   "source": [
    "functions1 = [method for method in dir(builtins) if not method.startswith('__')]\n",
    "for function, method in enumerate(functions1):\n",
    "    print(f'{function+1}. {method}')"
   ]
  },
  {
   "cell_type": "code",
   "execution_count": null,
   "metadata": {
    "id": "nDqpwj9cn0Im"
   },
   "outputs": [],
   "source": [
    "# prompt: how to see list of built in function\n",
    "\n",
    "# # Zip and Un-Zip Functions\n",
    "\n",
    "import builtins\n",
    "\n",
    "print(dir(builtins))\n"
   ]
  },
  {
   "cell_type": "code",
   "execution_count": null,
   "metadata": {
    "colab": {
     "base_uri": "https://localhost:8080/"
    },
    "id": "svys0LLHlh7T",
    "outputId": "2efa8795-6698-430b-f697-de575bc5cf46"
   },
   "outputs": [
    {
     "name": "stdout",
     "output_type": "stream",
     "text": [
      "Jamal\n",
      "Hasan\n",
      "Zain\n",
      "Haris\n",
      "Apple\n",
      "Mango\n",
      "Banana\n",
      "Guava\n",
      "11\n",
      "21\n",
      "31\n",
      "41\n"
     ]
    }
   ],
   "source": [
    "names = [\"Jamal\", \"Hasan\", \"Zain\", \"Haris\"]\n",
    "fruits = [\"Apple\", \"Mango\", \"Banana\", \"Guava\"]\n",
    "numbers = [11,21,31,41]\n",
    "for name in names:\n",
    "    print(name)\n",
    "for fruit in fruits:\n",
    "    print(fruit)\n",
    "for number in numbers:\n",
    "    print(number)"
   ]
  },
  {
   "cell_type": "code",
   "execution_count": null,
   "metadata": {
    "colab": {
     "base_uri": "https://localhost:8080/"
    },
    "id": "go616I1BmC8m",
    "outputId": "1b1a7d2d-15b4-4965-d621-c20cfbcb5273"
   },
   "outputs": [
    {
     "name": "stdout",
     "output_type": "stream",
     "text": [
      "Jamal Apple 11\n",
      "Hasan Mango 21\n",
      "Zain Banana 31\n",
      "Haris Guava 41\n"
     ]
    }
   ],
   "source": [
    "names = [\"Jamal\", \"Hasan\", \"Zain\", \"Haris\"]\n",
    "fruits = [\"Apple\", \"Mango\", \"Banana\", \"Guava\"]\n",
    "numbers = [11,21,31,41]\n",
    "for name, fruit, number in zip(names, fruits, numbers):\n",
    "  print(name, fruit, number)"
   ]
  },
  {
   "cell_type": "code",
   "execution_count": null,
   "metadata": {
    "colab": {
     "base_uri": "https://localhost:8080/"
    },
    "id": "OBokAgFcmfSn",
    "outputId": "bf3348fe-5af1-445d-e1a7-2d4c0799d61a"
   },
   "outputs": [
    {
     "name": "stdout",
     "output_type": "stream",
     "text": [
      "Ned: University = 0042\n",
      "PDG: Data Science = 0052\n",
      "Course: Python = 0062\n"
     ]
    }
   ],
   "source": [
    "# Data from w3school for Practicing.\n",
    "\n",
    "a = (\"Ned:\", \"PDG:\", \"Course:\")\n",
    "b = (\"University =\", \"Data Science =\", \"Python =\")\n",
    "c = (\"0042\", \"0052\", \"0062\", \"0072\")\n",
    "for a1, b1, c1 in zip(a, b, c):\n",
    "  print(a1,b1,c1)"
   ]
  },
  {
   "cell_type": "code",
   "execution_count": null,
   "metadata": {
    "colab": {
     "base_uri": "https://localhost:8080/"
    },
    "id": "SytRDsGVnqDB",
    "outputId": "9ad3117b-a784-4cf6-ea54-6e7f3e205521"
   },
   "outputs": [
    {
     "name": "stdout",
     "output_type": "stream",
     "text": [
      "John Jenny 11\n",
      "Charles Christy 21\n",
      "Mike Monica 31\n"
     ]
    }
   ],
   "source": [
    "# Data from w3school for Practicing.\n",
    "\n",
    "a = (\"John\", \"Charles\", \"Mike\")\n",
    "b = (\"Jenny\", \"Christy\", \"Monica\")\n",
    "c = (\"11\",\"21\",\"31\",\"41\",\"51\")\n",
    "for a1, b1, c1 in zip(a, b, c):\n",
    "  print(a1,b1,c1)"
   ]
  },
  {
   "cell_type": "code",
   "execution_count": null,
   "metadata": {
    "colab": {
     "base_uri": "https://localhost:8080/"
    },
    "id": "SM7EVDzkq9uI",
    "outputId": "711cac37-1745-4bb9-82f6-0e78de88ce16"
   },
   "outputs": [
    {
     "name": "stdout",
     "output_type": "stream",
     "text": [
      "Ned University = 0042\n",
      "PDG > Data Science = 0052\n",
      "Course > Python = 0062\n"
     ]
    }
   ],
   "source": [
    "# Data from w3school for Practicing.\n",
    "\n",
    "a = (\"Ned\", \"PDG >\", \"Course >\")\n",
    "b = (\"University =\", \"Data Science =\", \"Python =\")\n",
    "c = (\"0042\", \"0052\", \"0062\", \"0072\")\n",
    "for a1, b1, c1 in zip(a, b, c):\n",
    "  print(a1,b1,c1)"
   ]
  },
  {
   "cell_type": "code",
   "execution_count": null,
   "metadata": {
    "id": "vbBWOc2XsA6h"
   },
   "outputs": [],
   "source": []
  },
  {
   "cell_type": "markdown",
   "metadata": {
    "id": "OpwZhsNyu1Kl"
   },
   "source": [
    "# File Handling\n",
    "\n",
    "* File handling is an important part of any web application.\n",
    "\n",
    "* Python has several functions for creating, reading, updating, and deleting files.\n",
    "\n",
    "# File Handling\n",
    "* The key function for working with files in Python is the open() function.\n",
    "\n",
    "* The open() function takes two parameters; filename, and mode.\n",
    "\n",
    "* There are four different methods (modes) for opening a file:\n",
    "\n",
    "    1. \"r\" - Read - Default value. Opens a file for reading, error if the file does not exist\n",
    "\n",
    "    2. \"a\" - Append - Opens a file for appending, creates the file if it does not exist\n",
    "\n",
    "    3. \"w\" - Write - Opens a file for writing, creates the file if it does not exist\n",
    "\n",
    "    4. \"x\" - Create - Creates the specified file, returns an error if the file exists\n",
    "\n",
    "* In addition you can specify if the file should be handled as binary or text mode\n",
    "\n",
    "    1. \"t\" - Text - Default value. Text mode\n",
    "\n",
    "    2. \"b\" - Binary - Binary mode (e.g. images)"
   ]
  },
  {
   "cell_type": "code",
   "execution_count": null,
   "metadata": {
    "colab": {
     "base_uri": "https://localhost:8080/",
     "height": 211
    },
    "id": "PcPTrudpvDrn",
    "outputId": "bcb2dbd8-ffbe-4014-9386-11aee41b6f71"
   },
   "outputs": [
    {
     "ename": "FileNotFoundError",
     "evalue": "[Errno 2] No such file or directory: 'D:\\\\HP Data\\\\COURSES\\\\PythonFileHandling\\\\Deepseekideas.txt'",
     "output_type": "error",
     "traceback": [
      "\u001b[0;31m---------------------------------------------------------------------------\u001b[0m",
      "\u001b[0;31mFileNotFoundError\u001b[0m                         Traceback (most recent call last)",
      "\u001b[0;32m<ipython-input-58-e5c66d73dcb7>\u001b[0m in \u001b[0;36m<cell line: 0>\u001b[0;34m()\u001b[0m\n\u001b[0;32m----> 1\u001b[0;31m \u001b[0mfile\u001b[0m \u001b[0;34m=\u001b[0m \u001b[0mopen\u001b[0m\u001b[0;34m(\u001b[0m\u001b[0;34mr\"D:\\HP Data\\COURSES\\PythonFileHandling\\Deepseekideas.txt\"\u001b[0m\u001b[0;34m,\u001b[0m\u001b[0;34m\"r\"\u001b[0m\u001b[0;34m)\u001b[0m\u001b[0;34m\u001b[0m\u001b[0;34m\u001b[0m\u001b[0m\n\u001b[0m\u001b[1;32m      2\u001b[0m \u001b[0mcontents\u001b[0m \u001b[0;34m=\u001b[0m \u001b[0mfile\u001b[0m\u001b[0;34m.\u001b[0m\u001b[0mread\u001b[0m\u001b[0;34m(\u001b[0m\u001b[0;34m)\u001b[0m\u001b[0;34m\u001b[0m\u001b[0;34m\u001b[0m\u001b[0m\n\u001b[1;32m      3\u001b[0m \u001b[0mfile\u001b[0m\u001b[0;34m.\u001b[0m\u001b[0mclose\u001b[0m\u001b[0;34m(\u001b[0m\u001b[0;34m)\u001b[0m\u001b[0;34m\u001b[0m\u001b[0;34m\u001b[0m\u001b[0m\n\u001b[1;32m      4\u001b[0m \u001b[0mprint\u001b[0m\u001b[0;34m(\u001b[0m\u001b[0mcontents\u001b[0m\u001b[0;34m)\u001b[0m\u001b[0;34m\u001b[0m\u001b[0;34m\u001b[0m\u001b[0m\n",
      "\u001b[0;31mFileNotFoundError\u001b[0m: [Errno 2] No such file or directory: 'D:\\\\HP Data\\\\COURSES\\\\PythonFileHandling\\\\Deepseekideas.txt'"
     ]
    }
   ],
   "source": [
    "file = open(r\"D:\\HP Data\\COURSES\\PythonFileHandling\\Deepseekideas.txt\",\"r\")\n",
    "contents = file.read()\n",
    "file.close()\n",
    "print(contents)"
   ]
  },
  {
   "cell_type": "code",
   "execution_count": null,
   "metadata": {
    "colab": {
     "base_uri": "https://localhost:8080/",
     "height": 193
    },
    "id": "magl0tdv_6eH",
    "outputId": "9c642ec7-b70f-4985-8d86-80066bc9820f"
   },
   "outputs": [
    {
     "ename": "FileNotFoundError",
     "evalue": "[Errno 2] No such file or directory: 'C:\\\\Users\\\\Sajid\\\\Desktop\\\\Deepseekideas.txt'",
     "output_type": "error",
     "traceback": [
      "\u001b[0;31m---------------------------------------------------------------------------\u001b[0m",
      "\u001b[0;31mFileNotFoundError\u001b[0m                         Traceback (most recent call last)",
      "\u001b[0;32m<ipython-input-60-6d93ae3de820>\u001b[0m in \u001b[0;36m<cell line: 0>\u001b[0;34m()\u001b[0m\n\u001b[0;32m----> 1\u001b[0;31m \u001b[0mfile\u001b[0m \u001b[0;34m=\u001b[0m \u001b[0mopen\u001b[0m\u001b[0;34m(\u001b[0m\u001b[0;34mr\"C:\\Users\\Sajid\\Desktop\\Deepseekideas.txt\"\u001b[0m\u001b[0;34m,\u001b[0m\u001b[0;34m\"r\"\u001b[0m\u001b[0;34m)\u001b[0m\u001b[0;34m\u001b[0m\u001b[0;34m\u001b[0m\u001b[0m\n\u001b[0m\u001b[1;32m      2\u001b[0m \u001b[0mcontents\u001b[0m \u001b[0;34m=\u001b[0m \u001b[0mfile\u001b[0m\u001b[0;34m.\u001b[0m\u001b[0mread\u001b[0m\u001b[0;34m(\u001b[0m\u001b[0;34m)\u001b[0m\u001b[0;34m\u001b[0m\u001b[0;34m\u001b[0m\u001b[0m\n\u001b[1;32m      3\u001b[0m \u001b[0mfile\u001b[0m\u001b[0;34m.\u001b[0m\u001b[0mclose\u001b[0m\u001b[0;34m(\u001b[0m\u001b[0;34m)\u001b[0m\u001b[0;34m\u001b[0m\u001b[0;34m\u001b[0m\u001b[0m\n\u001b[1;32m      4\u001b[0m \u001b[0mprint\u001b[0m\u001b[0;34m(\u001b[0m\u001b[0mcontents\u001b[0m\u001b[0;34m)\u001b[0m\u001b[0;34m\u001b[0m\u001b[0;34m\u001b[0m\u001b[0m\n",
      "\u001b[0;31mFileNotFoundError\u001b[0m: [Errno 2] No such file or directory: 'C:\\\\Users\\\\Sajid\\\\Desktop\\\\Deepseekideas.txt'"
     ]
    }
   ],
   "source": [
    "file = open(r\"C:\\Users\\Sajid\\Desktop\\Deepseekideas.txt\",\"r\")\n",
    "contents = file.read()\n",
    "file.close()\n",
    "print(contents)"
   ]
  },
  {
   "cell_type": "code",
   "execution_count": null,
   "metadata": {
    "colab": {
     "base_uri": "https://localhost:8080/",
     "height": 141
    },
    "id": "DuTrlhVyAJUg",
    "outputId": "6022cc72-6977-4862-992c-f732a097aadf"
   },
   "outputs": [
    {
     "ename": "FileNotFoundError",
     "evalue": "[Errno 2] No such file or directory: 'C:\\\\Users\\\\Sajid\\\\Desktop\\\\Deepseekideas.txt'",
     "output_type": "error",
     "traceback": [
      "\u001b[0;31m---------------------------------------------------------------------------\u001b[0m",
      "\u001b[0;31mFileNotFoundError\u001b[0m                         Traceback (most recent call last)",
      "\u001b[0;32m<ipython-input-68-3b7a58bf7a15>\u001b[0m in \u001b[0;36m<cell line: 0>\u001b[0;34m()\u001b[0m\n\u001b[0;32m----> 1\u001b[0;31m \u001b[0mfile\u001b[0m \u001b[0;34m=\u001b[0m \u001b[0mopen\u001b[0m\u001b[0;34m(\u001b[0m\u001b[0;34mr\"C:\\Users\\Sajid\\Desktop\\Deepseekideas.txt\"\u001b[0m\u001b[0;34m,\u001b[0m \u001b[0;34m\"r\"\u001b[0m\u001b[0;34m)\u001b[0m\u001b[0;34m\u001b[0m\u001b[0;34m\u001b[0m\u001b[0m\n\u001b[0m",
      "\u001b[0;31mFileNotFoundError\u001b[0m: [Errno 2] No such file or directory: 'C:\\\\Users\\\\Sajid\\\\Desktop\\\\Deepseekideas.txt'"
     ]
    }
   ],
   "source": [
    "file = open(r\"C:\\Users\\Sajid\\Desktop\\Deepseekideas.txt\", \"r\")"
   ]
  },
  {
   "cell_type": "code",
   "execution_count": null,
   "metadata": {
    "colab": {
     "base_uri": "https://localhost:8080/",
     "height": 124
    },
    "id": "yE-g-0RoA3SL",
    "outputId": "9c424177-06a6-4c71-e858-b7a62a85abbf"
   },
   "outputs": [
    {
     "ename": "SyntaxError",
     "evalue": "(unicode error) 'unicodeescape' codec can't decode bytes in position 2-3: truncated \\UXXXXXXXX escape (<ipython-input-73-be954e50f35b>, line 1)",
     "output_type": "error",
     "traceback": [
      "\u001b[0;36m  File \u001b[0;32m\"<ipython-input-73-be954e50f35b>\"\u001b[0;36m, line \u001b[0;32m1\u001b[0m\n\u001b[0;31m    file = open(\"C:\\Users\\Sajid\\Desktop\\Deepseekideas.txt\", \"r\")\u001b[0m\n\u001b[0m                                                          ^\u001b[0m\n\u001b[0;31mSyntaxError\u001b[0m\u001b[0;31m:\u001b[0m (unicode error) 'unicodeescape' codec can't decode bytes in position 2-3: truncated \\UXXXXXXXX escape\n"
     ]
    }
   ],
   "source": [
    "file = open(\"C:\\Users\\Sajid\\Desktop\\Deepseekideas.txt\", \"r\")\n"
   ]
  },
  {
   "cell_type": "code",
   "execution_count": null,
   "metadata": {
    "colab": {
     "base_uri": "https://localhost:8080/",
     "height": 141
    },
    "id": "jmSbICGiCJKF",
    "outputId": "c713253d-29d7-42b4-e710-a19b06ee7138"
   },
   "outputs": [
    {
     "ename": "FileNotFoundError",
     "evalue": "[Errno 2] No such file or directory: 'C:\\\\Users\\\\Sajid\\\\Desktop\\\\Deepseekideas.txt'",
     "output_type": "error",
     "traceback": [
      "\u001b[0;31m---------------------------------------------------------------------------\u001b[0m",
      "\u001b[0;31mFileNotFoundError\u001b[0m                         Traceback (most recent call last)",
      "\u001b[0;32m<ipython-input-70-ed090c0f4f67>\u001b[0m in \u001b[0;36m<cell line: 0>\u001b[0;34m()\u001b[0m\n\u001b[0;32m----> 1\u001b[0;31m \u001b[0mfile\u001b[0m \u001b[0;34m=\u001b[0m \u001b[0mopen\u001b[0m\u001b[0;34m(\u001b[0m\u001b[0;34m\"C:\\\\Users\\\\Sajid\\\\Desktop\\\\Deepseekideas.txt\"\u001b[0m\u001b[0;34m,\u001b[0m \u001b[0;34m\"r\"\u001b[0m\u001b[0;34m)\u001b[0m\u001b[0;34m\u001b[0m\u001b[0;34m\u001b[0m\u001b[0m\n\u001b[0m",
      "\u001b[0;31mFileNotFoundError\u001b[0m: [Errno 2] No such file or directory: 'C:\\\\Users\\\\Sajid\\\\Desktop\\\\Deepseekideas.txt'"
     ]
    }
   ],
   "source": [
    "file = open(\"C:\\\\Users\\\\Sajid\\\\Desktop\\\\Deepseekideas.txt\", \"r\")"
   ]
  },
  {
   "cell_type": "code",
   "execution_count": null,
   "metadata": {
    "colab": {
     "base_uri": "https://localhost:8080/",
     "height": 176
    },
    "id": "hOAgTPNHCVWz",
    "outputId": "c4ff72fb-3653-47ed-e8fd-2cb24837dcd8"
   },
   "outputs": [
    {
     "ename": "FileNotFoundError",
     "evalue": "[Errno 2] No such file or directory: 'C:\\\\Users\\\\Sajid\\\\Desktop\\\\Deepseekideas.txt'",
     "output_type": "error",
     "traceback": [
      "\u001b[0;31m---------------------------------------------------------------------------\u001b[0m",
      "\u001b[0;31mFileNotFoundError\u001b[0m                         Traceback (most recent call last)",
      "\u001b[0;32m<ipython-input-74-00e883f3854d>\u001b[0m in \u001b[0;36m<cell line: 0>\u001b[0;34m()\u001b[0m\n\u001b[0;32m----> 1\u001b[0;31m \u001b[0;32mwith\u001b[0m \u001b[0mopen\u001b[0m\u001b[0;34m(\u001b[0m\u001b[0;34mr\"C:\\Users\\Sajid\\Desktop\\Deepseekideas.txt\"\u001b[0m\u001b[0;34m,\u001b[0m \u001b[0;34m\"r\"\u001b[0m\u001b[0;34m)\u001b[0m \u001b[0;32mas\u001b[0m \u001b[0mfile\u001b[0m\u001b[0;34m:\u001b[0m\u001b[0;34m\u001b[0m\u001b[0;34m\u001b[0m\u001b[0m\n\u001b[0m\u001b[1;32m      2\u001b[0m     \u001b[0mcontent\u001b[0m \u001b[0;34m=\u001b[0m \u001b[0mfile\u001b[0m\u001b[0;34m.\u001b[0m\u001b[0mread\u001b[0m\u001b[0;34m(\u001b[0m\u001b[0;34m)\u001b[0m\u001b[0;34m\u001b[0m\u001b[0;34m\u001b[0m\u001b[0m\n\u001b[1;32m      3\u001b[0m     \u001b[0mprint\u001b[0m\u001b[0;34m(\u001b[0m\u001b[0mcontent\u001b[0m\u001b[0;34m)\u001b[0m  \u001b[0;31m# Or process the file content as needed\u001b[0m\u001b[0;34m\u001b[0m\u001b[0;34m\u001b[0m\u001b[0m\n",
      "\u001b[0;31mFileNotFoundError\u001b[0m: [Errno 2] No such file or directory: 'C:\\\\Users\\\\Sajid\\\\Desktop\\\\Deepseekideas.txt'"
     ]
    }
   ],
   "source": [
    "with open(r\"C:\\Users\\Sajid\\Desktop\\Deepseekideas.txt\", \"r\") as file:\n",
    "    content = file.read()\n",
    "    print(content)  # Or process the file content as needed"
   ]
  },
  {
   "cell_type": "code",
   "execution_count": null,
   "metadata": {
    "colab": {
     "base_uri": "https://localhost:8080/",
     "height": 141
    },
    "id": "imF1qjN9CsAV",
    "outputId": "ba2a037b-c4e6-48d3-b461-a5770e7b131b"
   },
   "outputs": [
    {
     "ename": "FileNotFoundError",
     "evalue": "[Errno 2] No such file or directory: 'C:\\\\Users\\\\Sajid\\\\Desktop\\\\Deepseekideas.txt'",
     "output_type": "error",
     "traceback": [
      "\u001b[0;31m---------------------------------------------------------------------------\u001b[0m",
      "\u001b[0;31mFileNotFoundError\u001b[0m                         Traceback (most recent call last)",
      "\u001b[0;32m<ipython-input-76-3b7a58bf7a15>\u001b[0m in \u001b[0;36m<cell line: 0>\u001b[0;34m()\u001b[0m\n\u001b[0;32m----> 1\u001b[0;31m \u001b[0mfile\u001b[0m \u001b[0;34m=\u001b[0m \u001b[0mopen\u001b[0m\u001b[0;34m(\u001b[0m\u001b[0;34mr\"C:\\Users\\Sajid\\Desktop\\Deepseekideas.txt\"\u001b[0m\u001b[0;34m,\u001b[0m \u001b[0;34m\"r\"\u001b[0m\u001b[0;34m)\u001b[0m\u001b[0;34m\u001b[0m\u001b[0;34m\u001b[0m\u001b[0m\n\u001b[0m",
      "\u001b[0;31mFileNotFoundError\u001b[0m: [Errno 2] No such file or directory: 'C:\\\\Users\\\\Sajid\\\\Desktop\\\\Deepseekideas.txt'"
     ]
    }
   ],
   "source": [
    "file = open(r\"C:\\Users\\Sajid\\Desktop\\Deepseekideas.txt\", \"r\")"
   ]
  },
  {
   "cell_type": "code",
   "execution_count": null,
   "metadata": {
    "colab": {
     "base_uri": "https://localhost:8080/",
     "height": 176
    },
    "id": "y8DhgXv2Dhmh",
    "outputId": "8904208a-d037-44d5-9073-9c9daca05f2c"
   },
   "outputs": [
    {
     "ename": "FileNotFoundError",
     "evalue": "[Errno 2] No such file or directory: 'D:\\\\HP Data\\\\COURSES\\\\NED UNIVERSITY\\\\COURSES\\\\PYTHON\\\\CLASS WISE WORK\\\\CLASSES WISE DATA\\\\NEDpython\\\\Week_6\\\\Deepseekideas.txt'",
     "output_type": "error",
     "traceback": [
      "\u001b[0;31m---------------------------------------------------------------------------\u001b[0m",
      "\u001b[0;31mFileNotFoundError\u001b[0m                         Traceback (most recent call last)",
      "\u001b[0;32m<ipython-input-78-d164dfab97e2>\u001b[0m in \u001b[0;36m<cell line: 0>\u001b[0;34m()\u001b[0m\n\u001b[0;32m----> 1\u001b[0;31m \u001b[0mfile\u001b[0m \u001b[0;34m=\u001b[0m \u001b[0mopen\u001b[0m\u001b[0;34m(\u001b[0m\u001b[0;34mr\"D:\\HP Data\\COURSES\\NED UNIVERSITY\\COURSES\\PYTHON\\CLASS WISE WORK\\CLASSES WISE DATA\\NEDpython\\Week_6\\Deepseekideas.txt\"\u001b[0m\u001b[0;34m,\u001b[0m\u001b[0;34m\"r\"\u001b[0m\u001b[0;34m)\u001b[0m\u001b[0;34m\u001b[0m\u001b[0;34m\u001b[0m\u001b[0m\n\u001b[0m",
      "\u001b[0;31mFileNotFoundError\u001b[0m: [Errno 2] No such file or directory: 'D:\\\\HP Data\\\\COURSES\\\\NED UNIVERSITY\\\\COURSES\\\\PYTHON\\\\CLASS WISE WORK\\\\CLASSES WISE DATA\\\\NEDpython\\\\Week_6\\\\Deepseekideas.txt'"
     ]
    }
   ],
   "source": [
    "file = open(r\"D:\\HP Data\\COURSES\\NED UNIVERSITY\\COURSES\\PYTHON\\CLASS WISE WORK\\CLASSES WISE DATA\\NEDpython\\Week_6\\Deepseekideas.txt\",\"r\")"
   ]
  },
  {
   "cell_type": "code",
   "execution_count": null,
   "metadata": {
    "colab": {
     "base_uri": "https://localhost:8080/",
     "height": 141
    },
    "id": "CLH-NvQMFcYJ",
    "outputId": "4873b75a-1400-4e67-a792-eb5fb93b003f"
   },
   "outputs": [
    {
     "ename": "FileNotFoundError",
     "evalue": "[Errno 2] No such file or directory: 'Deepseekideas.txt'",
     "output_type": "error",
     "traceback": [
      "\u001b[0;31m---------------------------------------------------------------------------\u001b[0m",
      "\u001b[0;31mFileNotFoundError\u001b[0m                         Traceback (most recent call last)",
      "\u001b[0;32m<ipython-input-82-237f22ba433f>\u001b[0m in \u001b[0;36m<cell line: 0>\u001b[0;34m()\u001b[0m\n\u001b[0;32m----> 1\u001b[0;31m \u001b[0mfile\u001b[0m \u001b[0;34m=\u001b[0m \u001b[0mopen\u001b[0m\u001b[0;34m(\u001b[0m\u001b[0;34m\"Deepseekideas.txt\"\u001b[0m\u001b[0;34m,\u001b[0m\u001b[0;34m\"rt\"\u001b[0m\u001b[0;34m)\u001b[0m\u001b[0;34m\u001b[0m\u001b[0;34m\u001b[0m\u001b[0m\n\u001b[0m",
      "\u001b[0;31mFileNotFoundError\u001b[0m: [Errno 2] No such file or directory: 'Deepseekideas.txt'"
     ]
    }
   ],
   "source": [
    "file = open(\"Deepseekideas.txt\",\"rt\")"
   ]
  },
  {
   "cell_type": "code",
   "execution_count": null,
   "metadata": {
    "colab": {
     "base_uri": "https://localhost:8080/",
     "height": 141
    },
    "id": "xmxkn_wgFrzi",
    "outputId": "f203a026-8e5d-45e7-de9f-e0cfeca194ba"
   },
   "outputs": [
    {
     "ename": "FileNotFoundError",
     "evalue": "[Errno 2] No such file or directory: 'C:\\\\Users\\\\Sajid\\\\Desktop\\\\Deepseekidea.docx'",
     "output_type": "error",
     "traceback": [
      "\u001b[0;31m---------------------------------------------------------------------------\u001b[0m",
      "\u001b[0;31mFileNotFoundError\u001b[0m                         Traceback (most recent call last)",
      "\u001b[0;32m<ipython-input-2-40ccdfbfa97f>\u001b[0m in \u001b[0;36m<cell line: 0>\u001b[0;34m()\u001b[0m\n\u001b[0;32m----> 1\u001b[0;31m \u001b[0mfile\u001b[0m \u001b[0;34m=\u001b[0m \u001b[0mopen\u001b[0m\u001b[0;34m(\u001b[0m\u001b[0;34mr\"C:\\Users\\Sajid\\Desktop\\Deepseekidea.docx\"\u001b[0m\u001b[0;34m,\u001b[0m \u001b[0;34m\"r\"\u001b[0m\u001b[0;34m)\u001b[0m\u001b[0;34m\u001b[0m\u001b[0;34m\u001b[0m\u001b[0m\n\u001b[0m",
      "\u001b[0;31mFileNotFoundError\u001b[0m: [Errno 2] No such file or directory: 'C:\\\\Users\\\\Sajid\\\\Desktop\\\\Deepseekidea.docx'"
     ]
    }
   ],
   "source": [
    "file = open(r\"C:\\Users\\Sajid\\Desktop\\Deepseekidea.docx\", \"r\")"
   ]
  },
  {
   "cell_type": "code",
   "execution_count": null,
   "metadata": {
    "colab": {
     "base_uri": "https://localhost:8080/",
     "height": 141
    },
    "id": "GsHtcMPPfD7y",
    "outputId": "f5869a0e-e8a2-434c-9410-06b4eadb92a4"
   },
   "outputs": [
    {
     "ename": "FileNotFoundError",
     "evalue": "[Errno 2] No such file or directory: 'C:\\\\Users\\\\Sajid\\\\Desktop\\\\Deepseekidea.docx'",
     "output_type": "error",
     "traceback": [
      "\u001b[0;31m---------------------------------------------------------------------------\u001b[0m",
      "\u001b[0;31mFileNotFoundError\u001b[0m                         Traceback (most recent call last)",
      "\u001b[0;32m<ipython-input-3-02c018d7ed81>\u001b[0m in \u001b[0;36m<cell line: 0>\u001b[0;34m()\u001b[0m\n\u001b[0;32m----> 1\u001b[0;31m \u001b[0mfile_doc\u001b[0m \u001b[0;34m=\u001b[0m \u001b[0mopen\u001b[0m\u001b[0;34m(\u001b[0m\u001b[0;34mr\"C:\\Users\\Sajid\\Desktop\\Deepseekidea.docx\"\u001b[0m\u001b[0;34m,\u001b[0m \u001b[0;34m\"r\"\u001b[0m\u001b[0;34m)\u001b[0m\u001b[0;34m\u001b[0m\u001b[0;34m\u001b[0m\u001b[0m\n\u001b[0m",
      "\u001b[0;31mFileNotFoundError\u001b[0m: [Errno 2] No such file or directory: 'C:\\\\Users\\\\Sajid\\\\Desktop\\\\Deepseekidea.docx'"
     ]
    }
   ],
   "source": [
    "file_doc = open(r\"C:\\Users\\Sajid\\Desktop\\Deepseekidea.docx\", \"r\")"
   ]
  },
  {
   "cell_type": "code",
   "execution_count": null,
   "metadata": {
    "id": "B5eYfTOwfhud"
   },
   "outputs": [],
   "source": [
    "# prompt: file_doc = open(r\"C:\\Users\\Sajid\\Desktop\\Deepseekidea.docx\", \"r\")\n",
    "\n",
    "file_doc = open(r\"C:\\Users\\Sajid\\Desktop\\Deepseekidea.docx\", \"r\", encoding='latin-1') #added encoding to handle potential encoding issues\n",
    "contents = file_doc.read()\n",
    "file_doc.close()\n",
    "contents\n"
   ]
  },
  {
   "cell_type": "code",
   "execution_count": null,
   "metadata": {
    "colab": {
     "base_uri": "https://localhost:8080/",
     "height": 193
    },
    "id": "teU5-DdnftEP",
    "outputId": "fec2e58d-d115-4736-f934-15045424bf06"
   },
   "outputs": [
    {
     "ename": "FileNotFoundError",
     "evalue": "[Errno 2] No such file or directory: 'C:\\\\\\\\Users\\\\\\\\Sajid\\\\\\\\Desktop\\\\\\\\Deepseekidea.docx'",
     "output_type": "error",
     "traceback": [
      "\u001b[0;31m---------------------------------------------------------------------------\u001b[0m",
      "\u001b[0;31mFileNotFoundError\u001b[0m                         Traceback (most recent call last)",
      "\u001b[0;32m<ipython-input-5-1b50fcb77aaf>\u001b[0m in \u001b[0;36m<cell line: 0>\u001b[0;34m()\u001b[0m\n\u001b[0;32m----> 1\u001b[0;31m \u001b[0mfile_doc\u001b[0m \u001b[0;34m=\u001b[0m \u001b[0mopen\u001b[0m\u001b[0;34m(\u001b[0m\u001b[0;34mr\"C:\\\\Users\\\\Sajid\\\\Desktop\\\\Deepseekidea.docx\"\u001b[0m\u001b[0;34m,\u001b[0m \u001b[0;34m\"r\"\u001b[0m\u001b[0;34m,\u001b[0m \u001b[0mencoding\u001b[0m\u001b[0;34m=\u001b[0m\u001b[0;34m'latin-1'\u001b[0m\u001b[0;34m)\u001b[0m \u001b[0;31m#added encoding to handle potential encoding issues\u001b[0m\u001b[0;34m\u001b[0m\u001b[0;34m\u001b[0m\u001b[0m\n\u001b[0m\u001b[1;32m      2\u001b[0m \u001b[0mcontents\u001b[0m \u001b[0;34m=\u001b[0m \u001b[0mfile_doc\u001b[0m\u001b[0;34m.\u001b[0m\u001b[0mread\u001b[0m\u001b[0;34m(\u001b[0m\u001b[0;34m)\u001b[0m\u001b[0;34m\u001b[0m\u001b[0;34m\u001b[0m\u001b[0m\n\u001b[1;32m      3\u001b[0m \u001b[0mfile_doc\u001b[0m\u001b[0;34m.\u001b[0m\u001b[0mclose\u001b[0m\u001b[0;34m(\u001b[0m\u001b[0;34m)\u001b[0m\u001b[0;34m\u001b[0m\u001b[0;34m\u001b[0m\u001b[0m\n\u001b[1;32m      4\u001b[0m \u001b[0mcontents\u001b[0m\u001b[0;34m\u001b[0m\u001b[0;34m\u001b[0m\u001b[0m\n",
      "\u001b[0;31mFileNotFoundError\u001b[0m: [Errno 2] No such file or directory: 'C:\\\\\\\\Users\\\\\\\\Sajid\\\\\\\\Desktop\\\\\\\\Deepseekidea.docx'"
     ]
    }
   ],
   "source": [
    "file_doc = open(r\"C:\\Users\\Sajid\\Desktop\\Deepseekidea.docx\", \"r\", encoding='latin-1') #added encoding to handle potential encoding issues\n",
    "contents = file_doc.read()\n",
    "file_doc.close()\n",
    "contents"
   ]
  },
  {
   "cell_type": "code",
   "execution_count": 6,
   "metadata": {
    "id": "c-zSV9cZftlM"
   },
   "outputs": [],
   "source": [
    "file = open(r\"C:\\Users\\Sajid\\Desktop\\Deepseekideas.txt\", \"r\")"
   ]
  },
  {
   "cell_type": "code",
   "execution_count": 10,
   "metadata": {},
   "outputs": [],
   "source": [
    "file_news = open(r\"C:\\Users\\Sajid\\Desktop\\Deepseekideas.txt\",'r')"
   ]
  },
  {
   "cell_type": "code",
   "execution_count": null,
   "metadata": {},
   "outputs": [],
   "source": []
  }
 ],
 "metadata": {
  "colab": {
   "provenance": []
  },
  "kernelspec": {
   "display_name": "Python 3 (ipykernel)",
   "language": "python",
   "name": "python3"
  },
  "language_info": {
   "codemirror_mode": {
    "name": "ipython",
    "version": 3
   },
   "file_extension": ".py",
   "mimetype": "text/x-python",
   "name": "python",
   "nbconvert_exporter": "python",
   "pygments_lexer": "ipython3",
   "version": "3.11.5"
  }
 },
 "nbformat": 4,
 "nbformat_minor": 4
}
