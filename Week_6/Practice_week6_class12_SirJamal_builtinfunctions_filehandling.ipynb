{
  "cells": [
    {
      "cell_type": "markdown",
      "metadata": {
        "id": "8Oy-FqXtmtmN"
      },
      "source": [
        "# Zip and Un-Zip Functions"
      ]
    },
    {
      "cell_type": "code",
      "execution_count": null,
      "metadata": {
        "id": "RiQ4XNkNoHYP"
      },
      "outputs": [],
      "source": [
        "import builtins"
      ]
    },
    {
      "cell_type": "code",
      "execution_count": null,
      "metadata": {
        "colab": {
          "base_uri": "https://localhost:8080/"
        },
        "id": "8i0bmJS4oCMM",
        "outputId": "a384ddae-0ccf-4515-91ce-f32dccac601f"
      },
      "outputs": [
        {
          "name": "stdout",
          "output_type": "stream",
          "text": [
            "['ArithmeticError', 'AssertionError', 'AttributeError', 'BaseException', 'BaseExceptionGroup', 'BlockingIOError', 'BrokenPipeError', 'BufferError', 'BytesWarning', 'ChildProcessError', 'ConnectionAbortedError', 'ConnectionError', 'ConnectionRefusedError', 'ConnectionResetError', 'DeprecationWarning', 'EOFError', 'Ellipsis', 'EncodingWarning', 'EnvironmentError', 'Exception', 'ExceptionGroup', 'False', 'FileExistsError', 'FileNotFoundError', 'FloatingPointError', 'FutureWarning', 'GeneratorExit', 'IOError', 'ImportError', 'ImportWarning', 'IndentationError', 'IndexError', 'InterruptedError', 'IsADirectoryError', 'KeyError', 'KeyboardInterrupt', 'LookupError', 'MemoryError', 'ModuleNotFoundError', 'NameError', 'None', 'NotADirectoryError', 'NotImplemented', 'NotImplementedError', 'OSError', 'OverflowError', 'PendingDeprecationWarning', 'PermissionError', 'ProcessLookupError', 'RecursionError', 'ReferenceError', 'ResourceWarning', 'RuntimeError', 'RuntimeWarning', 'StopAsyncIteration', 'StopIteration', 'SyntaxError', 'SyntaxWarning', 'SystemError', 'SystemExit', 'TabError', 'TimeoutError', 'True', 'TypeError', 'UnboundLocalError', 'UnicodeDecodeError', 'UnicodeEncodeError', 'UnicodeError', 'UnicodeTranslateError', 'UnicodeWarning', 'UserWarning', 'ValueError', 'Warning', 'ZeroDivisionError', '__IPYTHON__', '__build_class__', '__debug__', '__doc__', '__import__', '__loader__', '__name__', '__package__', '__pybind11_internals_v4_gcc_libstdcpp_cxxabi1014__', '__spec__', 'abs', 'aiter', 'all', 'anext', 'any', 'ascii', 'bin', 'bool', 'breakpoint', 'bytearray', 'bytes', 'callable', 'chr', 'classmethod', 'compile', 'complex', 'copyright', 'credits', 'delattr', 'dict', 'dir', 'display', 'divmod', 'enumerate', 'eval', 'exec', 'execfile', 'filter', 'float', 'format', 'frozenset', 'get_ipython', 'getattr', 'globals', 'hasattr', 'hash', 'help', 'hex', 'id', 'input', 'int', 'isinstance', 'issubclass', 'iter', 'len', 'license', 'list', 'locals', 'map', 'max', 'memoryview', 'min', 'next', 'object', 'oct', 'open', 'ord', 'pow', 'print', 'property', 'range', 'repr', 'reversed', 'round', 'runfile', 'set', 'setattr', 'slice', 'sorted', 'staticmethod', 'str', 'sum', 'super', 'tuple', 'type', 'vars', 'zip']\n"
          ]
        }
      ],
      "source": [
        "print(dir(builtins))"
      ]
    },
    {
      "cell_type": "markdown",
      "metadata": {
        "id": "qAnGMemdsqwL"
      },
      "source": [
        "# To print the list with serial numbers of any methods, Functions, . This below method will be used. :"
      ]
    },
    {
      "cell_type": "code",
      "execution_count": null,
      "metadata": {
        "colab": {
          "base_uri": "https://localhost:8080/"
        },
        "id": "25Q-dM6MolS9",
        "outputId": "34b0fdc4-3602-49c1-ce89-b5da5c7c056d",
        "collapsed": true
      },
      "outputs": [
        {
          "name": "stdout",
          "output_type": "stream",
          "text": [
            "1. ArithmeticError\n",
            "2. AssertionError\n",
            "3. AttributeError\n",
            "4. BaseException\n",
            "5. BaseExceptionGroup\n",
            "6. BlockingIOError\n",
            "7. BrokenPipeError\n",
            "8. BufferError\n",
            "9. BytesWarning\n",
            "10. ChildProcessError\n",
            "11. ConnectionAbortedError\n",
            "12. ConnectionError\n",
            "13. ConnectionRefusedError\n",
            "14. ConnectionResetError\n",
            "15. DeprecationWarning\n",
            "16. EOFError\n",
            "17. Ellipsis\n",
            "18. EncodingWarning\n",
            "19. EnvironmentError\n",
            "20. Exception\n",
            "21. ExceptionGroup\n",
            "22. False\n",
            "23. FileExistsError\n",
            "24. FileNotFoundError\n",
            "25. FloatingPointError\n",
            "26. FutureWarning\n",
            "27. GeneratorExit\n",
            "28. IOError\n",
            "29. ImportError\n",
            "30. ImportWarning\n",
            "31. IndentationError\n",
            "32. IndexError\n",
            "33. InterruptedError\n",
            "34. IsADirectoryError\n",
            "35. KeyError\n",
            "36. KeyboardInterrupt\n",
            "37. LookupError\n",
            "38. MemoryError\n",
            "39. ModuleNotFoundError\n",
            "40. NameError\n",
            "41. None\n",
            "42. NotADirectoryError\n",
            "43. NotImplemented\n",
            "44. NotImplementedError\n",
            "45. OSError\n",
            "46. OverflowError\n",
            "47. PendingDeprecationWarning\n",
            "48. PermissionError\n",
            "49. ProcessLookupError\n",
            "50. RecursionError\n",
            "51. ReferenceError\n",
            "52. ResourceWarning\n",
            "53. RuntimeError\n",
            "54. RuntimeWarning\n",
            "55. StopAsyncIteration\n",
            "56. StopIteration\n",
            "57. SyntaxError\n",
            "58. SyntaxWarning\n",
            "59. SystemError\n",
            "60. SystemExit\n",
            "61. TabError\n",
            "62. TimeoutError\n",
            "63. True\n",
            "64. TypeError\n",
            "65. UnboundLocalError\n",
            "66. UnicodeDecodeError\n",
            "67. UnicodeEncodeError\n",
            "68. UnicodeError\n",
            "69. UnicodeTranslateError\n",
            "70. UnicodeWarning\n",
            "71. UserWarning\n",
            "72. ValueError\n",
            "73. Warning\n",
            "74. ZeroDivisionError\n",
            "75. abs\n",
            "76. aiter\n",
            "77. all\n",
            "78. anext\n",
            "79. any\n",
            "80. ascii\n",
            "81. bin\n",
            "82. bool\n",
            "83. breakpoint\n",
            "84. bytearray\n",
            "85. bytes\n",
            "86. callable\n",
            "87. chr\n",
            "88. classmethod\n",
            "89. compile\n",
            "90. complex\n",
            "91. copyright\n",
            "92. credits\n",
            "93. delattr\n",
            "94. dict\n",
            "95. dir\n",
            "96. display\n",
            "97. divmod\n",
            "98. enumerate\n",
            "99. eval\n",
            "100. exec\n",
            "101. execfile\n",
            "102. filter\n",
            "103. float\n",
            "104. format\n",
            "105. frozenset\n",
            "106. get_ipython\n",
            "107. getattr\n",
            "108. globals\n",
            "109. hasattr\n",
            "110. hash\n",
            "111. help\n",
            "112. hex\n",
            "113. id\n",
            "114. input\n",
            "115. int\n",
            "116. isinstance\n",
            "117. issubclass\n",
            "118. iter\n",
            "119. len\n",
            "120. license\n",
            "121. list\n",
            "122. locals\n",
            "123. map\n",
            "124. max\n",
            "125. memoryview\n",
            "126. min\n",
            "127. next\n",
            "128. object\n",
            "129. oct\n",
            "130. open\n",
            "131. ord\n",
            "132. pow\n",
            "133. print\n",
            "134. property\n",
            "135. range\n",
            "136. repr\n",
            "137. reversed\n",
            "138. round\n",
            "139. runfile\n",
            "140. set\n",
            "141. setattr\n",
            "142. slice\n",
            "143. sorted\n",
            "144. staticmethod\n",
            "145. str\n",
            "146. sum\n",
            "147. super\n",
            "148. tuple\n",
            "149. type\n",
            "150. vars\n",
            "151. zip\n"
          ]
        }
      ],
      "source": [
        "functions1 = [method for method in dir(builtins) if not method.startswith('__')]\n",
        "for function, method in enumerate(functions1):\n",
        "    print(f'{function+1}. {method}')"
      ]
    },
    {
      "cell_type": "code",
      "source": [
        "import pandas as pd\n",
        "pandas_func = [method for method in dir(pd) if not method.startswith('*')]\n",
        "for function, method in enumerate(pandas_func):\n",
        "    print(f'{function+1}. {method}')"
      ],
      "metadata": {
        "colab": {
          "base_uri": "https://localhost:8080/"
        },
        "collapsed": true,
        "id": "DS2Bg5MERqHy",
        "outputId": "387767af-d3e1-4a35-a1e7-3dc63bc1bd43"
      },
      "execution_count": 2,
      "outputs": [
        {
          "output_type": "stream",
          "name": "stdout",
          "text": [
            "1. ArrowDtype\n",
            "2. BooleanDtype\n",
            "3. Categorical\n",
            "4. CategoricalDtype\n",
            "5. CategoricalIndex\n",
            "6. DataFrame\n",
            "7. DateOffset\n",
            "8. DatetimeIndex\n",
            "9. DatetimeTZDtype\n",
            "10. ExcelFile\n",
            "11. ExcelWriter\n",
            "12. Flags\n",
            "13. Float32Dtype\n",
            "14. Float64Dtype\n",
            "15. Grouper\n",
            "16. HDFStore\n",
            "17. Index\n",
            "18. IndexSlice\n",
            "19. Int16Dtype\n",
            "20. Int32Dtype\n",
            "21. Int64Dtype\n",
            "22. Int8Dtype\n",
            "23. Interval\n",
            "24. IntervalDtype\n",
            "25. IntervalIndex\n",
            "26. MultiIndex\n",
            "27. NA\n",
            "28. NaT\n",
            "29. NamedAgg\n",
            "30. Period\n",
            "31. PeriodDtype\n",
            "32. PeriodIndex\n",
            "33. RangeIndex\n",
            "34. Series\n",
            "35. SparseDtype\n",
            "36. StringDtype\n",
            "37. Timedelta\n",
            "38. TimedeltaIndex\n",
            "39. Timestamp\n",
            "40. UInt16Dtype\n",
            "41. UInt32Dtype\n",
            "42. UInt64Dtype\n",
            "43. UInt8Dtype\n",
            "44. __all__\n",
            "45. __builtins__\n",
            "46. __cached__\n",
            "47. __doc__\n",
            "48. __docformat__\n",
            "49. __file__\n",
            "50. __git_version__\n",
            "51. __loader__\n",
            "52. __name__\n",
            "53. __package__\n",
            "54. __path__\n",
            "55. __spec__\n",
            "56. __version__\n",
            "57. _built_with_meson\n",
            "58. _config\n",
            "59. _is_numpy_dev\n",
            "60. _libs\n",
            "61. _pandas_datetime_CAPI\n",
            "62. _pandas_parser_CAPI\n",
            "63. _testing\n",
            "64. _typing\n",
            "65. _version_meson\n",
            "66. annotations\n",
            "67. api\n",
            "68. array\n",
            "69. arrays\n",
            "70. bdate_range\n",
            "71. compat\n",
            "72. concat\n",
            "73. core\n",
            "74. crosstab\n",
            "75. cut\n",
            "76. date_range\n",
            "77. describe_option\n",
            "78. errors\n",
            "79. eval\n",
            "80. factorize\n",
            "81. from_dummies\n",
            "82. get_dummies\n",
            "83. get_option\n",
            "84. infer_freq\n",
            "85. interval_range\n",
            "86. io\n",
            "87. isna\n",
            "88. isnull\n",
            "89. json_normalize\n",
            "90. lreshape\n",
            "91. melt\n",
            "92. merge\n",
            "93. merge_asof\n",
            "94. merge_ordered\n",
            "95. notna\n",
            "96. notnull\n",
            "97. offsets\n",
            "98. option_context\n",
            "99. options\n",
            "100. pandas\n",
            "101. period_range\n",
            "102. pivot\n",
            "103. pivot_table\n",
            "104. plotting\n",
            "105. qcut\n",
            "106. read_clipboard\n",
            "107. read_csv\n",
            "108. read_excel\n",
            "109. read_feather\n",
            "110. read_fwf\n",
            "111. read_gbq\n",
            "112. read_hdf\n",
            "113. read_html\n",
            "114. read_json\n",
            "115. read_orc\n",
            "116. read_parquet\n",
            "117. read_pickle\n",
            "118. read_sas\n",
            "119. read_spss\n",
            "120. read_sql\n",
            "121. read_sql_query\n",
            "122. read_sql_table\n",
            "123. read_stata\n",
            "124. read_table\n",
            "125. read_xml\n",
            "126. reset_option\n",
            "127. set_eng_float_format\n",
            "128. set_option\n",
            "129. show_versions\n",
            "130. test\n",
            "131. testing\n",
            "132. timedelta_range\n",
            "133. to_datetime\n",
            "134. to_numeric\n",
            "135. to_pickle\n",
            "136. to_timedelta\n",
            "137. tseries\n",
            "138. unique\n",
            "139. util\n",
            "140. value_counts\n",
            "141. wide_to_long\n"
          ]
        }
      ]
    },
    {
      "cell_type": "code",
      "source": [
        "list_dir = [\"22, 55, 66, 89, 45, 21, 65, 78,\"]\n",
        "list_dir.sort()\n",
        "print(f'{function+1}. {method}')"
      ],
      "metadata": {
        "colab": {
          "base_uri": "https://localhost:8080/"
        },
        "id": "vgg42CrMSCff",
        "outputId": "4433c386-c6ca-496c-f23d-1fdd6f3bd1b9"
      },
      "execution_count": 8,
      "outputs": [
        {
          "output_type": "stream",
          "name": "stdout",
          "text": [
            "1. 22, 55, 66, 89, 45, 21, 65, 78,\n"
          ]
        }
      ]
    },
    {
      "cell_type": "code",
      "execution_count": null,
      "metadata": {
        "id": "nDqpwj9cn0Im"
      },
      "outputs": [],
      "source": [
        "# prompt: how to see list of built in function\n",
        "\n",
        "# # Zip and Un-Zip Functions\n",
        "\n",
        "import builtins\n",
        "\n",
        "print(dir(builtins))\n"
      ]
    },
    {
      "cell_type": "code",
      "execution_count": null,
      "metadata": {
        "colab": {
          "base_uri": "https://localhost:8080/"
        },
        "id": "svys0LLHlh7T",
        "outputId": "2efa8795-6698-430b-f697-de575bc5cf46"
      },
      "outputs": [
        {
          "name": "stdout",
          "output_type": "stream",
          "text": [
            "Jamal\n",
            "Hasan\n",
            "Zain\n",
            "Haris\n",
            "Apple\n",
            "Mango\n",
            "Banana\n",
            "Guava\n",
            "11\n",
            "21\n",
            "31\n",
            "41\n"
          ]
        }
      ],
      "source": [
        "names = [\"Jamal\", \"Hasan\", \"Zain\", \"Haris\"]\n",
        "fruits = [\"Apple\", \"Mango\", \"Banana\", \"Guava\"]\n",
        "numbers = [11,21,31,41]\n",
        "for name in names:\n",
        "    print(name)\n",
        "for fruit in fruits:\n",
        "    print(fruit)\n",
        "for number in numbers:\n",
        "    print(number)"
      ]
    },
    {
      "cell_type": "code",
      "execution_count": null,
      "metadata": {
        "colab": {
          "base_uri": "https://localhost:8080/"
        },
        "id": "go616I1BmC8m",
        "outputId": "1b1a7d2d-15b4-4965-d621-c20cfbcb5273"
      },
      "outputs": [
        {
          "name": "stdout",
          "output_type": "stream",
          "text": [
            "Jamal Apple 11\n",
            "Hasan Mango 21\n",
            "Zain Banana 31\n",
            "Haris Guava 41\n"
          ]
        }
      ],
      "source": [
        "names = [\"Jamal\", \"Hasan\", \"Zain\", \"Haris\"]\n",
        "fruits = [\"Apple\", \"Mango\", \"Banana\", \"Guava\"]\n",
        "numbers = [11,21,31,41]\n",
        "for name, fruit, number in zip(names, fruits, numbers):\n",
        "  print(name, fruit, number)"
      ]
    },
    {
      "cell_type": "code",
      "execution_count": null,
      "metadata": {
        "colab": {
          "base_uri": "https://localhost:8080/"
        },
        "id": "OBokAgFcmfSn",
        "outputId": "bf3348fe-5af1-445d-e1a7-2d4c0799d61a"
      },
      "outputs": [
        {
          "name": "stdout",
          "output_type": "stream",
          "text": [
            "Ned: University = 0042\n",
            "PDG: Data Science = 0052\n",
            "Course: Python = 0062\n"
          ]
        }
      ],
      "source": [
        "# Data from w3school for Practicing.\n",
        "\n",
        "a = (\"Ned:\", \"PDG:\", \"Course:\")\n",
        "b = (\"University =\", \"Data Science =\", \"Python =\")\n",
        "c = (\"0042\", \"0052\", \"0062\", \"0072\")\n",
        "for a1, b1, c1 in zip(a, b, c):\n",
        "  print(a1,b1,c1)"
      ]
    },
    {
      "cell_type": "code",
      "execution_count": null,
      "metadata": {
        "colab": {
          "base_uri": "https://localhost:8080/"
        },
        "id": "SytRDsGVnqDB",
        "outputId": "9ad3117b-a784-4cf6-ea54-6e7f3e205521"
      },
      "outputs": [
        {
          "name": "stdout",
          "output_type": "stream",
          "text": [
            "John Jenny 11\n",
            "Charles Christy 21\n",
            "Mike Monica 31\n"
          ]
        }
      ],
      "source": [
        "# Data from w3school for Practicing.\n",
        "\n",
        "a = (\"John\", \"Charles\", \"Mike\")\n",
        "b = (\"Jenny\", \"Christy\", \"Monica\")\n",
        "c = (\"11\",\"21\",\"31\",\"41\",\"51\")\n",
        "for a1, b1, c1 in zip(a, b, c):\n",
        "  print(a1,b1,c1)"
      ]
    },
    {
      "cell_type": "code",
      "execution_count": null,
      "metadata": {
        "colab": {
          "base_uri": "https://localhost:8080/"
        },
        "id": "SM7EVDzkq9uI",
        "outputId": "711cac37-1745-4bb9-82f6-0e78de88ce16"
      },
      "outputs": [
        {
          "name": "stdout",
          "output_type": "stream",
          "text": [
            "Ned University = 0042\n",
            "PDG > Data Science = 0052\n",
            "Course > Python = 0062\n"
          ]
        }
      ],
      "source": [
        "# Data from w3school for Practicing.\n",
        "\n",
        "a = (\"Ned\", \"PDG >\", \"Course >\")\n",
        "b = (\"University =\", \"Data Science =\", \"Python =\")\n",
        "c = (\"0042\", \"0052\", \"0062\", \"0072\")\n",
        "for a1, b1, c1 in zip(a, b, c):\n",
        "  print(a1,b1,c1)"
      ]
    },
    {
      "cell_type": "code",
      "execution_count": null,
      "metadata": {
        "id": "vbBWOc2XsA6h"
      },
      "outputs": [],
      "source": []
    },
    {
      "cell_type": "markdown",
      "metadata": {
        "id": "OpwZhsNyu1Kl"
      },
      "source": [
        "# File Handling\n",
        "\n",
        "* File handling is an important part of any web application.\n",
        "\n",
        "* Python has several functions for creating, reading, updating, and deleting files.\n",
        "\n",
        "# File Handling\n",
        "* The key function for working with files in Python is the open() function.\n",
        "\n",
        "* The open() function takes two parameters; filename, and mode.\n",
        "\n",
        "* There are four different methods (modes) for opening a file:\n",
        "\n",
        "    1. \"r\" - Read - Default value. Opens a file for reading, error if the file does not exist\n",
        "\n",
        "    2. \"a\" - Append - Opens a file for appending, creates the file if it does not exist\n",
        "\n",
        "    3. \"w\" - Write - Opens a file for writing, creates the file if it does not exist\n",
        "\n",
        "    4. \"x\" - Create - Creates the specified file, returns an error if the file exists\n",
        "\n",
        "* In addition you can specify if the file should be handled as binary or text mode\n",
        "\n",
        "    1. \"t\" - Text - Default value. Text mode\n",
        "\n",
        "    2. \"b\" - Binary - Binary mode (e.g. images)"
      ]
    },
    {
      "cell_type": "code",
      "execution_count": null,
      "metadata": {
        "colab": {
          "base_uri": "https://localhost:8080/"
        },
        "id": "PcPTrudpvDrn",
        "outputId": "c6d06bcd-ea38-48b1-abb5-950b425fbbfa"
      },
      "outputs": [
        {
          "output_type": "stream",
          "name": "stdout",
          "text": [
            "Absolutely! Here are some assignments based on basic Python programming to help you practice and reinforce your skills:\n",
            "\n",
            "### Assignment 1: Basic Syntax and Control Structures\n",
            "1. *Hello, World!*:\n",
            "   - Write a program that prints \"Hello, World!\" to the console.\n",
            "\n",
            "2. *Simple Calculator*:\n",
            "   - Create a program that takes two numbers as input and performs addition, subtraction, multiplication, and division.\n",
            "\n",
            "3. *Odd or Even*:\n",
            "   - Write a program that checks if a given number is odd or even.\n",
            "\n",
            "4. *Factorial Calculation*:\n",
            "   - Write a function to calculate the factorial of a number using a loop.\n",
            "\n",
            "### Assignment 2: Data Structures\n",
            "1. *List Operations*:\n",
            "   - Create a list of numbers and write functions to:\n",
            "     - Find the sum of all elements.\n",
            "     - Find the maximum and minimum values.\n",
            "     - Reverse the list.\n",
            "\n",
            "2. *Dictionary Practice*:\n",
            "   - Create a dictionary to store the names and ages of five people. Write functions to:\n",
            "     - Add a new person.\n",
            "     - Remove a person by name.\n",
            "     - Find the age of a specific person.\n",
            "\n",
            "3. *Set Operations*:\n",
            "   - Create two sets of numbers and write functions to perform union, intersection, and difference operations.\n",
            "\n",
            "### Assignment 3: Functions and Modules\n",
            "1. *Prime Number Checker*:\n",
            "   - Write a function to check if a number is prime.\n",
            "\n",
            "2. *Palindrome Checker*:\n",
            "   - Write a function to check if a given string is a palindrome.\n",
            "\n",
            "3. *Module Creation*:\n",
            "   - Create a module named math_operations.py that includes functions for addition, subtraction, multiplication, and division. Import and use this module in another script.\n",
            "\n",
            "### Assignment 4: File Handling\n",
            "1. *File Reader*:\n",
            "   - Write a program that reads a text file and prints its contents to the console.\n",
            "\n",
            "2. *File Writer*:\n",
            "   - Write a program that takes user input and writes it to a text file.\n",
            "\n",
            "3. *CSV Reader*:\n",
            "   - Write a program that reads a CSV file and prints the contents in a formatted manner.\n",
            "\n",
            "### Assignment 5: Error Handling\n",
            "1. *Division with Error Handling*:\n",
            "   - Write a program that takes two numbers as input and performs division. Handle the ZeroDivisionError gracefully.\n",
            "\n",
            "2. *File Not Found*:\n",
            "   - Write a program that attempts to open a file. Handle the FileNotFoundError if the file does not exist.\n",
            "\n",
            "### Assignment 6: Advanced Problems\n",
            "1. *Fibonacci Sequence*:\n",
            "   - Write a function to generate the first n numbers in the Fibonacci sequence.\n",
            "\n",
            "2. *List Comprehensions*:\n",
            "   - Use list comprehensions to create a list of squares of numbers from 1 to 10.\n",
            "\n",
            "3. *Lambda Functions*:\n",
            "   - Write a program that uses lambda functions to sort a list of tuples based on the second element.\n",
            "\n",
            "### Assignment 7: Object-Oriented Programming\n",
            "1. *Class Creation*:\n",
            "   - Create a class Rectangle with attributes length and width. Include methods to calculate the area and perimeter.\n",
            "\n",
            "2. *Inheritance*:\n",
            "   - Create a base class Animal with attributes name and sound. Derive two classes Dog and Cat from Animal and override the sound attribute.\n",
            "\n",
            "### Assignment 8: Libraries and APIs\n",
            "1. **Using datetime**:\n",
            "   - Write a program that prints the current date and time.\n",
            "\n",
            "2. **Using random**:\n",
            "   - Write a program that generates a list of 10 random numbers between 1 and 100.\n",
            "\n",
            "3. *Simple API Request*:\n",
            "   - Use the requests library to make a GET request to a public API (e.g., https://api.github.com) and print the response.\n",
            "\n",
            "Feel free to tackle these assignments at your own pace. If you need any hints or further explanations, don't hesitate to ask! Happy coding! 😊\n",
            "Deepseek compete the ChatgptDeepseek compete the Chatgpt\n"
          ]
        }
      ],
      "source": [
        "file = open(r\"/content/Deepseekideas.txt\",\"r\")\n",
        "contents = file.read()\n",
        "file.close()\n",
        "print(contents)"
      ]
    },
    {
      "cell_type": "code",
      "execution_count": null,
      "metadata": {
        "colab": {
          "base_uri": "https://localhost:8080/"
        },
        "id": "3_sHJwrRftyP",
        "outputId": "746da08b-9d96-4ffa-a9ee-a42d6d075cdd"
      },
      "outputs": [
        {
          "output_type": "stream",
          "name": "stdout",
          "text": [
            "Absolutely! Here are some assignments based on basic Python programming to help you practice and reinforce your skills:\n",
            "\n",
            "### Assignment 1: Basic Syntax and Control Structures\n",
            "1. *Hello, World!*:\n",
            "   - Write a program that prints \"Hello, World!\" to the console.\n",
            "\n",
            "2. *Simple Calculator*:\n",
            "   - Create a program that takes two numbers as input and performs addition, subtraction, multiplication, and division.\n",
            "\n",
            "3. *Odd or Even*:\n",
            "   - Write a program that checks if a given number is odd or even.\n",
            "\n",
            "4. *Factorial Calculation*:\n",
            "   - Write a function to calculate the factorial of a number using a loop.\n",
            "\n",
            "### Assignment 2: Data Structures\n",
            "1. *List Operations*:\n",
            "   - Create a list of numbers and write functions to:\n",
            "     - Find the sum of all elements.\n",
            "     - Find the maximum and minimum values.\n",
            "     - Reverse the list.\n",
            "\n",
            "2. *Dictionary Practice*:\n",
            "   - Create a dictionary to store the names and ages of five people. Write functions to:\n",
            "     - Add a new person.\n",
            "     - Remove a person by name.\n",
            "     - Find the age of a specific person.\n",
            "\n",
            "3. *Set Operations*:\n",
            "   - Create two sets of numbers and write functions to perform union, intersection, and difference operations.\n",
            "\n",
            "### Assignment 3: Functions and Modules\n",
            "1. *Prime Number Checker*:\n",
            "   - Write a function to check if a number is prime.\n",
            "\n",
            "2. *Palindrome Checker*:\n",
            "   - Write a function to check if a given string is a palindrome.\n",
            "\n",
            "3. *Module Creation*:\n",
            "   - Create a module named math_operations.py that includes functions for addition, subtraction, multiplication, and division. Import and use this module in another script.\n",
            "\n",
            "### Assignment 4: File Handling\n",
            "1. *File Reader*:\n",
            "   - Write a program that reads a text file and prints its contents to the console.\n",
            "\n",
            "2. *File Writer*:\n",
            "   - Write a program that takes user input and writes it to a text file.\n",
            "\n",
            "3. *CSV Reader*:\n",
            "   - Write a program that reads a CSV file and prints the contents in a formatted manner.\n",
            "\n",
            "### Assignment 5: Error Handling\n",
            "1. *Division with Error Handling*:\n",
            "   - Write a program that takes two numbers as input and performs division. Handle the ZeroDivisionError gracefully.\n",
            "\n",
            "2. *File Not Found*:\n",
            "   - Write a program that attempts to open a file. Handle the FileNotFoundError if the file does not exist.\n",
            "\n",
            "### Assignment 6: Advanced Problems\n",
            "1. *Fibonacci Sequence*:\n",
            "   - Write a function to generate the first n numbers in the Fibonacci sequence.\n",
            "\n",
            "2. *List Comprehensions*:\n",
            "   - Use list comprehensions to create a list of squares of numbers from 1 to 10.\n",
            "\n",
            "3. *Lambda Functions*:\n",
            "   - Write a program that uses lambda functions to sort a list of tuples based on the second element.\n",
            "\n",
            "### Assignment 7: Object-Oriented Programming\n",
            "1. *Class Creation*:\n",
            "   - Create a class Rectangle with attributes length and width. Include methods to calculate the area and perimeter.\n",
            "\n",
            "2. *Inheritance*:\n",
            "   - Create a base class Animal with attributes name and sound. Derive two classes Dog and Cat from Animal and override the sound attribute.\n",
            "\n",
            "### Assignment 8: Libraries and APIs\n",
            "1. **Using datetime**:\n",
            "   - Write a program that prints the current date and time.\n",
            "\n",
            "2. **Using random**:\n",
            "   - Write a program that generates a list of 10 random numbers between 1 and 100.\n",
            "\n",
            "3. *Simple API Request*:\n",
            "   - Use the requests library to make a GET request to a public API (e.g., https://api.github.com) and print the response.\n",
            "\n",
            "Feel free to tackle these assignments at your own pace. If you need any hints or further explanations, don't hesitate to ask! Happy coding! 😊\n",
            "Deepseek compete the ChatgptDeepseek compete the Chatgpt\n"
          ]
        }
      ],
      "source": [
        "file_write = open(r\"/content/Deepseekideas.txt\",\"a\")\n",
        "file_write.write(\"Deepseek compete the Chatgpt\")\n",
        "file_write.close()\n",
        "print(contents)"
      ]
    },
    {
      "cell_type": "code",
      "source": [
        "import base64"
      ],
      "metadata": {
        "id": "kggQc3lNllbQ"
      },
      "execution_count": null,
      "outputs": []
    },
    {
      "cell_type": "code",
      "source": [],
      "metadata": {
        "id": "BJAmD44NouPF"
      },
      "execution_count": null,
      "outputs": []
    }
  ],
  "metadata": {
    "colab": {
      "provenance": []
    },
    "kernelspec": {
      "display_name": "Python 3 (ipykernel)",
      "language": "python",
      "name": "python3"
    },
    "language_info": {
      "codemirror_mode": {
        "name": "ipython",
        "version": 3
      },
      "file_extension": ".py",
      "mimetype": "text/x-python",
      "name": "python",
      "nbconvert_exporter": "python",
      "pygments_lexer": "ipython3",
      "version": "3.11.5"
    }
  },
  "nbformat": 4,
  "nbformat_minor": 0
}