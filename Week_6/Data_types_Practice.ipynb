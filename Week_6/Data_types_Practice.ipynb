{
  "nbformat": 4,
  "nbformat_minor": 0,
  "metadata": {
    "colab": {
      "provenance": []
    },
    "kernelspec": {
      "name": "python3",
      "display_name": "Python 3"
    },
    "language_info": {
      "name": "python"
    }
  },
  "cells": [
    {
      "cell_type": "markdown",
      "source": [
        "# Data Structure in Python.\n",
        "\n",
        "1. List\n",
        "2. Tuple\n",
        "3. Sets\n",
        "4. Dictionary\n",
        "\n",
        "These also built-in data collection types."
      ],
      "metadata": {
        "id": "B1gFKXkxkWA7"
      }
    },
    {
      "cell_type": "code",
      "source": [
        "# prompt: Simple code perform using list\n",
        "\n",
        "# List\n",
        "my_list = [1, 2, 3, 4, 5]\n",
        "\n",
        "# Accessing elements\n",
        "print(my_list[0])  # Output: 1\n",
        "print(my_list[-1]) # Output: 5\n",
        "\n",
        "# Slicing\n",
        "print(my_list[1:4]) # Output: [2, 3, 4]\n",
        "\n",
        "# Modifying elements\n",
        "my_list[0] = 10\n",
        "print(my_list) # Output: [10, 2, 3, 4, 5]\n",
        "\n",
        "# Appending elements\n",
        "my_list.append(6)\n",
        "print(my_list) # Output: [10, 2, 3, 4, 5, 6]\n",
        "\n",
        "# Inserting elements\n",
        "my_list.insert(2, 20)\n",
        "print(my_list) # Output: [10, 2, 20, 3, 4, 5, 6]\n",
        "\n",
        "# Removing elements\n",
        "my_list.remove(20)\n",
        "print(my_list) # Output: [10, 2, 3, 4, 5, 6]\n",
        "\n",
        "# Removing element at specific index\n",
        "del my_list[0]\n",
        "print(my_list) # Output: [2, 3, 4, 5, 6]\n",
        "\n",
        "\n",
        "# Other list operations:\n",
        "# len(), max(), min(), sum(), sorted(), reverse()\n"
      ],
      "metadata": {
        "id": "KbPIsZ2Kkwob"
      },
      "execution_count": null,
      "outputs": []
    },
    {
      "cell_type": "code",
      "source": [
        "my_list = [1, 2, 3, 4, 5]\n",
        "print(my_list)"
      ],
      "metadata": {
        "colab": {
          "base_uri": "https://localhost:8080/"
        },
        "id": "XDmD965Tlwnb",
        "outputId": "1f7eca51-cd74-43fb-970c-de3840ecf26a"
      },
      "execution_count": 1,
      "outputs": [
        {
          "output_type": "stream",
          "name": "stdout",
          "text": [
            "[1, 2, 3, 4, 5]\n"
          ]
        }
      ]
    },
    {
      "cell_type": "code",
      "source": [
        "print(my_list[1]) # Simple access the items\n",
        "print(my_list[-2])"
      ],
      "metadata": {
        "colab": {
          "base_uri": "https://localhost:8080/"
        },
        "id": "Aak_uW_nl9C_",
        "outputId": "fb7a2ded-4a52-4a6c-d92d-a65a1d349cd6"
      },
      "execution_count": 2,
      "outputs": [
        {
          "output_type": "stream",
          "name": "stdout",
          "text": [
            "2\n",
            "4\n"
          ]
        }
      ]
    },
    {
      "cell_type": "code",
      "source": [
        "print(my_list[1:4]) # Slice the list"
      ],
      "metadata": {
        "colab": {
          "base_uri": "https://localhost:8080/"
        },
        "id": "VfYcfeb9mH9m",
        "outputId": "708dc416-0877-4114-9608-8ae96f1b2132"
      },
      "execution_count": 3,
      "outputs": [
        {
          "output_type": "stream",
          "name": "stdout",
          "text": [
            "[2, 3, 4]\n"
          ]
        }
      ]
    },
    {
      "cell_type": "code",
      "source": [
        "my_list[0] = 10 # Modify List"
      ],
      "metadata": {
        "id": "YX02SL3hnU-D"
      },
      "execution_count": 4,
      "outputs": []
    },
    {
      "cell_type": "code",
      "source": [
        "print(my_list)"
      ],
      "metadata": {
        "colab": {
          "base_uri": "https://localhost:8080/"
        },
        "id": "bu4Dst99nk0K",
        "outputId": "ab804825-70c9-464e-e253-bc8933eb9eeb"
      },
      "execution_count": 6,
      "outputs": [
        {
          "output_type": "stream",
          "name": "stdout",
          "text": [
            "[10, 2, 3, 4, 5]\n"
          ]
        }
      ]
    },
    {
      "cell_type": "code",
      "source": [
        "my_list.append(6) # Append the list"
      ],
      "metadata": {
        "id": "6qQcLhJBnm2C"
      },
      "execution_count": 7,
      "outputs": []
    },
    {
      "cell_type": "code",
      "source": [
        "print(my_list)"
      ],
      "metadata": {
        "colab": {
          "base_uri": "https://localhost:8080/"
        },
        "id": "kNZlwTlOoHjB",
        "outputId": "6dadd830-2822-4dec-a574-a73f54f34b52"
      },
      "execution_count": 8,
      "outputs": [
        {
          "output_type": "stream",
          "name": "stdout",
          "text": [
            "[10, 2, 3, 4, 5, 6]\n"
          ]
        }
      ]
    },
    {
      "cell_type": "code",
      "source": [
        "my_list.insert(2, 20) # Insert the list"
      ],
      "metadata": {
        "id": "3V98X1B6oJr0"
      },
      "execution_count": 9,
      "outputs": []
    },
    {
      "cell_type": "code",
      "source": [
        "print(my_list)"
      ],
      "metadata": {
        "colab": {
          "base_uri": "https://localhost:8080/"
        },
        "id": "5t2M4SItoSor",
        "outputId": "f81e1555-08c8-4886-f85c-fc6c8b33da9b"
      },
      "execution_count": 10,
      "outputs": [
        {
          "output_type": "stream",
          "name": "stdout",
          "text": [
            "[10, 2, 20, 3, 4, 5, 6]\n"
          ]
        }
      ]
    },
    {
      "cell_type": "code",
      "source": [
        "my_list.remove(20) # Remove the list"
      ],
      "metadata": {
        "id": "5U22IBV-oUgo"
      },
      "execution_count": 11,
      "outputs": []
    },
    {
      "cell_type": "code",
      "source": [
        "print(my_list)"
      ],
      "metadata": {
        "colab": {
          "base_uri": "https://localhost:8080/"
        },
        "id": "5-fEuu_XobH9",
        "outputId": "806ed1a1-16ce-49e0-9337-217300580882"
      },
      "execution_count": 12,
      "outputs": [
        {
          "output_type": "stream",
          "name": "stdout",
          "text": [
            "[10, 2, 3, 4, 5, 6]\n"
          ]
        }
      ]
    },
    {
      "cell_type": "code",
      "source": [
        "my_list.reverse() # Reverse the list"
      ],
      "metadata": {
        "id": "3X4wwwQ3odF0"
      },
      "execution_count": 13,
      "outputs": []
    },
    {
      "cell_type": "code",
      "source": [
        "print(my_list)"
      ],
      "metadata": {
        "colab": {
          "base_uri": "https://localhost:8080/"
        },
        "id": "57JmY6fjokZB",
        "outputId": "b03bba8c-ce00-42d7-8b26-05d7d63dc73e"
      },
      "execution_count": 14,
      "outputs": [
        {
          "output_type": "stream",
          "name": "stdout",
          "text": [
            "[6, 5, 4, 3, 2, 10]\n"
          ]
        }
      ]
    },
    {
      "cell_type": "code",
      "source": [
        "del my_list[1] # Delete the list"
      ],
      "metadata": {
        "id": "4devgrlTol8d"
      },
      "execution_count": 15,
      "outputs": []
    },
    {
      "cell_type": "code",
      "source": [
        "print(my_list) # 5 will be removed"
      ],
      "metadata": {
        "colab": {
          "base_uri": "https://localhost:8080/"
        },
        "id": "yLn5yd02otGN",
        "outputId": "f4213716-986b-4015-e3b4-ce25c032b04b"
      },
      "execution_count": 16,
      "outputs": [
        {
          "output_type": "stream",
          "name": "stdout",
          "text": [
            "[6, 4, 3, 2, 10]\n"
          ]
        }
      ]
    },
    {
      "cell_type": "code",
      "source": [
        "my_list.sort() # Sort the list"
      ],
      "metadata": {
        "id": "sPam5zm0ovee"
      },
      "execution_count": 17,
      "outputs": []
    },
    {
      "cell_type": "code",
      "source": [
        "print(my_list)"
      ],
      "metadata": {
        "colab": {
          "base_uri": "https://localhost:8080/"
        },
        "id": "-mDy1OP3o6Z0",
        "outputId": "1981c612-65d6-4bbc-d088-eb08525908f3"
      },
      "execution_count": 18,
      "outputs": [
        {
          "output_type": "stream",
          "name": "stdout",
          "text": [
            "[2, 3, 4, 6, 10]\n"
          ]
        }
      ]
    },
    {
      "cell_type": "code",
      "source": [
        "my_list.pop() # Pop the list"
      ],
      "metadata": {
        "colab": {
          "base_uri": "https://localhost:8080/"
        },
        "id": "RN3liWO3o8n0",
        "outputId": "0d0dac37-c827-47ab-9544-32dca7ea0893"
      },
      "execution_count": 19,
      "outputs": [
        {
          "output_type": "execute_result",
          "data": {
            "text/plain": [
              "10"
            ]
          },
          "metadata": {},
          "execution_count": 19
        }
      ]
    },
    {
      "cell_type": "code",
      "source": [
        "print(my_list)"
      ],
      "metadata": {
        "colab": {
          "base_uri": "https://localhost:8080/"
        },
        "id": "bec9Ujb2pVRo",
        "outputId": "debef52a-97f9-469b-b5c0-7ab3c96ab32f"
      },
      "execution_count": 20,
      "outputs": [
        {
          "output_type": "stream",
          "name": "stdout",
          "text": [
            "[2, 3, 4, 6]\n"
          ]
        }
      ]
    },
    {
      "cell_type": "code",
      "source": [
        "my_list.count(0) # Count the list"
      ],
      "metadata": {
        "colab": {
          "base_uri": "https://localhost:8080/"
        },
        "id": "VaiRUO1YpbHc",
        "outputId": "16bf74b6-061d-4fc2-f34e-d22ca898ea9a"
      },
      "execution_count": 23,
      "outputs": [
        {
          "output_type": "execute_result",
          "data": {
            "text/plain": [
              "0"
            ]
          },
          "metadata": {},
          "execution_count": 23
        }
      ]
    },
    {
      "cell_type": "code",
      "source": [
        "my_list.insert(1,5)"
      ],
      "metadata": {
        "id": "mfn5XgujpkVE"
      },
      "execution_count": 25,
      "outputs": []
    },
    {
      "cell_type": "code",
      "source": [
        "print(my_list)"
      ],
      "metadata": {
        "colab": {
          "base_uri": "https://localhost:8080/"
        },
        "id": "Xdw7UQwPpx-g",
        "outputId": "9a0b0aa8-473a-464f-d9e0-ea8b4aa5c22a"
      },
      "execution_count": 26,
      "outputs": [
        {
          "output_type": "stream",
          "name": "stdout",
          "text": [
            "[2, 5, 3, 4, 6]\n"
          ]
        }
      ]
    },
    {
      "cell_type": "code",
      "source": [
        "print(my_list)\n"
      ],
      "metadata": {
        "colab": {
          "base_uri": "https://localhost:8080/"
        },
        "id": "RtYELNHHp8f-",
        "outputId": "02809d31-0541-4f5a-ec00-6544efa56e4b"
      },
      "execution_count": 28,
      "outputs": [
        {
          "output_type": "stream",
          "name": "stdout",
          "text": [
            "[2, 5, 3, 4, 6]\n"
          ]
        }
      ]
    },
    {
      "cell_type": "code",
      "source": [
        "print(my_list)"
      ],
      "metadata": {
        "colab": {
          "base_uri": "https://localhost:8080/"
        },
        "id": "fpazV9RMqEah",
        "outputId": "15b67ecc-b588-42a7-aa98-dfb0970842b1"
      },
      "execution_count": 30,
      "outputs": [
        {
          "output_type": "stream",
          "name": "stdout",
          "text": [
            "[2, 3, 4, 5, 6]\n"
          ]
        }
      ]
    },
    {
      "cell_type": "code",
      "source": [
        "my_list.insert(1,7)"
      ],
      "metadata": {
        "id": "nrTXM7R-qEXA"
      },
      "execution_count": 31,
      "outputs": []
    },
    {
      "cell_type": "code",
      "source": [
        "my_list.sort()"
      ],
      "metadata": {
        "id": "rA-WRBqDqBdE"
      },
      "execution_count": 32,
      "outputs": []
    },
    {
      "cell_type": "code",
      "source": [
        "print(my_list)"
      ],
      "metadata": {
        "colab": {
          "base_uri": "https://localhost:8080/"
        },
        "id": "ySJZmKVIqP3_",
        "outputId": "8161a02e-89ab-4fdc-f6e3-5373e605f183"
      },
      "execution_count": 33,
      "outputs": [
        {
          "output_type": "stream",
          "name": "stdout",
          "text": [
            "[2, 3, 4, 5, 6, 7]\n"
          ]
        }
      ]
    },
    {
      "cell_type": "code",
      "source": [
        "my_list.insert(0,8)"
      ],
      "metadata": {
        "id": "oiCSFPz0qTXA"
      },
      "execution_count": 36,
      "outputs": []
    },
    {
      "cell_type": "code",
      "source": [
        "print(my_list)"
      ],
      "metadata": {
        "colab": {
          "base_uri": "https://localhost:8080/"
        },
        "id": "zG-9bxZlqaZ5",
        "outputId": "8200d1a2-038a-437f-c52b-7a81882a98e4"
      },
      "execution_count": 37,
      "outputs": [
        {
          "output_type": "stream",
          "name": "stdout",
          "text": [
            "[1, 8, 2, 3, 4, 5, 6, 7]\n"
          ]
        }
      ]
    },
    {
      "cell_type": "code",
      "source": [
        "my_list.sort()"
      ],
      "metadata": {
        "id": "TCkXzvaTqvJE"
      },
      "execution_count": 38,
      "outputs": []
    },
    {
      "cell_type": "code",
      "source": [
        "print(my_list)"
      ],
      "metadata": {
        "colab": {
          "base_uri": "https://localhost:8080/"
        },
        "id": "0FDEMX7Xq0tP",
        "outputId": "0ac2faaf-5cc6-4a5b-df2e-37bad589b81d"
      },
      "execution_count": 39,
      "outputs": [
        {
          "output_type": "stream",
          "name": "stdout",
          "text": [
            "[1, 2, 3, 4, 5, 6, 7, 8]\n"
          ]
        }
      ]
    },
    {
      "cell_type": "code",
      "source": [
        "# prompt: what my_list.pop() method do\n",
        "\n",
        "The `my_list.pop()` method removes and returns the last element of the list.  If you provide an index as an argument, e.g., `my_list.pop(2)`, it will remove and return the element at that index.\n"
      ],
      "metadata": {
        "id": "3qI6i92VpC_8"
      },
      "execution_count": null,
      "outputs": []
    },
    {
      "cell_type": "code",
      "source": [
        "# prompt: Simple methods of tuple function\n",
        "\n",
        "# Tuple examples\n",
        "my_tuple = (1, 2, 3, 4, 5)\n",
        "\n",
        "# Accessing elements (same as lists)\n",
        "print(my_tuple[0])  # Output: 1\n",
        "print(my_tuple[-1]) # Output: 5\n",
        "\n",
        "# Slicing (same as lists)\n",
        "print(my_tuple[1:4]) # Output: (2, 3, 4)\n",
        "\n",
        "# Tuples are immutable, so you can't modify elements directly:\n",
        "# my_tuple[0] = 10  # This will raise a TypeError\n",
        "\n",
        "# Other tuple operations:\n",
        "# len(), max(), min(), sum(), sorted()  (sorted() returns a list)\n",
        "\n",
        "#Example of other operations\n",
        "print(len(my_tuple)) # Output: 5\n",
        "print(max(my_tuple)) # Output:5\n",
        "print(min(my_tuple)) # Output: 1\n",
        "print(sum(my_tuple)) # Output: 15\n",
        "print(sorted(my_tuple)) # Output: [1, 2, 3, 4, 5]\n",
        "\n",
        "\n",
        "# Tuple methods\n",
        "print(my_tuple.count(5)) # Counts the occurrences of element 5. Output: 1\n",
        "print(my_tuple.index(3)) # Returns the index of element 3. Output: 2\n",
        "\n",
        "# Note: Tuples have fewer methods than lists because they are immutable.\n"
      ],
      "metadata": {
        "id": "ZrdbNFISrFU4"
      },
      "execution_count": null,
      "outputs": []
    }
  ]
}