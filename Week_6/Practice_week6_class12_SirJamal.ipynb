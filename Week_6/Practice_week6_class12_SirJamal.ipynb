{
  "nbformat": 4,
  "nbformat_minor": 0,
  "metadata": {
    "colab": {
      "provenance": []
    },
    "kernelspec": {
      "name": "python3",
      "display_name": "Python 3"
    },
    "language_info": {
      "name": "python"
    }
  },
  "cells": [
    {
      "cell_type": "markdown",
      "source": [
        "# Zip and Un-Zip Functions"
      ],
      "metadata": {
        "id": "8Oy-FqXtmtmN"
      }
    },
    {
      "cell_type": "code",
      "execution_count": 1,
      "metadata": {
        "colab": {
          "base_uri": "https://localhost:8080/"
        },
        "id": "svys0LLHlh7T",
        "outputId": "2efa8795-6698-430b-f697-de575bc5cf46"
      },
      "outputs": [
        {
          "output_type": "stream",
          "name": "stdout",
          "text": [
            "Jamal\n",
            "Hasan\n",
            "Zain\n",
            "Haris\n",
            "Apple\n",
            "Mango\n",
            "Banana\n",
            "Guava\n",
            "11\n",
            "21\n",
            "31\n",
            "41\n"
          ]
        }
      ],
      "source": [
        "names = [\"Jamal\", \"Hasan\", \"Zain\", \"Haris\"]\n",
        "fruits = [\"Apple\", \"Mango\", \"Banana\", \"Guava\"]\n",
        "numbers = [11,21,31,41]\n",
        "for name in names:\n",
        "    print(name)\n",
        "for fruit in fruits:\n",
        "    print(fruit)\n",
        "for number in numbers:\n",
        "    print(number)"
      ]
    },
    {
      "cell_type": "code",
      "source": [
        "names = [\"Jamal\", \"Hasan\", \"Zain\", \"Haris\"]\n",
        "fruits = [\"Apple\", \"Mango\", \"Banana\", \"Guava\"]\n",
        "numbers = [11,21,31,41]\n",
        "for name, fruit, number in zip(names, fruits, numbers):\n",
        "  print(name, fruit, number)"
      ],
      "metadata": {
        "colab": {
          "base_uri": "https://localhost:8080/"
        },
        "id": "go616I1BmC8m",
        "outputId": "1b1a7d2d-15b4-4965-d621-c20cfbcb5273"
      },
      "execution_count": 4,
      "outputs": [
        {
          "output_type": "stream",
          "name": "stdout",
          "text": [
            "Jamal Apple 11\n",
            "Hasan Mango 21\n",
            "Zain Banana 31\n",
            "Haris Guava 41\n"
          ]
        }
      ]
    },
    {
      "cell_type": "code",
      "source": [],
      "metadata": {
        "id": "OBokAgFcmfSn"
      },
      "execution_count": null,
      "outputs": []
    }
  ]
}