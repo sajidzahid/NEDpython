{
  "nbformat": 4,
  "nbformat_minor": 0,
  "metadata": {
    "colab": {
      "provenance": []
    },
    "kernelspec": {
      "name": "python3",
      "display_name": "Python 3"
    },
    "language_info": {
      "name": "python"
    }
  },
  "cells": [
    {
      "cell_type": "markdown",
      "source": [
        "# Zip and Un-Zip Functions"
      ],
      "metadata": {
        "id": "8Oy-FqXtmtmN"
      }
    },
    {
      "cell_type": "code",
      "source": [
        "import builtins"
      ],
      "metadata": {
        "id": "RiQ4XNkNoHYP"
      },
      "execution_count": 8,
      "outputs": []
    },
    {
      "cell_type": "code",
      "source": [
        "print(dir(builtins))"
      ],
      "metadata": {
        "colab": {
          "base_uri": "https://localhost:8080/"
        },
        "id": "8i0bmJS4oCMM",
        "outputId": "a384ddae-0ccf-4515-91ce-f32dccac601f"
      },
      "execution_count": 7,
      "outputs": [
        {
          "output_type": "stream",
          "name": "stdout",
          "text": [
            "['ArithmeticError', 'AssertionError', 'AttributeError', 'BaseException', 'BaseExceptionGroup', 'BlockingIOError', 'BrokenPipeError', 'BufferError', 'BytesWarning', 'ChildProcessError', 'ConnectionAbortedError', 'ConnectionError', 'ConnectionRefusedError', 'ConnectionResetError', 'DeprecationWarning', 'EOFError', 'Ellipsis', 'EncodingWarning', 'EnvironmentError', 'Exception', 'ExceptionGroup', 'False', 'FileExistsError', 'FileNotFoundError', 'FloatingPointError', 'FutureWarning', 'GeneratorExit', 'IOError', 'ImportError', 'ImportWarning', 'IndentationError', 'IndexError', 'InterruptedError', 'IsADirectoryError', 'KeyError', 'KeyboardInterrupt', 'LookupError', 'MemoryError', 'ModuleNotFoundError', 'NameError', 'None', 'NotADirectoryError', 'NotImplemented', 'NotImplementedError', 'OSError', 'OverflowError', 'PendingDeprecationWarning', 'PermissionError', 'ProcessLookupError', 'RecursionError', 'ReferenceError', 'ResourceWarning', 'RuntimeError', 'RuntimeWarning', 'StopAsyncIteration', 'StopIteration', 'SyntaxError', 'SyntaxWarning', 'SystemError', 'SystemExit', 'TabError', 'TimeoutError', 'True', 'TypeError', 'UnboundLocalError', 'UnicodeDecodeError', 'UnicodeEncodeError', 'UnicodeError', 'UnicodeTranslateError', 'UnicodeWarning', 'UserWarning', 'ValueError', 'Warning', 'ZeroDivisionError', '__IPYTHON__', '__build_class__', '__debug__', '__doc__', '__import__', '__loader__', '__name__', '__package__', '__pybind11_internals_v4_gcc_libstdcpp_cxxabi1014__', '__spec__', 'abs', 'aiter', 'all', 'anext', 'any', 'ascii', 'bin', 'bool', 'breakpoint', 'bytearray', 'bytes', 'callable', 'chr', 'classmethod', 'compile', 'complex', 'copyright', 'credits', 'delattr', 'dict', 'dir', 'display', 'divmod', 'enumerate', 'eval', 'exec', 'execfile', 'filter', 'float', 'format', 'frozenset', 'get_ipython', 'getattr', 'globals', 'hasattr', 'hash', 'help', 'hex', 'id', 'input', 'int', 'isinstance', 'issubclass', 'iter', 'len', 'license', 'list', 'locals', 'map', 'max', 'memoryview', 'min', 'next', 'object', 'oct', 'open', 'ord', 'pow', 'print', 'property', 'range', 'repr', 'reversed', 'round', 'runfile', 'set', 'setattr', 'slice', 'sorted', 'staticmethod', 'str', 'sum', 'super', 'tuple', 'type', 'vars', 'zip']\n"
          ]
        }
      ]
    },
    {
      "cell_type": "code",
      "source": [
        "functions1 = [method for method in dir(builtins) if not method.startswith('__')]\n",
        "for idx, method in enumerate(functions1):\n",
        "    print(f'{idx+1}. {method}')"
      ],
      "metadata": {
        "colab": {
          "base_uri": "https://localhost:8080/"
        },
        "id": "25Q-dM6MolS9",
        "outputId": "b7c88abf-1422-4861-d2eb-83f331a4b3b5"
      },
      "execution_count": 9,
      "outputs": [
        {
          "output_type": "stream",
          "name": "stdout",
          "text": [
            "1. ArithmeticError\n",
            "2. AssertionError\n",
            "3. AttributeError\n",
            "4. BaseException\n",
            "5. BaseExceptionGroup\n",
            "6. BlockingIOError\n",
            "7. BrokenPipeError\n",
            "8. BufferError\n",
            "9. BytesWarning\n",
            "10. ChildProcessError\n",
            "11. ConnectionAbortedError\n",
            "12. ConnectionError\n",
            "13. ConnectionRefusedError\n",
            "14. ConnectionResetError\n",
            "15. DeprecationWarning\n",
            "16. EOFError\n",
            "17. Ellipsis\n",
            "18. EncodingWarning\n",
            "19. EnvironmentError\n",
            "20. Exception\n",
            "21. ExceptionGroup\n",
            "22. False\n",
            "23. FileExistsError\n",
            "24. FileNotFoundError\n",
            "25. FloatingPointError\n",
            "26. FutureWarning\n",
            "27. GeneratorExit\n",
            "28. IOError\n",
            "29. ImportError\n",
            "30. ImportWarning\n",
            "31. IndentationError\n",
            "32. IndexError\n",
            "33. InterruptedError\n",
            "34. IsADirectoryError\n",
            "35. KeyError\n",
            "36. KeyboardInterrupt\n",
            "37. LookupError\n",
            "38. MemoryError\n",
            "39. ModuleNotFoundError\n",
            "40. NameError\n",
            "41. None\n",
            "42. NotADirectoryError\n",
            "43. NotImplemented\n",
            "44. NotImplementedError\n",
            "45. OSError\n",
            "46. OverflowError\n",
            "47. PendingDeprecationWarning\n",
            "48. PermissionError\n",
            "49. ProcessLookupError\n",
            "50. RecursionError\n",
            "51. ReferenceError\n",
            "52. ResourceWarning\n",
            "53. RuntimeError\n",
            "54. RuntimeWarning\n",
            "55. StopAsyncIteration\n",
            "56. StopIteration\n",
            "57. SyntaxError\n",
            "58. SyntaxWarning\n",
            "59. SystemError\n",
            "60. SystemExit\n",
            "61. TabError\n",
            "62. TimeoutError\n",
            "63. True\n",
            "64. TypeError\n",
            "65. UnboundLocalError\n",
            "66. UnicodeDecodeError\n",
            "67. UnicodeEncodeError\n",
            "68. UnicodeError\n",
            "69. UnicodeTranslateError\n",
            "70. UnicodeWarning\n",
            "71. UserWarning\n",
            "72. ValueError\n",
            "73. Warning\n",
            "74. ZeroDivisionError\n",
            "75. abs\n",
            "76. aiter\n",
            "77. all\n",
            "78. anext\n",
            "79. any\n",
            "80. ascii\n",
            "81. bin\n",
            "82. bool\n",
            "83. breakpoint\n",
            "84. bytearray\n",
            "85. bytes\n",
            "86. callable\n",
            "87. chr\n",
            "88. classmethod\n",
            "89. compile\n",
            "90. complex\n",
            "91. copyright\n",
            "92. credits\n",
            "93. delattr\n",
            "94. dict\n",
            "95. dir\n",
            "96. display\n",
            "97. divmod\n",
            "98. enumerate\n",
            "99. eval\n",
            "100. exec\n",
            "101. execfile\n",
            "102. filter\n",
            "103. float\n",
            "104. format\n",
            "105. frozenset\n",
            "106. get_ipython\n",
            "107. getattr\n",
            "108. globals\n",
            "109. hasattr\n",
            "110. hash\n",
            "111. help\n",
            "112. hex\n",
            "113. id\n",
            "114. input\n",
            "115. int\n",
            "116. isinstance\n",
            "117. issubclass\n",
            "118. iter\n",
            "119. len\n",
            "120. license\n",
            "121. list\n",
            "122. locals\n",
            "123. map\n",
            "124. max\n",
            "125. memoryview\n",
            "126. min\n",
            "127. next\n",
            "128. object\n",
            "129. oct\n",
            "130. open\n",
            "131. ord\n",
            "132. pow\n",
            "133. print\n",
            "134. property\n",
            "135. range\n",
            "136. repr\n",
            "137. reversed\n",
            "138. round\n",
            "139. runfile\n",
            "140. set\n",
            "141. setattr\n",
            "142. slice\n",
            "143. sorted\n",
            "144. staticmethod\n",
            "145. str\n",
            "146. sum\n",
            "147. super\n",
            "148. tuple\n",
            "149. type\n",
            "150. vars\n",
            "151. zip\n"
          ]
        }
      ]
    },
    {
      "cell_type": "code",
      "source": [
        "# prompt: how to see list of built in function\n",
        "\n",
        "# # Zip and Un-Zip Functions\n",
        "\n",
        "import builtins\n",
        "\n",
        "print(dir(builtins))\n"
      ],
      "metadata": {
        "id": "nDqpwj9cn0Im"
      },
      "execution_count": null,
      "outputs": []
    },
    {
      "cell_type": "code",
      "execution_count": 1,
      "metadata": {
        "colab": {
          "base_uri": "https://localhost:8080/"
        },
        "id": "svys0LLHlh7T",
        "outputId": "2efa8795-6698-430b-f697-de575bc5cf46"
      },
      "outputs": [
        {
          "output_type": "stream",
          "name": "stdout",
          "text": [
            "Jamal\n",
            "Hasan\n",
            "Zain\n",
            "Haris\n",
            "Apple\n",
            "Mango\n",
            "Banana\n",
            "Guava\n",
            "11\n",
            "21\n",
            "31\n",
            "41\n"
          ]
        }
      ],
      "source": [
        "names = [\"Jamal\", \"Hasan\", \"Zain\", \"Haris\"]\n",
        "fruits = [\"Apple\", \"Mango\", \"Banana\", \"Guava\"]\n",
        "numbers = [11,21,31,41]\n",
        "for name in names:\n",
        "    print(name)\n",
        "for fruit in fruits:\n",
        "    print(fruit)\n",
        "for number in numbers:\n",
        "    print(number)"
      ]
    },
    {
      "cell_type": "code",
      "source": [
        "names = [\"Jamal\", \"Hasan\", \"Zain\", \"Haris\"]\n",
        "fruits = [\"Apple\", \"Mango\", \"Banana\", \"Guava\"]\n",
        "numbers = [11,21,31,41]\n",
        "for name, fruit, number in zip(names, fruits, numbers):\n",
        "  print(name, fruit, number)"
      ],
      "metadata": {
        "colab": {
          "base_uri": "https://localhost:8080/"
        },
        "id": "go616I1BmC8m",
        "outputId": "1b1a7d2d-15b4-4965-d621-c20cfbcb5273"
      },
      "execution_count": 4,
      "outputs": [
        {
          "output_type": "stream",
          "name": "stdout",
          "text": [
            "Jamal Apple 11\n",
            "Hasan Mango 21\n",
            "Zain Banana 31\n",
            "Haris Guava 41\n"
          ]
        }
      ]
    },
    {
      "cell_type": "code",
      "source": [
        "# Data from w3school for Practicing.\n",
        "\n",
        "a = (\"John\", \"Charles\", \"Mike\")\n",
        "b = (\"Jenny\", \"Christy\", \"Monica\")\n",
        "\n",
        "x = zip(a, b)"
      ],
      "metadata": {
        "id": "OBokAgFcmfSn"
      },
      "execution_count": 6,
      "outputs": []
    },
    {
      "cell_type": "code",
      "source": [],
      "metadata": {
        "id": "SytRDsGVnqDB"
      },
      "execution_count": null,
      "outputs": []
    }
  ]
}