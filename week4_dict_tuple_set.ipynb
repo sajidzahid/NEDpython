{
  "nbformat": 4,
  "nbformat_minor": 0,
  "metadata": {
    "colab": {
      "provenance": []
    },
    "kernelspec": {
      "name": "python3",
      "display_name": "Python 3"
    },
    "language_info": {
      "name": "python"
    }
  },
  "cells": [
    {
      "cell_type": "code",
      "execution_count": 2,
      "metadata": {
        "colab": {
          "base_uri": "https://localhost:8080/"
        },
        "id": "Xs9diUbeA4RG",
        "outputId": "967a422f-0825-4ace-8a09-7ea4762107f1"
      },
      "outputs": [
        {
          "output_type": "stream",
          "name": "stdout",
          "text": [
            "c\n",
            "c\n"
          ]
        }
      ],
      "source": [
        "#         0.  1.  2.  3. 4  5 6 7 --->\n",
        "names = ['a','b','c','d',1, 2,3,4]\n",
        "#        -8. -7.  -6. -5-4 -3 -2 -1   <---\n",
        "\n",
        "print(names[2])\n",
        "print(names[-6])"
      ]
    },
    {
      "cell_type": "markdown",
      "source": [
        "# Slicing\n",
        "`variable_name[start:end:step]`\n",
        "* start = include\n",
        "* end = exclude (n-1)\n",
        "* step = sequance = 1"
      ],
      "metadata": {
        "id": "2gEW-UqxCAbu"
      }
    },
    {
      "cell_type": "code",
      "source": [
        "#         0.  1.  2.  3. 4  5 6 7 --->\n",
        "names = ['a','b','c','d',1, 2,3,4]\n",
        "#        -8. -7.  -6. -5-4 -3 -2 -1   <---\n",
        "\n",
        "print(names[1:4])#-->\n",
        "print(names[-7:-4])#-->\n",
        "print(names[1:-4])#-->\n",
        "print(names[-7:4])#-->"
      ],
      "metadata": {
        "colab": {
          "base_uri": "https://localhost:8080/"
        },
        "id": "-H6xie8tB--G",
        "outputId": "b898629b-43b4-41fa-c710-cc820d5ab5a8"
      },
      "execution_count": 7,
      "outputs": [
        {
          "output_type": "stream",
          "name": "stdout",
          "text": [
            "['b', 'c', 'd']\n",
            "['b', 'c', 'd']\n",
            "['b', 'c', 'd']\n",
            "['b', 'c', 'd']\n"
          ]
        }
      ]
    },
    {
      "cell_type": "code",
      "source": [
        "#         0.  1.  2.  3. 4  5 6 7 --->\n",
        "names = ['a','b','c','d',1, 2,3,4]\n",
        "#        -8. -7.  -6. -5-4 -3 -2 -1   <---\n",
        "\n",
        "print(names[::1])\n",
        "print(names[::2])\n",
        "print(names[::3])\n"
      ],
      "metadata": {
        "colab": {
          "base_uri": "https://localhost:8080/"
        },
        "id": "DZKpzjNCE22I",
        "outputId": "1e298637-a4b8-45ea-dd36-2a3863888292"
      },
      "execution_count": 10,
      "outputs": [
        {
          "output_type": "stream",
          "name": "stdout",
          "text": [
            "['a', 'b', 'c', 'd', 1, 2, 3, 4]\n",
            "['a', 'c', 1, 3]\n",
            "['a', 'd', 3]\n"
          ]
        }
      ]
    },
    {
      "cell_type": "code",
      "source": [
        "#         0.  1.  2.  3. 4  5 6 7 --->\n",
        "names = ['a','b','c','d',1, 2,3,4]\n",
        "#        -8. -7.  -6. -5-4 -3 -2 -1   <---\n",
        "print(names[::-1])\n",
        "print(names[-7:-4:-1])#<---\n",
        "print(names[-5:-8:-1])\n",
        "print(names[-5:0:-1])\n",
        "print(names[-5:0])"
      ],
      "metadata": {
        "colab": {
          "base_uri": "https://localhost:8080/"
        },
        "id": "UL6scPVRB2UT",
        "outputId": "6a91e46b-cb7f-40b4-f8ac-34e893fb3557"
      },
      "execution_count": 14,
      "outputs": [
        {
          "output_type": "stream",
          "name": "stdout",
          "text": [
            "[4, 3, 2, 1, 'd', 'c', 'b', 'a']\n",
            "[]\n",
            "['d', 'c', 'b']\n",
            "['d', 'c', 'b']\n"
          ]
        }
      ]
    },
    {
      "cell_type": "code",
      "source": [
        "#         0.  1.  2.  3. 4  5 6 7 --->\n",
        "names = ['a','b','c','d',1, 2,3,4]\n",
        "#        -8. -7.  -6. -5-4 -3 -2 -1   <---\n",
        "print(names)\n",
        "names[0] = \"Qasim\" # mutable, we can change it.\n",
        "\n",
        "print(names)"
      ],
      "metadata": {
        "colab": {
          "base_uri": "https://localhost:8080/"
        },
        "id": "kPSVqWAOI4eP",
        "outputId": "f4a419c3-7a45-4be6-d068-219b20d26f85"
      },
      "execution_count": 18,
      "outputs": [
        {
          "output_type": "stream",
          "name": "stdout",
          "text": [
            "['a', 'b', 'c', 'd', 1, 2, 3, 4]\n",
            "['Qasim', 'b', 'c', 'd', 1, 2, 3, 4]\n"
          ]
        }
      ]
    },
    {
      "cell_type": "code",
      "source": [
        "list(dir(list))"
      ],
      "metadata": {
        "colab": {
          "base_uri": "https://localhost:8080/"
        },
        "id": "SDpgyJpgIauH",
        "outputId": "4324f1f5-35e1-4777-a8b2-93d5b9509c24"
      },
      "execution_count": 15,
      "outputs": [
        {
          "output_type": "execute_result",
          "data": {
            "text/plain": [
              "['__add__',\n",
              " '__class__',\n",
              " '__class_getitem__',\n",
              " '__contains__',\n",
              " '__delattr__',\n",
              " '__delitem__',\n",
              " '__dir__',\n",
              " '__doc__',\n",
              " '__eq__',\n",
              " '__format__',\n",
              " '__ge__',\n",
              " '__getattribute__',\n",
              " '__getitem__',\n",
              " '__getstate__',\n",
              " '__gt__',\n",
              " '__hash__',\n",
              " '__iadd__',\n",
              " '__imul__',\n",
              " '__init__',\n",
              " '__init_subclass__',\n",
              " '__iter__',\n",
              " '__le__',\n",
              " '__len__',\n",
              " '__lt__',\n",
              " '__mul__',\n",
              " '__ne__',\n",
              " '__new__',\n",
              " '__reduce__',\n",
              " '__reduce_ex__',\n",
              " '__repr__',\n",
              " '__reversed__',\n",
              " '__rmul__',\n",
              " '__setattr__',\n",
              " '__setitem__',\n",
              " '__sizeof__',\n",
              " '__str__',\n",
              " '__subclasshook__',\n",
              " 'append',\n",
              " 'clear',\n",
              " 'copy',\n",
              " 'count',\n",
              " 'extend',\n",
              " 'index',\n",
              " 'insert',\n",
              " 'pop',\n",
              " 'remove',\n",
              " 'reverse',\n",
              " 'sort']"
            ]
          },
          "metadata": {},
          "execution_count": 15
        }
      ]
    },
    {
      "cell_type": "markdown",
      "source": [
        "# Tuple\n",
        "* imutable (we can't change it)"
      ],
      "metadata": {
        "id": "IWbeeAuHIjHa"
      }
    },
    {
      "cell_type": "code",
      "source": [
        "data = ('a','b','c','d',1, 2,3,4)\n",
        "print(type(data))\n",
        "print(data)"
      ],
      "metadata": {
        "colab": {
          "base_uri": "https://localhost:8080/"
        },
        "id": "UlcGcv2YItZx",
        "outputId": "24b6601e-a6d8-4733-9253-e0c231f6ff0b"
      },
      "execution_count": 19,
      "outputs": [
        {
          "output_type": "stream",
          "name": "stdout",
          "text": [
            "<class 'tuple'>\n",
            "('a', 'b', 'c', 'd', 1, 2, 3, 4)\n"
          ]
        }
      ]
    },
    {
      "cell_type": "code",
      "source": [
        "data = ('a','b','c','d',1, 2,3,4)\n",
        "print(data)\n",
        "data[0] = \"Qasim\" # imutable (we can't change it)\n",
        "print(data)"
      ],
      "metadata": {
        "colab": {
          "base_uri": "https://localhost:8080/",
          "height": 211
        },
        "id": "lytBuTltItc5",
        "outputId": "49d666ab-c03e-403b-f227-78bdbd6fa5f1"
      },
      "execution_count": 23,
      "outputs": [
        {
          "output_type": "stream",
          "name": "stdout",
          "text": [
            "('a', 'b', 'c', 'd', 1, 2, 3, 4)\n"
          ]
        },
        {
          "output_type": "error",
          "ename": "TypeError",
          "evalue": "'tuple' object does not support item assignment",
          "traceback": [
            "\u001b[0;31m---------------------------------------------------------------------------\u001b[0m",
            "\u001b[0;31mTypeError\u001b[0m                                 Traceback (most recent call last)",
            "\u001b[0;32m<ipython-input-23-4f5a7e070f92>\u001b[0m in \u001b[0;36m<cell line: 0>\u001b[0;34m()\u001b[0m\n\u001b[1;32m      1\u001b[0m \u001b[0mdata\u001b[0m \u001b[0;34m=\u001b[0m \u001b[0;34m(\u001b[0m\u001b[0;34m'a'\u001b[0m\u001b[0;34m,\u001b[0m\u001b[0;34m'b'\u001b[0m\u001b[0;34m,\u001b[0m\u001b[0;34m'c'\u001b[0m\u001b[0;34m,\u001b[0m\u001b[0;34m'd'\u001b[0m\u001b[0;34m,\u001b[0m\u001b[0;36m1\u001b[0m\u001b[0;34m,\u001b[0m \u001b[0;36m2\u001b[0m\u001b[0;34m,\u001b[0m\u001b[0;36m3\u001b[0m\u001b[0;34m,\u001b[0m\u001b[0;36m4\u001b[0m\u001b[0;34m)\u001b[0m\u001b[0;34m\u001b[0m\u001b[0;34m\u001b[0m\u001b[0m\n\u001b[1;32m      2\u001b[0m \u001b[0mprint\u001b[0m\u001b[0;34m(\u001b[0m\u001b[0mdata\u001b[0m\u001b[0;34m)\u001b[0m\u001b[0;34m\u001b[0m\u001b[0;34m\u001b[0m\u001b[0m\n\u001b[0;32m----> 3\u001b[0;31m \u001b[0mdata\u001b[0m\u001b[0;34m[\u001b[0m\u001b[0;36m0\u001b[0m\u001b[0;34m]\u001b[0m \u001b[0;34m=\u001b[0m \u001b[0;34m\"Qasim\"\u001b[0m \u001b[0;31m# imutable (we can't change it)\u001b[0m\u001b[0;34m\u001b[0m\u001b[0;34m\u001b[0m\u001b[0m\n\u001b[0m\u001b[1;32m      4\u001b[0m \u001b[0mprint\u001b[0m\u001b[0;34m(\u001b[0m\u001b[0mdata\u001b[0m\u001b[0;34m)\u001b[0m\u001b[0;34m\u001b[0m\u001b[0;34m\u001b[0m\u001b[0m\n",
            "\u001b[0;31mTypeError\u001b[0m: 'tuple' object does not support item assignment"
          ]
        }
      ]
    },
    {
      "cell_type": "code",
      "source": [
        "data = ('a','b','c','d',1, 2,3,4) # assign\n",
        "print(data)\n",
        "data = ('Muhammad Qasim','b','c','d',1, 2,3,4) # reassign/redecleared/create new variable\n",
        "print(data)"
      ],
      "metadata": {
        "colab": {
          "base_uri": "https://localhost:8080/"
        },
        "id": "rVNSIqCiItf7",
        "outputId": "6a4a219a-8743-4c22-e004-8b0ce86cfcfe"
      },
      "execution_count": 24,
      "outputs": [
        {
          "output_type": "stream",
          "name": "stdout",
          "text": [
            "('a', 'b', 'c', 'd', 1, 2, 3, 4)\n",
            "('Muhammad Qasim', 'b', 'c', 'd', 1, 2, 3, 4)\n"
          ]
        }
      ]
    },
    {
      "cell_type": "code",
      "source": [
        "list(dir(tuple))"
      ],
      "metadata": {
        "colab": {
          "base_uri": "https://localhost:8080/"
        },
        "id": "2UWRI1OBKRjd",
        "outputId": "98290cf0-cfe8-4da8-d868-f1515519996c"
      },
      "execution_count": 25,
      "outputs": [
        {
          "output_type": "execute_result",
          "data": {
            "text/plain": [
              "['__add__',\n",
              " '__class__',\n",
              " '__class_getitem__',\n",
              " '__contains__',\n",
              " '__delattr__',\n",
              " '__dir__',\n",
              " '__doc__',\n",
              " '__eq__',\n",
              " '__format__',\n",
              " '__ge__',\n",
              " '__getattribute__',\n",
              " '__getitem__',\n",
              " '__getnewargs__',\n",
              " '__getstate__',\n",
              " '__gt__',\n",
              " '__hash__',\n",
              " '__init__',\n",
              " '__init_subclass__',\n",
              " '__iter__',\n",
              " '__le__',\n",
              " '__len__',\n",
              " '__lt__',\n",
              " '__mul__',\n",
              " '__ne__',\n",
              " '__new__',\n",
              " '__reduce__',\n",
              " '__reduce_ex__',\n",
              " '__repr__',\n",
              " '__rmul__',\n",
              " '__setattr__',\n",
              " '__sizeof__',\n",
              " '__str__',\n",
              " '__subclasshook__',\n",
              " 'count',\n",
              " 'index']"
            ]
          },
          "metadata": {},
          "execution_count": 25
        }
      ]
    },
    {
      "cell_type": "markdown",
      "source": [
        "# Set Data type"
      ],
      "metadata": {
        "id": "ulYVOPGjKlzd"
      }
    },
    {
      "cell_type": "code",
      "source": [
        "a1 = {\"a\",\"b\",\"c\",\"a\",\"a\",\"c\",\"b\",1,2,2,2,2}\n",
        "print(a1)"
      ],
      "metadata": {
        "colab": {
          "base_uri": "https://localhost:8080/"
        },
        "id": "cez6RCJ2Iti9",
        "outputId": "875a17d1-b262-4168-9536-e66bf9ddb860"
      },
      "execution_count": 26,
      "outputs": [
        {
          "output_type": "stream",
          "name": "stdout",
          "text": [
            "{1, 2, 'b', 'a', 'c'}\n"
          ]
        }
      ]
    },
    {
      "cell_type": "code",
      "source": [
        "a1 = {\"a\",\"b\",\"c\"}\n",
        "a2 = {\"a\",\"c\",\"x\"}\n",
        "\n",
        "print(a1.difference(a2))\n",
        "print(a1.intersection(a2))\n",
        "print(a1.union(a2))"
      ],
      "metadata": {
        "colab": {
          "base_uri": "https://localhost:8080/"
        },
        "id": "ydQuNBMqLFB7",
        "outputId": "223edb47-de8a-4e51-acb7-a7afe84b044c"
      },
      "execution_count": 28,
      "outputs": [
        {
          "output_type": "stream",
          "name": "stdout",
          "text": [
            "{'b'}\n",
            "{'a', 'c'}\n",
            "{'x', 'b', 'a', 'c'}\n"
          ]
        }
      ]
    },
    {
      "cell_type": "code",
      "source": [
        "sbp = {1,2}\n",
        "bank = {1,5,7,8}\n",
        "\n",
        "print(sbp.intersection(bank))\n",
        "print(sbp.difference(bank))\n",
        "\n"
      ],
      "metadata": {
        "colab": {
          "base_uri": "https://localhost:8080/"
        },
        "id": "LMQBeC5mL6Q8",
        "outputId": "14a2da95-439f-4fe4-9774-e2b71d4e335f"
      },
      "execution_count": 30,
      "outputs": [
        {
          "output_type": "stream",
          "name": "stdout",
          "text": [
            "{1}\n",
            "{2}\n"
          ]
        }
      ]
    },
    {
      "cell_type": "code",
      "source": [
        "list(dir(set))"
      ],
      "metadata": {
        "colab": {
          "base_uri": "https://localhost:8080/"
        },
        "id": "3oPnqtn2K_GG",
        "outputId": "5a478e48-5634-4983-cb49-02e10a4331c6"
      },
      "execution_count": 27,
      "outputs": [
        {
          "output_type": "execute_result",
          "data": {
            "text/plain": [
              "['__and__',\n",
              " '__class__',\n",
              " '__class_getitem__',\n",
              " '__contains__',\n",
              " '__delattr__',\n",
              " '__dir__',\n",
              " '__doc__',\n",
              " '__eq__',\n",
              " '__format__',\n",
              " '__ge__',\n",
              " '__getattribute__',\n",
              " '__getstate__',\n",
              " '__gt__',\n",
              " '__hash__',\n",
              " '__iand__',\n",
              " '__init__',\n",
              " '__init_subclass__',\n",
              " '__ior__',\n",
              " '__isub__',\n",
              " '__iter__',\n",
              " '__ixor__',\n",
              " '__le__',\n",
              " '__len__',\n",
              " '__lt__',\n",
              " '__ne__',\n",
              " '__new__',\n",
              " '__or__',\n",
              " '__rand__',\n",
              " '__reduce__',\n",
              " '__reduce_ex__',\n",
              " '__repr__',\n",
              " '__ror__',\n",
              " '__rsub__',\n",
              " '__rxor__',\n",
              " '__setattr__',\n",
              " '__sizeof__',\n",
              " '__str__',\n",
              " '__sub__',\n",
              " '__subclasshook__',\n",
              " '__xor__',\n",
              " 'add',\n",
              " 'clear',\n",
              " 'copy',\n",
              " 'difference',\n",
              " 'difference_update',\n",
              " 'discard',\n",
              " 'intersection',\n",
              " 'intersection_update',\n",
              " 'isdisjoint',\n",
              " 'issubset',\n",
              " 'issuperset',\n",
              " 'pop',\n",
              " 'remove',\n",
              " 'symmetric_difference',\n",
              " 'symmetric_difference_update',\n",
              " 'union',\n",
              " 'update']"
            ]
          },
          "metadata": {},
          "execution_count": 27
        }
      ]
    },
    {
      "cell_type": "markdown",
      "source": [
        "# Dictionary\n",
        "* we replace index with key\n",
        "* {`key` : `value`}"
      ],
      "metadata": {
        "id": "NQ-CViWtMfnu"
      }
    },
    {
      "cell_type": "code",
      "source": [
        "# problem\n",
        "# indexing not meaning full for storing structure data\n",
        "#           0                1             2     3        4         5\n",
        "data1 = [\"Muhammad Qasim\",\"Muhammad Aslam\", 30 , \"MSDS\", \"Karachi\",\"Karachi\"]\n",
        "data2 = ['Abid','Asif',35,\"Karachi\",\"PHD\",\"Karachi\"]"
      ],
      "metadata": {
        "id": "K-zV6evqFuFq"
      },
      "execution_count": null,
      "outputs": []
    },
    {
      "cell_type": "code",
      "source": [
        "#             0                1             2     3        4         5\n",
        "# data1 = [\"Muhammad Qasim\",\"Muhammad Aslam\", 30 , \"MSDS\", \"Karachi\",\"Karachi\"]\n",
        "# {key:value}\n",
        "# {0:\"Muhammad Qasim\"}\n",
        "\n",
        "data1 = {\n",
        "    \"name\":\"Muhammad Qasim\",\n",
        "    \"father_name\" : \"Muhammad Aslam\",\n",
        "    \"age\": 30,\n",
        "    \"education\" : \"MSDS\",\n",
        "    \"city\" : \"Karachi\",\n",
        "    \"birth_city\" : \"Karachi\"\n",
        "}\n",
        "print(type(data))\n",
        "print(data1)\n"
      ],
      "metadata": {
        "colab": {
          "base_uri": "https://localhost:8080/"
        },
        "id": "4rNL2QzZNITK",
        "outputId": "7b8f0dca-37b0-438c-8e62-783c6b61b4b2"
      },
      "execution_count": 31,
      "outputs": [
        {
          "output_type": "stream",
          "name": "stdout",
          "text": [
            "<class 'tuple'>\n",
            "{'name': 'Muhammad Qasim', 'father_name': 'Muhammad Aslam', 'age': 30, 'education': 'MSDS', 'city': 'Karachi', 'birth_city': 'Karachi'}\n"
          ]
        }
      ]
    },
    {
      "cell_type": "code",
      "source": [
        "data1 = {\n",
        "    \"name\":\"Muhammad Qasim\",\n",
        "    \"father_name\" : \"Muhammad Aslam\",\n",
        "    \"age\": 30,\n",
        "    \"education\" : \"MSDS\",\n",
        "    \"city\" : \"Karachi\",\n",
        "    \"birth_city\" : \"Karachi\"\n",
        "}\n",
        "\n",
        "\n",
        "print(data1['age'])\n",
        "print(data1['name'])"
      ],
      "metadata": {
        "colab": {
          "base_uri": "https://localhost:8080/"
        },
        "id": "oNfxhyIpOD6v",
        "outputId": "4f960ed3-87d6-45b3-bf76-c311f2ae46b3"
      },
      "execution_count": 34,
      "outputs": [
        {
          "output_type": "stream",
          "name": "stdout",
          "text": [
            "30\n",
            "Muhammad Qasim\n"
          ]
        }
      ]
    },
    {
      "cell_type": "code",
      "source": [
        "family = {\n",
        "    \"father\" : {\n",
        "        \"name\" : \"Muhammad Aslam\",\n",
        "        \"age\" : 60,\n",
        "        \"education\" : \"MSDS\",\n",
        "        \"skills\" : [\"AI\",\"ML\",\"DL\"]\n",
        "    },\n",
        "\n",
        "    \"mother\" : {\n",
        "        \"name\" : \"Naseem\",\n",
        "        \"age\" : 55,\n",
        "        \"education\" : \"MS\"\n",
        "    },\n",
        "}\n",
        "\n",
        "family"
      ],
      "metadata": {
        "colab": {
          "base_uri": "https://localhost:8080/"
        },
        "id": "ewQx1QtfOb9y",
        "outputId": "314f8fde-c176-4d16-e1e8-c784d2b444b2"
      },
      "execution_count": 36,
      "outputs": [
        {
          "output_type": "execute_result",
          "data": {
            "text/plain": [
              "{'father': {'name': 'Muhammad Aslam',\n",
              "  'age': 60,\n",
              "  'education': 'MSDS',\n",
              "  'skills': ['AI', 'ML', 'DL']},\n",
              " 'mother': {'name': 'Naseem', 'age': 55, 'education': 'MS'}}"
            ]
          },
          "metadata": {},
          "execution_count": 36
        }
      ]
    },
    {
      "cell_type": "code",
      "source": [
        "\n",
        "\n",
        "list(dir(dict))"
      ],
      "metadata": {
        "colab": {
          "base_uri": "https://localhost:8080/"
        },
        "id": "M3qzApUQPw_d",
        "outputId": "fa19a999-f1a9-45a0-fbfc-d75064d62d4d"
      },
      "execution_count": 37,
      "outputs": [
        {
          "output_type": "execute_result",
          "data": {
            "text/plain": [
              "['__class__',\n",
              " '__class_getitem__',\n",
              " '__contains__',\n",
              " '__delattr__',\n",
              " '__delitem__',\n",
              " '__dir__',\n",
              " '__doc__',\n",
              " '__eq__',\n",
              " '__format__',\n",
              " '__ge__',\n",
              " '__getattribute__',\n",
              " '__getitem__',\n",
              " '__getstate__',\n",
              " '__gt__',\n",
              " '__hash__',\n",
              " '__init__',\n",
              " '__init_subclass__',\n",
              " '__ior__',\n",
              " '__iter__',\n",
              " '__le__',\n",
              " '__len__',\n",
              " '__lt__',\n",
              " '__ne__',\n",
              " '__new__',\n",
              " '__or__',\n",
              " '__reduce__',\n",
              " '__reduce_ex__',\n",
              " '__repr__',\n",
              " '__reversed__',\n",
              " '__ror__',\n",
              " '__setattr__',\n",
              " '__setitem__',\n",
              " '__sizeof__',\n",
              " '__str__',\n",
              " '__subclasshook__',\n",
              " 'clear',\n",
              " 'copy',\n",
              " 'fromkeys',\n",
              " 'get',\n",
              " 'items',\n",
              " 'keys',\n",
              " 'pop',\n",
              " 'popitem',\n",
              " 'setdefault',\n",
              " 'update',\n",
              " 'values']"
            ]
          },
          "metadata": {},
          "execution_count": 37
        }
      ]
    },
    {
      "cell_type": "code",
      "source": [
        "data1 = {\n",
        "    \"name\":\"Muhammad Qasim\",\n",
        "    \"father_name\" : \"Muhammad Aslam\",\n",
        "    \"age\": 30,\n",
        "    \"education\" : \"MSDS\",\n",
        "    \"city\" : \"Karachi\",\n",
        "    \"birth_city\" : \"Karachi\"\n",
        "}\n",
        "\n",
        "data2 = {\"age\": 31,\n",
        "         \"education\": \"PHD\",\n",
        "         \"address\": \"Lahore\",\n",
        "         \"blood group\" : \"A+\"}\n",
        "\n",
        "data1.update(data2) # merge\n",
        "\n",
        "print(data1)\n",
        "print(data2)"
      ],
      "metadata": {
        "colab": {
          "base_uri": "https://localhost:8080/"
        },
        "id": "1ei7U2_fWWmE",
        "outputId": "0b6177cc-fb8a-43dc-e7ac-2ce4e33108ad"
      },
      "execution_count": 62,
      "outputs": [
        {
          "output_type": "stream",
          "name": "stdout",
          "text": [
            "{'name': 'Muhammad Qasim', 'father_name': 'Muhammad Aslam', 'age': 31, 'education': 'PHD', 'city': 'Karachi', 'birth_city': 'Karachi', 'address': 'Lahore', 'blood group': 'A+'}\n",
            "{'age': 31, 'education': 'PHD', 'address': 'Lahore', 'blood group': 'A+'}\n"
          ]
        }
      ]
    },
    {
      "cell_type": "code",
      "source": [
        "data1 = {\n",
        "    \"name\":\"Muhammad Qasim\",\n",
        "    \"father_name\" : \"Muhammad Aslam\",\n",
        "    \"age\": 30,\n",
        "    \"education\" : \"MSDS\",\n",
        "    \"city\" : \"Karachi\",\n",
        "    \"birth_city\" : \"Karachi\"\n",
        "}\n",
        "print(data1.setdefault('contact number')) # if avaible then return it value otherwise add key in dictionary\n",
        "print(data1)"
      ],
      "metadata": {
        "colab": {
          "base_uri": "https://localhost:8080/"
        },
        "id": "MujMNsC1VgQW",
        "outputId": "a845729a-aead-4ad5-8396-ae7738d7c7fd"
      },
      "execution_count": 60,
      "outputs": [
        {
          "output_type": "stream",
          "name": "stdout",
          "text": [
            "None\n",
            "{'name': 'Muhammad Qasim', 'father_name': 'Muhammad Aslam', 'age': 30, 'education': 'MSDS', 'city': 'Karachi', 'birth_city': 'Karachi', 'contact number': None}\n"
          ]
        }
      ]
    },
    {
      "cell_type": "code",
      "source": [
        "data1 = {\n",
        "    \"name\":\"Muhammad Qasim\",\n",
        "    \"father_name\" : \"Muhammad Aslam\",\n",
        "    \"age\": 30,\n",
        "    \"education\" : \"MSDS\",\n",
        "    \"city\" : \"Karachi\",\n",
        "    \"birth_city\" : \"Karachi\"\n",
        "}\n",
        "print(data1.setdefault('contact number',\"not available\"))\n",
        "print(data1)"
      ],
      "metadata": {
        "colab": {
          "base_uri": "https://localhost:8080/"
        },
        "id": "00BGivbrVntl",
        "outputId": "6edb230c-c16b-485f-98e4-8bb7704deb2d"
      },
      "execution_count": 61,
      "outputs": [
        {
          "output_type": "stream",
          "name": "stdout",
          "text": [
            "not available\n",
            "{'name': 'Muhammad Qasim', 'father_name': 'Muhammad Aslam', 'age': 30, 'education': 'MSDS', 'city': 'Karachi', 'birth_city': 'Karachi', 'contact number': 'not available'}\n"
          ]
        }
      ]
    },
    {
      "cell_type": "code",
      "source": [
        "data1 = {\n",
        "    \"name\":\"Muhammad Qasim\",\n",
        "    \"father_name\" : \"Muhammad Aslam\",\n",
        "    \"age\": 30,\n",
        "    \"education\" : \"MSDS\",\n",
        "    \"city\" : \"Karachi\",\n",
        "    \"birth_city\" : \"Karachi\"\n",
        "}\n",
        "print(data1.get('contact number')) # if available then return it value otherwise not raise the error\n",
        "print(data1)"
      ],
      "metadata": {
        "colab": {
          "base_uri": "https://localhost:8080/"
        },
        "id": "v5xe-D-AVSgx",
        "outputId": "6ce29bf5-96c0-4a99-d9e7-c79825a5b924"
      },
      "execution_count": 59,
      "outputs": [
        {
          "output_type": "stream",
          "name": "stdout",
          "text": [
            "None\n",
            "{'name': 'Muhammad Qasim', 'father_name': 'Muhammad Aslam', 'age': 30, 'education': 'MSDS', 'city': 'Karachi', 'birth_city': 'Karachi'}\n"
          ]
        }
      ]
    },
    {
      "cell_type": "code",
      "source": [],
      "metadata": {
        "id": "2YdzQE_cVfS5"
      },
      "execution_count": null,
      "outputs": []
    },
    {
      "cell_type": "code",
      "source": [
        "data1 = {\n",
        "    \"name\":\"Muhammad Qasim\",\n",
        "    \"father_name\" : \"Muhammad Aslam\",\n",
        "    \"age\": 30,\n",
        "    \"education\" : \"MSDS\",\n",
        "    \"city\" : \"Karachi\",\n",
        "    \"birth_city\" : \"Karachi\"\n",
        "}\n",
        "\n",
        "del_data = data1.popitem()\n",
        "\n",
        "print(data1)\n",
        "print(del_data)"
      ],
      "metadata": {
        "colab": {
          "base_uri": "https://localhost:8080/"
        },
        "id": "9VxhOpIeUhsS",
        "outputId": "3406183c-5950-4af2-a327-e9fc267f23e8"
      },
      "execution_count": 54,
      "outputs": [
        {
          "output_type": "stream",
          "name": "stdout",
          "text": [
            "{'name': 'Muhammad Qasim', 'father_name': 'Muhammad Aslam', 'age': 30, 'education': 'MSDS', 'city': 'Karachi'}\n",
            "('birth_city', 'Karachi')\n"
          ]
        }
      ]
    },
    {
      "cell_type": "code",
      "source": [
        "data1 = {\n",
        "    \"name\":\"Muhammad Qasim\",\n",
        "    \"father_name\" : \"Muhammad Aslam\",\n",
        "    \"age\": 30,\n",
        "    \"education\" : \"MSDS\",\n",
        "    \"city\" : \"Karachi\",\n",
        "    \"birth_city\" : \"Karachi\"\n",
        "}\n",
        "\n",
        "del_data = data1.popitem()\n",
        "\n",
        "print(data1)\n",
        "print(del_data)"
      ],
      "metadata": {
        "colab": {
          "base_uri": "https://localhost:8080/"
        },
        "id": "noeU9dsNU8Ys",
        "outputId": "c18391ec-39c3-4e58-d10e-2c1c0568b22c"
      },
      "execution_count": 57,
      "outputs": [
        {
          "output_type": "stream",
          "name": "stdout",
          "text": [
            "{'name': 'Muhammad Qasim', 'father_name': 'Muhammad Aslam', 'age': 30, 'education': 'MSDS', 'city': 'Karachi'}\n",
            "('birth_city', 'Karachi')\n"
          ]
        }
      ]
    },
    {
      "cell_type": "code",
      "source": [
        "data1 = {\n",
        "    \"name\":\"Muhammad Qasim\",\n",
        "    \"father_name\" : \"Muhammad Aslam\",\n",
        "    \"age\": 30,\n",
        "    \"education\" : \"MSDS\",\n",
        "    \"city\" : \"Karachi\",\n",
        "    \"birth_city\" : \"Karachi\"\n",
        "}\n",
        "\n",
        "del_data = data1.pop(\"age\")\n",
        "\n",
        "print(data1)\n",
        "\n",
        "print(del_data)"
      ],
      "metadata": {
        "colab": {
          "base_uri": "https://localhost:8080/"
        },
        "id": "HF_KfIwtT_xa",
        "outputId": "fd4fa5fa-5f9c-492d-d795-96020b2d307f"
      },
      "execution_count": 53,
      "outputs": [
        {
          "output_type": "stream",
          "name": "stdout",
          "text": [
            "{'name': 'Muhammad Qasim', 'father_name': 'Muhammad Aslam', 'education': 'MSDS', 'city': 'Karachi', 'birth_city': 'Karachi'}\n",
            "30\n"
          ]
        }
      ]
    },
    {
      "cell_type": "code",
      "source": [],
      "metadata": {
        "id": "TqOmOC30T_z8"
      },
      "execution_count": null,
      "outputs": []
    },
    {
      "cell_type": "code",
      "source": [],
      "metadata": {
        "id": "BxRNJ7xQT_20"
      },
      "execution_count": null,
      "outputs": []
    },
    {
      "cell_type": "code",
      "source": [
        "data1 = {\n",
        "    \"name\":\"Muhammad Qasim\",\n",
        "    \"father_name\" : \"Muhammad Aslam\",\n",
        "    \"age\": 30,\n",
        "    \"education\" : \"MSDS\",\n",
        "    \"city\" : \"Karachi\",\n",
        "    \"birth_city\" : \"Karachi\"\n",
        "}\n",
        "\n",
        "print(data1.keys())"
      ],
      "metadata": {
        "colab": {
          "base_uri": "https://localhost:8080/"
        },
        "id": "o518DsSLTjd-",
        "outputId": "9693df33-c631-4890-813b-77d3e0798793"
      },
      "execution_count": 48,
      "outputs": [
        {
          "output_type": "stream",
          "name": "stdout",
          "text": [
            "dict_keys(['name', 'father_name', 'age', 'education', 'city', 'birth_city'])\n"
          ]
        }
      ]
    },
    {
      "cell_type": "code",
      "source": [
        "data1 = {\n",
        "    \"name\":\"Muhammad Qasim\",\n",
        "    \"father_name\" : \"Muhammad Aslam\",\n",
        "    \"age\": 30,\n",
        "    \"education\" : \"MSDS\",\n",
        "    \"city\" : \"Karachi\",\n",
        "    \"birth_city\" : \"Karachi\"\n",
        "}"
      ],
      "metadata": {
        "id": "A0FDt9lKT-QE"
      },
      "execution_count": null,
      "outputs": []
    },
    {
      "cell_type": "code",
      "source": [
        "data1 = {\n",
        "    \"name\":\"Muhammad Qasim\",\n",
        "    \"father_name\" : \"Muhammad Aslam\",\n",
        "    \"age\": 30,\n",
        "    \"education\" : \"MSDS\",\n",
        "    \"city\" : \"Karachi\",\n",
        "    \"birth_city\" : \"Karachi\"\n",
        "}\n",
        "\n",
        "print(data1.values())"
      ],
      "metadata": {
        "colab": {
          "base_uri": "https://localhost:8080/"
        },
        "id": "_cmyhPrETp2R",
        "outputId": "3267200f-e1e7-43c0-f62f-8231f42a218d"
      },
      "execution_count": 49,
      "outputs": [
        {
          "output_type": "stream",
          "name": "stdout",
          "text": [
            "dict_values(['Muhammad Qasim', 'Muhammad Aslam', 30, 'MSDS', 'Karachi', 'Karachi'])\n"
          ]
        }
      ]
    },
    {
      "cell_type": "code",
      "source": [
        "data1 = {\n",
        "    \"name\":\"Muhammad Qasim\",\n",
        "    \"father_name\" : \"Muhammad Aslam\",\n",
        "    \"age\": 30,\n",
        "    \"education\" : \"MSDS\",\n",
        "    \"city\" : \"Karachi\",\n",
        "    \"birth_city\" : \"Karachi\"\n",
        "}\n",
        "\n",
        "print(data1.items())"
      ],
      "metadata": {
        "colab": {
          "base_uri": "https://localhost:8080/"
        },
        "id": "JZQZgWP3Tv0C",
        "outputId": "ea2ca9d2-76f7-4369-b49c-23c61ee21786"
      },
      "execution_count": 50,
      "outputs": [
        {
          "output_type": "stream",
          "name": "stdout",
          "text": [
            "dict_items([('name', 'Muhammad Qasim'), ('father_name', 'Muhammad Aslam'), ('age', 30), ('education', 'MSDS'), ('city', 'Karachi'), ('birth_city', 'Karachi')])\n"
          ]
        }
      ]
    },
    {
      "cell_type": "code",
      "source": [
        "data1 = {\n",
        "    \"name\":\"Muhammad Qasim\",\n",
        "    \"father_name\" : \"Muhammad Aslam\",\n",
        "    \"age\": 30,\n",
        "    \"education\" : \"MSDS\",\n",
        "    \"city\" : \"Karachi\",\n",
        "    \"birth_city\" : \"Karachi\"\n",
        "}\n",
        "\n",
        "print(data1['name'])\n",
        "print(data1['contact number']) # error\n",
        "print(\"Pakistan zindabad\")\n"
      ],
      "metadata": {
        "colab": {
          "base_uri": "https://localhost:8080/",
          "height": 211
        },
        "id": "WpDPZ85bS2Z4",
        "outputId": "70bc33f0-bb01-47e0-a467-1d7563c35866"
      },
      "execution_count": 45,
      "outputs": [
        {
          "output_type": "stream",
          "name": "stdout",
          "text": [
            "Muhammad Qasim\n"
          ]
        },
        {
          "output_type": "error",
          "ename": "KeyError",
          "evalue": "'contact number'",
          "traceback": [
            "\u001b[0;31m---------------------------------------------------------------------------\u001b[0m",
            "\u001b[0;31mKeyError\u001b[0m                                  Traceback (most recent call last)",
            "\u001b[0;32m<ipython-input-45-5de189f18b51>\u001b[0m in \u001b[0;36m<cell line: 0>\u001b[0;34m()\u001b[0m\n\u001b[1;32m      9\u001b[0m \u001b[0;34m\u001b[0m\u001b[0m\n\u001b[1;32m     10\u001b[0m \u001b[0mprint\u001b[0m\u001b[0;34m(\u001b[0m\u001b[0mdata1\u001b[0m\u001b[0;34m[\u001b[0m\u001b[0;34m'name'\u001b[0m\u001b[0;34m]\u001b[0m\u001b[0;34m)\u001b[0m\u001b[0;34m\u001b[0m\u001b[0;34m\u001b[0m\u001b[0m\n\u001b[0;32m---> 11\u001b[0;31m \u001b[0mprint\u001b[0m\u001b[0;34m(\u001b[0m\u001b[0mdata1\u001b[0m\u001b[0;34m[\u001b[0m\u001b[0;34m'contact number'\u001b[0m\u001b[0;34m]\u001b[0m\u001b[0;34m)\u001b[0m\u001b[0;34m\u001b[0m\u001b[0;34m\u001b[0m\u001b[0m\n\u001b[0m\u001b[1;32m     12\u001b[0m \u001b[0mprint\u001b[0m\u001b[0;34m(\u001b[0m\u001b[0;34m\"Pakistan zindabad\"\u001b[0m\u001b[0;34m)\u001b[0m\u001b[0;34m\u001b[0m\u001b[0;34m\u001b[0m\u001b[0m\n",
            "\u001b[0;31mKeyError\u001b[0m: 'contact number'"
          ]
        }
      ]
    },
    {
      "cell_type": "code",
      "source": [
        "data1 = {\n",
        "    \"name\":\"Muhammad Qasim\",\n",
        "    \"father_name\" : \"Muhammad Aslam\",\n",
        "    \"age\": 30,\n",
        "    \"education\" : \"MSDS\",\n",
        "    \"city\" : \"Karachi\",\n",
        "    \"birth_city\" : \"Karachi\"\n",
        "}\n",
        "\n",
        "print(data1['name'])\n",
        "print(data1.get('contact number')) # dict.get('key')\n",
        "print(data1.get('name'))\n",
        "print(\"Pakistan zindabad\")"
      ],
      "metadata": {
        "colab": {
          "base_uri": "https://localhost:8080/"
        },
        "id": "9jlVwv1zTLsr",
        "outputId": "fd2cc7a6-5a98-4c43-fcde-df79638e6a3e"
      },
      "execution_count": 47,
      "outputs": [
        {
          "output_type": "stream",
          "name": "stdout",
          "text": [
            "Muhammad Qasim\n",
            "None\n",
            "Muhammad Qasim\n",
            "Pakistan zindabad\n"
          ]
        }
      ]
    },
    {
      "cell_type": "code",
      "source": [
        "keys_list = [\"id\",'cnic','name','father_name','address', 'contact number']\n",
        "\n",
        "data1 = dict.fromkeys(keys_list)\n",
        "\n",
        "data1['id'] = 1\n",
        "data1"
      ],
      "metadata": {
        "colab": {
          "base_uri": "https://localhost:8080/"
        },
        "id": "qanuuXi2RAOT",
        "outputId": "4fd0e9f9-d96c-4b0f-e2cc-f2a604b23f99"
      },
      "execution_count": 43,
      "outputs": [
        {
          "output_type": "execute_result",
          "data": {
            "text/plain": [
              "{'id': 1,\n",
              " 'cnic': None,\n",
              " 'name': None,\n",
              " 'father_name': None,\n",
              " 'address': None,\n",
              " 'contact number': None}"
            ]
          },
          "metadata": {},
          "execution_count": 43
        }
      ]
    },
    {
      "cell_type": "code",
      "source": [
        "data1 = {\n",
        "    \"name\":\"Muhammad Qasim\",\n",
        "    \"father_name\" : \"Muhammad Aslam\",\n",
        "    \"age\": 30,\n",
        "    \"education\" : \"MSDS\",\n",
        "    \"city\" : \"Karachi\",\n",
        "    \"birth_city\" : \"Karachi\"\n",
        "}\n",
        "\n",
        "data2 = data1.copy() # deep copy - diff objects\n",
        "\n",
        "data2['age'] = 50\n",
        "\n",
        "print(data1)\n",
        "print(data2)"
      ],
      "metadata": {
        "colab": {
          "base_uri": "https://localhost:8080/"
        },
        "id": "7SndRWCsQlxD",
        "outputId": "142cdaee-ea65-4a2c-eae1-63f09ef34531"
      },
      "execution_count": 41,
      "outputs": [
        {
          "output_type": "stream",
          "name": "stdout",
          "text": [
            "{'name': 'Muhammad Qasim', 'father_name': 'Muhammad Aslam', 'age': 30, 'education': 'MSDS', 'city': 'Karachi', 'birth_city': 'Karachi'}\n",
            "{'name': 'Muhammad Qasim', 'father_name': 'Muhammad Aslam', 'age': 50, 'education': 'MSDS', 'city': 'Karachi', 'birth_city': 'Karachi'}\n"
          ]
        }
      ]
    },
    {
      "cell_type": "code",
      "source": [
        "data1 = {\n",
        "    \"name\":\"Muhammad Qasim\",\n",
        "    \"father_name\" : \"Muhammad Aslam\",\n",
        "    \"age\": 30,\n",
        "    \"education\" : \"MSDS\",\n",
        "    \"city\" : \"Karachi\",\n",
        "    \"birth_city\" : \"Karachi\"\n",
        "}\n",
        "\n",
        "data2 = data1 # shallow copy - nick name - same objects\n",
        "\n",
        "data2['age'] = 50\n",
        "\n",
        "print(data1)\n",
        "print(data2)"
      ],
      "metadata": {
        "colab": {
          "base_uri": "https://localhost:8080/"
        },
        "id": "YAIWjZ8VQFDB",
        "outputId": "fb5ea901-2d76-4d53-fac5-f3a00192bb42"
      },
      "execution_count": 40,
      "outputs": [
        {
          "output_type": "stream",
          "name": "stdout",
          "text": [
            "{'name': 'Muhammad Qasim', 'father_name': 'Muhammad Aslam', 'age': 50, 'education': 'MSDS', 'city': 'Karachi', 'birth_city': 'Karachi'}\n",
            "{'name': 'Muhammad Qasim', 'father_name': 'Muhammad Aslam', 'age': 50, 'education': 'MSDS', 'city': 'Karachi', 'birth_city': 'Karachi'}\n"
          ]
        }
      ]
    },
    {
      "cell_type": "code",
      "source": [
        "data1 = {\n",
        "    \"name\":\"Muhammad Qasim\",\n",
        "    \"father_name\" : \"Muhammad Aslam\",\n",
        "    \"age\": 30,\n",
        "    \"education\" : \"MSDS\",\n",
        "    \"city\" : \"Karachi\",\n",
        "    \"birth_city\" : \"Karachi\"\n",
        "}\n",
        "data1.clear() #\n",
        "\n",
        "print(data1)"
      ],
      "metadata": {
        "colab": {
          "base_uri": "https://localhost:8080/"
        },
        "id": "HpmybnuCPl6C",
        "outputId": "808adc5b-4dc9-47d4-f22f-3ab78d54c33d"
      },
      "execution_count": 39,
      "outputs": [
        {
          "output_type": "stream",
          "name": "stdout",
          "text": [
            "{}\n"
          ]
        }
      ]
    },
    {
      "cell_type": "code",
      "source": [
        "data = {\n",
        "    \"id\": [1,2,3],\n",
        "    \"name\":['Qasim','Dr Najeed',\"Jamal\"]\n",
        "}\n",
        "\n",
        "import pandas as pd\n",
        "\n",
        "df = pd.DataFrame(data)\n",
        "df"
      ],
      "metadata": {
        "colab": {
          "base_uri": "https://localhost:8080/",
          "height": 143
        },
        "id": "TzcsQSoQXiX8",
        "outputId": "17c6c31a-8167-4920-ac36-6c31f1ae5af2"
      },
      "execution_count": 63,
      "outputs": [
        {
          "output_type": "execute_result",
          "data": {
            "text/plain": [
              "   id       name\n",
              "0   1      Qasim\n",
              "1   2  Dr Najeed\n",
              "2   3      Jamal"
            ],
            "text/html": [
              "\n",
              "  <div id=\"df-c6b424f3-98b2-41f2-980c-a8610e8b1584\" class=\"colab-df-container\">\n",
              "    <div>\n",
              "<style scoped>\n",
              "    .dataframe tbody tr th:only-of-type {\n",
              "        vertical-align: middle;\n",
              "    }\n",
              "\n",
              "    .dataframe tbody tr th {\n",
              "        vertical-align: top;\n",
              "    }\n",
              "\n",
              "    .dataframe thead th {\n",
              "        text-align: right;\n",
              "    }\n",
              "</style>\n",
              "<table border=\"1\" class=\"dataframe\">\n",
              "  <thead>\n",
              "    <tr style=\"text-align: right;\">\n",
              "      <th></th>\n",
              "      <th>id</th>\n",
              "      <th>name</th>\n",
              "    </tr>\n",
              "  </thead>\n",
              "  <tbody>\n",
              "    <tr>\n",
              "      <th>0</th>\n",
              "      <td>1</td>\n",
              "      <td>Qasim</td>\n",
              "    </tr>\n",
              "    <tr>\n",
              "      <th>1</th>\n",
              "      <td>2</td>\n",
              "      <td>Dr Najeed</td>\n",
              "    </tr>\n",
              "    <tr>\n",
              "      <th>2</th>\n",
              "      <td>3</td>\n",
              "      <td>Jamal</td>\n",
              "    </tr>\n",
              "  </tbody>\n",
              "</table>\n",
              "</div>\n",
              "    <div class=\"colab-df-buttons\">\n",
              "\n",
              "  <div class=\"colab-df-container\">\n",
              "    <button class=\"colab-df-convert\" onclick=\"convertToInteractive('df-c6b424f3-98b2-41f2-980c-a8610e8b1584')\"\n",
              "            title=\"Convert this dataframe to an interactive table.\"\n",
              "            style=\"display:none;\">\n",
              "\n",
              "  <svg xmlns=\"http://www.w3.org/2000/svg\" height=\"24px\" viewBox=\"0 -960 960 960\">\n",
              "    <path d=\"M120-120v-720h720v720H120Zm60-500h600v-160H180v160Zm220 220h160v-160H400v160Zm0 220h160v-160H400v160ZM180-400h160v-160H180v160Zm440 0h160v-160H620v160ZM180-180h160v-160H180v160Zm440 0h160v-160H620v160Z\"/>\n",
              "  </svg>\n",
              "    </button>\n",
              "\n",
              "  <style>\n",
              "    .colab-df-container {\n",
              "      display:flex;\n",
              "      gap: 12px;\n",
              "    }\n",
              "\n",
              "    .colab-df-convert {\n",
              "      background-color: #E8F0FE;\n",
              "      border: none;\n",
              "      border-radius: 50%;\n",
              "      cursor: pointer;\n",
              "      display: none;\n",
              "      fill: #1967D2;\n",
              "      height: 32px;\n",
              "      padding: 0 0 0 0;\n",
              "      width: 32px;\n",
              "    }\n",
              "\n",
              "    .colab-df-convert:hover {\n",
              "      background-color: #E2EBFA;\n",
              "      box-shadow: 0px 1px 2px rgba(60, 64, 67, 0.3), 0px 1px 3px 1px rgba(60, 64, 67, 0.15);\n",
              "      fill: #174EA6;\n",
              "    }\n",
              "\n",
              "    .colab-df-buttons div {\n",
              "      margin-bottom: 4px;\n",
              "    }\n",
              "\n",
              "    [theme=dark] .colab-df-convert {\n",
              "      background-color: #3B4455;\n",
              "      fill: #D2E3FC;\n",
              "    }\n",
              "\n",
              "    [theme=dark] .colab-df-convert:hover {\n",
              "      background-color: #434B5C;\n",
              "      box-shadow: 0px 1px 3px 1px rgba(0, 0, 0, 0.15);\n",
              "      filter: drop-shadow(0px 1px 2px rgba(0, 0, 0, 0.3));\n",
              "      fill: #FFFFFF;\n",
              "    }\n",
              "  </style>\n",
              "\n",
              "    <script>\n",
              "      const buttonEl =\n",
              "        document.querySelector('#df-c6b424f3-98b2-41f2-980c-a8610e8b1584 button.colab-df-convert');\n",
              "      buttonEl.style.display =\n",
              "        google.colab.kernel.accessAllowed ? 'block' : 'none';\n",
              "\n",
              "      async function convertToInteractive(key) {\n",
              "        const element = document.querySelector('#df-c6b424f3-98b2-41f2-980c-a8610e8b1584');\n",
              "        const dataTable =\n",
              "          await google.colab.kernel.invokeFunction('convertToInteractive',\n",
              "                                                    [key], {});\n",
              "        if (!dataTable) return;\n",
              "\n",
              "        const docLinkHtml = 'Like what you see? Visit the ' +\n",
              "          '<a target=\"_blank\" href=https://colab.research.google.com/notebooks/data_table.ipynb>data table notebook</a>'\n",
              "          + ' to learn more about interactive tables.';\n",
              "        element.innerHTML = '';\n",
              "        dataTable['output_type'] = 'display_data';\n",
              "        await google.colab.output.renderOutput(dataTable, element);\n",
              "        const docLink = document.createElement('div');\n",
              "        docLink.innerHTML = docLinkHtml;\n",
              "        element.appendChild(docLink);\n",
              "      }\n",
              "    </script>\n",
              "  </div>\n",
              "\n",
              "\n",
              "<div id=\"df-dd6e032a-a480-424f-8688-c4f6785cd68f\">\n",
              "  <button class=\"colab-df-quickchart\" onclick=\"quickchart('df-dd6e032a-a480-424f-8688-c4f6785cd68f')\"\n",
              "            title=\"Suggest charts\"\n",
              "            style=\"display:none;\">\n",
              "\n",
              "<svg xmlns=\"http://www.w3.org/2000/svg\" height=\"24px\"viewBox=\"0 0 24 24\"\n",
              "     width=\"24px\">\n",
              "    <g>\n",
              "        <path d=\"M19 3H5c-1.1 0-2 .9-2 2v14c0 1.1.9 2 2 2h14c1.1 0 2-.9 2-2V5c0-1.1-.9-2-2-2zM9 17H7v-7h2v7zm4 0h-2V7h2v10zm4 0h-2v-4h2v4z\"/>\n",
              "    </g>\n",
              "</svg>\n",
              "  </button>\n",
              "\n",
              "<style>\n",
              "  .colab-df-quickchart {\n",
              "      --bg-color: #E8F0FE;\n",
              "      --fill-color: #1967D2;\n",
              "      --hover-bg-color: #E2EBFA;\n",
              "      --hover-fill-color: #174EA6;\n",
              "      --disabled-fill-color: #AAA;\n",
              "      --disabled-bg-color: #DDD;\n",
              "  }\n",
              "\n",
              "  [theme=dark] .colab-df-quickchart {\n",
              "      --bg-color: #3B4455;\n",
              "      --fill-color: #D2E3FC;\n",
              "      --hover-bg-color: #434B5C;\n",
              "      --hover-fill-color: #FFFFFF;\n",
              "      --disabled-bg-color: #3B4455;\n",
              "      --disabled-fill-color: #666;\n",
              "  }\n",
              "\n",
              "  .colab-df-quickchart {\n",
              "    background-color: var(--bg-color);\n",
              "    border: none;\n",
              "    border-radius: 50%;\n",
              "    cursor: pointer;\n",
              "    display: none;\n",
              "    fill: var(--fill-color);\n",
              "    height: 32px;\n",
              "    padding: 0;\n",
              "    width: 32px;\n",
              "  }\n",
              "\n",
              "  .colab-df-quickchart:hover {\n",
              "    background-color: var(--hover-bg-color);\n",
              "    box-shadow: 0 1px 2px rgba(60, 64, 67, 0.3), 0 1px 3px 1px rgba(60, 64, 67, 0.15);\n",
              "    fill: var(--button-hover-fill-color);\n",
              "  }\n",
              "\n",
              "  .colab-df-quickchart-complete:disabled,\n",
              "  .colab-df-quickchart-complete:disabled:hover {\n",
              "    background-color: var(--disabled-bg-color);\n",
              "    fill: var(--disabled-fill-color);\n",
              "    box-shadow: none;\n",
              "  }\n",
              "\n",
              "  .colab-df-spinner {\n",
              "    border: 2px solid var(--fill-color);\n",
              "    border-color: transparent;\n",
              "    border-bottom-color: var(--fill-color);\n",
              "    animation:\n",
              "      spin 1s steps(1) infinite;\n",
              "  }\n",
              "\n",
              "  @keyframes spin {\n",
              "    0% {\n",
              "      border-color: transparent;\n",
              "      border-bottom-color: var(--fill-color);\n",
              "      border-left-color: var(--fill-color);\n",
              "    }\n",
              "    20% {\n",
              "      border-color: transparent;\n",
              "      border-left-color: var(--fill-color);\n",
              "      border-top-color: var(--fill-color);\n",
              "    }\n",
              "    30% {\n",
              "      border-color: transparent;\n",
              "      border-left-color: var(--fill-color);\n",
              "      border-top-color: var(--fill-color);\n",
              "      border-right-color: var(--fill-color);\n",
              "    }\n",
              "    40% {\n",
              "      border-color: transparent;\n",
              "      border-right-color: var(--fill-color);\n",
              "      border-top-color: var(--fill-color);\n",
              "    }\n",
              "    60% {\n",
              "      border-color: transparent;\n",
              "      border-right-color: var(--fill-color);\n",
              "    }\n",
              "    80% {\n",
              "      border-color: transparent;\n",
              "      border-right-color: var(--fill-color);\n",
              "      border-bottom-color: var(--fill-color);\n",
              "    }\n",
              "    90% {\n",
              "      border-color: transparent;\n",
              "      border-bottom-color: var(--fill-color);\n",
              "    }\n",
              "  }\n",
              "</style>\n",
              "\n",
              "  <script>\n",
              "    async function quickchart(key) {\n",
              "      const quickchartButtonEl =\n",
              "        document.querySelector('#' + key + ' button');\n",
              "      quickchartButtonEl.disabled = true;  // To prevent multiple clicks.\n",
              "      quickchartButtonEl.classList.add('colab-df-spinner');\n",
              "      try {\n",
              "        const charts = await google.colab.kernel.invokeFunction(\n",
              "            'suggestCharts', [key], {});\n",
              "      } catch (error) {\n",
              "        console.error('Error during call to suggestCharts:', error);\n",
              "      }\n",
              "      quickchartButtonEl.classList.remove('colab-df-spinner');\n",
              "      quickchartButtonEl.classList.add('colab-df-quickchart-complete');\n",
              "    }\n",
              "    (() => {\n",
              "      let quickchartButtonEl =\n",
              "        document.querySelector('#df-dd6e032a-a480-424f-8688-c4f6785cd68f button');\n",
              "      quickchartButtonEl.style.display =\n",
              "        google.colab.kernel.accessAllowed ? 'block' : 'none';\n",
              "    })();\n",
              "  </script>\n",
              "</div>\n",
              "\n",
              "  <div id=\"id_e930d880-e80a-4b71-8e9e-e679b77176c5\">\n",
              "    <style>\n",
              "      .colab-df-generate {\n",
              "        background-color: #E8F0FE;\n",
              "        border: none;\n",
              "        border-radius: 50%;\n",
              "        cursor: pointer;\n",
              "        display: none;\n",
              "        fill: #1967D2;\n",
              "        height: 32px;\n",
              "        padding: 0 0 0 0;\n",
              "        width: 32px;\n",
              "      }\n",
              "\n",
              "      .colab-df-generate:hover {\n",
              "        background-color: #E2EBFA;\n",
              "        box-shadow: 0px 1px 2px rgba(60, 64, 67, 0.3), 0px 1px 3px 1px rgba(60, 64, 67, 0.15);\n",
              "        fill: #174EA6;\n",
              "      }\n",
              "\n",
              "      [theme=dark] .colab-df-generate {\n",
              "        background-color: #3B4455;\n",
              "        fill: #D2E3FC;\n",
              "      }\n",
              "\n",
              "      [theme=dark] .colab-df-generate:hover {\n",
              "        background-color: #434B5C;\n",
              "        box-shadow: 0px 1px 3px 1px rgba(0, 0, 0, 0.15);\n",
              "        filter: drop-shadow(0px 1px 2px rgba(0, 0, 0, 0.3));\n",
              "        fill: #FFFFFF;\n",
              "      }\n",
              "    </style>\n",
              "    <button class=\"colab-df-generate\" onclick=\"generateWithVariable('df')\"\n",
              "            title=\"Generate code using this dataframe.\"\n",
              "            style=\"display:none;\">\n",
              "\n",
              "  <svg xmlns=\"http://www.w3.org/2000/svg\" height=\"24px\"viewBox=\"0 0 24 24\"\n",
              "       width=\"24px\">\n",
              "    <path d=\"M7,19H8.4L18.45,9,17,7.55,7,17.6ZM5,21V16.75L18.45,3.32a2,2,0,0,1,2.83,0l1.4,1.43a1.91,1.91,0,0,1,.58,1.4,1.91,1.91,0,0,1-.58,1.4L9.25,21ZM18.45,9,17,7.55Zm-12,3A5.31,5.31,0,0,0,4.9,8.1,5.31,5.31,0,0,0,1,6.5,5.31,5.31,0,0,0,4.9,4.9,5.31,5.31,0,0,0,6.5,1,5.31,5.31,0,0,0,8.1,4.9,5.31,5.31,0,0,0,12,6.5,5.46,5.46,0,0,0,6.5,12Z\"/>\n",
              "  </svg>\n",
              "    </button>\n",
              "    <script>\n",
              "      (() => {\n",
              "      const buttonEl =\n",
              "        document.querySelector('#id_e930d880-e80a-4b71-8e9e-e679b77176c5 button.colab-df-generate');\n",
              "      buttonEl.style.display =\n",
              "        google.colab.kernel.accessAllowed ? 'block' : 'none';\n",
              "\n",
              "      buttonEl.onclick = () => {\n",
              "        google.colab.notebook.generateWithVariable('df');\n",
              "      }\n",
              "      })();\n",
              "    </script>\n",
              "  </div>\n",
              "\n",
              "    </div>\n",
              "  </div>\n"
            ],
            "application/vnd.google.colaboratory.intrinsic+json": {
              "type": "dataframe",
              "variable_name": "df",
              "summary": "{\n  \"name\": \"df\",\n  \"rows\": 3,\n  \"fields\": [\n    {\n      \"column\": \"id\",\n      \"properties\": {\n        \"dtype\": \"number\",\n        \"std\": 1,\n        \"min\": 1,\n        \"max\": 3,\n        \"num_unique_values\": 3,\n        \"samples\": [\n          1,\n          2,\n          3\n        ],\n        \"semantic_type\": \"\",\n        \"description\": \"\"\n      }\n    },\n    {\n      \"column\": \"name\",\n      \"properties\": {\n        \"dtype\": \"string\",\n        \"num_unique_values\": 3,\n        \"samples\": [\n          \"Qasim\",\n          \"Dr Najeed\",\n          \"Jamal\"\n        ],\n        \"semantic_type\": \"\",\n        \"description\": \"\"\n      }\n    }\n  ]\n}"
            }
          },
          "metadata": {},
          "execution_count": 63
        }
      ]
    },
    {
      "cell_type": "code",
      "source": [
        "chat = \"\"\"\n",
        "You\n",
        "12:45 PM\n",
        "https://docs.python.org/3/library/re.html\n",
        "Zaib Unnisa\n",
        "12:46 PM\n",
        "4200005000408\n",
        "Affan Hasan\n",
        "12:46 PM\n",
        "4210171417603\n",
        "Ali Mohtashim\n",
        "12:46 PM\n",
        "42201-58820081-1\n",
        "Ali Sardar\n",
        "12:46 PM\n",
        "42101-7501016-9\n",
        "SAJID ZAHID\n",
        "12:46 PM\n",
        "SAJID : 42101-5646709-9\n",
        "Asif Shah\n",
        "12:46 PM\n",
        "42401-0675764-1\n",
        "BABAR SUFYAN\n",
        "12:46 PM\n",
        "42201-716393-3\n",
        "Faraz Khan\n",
        "12:46 PM\n",
        "4240193224485\n",
        "shahbaaz siddiqui\n",
        "12:46 PM\n",
        "42000-7729711-3\n",
        "Zeeshan Ali\n",
        "12:46 PM\n",
        "42000-8300210-5\n",
        "Elishba John\n",
        "12:46 PM\n",
        "42301.0327661.0\n",
        "Babar Ali\n",
        "12:46 PM\n",
        "4550452532213\n",
        "abdullah aweem\n",
        "12:46 PM\n",
        "4210150157035\n",
        "Simra Nasir\n",
        "12:46 PM\n",
        "4210160202332\n",
        "Elishba John\n",
        "12:46 PM\n",
        "42301,0327661,0\n",
        "Syed komail Hassan\n",
        "12:47 PM\n",
        "42501-1445345-7\n",
        "Muhammad Rafay\n",
        "12:47 PM\n",
        "4250159698285\n",
        "adeel akhtar\n",
        "12:47 PM\n",
        "4220185361219\n",
        "Pervaiz Nazir\n",
        "12:47 PM\n",
        "4530292932613\n",
        "amber malik\n",
        "12:47 PM\n",
        "37405-0609161-8\n",
        "\"\"\"\n",
        "\n",
        "import re\n",
        "\n",
        "patter = \"\"\"(.*?)\n",
        "([0-9]{2}:[0-9]{2} [AMP]{2})\n",
        "([0-9-.,]+)\"\"\"\n",
        "\n",
        "data = re.findall(patter,chat)\n",
        "data\n",
        "\n",
        "\n",
        "import pandas as pd\n",
        "\n",
        "df = pd.DataFrame(data,columns =[\"Name\",\"time\",\"CNIC\"])\n",
        "df"
      ],
      "metadata": {
        "colab": {
          "base_uri": "https://localhost:8080/",
          "height": 645
        },
        "id": "2icLh3kmP-uk",
        "outputId": "0324ba22-f2f5-4d70-8393-3f23e74bc647"
      },
      "execution_count": 81,
      "outputs": [
        {
          "output_type": "execute_result",
          "data": {
            "text/plain": [
              "                  Name      time              CNIC\n",
              "0          Zaib Unnisa  12:46 PM     4200005000408\n",
              "1          Affan Hasan  12:46 PM     4210171417603\n",
              "2        Ali Mohtashim  12:46 PM  42201-58820081-1\n",
              "3           Ali Sardar  12:46 PM   42101-7501016-9\n",
              "4            Asif Shah  12:46 PM   42401-0675764-1\n",
              "5         BABAR SUFYAN  12:46 PM    42201-716393-3\n",
              "6           Faraz Khan  12:46 PM     4240193224485\n",
              "7    shahbaaz siddiqui  12:46 PM   42000-7729711-3\n",
              "8          Zeeshan Ali  12:46 PM   42000-8300210-5\n",
              "9         Elishba John  12:46 PM   42301.0327661.0\n",
              "10           Babar Ali  12:46 PM     4550452532213\n",
              "11      abdullah aweem  12:46 PM     4210150157035\n",
              "12         Simra Nasir  12:46 PM     4210160202332\n",
              "13        Elishba John  12:46 PM   42301,0327661,0\n",
              "14  Syed komail Hassan  12:47 PM   42501-1445345-7\n",
              "15      Muhammad Rafay  12:47 PM     4250159698285\n",
              "16        adeel akhtar  12:47 PM     4220185361219\n",
              "17       Pervaiz Nazir  12:47 PM     4530292932613\n",
              "18         amber malik  12:47 PM   37405-0609161-8"
            ],
            "text/html": [
              "\n",
              "  <div id=\"df-78917040-ee6d-45f6-a6ab-f19c10f1696e\" class=\"colab-df-container\">\n",
              "    <div>\n",
              "<style scoped>\n",
              "    .dataframe tbody tr th:only-of-type {\n",
              "        vertical-align: middle;\n",
              "    }\n",
              "\n",
              "    .dataframe tbody tr th {\n",
              "        vertical-align: top;\n",
              "    }\n",
              "\n",
              "    .dataframe thead th {\n",
              "        text-align: right;\n",
              "    }\n",
              "</style>\n",
              "<table border=\"1\" class=\"dataframe\">\n",
              "  <thead>\n",
              "    <tr style=\"text-align: right;\">\n",
              "      <th></th>\n",
              "      <th>Name</th>\n",
              "      <th>time</th>\n",
              "      <th>CNIC</th>\n",
              "    </tr>\n",
              "  </thead>\n",
              "  <tbody>\n",
              "    <tr>\n",
              "      <th>0</th>\n",
              "      <td>Zaib Unnisa</td>\n",
              "      <td>12:46 PM</td>\n",
              "      <td>4200005000408</td>\n",
              "    </tr>\n",
              "    <tr>\n",
              "      <th>1</th>\n",
              "      <td>Affan Hasan</td>\n",
              "      <td>12:46 PM</td>\n",
              "      <td>4210171417603</td>\n",
              "    </tr>\n",
              "    <tr>\n",
              "      <th>2</th>\n",
              "      <td>Ali Mohtashim</td>\n",
              "      <td>12:46 PM</td>\n",
              "      <td>42201-58820081-1</td>\n",
              "    </tr>\n",
              "    <tr>\n",
              "      <th>3</th>\n",
              "      <td>Ali Sardar</td>\n",
              "      <td>12:46 PM</td>\n",
              "      <td>42101-7501016-9</td>\n",
              "    </tr>\n",
              "    <tr>\n",
              "      <th>4</th>\n",
              "      <td>Asif Shah</td>\n",
              "      <td>12:46 PM</td>\n",
              "      <td>42401-0675764-1</td>\n",
              "    </tr>\n",
              "    <tr>\n",
              "      <th>5</th>\n",
              "      <td>BABAR SUFYAN</td>\n",
              "      <td>12:46 PM</td>\n",
              "      <td>42201-716393-3</td>\n",
              "    </tr>\n",
              "    <tr>\n",
              "      <th>6</th>\n",
              "      <td>Faraz Khan</td>\n",
              "      <td>12:46 PM</td>\n",
              "      <td>4240193224485</td>\n",
              "    </tr>\n",
              "    <tr>\n",
              "      <th>7</th>\n",
              "      <td>shahbaaz siddiqui</td>\n",
              "      <td>12:46 PM</td>\n",
              "      <td>42000-7729711-3</td>\n",
              "    </tr>\n",
              "    <tr>\n",
              "      <th>8</th>\n",
              "      <td>Zeeshan Ali</td>\n",
              "      <td>12:46 PM</td>\n",
              "      <td>42000-8300210-5</td>\n",
              "    </tr>\n",
              "    <tr>\n",
              "      <th>9</th>\n",
              "      <td>Elishba John</td>\n",
              "      <td>12:46 PM</td>\n",
              "      <td>42301.0327661.0</td>\n",
              "    </tr>\n",
              "    <tr>\n",
              "      <th>10</th>\n",
              "      <td>Babar Ali</td>\n",
              "      <td>12:46 PM</td>\n",
              "      <td>4550452532213</td>\n",
              "    </tr>\n",
              "    <tr>\n",
              "      <th>11</th>\n",
              "      <td>abdullah aweem</td>\n",
              "      <td>12:46 PM</td>\n",
              "      <td>4210150157035</td>\n",
              "    </tr>\n",
              "    <tr>\n",
              "      <th>12</th>\n",
              "      <td>Simra Nasir</td>\n",
              "      <td>12:46 PM</td>\n",
              "      <td>4210160202332</td>\n",
              "    </tr>\n",
              "    <tr>\n",
              "      <th>13</th>\n",
              "      <td>Elishba John</td>\n",
              "      <td>12:46 PM</td>\n",
              "      <td>42301,0327661,0</td>\n",
              "    </tr>\n",
              "    <tr>\n",
              "      <th>14</th>\n",
              "      <td>Syed komail Hassan</td>\n",
              "      <td>12:47 PM</td>\n",
              "      <td>42501-1445345-7</td>\n",
              "    </tr>\n",
              "    <tr>\n",
              "      <th>15</th>\n",
              "      <td>Muhammad Rafay</td>\n",
              "      <td>12:47 PM</td>\n",
              "      <td>4250159698285</td>\n",
              "    </tr>\n",
              "    <tr>\n",
              "      <th>16</th>\n",
              "      <td>adeel akhtar</td>\n",
              "      <td>12:47 PM</td>\n",
              "      <td>4220185361219</td>\n",
              "    </tr>\n",
              "    <tr>\n",
              "      <th>17</th>\n",
              "      <td>Pervaiz Nazir</td>\n",
              "      <td>12:47 PM</td>\n",
              "      <td>4530292932613</td>\n",
              "    </tr>\n",
              "    <tr>\n",
              "      <th>18</th>\n",
              "      <td>amber malik</td>\n",
              "      <td>12:47 PM</td>\n",
              "      <td>37405-0609161-8</td>\n",
              "    </tr>\n",
              "  </tbody>\n",
              "</table>\n",
              "</div>\n",
              "    <div class=\"colab-df-buttons\">\n",
              "\n",
              "  <div class=\"colab-df-container\">\n",
              "    <button class=\"colab-df-convert\" onclick=\"convertToInteractive('df-78917040-ee6d-45f6-a6ab-f19c10f1696e')\"\n",
              "            title=\"Convert this dataframe to an interactive table.\"\n",
              "            style=\"display:none;\">\n",
              "\n",
              "  <svg xmlns=\"http://www.w3.org/2000/svg\" height=\"24px\" viewBox=\"0 -960 960 960\">\n",
              "    <path d=\"M120-120v-720h720v720H120Zm60-500h600v-160H180v160Zm220 220h160v-160H400v160Zm0 220h160v-160H400v160ZM180-400h160v-160H180v160Zm440 0h160v-160H620v160ZM180-180h160v-160H180v160Zm440 0h160v-160H620v160Z\"/>\n",
              "  </svg>\n",
              "    </button>\n",
              "\n",
              "  <style>\n",
              "    .colab-df-container {\n",
              "      display:flex;\n",
              "      gap: 12px;\n",
              "    }\n",
              "\n",
              "    .colab-df-convert {\n",
              "      background-color: #E8F0FE;\n",
              "      border: none;\n",
              "      border-radius: 50%;\n",
              "      cursor: pointer;\n",
              "      display: none;\n",
              "      fill: #1967D2;\n",
              "      height: 32px;\n",
              "      padding: 0 0 0 0;\n",
              "      width: 32px;\n",
              "    }\n",
              "\n",
              "    .colab-df-convert:hover {\n",
              "      background-color: #E2EBFA;\n",
              "      box-shadow: 0px 1px 2px rgba(60, 64, 67, 0.3), 0px 1px 3px 1px rgba(60, 64, 67, 0.15);\n",
              "      fill: #174EA6;\n",
              "    }\n",
              "\n",
              "    .colab-df-buttons div {\n",
              "      margin-bottom: 4px;\n",
              "    }\n",
              "\n",
              "    [theme=dark] .colab-df-convert {\n",
              "      background-color: #3B4455;\n",
              "      fill: #D2E3FC;\n",
              "    }\n",
              "\n",
              "    [theme=dark] .colab-df-convert:hover {\n",
              "      background-color: #434B5C;\n",
              "      box-shadow: 0px 1px 3px 1px rgba(0, 0, 0, 0.15);\n",
              "      filter: drop-shadow(0px 1px 2px rgba(0, 0, 0, 0.3));\n",
              "      fill: #FFFFFF;\n",
              "    }\n",
              "  </style>\n",
              "\n",
              "    <script>\n",
              "      const buttonEl =\n",
              "        document.querySelector('#df-78917040-ee6d-45f6-a6ab-f19c10f1696e button.colab-df-convert');\n",
              "      buttonEl.style.display =\n",
              "        google.colab.kernel.accessAllowed ? 'block' : 'none';\n",
              "\n",
              "      async function convertToInteractive(key) {\n",
              "        const element = document.querySelector('#df-78917040-ee6d-45f6-a6ab-f19c10f1696e');\n",
              "        const dataTable =\n",
              "          await google.colab.kernel.invokeFunction('convertToInteractive',\n",
              "                                                    [key], {});\n",
              "        if (!dataTable) return;\n",
              "\n",
              "        const docLinkHtml = 'Like what you see? Visit the ' +\n",
              "          '<a target=\"_blank\" href=https://colab.research.google.com/notebooks/data_table.ipynb>data table notebook</a>'\n",
              "          + ' to learn more about interactive tables.';\n",
              "        element.innerHTML = '';\n",
              "        dataTable['output_type'] = 'display_data';\n",
              "        await google.colab.output.renderOutput(dataTable, element);\n",
              "        const docLink = document.createElement('div');\n",
              "        docLink.innerHTML = docLinkHtml;\n",
              "        element.appendChild(docLink);\n",
              "      }\n",
              "    </script>\n",
              "  </div>\n",
              "\n",
              "\n",
              "<div id=\"df-4a0988e2-838b-477a-9623-192245a0b1b4\">\n",
              "  <button class=\"colab-df-quickchart\" onclick=\"quickchart('df-4a0988e2-838b-477a-9623-192245a0b1b4')\"\n",
              "            title=\"Suggest charts\"\n",
              "            style=\"display:none;\">\n",
              "\n",
              "<svg xmlns=\"http://www.w3.org/2000/svg\" height=\"24px\"viewBox=\"0 0 24 24\"\n",
              "     width=\"24px\">\n",
              "    <g>\n",
              "        <path d=\"M19 3H5c-1.1 0-2 .9-2 2v14c0 1.1.9 2 2 2h14c1.1 0 2-.9 2-2V5c0-1.1-.9-2-2-2zM9 17H7v-7h2v7zm4 0h-2V7h2v10zm4 0h-2v-4h2v4z\"/>\n",
              "    </g>\n",
              "</svg>\n",
              "  </button>\n",
              "\n",
              "<style>\n",
              "  .colab-df-quickchart {\n",
              "      --bg-color: #E8F0FE;\n",
              "      --fill-color: #1967D2;\n",
              "      --hover-bg-color: #E2EBFA;\n",
              "      --hover-fill-color: #174EA6;\n",
              "      --disabled-fill-color: #AAA;\n",
              "      --disabled-bg-color: #DDD;\n",
              "  }\n",
              "\n",
              "  [theme=dark] .colab-df-quickchart {\n",
              "      --bg-color: #3B4455;\n",
              "      --fill-color: #D2E3FC;\n",
              "      --hover-bg-color: #434B5C;\n",
              "      --hover-fill-color: #FFFFFF;\n",
              "      --disabled-bg-color: #3B4455;\n",
              "      --disabled-fill-color: #666;\n",
              "  }\n",
              "\n",
              "  .colab-df-quickchart {\n",
              "    background-color: var(--bg-color);\n",
              "    border: none;\n",
              "    border-radius: 50%;\n",
              "    cursor: pointer;\n",
              "    display: none;\n",
              "    fill: var(--fill-color);\n",
              "    height: 32px;\n",
              "    padding: 0;\n",
              "    width: 32px;\n",
              "  }\n",
              "\n",
              "  .colab-df-quickchart:hover {\n",
              "    background-color: var(--hover-bg-color);\n",
              "    box-shadow: 0 1px 2px rgba(60, 64, 67, 0.3), 0 1px 3px 1px rgba(60, 64, 67, 0.15);\n",
              "    fill: var(--button-hover-fill-color);\n",
              "  }\n",
              "\n",
              "  .colab-df-quickchart-complete:disabled,\n",
              "  .colab-df-quickchart-complete:disabled:hover {\n",
              "    background-color: var(--disabled-bg-color);\n",
              "    fill: var(--disabled-fill-color);\n",
              "    box-shadow: none;\n",
              "  }\n",
              "\n",
              "  .colab-df-spinner {\n",
              "    border: 2px solid var(--fill-color);\n",
              "    border-color: transparent;\n",
              "    border-bottom-color: var(--fill-color);\n",
              "    animation:\n",
              "      spin 1s steps(1) infinite;\n",
              "  }\n",
              "\n",
              "  @keyframes spin {\n",
              "    0% {\n",
              "      border-color: transparent;\n",
              "      border-bottom-color: var(--fill-color);\n",
              "      border-left-color: var(--fill-color);\n",
              "    }\n",
              "    20% {\n",
              "      border-color: transparent;\n",
              "      border-left-color: var(--fill-color);\n",
              "      border-top-color: var(--fill-color);\n",
              "    }\n",
              "    30% {\n",
              "      border-color: transparent;\n",
              "      border-left-color: var(--fill-color);\n",
              "      border-top-color: var(--fill-color);\n",
              "      border-right-color: var(--fill-color);\n",
              "    }\n",
              "    40% {\n",
              "      border-color: transparent;\n",
              "      border-right-color: var(--fill-color);\n",
              "      border-top-color: var(--fill-color);\n",
              "    }\n",
              "    60% {\n",
              "      border-color: transparent;\n",
              "      border-right-color: var(--fill-color);\n",
              "    }\n",
              "    80% {\n",
              "      border-color: transparent;\n",
              "      border-right-color: var(--fill-color);\n",
              "      border-bottom-color: var(--fill-color);\n",
              "    }\n",
              "    90% {\n",
              "      border-color: transparent;\n",
              "      border-bottom-color: var(--fill-color);\n",
              "    }\n",
              "  }\n",
              "</style>\n",
              "\n",
              "  <script>\n",
              "    async function quickchart(key) {\n",
              "      const quickchartButtonEl =\n",
              "        document.querySelector('#' + key + ' button');\n",
              "      quickchartButtonEl.disabled = true;  // To prevent multiple clicks.\n",
              "      quickchartButtonEl.classList.add('colab-df-spinner');\n",
              "      try {\n",
              "        const charts = await google.colab.kernel.invokeFunction(\n",
              "            'suggestCharts', [key], {});\n",
              "      } catch (error) {\n",
              "        console.error('Error during call to suggestCharts:', error);\n",
              "      }\n",
              "      quickchartButtonEl.classList.remove('colab-df-spinner');\n",
              "      quickchartButtonEl.classList.add('colab-df-quickchart-complete');\n",
              "    }\n",
              "    (() => {\n",
              "      let quickchartButtonEl =\n",
              "        document.querySelector('#df-4a0988e2-838b-477a-9623-192245a0b1b4 button');\n",
              "      quickchartButtonEl.style.display =\n",
              "        google.colab.kernel.accessAllowed ? 'block' : 'none';\n",
              "    })();\n",
              "  </script>\n",
              "</div>\n",
              "\n",
              "  <div id=\"id_871cbbc3-9d94-4e77-8b66-380b8ba25db4\">\n",
              "    <style>\n",
              "      .colab-df-generate {\n",
              "        background-color: #E8F0FE;\n",
              "        border: none;\n",
              "        border-radius: 50%;\n",
              "        cursor: pointer;\n",
              "        display: none;\n",
              "        fill: #1967D2;\n",
              "        height: 32px;\n",
              "        padding: 0 0 0 0;\n",
              "        width: 32px;\n",
              "      }\n",
              "\n",
              "      .colab-df-generate:hover {\n",
              "        background-color: #E2EBFA;\n",
              "        box-shadow: 0px 1px 2px rgba(60, 64, 67, 0.3), 0px 1px 3px 1px rgba(60, 64, 67, 0.15);\n",
              "        fill: #174EA6;\n",
              "      }\n",
              "\n",
              "      [theme=dark] .colab-df-generate {\n",
              "        background-color: #3B4455;\n",
              "        fill: #D2E3FC;\n",
              "      }\n",
              "\n",
              "      [theme=dark] .colab-df-generate:hover {\n",
              "        background-color: #434B5C;\n",
              "        box-shadow: 0px 1px 3px 1px rgba(0, 0, 0, 0.15);\n",
              "        filter: drop-shadow(0px 1px 2px rgba(0, 0, 0, 0.3));\n",
              "        fill: #FFFFFF;\n",
              "      }\n",
              "    </style>\n",
              "    <button class=\"colab-df-generate\" onclick=\"generateWithVariable('df')\"\n",
              "            title=\"Generate code using this dataframe.\"\n",
              "            style=\"display:none;\">\n",
              "\n",
              "  <svg xmlns=\"http://www.w3.org/2000/svg\" height=\"24px\"viewBox=\"0 0 24 24\"\n",
              "       width=\"24px\">\n",
              "    <path d=\"M7,19H8.4L18.45,9,17,7.55,7,17.6ZM5,21V16.75L18.45,3.32a2,2,0,0,1,2.83,0l1.4,1.43a1.91,1.91,0,0,1,.58,1.4,1.91,1.91,0,0,1-.58,1.4L9.25,21ZM18.45,9,17,7.55Zm-12,3A5.31,5.31,0,0,0,4.9,8.1,5.31,5.31,0,0,0,1,6.5,5.31,5.31,0,0,0,4.9,4.9,5.31,5.31,0,0,0,6.5,1,5.31,5.31,0,0,0,8.1,4.9,5.31,5.31,0,0,0,12,6.5,5.46,5.46,0,0,0,6.5,12Z\"/>\n",
              "  </svg>\n",
              "    </button>\n",
              "    <script>\n",
              "      (() => {\n",
              "      const buttonEl =\n",
              "        document.querySelector('#id_871cbbc3-9d94-4e77-8b66-380b8ba25db4 button.colab-df-generate');\n",
              "      buttonEl.style.display =\n",
              "        google.colab.kernel.accessAllowed ? 'block' : 'none';\n",
              "\n",
              "      buttonEl.onclick = () => {\n",
              "        google.colab.notebook.generateWithVariable('df');\n",
              "      }\n",
              "      })();\n",
              "    </script>\n",
              "  </div>\n",
              "\n",
              "    </div>\n",
              "  </div>\n"
            ],
            "application/vnd.google.colaboratory.intrinsic+json": {
              "type": "dataframe",
              "variable_name": "df",
              "summary": "{\n  \"name\": \"df\",\n  \"rows\": 19,\n  \"fields\": [\n    {\n      \"column\": \"Name\",\n      \"properties\": {\n        \"dtype\": \"string\",\n        \"num_unique_values\": 18,\n        \"samples\": [\n          \"Zaib Unnisa\",\n          \"Affan Hasan\",\n          \"Zeeshan Ali\"\n        ],\n        \"semantic_type\": \"\",\n        \"description\": \"\"\n      }\n    },\n    {\n      \"column\": \"time\",\n      \"properties\": {\n        \"dtype\": \"object\",\n        \"num_unique_values\": 2,\n        \"samples\": [\n          \"12:47\\u202fPM\",\n          \"12:46\\u202fPM\"\n        ],\n        \"semantic_type\": \"\",\n        \"description\": \"\"\n      }\n    },\n    {\n      \"column\": \"CNIC\",\n      \"properties\": {\n        \"dtype\": \"string\",\n        \"num_unique_values\": 19,\n        \"samples\": [\n          \"4200005000408\",\n          \"42201-716393-3\"\n        ],\n        \"semantic_type\": \"\",\n        \"description\": \"\"\n      }\n    }\n  ]\n}"
            }
          },
          "metadata": {},
          "execution_count": 81
        }
      ]
    },
    {
      "cell_type": "code",
      "source": [
        "import re\n",
        "\n",
        "# Input data as a string\n",
        "data = \"\"\"\n",
        "Zaib Unnisa\n",
        "12:46 PM\n",
        "4200005000408\n",
        "Affan Hasan\n",
        "12:46 PM\n",
        "4210171417603\n",
        "Ali Mohtashim\n",
        "12:46 PM\n",
        "42201-58820081-1\n",
        "Ali Sardar\n",
        "12:46 PM\n",
        "42101-7501016-9\n",
        "SAJID ZAHID\n",
        "12:46 PM\n",
        "SAJID : 42101-5646709-9\n",
        "Asif Shah\n",
        "12:46 PM\n",
        "42401-0675764-1\n",
        "BABAR SUFYAN\n",
        "12:46 PM\n",
        "42201-716393-3\n",
        "Faraz Khan\n",
        "12:46 PM\n",
        "4240193224485\n",
        "shahbaaz siddiqui\n",
        "12:46 PM\n",
        "42000-7729711-3\n",
        "Zeeshan Ali\n",
        "12:46 PM\n",
        "42000-8300210-5\n",
        "Elishba John\n",
        "12:46 PM\n",
        "42301.0327661.0\n",
        "Babar Ali\n",
        "12:46 PM\n",
        "4550452532213\n",
        "abdullah aweem\n",
        "12:46 PM\n",
        "4210150157035\n",
        "Simra Nasir\n",
        "12:46 PM\n",
        "4210160202332\n",
        "Elishba John\n",
        "12:46 PM\n",
        "42301,0327661,0\n",
        "Syed komail Hassan\n",
        "12:47 PM\n",
        "42501-1445345-7\n",
        "Muhammad Rafay\n",
        "12:47 PM\n",
        "4250159698285\n",
        "adeel akhtar\n",
        "12:47 PM\n",
        "4220185361219\n",
        "Pervaiz Nazir\n",
        "12:47 PM\n",
        "4530292932613\n",
        "amber malik\n",
        "12:47 PM\n",
        "37405-0609161-8\n",
        "\"\"\"\n",
        "\n",
        "# Pattern to match names, times, and CNICs\n",
        "pattern = r\"([A-Za-z ,]+)\\n(\\d{1,2}:\\d{2} [APM]{2})\\n([\\d\\.-]+)\"\n",
        "\n",
        "# Find all matches\n",
        "matches = re.findall(pattern, data)\n",
        "\n",
        "# Convert matches to tuples\n",
        "result = [(name.strip(), time, cnic) for name, time, cnic in matches]\n",
        "\n",
        "# Print the result\n",
        "df = pd.DataFrame(result, columns=[\"Name\",\"Time\",\"CNIC\"])\n",
        "df"
      ],
      "metadata": {
        "colab": {
          "base_uri": "https://localhost:8080/",
          "height": 645
        },
        "id": "FYM_25OAYqzy",
        "outputId": "b77dd9da-53b0-45f7-a683-dbcf48e6ffea"
      },
      "execution_count": 83,
      "outputs": [
        {
          "output_type": "execute_result",
          "data": {
            "text/plain": [
              "                  Name      Time              CNIC\n",
              "0          Zaib Unnisa  12:46 PM     4200005000408\n",
              "1          Affan Hasan  12:46 PM     4210171417603\n",
              "2        Ali Mohtashim  12:46 PM  42201-58820081-1\n",
              "3           Ali Sardar  12:46 PM   42101-7501016-9\n",
              "4            Asif Shah  12:46 PM   42401-0675764-1\n",
              "5         BABAR SUFYAN  12:46 PM    42201-716393-3\n",
              "6           Faraz Khan  12:46 PM     4240193224485\n",
              "7    shahbaaz siddiqui  12:46 PM   42000-7729711-3\n",
              "8          Zeeshan Ali  12:46 PM   42000-8300210-5\n",
              "9         Elishba John  12:46 PM   42301.0327661.0\n",
              "10           Babar Ali  12:46 PM     4550452532213\n",
              "11      abdullah aweem  12:46 PM     4210150157035\n",
              "12         Simra Nasir  12:46 PM     4210160202332\n",
              "13        Elishba John  12:46 PM             42301\n",
              "14  Syed komail Hassan  12:47 PM   42501-1445345-7\n",
              "15      Muhammad Rafay  12:47 PM     4250159698285\n",
              "16        adeel akhtar  12:47 PM     4220185361219\n",
              "17       Pervaiz Nazir  12:47 PM     4530292932613\n",
              "18         amber malik  12:47 PM   37405-0609161-8"
            ],
            "text/html": [
              "\n",
              "  <div id=\"df-82e12b24-5d10-4fca-ab09-7104f4ddc3b3\" class=\"colab-df-container\">\n",
              "    <div>\n",
              "<style scoped>\n",
              "    .dataframe tbody tr th:only-of-type {\n",
              "        vertical-align: middle;\n",
              "    }\n",
              "\n",
              "    .dataframe tbody tr th {\n",
              "        vertical-align: top;\n",
              "    }\n",
              "\n",
              "    .dataframe thead th {\n",
              "        text-align: right;\n",
              "    }\n",
              "</style>\n",
              "<table border=\"1\" class=\"dataframe\">\n",
              "  <thead>\n",
              "    <tr style=\"text-align: right;\">\n",
              "      <th></th>\n",
              "      <th>Name</th>\n",
              "      <th>Time</th>\n",
              "      <th>CNIC</th>\n",
              "    </tr>\n",
              "  </thead>\n",
              "  <tbody>\n",
              "    <tr>\n",
              "      <th>0</th>\n",
              "      <td>Zaib Unnisa</td>\n",
              "      <td>12:46 PM</td>\n",
              "      <td>4200005000408</td>\n",
              "    </tr>\n",
              "    <tr>\n",
              "      <th>1</th>\n",
              "      <td>Affan Hasan</td>\n",
              "      <td>12:46 PM</td>\n",
              "      <td>4210171417603</td>\n",
              "    </tr>\n",
              "    <tr>\n",
              "      <th>2</th>\n",
              "      <td>Ali Mohtashim</td>\n",
              "      <td>12:46 PM</td>\n",
              "      <td>42201-58820081-1</td>\n",
              "    </tr>\n",
              "    <tr>\n",
              "      <th>3</th>\n",
              "      <td>Ali Sardar</td>\n",
              "      <td>12:46 PM</td>\n",
              "      <td>42101-7501016-9</td>\n",
              "    </tr>\n",
              "    <tr>\n",
              "      <th>4</th>\n",
              "      <td>Asif Shah</td>\n",
              "      <td>12:46 PM</td>\n",
              "      <td>42401-0675764-1</td>\n",
              "    </tr>\n",
              "    <tr>\n",
              "      <th>5</th>\n",
              "      <td>BABAR SUFYAN</td>\n",
              "      <td>12:46 PM</td>\n",
              "      <td>42201-716393-3</td>\n",
              "    </tr>\n",
              "    <tr>\n",
              "      <th>6</th>\n",
              "      <td>Faraz Khan</td>\n",
              "      <td>12:46 PM</td>\n",
              "      <td>4240193224485</td>\n",
              "    </tr>\n",
              "    <tr>\n",
              "      <th>7</th>\n",
              "      <td>shahbaaz siddiqui</td>\n",
              "      <td>12:46 PM</td>\n",
              "      <td>42000-7729711-3</td>\n",
              "    </tr>\n",
              "    <tr>\n",
              "      <th>8</th>\n",
              "      <td>Zeeshan Ali</td>\n",
              "      <td>12:46 PM</td>\n",
              "      <td>42000-8300210-5</td>\n",
              "    </tr>\n",
              "    <tr>\n",
              "      <th>9</th>\n",
              "      <td>Elishba John</td>\n",
              "      <td>12:46 PM</td>\n",
              "      <td>42301.0327661.0</td>\n",
              "    </tr>\n",
              "    <tr>\n",
              "      <th>10</th>\n",
              "      <td>Babar Ali</td>\n",
              "      <td>12:46 PM</td>\n",
              "      <td>4550452532213</td>\n",
              "    </tr>\n",
              "    <tr>\n",
              "      <th>11</th>\n",
              "      <td>abdullah aweem</td>\n",
              "      <td>12:46 PM</td>\n",
              "      <td>4210150157035</td>\n",
              "    </tr>\n",
              "    <tr>\n",
              "      <th>12</th>\n",
              "      <td>Simra Nasir</td>\n",
              "      <td>12:46 PM</td>\n",
              "      <td>4210160202332</td>\n",
              "    </tr>\n",
              "    <tr>\n",
              "      <th>13</th>\n",
              "      <td>Elishba John</td>\n",
              "      <td>12:46 PM</td>\n",
              "      <td>42301</td>\n",
              "    </tr>\n",
              "    <tr>\n",
              "      <th>14</th>\n",
              "      <td>Syed komail Hassan</td>\n",
              "      <td>12:47 PM</td>\n",
              "      <td>42501-1445345-7</td>\n",
              "    </tr>\n",
              "    <tr>\n",
              "      <th>15</th>\n",
              "      <td>Muhammad Rafay</td>\n",
              "      <td>12:47 PM</td>\n",
              "      <td>4250159698285</td>\n",
              "    </tr>\n",
              "    <tr>\n",
              "      <th>16</th>\n",
              "      <td>adeel akhtar</td>\n",
              "      <td>12:47 PM</td>\n",
              "      <td>4220185361219</td>\n",
              "    </tr>\n",
              "    <tr>\n",
              "      <th>17</th>\n",
              "      <td>Pervaiz Nazir</td>\n",
              "      <td>12:47 PM</td>\n",
              "      <td>4530292932613</td>\n",
              "    </tr>\n",
              "    <tr>\n",
              "      <th>18</th>\n",
              "      <td>amber malik</td>\n",
              "      <td>12:47 PM</td>\n",
              "      <td>37405-0609161-8</td>\n",
              "    </tr>\n",
              "  </tbody>\n",
              "</table>\n",
              "</div>\n",
              "    <div class=\"colab-df-buttons\">\n",
              "\n",
              "  <div class=\"colab-df-container\">\n",
              "    <button class=\"colab-df-convert\" onclick=\"convertToInteractive('df-82e12b24-5d10-4fca-ab09-7104f4ddc3b3')\"\n",
              "            title=\"Convert this dataframe to an interactive table.\"\n",
              "            style=\"display:none;\">\n",
              "\n",
              "  <svg xmlns=\"http://www.w3.org/2000/svg\" height=\"24px\" viewBox=\"0 -960 960 960\">\n",
              "    <path d=\"M120-120v-720h720v720H120Zm60-500h600v-160H180v160Zm220 220h160v-160H400v160Zm0 220h160v-160H400v160ZM180-400h160v-160H180v160Zm440 0h160v-160H620v160ZM180-180h160v-160H180v160Zm440 0h160v-160H620v160Z\"/>\n",
              "  </svg>\n",
              "    </button>\n",
              "\n",
              "  <style>\n",
              "    .colab-df-container {\n",
              "      display:flex;\n",
              "      gap: 12px;\n",
              "    }\n",
              "\n",
              "    .colab-df-convert {\n",
              "      background-color: #E8F0FE;\n",
              "      border: none;\n",
              "      border-radius: 50%;\n",
              "      cursor: pointer;\n",
              "      display: none;\n",
              "      fill: #1967D2;\n",
              "      height: 32px;\n",
              "      padding: 0 0 0 0;\n",
              "      width: 32px;\n",
              "    }\n",
              "\n",
              "    .colab-df-convert:hover {\n",
              "      background-color: #E2EBFA;\n",
              "      box-shadow: 0px 1px 2px rgba(60, 64, 67, 0.3), 0px 1px 3px 1px rgba(60, 64, 67, 0.15);\n",
              "      fill: #174EA6;\n",
              "    }\n",
              "\n",
              "    .colab-df-buttons div {\n",
              "      margin-bottom: 4px;\n",
              "    }\n",
              "\n",
              "    [theme=dark] .colab-df-convert {\n",
              "      background-color: #3B4455;\n",
              "      fill: #D2E3FC;\n",
              "    }\n",
              "\n",
              "    [theme=dark] .colab-df-convert:hover {\n",
              "      background-color: #434B5C;\n",
              "      box-shadow: 0px 1px 3px 1px rgba(0, 0, 0, 0.15);\n",
              "      filter: drop-shadow(0px 1px 2px rgba(0, 0, 0, 0.3));\n",
              "      fill: #FFFFFF;\n",
              "    }\n",
              "  </style>\n",
              "\n",
              "    <script>\n",
              "      const buttonEl =\n",
              "        document.querySelector('#df-82e12b24-5d10-4fca-ab09-7104f4ddc3b3 button.colab-df-convert');\n",
              "      buttonEl.style.display =\n",
              "        google.colab.kernel.accessAllowed ? 'block' : 'none';\n",
              "\n",
              "      async function convertToInteractive(key) {\n",
              "        const element = document.querySelector('#df-82e12b24-5d10-4fca-ab09-7104f4ddc3b3');\n",
              "        const dataTable =\n",
              "          await google.colab.kernel.invokeFunction('convertToInteractive',\n",
              "                                                    [key], {});\n",
              "        if (!dataTable) return;\n",
              "\n",
              "        const docLinkHtml = 'Like what you see? Visit the ' +\n",
              "          '<a target=\"_blank\" href=https://colab.research.google.com/notebooks/data_table.ipynb>data table notebook</a>'\n",
              "          + ' to learn more about interactive tables.';\n",
              "        element.innerHTML = '';\n",
              "        dataTable['output_type'] = 'display_data';\n",
              "        await google.colab.output.renderOutput(dataTable, element);\n",
              "        const docLink = document.createElement('div');\n",
              "        docLink.innerHTML = docLinkHtml;\n",
              "        element.appendChild(docLink);\n",
              "      }\n",
              "    </script>\n",
              "  </div>\n",
              "\n",
              "\n",
              "<div id=\"df-b5d38adb-c6d2-476e-a420-b84fd1ceebbd\">\n",
              "  <button class=\"colab-df-quickchart\" onclick=\"quickchart('df-b5d38adb-c6d2-476e-a420-b84fd1ceebbd')\"\n",
              "            title=\"Suggest charts\"\n",
              "            style=\"display:none;\">\n",
              "\n",
              "<svg xmlns=\"http://www.w3.org/2000/svg\" height=\"24px\"viewBox=\"0 0 24 24\"\n",
              "     width=\"24px\">\n",
              "    <g>\n",
              "        <path d=\"M19 3H5c-1.1 0-2 .9-2 2v14c0 1.1.9 2 2 2h14c1.1 0 2-.9 2-2V5c0-1.1-.9-2-2-2zM9 17H7v-7h2v7zm4 0h-2V7h2v10zm4 0h-2v-4h2v4z\"/>\n",
              "    </g>\n",
              "</svg>\n",
              "  </button>\n",
              "\n",
              "<style>\n",
              "  .colab-df-quickchart {\n",
              "      --bg-color: #E8F0FE;\n",
              "      --fill-color: #1967D2;\n",
              "      --hover-bg-color: #E2EBFA;\n",
              "      --hover-fill-color: #174EA6;\n",
              "      --disabled-fill-color: #AAA;\n",
              "      --disabled-bg-color: #DDD;\n",
              "  }\n",
              "\n",
              "  [theme=dark] .colab-df-quickchart {\n",
              "      --bg-color: #3B4455;\n",
              "      --fill-color: #D2E3FC;\n",
              "      --hover-bg-color: #434B5C;\n",
              "      --hover-fill-color: #FFFFFF;\n",
              "      --disabled-bg-color: #3B4455;\n",
              "      --disabled-fill-color: #666;\n",
              "  }\n",
              "\n",
              "  .colab-df-quickchart {\n",
              "    background-color: var(--bg-color);\n",
              "    border: none;\n",
              "    border-radius: 50%;\n",
              "    cursor: pointer;\n",
              "    display: none;\n",
              "    fill: var(--fill-color);\n",
              "    height: 32px;\n",
              "    padding: 0;\n",
              "    width: 32px;\n",
              "  }\n",
              "\n",
              "  .colab-df-quickchart:hover {\n",
              "    background-color: var(--hover-bg-color);\n",
              "    box-shadow: 0 1px 2px rgba(60, 64, 67, 0.3), 0 1px 3px 1px rgba(60, 64, 67, 0.15);\n",
              "    fill: var(--button-hover-fill-color);\n",
              "  }\n",
              "\n",
              "  .colab-df-quickchart-complete:disabled,\n",
              "  .colab-df-quickchart-complete:disabled:hover {\n",
              "    background-color: var(--disabled-bg-color);\n",
              "    fill: var(--disabled-fill-color);\n",
              "    box-shadow: none;\n",
              "  }\n",
              "\n",
              "  .colab-df-spinner {\n",
              "    border: 2px solid var(--fill-color);\n",
              "    border-color: transparent;\n",
              "    border-bottom-color: var(--fill-color);\n",
              "    animation:\n",
              "      spin 1s steps(1) infinite;\n",
              "  }\n",
              "\n",
              "  @keyframes spin {\n",
              "    0% {\n",
              "      border-color: transparent;\n",
              "      border-bottom-color: var(--fill-color);\n",
              "      border-left-color: var(--fill-color);\n",
              "    }\n",
              "    20% {\n",
              "      border-color: transparent;\n",
              "      border-left-color: var(--fill-color);\n",
              "      border-top-color: var(--fill-color);\n",
              "    }\n",
              "    30% {\n",
              "      border-color: transparent;\n",
              "      border-left-color: var(--fill-color);\n",
              "      border-top-color: var(--fill-color);\n",
              "      border-right-color: var(--fill-color);\n",
              "    }\n",
              "    40% {\n",
              "      border-color: transparent;\n",
              "      border-right-color: var(--fill-color);\n",
              "      border-top-color: var(--fill-color);\n",
              "    }\n",
              "    60% {\n",
              "      border-color: transparent;\n",
              "      border-right-color: var(--fill-color);\n",
              "    }\n",
              "    80% {\n",
              "      border-color: transparent;\n",
              "      border-right-color: var(--fill-color);\n",
              "      border-bottom-color: var(--fill-color);\n",
              "    }\n",
              "    90% {\n",
              "      border-color: transparent;\n",
              "      border-bottom-color: var(--fill-color);\n",
              "    }\n",
              "  }\n",
              "</style>\n",
              "\n",
              "  <script>\n",
              "    async function quickchart(key) {\n",
              "      const quickchartButtonEl =\n",
              "        document.querySelector('#' + key + ' button');\n",
              "      quickchartButtonEl.disabled = true;  // To prevent multiple clicks.\n",
              "      quickchartButtonEl.classList.add('colab-df-spinner');\n",
              "      try {\n",
              "        const charts = await google.colab.kernel.invokeFunction(\n",
              "            'suggestCharts', [key], {});\n",
              "      } catch (error) {\n",
              "        console.error('Error during call to suggestCharts:', error);\n",
              "      }\n",
              "      quickchartButtonEl.classList.remove('colab-df-spinner');\n",
              "      quickchartButtonEl.classList.add('colab-df-quickchart-complete');\n",
              "    }\n",
              "    (() => {\n",
              "      let quickchartButtonEl =\n",
              "        document.querySelector('#df-b5d38adb-c6d2-476e-a420-b84fd1ceebbd button');\n",
              "      quickchartButtonEl.style.display =\n",
              "        google.colab.kernel.accessAllowed ? 'block' : 'none';\n",
              "    })();\n",
              "  </script>\n",
              "</div>\n",
              "\n",
              "  <div id=\"id_2e553481-949e-4d11-80c7-832133f5fb3e\">\n",
              "    <style>\n",
              "      .colab-df-generate {\n",
              "        background-color: #E8F0FE;\n",
              "        border: none;\n",
              "        border-radius: 50%;\n",
              "        cursor: pointer;\n",
              "        display: none;\n",
              "        fill: #1967D2;\n",
              "        height: 32px;\n",
              "        padding: 0 0 0 0;\n",
              "        width: 32px;\n",
              "      }\n",
              "\n",
              "      .colab-df-generate:hover {\n",
              "        background-color: #E2EBFA;\n",
              "        box-shadow: 0px 1px 2px rgba(60, 64, 67, 0.3), 0px 1px 3px 1px rgba(60, 64, 67, 0.15);\n",
              "        fill: #174EA6;\n",
              "      }\n",
              "\n",
              "      [theme=dark] .colab-df-generate {\n",
              "        background-color: #3B4455;\n",
              "        fill: #D2E3FC;\n",
              "      }\n",
              "\n",
              "      [theme=dark] .colab-df-generate:hover {\n",
              "        background-color: #434B5C;\n",
              "        box-shadow: 0px 1px 3px 1px rgba(0, 0, 0, 0.15);\n",
              "        filter: drop-shadow(0px 1px 2px rgba(0, 0, 0, 0.3));\n",
              "        fill: #FFFFFF;\n",
              "      }\n",
              "    </style>\n",
              "    <button class=\"colab-df-generate\" onclick=\"generateWithVariable('df')\"\n",
              "            title=\"Generate code using this dataframe.\"\n",
              "            style=\"display:none;\">\n",
              "\n",
              "  <svg xmlns=\"http://www.w3.org/2000/svg\" height=\"24px\"viewBox=\"0 0 24 24\"\n",
              "       width=\"24px\">\n",
              "    <path d=\"M7,19H8.4L18.45,9,17,7.55,7,17.6ZM5,21V16.75L18.45,3.32a2,2,0,0,1,2.83,0l1.4,1.43a1.91,1.91,0,0,1,.58,1.4,1.91,1.91,0,0,1-.58,1.4L9.25,21ZM18.45,9,17,7.55Zm-12,3A5.31,5.31,0,0,0,4.9,8.1,5.31,5.31,0,0,0,1,6.5,5.31,5.31,0,0,0,4.9,4.9,5.31,5.31,0,0,0,6.5,1,5.31,5.31,0,0,0,8.1,4.9,5.31,5.31,0,0,0,12,6.5,5.46,5.46,0,0,0,6.5,12Z\"/>\n",
              "  </svg>\n",
              "    </button>\n",
              "    <script>\n",
              "      (() => {\n",
              "      const buttonEl =\n",
              "        document.querySelector('#id_2e553481-949e-4d11-80c7-832133f5fb3e button.colab-df-generate');\n",
              "      buttonEl.style.display =\n",
              "        google.colab.kernel.accessAllowed ? 'block' : 'none';\n",
              "\n",
              "      buttonEl.onclick = () => {\n",
              "        google.colab.notebook.generateWithVariable('df');\n",
              "      }\n",
              "      })();\n",
              "    </script>\n",
              "  </div>\n",
              "\n",
              "    </div>\n",
              "  </div>\n"
            ],
            "application/vnd.google.colaboratory.intrinsic+json": {
              "type": "dataframe",
              "variable_name": "df",
              "summary": "{\n  \"name\": \"df\",\n  \"rows\": 19,\n  \"fields\": [\n    {\n      \"column\": \"Name\",\n      \"properties\": {\n        \"dtype\": \"string\",\n        \"num_unique_values\": 18,\n        \"samples\": [\n          \"Zaib Unnisa\",\n          \"Affan Hasan\",\n          \"Zeeshan Ali\"\n        ],\n        \"semantic_type\": \"\",\n        \"description\": \"\"\n      }\n    },\n    {\n      \"column\": \"Time\",\n      \"properties\": {\n        \"dtype\": \"object\",\n        \"num_unique_values\": 2,\n        \"samples\": [\n          \"12:47 PM\",\n          \"12:46 PM\"\n        ],\n        \"semantic_type\": \"\",\n        \"description\": \"\"\n      }\n    },\n    {\n      \"column\": \"CNIC\",\n      \"properties\": {\n        \"dtype\": \"string\",\n        \"num_unique_values\": 19,\n        \"samples\": [\n          \"4200005000408\",\n          \"42201-716393-3\"\n        ],\n        \"semantic_type\": \"\",\n        \"description\": \"\"\n      }\n    }\n  ]\n}"
            }
          },
          "metadata": {},
          "execution_count": 83
        }
      ]
    },
    {
      "cell_type": "code",
      "source": [],
      "metadata": {
        "id": "pmUfqF3IaS9m"
      },
      "execution_count": null,
      "outputs": []
    }
  ]
}