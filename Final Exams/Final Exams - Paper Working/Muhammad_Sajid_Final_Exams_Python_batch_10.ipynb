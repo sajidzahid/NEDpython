{
  "nbformat": 4,
  "nbformat_minor": 0,
  "metadata": {
    "colab": {
      "provenance": []
    },
    "kernelspec": {
      "name": "python3",
      "display_name": "Python 3"
    },
    "language_info": {
      "name": "python"
    }
  },
  "cells": [
    {
      "cell_type": "markdown",
      "source": [
        "# Student Name:  Muhammad Sajid\n",
        "# Father Name :  Muhammad Zahid  \n",
        "    * Course - Python\n",
        "    * PGD - Batch-10"
      ],
      "metadata": {
        "id": "UQXkC5n7e2Mh"
      }
    },
    {
      "cell_type": "markdown",
      "source": [
        "# Question No. 5\n",
        "\n",
        "## f-string - Advance Formatting\n",
        "\n",
        "\n",
        "* Given a list of products where each product includes a name, price, and\n",
        "release date, write a Python program that uses advanced f-string\n",
        "formatting to print a neatly aligned table of product information.\n",
        "\n",
        "* Format the price as currency (e.g., with two decimal places and a\n",
        "dollar sign).\n",
        "\n",
        "* Display the release date in a human-readable format (e.g., “Jan 01,\n",
        "2025”).\n",
        "\n",
        "* Explain how f-strings improve code readability and formatting\n",
        "precision."
      ],
      "metadata": {
        "id": "Ic4xlITmeUn5"
      }
    },
    {
      "cell_type": "code",
      "execution_count": 38,
      "metadata": {
        "colab": {
          "base_uri": "https://localhost:8080/"
        },
        "id": "-o9HgvkydViZ",
        "outputId": "9491c729-941e-4037-9f50-eae40907d815"
      },
      "outputs": [
        {
          "output_type": "stream",
          "name": "stdout",
          "text": [
            "Product                          Price     Release Date\n",
            "=======================================================\n",
            "Smartphone: iphone-12 promax    $599.99    Nov 13, 2020\n",
            "Smartphone: iphone-13 promax    $699.49    Sep 24, 2021\n",
            "Smartphone: iphone-14 promax    $749.95    Sep 16, 2022\n",
            "Smartphone: iphone-15 promax    $899.49    Sep 22, 2023\n",
            "Smartphone: iphone-16 promax    $999.59    Sep 20, 2024\n"
          ]
        }
      ],
      "source": [
        "from datetime import datetime\n",
        "products = [\n",
        "    {\"name\": \"Smartphone: iphone-12 promax\", \"price\": 599.99, \"release_date\": datetime(2020, 11, 13)}, # I put the actual release date of iphones. Source Google.\n",
        "    {\"name\": \"Smartphone: iphone-13 promax\", \"price\": 699.49, \"release_date\": datetime(2021, 9, 24)}, # I put the actual release date of iphones.\n",
        "    {\"name\": \"Smartphone: iphone-14 promax\", \"price\": 749.95, \"release_date\": datetime(2022, 9, 16)}, # I put the actual release date of iphones.\n",
        "    {\"name\": \"Smartphone: iphone-15 promax\", \"price\": 899.49, \"release_date\": datetime(2023, 9, 22)}, # I put the actual release date of iphones.\n",
        "    {\"name\": \"Smartphone: iphone-16 promax\", \"price\": 999.59, \"release_date\": datetime(2024, 9, 20)}, # I put the actual release date of iphones.\n",
        "]\n",
        "\n",
        "print(f\"{'Product':<20} {'Price':>17} {'Release Date':>16}\")\n",
        "print(\"=\" * 55)\n",
        "\n",
        "for product in products:\n",
        "    name = product[\"name\"]\n",
        "    price = f\"${product['price']:,.2f}\"\n",
        "    release_date = product[\"release_date\"].strftime(\"%b %d, %Y\")  # Date Formats for human readable format dated as 'Mar 15, 2023'\n",
        "\n",
        "    print(f\"{name:<15} {price:>10} {release_date:>15}\")\n"
      ]
    },
    {
      "cell_type": "markdown",
      "source": [
        "* The f-string introduced in python 3.6.\n",
        "* It is provide the clearner, more readable and efficient way to format strings.\n"
      ],
      "metadata": {
        "id": "6PFo7Fu9f5I0"
      }
    },
    {
      "cell_type": "markdown",
      "source": [
        " # Question No. 4\n",
        "\n",
        " * Data Types – Lists, Dictionaries, Tuples, and Sets\n",
        "\n",
        "    * Design a Python program that stores student records, where each\n",
        "record consists of a student’s name and grade, using different data\n",
        "structures:\n",
        "\n",
        "* A list for an ordered collection of student names.\n",
        "\n",
        "* A dictionary mapping student names to their grades.\n",
        "\n",
        "* A tuple representing an immutable student record.\n",
        "\n",
        "* A set for a collection of unique student names.\n",
        "\n",
        "    * Demonstrate key operations (such as adding, updating, retrieving, and\n",
        "deleting elements) for each data structure, and discuss the strengths\n",
        "and weaknesses of each type."
      ],
      "metadata": {
        "id": "-oWeNjwgjEwu"
      }
    },
    {
      "cell_type": "code",
      "source": [
        "# Student List.\n",
        "students_list = [\"Sajid\", \"Shahbaaz\", \"Asif Shah\", \"Ali Mohtashim\"] # List of student names in ordered position.\n",
        "\n",
        "print(\"Name_List:\", students_list)\n",
        "\n"
      ],
      "metadata": {
        "colab": {
          "base_uri": "https://localhost:8080/"
        },
        "id": "5lnXPPsifTqp",
        "outputId": "383f8226-41ef-414d-f3ba-bd9eb5da3151"
      },
      "execution_count": 45,
      "outputs": [
        {
          "output_type": "stream",
          "name": "stdout",
          "text": [
            "Name_List: ['Sajid', 'Shahbaaz', 'Asif Shah', 'Ali Mohtashim']\n"
          ]
        }
      ]
    },
    {
      "cell_type": "code",
      "source": [
        "# Using Dictionary mapping students to grades.\n",
        "students_dict = {\"Sajid\": 90, \"Shahbaaz\": 85, \"Asif Shah\": 92, \"Ali Mohtashim\": 80}\n",
        "\n",
        "print(\"Student Marks:\", students_dict)\n",
        "\n"
      ],
      "metadata": {
        "colab": {
          "base_uri": "https://localhost:8080/"
        },
        "id": "ZvWN9TeklEHB",
        "outputId": "e2988d6a-2037-4302-902e-0cc0dbbfaffc"
      },
      "execution_count": 46,
      "outputs": [
        {
          "output_type": "stream",
          "name": "stdout",
          "text": [
            "Student Marks: {'Sajid': 90, 'Shahbaaz': 85, 'Asif Shah': 92, 'Ali Mohtashim': 80}\n"
          ]
        }
      ]
    },
    {
      "cell_type": "code",
      "source": [
        "# Tuple representing a student's record (name, grade)\n",
        "student_tuple = (\"Shahbaaz\", 78)\n",
        "\n",
        "print(f\"Student: {student_tuple[0]}, Grade: {student_tuple[1]}\")\n"
      ],
      "metadata": {
        "colab": {
          "base_uri": "https://localhost:8080/"
        },
        "id": "FDa5ZiSomcWw",
        "outputId": "c8d3976b-855a-431b-bab1-69cbaa431c6e"
      },
      "execution_count": 107,
      "outputs": [
        {
          "output_type": "stream",
          "name": "stdout",
          "text": [
            "Student: Shahbaaz, Grade: 78\n"
          ]
        }
      ]
    },
    {
      "cell_type": "code",
      "source": [
        "# Set of student names\n",
        "students_set = {\"Sajid\", \"Shahbaaz\", \"Asif Shah\", \"Ali Mohtashim\"}\n",
        "\n",
        "students_set.add(\"Abdul Baari\")\n",
        "\n",
        "students_set.remove(\"Asif Shah\")\n",
        "\n",
        "print(\"Updated Set:\", students_set)\n"
      ],
      "metadata": {
        "colab": {
          "base_uri": "https://localhost:8080/"
        },
        "id": "4vKGOq3pnXTN",
        "outputId": "ab945000-b013-4694-e95a-4ea206992262"
      },
      "execution_count": 106,
      "outputs": [
        {
          "output_type": "stream",
          "name": "stdout",
          "text": [
            "Updated Set: {'Ali Mohtashim', 'Sajid', 'Abdul Baari', 'Shahbaaz'}\n"
          ]
        }
      ]
    },
    {
      "cell_type": "markdown",
      "source": [
        "# Question No. 3\n",
        "\n",
        "* Functions – Recursion, Decorators, and Lambda\n",
        "\n",
        "    * Implement a recursive function to calculate the nth Fibonacci number.\n",
        "    * Create a decorator that logs the function’s input and output each time\n",
        "the Fibonacci function is called.\n",
        "    * Write a lambda function that takes a list of numbers and sorts them in\n",
        "ascending order.\n",
        "\n",
        "* Provide explanations on how recursion works, the benefit of using\n",
        "decorators for logging, and why lambda functions can be useful in\n",
        "such contexts.\n",
        "\n"
      ],
      "metadata": {
        "id": "0ASD2uwZohWr"
      }
    },
    {
      "cell_type": "markdown",
      "source": [
        "# Recursion Function\n",
        "\n",
        "* Repitition of function.\n",
        "* Function Call it-self in it body.\n",
        "* Recursion is Infinite.\n",
        "      * We have stop it at particular point.\n",
        "\n",
        "* The recursion function keeps calling itself with n-1 and n-2 until it reaches the base case (n == 0 or n == 1)."
      ],
      "metadata": {
        "id": "9-saHgW3psZ-"
      }
    },
    {
      "cell_type": "code",
      "source": [
        "def fibonacci(n):\n",
        "    \"\"\"Recursive function to find the nth Fibonacci number.\"\"\"\n",
        "    if n <= 0:\n",
        "        return 0\n",
        "    elif n == 1:\n",
        "        return 1\n",
        "    else:\n",
        "        return fibonacci(n - 1) + fibonacci(n - 2)\n",
        "\n",
        ""
      ],
      "metadata": {
        "id": "NGKQP2d8kG0G"
      },
      "execution_count": 57,
      "outputs": []
    },
    {
      "cell_type": "code",
      "source": [
        "print(fibonacci(6))"
      ],
      "metadata": {
        "colab": {
          "base_uri": "https://localhost:8080/"
        },
        "id": "DCyLdyTHlqbw",
        "outputId": "15503cc2-4aa1-457a-921a-af0b8a11ba62"
      },
      "execution_count": 65,
      "outputs": [
        {
          "output_type": "stream",
          "name": "stdout",
          "text": [
            "8\n"
          ]
        }
      ]
    },
    {
      "cell_type": "markdown",
      "source": [
        "# Decorator Function.\n",
        "\n",
        "* append @ before function_name\n",
        "* Design pattern will be same for every function.\n",
        "* Reusability - Same decorator can be used for other functions."
      ],
      "metadata": {
        "id": "6ZyZL-AUscf9"
      }
    },
    {
      "cell_type": "code",
      "source": [
        "def my_decorator(func):\n",
        "  def wrapper():\n",
        "    print(\"Run Before function execution.\")\n",
        "    func()\n",
        "    print(\"Run After function execution.\")\n",
        "  return wrapper\n",
        "\n",
        "@my_decorator\n",
        "def say_hello():\n",
        "  \"\"\"\n",
        "  This is the function that will be decorated.\n",
        "  \"\"\"\n",
        "  print() # To create Gap.\n",
        "  print(\"NED University-PGD Program Data Science!\")\n",
        "  print() # To create Gap.\n",
        "\n",
        "say_hello()"
      ],
      "metadata": {
        "colab": {
          "base_uri": "https://localhost:8080/"
        },
        "id": "7_Y0lsLstRot",
        "outputId": "19782268-caf5-4c28-8beb-eb270941f869"
      },
      "execution_count": 75,
      "outputs": [
        {
          "output_type": "stream",
          "name": "stdout",
          "text": [
            "Run Before function execution.\n",
            "\n",
            "NED University-PGD Program Data Science!\n",
            "\n",
            "Run After function execution.\n"
          ]
        }
      ]
    },
    {
      "cell_type": "markdown",
      "source": [
        "# Lambda Function\n",
        "\n",
        "* It is One line function.\n",
        "    * No need for a full def function.\n",
        "* It will be used without name function.\n",
        "* not used before this line\n",
        "* not after this line\n",
        "* Function use for quick operations."
      ],
      "metadata": {
        "id": "G-ttaIqBuiKT"
      }
    },
    {
      "cell_type": "code",
      "source": [
        "sort_numbers = lambda nums: sorted(nums)\n",
        "numbers = [5, 2, 8, 1, 3]\n",
        "sorted_list = sort_numbers(numbers)\n",
        "print(sorted_list)\n"
      ],
      "metadata": {
        "colab": {
          "base_uri": "https://localhost:8080/"
        },
        "id": "WJG3I3ANuyZH",
        "outputId": "8c59bb23-69da-43d0-d248-f015d3654f2b"
      },
      "execution_count": 80,
      "outputs": [
        {
          "output_type": "stream",
          "name": "stdout",
          "text": [
            "[1, 2, 3, 5, 8]\n"
          ]
        }
      ]
    },
    {
      "cell_type": "markdown",
      "source": [
        "# Question No. 2\n",
        "\n",
        "* File Handling – Reading and Seeking\n",
        "\n",
        "  * Write a Python script that does the following:\n",
        "      * Opens a text file using the with open statement.\n",
        "      * Reads the first 100 characters of the file.\n",
        "      * Uses the seek() method to return to the beginning of the file.\n",
        "      * Reads and prints the entire file content.\n",
        "      \n",
        "* Explain the importance of using with open and how the seek() method\n",
        "affects file reading."
      ],
      "metadata": {
        "id": "HVgKnyupxslJ"
      }
    },
    {
      "cell_type": "code",
      "source": [
        "file = open(r\"/content/Test123.txt\",\"r\")\n",
        "contents = file.read()\n",
        "file.close()\n",
        "print(contents)\n"
      ],
      "metadata": {
        "colab": {
          "base_uri": "https://localhost:8080/"
        },
        "id": "bfWw7E02yB-m",
        "outputId": "ad6f7f43-e6bc-4e57-ca5a-181270f536f8"
      },
      "execution_count": 92,
      "outputs": [
        {
          "output_type": "stream",
          "name": "stdout",
          "text": [
            "Python is a high-level, general-purpose programming language known for its clean, readable syntax, making it beginner-friendly and widely used for web development, data analysis, machine learning, and automation tasks; its key features include being object-oriented, dynamically typed, open-source, and having a vast ecosystem of libraries and frameworks that support diverse applications, making it a powerful tool for various programming needs. \n",
            "\n"
          ]
        }
      ]
    },
    {
      "cell_type": "code",
      "source": [
        "\n",
        "with open(\"/content/Test123.txt\", \"r\") as file:\n",
        "\n",
        "    first_100_chars = file.read(100)\n",
        "    print(\"First 100 characters:\\n\", first_100_chars)\n",
        ""
      ],
      "metadata": {
        "colab": {
          "base_uri": "https://localhost:8080/"
        },
        "id": "FUVEI80szIzD",
        "outputId": "f0bf8cb5-f4bb-4285-d144-350f61c21e03"
      },
      "execution_count": 98,
      "outputs": [
        {
          "output_type": "stream",
          "name": "stdout",
          "text": [
            "First 100 characters:\n",
            " Python is a high-level, general-purpose programming language known for its clean, readable syntax, m\n"
          ]
        }
      ]
    },
    {
      "cell_type": "code",
      "source": [
        "with open(\"/content/Test123.txt\", \"r\") as file:\n",
        "\n",
        "    first_100_chars = file.read(100)\n",
        "    print(\"First 100 characters:\\n\", first_100_chars)\n",
        "\n",
        "    file.seek(0)\n",
        "\n",
        "    full_content = file.read()\n",
        "    print(\"\\nFull file content:\\n\", full_content)\n"
      ],
      "metadata": {
        "colab": {
          "base_uri": "https://localhost:8080/"
        },
        "id": "YTfOYJyD1QdB",
        "outputId": "2c98afda-b58c-4dff-a17c-91b5e4e7e245"
      },
      "execution_count": 100,
      "outputs": [
        {
          "output_type": "stream",
          "name": "stdout",
          "text": [
            "First 100 characters:\n",
            " Python is a high-level, general-purpose programming language known for its clean, readable syntax, m\n",
            "\n",
            "Full file content:\n",
            " Python is a high-level, general-purpose programming language known for its clean, readable syntax, making it beginner-friendly and widely used for web development, data analysis, machine learning, and automation tasks; its key features include being object-oriented, dynamically typed, open-source, and having a vast ecosystem of libraries and frameworks that support diverse applications, making it a powerful tool for various programming needs. \n",
            "\n"
          ]
        }
      ]
    },
    {
      "cell_type": "markdown",
      "source": [
        "# Explanation of file handling.\n",
        "\n",
        "* When working with files, it's a best practice to use the with open() statement rather than manually opening and closing files.\n",
        "\n",
        "  * Automatic File Closing\n",
        "      * When using with open(), Python automatically closes the file after the block finishes executing, even if an error occurs.\n",
        "\n",
        "      * Without with open(), you'd have to manually call file.close(), which can be forgotten, leading to resource leaks.\n",
        "\n",
        "  * Better Resource Management.\n",
        "\n",
        "    * Ensures that file handles are properly released after use.\n",
        "    * Prevents unnecessary memory consumption in large applications."
      ],
      "metadata": {
        "id": "lDUlpcKC2dUw"
      }
    },
    {
      "cell_type": "markdown",
      "source": [
        "# Question No. 1\n",
        "\n",
        "* OOP – Class Methods\n",
        "\n",
        "* Create a Python class named Book that has attributes for title, author, and publication_year. Implement the following methods:\n",
        "\n",
        "      * __init__: Initialize the attributes.\n",
        "      * __repr__: Return a clear, formatted string representation of the object.\n",
        "      * __call__: When an instance is called with a new publication year, update the publication_year attribute.\n",
        "\n",
        "* Provide example usage and explain the role of each method."
      ],
      "metadata": {
        "id": "1oFuYy713LWA"
      }
    },
    {
      "cell_type": "code",
      "source": [
        "class Book:\n",
        "    def __init__(self, title, author, publication_year): # It is a constructor Method.\n",
        "        \"\"\"Initialize the book with title, author, and publication year.\"\"\"\n",
        "        self.title = title # Attribute\n",
        "        self.author = author # Attribute\n",
        "        self.publication_year = publication_year # Attribute\n",
        "\n",
        "    def __repr__(self): # Method\n",
        "        \"\"\"Return a formatted string representation of the book.\"\"\"\n",
        "        return f\"Book(title='{self.title}', author='{self.author}', publication_year={self.publication_year})\"\n",
        "\n",
        "    def __call__(self, new_year): # Method\n",
        "        \"\"\"Update the publication year when the object is called.\"\"\"\n",
        "        print(f\"Updating publication year from {self.publication_year} to {new_year}\")\n",
        "        self.publication_year = new_year\n",
        "\n",
        "book1 = Book(\"1984\", \"George Orwell\", 1949) # create object->call __init__ method -> set attributes\n",
        "\n",
        "print(book1)  # Print Book(title='1984', author='George Orwell', publication_year=1949)\n",
        "\n",
        "book1(1950)  # Calls __call__ method\n",
        "\n",
        "print(book1)  # Output: Book(title='1984', author='George Orwell', publication_year=1950)\n"
      ],
      "metadata": {
        "colab": {
          "base_uri": "https://localhost:8080/"
        },
        "id": "GfrXzLkp3HiN",
        "outputId": "4bdda6da-745b-4407-8c3e-7004b2310300"
      },
      "execution_count": 105,
      "outputs": [
        {
          "output_type": "stream",
          "name": "stdout",
          "text": [
            "Book(title='1984', author='George Orwell', publication_year=1949)\n",
            "Updating publication year from 1949 to 1950\n",
            "Book(title='1984', author='George Orwell', publication_year=1950)\n"
          ]
        }
      ]
    },
    {
      "cell_type": "markdown",
      "source": [
        "# Explanation the role of Method.\n",
        "\n",
        "__init__\n",
        "\n",
        "* Initializes the attributes (title, author, publication_year). Called when creating a new Book object.\n",
        "\n",
        "__repr__\n",
        "\n",
        "* Returns a readable string representation of the object. Used when printing or debugging.\n",
        "\n",
        "__call__\n",
        "\n",
        "* Allows the object to be called like a function to update the publication_year.\n"
      ],
      "metadata": {
        "id": "V9D0IcDu4mOh"
      }
    },
    {
      "cell_type": "code",
      "source": [],
      "metadata": {
        "id": "9s0zI98x4wO8"
      },
      "execution_count": 103,
      "outputs": []
    }
  ]
}