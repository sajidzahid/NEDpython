{
  "nbformat": 4,
  "nbformat_minor": 0,
  "metadata": {
    "colab": {
      "provenance": []
    },
    "kernelspec": {
      "name": "python3",
      "display_name": "Python 3"
    },
    "language_info": {
      "name": "python"
    }
  },
  "cells": [
    {
      "cell_type": "markdown",
      "source": [],
      "metadata": {
        "id": "wwEZGXy-6lAg"
      }
    },
    {
      "cell_type": "code",
      "execution_count": 2,
      "metadata": {
        "colab": {
          "base_uri": "https://localhost:8080/"
        },
        "id": "Jxcwb9o43Zey",
        "outputId": "6bd7577e-8f19-43ec-f2e5-0bc45bf040b1"
      },
      "outputs": [
        {
          "output_type": "stream",
          "name": "stdout",
          "text": [
            "Pakistan Zindabad\n"
          ]
        }
      ],
      "source": [
        "print(\"Pakistan Zindabad\")"
      ]
    },
    {
      "cell_type": "code",
      "source": [
        "print(\"NED univserity\")\n",
        "print(\"City: Karachi\")\n",
        "print(\"Course : Data Science Batch-10\")\n",
        "print(\"Name : Muhammad Qasim\")"
      ],
      "metadata": {
        "colab": {
          "base_uri": "https://localhost:8080/"
        },
        "id": "yC6snlhb6VQS",
        "outputId": "07aa21a3-4deb-44d8-87ea-5ca994e994cc"
      },
      "execution_count": 3,
      "outputs": [
        {
          "output_type": "stream",
          "name": "stdout",
          "text": [
            "NED univserity\n",
            "City: Karachi\n",
            "Course : Data Science Batch-10\n",
            "Name : Muhammad Qasim\n"
          ]
        }
      ]
    },
    {
      "cell_type": "code",
      "source": [
        "print(\"NED univserity\")\n",
        "print(\"City: Karachi\")\n",
        "print(\"Course : Data Science Batch-10\")\n",
        "print(\"Name : Asif Khan\")"
      ],
      "metadata": {
        "colab": {
          "base_uri": "https://localhost:8080/"
        },
        "id": "e4J6a-hU-3eE",
        "outputId": "5593e732-08e5-473a-b098-ea31b1e32ab0"
      },
      "execution_count": 4,
      "outputs": [
        {
          "output_type": "stream",
          "name": "stdout",
          "text": [
            "NED univserity\n",
            "City: Karachi\n",
            "Course : Data Science Batch-10\n",
            "Name : Asif Khan\n"
          ]
        }
      ]
    },
    {
      "cell_type": "markdown",
      "source": [
        "# function syntax\n",
        "```python\n",
        "def function_name(parameter1,parameter2,...):\n",
        "  funtion_body\n",
        "\n",
        "```"
      ],
      "metadata": {
        "id": "I69Zd_99-7zR"
      }
    },
    {
      "cell_type": "code",
      "source": [
        "def info():\n",
        "  print(\"NED univserity\")\n",
        "  print(\"City: Karachi\")\n",
        "  print(\"Course : Data Science Batch-10\")\n",
        "  print(\"Name : Muhammad Qasim\")\n",
        ""
      ],
      "metadata": {
        "id": "_FFg9f3o-88M"
      },
      "execution_count": 5,
      "outputs": []
    },
    {
      "cell_type": "code",
      "source": [
        "info()\n"
      ],
      "metadata": {
        "colab": {
          "base_uri": "https://localhost:8080/"
        },
        "id": "zyvfmw7m_E31",
        "outputId": "41780d0c-61b4-4472-de69-53333c6922d0"
      },
      "execution_count": 6,
      "outputs": [
        {
          "output_type": "stream",
          "name": "stdout",
          "text": [
            "NED univserity\n",
            "City: Karachi\n",
            "Course : Data Science Batch-10\n",
            "Name : Muhammad Qasim\n"
          ]
        }
      ]
    },
    {
      "cell_type": "code",
      "source": [
        "def info()->None:\n",
        "  \"\"\"Hello Student\"\"\"\n",
        "\n",
        "  print(\"NED univserity\")\n",
        "  print(\"City: Karachi\")\n",
        "  print(\"Course : Data Science Batch-10\")\n",
        "  print(\"Name : Muhammad Qasim\")\n",
        ""
      ],
      "metadata": {
        "id": "7rcfNcXI_GHB"
      },
      "execution_count": 9,
      "outputs": []
    },
    {
      "cell_type": "code",
      "source": [
        "info()"
      ],
      "metadata": {
        "colab": {
          "base_uri": "https://localhost:8080/"
        },
        "id": "GQFE9bld_KWh",
        "outputId": "e79597f9-f736-4251-ffb9-4191399d865d"
      },
      "execution_count": 10,
      "outputs": [
        {
          "output_type": "stream",
          "name": "stdout",
          "text": [
            "NED univserity\n",
            "City: Karachi\n",
            "Course : Data Science Batch-10\n",
            "Name : Muhammad Qasim\n"
          ]
        }
      ]
    },
    {
      "cell_type": "code",
      "source": [
        "def info()->None: # function declairation\n",
        "  print(\"NED univserity\") # function body start, instruction 1\n",
        "  print(\"City: Lahore\") # instruction 2\n",
        "  print(\"Course : Data Science Batch-10\") # instrunction 3\n",
        "  print(\"Name : Muhammad Qasim\") # instruction 4, end body\n",
        "\n",
        "\n"
      ],
      "metadata": {
        "id": "DA7sNJYZ_XEJ"
      },
      "execution_count": 11,
      "outputs": []
    },
    {
      "cell_type": "code",
      "source": [
        "info() # Calling Function more than one time.\n",
        "info()\n",
        "info()"
      ],
      "metadata": {
        "colab": {
          "base_uri": "https://localhost:8080/"
        },
        "id": "lhTGiLAo_fSR",
        "outputId": "f6e51a15-26c6-4eb4-b680-bdf940206274"
      },
      "execution_count": 12,
      "outputs": [
        {
          "output_type": "stream",
          "name": "stdout",
          "text": [
            "NED univserity\n",
            "City: Lahore\n",
            "Course : Data Science Batch-10\n",
            "Name : Muhammad Qasim\n",
            "NED univserity\n",
            "City: Lahore\n",
            "Course : Data Science Batch-10\n",
            "Name : Muhammad Qasim\n",
            "NED univserity\n",
            "City: Lahore\n",
            "Course : Data Science Batch-10\n",
            "Name : Muhammad Qasim\n"
          ]
        }
      ]
    },
    {
      "cell_type": "code",
      "source": [],
      "metadata": {
        "id": "is9fQPl__iwC"
      },
      "execution_count": null,
      "outputs": []
    },
    {
      "cell_type": "markdown",
      "source": [
        "# Return Function and None-Return Function\n",
        "## Return Function\n",
        "* when we call this function it will return object(str,  int, list)\n",
        "* we can assign this value to variable\n",
        "\n",
        "# None-Return function\n",
        "* exclude above two properties"
      ],
      "metadata": {
        "id": "0JYSQIlyCci-"
      }
    },
    {
      "cell_type": "code",
      "source": [
        "my_var = print(\"Pakistan\") # Non-return Function\n",
        "print(my_var) # Print variable value\n",
        "print(my_var) # Print variable value"
      ],
      "metadata": {
        "colab": {
          "base_uri": "https://localhost:8080/"
        },
        "id": "kVnTg_19CdBu",
        "outputId": "ab6cd5e0-417d-4895-e1b0-0058c03a24d2"
      },
      "execution_count": 13,
      "outputs": [
        {
          "output_type": "stream",
          "name": "stdout",
          "text": [
            "Pakistan\n",
            "None\n",
            "None\n"
          ]
        }
      ]
    },
    {
      "cell_type": "code",
      "source": [
        "my_var = len(\"Pakistan\") # Return Function\n",
        "print(my_var) # Print variable value\n",
        "print(my_var) # Print variable value"
      ],
      "metadata": {
        "colab": {
          "base_uri": "https://localhost:8080/"
        },
        "id": "xHqlWv0RCpRy",
        "outputId": "c4b2bb75-a307-4773-da49-0812d6d81f64"
      },
      "execution_count": 14,
      "outputs": [
        {
          "output_type": "stream",
          "name": "stdout",
          "text": [
            "8\n",
            "8\n"
          ]
        }
      ]
    },
    {
      "cell_type": "code",
      "source": [
        "my_var = id(\"Pakistan\") # Return Function\n",
        "print(my_var) # Print variable value\n",
        "print(my_var) # Print variable value"
      ],
      "metadata": {
        "colab": {
          "base_uri": "https://localhost:8080/"
        },
        "id": "UKl4z0NlC0ck",
        "outputId": "7de99133-7ed6-442f-a848-6c29a13f3814"
      },
      "execution_count": 15,
      "outputs": [
        {
          "output_type": "stream",
          "name": "stdout",
          "text": [
            "139360489868144\n",
            "139360489868144\n"
          ]
        }
      ]
    },
    {
      "cell_type": "code",
      "source": [
        "my_var = info() # Non-return Function\n",
        "print(my_var) # Print variable value\n",
        "print(my_var) # Print variable value"
      ],
      "metadata": {
        "colab": {
          "base_uri": "https://localhost:8080/"
        },
        "id": "24KDblmKC6BI",
        "outputId": "24c9fd79-8599-45cc-f629-328fdb9e114c"
      },
      "execution_count": 16,
      "outputs": [
        {
          "output_type": "stream",
          "name": "stdout",
          "text": [
            "NED univserity\n",
            "City: Lahore\n",
            "Course : Data Science Batch-10\n",
            "Name : Muhammad Qasim\n",
            "None\n",
            "None\n"
          ]
        }
      ]
    },
    {
      "cell_type": "markdown",
      "source": [
        "# required parameters/Arguments functions\n",
        "* parameters: in function body/declairation\n",
        "* arguments: calling time\n",
        "\n",
        "```\n",
        "# This is formatted as code\n",
        "```\n",
        "\n"
      ],
      "metadata": {
        "id": "3r3szEFFFrMW"
      }
    },
    {
      "cell_type": "code",
      "source": [
        "def add_two_numbers(num1, num2):\n",
        "  return num1 + num1 # This function is calling one parameters two times.\n",
        "\n"
      ],
      "metadata": {
        "id": "Dg4PkjHnEC1I"
      },
      "execution_count": 18,
      "outputs": []
    },
    {
      "cell_type": "code",
      "source": [
        "add_two_numbers (1, 11)"
      ],
      "metadata": {
        "colab": {
          "base_uri": "https://localhost:8080/"
        },
        "id": "05QJSTkdGONO",
        "outputId": "9150fb73-8fe8-4ec1-839c-c397e2679d8a"
      },
      "execution_count": 19,
      "outputs": [
        {
          "output_type": "execute_result",
          "data": {
            "text/plain": [
              "2"
            ]
          },
          "metadata": {},
          "execution_count": 19
        }
      ]
    },
    {
      "cell_type": "code",
      "source": [
        "def add_two_numbers(num1, num2):\n",
        "  return num1 + num2 # This function is calling parameters as define.\n",
        "add_two_numbers(1,11)\n"
      ],
      "metadata": {
        "colab": {
          "base_uri": "https://localhost:8080/"
        },
        "id": "_7IGXA6VGZb3",
        "outputId": "a2dd872d-a763-4a17-f0ec-1e3ca8f96080"
      },
      "execution_count": 20,
      "outputs": [
        {
          "output_type": "execute_result",
          "data": {
            "text/plain": [
              "12"
            ]
          },
          "metadata": {},
          "execution_count": 20
        }
      ]
    },
    {
      "cell_type": "code",
      "source": [
        "print(add_two_numbers(6,5))"
      ],
      "metadata": {
        "colab": {
          "base_uri": "https://localhost:8080/"
        },
        "id": "W5-ZjNfrGr1d",
        "outputId": "6d778439-f482-4621-9392-a7e37b4ed89c"
      },
      "execution_count": 22,
      "outputs": [
        {
          "output_type": "stream",
          "name": "stdout",
          "text": [
            "11\n"
          ]
        }
      ]
    },
    {
      "cell_type": "code",
      "source": [
        "add_two_numbers(20)"
      ],
      "metadata": {
        "colab": {
          "base_uri": "https://localhost:8080/",
          "height": 141
        },
        "id": "51fUEkwzHQUw",
        "outputId": "d587d70d-0fb1-4494-c0c0-6138ef1e52f0"
      },
      "execution_count": 23,
      "outputs": [
        {
          "output_type": "error",
          "ename": "TypeError",
          "evalue": "add_two_numbers() missing 1 required positional argument: 'num2'",
          "traceback": [
            "\u001b[0;31m---------------------------------------------------------------------------\u001b[0m",
            "\u001b[0;31mTypeError\u001b[0m                                 Traceback (most recent call last)",
            "\u001b[0;32m<ipython-input-23-fdfbb6e239d8>\u001b[0m in \u001b[0;36m<cell line: 0>\u001b[0;34m()\u001b[0m\n\u001b[0;32m----> 1\u001b[0;31m \u001b[0madd_two_numbers\u001b[0m\u001b[0;34m(\u001b[0m\u001b[0;36m20\u001b[0m\u001b[0;34m)\u001b[0m\u001b[0;34m\u001b[0m\u001b[0;34m\u001b[0m\u001b[0m\n\u001b[0m",
            "\u001b[0;31mTypeError\u001b[0m: add_two_numbers() missing 1 required positional argument: 'num2'"
          ]
        }
      ]
    },
    {
      "cell_type": "code",
      "source": [
        "def add_two_numners_new(num1 : int, num2 : int) -> int: # Parameters num1 & num2\n",
        "  return num1 + num2"
      ],
      "metadata": {
        "id": "mDhcUj7HHWCG"
      },
      "execution_count": 24,
      "outputs": []
    },
    {
      "cell_type": "code",
      "source": [
        "add_two_numbers()\n",
        "add_two_numbers_new()"
      ],
      "metadata": {
        "colab": {
          "base_uri": "https://localhost:8080/",
          "height": 141
        },
        "id": "vXLOoDcjS_o_",
        "outputId": "ab69df74-da69-4a90-ada9-a72fc93f02ce"
      },
      "execution_count": 25,
      "outputs": [
        {
          "output_type": "error",
          "ename": "NameError",
          "evalue": "name 'add_two_numbers_new' is not defined",
          "traceback": [
            "\u001b[0;31m---------------------------------------------------------------------------\u001b[0m",
            "\u001b[0;31mNameError\u001b[0m                                 Traceback (most recent call last)",
            "\u001b[0;32m<ipython-input-25-8a895442d162>\u001b[0m in \u001b[0;36m<cell line: 0>\u001b[0;34m()\u001b[0m\n\u001b[0;32m----> 1\u001b[0;31m \u001b[0madd_two_numbers_new\u001b[0m\u001b[0;34m(\u001b[0m\u001b[0;36m1\u001b[0m\u001b[0;34m,\u001b[0m\u001b[0;36m11\u001b[0m\u001b[0;34m)\u001b[0m\u001b[0;34m\u001b[0m\u001b[0;34m\u001b[0m\u001b[0m\n\u001b[0m",
            "\u001b[0;31mNameError\u001b[0m: name 'add_two_numbers_new' is not defined"
          ]
        }
      ]
    },
    {
      "cell_type": "code",
      "source": [],
      "metadata": {
        "id": "9FQqmFx9TFg8"
      },
      "execution_count": null,
      "outputs": []
    }
  ]
}