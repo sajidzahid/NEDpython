{
  "nbformat": 4,
  "nbformat_minor": 0,
  "metadata": {
    "colab": {
      "provenance": []
    },
    "kernelspec": {
      "name": "python3",
      "display_name": "Python 3"
    },
    "language_info": {
      "name": "python"
    }
  },
  "cells": [
    {
      "cell_type": "markdown",
      "source": [
        "#SLICING\n",
        "\n"
      ],
      "metadata": {
        "id": "RY6R8uw4CSIw"
      }
    },
    {
      "cell_type": "code",
      "execution_count": 5,
      "metadata": {
        "colab": {
          "base_uri": "https://localhost:8080/"
        },
        "id": "1wM6MeRgAySU",
        "outputId": "02b37d37-afb8-4ba7-837a-6917448a6a9a"
      },
      "outputs": [
        {
          "output_type": "stream",
          "name": "stdout",
          "text": [
            "['b', 'c', 'd']\n"
          ]
        }
      ],
      "source": [
        "#         0     1    2      4    5   6 7 8 9\n",
        "names = ['a' , 'b' , 'c' , 'd', 'e', 1, 2, 3, 4]\n",
        "#         -8,   -7    -6    -5   -4  -3 -2 -1 -0\n",
        "print(names[1:4])"
      ]
    },
    {
      "cell_type": "markdown",
      "source": [],
      "metadata": {
        "id": "uaC-OKYwCRMU"
      }
    },
    {
      "cell_type": "code",
      "source": [
        "#         0     1    2      4    5   6 7 8 9\n",
        "names = ['a' , 'b' , 'c' , 'd', 'e', 1,2,3,4]\n",
        "#         -8,   -7    -6    -5   -4  -3 -2 -1 -0\n",
        "\n",
        "print(names[1:4])\n",
        "print(names[-7])"
      ],
      "metadata": {
        "colab": {
          "base_uri": "https://localhost:8080/"
        },
        "id": "N3hz-kjQBnU4",
        "outputId": "679e4a1f-2bc0-482c-a3e3-a6a6215eb0fe"
      },
      "execution_count": 4,
      "outputs": [
        {
          "output_type": "stream",
          "name": "stdout",
          "text": [
            "['b', 'c', 'd']\n",
            "c\n"
          ]
        }
      ]
    },
    {
      "cell_type": "code",
      "source": [
        "#         0     1    2      4    5   6 7 8 9\n",
        "names = ['a' , 'b' , 'c' , 'd', 'e', 1,2,3,4]\n",
        "#         -8,   -7    -6    -5   -4  -3 -2 -1 -0\n",
        "print(names[1:4])\n",
        "print(names[-7:-1])"
      ],
      "metadata": {
        "colab": {
          "base_uri": "https://localhost:8080/"
        },
        "id": "6a-7oSgGB2ou",
        "outputId": "5d6dcddd-ac7d-4c8c-f976-a5bcb4681f63"
      },
      "execution_count": 8,
      "outputs": [
        {
          "output_type": "stream",
          "name": "stdout",
          "text": [
            "['b', 'c', 'd']\n",
            "['c', 'd', 'e', 1, 2, 3]\n"
          ]
        }
      ]
    },
    {
      "cell_type": "code",
      "source": [
        "b = \"Hello, World!\"\n",
        "print(b[:5])"
      ],
      "metadata": {
        "colab": {
          "base_uri": "https://localhost:8080/"
        },
        "id": "IfiDbR4ZCzgt",
        "outputId": "7c9a3161-4982-46bd-d0e9-117660164167"
      },
      "execution_count": 9,
      "outputs": [
        {
          "output_type": "stream",
          "name": "stdout",
          "text": [
            "Hello\n"
          ]
        }
      ]
    },
    {
      "cell_type": "code",
      "source": [
        "#         0     1    2      3    4   5 6 7 8\n",
        "names = ['a' , 'b' , 'c' , 'd', 'e', 1,2,3,4]\n",
        "#         -8,   -7    -6    -5   -4  -3 -2 -1 -0\n",
        "print(names[1:4])\n",
        "print(names[-7:-4])\n"
      ],
      "metadata": {
        "colab": {
          "base_uri": "https://localhost:8080/"
        },
        "id": "N__Tt2PJDIzG",
        "outputId": "d5db5153-0f3d-4f65-ba5c-35f276489b0b"
      },
      "execution_count": 11,
      "outputs": [
        {
          "output_type": "stream",
          "name": "stdout",
          "text": [
            "['b', 'c', 'd']\n",
            "['c', 'd', 'e']\n"
          ]
        }
      ]
    },
    {
      "cell_type": "code",
      "source": [],
      "metadata": {
        "id": "j47SmYUoDp6e"
      },
      "execution_count": null,
      "outputs": []
    }
  ]
}