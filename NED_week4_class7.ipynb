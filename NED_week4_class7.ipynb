{
 "cells": [
  {
   "cell_type": "markdown",
   "metadata": {
    "id": "RY6R8uw4CSIw"
   },
   "source": [
    "#SLICING\n",
    "\n"
   ]
  },
  {
   "cell_type": "code",
   "execution_count": null,
   "metadata": {
    "colab": {
     "base_uri": "https://localhost:8080/"
    },
    "id": "1wM6MeRgAySU",
    "outputId": "02b37d37-afb8-4ba7-837a-6917448a6a9a"
   },
   "outputs": [
    {
     "name": "stdout",
     "output_type": "stream",
     "text": [
      "['b', 'c', 'd']\n"
     ]
    }
   ],
   "source": [
    "#         0     1    2      4    5   6 7 8 9\n",
    "names = ['a' , 'b' , 'c' , 'd', 'e', 1, 2, 3, 4]\n",
    "#         -8,   -7    -6    -5   -4  -3 -2 -1 -0\n",
    "print(names[1:4])"
   ]
  },
  {
   "cell_type": "code",
   "execution_count": null,
   "metadata": {
    "colab": {
     "base_uri": "https://localhost:8080/"
    },
    "id": "N3hz-kjQBnU4",
    "outputId": "679e4a1f-2bc0-482c-a3e3-a6a6215eb0fe"
   },
   "outputs": [
    {
     "name": "stdout",
     "output_type": "stream",
     "text": [
      "['b', 'c', 'd']\n",
      "c\n"
     ]
    }
   ],
   "source": [
    "#         0     1    2      4    5   6 7 8 9\n",
    "names = ['a' , 'b' , 'c' , 'd', 'e', 1,2,3,4]\n",
    "#         -8,   -7    -6    -5   -4  -3 -2 -1 -0\n",
    "\n",
    "print(names[1:4])\n",
    "print(names[-7])"
   ]
  },
  {
   "cell_type": "code",
   "execution_count": null,
   "metadata": {
    "colab": {
     "base_uri": "https://localhost:8080/"
    },
    "id": "6a-7oSgGB2ou",
    "outputId": "5d6dcddd-ac7d-4c8c-f976-a5bcb4681f63"
   },
   "outputs": [
    {
     "name": "stdout",
     "output_type": "stream",
     "text": [
      "['b', 'c', 'd']\n",
      "['c', 'd', 'e', 1, 2, 3]\n"
     ]
    }
   ],
   "source": [
    "#         0     1    2      4    5   6 7 8 9\n",
    "names = ['a' , 'b' , 'c' , 'd', 'e', 1,2,3,4]\n",
    "#         -8,   -7    -6    -5   -4  -3 -2 -1 -0\n",
    "print(names[1:4])\n",
    "print(names[-7:-1])"
   ]
  },
  {
   "cell_type": "code",
   "execution_count": null,
   "metadata": {
    "colab": {
     "base_uri": "https://localhost:8080/"
    },
    "id": "IfiDbR4ZCzgt",
    "outputId": "7c9a3161-4982-46bd-d0e9-117660164167"
   },
   "outputs": [
    {
     "name": "stdout",
     "output_type": "stream",
     "text": [
      "Hello\n"
     ]
    }
   ],
   "source": [
    "b = \"Hello, World!\"\n",
    "print(b[:5])"
   ]
  },
  {
   "cell_type": "code",
   "execution_count": null,
   "metadata": {
    "colab": {
     "base_uri": "https://localhost:8080/"
    },
    "id": "n7f4ZvcmF-zn",
    "outputId": "5635bba9-0b84-4a30-b99a-c59db5bd99ad"
   },
   "outputs": [
    {
     "name": "stdout",
     "output_type": "stream",
     "text": [
      ", World!\n"
     ]
    }
   ],
   "source": [
    "b = \"Hello, World!\"\n",
    "print(b[5:])"
   ]
  },
  {
   "cell_type": "code",
   "execution_count": null,
   "metadata": {
    "colab": {
     "base_uri": "https://localhost:8080/"
    },
    "id": "N__Tt2PJDIzG",
    "outputId": "d5db5153-0f3d-4f65-ba5c-35f276489b0b"
   },
   "outputs": [
    {
     "name": "stdout",
     "output_type": "stream",
     "text": [
      "['b', 'c', 'd']\n",
      "['c', 'd', 'e']\n"
     ]
    }
   ],
   "source": [
    "#         0     1    2      3    4   5 6 7 8\n",
    "names = ['a' , 'b' , 'c' , 'd', 'e', 1,2,3,4]\n",
    "#         -8,   -7    -6    -5   -4  -3 -2 -1 -0\n",
    "print(names[1:4])\n",
    "print(names[-7:-4])\n"
   ]
  },
  {
   "cell_type": "code",
   "execution_count": 13,
   "metadata": {
    "colab": {
     "base_uri": "https://localhost:8080/"
    },
    "collapsed": true,
    "id": "VyoPOTI3JiCI",
    "jupyter": {
     "outputs_hidden": true
    },
    "outputId": "97824244-3970-4a8f-b032-40b12841c2c8"
   },
   "outputs": [
    {
     "data": {
      "text/plain": [
       "['__add__',\n",
       " '__class__',\n",
       " '__class_getitem__',\n",
       " '__contains__',\n",
       " '__delattr__',\n",
       " '__delitem__',\n",
       " '__dir__',\n",
       " '__doc__',\n",
       " '__eq__',\n",
       " '__format__',\n",
       " '__ge__',\n",
       " '__getattribute__',\n",
       " '__getitem__',\n",
       " '__getstate__',\n",
       " '__gt__',\n",
       " '__hash__',\n",
       " '__iadd__',\n",
       " '__imul__',\n",
       " '__init__',\n",
       " '__init_subclass__',\n",
       " '__iter__',\n",
       " '__le__',\n",
       " '__len__',\n",
       " '__lt__',\n",
       " '__mul__',\n",
       " '__ne__',\n",
       " '__new__',\n",
       " '__reduce__',\n",
       " '__reduce_ex__',\n",
       " '__repr__',\n",
       " '__reversed__',\n",
       " '__rmul__',\n",
       " '__setattr__',\n",
       " '__setitem__',\n",
       " '__sizeof__',\n",
       " '__str__',\n",
       " '__subclasshook__',\n",
       " 'append',\n",
       " 'clear',\n",
       " 'copy',\n",
       " 'count',\n",
       " 'extend',\n",
       " 'index',\n",
       " 'insert',\n",
       " 'pop',\n",
       " 'remove',\n",
       " 'reverse',\n",
       " 'sort']"
      ]
     },
     "execution_count": 13,
     "metadata": {},
     "output_type": "execute_result"
    }
   ],
   "source": [
    "list(dir(list)) # Need to study the class of list. MUST"
   ]
  },
  {
   "cell_type": "markdown",
   "metadata": {
    "id": "qDeus6s7HmG-"
   },
   "source": [
    "# Tuple\n",
    "* imutable (We  can't change it)\n"
   ]
  },
  {
   "cell_type": "code",
   "execution_count": null,
   "metadata": {
    "id": "j47SmYUoDp6e"
   },
   "outputs": [],
   "source": [
    "#             0                  1          2       3       4          5\n",
    "data1 = [\"Muhammad Sajid\", \"Muhammad Zahid\", 30, \"MSDS\", \"Karachi\", \"Karachi\"]\n",
    "data2 = [\"Abid\", \"Asif\", 35, \"Karachi\", \"PDH\", \"Karachi\"]\n"
   ]
  },
  {
   "cell_type": "code",
   "execution_count": 1,
   "metadata": {
    "colab": {
     "base_uri": "https://localhost:8080/"
    },
    "id": "VYyhNyi-G1rZ",
    "outputId": "a491143d-e9cd-4dba-f34f-b55558834f38"
   },
   "outputs": [
    {
     "name": "stdout",
     "output_type": "stream",
     "text": [
      "<class 'list'>\n"
     ]
    }
   ],
   "source": [
    "#             0                  1          2       3       4          5\n",
    "data = [\"Muhammad Sajid\", \"Muhammad Zahid\", 30, \"MSDS\", \"Karachi\", \"Karachi\"]\n",
    "print(type(data))\n"
   ]
  },
  {
   "cell_type": "code",
   "execution_count": 2,
   "metadata": {
    "colab": {
     "base_uri": "https://localhost:8080/"
    },
    "id": "QLokIQc1IP6b",
    "outputId": "0b23f2e8-6300-4c38-bea3-f695dc2c8bd1"
   },
   "outputs": [
    {
     "name": "stdout",
     "output_type": "stream",
     "text": [
      "<class 'tuple'>\n"
     ]
    }
   ],
   "source": [
    "data = ('a' , 'b' , 'c' , 'd', 'e', 1,2,3,4)\n",
    "print(type(data))"
   ]
  },
  {
   "cell_type": "code",
   "execution_count": 6,
   "metadata": {
    "colab": {
     "base_uri": "https://localhost:8080/"
    },
    "id": "M7J4vhDvIXrk",
    "outputId": "c097ecc2-db71-4954-aecd-77a1cdddbf08"
   },
   "outputs": [
    {
     "name": "stdout",
     "output_type": "stream",
     "text": [
      "('a', 'b', 'c', 'd', 'e', 1, 2, 3, 4)\n",
      "('SAJID', 'b', 'c', 'd', 'e', 1, 2, 3, 4)\n",
      "<class 'tuple'>\n"
     ]
    }
   ],
   "source": [
    "data = ('a' , 'b' , 'c' , 'd', 'e', 1,2,3,4)\n",
    "print(data)\n",
    "data = ('SAJID' , 'b' , 'c' , 'd', 'e', 1,2,3,4) # reassigned/regenerated the value in tuple.\n",
    "print(data)\n",
    "print(type(data))"
   ]
  },
  {
   "cell_type": "markdown",
   "metadata": {
    "id": "ddPrIOJDJxzJ"
   },
   "source": [
    "# Set Data Type\n",
    "\n"
   ]
  },
  {
   "cell_type": "code",
   "execution_count": null,
   "metadata": {
    "id": "08Efr6L3J08_"
   },
   "outputs": [],
   "source": [
    "a1 = {\"a\", \"b\", \"c\", \"a\", \"a\", \"c\", \"d\", }"
   ]
  },
  {
   "cell_type": "code",
   "execution_count": 8,
   "metadata": {
    "colab": {
     "base_uri": "https://localhost:8080/"
    },
    "collapsed": true,
    "id": "zLkF3wxOKGdp",
    "jupyter": {
     "outputs_hidden": true
    },
    "outputId": "2fef99ac-1a1b-46ed-dafb-264228ac99a4"
   },
   "outputs": [
    {
     "data": {
      "text/plain": [
       "['__and__',\n",
       " '__class__',\n",
       " '__class_getitem__',\n",
       " '__contains__',\n",
       " '__delattr__',\n",
       " '__dir__',\n",
       " '__doc__',\n",
       " '__eq__',\n",
       " '__format__',\n",
       " '__ge__',\n",
       " '__getattribute__',\n",
       " '__getstate__',\n",
       " '__gt__',\n",
       " '__hash__',\n",
       " '__iand__',\n",
       " '__init__',\n",
       " '__init_subclass__',\n",
       " '__ior__',\n",
       " '__isub__',\n",
       " '__iter__',\n",
       " '__ixor__',\n",
       " '__le__',\n",
       " '__len__',\n",
       " '__lt__',\n",
       " '__ne__',\n",
       " '__new__',\n",
       " '__or__',\n",
       " '__rand__',\n",
       " '__reduce__',\n",
       " '__reduce_ex__',\n",
       " '__repr__',\n",
       " '__ror__',\n",
       " '__rsub__',\n",
       " '__rxor__',\n",
       " '__setattr__',\n",
       " '__sizeof__',\n",
       " '__str__',\n",
       " '__sub__',\n",
       " '__subclasshook__',\n",
       " '__xor__',\n",
       " 'add',\n",
       " 'clear',\n",
       " 'copy',\n",
       " 'difference',\n",
       " 'difference_update',\n",
       " 'discard',\n",
       " 'intersection',\n",
       " 'intersection_update',\n",
       " 'isdisjoint',\n",
       " 'issubset',\n",
       " 'issuperset',\n",
       " 'pop',\n",
       " 'remove',\n",
       " 'symmetric_difference',\n",
       " 'symmetric_difference_update',\n",
       " 'union',\n",
       " 'update']"
      ]
     },
     "execution_count": 8,
     "metadata": {},
     "output_type": "execute_result"
    }
   ],
   "source": [
    "list(dir(set))"
   ]
  },
  {
   "cell_type": "code",
   "execution_count": 12,
   "metadata": {
    "colab": {
     "base_uri": "https://localhost:8080/"
    },
    "id": "mUs8MVhXKLe9",
    "outputId": "61ba6265-f183-47e4-f374-34d67ee41937"
   },
   "outputs": [
    {
     "name": "stdout",
     "output_type": "stream",
     "text": [
      "{'b'}\n",
      "{'a', 'c'}\n",
      "{'c', 'b', 'x', 'a'}\n"
     ]
    }
   ],
   "source": [
    "a1 = {\"a\", \"b\", \"c\"}\n",
    "a2 = {\"a\", \"c\", \"x\"}\n",
    "print(a1.difference(a2))\n",
    "print(a1.intersection(a2))\n",
    "print(a1.union(a2))"
   ]
  },
  {
   "cell_type": "markdown",
   "metadata": {
    "id": "sVCpKijwLpTr"
   },
   "source": [
    "# Dictionary Data Type\n",
    "\n",
    "* we replace index with key.\n",
    "* {'key': value}\n"
   ]
  },
  {
   "cell_type": "code",
   "execution_count": 14,
   "metadata": {
    "id": "uSzMBLoZLDPU"
   },
   "outputs": [],
   "source": [
    "# Problem\n",
    "#\n",
    "\n",
    "data1 = [\"Muhammad Sajid\", \"Muhammad Zahid\", 30, \"MSDS\", \"Karachi\", \"Karachi\"]\n",
    "data2 = [\"Abid\", \"Asif\", 35, \"Karachi\", \"PDH\", \"Karachi\"]"
   ]
  },
  {
   "cell_type": "code",
   "execution_count": 15,
   "metadata": {
    "colab": {
     "base_uri": "https://localhost:8080/"
    },
    "id": "qLNNyF7cO4eW",
    "outputId": "5148e873-aab1-4497-aab6-6629492216f2"
   },
   "outputs": [
    {
     "data": {
      "text/plain": [
       "['__class__',\n",
       " '__class_getitem__',\n",
       " '__contains__',\n",
       " '__delattr__',\n",
       " '__delitem__',\n",
       " '__dir__',\n",
       " '__doc__',\n",
       " '__eq__',\n",
       " '__format__',\n",
       " '__ge__',\n",
       " '__getattribute__',\n",
       " '__getitem__',\n",
       " '__getstate__',\n",
       " '__gt__',\n",
       " '__hash__',\n",
       " '__init__',\n",
       " '__init_subclass__',\n",
       " '__ior__',\n",
       " '__iter__',\n",
       " '__le__',\n",
       " '__len__',\n",
       " '__lt__',\n",
       " '__ne__',\n",
       " '__new__',\n",
       " '__or__',\n",
       " '__reduce__',\n",
       " '__reduce_ex__',\n",
       " '__repr__',\n",
       " '__reversed__',\n",
       " '__ror__',\n",
       " '__setattr__',\n",
       " '__setitem__',\n",
       " '__sizeof__',\n",
       " '__str__',\n",
       " '__subclasshook__',\n",
       " 'clear',\n",
       " 'copy',\n",
       " 'fromkeys',\n",
       " 'get',\n",
       " 'items',\n",
       " 'keys',\n",
       " 'pop',\n",
       " 'popitem',\n",
       " 'setdefault',\n",
       " 'update',\n",
       " 'values']"
      ]
     },
     "execution_count": 15,
     "metadata": {},
     "output_type": "execute_result"
    }
   ],
   "source": [
    "list(dir(dict))  # Call data type."
   ]
  },
  {
   "cell_type": "code",
   "execution_count": 17,
   "metadata": {
    "id": "HrkVAGorO55a"
   },
   "outputs": [],
   "source": [
    "# Copy, clear, fromkeys, get, items, keys, pop, popitem, values, These are the list of Dictionary. Must study."
   ]
  },
  {
   "cell_type": "code",
   "execution_count": null,
   "metadata": {
    "id": "8GhBxTBPRYtH"
   },
   "outputs": [],
   "source": [
    "#  get function, not give error if data is not available.\n",
    "# setdefault fundtion"
   ]
  },
  {
   "cell_type": "code",
   "execution_count": null,
   "metadata": {
    "id": "h1xU_jjGWA74"
   },
   "outputs": [],
   "source": [
    "# Loop in next class. Lenghty course. Cover by Sir, Jamal on Sunday.\n",
    "\n",
    "# In next of Sir, Qasim Regular expression operations - NExt week the class in based on this topic."
   ]
  }
 ],
 "metadata": {
  "colab": {
   "authorship_tag": "ABX9TyMHnKlZU0RPCTEmdC6oiZDt",
   "provenance": []
  },
  "kernelspec": {
   "display_name": "Python [conda env:base] *",
   "language": "python",
   "name": "conda-base-py"
  },
  "language_info": {
   "codemirror_mode": {
    "name": "ipython",
    "version": 3
   },
   "file_extension": ".py",
   "mimetype": "text/x-python",
   "name": "python",
   "nbconvert_exporter": "python",
   "pygments_lexer": "ipython3",
   "version": "3.11.5"
  }
 },
 "nbformat": 4,
 "nbformat_minor": 4
}
