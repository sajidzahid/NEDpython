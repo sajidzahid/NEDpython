{
  "nbformat": 4,
  "nbformat_minor": 0,
  "metadata": {
    "colab": {
      "provenance": [],
      "authorship_tag": "ABX9TyNX4wxAzqUI8RXI/E31R4SB"
    },
    "kernelspec": {
      "name": "python3",
      "display_name": "Python 3"
    },
    "language_info": {
      "name": "python"
    }
  },
  "cells": [
    {
      "cell_type": "markdown",
      "source": [
        "#SLICING\n",
        "\n"
      ],
      "metadata": {
        "id": "RY6R8uw4CSIw"
      }
    },
    {
      "cell_type": "code",
      "execution_count": null,
      "metadata": {
        "colab": {
          "base_uri": "https://localhost:8080/"
        },
        "id": "1wM6MeRgAySU",
        "outputId": "02b37d37-afb8-4ba7-837a-6917448a6a9a"
      },
      "outputs": [
        {
          "output_type": "stream",
          "name": "stdout",
          "text": [
            "['b', 'c', 'd']\n"
          ]
        }
      ],
      "source": [
        "#         0     1    2      4    5   6 7 8 9\n",
        "names = ['a' , 'b' , 'c' , 'd', 'e', 1, 2, 3, 4]\n",
        "#         -8,   -7    -6    -5   -4  -3 -2 -1 -0\n",
        "print(names[1:4])"
      ]
    },
    {
      "cell_type": "code",
      "source": [
        "#         0     1    2      4    5   6 7 8 9\n",
        "names = ['a' , 'b' , 'c' , 'd', 'e', 1,2,3,4]\n",
        "#         -8,   -7    -6    -5   -4  -3 -2 -1 -0\n",
        "\n",
        "print(names[1:4])\n",
        "print(names[-7])"
      ],
      "metadata": {
        "colab": {
          "base_uri": "https://localhost:8080/"
        },
        "id": "N3hz-kjQBnU4",
        "outputId": "679e4a1f-2bc0-482c-a3e3-a6a6215eb0fe"
      },
      "execution_count": null,
      "outputs": [
        {
          "output_type": "stream",
          "name": "stdout",
          "text": [
            "['b', 'c', 'd']\n",
            "c\n"
          ]
        }
      ]
    },
    {
      "cell_type": "code",
      "source": [
        "#         0     1    2      4    5   6 7 8 9\n",
        "names = ['a' , 'b' , 'c' , 'd', 'e', 1,2,3,4]\n",
        "#         -8,   -7    -6    -5   -4  -3 -2 -1 -0\n",
        "print(names[1:4])\n",
        "print(names[-7:-1])"
      ],
      "metadata": {
        "colab": {
          "base_uri": "https://localhost:8080/"
        },
        "id": "6a-7oSgGB2ou",
        "outputId": "5d6dcddd-ac7d-4c8c-f976-a5bcb4681f63"
      },
      "execution_count": null,
      "outputs": [
        {
          "output_type": "stream",
          "name": "stdout",
          "text": [
            "['b', 'c', 'd']\n",
            "['c', 'd', 'e', 1, 2, 3]\n"
          ]
        }
      ]
    },
    {
      "cell_type": "code",
      "source": [
        "b = \"Hello, World!\"\n",
        "print(b[:5])"
      ],
      "metadata": {
        "colab": {
          "base_uri": "https://localhost:8080/"
        },
        "id": "IfiDbR4ZCzgt",
        "outputId": "7c9a3161-4982-46bd-d0e9-117660164167"
      },
      "execution_count": null,
      "outputs": [
        {
          "output_type": "stream",
          "name": "stdout",
          "text": [
            "Hello\n"
          ]
        }
      ]
    },
    {
      "cell_type": "code",
      "source": [
        "b = \"Hello, World!\"\n",
        "print(b[5:])"
      ],
      "metadata": {
        "colab": {
          "base_uri": "https://localhost:8080/"
        },
        "id": "n7f4ZvcmF-zn",
        "outputId": "5635bba9-0b84-4a30-b99a-c59db5bd99ad"
      },
      "execution_count": null,
      "outputs": [
        {
          "output_type": "stream",
          "name": "stdout",
          "text": [
            ", World!\n"
          ]
        }
      ]
    },
    {
      "cell_type": "code",
      "source": [
        "#         0     1    2      3    4   5 6 7 8\n",
        "names = ['a' , 'b' , 'c' , 'd', 'e', 1,2,3,4]\n",
        "#         -8,   -7    -6    -5   -4  -3 -2 -1 -0\n",
        "print(names[1:4])\n",
        "print(names[-7:-4])\n"
      ],
      "metadata": {
        "colab": {
          "base_uri": "https://localhost:8080/"
        },
        "id": "N__Tt2PJDIzG",
        "outputId": "d5db5153-0f3d-4f65-ba5c-35f276489b0b"
      },
      "execution_count": null,
      "outputs": [
        {
          "output_type": "stream",
          "name": "stdout",
          "text": [
            "['b', 'c', 'd']\n",
            "['c', 'd', 'e']\n"
          ]
        }
      ]
    },
    {
      "cell_type": "code",
      "source": [
        "list(dir(list)) # Need to study the class of list. MUST"
      ],
      "metadata": {
        "collapsed": true,
        "id": "VyoPOTI3JiCI",
        "outputId": "97824244-3970-4a8f-b032-40b12841c2c8",
        "colab": {
          "base_uri": "https://localhost:8080/"
        }
      },
      "execution_count": 13,
      "outputs": [
        {
          "output_type": "execute_result",
          "data": {
            "text/plain": [
              "['__add__',\n",
              " '__class__',\n",
              " '__class_getitem__',\n",
              " '__contains__',\n",
              " '__delattr__',\n",
              " '__delitem__',\n",
              " '__dir__',\n",
              " '__doc__',\n",
              " '__eq__',\n",
              " '__format__',\n",
              " '__ge__',\n",
              " '__getattribute__',\n",
              " '__getitem__',\n",
              " '__getstate__',\n",
              " '__gt__',\n",
              " '__hash__',\n",
              " '__iadd__',\n",
              " '__imul__',\n",
              " '__init__',\n",
              " '__init_subclass__',\n",
              " '__iter__',\n",
              " '__le__',\n",
              " '__len__',\n",
              " '__lt__',\n",
              " '__mul__',\n",
              " '__ne__',\n",
              " '__new__',\n",
              " '__reduce__',\n",
              " '__reduce_ex__',\n",
              " '__repr__',\n",
              " '__reversed__',\n",
              " '__rmul__',\n",
              " '__setattr__',\n",
              " '__setitem__',\n",
              " '__sizeof__',\n",
              " '__str__',\n",
              " '__subclasshook__',\n",
              " 'append',\n",
              " 'clear',\n",
              " 'copy',\n",
              " 'count',\n",
              " 'extend',\n",
              " 'index',\n",
              " 'insert',\n",
              " 'pop',\n",
              " 'remove',\n",
              " 'reverse',\n",
              " 'sort']"
            ]
          },
          "metadata": {},
          "execution_count": 13
        }
      ]
    },
    {
      "cell_type": "markdown",
      "source": [
        "# Tuple\n",
        "* imutable (We  can't change it)\n"
      ],
      "metadata": {
        "id": "qDeus6s7HmG-"
      }
    },
    {
      "cell_type": "code",
      "source": [
        "#             0                  1          2       3       4          5\n",
        "data1 = [\"Muhammad Sajid\", \"Muhammad Zahid\", 30, \"MSDS\", \"Karachi\", \"Karachi\"]\n",
        "data2 = [\"Abid\", \"Asif\", 35, \"Karachi\", \"PDH\", \"Karachi\"]\n"
      ],
      "metadata": {
        "id": "j47SmYUoDp6e"
      },
      "execution_count": null,
      "outputs": []
    },
    {
      "cell_type": "code",
      "source": [
        "#             0                  1          2       3       4          5\n",
        "data = [\"Muhammad Sajid\", \"Muhammad Zahid\", 30, \"MSDS\", \"Karachi\", \"Karachi\"]\n",
        "print(type(data))\n"
      ],
      "metadata": {
        "colab": {
          "base_uri": "https://localhost:8080/"
        },
        "id": "VYyhNyi-G1rZ",
        "outputId": "a491143d-e9cd-4dba-f34f-b55558834f38"
      },
      "execution_count": 1,
      "outputs": [
        {
          "output_type": "stream",
          "name": "stdout",
          "text": [
            "<class 'list'>\n"
          ]
        }
      ]
    },
    {
      "cell_type": "code",
      "source": [
        "data = ('a' , 'b' , 'c' , 'd', 'e', 1,2,3,4)\n",
        "print(type(data))"
      ],
      "metadata": {
        "id": "QLokIQc1IP6b",
        "outputId": "0b23f2e8-6300-4c38-bea3-f695dc2c8bd1",
        "colab": {
          "base_uri": "https://localhost:8080/"
        }
      },
      "execution_count": 2,
      "outputs": [
        {
          "output_type": "stream",
          "name": "stdout",
          "text": [
            "<class 'tuple'>\n"
          ]
        }
      ]
    },
    {
      "cell_type": "code",
      "source": [
        "data = ('a' , 'b' , 'c' , 'd', 'e', 1,2,3,4)\n",
        "print(data)\n",
        "data = ('SAJID' , 'b' , 'c' , 'd', 'e', 1,2,3,4) # reassigned/regenerated the value in tuple.\n",
        "print(data)\n",
        "print(type(data))"
      ],
      "metadata": {
        "id": "M7J4vhDvIXrk",
        "outputId": "c097ecc2-db71-4954-aecd-77a1cdddbf08",
        "colab": {
          "base_uri": "https://localhost:8080/"
        }
      },
      "execution_count": 6,
      "outputs": [
        {
          "output_type": "stream",
          "name": "stdout",
          "text": [
            "('a', 'b', 'c', 'd', 'e', 1, 2, 3, 4)\n",
            "('SAJID', 'b', 'c', 'd', 'e', 1, 2, 3, 4)\n",
            "<class 'tuple'>\n"
          ]
        }
      ]
    },
    {
      "cell_type": "markdown",
      "source": [
        "# Set Data Type\n",
        "\n"
      ],
      "metadata": {
        "id": "ddPrIOJDJxzJ"
      }
    },
    {
      "cell_type": "code",
      "source": [
        "a1 = {\"a\", \"b\", \"c\", \"a\", \"a\", \"c\", \"d\", }"
      ],
      "metadata": {
        "id": "08Efr6L3J08_"
      },
      "execution_count": null,
      "outputs": []
    },
    {
      "cell_type": "code",
      "source": [
        "list(dir(set))"
      ],
      "metadata": {
        "collapsed": true,
        "id": "zLkF3wxOKGdp",
        "outputId": "2fef99ac-1a1b-46ed-dafb-264228ac99a4",
        "colab": {
          "base_uri": "https://localhost:8080/"
        }
      },
      "execution_count": 8,
      "outputs": [
        {
          "output_type": "execute_result",
          "data": {
            "text/plain": [
              "['__and__',\n",
              " '__class__',\n",
              " '__class_getitem__',\n",
              " '__contains__',\n",
              " '__delattr__',\n",
              " '__dir__',\n",
              " '__doc__',\n",
              " '__eq__',\n",
              " '__format__',\n",
              " '__ge__',\n",
              " '__getattribute__',\n",
              " '__getstate__',\n",
              " '__gt__',\n",
              " '__hash__',\n",
              " '__iand__',\n",
              " '__init__',\n",
              " '__init_subclass__',\n",
              " '__ior__',\n",
              " '__isub__',\n",
              " '__iter__',\n",
              " '__ixor__',\n",
              " '__le__',\n",
              " '__len__',\n",
              " '__lt__',\n",
              " '__ne__',\n",
              " '__new__',\n",
              " '__or__',\n",
              " '__rand__',\n",
              " '__reduce__',\n",
              " '__reduce_ex__',\n",
              " '__repr__',\n",
              " '__ror__',\n",
              " '__rsub__',\n",
              " '__rxor__',\n",
              " '__setattr__',\n",
              " '__sizeof__',\n",
              " '__str__',\n",
              " '__sub__',\n",
              " '__subclasshook__',\n",
              " '__xor__',\n",
              " 'add',\n",
              " 'clear',\n",
              " 'copy',\n",
              " 'difference',\n",
              " 'difference_update',\n",
              " 'discard',\n",
              " 'intersection',\n",
              " 'intersection_update',\n",
              " 'isdisjoint',\n",
              " 'issubset',\n",
              " 'issuperset',\n",
              " 'pop',\n",
              " 'remove',\n",
              " 'symmetric_difference',\n",
              " 'symmetric_difference_update',\n",
              " 'union',\n",
              " 'update']"
            ]
          },
          "metadata": {},
          "execution_count": 8
        }
      ]
    },
    {
      "cell_type": "code",
      "source": [
        "a1 = {\"a\", \"b\", \"c\"}\n",
        "a2 = {\"a\", \"c\", \"x\"}\n",
        "print(a1.difference(a2))\n",
        "print(a1.intersection(a2))\n",
        "print(a1.union(a2))"
      ],
      "metadata": {
        "id": "mUs8MVhXKLe9",
        "outputId": "61ba6265-f183-47e4-f374-34d67ee41937",
        "colab": {
          "base_uri": "https://localhost:8080/"
        }
      },
      "execution_count": 12,
      "outputs": [
        {
          "output_type": "stream",
          "name": "stdout",
          "text": [
            "{'b'}\n",
            "{'a', 'c'}\n",
            "{'c', 'b', 'x', 'a'}\n"
          ]
        }
      ]
    },
    {
      "cell_type": "markdown",
      "source": [
        "# Dictionary Data Type\n",
        "\n",
        "* we replace index with key.\n",
        "* {'key': value}\n"
      ],
      "metadata": {
        "id": "sVCpKijwLpTr"
      }
    },
    {
      "cell_type": "code",
      "source": [
        "# Problem\n",
        "#\n",
        "\n",
        "data1 = [\"Muhammad Sajid\", \"Muhammad Zahid\", 30, \"MSDS\", \"Karachi\", \"Karachi\"]\n",
        "data2 = [\"Abid\", \"Asif\", 35, \"Karachi\", \"PDH\", \"Karachi\"]"
      ],
      "metadata": {
        "id": "uSzMBLoZLDPU"
      },
      "execution_count": 14,
      "outputs": []
    },
    {
      "cell_type": "code",
      "source": [
        "list(dir(dict))"
      ],
      "metadata": {
        "id": "qLNNyF7cO4eW",
        "outputId": "5148e873-aab1-4497-aab6-6629492216f2",
        "colab": {
          "base_uri": "https://localhost:8080/"
        }
      },
      "execution_count": 15,
      "outputs": [
        {
          "output_type": "execute_result",
          "data": {
            "text/plain": [
              "['__class__',\n",
              " '__class_getitem__',\n",
              " '__contains__',\n",
              " '__delattr__',\n",
              " '__delitem__',\n",
              " '__dir__',\n",
              " '__doc__',\n",
              " '__eq__',\n",
              " '__format__',\n",
              " '__ge__',\n",
              " '__getattribute__',\n",
              " '__getitem__',\n",
              " '__getstate__',\n",
              " '__gt__',\n",
              " '__hash__',\n",
              " '__init__',\n",
              " '__init_subclass__',\n",
              " '__ior__',\n",
              " '__iter__',\n",
              " '__le__',\n",
              " '__len__',\n",
              " '__lt__',\n",
              " '__ne__',\n",
              " '__new__',\n",
              " '__or__',\n",
              " '__reduce__',\n",
              " '__reduce_ex__',\n",
              " '__repr__',\n",
              " '__reversed__',\n",
              " '__ror__',\n",
              " '__setattr__',\n",
              " '__setitem__',\n",
              " '__sizeof__',\n",
              " '__str__',\n",
              " '__subclasshook__',\n",
              " 'clear',\n",
              " 'copy',\n",
              " 'fromkeys',\n",
              " 'get',\n",
              " 'items',\n",
              " 'keys',\n",
              " 'pop',\n",
              " 'popitem',\n",
              " 'setdefault',\n",
              " 'update',\n",
              " 'values']"
            ]
          },
          "metadata": {},
          "execution_count": 15
        }
      ]
    },
    {
      "cell_type": "code",
      "source": [
        "# Copy, clear, fromkeys, get, items, keys, pop, popitem, values"
      ],
      "metadata": {
        "id": "HrkVAGorO55a"
      },
      "execution_count": 16,
      "outputs": []
    },
    {
      "cell_type": "code",
      "source": [],
      "metadata": {
        "id": "8GhBxTBPRYtH"
      },
      "execution_count": null,
      "outputs": []
    }
  ]
}