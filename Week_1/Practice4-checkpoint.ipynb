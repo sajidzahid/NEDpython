{
 "cells": [
  {
   "cell_type": "code",
   "execution_count": 10,
   "metadata": {},
   "outputs": [
    {
     "name": "stdout",
     "output_type": "stream",
     "text": [
      "Hello, Sajid! You are 42 years old.\n"
     ]
    }
   ],
   "source": [
    "name = \"Sajid\"\n",
    "age = 42\n",
    "print(\"Hello, \" + name + \"! You are \" + str(age) + \" years old.\")  # Concatenation\n"
   ]
  },
  {
   "cell_type": "code",
   "execution_count": 15,
   "metadata": {},
   "outputs": [
    {
     "name": "stdout",
     "output_type": "stream",
     "text": [
      "Asalaam Alaikum, Sajid! You are 42 years old. \n"
     ]
    }
   ],
   "source": [
    "name = \"Sajid\"\n",
    "age = 42\n",
    "print(\"Asalaam Alaikum, \" + name + \"! You are \" + str(age) + \" years old. \")\n"
   ]
  },
  {
   "cell_type": "code",
   "execution_count": 17,
   "metadata": {},
   "outputs": [
    {
     "name": "stdout",
     "output_type": "stream",
     "text": [
      "Hey, Sajid! You are 42 years old now.\n"
     ]
    }
   ],
   "source": [
    "name = \"Sajid\"\n",
    "age = 42\n",
    "print(f\"Hey, {name}! You are {age} years old now.\")"
   ]
  },
  {
   "cell_type": "code",
   "execution_count": 19,
   "metadata": {},
   "outputs": [
    {
     "name": "stdout",
     "output_type": "stream",
     "text": [
      "Asalaam Alaikum, Sajid\n",
      "Your Age is, 42\n",
      "Your Sex is, Male\n",
      "You Live in, Karachi\n",
      "You are doing a Private job\n"
     ]
    }
   ],
   "source": [
    "name = \"Sajid\"\n",
    "age = 42\n",
    "sex = \"Male\"\n",
    "City = \"Karachi\"\n",
    "Job = \"Private job\"\n",
    "print(\"Asalaam Alaikum, \" + name + \"\")\n",
    "print(\"Your Age is, \" + str(age) + \"\")\n",
    "print(\"Your Sex is, \" + str(sex) + \"\")\n",
    "print(\"You Live in, \" + City + \"\")\n",
    "print(\"You are doing a \" + str(Job) + \"\")"
   ]
  },
  {
   "cell_type": "code",
   "execution_count": 15,
   "metadata": {},
   "outputs": [
    {
     "name": "stdout",
     "output_type": "stream",
     "text": [
      "You Live in, Karachi\n"
     ]
    }
   ],
   "source": [
    "City = \"Karachi\"\n",
    "print(\"You Live in, \" + City + \"\")"
   ]
  },
  {
   "cell_type": "code",
   "execution_count": 1,
   "metadata": {},
   "outputs": [
    {
     "name": "stdout",
     "output_type": "stream",
     "text": [
      "You Live in, Karachi\n"
     ]
    }
   ],
   "source": [
    "City = \"Karachi\"\n",
    "print(\"You Live in, \" + str(City) + \"\")"
   ]
  },
  {
   "cell_type": "code",
   "execution_count": 2,
   "metadata": {},
   "outputs": [
    {
     "data": {
      "text/plain": [
       "156.0"
      ]
     },
     "execution_count": 2,
     "metadata": {},
     "output_type": "execute_result"
    }
   ],
   "source": [
    "float (\"156\")\n"
   ]
  },
  {
   "cell_type": "code",
   "execution_count": 9,
   "metadata": {},
   "outputs": [
    {
     "name": "stdout",
     "output_type": "stream",
     "text": [
      "100.0\n"
     ]
    }
   ],
   "source": [
    "x = float(100)\n",
    "print (x)\n"
   ]
  },
  {
   "cell_type": "code",
   "execution_count": 13,
   "metadata": {},
   "outputs": [
    {
     "name": "stdout",
     "output_type": "stream",
     "text": [
      "x = 101.0\n"
     ]
    }
   ],
   "source": [
    "x = \"101\"\n",
    "f = float(x)\n",
    "print (\"x =\",f)\n"
   ]
  },
  {
   "cell_type": "code",
   "execution_count": null,
   "metadata": {},
   "outputs": [],
   "source": []
  }
 ],
 "metadata": {
  "kernelspec": {
   "display_name": "base",
   "language": "python",
   "name": "python3"
  },
  "language_info": {
   "codemirror_mode": {
    "name": "ipython",
    "version": 3
   },
   "file_extension": ".py",
   "mimetype": "text/x-python",
   "name": "python",
   "nbconvert_exporter": "python",
   "pygments_lexer": "ipython3",
   "version": "3.11.5"
  }
 },
 "nbformat": 4,
 "nbformat_minor": 2
}
