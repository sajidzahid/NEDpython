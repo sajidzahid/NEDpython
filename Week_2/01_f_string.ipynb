{
  "nbformat": 4,
  "nbformat_minor": 0,
  "metadata": {
    "colab": {
      "provenance": []
    },
    "kernelspec": {
      "name": "python3",
      "display_name": "Python 3"
    },
    "language_info": {
      "name": "python"
    }
  },
  "cells": [
    {
      "cell_type": "markdown",
      "source": [
        "Date: 4 Jan 2025\n",
        "# Static VS Dynamic\n",
        "1. Static\n",
        "  * alway same\n",
        "2. Dynamic\n",
        "  * change\n",
        "\n",
        "# Text concatination\n",
        "join text with variable or other type objects\n",
        "1. `+`\n",
        "  * type casting required\n",
        "2. `\"\".format(var1, var2)`\n",
        "  * no need type casting\n",
        "  * required position of variable\n",
        "3. `%`\n",
        "  * require each data type symbols\n",
        "\n",
        "4. `f\"{var1} any text {var2}\"`\n",
        "  * no need type casting and postion\n"
      ],
      "metadata": {
        "id": "MQasMHZHH1DF"
      }
    },
    {
      "cell_type": "markdown",
      "source": [
        "# Variable\n",
        "\n",
        "1. it will recieve data from other sources like (database, excel)\n",
        "2. store dynamic value\n",
        "3. it has own data types\n",
        "  * string\n",
        "  * int\n",
        "  * floot\n",
        "  * boolen\n",
        "  * list\n",
        "  * tuple\n",
        "  * dictionary\n",
        "  * set"
      ],
      "metadata": {
        "id": "B9adV4mRKVhI"
      }
    },
    {
      "cell_type": "code",
      "execution_count": 2,
      "metadata": {
        "colab": {
          "base_uri": "https://localhost:8080/"
        },
        "id": "mT6K8Yw28n6d",
        "outputId": "81e221a5-ac82-4fdd-b6e3-af74882aef91"
      },
      "outputs": [
        {
          "output_type": "stream",
          "name": "stdout",
          "text": [
            "2\n",
            "11\n"
          ]
        }
      ],
      "source": [
        "print(1 + 1) # 2 int\n",
        "print('1' + '1') # 11 string\n"
      ]
    },
    {
      "cell_type": "markdown",
      "source": [
        "# How to create variable\n",
        "`variable_name = variable_value`\n",
        "1. variable_name\n",
        "write meaning full name not allowed any special character including space. variable name always case sensitive.\n",
        "2. `=` assign operator\n",
        "3. = variable value\n",
        "\n",
        "# Example\n",
        "`student_name = \"Muhammad Qasim\"`\n",
        "1. variable_name(student_name)\n",
        "2. operator(=)\n",
        "3. Muhammad Qasim(variable_value)\n",
        "  * data_type\n"
      ],
      "metadata": {
        "id": "scWR9lO_LwcE"
      }
    },
    {
      "cell_type": "markdown",
      "source": [
        "# Naming Conventions\n",
        "* snake_case\n",
        "* camelCase\n",
        "* CapitalizeEachWord"
      ],
      "metadata": {
        "id": "70mgd3rgNIwl"
      }
    },
    {
      "cell_type": "code",
      "source": [],
      "metadata": {
        "id": "UlW3ZaIzNGyR"
      },
      "execution_count": null,
      "outputs": []
    },
    {
      "cell_type": "code",
      "source": [
        "student name = \"Muhammad Qasim\" # invalid (space spacial character)\n",
        "student-name = \"Muhammad Qasim\" # invalid (- special character)\n",
        "1studentname = \"Muhammad Qasim\" # invalid (start with number)\n",
        "student_name = \"Muhammad Qasim\" # valid"
      ],
      "metadata": {
        "id": "xas-5fFbLSwa"
      },
      "execution_count": null,
      "outputs": []
    },
    {
      "cell_type": "markdown",
      "source": [
        "# Case Sensitive\n"
      ],
      "metadata": {
        "id": "7e2Y9GO6Np10"
      }
    },
    {
      "cell_type": "code",
      "source": [
        "name = \"Qasim\"\n",
        "Name = \"Muhammad Qasim\"\n",
        "print(name)\n",
        "print(Name)"
      ],
      "metadata": {
        "colab": {
          "base_uri": "https://localhost:8080/"
        },
        "id": "-td80CLMNoYo",
        "outputId": "1eb33790-5f8b-452c-d53c-58778632d690"
      },
      "execution_count": 3,
      "outputs": [
        {
          "output_type": "stream",
          "name": "stdout",
          "text": [
            "Qasim\n",
            "Muhammad Qasim\n"
          ]
        }
      ]
    },
    {
      "cell_type": "markdown",
      "source": [
        "# How to create string\n",
        "1. `'your string text here'`\n",
        "2. `\"your string text here\"`\n",
        "3. `'''your multilines text here'''`\n",
        "4. `\"\"\"your multilines text here\"\"\"`"
      ],
      "metadata": {
        "id": "oHDZCNWMN8kc"
      }
    },
    {
      "cell_type": "code",
      "source": [
        "data = 'Pakistan zinda'\n",
        "\n",
        "print(type(data))\n",
        "print(data)"
      ],
      "metadata": {
        "colab": {
          "base_uri": "https://localhost:8080/"
        },
        "id": "uaDLfSVMNz45",
        "outputId": "ee578646-a030-4a5e-9039-73e722f2b058"
      },
      "execution_count": 7,
      "outputs": [
        {
          "output_type": "stream",
          "name": "stdout",
          "text": [
            "<class 'str'>\n",
            "Pakistan zinda\n"
          ]
        }
      ]
    },
    {
      "cell_type": "code",
      "source": [
        "data = \"Pakistan zinda\"\n",
        "\n",
        "print(type(data))\n",
        "print(data)"
      ],
      "metadata": {
        "colab": {
          "base_uri": "https://localhost:8080/"
        },
        "id": "UHI6-Kl_OsA_",
        "outputId": "e6a56edc-f6c1-4ae2-b62a-2dffe6cf472e"
      },
      "execution_count": 8,
      "outputs": [
        {
          "output_type": "stream",
          "name": "stdout",
          "text": [
            "<class 'str'>\n",
            "Pakistan zinda\n"
          ]
        }
      ]
    },
    {
      "cell_type": "code",
      "source": [
        "data = '''Pakistan zinda\n",
        "Hello world\n",
        "we love our country''' # raw text\n",
        "\n",
        "print(type(data))\n",
        "print(data)"
      ],
      "metadata": {
        "colab": {
          "base_uri": "https://localhost:8080/"
        },
        "id": "ehCK1zRdOwmp",
        "outputId": "8583711b-a597-40c7-fb95-293abbbbd669"
      },
      "execution_count": 15,
      "outputs": [
        {
          "output_type": "stream",
          "name": "stdout",
          "text": [
            "<class 'str'>\n",
            "Pakistan zinda\n",
            "Hello world\n",
            "we love our country\n"
          ]
        }
      ]
    },
    {
      "cell_type": "code",
      "source": [
        "data = \"\"\"Pakistan zinda\n",
        "        Hello world\n",
        "we love our country\"\"\" # raw text\n",
        "\n",
        "print(type(data))\n",
        "print(data)"
      ],
      "metadata": {
        "colab": {
          "base_uri": "https://localhost:8080/"
        },
        "id": "w0FbOE57PGv5",
        "outputId": "adb370f4-7154-4f3e-c4fa-1c7f4ef2f5d7"
      },
      "execution_count": 12,
      "outputs": [
        {
          "output_type": "stream",
          "name": "stdout",
          "text": [
            "<class 'str'>\n",
            "Pakistan zinda\n",
            "        Hello world\n",
            "we love our country\n"
          ]
        }
      ]
    },
    {
      "cell_type": "code",
      "source": [
        "# old way to do samething\n",
        "data = \"Pakistan zinda\\nHello world\\nwe love our country\"\n",
        "\n",
        "print(type(data))\n",
        "print(data)"
      ],
      "metadata": {
        "colab": {
          "base_uri": "https://localhost:8080/"
        },
        "id": "Ar26b98-PNgw",
        "outputId": "83bc0944-5d17-45c6-c9df-9589e18eecb2"
      },
      "execution_count": 14,
      "outputs": [
        {
          "output_type": "stream",
          "name": "stdout",
          "text": [
            "<class 'str'>\n",
            "Pakistan zinda\n",
            "Hello world\n",
            "we love our country\n"
          ]
        }
      ]
    },
    {
      "cell_type": "markdown",
      "source": [
        "# Solve some problems"
      ],
      "metadata": {
        "id": "I61JJM5CPvZ-"
      }
    },
    {
      "cell_type": "code",
      "source": [
        "data = 'my name is muhammad qasim and father's name is muhammad aslam'\n",
        "print(data)"
      ],
      "metadata": {
        "colab": {
          "base_uri": "https://localhost:8080/",
          "height": 106
        },
        "id": "MvkKixuSPYTz",
        "outputId": "7219daa0-211b-4d35-95bd-9d98ecc991ad"
      },
      "execution_count": 16,
      "outputs": [
        {
          "output_type": "error",
          "ename": "SyntaxError",
          "evalue": "unterminated string literal (detected at line 1) (<ipython-input-16-104d50411b7c>, line 1)",
          "traceback": [
            "\u001b[0;36m  File \u001b[0;32m\"<ipython-input-16-104d50411b7c>\"\u001b[0;36m, line \u001b[0;32m1\u001b[0m\n\u001b[0;31m    data = 'my name is muhammad qasim and father's name is muhammad aslam'\u001b[0m\n\u001b[0m                                                                         ^\u001b[0m\n\u001b[0;31mSyntaxError\u001b[0m\u001b[0;31m:\u001b[0m unterminated string literal (detected at line 1)\n"
          ]
        }
      ]
    },
    {
      "cell_type": "code",
      "source": [
        "data = \"my name is muhammad qasim and father's name is muhammad aslam\"\n",
        "print(data)"
      ],
      "metadata": {
        "colab": {
          "base_uri": "https://localhost:8080/"
        },
        "id": "APF5-0EiP9V0",
        "outputId": "d057c8bb-328d-4f15-c005-72bb5545e679"
      },
      "execution_count": 17,
      "outputs": [
        {
          "output_type": "stream",
          "name": "stdout",
          "text": [
            "my name is muhammad qasim and father's name is muhammad aslam\n"
          ]
        }
      ]
    },
    {
      "cell_type": "code",
      "source": [
        "data = \"my name is \"muhammad qasim\" and father's name is muhammad aslam\"\n",
        "print(data)"
      ],
      "metadata": {
        "colab": {
          "base_uri": "https://localhost:8080/",
          "height": 106
        },
        "id": "2Dovb7S0QLaZ",
        "outputId": "a6753efb-1771-4e21-9227-942c255da77c"
      },
      "execution_count": 18,
      "outputs": [
        {
          "output_type": "error",
          "ename": "SyntaxError",
          "evalue": "invalid syntax (<ipython-input-18-690db3b51198>, line 1)",
          "traceback": [
            "\u001b[0;36m  File \u001b[0;32m\"<ipython-input-18-690db3b51198>\"\u001b[0;36m, line \u001b[0;32m1\u001b[0m\n\u001b[0;31m    data = \"my name is \"muhammad qasim\" and father's name is muhammad aslam\"\u001b[0m\n\u001b[0m                        ^\u001b[0m\n\u001b[0;31mSyntaxError\u001b[0m\u001b[0;31m:\u001b[0m invalid syntax\n"
          ]
        }
      ]
    },
    {
      "cell_type": "code",
      "source": [
        "data = 'my name is \"muhammad qasim\" and father's name is muhammad aslam'\n",
        "print(data)"
      ],
      "metadata": {
        "colab": {
          "base_uri": "https://localhost:8080/",
          "height": 106
        },
        "id": "8MKxOl6EQT_Z",
        "outputId": "b7dd176f-b925-4e92-a816-0176ae6c6e38"
      },
      "execution_count": 19,
      "outputs": [
        {
          "output_type": "error",
          "ename": "SyntaxError",
          "evalue": "unterminated string literal (detected at line 1) (<ipython-input-19-237afd7d64ab>, line 1)",
          "traceback": [
            "\u001b[0;36m  File \u001b[0;32m\"<ipython-input-19-237afd7d64ab>\"\u001b[0;36m, line \u001b[0;32m1\u001b[0m\n\u001b[0;31m    data = 'my name is \"muhammad qasim\" and father's name is muhammad aslam'\u001b[0m\n\u001b[0m                                                                           ^\u001b[0m\n\u001b[0;31mSyntaxError\u001b[0m\u001b[0;31m:\u001b[0m unterminated string literal (detected at line 1)\n"
          ]
        }
      ]
    },
    {
      "cell_type": "code",
      "source": [
        "# convert any special chracter into normal character ,just place \\ before any special character\n",
        "data = \"my name is \\\"muhammad qasim\\\" and father's name is muhammad aslam\"\n",
        "print(data)"
      ],
      "metadata": {
        "colab": {
          "base_uri": "https://localhost:8080/"
        },
        "id": "J6bYs72PQXSa",
        "outputId": "877f1319-27b7-4d37-f056-a69267810d87"
      },
      "execution_count": 20,
      "outputs": [
        {
          "output_type": "stream",
          "name": "stdout",
          "text": [
            "my name is \"muhammad qasim\" and father's name is muhammad aslam\n"
          ]
        }
      ]
    },
    {
      "cell_type": "code",
      "source": [
        "data = '''my name is \"muhammad qasim\" and father's name is muhammad aslam'''\n",
        "print(data)"
      ],
      "metadata": {
        "colab": {
          "base_uri": "https://localhost:8080/"
        },
        "id": "aXCeWVwCQ2fJ",
        "outputId": "c096fbba-b5b5-4514-e4a0-b3b83269e11d"
      },
      "execution_count": 21,
      "outputs": [
        {
          "output_type": "stream",
          "name": "stdout",
          "text": [
            "my name is \"muhammad qasim\" and father's name is muhammad aslam\n"
          ]
        }
      ]
    },
    {
      "cell_type": "markdown",
      "source": [
        "# Text/string Concatination\n",
        "1. join text with text and other datatypes"
      ],
      "metadata": {
        "id": "SKpke6N4RBox"
      }
    },
    {
      "cell_type": "code",
      "source": [
        "name = \"Muhammad Qasim\"\n",
        "father_name = \"Muhammad Aslam\"\n",
        "\n",
        "print(name)\n",
        "print(father_name)"
      ],
      "metadata": {
        "colab": {
          "base_uri": "https://localhost:8080/"
        },
        "id": "2vZEmuyvQ7Wa",
        "outputId": "2ca5ee53-69a4-463f-c5d3-762684d313eb"
      },
      "execution_count": 22,
      "outputs": [
        {
          "output_type": "stream",
          "name": "stdout",
          "text": [
            "Muhammad Qasim\n",
            "Muhammad Aslam\n"
          ]
        }
      ]
    },
    {
      "cell_type": "markdown",
      "source": [
        "# Text concatination\n",
        "join text with variable or other type objects\n",
        "1. `+`\n",
        "  * type casting required\n",
        "2. `\"\".format(var1, var2)`\n",
        "  * no need type casting\n",
        "  * required position of variable\n",
        "3. `%`\n",
        "  * place % at the end string\n",
        "  * require each data type symbols\n",
        "\n",
        "4. `f\"{var1} any text {var2}\"`  ✅\n",
        "  * no need type casting and postion"
      ],
      "metadata": {
        "id": "wngkMoJbSV2R"
      }
    },
    {
      "cell_type": "code",
      "source": [
        "# +\n",
        "name = \"Muhammad Qasim\"\n",
        "father_name = \"Muhammad Aslam\"\n",
        "\n",
        "\n",
        "#         \"Hello, \" + \"Muhammad Qasim\" + \"son of \" + \"Muhammad Aslam\"\n",
        "message = \"Hello, \" + name + \" son of \" + father_name\n",
        "\n",
        "print(message)"
      ],
      "metadata": {
        "colab": {
          "base_uri": "https://localhost:8080/"
        },
        "id": "Qk5Nq25lRVSy",
        "outputId": "3c42870d-3d94-41af-ce69-3b732cc88c74"
      },
      "execution_count": 28,
      "outputs": [
        {
          "output_type": "stream",
          "name": "stdout",
          "text": [
            "Hello, Muhammad Qasim son of Muhammad Aslam\n"
          ]
        }
      ]
    },
    {
      "cell_type": "code",
      "source": [
        "# .format\n",
        "# .format() at the end of string\n",
        "name = \"Muhammad Qasim\"\n",
        "father_name = \"Muhammad Aslam\"\n",
        "\n",
        "#                 0         1          0        1\n",
        "message = \"Hello, {} son of {}\".format(name, father_name)\n",
        "print(message)"
      ],
      "metadata": {
        "colab": {
          "base_uri": "https://localhost:8080/"
        },
        "id": "sr_25AOARkx6",
        "outputId": "59ec20d7-ee56-4edb-931f-8aeefca34767"
      },
      "execution_count": 29,
      "outputs": [
        {
          "output_type": "stream",
          "name": "stdout",
          "text": [
            "Hello, Muhammad Qasim son of Muhammad Aslam\n"
          ]
        }
      ]
    },
    {
      "cell_type": "code",
      "source": [
        "# .format\n",
        "# .format() at the end of string\n",
        "name = \"Muhammad Qasim\"\n",
        "father_name = \"Muhammad Aslam\"\n",
        "\n",
        "#                 0         1          0        1\n",
        "message = \"Hello, {} son of {}\".format(father_name, name)\n",
        "print(message)"
      ],
      "metadata": {
        "colab": {
          "base_uri": "https://localhost:8080/"
        },
        "id": "8tNUXu9CSxNQ",
        "outputId": "9474aa70-59a8-423c-f285-2741602ca2c2"
      },
      "execution_count": 30,
      "outputs": [
        {
          "output_type": "stream",
          "name": "stdout",
          "text": [
            "Hello, Muhammad Aslam son of Muhammad Qasim\n"
          ]
        }
      ]
    },
    {
      "cell_type": "code",
      "source": [
        "# .format\n",
        "# .format() at the end of string\n",
        "# place holder {}\n",
        "name = \"Muhammad Qasim\"\n",
        "father_name = \"Muhammad Aslam\"\n",
        "\n",
        "#                 0         1              0        1\n",
        "message = \"Hello, {1} son of {0}\".format(father_name, name)\n",
        "print(message)"
      ],
      "metadata": {
        "colab": {
          "base_uri": "https://localhost:8080/"
        },
        "id": "eKACerBJTEKL",
        "outputId": "9c0a97d0-1934-494b-a745-8aa21dd3de94"
      },
      "execution_count": 31,
      "outputs": [
        {
          "output_type": "stream",
          "name": "stdout",
          "text": [
            "Hello, Muhammad Qasim son of Muhammad Aslam\n"
          ]
        }
      ]
    },
    {
      "cell_type": "code",
      "source": [
        "# %\n",
        "# place holder data type symbols\n",
        "# string = %s\n",
        "# int = %d\n",
        "\n",
        "name = \"Muhammad Qasim\"\n",
        "father_name = \"Muhammad Aslam\"\n",
        "\n",
        "message = \"Hello, %s son of %s\" % (name, father_name)\n",
        "print(message)\n",
        "#"
      ],
      "metadata": {
        "colab": {
          "base_uri": "https://localhost:8080/"
        },
        "id": "rpGM-fNkTLHg",
        "outputId": "b414675e-b78d-4e67-a578-cd633190cd17"
      },
      "execution_count": 32,
      "outputs": [
        {
          "output_type": "stream",
          "name": "stdout",
          "text": [
            "Hello, Muhammad Qasim son of Muhammad Aslam\n"
          ]
        }
      ]
    },
    {
      "cell_type": "markdown",
      "source": [
        "# 4. F-string"
      ],
      "metadata": {
        "id": "33vC5bRuUGCm"
      }
    },
    {
      "cell_type": "code",
      "source": [
        "# f-string\n",
        "# place f before starting boundry\n",
        "name = \"Muhammad Qasim\"\n",
        "father_name = \"Muhammad Aslam\"\n",
        "\n",
        "\n",
        "message = f\"\"\"NED Student Card\n",
        "Name  {name}\n",
        "Father's Name  {father_name}\n",
        "\"\"\"\n",
        "\n",
        "print(message)\n"
      ],
      "metadata": {
        "colab": {
          "base_uri": "https://localhost:8080/"
        },
        "id": "kl6-3xGfTxuf",
        "outputId": "8e5ac4ad-425b-4648-e40a-fc094cb01cee"
      },
      "execution_count": 37,
      "outputs": [
        {
          "output_type": "stream",
          "name": "stdout",
          "text": [
            "NED Student Card\n",
            "Name  Muhammad Qasim\n",
            "Father's Name  Muhammad Aslam\n",
            "\n"
          ]
        }
      ]
    },
    {
      "cell_type": "code",
      "source": [],
      "metadata": {
        "id": "hgy0dB-DUYjA"
      },
      "execution_count": null,
      "outputs": []
    }
  ]
}