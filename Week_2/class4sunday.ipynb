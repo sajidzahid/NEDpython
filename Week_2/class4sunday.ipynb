{
 "cells": [
  {
   "cell_type": "code",
   "execution_count": 1,
   "id": "2a4cfa5a-4b1d-44e6-a9fb-26d06d15e9fd",
   "metadata": {},
   "outputs": [
    {
     "name": "stdout",
     "output_type": "stream",
     "text": [
      "NED University\n"
     ]
    }
   ],
   "source": [
    "name = \"NED University\"\n",
    "print (name)"
   ]
  },
  {
   "cell_type": "code",
   "execution_count": 20,
   "id": "38c5c9f5-f7fd-48b5-80a3-e204c8288a03",
   "metadata": {},
   "outputs": [
    {
     "data": {
      "text/plain": [
       "2295214286832"
      ]
     },
     "execution_count": 20,
     "metadata": {},
     "output_type": "execute_result"
    }
   ],
   "source": [
    "name2 = \"NED\"\n",
    "id(name2)\n"
   ]
  },
  {
   "cell_type": "code",
   "execution_count": 24,
   "id": "04e09e0d-47c2-4c26-80c4-a87dc5a7baa5",
   "metadata": {},
   "outputs": [
    {
     "name": "stdout",
     "output_type": "stream",
     "text": [
      "NED\n"
     ]
    }
   ],
   "source": [
    "name3 = name2\n",
    "print(name3)"
   ]
  },
  {
   "cell_type": "code",
   "execution_count": 34,
   "id": "6b561463-3e12-46aa-a9c5-7ebb1ee84762",
   "metadata": {},
   "outputs": [
    {
     "name": "stdout",
     "output_type": "stream",
     "text": [
      "NED\n"
     ]
    }
   ],
   "source": [
    "name3 = name2\n",
    "print(name3)"
   ]
  },
  {
   "cell_type": "code",
   "execution_count": 36,
   "id": "0891315a-ec68-46fa-a524-be7d743215b0",
   "metadata": {},
   "outputs": [
    {
     "data": {
      "text/plain": [
       "2295214286832"
      ]
     },
     "execution_count": 36,
     "metadata": {},
     "output_type": "execute_result"
    }
   ],
   "source": [
    "id(name3)\n"
   ]
  },
  {
   "cell_type": "code",
   "execution_count": 42,
   "id": "1c323b09-f827-4e78-b42f-36d5f7f2826d",
   "metadata": {},
   "outputs": [
    {
     "name": "stdout",
     "output_type": "stream",
     "text": [
      "NED University\n",
      "2295214266608\n"
     ]
    }
   ],
   "source": [
    "name2 = \"NED University\"\n",
    "print(name2)\n",
    "print(id(name2))"
   ]
  },
  {
   "cell_type": "code",
   "execution_count": 44,
   "id": "69b2f2b9-4c3f-482b-8a1d-bc1c2bcf8c51",
   "metadata": {},
   "outputs": [
    {
     "name": "stdout",
     "output_type": "stream",
     "text": [
      "NED\n",
      "2295214286832\n"
     ]
    }
   ],
   "source": [
    "print(name3)\n",
    "print(id(name3))"
   ]
  },
  {
   "cell_type": "code",
   "execution_count": 46,
   "id": "11b35ebd-229d-45a6-97bd-6196cb49fe6a",
   "metadata": {},
   "outputs": [
    {
     "name": "stdout",
     "output_type": "stream",
     "text": [
      "name1:  2295213989360\n",
      "name2:  2295213989360\n"
     ]
    }
   ],
   "source": [
    "name1 = \"NEDPGD\" # Deep Copy\n",
    "name2 = \"NEDPGD\"\n",
    "print(\"name1: \",id(name1))\n",
    "print(\"name2: \",id(name2))"
   ]
  },
  {
   "cell_type": "markdown",
   "id": "283b8c77-f6a5-4644-9211-8fbd76626693",
   "metadata": {},
   "source": [
    "# OPERATORS"
   ]
  },
  {
   "cell_type": "code",
   "execution_count": 53,
   "id": "fb9d1857-5797-4e67-8c16-f06deea76a85",
   "metadata": {},
   "outputs": [
    {
     "name": "stdout",
     "output_type": "stream",
     "text": [
      "119\n",
      "-81\n",
      "1900\n",
      "5\n",
      "5\n",
      "100000000000000000000000000000000000000\n"
     ]
    }
   ],
   "source": [
    "x = 19\n",
    "y = 100\n",
    "print(x+y)\n",
    "print(x-y)\n",
    "print(x*y) \n",
    "print(y%x) # remainder\n",
    "print(y//x) # floor division\n",
    "print(y**x) # exponent 100^19"
   ]
  },
  {
   "cell_type": "markdown",
   "id": "29c26b78-7b16-48f1-a638-cdae80b9e750",
   "metadata": {},
   "source": [
    "# ASSIGNMENT OPERATORS\n"
   ]
  },
  {
   "cell_type": "code",
   "execution_count": 56,
   "id": "8f19a931-33df-4fc4-b20b-9ca958096ff1",
   "metadata": {},
   "outputs": [
    {
     "name": "stdout",
     "output_type": "stream",
     "text": [
      "40\n"
     ]
    }
   ],
   "source": [
    "age = 40 # \"#\" is the assignment operators\n",
    "print(age)"
   ]
  },
  {
   "cell_type": "code",
   "execution_count": 58,
   "id": "2a863f52-c11f-4b6e-90ac-1b01e9a32576",
   "metadata": {},
   "outputs": [
    {
     "name": "stdout",
     "output_type": "stream",
     "text": [
      "80\n"
     ]
    }
   ],
   "source": [
    "age += 40\n",
    "print(age)"
   ]
  },
  {
   "cell_type": "code",
   "execution_count": 60,
   "id": "e65adc96-7b8b-4c3d-8fc6-0b6f73798741",
   "metadata": {},
   "outputs": [
    {
     "name": "stdout",
     "output_type": "stream",
     "text": [
      "75\n"
     ]
    }
   ],
   "source": [
    "age -= 5\n",
    "print(age)"
   ]
  },
  {
   "cell_type": "markdown",
   "id": "64542559-0f1d-4c4e-9001-1bacba941938",
   "metadata": {},
   "source": [
    "# COMPARISION OPERATORS"
   ]
  },
  {
   "cell_type": "code",
   "execution_count": 65,
   "id": "026392af-bdc2-4d30-9ffb-0c938277ec11",
   "metadata": {},
   "outputs": [
    {
     "name": "stdout",
     "output_type": "stream",
     "text": [
      "True\n"
     ]
    }
   ],
   "source": [
    "a = 100\n",
    "b = 100\n",
    "print(a==b)\n",
    "# Checks wether the 2 values are euql or not\n",
    "# output of comparision operators will always be boolean\n"
   ]
  },
  {
   "cell_type": "code",
   "execution_count": 71,
   "id": "eb00fca7-a296-4390-a8a5-e6a834249d17",
   "metadata": {},
   "outputs": [
    {
     "name": "stdout",
     "output_type": "stream",
     "text": [
      "False\n",
      "False\n",
      "True\n",
      "True\n",
      "False\n"
     ]
    }
   ],
   "source": [
    "print(a>b)\n",
    "print(a<b)\n",
    "print(a<=b)\n",
    "print(a>=b)\n",
    "print(a!=b) # Does not equal to"
   ]
  },
  {
   "cell_type": "code",
   "execution_count": 77,
   "id": "5ac701a0-ca9e-45e6-87ad-a38cb131c654",
   "metadata": {},
   "outputs": [
    {
     "name": "stdout",
     "output_type": "stream",
     "text": [
      "100+19.524524\n"
     ]
    },
    {
     "data": {
      "text/plain": [
       "119.524524"
      ]
     },
     "execution_count": 77,
     "metadata": {},
     "output_type": "execute_result"
    }
   ],
   "source": [
    "a = \"100\"\n",
    "b = \"19.524524\"\n",
    "expr = f\"{a}+{b}\"   # formatted string\n",
    "print(expr)\n",
    "eval(expr) # Allows us to calculate strings if they have numerical meaning"
   ]
  },
  {
   "cell_type": "code",
   "execution_count": 79,
   "id": "4243904c-e82a-4e07-80d4-88ce2442f456",
   "metadata": {},
   "outputs": [
    {
     "data": {
      "text/plain": [
       "0.7916666666666666"
      ]
     },
     "execution_count": 79,
     "metadata": {},
     "output_type": "execute_result"
    }
   ],
   "source": [
    "eval(\"19/24\")"
   ]
  },
  {
   "cell_type": "code",
   "execution_count": 83,
   "id": "b45fe14d-1b7a-45a9-ae2e-c15eca7810be",
   "metadata": {},
   "outputs": [
    {
     "data": {
      "text/plain": [
       "92.3961304347826"
      ]
     },
     "execution_count": 83,
     "metadata": {},
     "output_type": "execute_result"
    }
   ],
   "source": [
    "equation = \"100 + 19 - 98 + 65 - (190/23) + 14.657\"\n",
    "eval(equation)"
   ]
  },
  {
   "cell_type": "code",
   "execution_count": 85,
   "id": "55c5b08b-6ad4-48da-bf2b-ad746f40c17f",
   "metadata": {},
   "outputs": [
    {
     "data": {
      "text/plain": [
       "-4269.343"
      ]
     },
     "execution_count": 85,
     "metadata": {},
     "output_type": "execute_result"
    }
   ],
   "source": [
    "equation = \"100 + 19 - 98 + 65 - (190*23) + 14.657\"\n",
    "eval(equation)"
   ]
  },
  {
   "cell_type": "code",
   "execution_count": 87,
   "id": "06ea2c02-c4ef-4b20-b03b-43f43af64574",
   "metadata": {},
   "outputs": [
    {
     "data": {
      "text/plain": [
       "12065.657"
      ]
     },
     "execution_count": 87,
     "metadata": {},
     "output_type": "execute_result"
    }
   ],
   "source": [
    "equation = \"10000 + 19 - 98 + 6500 - (190*23) + 14.657\"\n",
    "eval(equation)"
   ]
  },
  {
   "cell_type": "code",
   "execution_count": 89,
   "id": "9941438f-20b9-4721-9eb2-8e54aa28de6f",
   "metadata": {},
   "outputs": [
    {
     "name": "stdin",
     "output_type": "stream",
     "text": [
      "Please enter your Institute name NED University\n"
     ]
    },
    {
     "name": "stdout",
     "output_type": "stream",
     "text": [
      "Hey, Your Institue name is NED University\n"
     ]
    }
   ],
   "source": [
    "name = str(input(\"Please enter your Institute name\"))\n",
    "print(f\"Hey, Your Institue name is {name}\")\n"
   ]
  },
  {
   "cell_type": "markdown",
   "id": "4523f155-765f-4d64-901e-92ea7fff6a91",
   "metadata": {},
   "source": [
    "# LOGICAL OPERATORS"
   ]
  },
  {
   "cell_type": "code",
   "execution_count": 123,
   "id": "45dbdf9e-3033-4609-9778-11d54f84d462",
   "metadata": {},
   "outputs": [
    {
     "data": {
      "text/plain": [
       "False"
      ]
     },
     "execution_count": 123,
     "metadata": {},
     "output_type": "execute_result"
    }
   ],
   "source": [
    "x = 10\n",
    "y = 11\n",
    "z = 12\n",
    "x<y and y>z\n",
    "\n"
   ]
  },
  {
   "cell_type": "code",
   "execution_count": 121,
   "id": "fc199cf7-8da6-405f-ab51-9e247574445c",
   "metadata": {},
   "outputs": [
    {
     "data": {
      "text/plain": [
       "['',\n",
       " 'name = \"NED University\"\\nprint (name)',\n",
       " 'import json\\nimport getpass\\nimport hashlib\\n\\ndef import_pandas_safely():\\n    try:\\n        return __import__(\\'pandas\\')\\n    except ImportError:\\n        return False\\n\\n\\n__pandas = import_pandas_safely()\\n\\n\\ndef is_data_frame(v: str):\\n    obj = eval(v)\\n    if  isinstance(obj, __pandas.core.frame.DataFrame) or isinstance(obj, __pandas.core.series.Series):\\n        return True\\n\\n\\ndef dataframe_columns(var):\\n    df = eval(var)\\n    if isinstance(df, __pandas.core.series.Series):\\n        return [[df.name, str(df.dtype)]]\\n    return list(map(lambda col: [col, str(df[col].dtype)], df.columns))\\n\\n\\ndef dtypes_str(frame):\\n    return str(eval(frame).dtypes)\\n\\ndef dataframe_hash(var):\\n    # Return a hash including the column names and number of rows\\n    df = eval(var)\\n    if isinstance(df, __pandas.core.series.Series):\\n        return hashlib.sha256(f\"{var}-{df.name},{len(df)}\".encode(\\'utf-8\\')).hexdigest()\\n    return hashlib.sha256(f\"{var}-{\\',\\'.join(df.columns)},{len(df)}\".encode(\\'utf-8\\')).hexdigest()\\n\\ndef get_dataframes():\\n    if __pandas is None:\\n        return []\\n    user = getpass.getuser()\\n    values = get_ipython().run_line_magic(\\'who_ls\\', \\'\\')\\n    dataframes = [\\n        {\\n            \"name\": var,\\n            \"type\": type(eval(var)).__name__,\\n            \"hash\": dataframe_hash(var),\\n            \"cols\": dataframe_columns(var),\\n            \"dtypesStr\": dtypes_str(var),\\n        }\\n        for var in values if is_data_frame(var)\\n    ]\\n    result = {\"dataframes\": dataframes, \"user\": user}\\n    return json.dumps(result, ensure_ascii=False)\\n\\n\\nget_dataframes()',\n",
       " 'name - NED University PGD Batch10\"',\n",
       " 'import json\\nimport getpass\\nimport hashlib\\n\\ndef import_pandas_safely():\\n    try:\\n        return __import__(\\'pandas\\')\\n    except ImportError:\\n        return False\\n\\n\\n__pandas = import_pandas_safely()\\n\\n\\ndef is_data_frame(v: str):\\n    obj = eval(v)\\n    if  isinstance(obj, __pandas.core.frame.DataFrame) or isinstance(obj, __pandas.core.series.Series):\\n        return True\\n\\n\\ndef dataframe_columns(var):\\n    df = eval(var)\\n    if isinstance(df, __pandas.core.series.Series):\\n        return [[df.name, str(df.dtype)]]\\n    return list(map(lambda col: [col, str(df[col].dtype)], df.columns))\\n\\n\\ndef dtypes_str(frame):\\n    return str(eval(frame).dtypes)\\n\\ndef dataframe_hash(var):\\n    # Return a hash including the column names and number of rows\\n    df = eval(var)\\n    if isinstance(df, __pandas.core.series.Series):\\n        return hashlib.sha256(f\"{var}-{df.name},{len(df)}\".encode(\\'utf-8\\')).hexdigest()\\n    return hashlib.sha256(f\"{var}-{\\',\\'.join(df.columns)},{len(df)}\".encode(\\'utf-8\\')).hexdigest()\\n\\ndef get_dataframes():\\n    if __pandas is None:\\n        return []\\n    user = getpass.getuser()\\n    values = get_ipython().run_line_magic(\\'who_ls\\', \\'\\')\\n    dataframes = [\\n        {\\n            \"name\": var,\\n            \"type\": type(eval(var)).__name__,\\n            \"hash\": dataframe_hash(var),\\n            \"cols\": dataframe_columns(var),\\n            \"dtypesStr\": dtypes_str(var),\\n        }\\n        for var in values if is_data_frame(var)\\n    ]\\n    result = {\"dataframes\": dataframes, \"user\": user}\\n    return json.dumps(result, ensure_ascii=False)\\n\\n\\nget_dataframes()',\n",
       " 'name - \"NED University PGD Batch10\"\\nid (name)',\n",
       " 'import json\\nimport getpass\\nimport hashlib\\n\\ndef import_pandas_safely():\\n    try:\\n        return __import__(\\'pandas\\')\\n    except ImportError:\\n        return False\\n\\n\\n__pandas = import_pandas_safely()\\n\\n\\ndef is_data_frame(v: str):\\n    obj = eval(v)\\n    if  isinstance(obj, __pandas.core.frame.DataFrame) or isinstance(obj, __pandas.core.series.Series):\\n        return True\\n\\n\\ndef dataframe_columns(var):\\n    df = eval(var)\\n    if isinstance(df, __pandas.core.series.Series):\\n        return [[df.name, str(df.dtype)]]\\n    return list(map(lambda col: [col, str(df[col].dtype)], df.columns))\\n\\n\\ndef dtypes_str(frame):\\n    return str(eval(frame).dtypes)\\n\\ndef dataframe_hash(var):\\n    # Return a hash including the column names and number of rows\\n    df = eval(var)\\n    if isinstance(df, __pandas.core.series.Series):\\n        return hashlib.sha256(f\"{var}-{df.name},{len(df)}\".encode(\\'utf-8\\')).hexdigest()\\n    return hashlib.sha256(f\"{var}-{\\',\\'.join(df.columns)},{len(df)}\".encode(\\'utf-8\\')).hexdigest()\\n\\ndef get_dataframes():\\n    if __pandas is None:\\n        return []\\n    user = getpass.getuser()\\n    values = get_ipython().run_line_magic(\\'who_ls\\', \\'\\')\\n    dataframes = [\\n        {\\n            \"name\": var,\\n            \"type\": type(eval(var)).__name__,\\n            \"hash\": dataframe_hash(var),\\n            \"cols\": dataframe_columns(var),\\n            \"dtypesStr\": dtypes_str(var),\\n        }\\n        for var in values if is_data_frame(var)\\n    ]\\n    result = {\"dataframes\": dataframes, \"user\": user}\\n    return json.dumps(result, ensure_ascii=False)\\n\\n\\nget_dataframes()',\n",
       " 'name - \"NED University\"\\nid (name)',\n",
       " 'import json\\nimport getpass\\nimport hashlib\\n\\ndef import_pandas_safely():\\n    try:\\n        return __import__(\\'pandas\\')\\n    except ImportError:\\n        return False\\n\\n\\n__pandas = import_pandas_safely()\\n\\n\\ndef is_data_frame(v: str):\\n    obj = eval(v)\\n    if  isinstance(obj, __pandas.core.frame.DataFrame) or isinstance(obj, __pandas.core.series.Series):\\n        return True\\n\\n\\ndef dataframe_columns(var):\\n    df = eval(var)\\n    if isinstance(df, __pandas.core.series.Series):\\n        return [[df.name, str(df.dtype)]]\\n    return list(map(lambda col: [col, str(df[col].dtype)], df.columns))\\n\\n\\ndef dtypes_str(frame):\\n    return str(eval(frame).dtypes)\\n\\ndef dataframe_hash(var):\\n    # Return a hash including the column names and number of rows\\n    df = eval(var)\\n    if isinstance(df, __pandas.core.series.Series):\\n        return hashlib.sha256(f\"{var}-{df.name},{len(df)}\".encode(\\'utf-8\\')).hexdigest()\\n    return hashlib.sha256(f\"{var}-{\\',\\'.join(df.columns)},{len(df)}\".encode(\\'utf-8\\')).hexdigest()\\n\\ndef get_dataframes():\\n    if __pandas is None:\\n        return []\\n    user = getpass.getuser()\\n    values = get_ipython().run_line_magic(\\'who_ls\\', \\'\\')\\n    dataframes = [\\n        {\\n            \"name\": var,\\n            \"type\": type(eval(var)).__name__,\\n            \"hash\": dataframe_hash(var),\\n            \"cols\": dataframe_columns(var),\\n            \"dtypesStr\": dtypes_str(var),\\n        }\\n        for var in values if is_data_frame(var)\\n    ]\\n    result = {\"dataframes\": dataframes, \"user\": user}\\n    return json.dumps(result, ensure_ascii=False)\\n\\n\\nget_dataframes()',\n",
       " 'name - \"NEDUniversity\"\\nid (name)',\n",
       " 'import json\\nimport getpass\\nimport hashlib\\n\\ndef import_pandas_safely():\\n    try:\\n        return __import__(\\'pandas\\')\\n    except ImportError:\\n        return False\\n\\n\\n__pandas = import_pandas_safely()\\n\\n\\ndef is_data_frame(v: str):\\n    obj = eval(v)\\n    if  isinstance(obj, __pandas.core.frame.DataFrame) or isinstance(obj, __pandas.core.series.Series):\\n        return True\\n\\n\\ndef dataframe_columns(var):\\n    df = eval(var)\\n    if isinstance(df, __pandas.core.series.Series):\\n        return [[df.name, str(df.dtype)]]\\n    return list(map(lambda col: [col, str(df[col].dtype)], df.columns))\\n\\n\\ndef dtypes_str(frame):\\n    return str(eval(frame).dtypes)\\n\\ndef dataframe_hash(var):\\n    # Return a hash including the column names and number of rows\\n    df = eval(var)\\n    if isinstance(df, __pandas.core.series.Series):\\n        return hashlib.sha256(f\"{var}-{df.name},{len(df)}\".encode(\\'utf-8\\')).hexdigest()\\n    return hashlib.sha256(f\"{var}-{\\',\\'.join(df.columns)},{len(df)}\".encode(\\'utf-8\\')).hexdigest()\\n\\ndef get_dataframes():\\n    if __pandas is None:\\n        return []\\n    user = getpass.getuser()\\n    values = get_ipython().run_line_magic(\\'who_ls\\', \\'\\')\\n    dataframes = [\\n        {\\n            \"name\": var,\\n            \"type\": type(eval(var)).__name__,\\n            \"hash\": dataframe_hash(var),\\n            \"cols\": dataframe_columns(var),\\n            \"dtypesStr\": dtypes_str(var),\\n        }\\n        for var in values if is_data_frame(var)\\n    ]\\n    result = {\"dataframes\": dataframes, \"user\": user}\\n    return json.dumps(result, ensure_ascii=False)\\n\\n\\nget_dataframes()',\n",
       " 'import json\\nimport getpass\\nimport hashlib\\n\\ndef import_pandas_safely():\\n    try:\\n        return __import__(\\'pandas\\')\\n    except ImportError:\\n        return False\\n\\n\\n__pandas = import_pandas_safely()\\n\\n\\ndef is_data_frame(v: str):\\n    obj = eval(v)\\n    if  isinstance(obj, __pandas.core.frame.DataFrame) or isinstance(obj, __pandas.core.series.Series):\\n        return True\\n\\n\\ndef dataframe_columns(var):\\n    df = eval(var)\\n    if isinstance(df, __pandas.core.series.Series):\\n        return [[df.name, str(df.dtype)]]\\n    return list(map(lambda col: [col, str(df[col].dtype)], df.columns))\\n\\n\\ndef dtypes_str(frame):\\n    return str(eval(frame).dtypes)\\n\\ndef dataframe_hash(var):\\n    # Return a hash including the column names and number of rows\\n    df = eval(var)\\n    if isinstance(df, __pandas.core.series.Series):\\n        return hashlib.sha256(f\"{var}-{df.name},{len(df)}\".encode(\\'utf-8\\')).hexdigest()\\n    return hashlib.sha256(f\"{var}-{\\',\\'.join(df.columns)},{len(df)}\".encode(\\'utf-8\\')).hexdigest()\\n\\ndef get_dataframes():\\n    if __pandas is None:\\n        return []\\n    user = getpass.getuser()\\n    values = get_ipython().run_line_magic(\\'who_ls\\', \\'\\')\\n    dataframes = [\\n        {\\n            \"name\": var,\\n            \"type\": type(eval(var)).__name__,\\n            \"hash\": dataframe_hash(var),\\n            \"cols\": dataframe_columns(var),\\n            \"dtypesStr\": dtypes_str(var),\\n        }\\n        for var in values if is_data_frame(var)\\n    ]\\n    result = {\"dataframes\": dataframes, \"user\": user}\\n    return json.dumps(result, ensure_ascii=False)\\n\\n\\nget_dataframes()',\n",
       " 'name2 - \"NEDUniversity\"\\nid (name)',\n",
       " 'import json\\nimport getpass\\nimport hashlib\\n\\ndef import_pandas_safely():\\n    try:\\n        return __import__(\\'pandas\\')\\n    except ImportError:\\n        return False\\n\\n\\n__pandas = import_pandas_safely()\\n\\n\\ndef is_data_frame(v: str):\\n    obj = eval(v)\\n    if  isinstance(obj, __pandas.core.frame.DataFrame) or isinstance(obj, __pandas.core.series.Series):\\n        return True\\n\\n\\ndef dataframe_columns(var):\\n    df = eval(var)\\n    if isinstance(df, __pandas.core.series.Series):\\n        return [[df.name, str(df.dtype)]]\\n    return list(map(lambda col: [col, str(df[col].dtype)], df.columns))\\n\\n\\ndef dtypes_str(frame):\\n    return str(eval(frame).dtypes)\\n\\ndef dataframe_hash(var):\\n    # Return a hash including the column names and number of rows\\n    df = eval(var)\\n    if isinstance(df, __pandas.core.series.Series):\\n        return hashlib.sha256(f\"{var}-{df.name},{len(df)}\".encode(\\'utf-8\\')).hexdigest()\\n    return hashlib.sha256(f\"{var}-{\\',\\'.join(df.columns)},{len(df)}\".encode(\\'utf-8\\')).hexdigest()\\n\\ndef get_dataframes():\\n    if __pandas is None:\\n        return []\\n    user = getpass.getuser()\\n    values = get_ipython().run_line_magic(\\'who_ls\\', \\'\\')\\n    dataframes = [\\n        {\\n            \"name\": var,\\n            \"type\": type(eval(var)).__name__,\\n            \"hash\": dataframe_hash(var),\\n            \"cols\": dataframe_columns(var),\\n            \"dtypesStr\": dtypes_str(var),\\n        }\\n        for var in values if is_data_frame(var)\\n    ]\\n    result = {\"dataframes\": dataframes, \"user\": user}\\n    return json.dumps(result, ensure_ascii=False)\\n\\n\\nget_dataframes()',\n",
       " 'name2 - \"NED\"\\nid (name)',\n",
       " 'import json\\nimport getpass\\nimport hashlib\\n\\ndef import_pandas_safely():\\n    try:\\n        return __import__(\\'pandas\\')\\n    except ImportError:\\n        return False\\n\\n\\n__pandas = import_pandas_safely()\\n\\n\\ndef is_data_frame(v: str):\\n    obj = eval(v)\\n    if  isinstance(obj, __pandas.core.frame.DataFrame) or isinstance(obj, __pandas.core.series.Series):\\n        return True\\n\\n\\ndef dataframe_columns(var):\\n    df = eval(var)\\n    if isinstance(df, __pandas.core.series.Series):\\n        return [[df.name, str(df.dtype)]]\\n    return list(map(lambda col: [col, str(df[col].dtype)], df.columns))\\n\\n\\ndef dtypes_str(frame):\\n    return str(eval(frame).dtypes)\\n\\ndef dataframe_hash(var):\\n    # Return a hash including the column names and number of rows\\n    df = eval(var)\\n    if isinstance(df, __pandas.core.series.Series):\\n        return hashlib.sha256(f\"{var}-{df.name},{len(df)}\".encode(\\'utf-8\\')).hexdigest()\\n    return hashlib.sha256(f\"{var}-{\\',\\'.join(df.columns)},{len(df)}\".encode(\\'utf-8\\')).hexdigest()\\n\\ndef get_dataframes():\\n    if __pandas is None:\\n        return []\\n    user = getpass.getuser()\\n    values = get_ipython().run_line_magic(\\'who_ls\\', \\'\\')\\n    dataframes = [\\n        {\\n            \"name\": var,\\n            \"type\": type(eval(var)).__name__,\\n            \"hash\": dataframe_hash(var),\\n            \"cols\": dataframe_columns(var),\\n            \"dtypesStr\": dtypes_str(var),\\n        }\\n        for var in values if is_data_frame(var)\\n    ]\\n    result = {\"dataframes\": dataframes, \"user\": user}\\n    return json.dumps(result, ensure_ascii=False)\\n\\n\\nget_dataframes()',\n",
       " 'name2 - \"NED\"\\nid (name2)',\n",
       " 'import json\\nimport getpass\\nimport hashlib\\n\\ndef import_pandas_safely():\\n    try:\\n        return __import__(\\'pandas\\')\\n    except ImportError:\\n        return False\\n\\n\\n__pandas = import_pandas_safely()\\n\\n\\ndef is_data_frame(v: str):\\n    obj = eval(v)\\n    if  isinstance(obj, __pandas.core.frame.DataFrame) or isinstance(obj, __pandas.core.series.Series):\\n        return True\\n\\n\\ndef dataframe_columns(var):\\n    df = eval(var)\\n    if isinstance(df, __pandas.core.series.Series):\\n        return [[df.name, str(df.dtype)]]\\n    return list(map(lambda col: [col, str(df[col].dtype)], df.columns))\\n\\n\\ndef dtypes_str(frame):\\n    return str(eval(frame).dtypes)\\n\\ndef dataframe_hash(var):\\n    # Return a hash including the column names and number of rows\\n    df = eval(var)\\n    if isinstance(df, __pandas.core.series.Series):\\n        return hashlib.sha256(f\"{var}-{df.name},{len(df)}\".encode(\\'utf-8\\')).hexdigest()\\n    return hashlib.sha256(f\"{var}-{\\',\\'.join(df.columns)},{len(df)}\".encode(\\'utf-8\\')).hexdigest()\\n\\ndef get_dataframes():\\n    if __pandas is None:\\n        return []\\n    user = getpass.getuser()\\n    values = get_ipython().run_line_magic(\\'who_ls\\', \\'\\')\\n    dataframes = [\\n        {\\n            \"name\": var,\\n            \"type\": type(eval(var)).__name__,\\n            \"hash\": dataframe_hash(var),\\n            \"cols\": dataframe_columns(var),\\n            \"dtypesStr\": dtypes_str(var),\\n        }\\n        for var in values if is_data_frame(var)\\n    ]\\n    result = {\"dataframes\": dataframes, \"user\": user}\\n    return json.dumps(result, ensure_ascii=False)\\n\\n\\nget_dataframes()',\n",
       " 'name2 - \"NED\"\\nid(name2)',\n",
       " 'import json\\nimport getpass\\nimport hashlib\\n\\ndef import_pandas_safely():\\n    try:\\n        return __import__(\\'pandas\\')\\n    except ImportError:\\n        return False\\n\\n\\n__pandas = import_pandas_safely()\\n\\n\\ndef is_data_frame(v: str):\\n    obj = eval(v)\\n    if  isinstance(obj, __pandas.core.frame.DataFrame) or isinstance(obj, __pandas.core.series.Series):\\n        return True\\n\\n\\ndef dataframe_columns(var):\\n    df = eval(var)\\n    if isinstance(df, __pandas.core.series.Series):\\n        return [[df.name, str(df.dtype)]]\\n    return list(map(lambda col: [col, str(df[col].dtype)], df.columns))\\n\\n\\ndef dtypes_str(frame):\\n    return str(eval(frame).dtypes)\\n\\ndef dataframe_hash(var):\\n    # Return a hash including the column names and number of rows\\n    df = eval(var)\\n    if isinstance(df, __pandas.core.series.Series):\\n        return hashlib.sha256(f\"{var}-{df.name},{len(df)}\".encode(\\'utf-8\\')).hexdigest()\\n    return hashlib.sha256(f\"{var}-{\\',\\'.join(df.columns)},{len(df)}\".encode(\\'utf-8\\')).hexdigest()\\n\\ndef get_dataframes():\\n    if __pandas is None:\\n        return []\\n    user = getpass.getuser()\\n    values = get_ipython().run_line_magic(\\'who_ls\\', \\'\\')\\n    dataframes = [\\n        {\\n            \"name\": var,\\n            \"type\": type(eval(var)).__name__,\\n            \"hash\": dataframe_hash(var),\\n            \"cols\": dataframe_columns(var),\\n            \"dtypesStr\": dtypes_str(var),\\n        }\\n        for var in values if is_data_frame(var)\\n    ]\\n    result = {\"dataframes\": dataframes, \"user\": user}\\n    return json.dumps(result, ensure_ascii=False)\\n\\n\\nget_dataframes()',\n",
       " 'name2 = \"NED\"\\nid(name2)',\n",
       " 'import json\\nimport getpass\\nimport hashlib\\n\\ndef import_pandas_safely():\\n    try:\\n        return __import__(\\'pandas\\')\\n    except ImportError:\\n        return False\\n\\n\\n__pandas = import_pandas_safely()\\n\\n\\ndef is_data_frame(v: str):\\n    obj = eval(v)\\n    if  isinstance(obj, __pandas.core.frame.DataFrame) or isinstance(obj, __pandas.core.series.Series):\\n        return True\\n\\n\\ndef dataframe_columns(var):\\n    df = eval(var)\\n    if isinstance(df, __pandas.core.series.Series):\\n        return [[df.name, str(df.dtype)]]\\n    return list(map(lambda col: [col, str(df[col].dtype)], df.columns))\\n\\n\\ndef dtypes_str(frame):\\n    return str(eval(frame).dtypes)\\n\\ndef dataframe_hash(var):\\n    # Return a hash including the column names and number of rows\\n    df = eval(var)\\n    if isinstance(df, __pandas.core.series.Series):\\n        return hashlib.sha256(f\"{var}-{df.name},{len(df)}\".encode(\\'utf-8\\')).hexdigest()\\n    return hashlib.sha256(f\"{var}-{\\',\\'.join(df.columns)},{len(df)}\".encode(\\'utf-8\\')).hexdigest()\\n\\ndef get_dataframes():\\n    if __pandas is None:\\n        return []\\n    user = getpass.getuser()\\n    values = get_ipython().run_line_magic(\\'who_ls\\', \\'\\')\\n    dataframes = [\\n        {\\n            \"name\": var,\\n            \"type\": type(eval(var)).__name__,\\n            \"hash\": dataframe_hash(var),\\n            \"cols\": dataframe_columns(var),\\n            \"dtypesStr\": dtypes_str(var),\\n        }\\n        for var in values if is_data_frame(var)\\n    ]\\n    result = {\"dataframes\": dataframes, \"user\": user}\\n    return json.dumps(result, ensure_ascii=False)\\n\\n\\nget_dataframes()',\n",
       " 'name3 = name2',\n",
       " 'import json\\nimport getpass\\nimport hashlib\\n\\ndef import_pandas_safely():\\n    try:\\n        return __import__(\\'pandas\\')\\n    except ImportError:\\n        return False\\n\\n\\n__pandas = import_pandas_safely()\\n\\n\\ndef is_data_frame(v: str):\\n    obj = eval(v)\\n    if  isinstance(obj, __pandas.core.frame.DataFrame) or isinstance(obj, __pandas.core.series.Series):\\n        return True\\n\\n\\ndef dataframe_columns(var):\\n    df = eval(var)\\n    if isinstance(df, __pandas.core.series.Series):\\n        return [[df.name, str(df.dtype)]]\\n    return list(map(lambda col: [col, str(df[col].dtype)], df.columns))\\n\\n\\ndef dtypes_str(frame):\\n    return str(eval(frame).dtypes)\\n\\ndef dataframe_hash(var):\\n    # Return a hash including the column names and number of rows\\n    df = eval(var)\\n    if isinstance(df, __pandas.core.series.Series):\\n        return hashlib.sha256(f\"{var}-{df.name},{len(df)}\".encode(\\'utf-8\\')).hexdigest()\\n    return hashlib.sha256(f\"{var}-{\\',\\'.join(df.columns)},{len(df)}\".encode(\\'utf-8\\')).hexdigest()\\n\\ndef get_dataframes():\\n    if __pandas is None:\\n        return []\\n    user = getpass.getuser()\\n    values = get_ipython().run_line_magic(\\'who_ls\\', \\'\\')\\n    dataframes = [\\n        {\\n            \"name\": var,\\n            \"type\": type(eval(var)).__name__,\\n            \"hash\": dataframe_hash(var),\\n            \"cols\": dataframe_columns(var),\\n            \"dtypesStr\": dtypes_str(var),\\n        }\\n        for var in values if is_data_frame(var)\\n    ]\\n    result = {\"dataframes\": dataframes, \"user\": user}\\n    return json.dumps(result, ensure_ascii=False)\\n\\n\\nget_dataframes()',\n",
       " 'name3 = name2\\nprint(name3)',\n",
       " 'import json\\nimport getpass\\nimport hashlib\\n\\ndef import_pandas_safely():\\n    try:\\n        return __import__(\\'pandas\\')\\n    except ImportError:\\n        return False\\n\\n\\n__pandas = import_pandas_safely()\\n\\n\\ndef is_data_frame(v: str):\\n    obj = eval(v)\\n    if  isinstance(obj, __pandas.core.frame.DataFrame) or isinstance(obj, __pandas.core.series.Series):\\n        return True\\n\\n\\ndef dataframe_columns(var):\\n    df = eval(var)\\n    if isinstance(df, __pandas.core.series.Series):\\n        return [[df.name, str(df.dtype)]]\\n    return list(map(lambda col: [col, str(df[col].dtype)], df.columns))\\n\\n\\ndef dtypes_str(frame):\\n    return str(eval(frame).dtypes)\\n\\ndef dataframe_hash(var):\\n    # Return a hash including the column names and number of rows\\n    df = eval(var)\\n    if isinstance(df, __pandas.core.series.Series):\\n        return hashlib.sha256(f\"{var}-{df.name},{len(df)}\".encode(\\'utf-8\\')).hexdigest()\\n    return hashlib.sha256(f\"{var}-{\\',\\'.join(df.columns)},{len(df)}\".encode(\\'utf-8\\')).hexdigest()\\n\\ndef get_dataframes():\\n    if __pandas is None:\\n        return []\\n    user = getpass.getuser()\\n    values = get_ipython().run_line_magic(\\'who_ls\\', \\'\\')\\n    dataframes = [\\n        {\\n            \"name\": var,\\n            \"type\": type(eval(var)).__name__,\\n            \"hash\": dataframe_hash(var),\\n            \"cols\": dataframe_columns(var),\\n            \"dtypesStr\": dtypes_str(var),\\n        }\\n        for var in values if is_data_frame(var)\\n    ]\\n    result = {\"dataframes\": dataframes, \"user\": user}\\n    return json.dumps(result, ensure_ascii=False)\\n\\n\\nget_dataframes()',\n",
       " 'name3 = \"NED:',\n",
       " 'import json\\nimport getpass\\nimport hashlib\\n\\ndef import_pandas_safely():\\n    try:\\n        return __import__(\\'pandas\\')\\n    except ImportError:\\n        return False\\n\\n\\n__pandas = import_pandas_safely()\\n\\n\\ndef is_data_frame(v: str):\\n    obj = eval(v)\\n    if  isinstance(obj, __pandas.core.frame.DataFrame) or isinstance(obj, __pandas.core.series.Series):\\n        return True\\n\\n\\ndef dataframe_columns(var):\\n    df = eval(var)\\n    if isinstance(df, __pandas.core.series.Series):\\n        return [[df.name, str(df.dtype)]]\\n    return list(map(lambda col: [col, str(df[col].dtype)], df.columns))\\n\\n\\ndef dtypes_str(frame):\\n    return str(eval(frame).dtypes)\\n\\ndef dataframe_hash(var):\\n    # Return a hash including the column names and number of rows\\n    df = eval(var)\\n    if isinstance(df, __pandas.core.series.Series):\\n        return hashlib.sha256(f\"{var}-{df.name},{len(df)}\".encode(\\'utf-8\\')).hexdigest()\\n    return hashlib.sha256(f\"{var}-{\\',\\'.join(df.columns)},{len(df)}\".encode(\\'utf-8\\')).hexdigest()\\n\\ndef get_dataframes():\\n    if __pandas is None:\\n        return []\\n    user = getpass.getuser()\\n    values = get_ipython().run_line_magic(\\'who_ls\\', \\'\\')\\n    dataframes = [\\n        {\\n            \"name\": var,\\n            \"type\": type(eval(var)).__name__,\\n            \"hash\": dataframe_hash(var),\\n            \"cols\": dataframe_columns(var),\\n            \"dtypesStr\": dtypes_str(var),\\n        }\\n        for var in values if is_data_frame(var)\\n    ]\\n    result = {\"dataframes\": dataframes, \"user\": user}\\n    return json.dumps(result, ensure_ascii=False)\\n\\n\\nget_dataframes()',\n",
       " 'name3 = \"NED:\\nid(name3)',\n",
       " 'import json\\nimport getpass\\nimport hashlib\\n\\ndef import_pandas_safely():\\n    try:\\n        return __import__(\\'pandas\\')\\n    except ImportError:\\n        return False\\n\\n\\n__pandas = import_pandas_safely()\\n\\n\\ndef is_data_frame(v: str):\\n    obj = eval(v)\\n    if  isinstance(obj, __pandas.core.frame.DataFrame) or isinstance(obj, __pandas.core.series.Series):\\n        return True\\n\\n\\ndef dataframe_columns(var):\\n    df = eval(var)\\n    if isinstance(df, __pandas.core.series.Series):\\n        return [[df.name, str(df.dtype)]]\\n    return list(map(lambda col: [col, str(df[col].dtype)], df.columns))\\n\\n\\ndef dtypes_str(frame):\\n    return str(eval(frame).dtypes)\\n\\ndef dataframe_hash(var):\\n    # Return a hash including the column names and number of rows\\n    df = eval(var)\\n    if isinstance(df, __pandas.core.series.Series):\\n        return hashlib.sha256(f\"{var}-{df.name},{len(df)}\".encode(\\'utf-8\\')).hexdigest()\\n    return hashlib.sha256(f\"{var}-{\\',\\'.join(df.columns)},{len(df)}\".encode(\\'utf-8\\')).hexdigest()\\n\\ndef get_dataframes():\\n    if __pandas is None:\\n        return []\\n    user = getpass.getuser()\\n    values = get_ipython().run_line_magic(\\'who_ls\\', \\'\\')\\n    dataframes = [\\n        {\\n            \"name\": var,\\n            \"type\": type(eval(var)).__name__,\\n            \"hash\": dataframe_hash(var),\\n            \"cols\": dataframe_columns(var),\\n            \"dtypesStr\": dtypes_str(var),\\n        }\\n        for var in values if is_data_frame(var)\\n    ]\\n    result = {\"dataframes\": dataframes, \"user\": user}\\n    return json.dumps(result, ensure_ascii=False)\\n\\n\\nget_dataframes()',\n",
       " 'name3 = \"NED\"\\nprint(name3)',\n",
       " 'import json\\nimport getpass\\nimport hashlib\\n\\ndef import_pandas_safely():\\n    try:\\n        return __import__(\\'pandas\\')\\n    except ImportError:\\n        return False\\n\\n\\n__pandas = import_pandas_safely()\\n\\n\\ndef is_data_frame(v: str):\\n    obj = eval(v)\\n    if  isinstance(obj, __pandas.core.frame.DataFrame) or isinstance(obj, __pandas.core.series.Series):\\n        return True\\n\\n\\ndef dataframe_columns(var):\\n    df = eval(var)\\n    if isinstance(df, __pandas.core.series.Series):\\n        return [[df.name, str(df.dtype)]]\\n    return list(map(lambda col: [col, str(df[col].dtype)], df.columns))\\n\\n\\ndef dtypes_str(frame):\\n    return str(eval(frame).dtypes)\\n\\ndef dataframe_hash(var):\\n    # Return a hash including the column names and number of rows\\n    df = eval(var)\\n    if isinstance(df, __pandas.core.series.Series):\\n        return hashlib.sha256(f\"{var}-{df.name},{len(df)}\".encode(\\'utf-8\\')).hexdigest()\\n    return hashlib.sha256(f\"{var}-{\\',\\'.join(df.columns)},{len(df)}\".encode(\\'utf-8\\')).hexdigest()\\n\\ndef get_dataframes():\\n    if __pandas is None:\\n        return []\\n    user = getpass.getuser()\\n    values = get_ipython().run_line_magic(\\'who_ls\\', \\'\\')\\n    dataframes = [\\n        {\\n            \"name\": var,\\n            \"type\": type(eval(var)).__name__,\\n            \"hash\": dataframe_hash(var),\\n            \"cols\": dataframe_columns(var),\\n            \"dtypesStr\": dtypes_str(var),\\n        }\\n        for var in values if is_data_frame(var)\\n    ]\\n    result = {\"dataframes\": dataframes, \"user\": user}\\n    return json.dumps(result, ensure_ascii=False)\\n\\n\\nget_dataframes()',\n",
       " 'name3 = \"name2\"\\nprint(name3)',\n",
       " 'import json\\nimport getpass\\nimport hashlib\\n\\ndef import_pandas_safely():\\n    try:\\n        return __import__(\\'pandas\\')\\n    except ImportError:\\n        return False\\n\\n\\n__pandas = import_pandas_safely()\\n\\n\\ndef is_data_frame(v: str):\\n    obj = eval(v)\\n    if  isinstance(obj, __pandas.core.frame.DataFrame) or isinstance(obj, __pandas.core.series.Series):\\n        return True\\n\\n\\ndef dataframe_columns(var):\\n    df = eval(var)\\n    if isinstance(df, __pandas.core.series.Series):\\n        return [[df.name, str(df.dtype)]]\\n    return list(map(lambda col: [col, str(df[col].dtype)], df.columns))\\n\\n\\ndef dtypes_str(frame):\\n    return str(eval(frame).dtypes)\\n\\ndef dataframe_hash(var):\\n    # Return a hash including the column names and number of rows\\n    df = eval(var)\\n    if isinstance(df, __pandas.core.series.Series):\\n        return hashlib.sha256(f\"{var}-{df.name},{len(df)}\".encode(\\'utf-8\\')).hexdigest()\\n    return hashlib.sha256(f\"{var}-{\\',\\'.join(df.columns)},{len(df)}\".encode(\\'utf-8\\')).hexdigest()\\n\\ndef get_dataframes():\\n    if __pandas is None:\\n        return []\\n    user = getpass.getuser()\\n    values = get_ipython().run_line_magic(\\'who_ls\\', \\'\\')\\n    dataframes = [\\n        {\\n            \"name\": var,\\n            \"type\": type(eval(var)).__name__,\\n            \"hash\": dataframe_hash(var),\\n            \"cols\": dataframe_columns(var),\\n            \"dtypesStr\": dtypes_str(var),\\n        }\\n        for var in values if is_data_frame(var)\\n    ]\\n    result = {\"dataframes\": dataframes, \"user\": user}\\n    return json.dumps(result, ensure_ascii=False)\\n\\n\\nget_dataframes()',\n",
       " 'name3 = name2\\nprint(name3)',\n",
       " 'import json\\nimport getpass\\nimport hashlib\\n\\ndef import_pandas_safely():\\n    try:\\n        return __import__(\\'pandas\\')\\n    except ImportError:\\n        return False\\n\\n\\n__pandas = import_pandas_safely()\\n\\n\\ndef is_data_frame(v: str):\\n    obj = eval(v)\\n    if  isinstance(obj, __pandas.core.frame.DataFrame) or isinstance(obj, __pandas.core.series.Series):\\n        return True\\n\\n\\ndef dataframe_columns(var):\\n    df = eval(var)\\n    if isinstance(df, __pandas.core.series.Series):\\n        return [[df.name, str(df.dtype)]]\\n    return list(map(lambda col: [col, str(df[col].dtype)], df.columns))\\n\\n\\ndef dtypes_str(frame):\\n    return str(eval(frame).dtypes)\\n\\ndef dataframe_hash(var):\\n    # Return a hash including the column names and number of rows\\n    df = eval(var)\\n    if isinstance(df, __pandas.core.series.Series):\\n        return hashlib.sha256(f\"{var}-{df.name},{len(df)}\".encode(\\'utf-8\\')).hexdigest()\\n    return hashlib.sha256(f\"{var}-{\\',\\'.join(df.columns)},{len(df)}\".encode(\\'utf-8\\')).hexdigest()\\n\\ndef get_dataframes():\\n    if __pandas is None:\\n        return []\\n    user = getpass.getuser()\\n    values = get_ipython().run_line_magic(\\'who_ls\\', \\'\\')\\n    dataframes = [\\n        {\\n            \"name\": var,\\n            \"type\": type(eval(var)).__name__,\\n            \"hash\": dataframe_hash(var),\\n            \"cols\": dataframe_columns(var),\\n            \"dtypesStr\": dtypes_str(var),\\n        }\\n        for var in values if is_data_frame(var)\\n    ]\\n    result = {\"dataframes\": dataframes, \"user\": user}\\n    return json.dumps(result, ensure_ascii=False)\\n\\n\\nget_dataframes()',\n",
       " 'id(name3)',\n",
       " 'import json\\nimport getpass\\nimport hashlib\\n\\ndef import_pandas_safely():\\n    try:\\n        return __import__(\\'pandas\\')\\n    except ImportError:\\n        return False\\n\\n\\n__pandas = import_pandas_safely()\\n\\n\\ndef is_data_frame(v: str):\\n    obj = eval(v)\\n    if  isinstance(obj, __pandas.core.frame.DataFrame) or isinstance(obj, __pandas.core.series.Series):\\n        return True\\n\\n\\ndef dataframe_columns(var):\\n    df = eval(var)\\n    if isinstance(df, __pandas.core.series.Series):\\n        return [[df.name, str(df.dtype)]]\\n    return list(map(lambda col: [col, str(df[col].dtype)], df.columns))\\n\\n\\ndef dtypes_str(frame):\\n    return str(eval(frame).dtypes)\\n\\ndef dataframe_hash(var):\\n    # Return a hash including the column names and number of rows\\n    df = eval(var)\\n    if isinstance(df, __pandas.core.series.Series):\\n        return hashlib.sha256(f\"{var}-{df.name},{len(df)}\".encode(\\'utf-8\\')).hexdigest()\\n    return hashlib.sha256(f\"{var}-{\\',\\'.join(df.columns)},{len(df)}\".encode(\\'utf-8\\')).hexdigest()\\n\\ndef get_dataframes():\\n    if __pandas is None:\\n        return []\\n    user = getpass.getuser()\\n    values = get_ipython().run_line_magic(\\'who_ls\\', \\'\\')\\n    dataframes = [\\n        {\\n            \"name\": var,\\n            \"type\": type(eval(var)).__name__,\\n            \"hash\": dataframe_hash(var),\\n            \"cols\": dataframe_columns(var),\\n            \"dtypesStr\": dtypes_str(var),\\n        }\\n        for var in values if is_data_frame(var)\\n    ]\\n    result = {\"dataframes\": dataframes, \"user\": user}\\n    return json.dumps(result, ensure_ascii=False)\\n\\n\\nget_dataframes()',\n",
       " 'name2 = \"NED University\"',\n",
       " 'import json\\nimport getpass\\nimport hashlib\\n\\ndef import_pandas_safely():\\n    try:\\n        return __import__(\\'pandas\\')\\n    except ImportError:\\n        return False\\n\\n\\n__pandas = import_pandas_safely()\\n\\n\\ndef is_data_frame(v: str):\\n    obj = eval(v)\\n    if  isinstance(obj, __pandas.core.frame.DataFrame) or isinstance(obj, __pandas.core.series.Series):\\n        return True\\n\\n\\ndef dataframe_columns(var):\\n    df = eval(var)\\n    if isinstance(df, __pandas.core.series.Series):\\n        return [[df.name, str(df.dtype)]]\\n    return list(map(lambda col: [col, str(df[col].dtype)], df.columns))\\n\\n\\ndef dtypes_str(frame):\\n    return str(eval(frame).dtypes)\\n\\ndef dataframe_hash(var):\\n    # Return a hash including the column names and number of rows\\n    df = eval(var)\\n    if isinstance(df, __pandas.core.series.Series):\\n        return hashlib.sha256(f\"{var}-{df.name},{len(df)}\".encode(\\'utf-8\\')).hexdigest()\\n    return hashlib.sha256(f\"{var}-{\\',\\'.join(df.columns)},{len(df)}\".encode(\\'utf-8\\')).hexdigest()\\n\\ndef get_dataframes():\\n    if __pandas is None:\\n        return []\\n    user = getpass.getuser()\\n    values = get_ipython().run_line_magic(\\'who_ls\\', \\'\\')\\n    dataframes = [\\n        {\\n            \"name\": var,\\n            \"type\": type(eval(var)).__name__,\\n            \"hash\": dataframe_hash(var),\\n            \"cols\": dataframe_columns(var),\\n            \"dtypesStr\": dtypes_str(var),\\n        }\\n        for var in values if is_data_frame(var)\\n    ]\\n    result = {\"dataframes\": dataframes, \"user\": user}\\n    return json.dumps(result, ensure_ascii=False)\\n\\n\\nget_dataframes()',\n",
       " 'name2 = \"NED University\"\\nprint(name2)\\nprint(id(name3))',\n",
       " 'import json\\nimport getpass\\nimport hashlib\\n\\ndef import_pandas_safely():\\n    try:\\n        return __import__(\\'pandas\\')\\n    except ImportError:\\n        return False\\n\\n\\n__pandas = import_pandas_safely()\\n\\n\\ndef is_data_frame(v: str):\\n    obj = eval(v)\\n    if  isinstance(obj, __pandas.core.frame.DataFrame) or isinstance(obj, __pandas.core.series.Series):\\n        return True\\n\\n\\ndef dataframe_columns(var):\\n    df = eval(var)\\n    if isinstance(df, __pandas.core.series.Series):\\n        return [[df.name, str(df.dtype)]]\\n    return list(map(lambda col: [col, str(df[col].dtype)], df.columns))\\n\\n\\ndef dtypes_str(frame):\\n    return str(eval(frame).dtypes)\\n\\ndef dataframe_hash(var):\\n    # Return a hash including the column names and number of rows\\n    df = eval(var)\\n    if isinstance(df, __pandas.core.series.Series):\\n        return hashlib.sha256(f\"{var}-{df.name},{len(df)}\".encode(\\'utf-8\\')).hexdigest()\\n    return hashlib.sha256(f\"{var}-{\\',\\'.join(df.columns)},{len(df)}\".encode(\\'utf-8\\')).hexdigest()\\n\\ndef get_dataframes():\\n    if __pandas is None:\\n        return []\\n    user = getpass.getuser()\\n    values = get_ipython().run_line_magic(\\'who_ls\\', \\'\\')\\n    dataframes = [\\n        {\\n            \"name\": var,\\n            \"type\": type(eval(var)).__name__,\\n            \"hash\": dataframe_hash(var),\\n            \"cols\": dataframe_columns(var),\\n            \"dtypesStr\": dtypes_str(var),\\n        }\\n        for var in values if is_data_frame(var)\\n    ]\\n    result = {\"dataframes\": dataframes, \"user\": user}\\n    return json.dumps(result, ensure_ascii=False)\\n\\n\\nget_dataframes()',\n",
       " 'name2 = \"NED University\"\\nprint(name2)\\nprint(id(name2))',\n",
       " 'import json\\nimport getpass\\nimport hashlib\\n\\ndef import_pandas_safely():\\n    try:\\n        return __import__(\\'pandas\\')\\n    except ImportError:\\n        return False\\n\\n\\n__pandas = import_pandas_safely()\\n\\n\\ndef is_data_frame(v: str):\\n    obj = eval(v)\\n    if  isinstance(obj, __pandas.core.frame.DataFrame) or isinstance(obj, __pandas.core.series.Series):\\n        return True\\n\\n\\ndef dataframe_columns(var):\\n    df = eval(var)\\n    if isinstance(df, __pandas.core.series.Series):\\n        return [[df.name, str(df.dtype)]]\\n    return list(map(lambda col: [col, str(df[col].dtype)], df.columns))\\n\\n\\ndef dtypes_str(frame):\\n    return str(eval(frame).dtypes)\\n\\ndef dataframe_hash(var):\\n    # Return a hash including the column names and number of rows\\n    df = eval(var)\\n    if isinstance(df, __pandas.core.series.Series):\\n        return hashlib.sha256(f\"{var}-{df.name},{len(df)}\".encode(\\'utf-8\\')).hexdigest()\\n    return hashlib.sha256(f\"{var}-{\\',\\'.join(df.columns)},{len(df)}\".encode(\\'utf-8\\')).hexdigest()\\n\\ndef get_dataframes():\\n    if __pandas is None:\\n        return []\\n    user = getpass.getuser()\\n    values = get_ipython().run_line_magic(\\'who_ls\\', \\'\\')\\n    dataframes = [\\n        {\\n            \"name\": var,\\n            \"type\": type(eval(var)).__name__,\\n            \"hash\": dataframe_hash(var),\\n            \"cols\": dataframe_columns(var),\\n            \"dtypesStr\": dtypes_str(var),\\n        }\\n        for var in values if is_data_frame(var)\\n    ]\\n    result = {\"dataframes\": dataframes, \"user\": user}\\n    return json.dumps(result, ensure_ascii=False)\\n\\n\\nget_dataframes()',\n",
       " 'print(name3)\\nprint(id(name3))',\n",
       " 'import json\\nimport getpass\\nimport hashlib\\n\\ndef import_pandas_safely():\\n    try:\\n        return __import__(\\'pandas\\')\\n    except ImportError:\\n        return False\\n\\n\\n__pandas = import_pandas_safely()\\n\\n\\ndef is_data_frame(v: str):\\n    obj = eval(v)\\n    if  isinstance(obj, __pandas.core.frame.DataFrame) or isinstance(obj, __pandas.core.series.Series):\\n        return True\\n\\n\\ndef dataframe_columns(var):\\n    df = eval(var)\\n    if isinstance(df, __pandas.core.series.Series):\\n        return [[df.name, str(df.dtype)]]\\n    return list(map(lambda col: [col, str(df[col].dtype)], df.columns))\\n\\n\\ndef dtypes_str(frame):\\n    return str(eval(frame).dtypes)\\n\\ndef dataframe_hash(var):\\n    # Return a hash including the column names and number of rows\\n    df = eval(var)\\n    if isinstance(df, __pandas.core.series.Series):\\n        return hashlib.sha256(f\"{var}-{df.name},{len(df)}\".encode(\\'utf-8\\')).hexdigest()\\n    return hashlib.sha256(f\"{var}-{\\',\\'.join(df.columns)},{len(df)}\".encode(\\'utf-8\\')).hexdigest()\\n\\ndef get_dataframes():\\n    if __pandas is None:\\n        return []\\n    user = getpass.getuser()\\n    values = get_ipython().run_line_magic(\\'who_ls\\', \\'\\')\\n    dataframes = [\\n        {\\n            \"name\": var,\\n            \"type\": type(eval(var)).__name__,\\n            \"hash\": dataframe_hash(var),\\n            \"cols\": dataframe_columns(var),\\n            \"dtypesStr\": dtypes_str(var),\\n        }\\n        for var in values if is_data_frame(var)\\n    ]\\n    result = {\"dataframes\": dataframes, \"user\": user}\\n    return json.dumps(result, ensure_ascii=False)\\n\\n\\nget_dataframes()',\n",
       " 'name1 = \"NEDPGD\"\\nname2 = \"NEDPGD\"\\nprint(\"name1: \",id(name1))\\nprint(\"name2: \",id(name2))',\n",
       " 'import json\\nimport getpass\\nimport hashlib\\n\\ndef import_pandas_safely():\\n    try:\\n        return __import__(\\'pandas\\')\\n    except ImportError:\\n        return False\\n\\n\\n__pandas = import_pandas_safely()\\n\\n\\ndef is_data_frame(v: str):\\n    obj = eval(v)\\n    if  isinstance(obj, __pandas.core.frame.DataFrame) or isinstance(obj, __pandas.core.series.Series):\\n        return True\\n\\n\\ndef dataframe_columns(var):\\n    df = eval(var)\\n    if isinstance(df, __pandas.core.series.Series):\\n        return [[df.name, str(df.dtype)]]\\n    return list(map(lambda col: [col, str(df[col].dtype)], df.columns))\\n\\n\\ndef dtypes_str(frame):\\n    return str(eval(frame).dtypes)\\n\\ndef dataframe_hash(var):\\n    # Return a hash including the column names and number of rows\\n    df = eval(var)\\n    if isinstance(df, __pandas.core.series.Series):\\n        return hashlib.sha256(f\"{var}-{df.name},{len(df)}\".encode(\\'utf-8\\')).hexdigest()\\n    return hashlib.sha256(f\"{var}-{\\',\\'.join(df.columns)},{len(df)}\".encode(\\'utf-8\\')).hexdigest()\\n\\ndef get_dataframes():\\n    if __pandas is None:\\n        return []\\n    user = getpass.getuser()\\n    values = get_ipython().run_line_magic(\\'who_ls\\', \\'\\')\\n    dataframes = [\\n        {\\n            \"name\": var,\\n            \"type\": type(eval(var)).__name__,\\n            \"hash\": dataframe_hash(var),\\n            \"cols\": dataframe_columns(var),\\n            \"dtypesStr\": dtypes_str(var),\\n        }\\n        for var in values if is_data_frame(var)\\n    ]\\n    result = {\"dataframes\": dataframes, \"user\": user}\\n    return json.dumps(result, ensure_ascii=False)\\n\\n\\nget_dataframes()',\n",
       " 'import json\\nimport getpass\\nimport hashlib\\n\\ndef import_pandas_safely():\\n    try:\\n        return __import__(\\'pandas\\')\\n    except ImportError:\\n        return False\\n\\n\\n__pandas = import_pandas_safely()\\n\\n\\ndef is_data_frame(v: str):\\n    obj = eval(v)\\n    if  isinstance(obj, __pandas.core.frame.DataFrame) or isinstance(obj, __pandas.core.series.Series):\\n        return True\\n\\n\\ndef dataframe_columns(var):\\n    df = eval(var)\\n    if isinstance(df, __pandas.core.series.Series):\\n        return [[df.name, str(df.dtype)]]\\n    return list(map(lambda col: [col, str(df[col].dtype)], df.columns))\\n\\n\\ndef dtypes_str(frame):\\n    return str(eval(frame).dtypes)\\n\\ndef dataframe_hash(var):\\n    # Return a hash including the column names and number of rows\\n    df = eval(var)\\n    if isinstance(df, __pandas.core.series.Series):\\n        return hashlib.sha256(f\"{var}-{df.name},{len(df)}\".encode(\\'utf-8\\')).hexdigest()\\n    return hashlib.sha256(f\"{var}-{\\',\\'.join(df.columns)},{len(df)}\".encode(\\'utf-8\\')).hexdigest()\\n\\ndef get_dataframes():\\n    if __pandas is None:\\n        return []\\n    user = getpass.getuser()\\n    values = get_ipython().run_line_magic(\\'who_ls\\', \\'\\')\\n    dataframes = [\\n        {\\n            \"name\": var,\\n            \"type\": type(eval(var)).__name__,\\n            \"hash\": dataframe_hash(var),\\n            \"cols\": dataframe_columns(var),\\n            \"dtypesStr\": dtypes_str(var),\\n        }\\n        for var in values if is_data_frame(var)\\n    ]\\n    result = {\"dataframes\": dataframes, \"user\": user}\\n    return json.dumps(result, ensure_ascii=False)\\n\\n\\nget_dataframes()',\n",
       " 'x = 19\\ny = 100\\nprint(x+y)',\n",
       " 'import json\\nimport getpass\\nimport hashlib\\n\\ndef import_pandas_safely():\\n    try:\\n        return __import__(\\'pandas\\')\\n    except ImportError:\\n        return False\\n\\n\\n__pandas = import_pandas_safely()\\n\\n\\ndef is_data_frame(v: str):\\n    obj = eval(v)\\n    if  isinstance(obj, __pandas.core.frame.DataFrame) or isinstance(obj, __pandas.core.series.Series):\\n        return True\\n\\n\\ndef dataframe_columns(var):\\n    df = eval(var)\\n    if isinstance(df, __pandas.core.series.Series):\\n        return [[df.name, str(df.dtype)]]\\n    return list(map(lambda col: [col, str(df[col].dtype)], df.columns))\\n\\n\\ndef dtypes_str(frame):\\n    return str(eval(frame).dtypes)\\n\\ndef dataframe_hash(var):\\n    # Return a hash including the column names and number of rows\\n    df = eval(var)\\n    if isinstance(df, __pandas.core.series.Series):\\n        return hashlib.sha256(f\"{var}-{df.name},{len(df)}\".encode(\\'utf-8\\')).hexdigest()\\n    return hashlib.sha256(f\"{var}-{\\',\\'.join(df.columns)},{len(df)}\".encode(\\'utf-8\\')).hexdigest()\\n\\ndef get_dataframes():\\n    if __pandas is None:\\n        return []\\n    user = getpass.getuser()\\n    values = get_ipython().run_line_magic(\\'who_ls\\', \\'\\')\\n    dataframes = [\\n        {\\n            \"name\": var,\\n            \"type\": type(eval(var)).__name__,\\n            \"hash\": dataframe_hash(var),\\n            \"cols\": dataframe_columns(var),\\n            \"dtypesStr\": dtypes_str(var),\\n        }\\n        for var in values if is_data_frame(var)\\n    ]\\n    result = {\"dataframes\": dataframes, \"user\": user}\\n    return json.dumps(result, ensure_ascii=False)\\n\\n\\nget_dataframes()',\n",
       " 'x = 19\\ny = 100\\nprint(x+y)\\nprint(x-y)\\nprint(x*y)\\nprint(y%x)\\nprint(y//x)\\nprint(y**x)',\n",
       " 'import json\\nimport getpass\\nimport hashlib\\n\\ndef import_pandas_safely():\\n    try:\\n        return __import__(\\'pandas\\')\\n    except ImportError:\\n        return False\\n\\n\\n__pandas = import_pandas_safely()\\n\\n\\ndef is_data_frame(v: str):\\n    obj = eval(v)\\n    if  isinstance(obj, __pandas.core.frame.DataFrame) or isinstance(obj, __pandas.core.series.Series):\\n        return True\\n\\n\\ndef dataframe_columns(var):\\n    df = eval(var)\\n    if isinstance(df, __pandas.core.series.Series):\\n        return [[df.name, str(df.dtype)]]\\n    return list(map(lambda col: [col, str(df[col].dtype)], df.columns))\\n\\n\\ndef dtypes_str(frame):\\n    return str(eval(frame).dtypes)\\n\\ndef dataframe_hash(var):\\n    # Return a hash including the column names and number of rows\\n    df = eval(var)\\n    if isinstance(df, __pandas.core.series.Series):\\n        return hashlib.sha256(f\"{var}-{df.name},{len(df)}\".encode(\\'utf-8\\')).hexdigest()\\n    return hashlib.sha256(f\"{var}-{\\',\\'.join(df.columns)},{len(df)}\".encode(\\'utf-8\\')).hexdigest()\\n\\ndef get_dataframes():\\n    if __pandas is None:\\n        return []\\n    user = getpass.getuser()\\n    values = get_ipython().run_line_magic(\\'who_ls\\', \\'\\')\\n    dataframes = [\\n        {\\n            \"name\": var,\\n            \"type\": type(eval(var)).__name__,\\n            \"hash\": dataframe_hash(var),\\n            \"cols\": dataframe_columns(var),\\n            \"dtypesStr\": dtypes_str(var),\\n        }\\n        for var in values if is_data_frame(var)\\n    ]\\n    result = {\"dataframes\": dataframes, \"user\": user}\\n    return json.dumps(result, ensure_ascii=False)\\n\\n\\nget_dataframes()',\n",
       " 'x = 19\\ny = 100\\nprint(x+y)\\nprint(x-y)\\nprint(x*y) \\nprint(y%x) # remainder\\nprint(y//x) # floor division\\nprint(y**x) # exponent 100^19',\n",
       " 'import json\\nimport getpass\\nimport hashlib\\n\\ndef import_pandas_safely():\\n    try:\\n        return __import__(\\'pandas\\')\\n    except ImportError:\\n        return False\\n\\n\\n__pandas = import_pandas_safely()\\n\\n\\ndef is_data_frame(v: str):\\n    obj = eval(v)\\n    if  isinstance(obj, __pandas.core.frame.DataFrame) or isinstance(obj, __pandas.core.series.Series):\\n        return True\\n\\n\\ndef dataframe_columns(var):\\n    df = eval(var)\\n    if isinstance(df, __pandas.core.series.Series):\\n        return [[df.name, str(df.dtype)]]\\n    return list(map(lambda col: [col, str(df[col].dtype)], df.columns))\\n\\n\\ndef dtypes_str(frame):\\n    return str(eval(frame).dtypes)\\n\\ndef dataframe_hash(var):\\n    # Return a hash including the column names and number of rows\\n    df = eval(var)\\n    if isinstance(df, __pandas.core.series.Series):\\n        return hashlib.sha256(f\"{var}-{df.name},{len(df)}\".encode(\\'utf-8\\')).hexdigest()\\n    return hashlib.sha256(f\"{var}-{\\',\\'.join(df.columns)},{len(df)}\".encode(\\'utf-8\\')).hexdigest()\\n\\ndef get_dataframes():\\n    if __pandas is None:\\n        return []\\n    user = getpass.getuser()\\n    values = get_ipython().run_line_magic(\\'who_ls\\', \\'\\')\\n    dataframes = [\\n        {\\n            \"name\": var,\\n            \"type\": type(eval(var)).__name__,\\n            \"hash\": dataframe_hash(var),\\n            \"cols\": dataframe_columns(var),\\n            \"dtypesStr\": dtypes_str(var),\\n        }\\n        for var in values if is_data_frame(var)\\n    ]\\n    result = {\"dataframes\": dataframes, \"user\": user}\\n    return json.dumps(result, ensure_ascii=False)\\n\\n\\nget_dataframes()',\n",
       " 'import json\\nimport getpass\\nimport hashlib\\n\\ndef import_pandas_safely():\\n    try:\\n        return __import__(\\'pandas\\')\\n    except ImportError:\\n        return False\\n\\n\\n__pandas = import_pandas_safely()\\n\\n\\ndef is_data_frame(v: str):\\n    obj = eval(v)\\n    if  isinstance(obj, __pandas.core.frame.DataFrame) or isinstance(obj, __pandas.core.series.Series):\\n        return True\\n\\n\\ndef dataframe_columns(var):\\n    df = eval(var)\\n    if isinstance(df, __pandas.core.series.Series):\\n        return [[df.name, str(df.dtype)]]\\n    return list(map(lambda col: [col, str(df[col].dtype)], df.columns))\\n\\n\\ndef dtypes_str(frame):\\n    return str(eval(frame).dtypes)\\n\\ndef dataframe_hash(var):\\n    # Return a hash including the column names and number of rows\\n    df = eval(var)\\n    if isinstance(df, __pandas.core.series.Series):\\n        return hashlib.sha256(f\"{var}-{df.name},{len(df)}\".encode(\\'utf-8\\')).hexdigest()\\n    return hashlib.sha256(f\"{var}-{\\',\\'.join(df.columns)},{len(df)}\".encode(\\'utf-8\\')).hexdigest()\\n\\ndef get_dataframes():\\n    if __pandas is None:\\n        return []\\n    user = getpass.getuser()\\n    values = get_ipython().run_line_magic(\\'who_ls\\', \\'\\')\\n    dataframes = [\\n        {\\n            \"name\": var,\\n            \"type\": type(eval(var)).__name__,\\n            \"hash\": dataframe_hash(var),\\n            \"cols\": dataframe_columns(var),\\n            \"dtypesStr\": dtypes_str(var),\\n        }\\n        for var in values if is_data_frame(var)\\n    ]\\n    result = {\"dataframes\": dataframes, \"user\": user}\\n    return json.dumps(result, ensure_ascii=False)\\n\\n\\nget_dataframes()',\n",
       " 'age = 40\\nprint(age)',\n",
       " 'import json\\nimport getpass\\nimport hashlib\\n\\ndef import_pandas_safely():\\n    try:\\n        return __import__(\\'pandas\\')\\n    except ImportError:\\n        return False\\n\\n\\n__pandas = import_pandas_safely()\\n\\n\\ndef is_data_frame(v: str):\\n    obj = eval(v)\\n    if  isinstance(obj, __pandas.core.frame.DataFrame) or isinstance(obj, __pandas.core.series.Series):\\n        return True\\n\\n\\ndef dataframe_columns(var):\\n    df = eval(var)\\n    if isinstance(df, __pandas.core.series.Series):\\n        return [[df.name, str(df.dtype)]]\\n    return list(map(lambda col: [col, str(df[col].dtype)], df.columns))\\n\\n\\ndef dtypes_str(frame):\\n    return str(eval(frame).dtypes)\\n\\ndef dataframe_hash(var):\\n    # Return a hash including the column names and number of rows\\n    df = eval(var)\\n    if isinstance(df, __pandas.core.series.Series):\\n        return hashlib.sha256(f\"{var}-{df.name},{len(df)}\".encode(\\'utf-8\\')).hexdigest()\\n    return hashlib.sha256(f\"{var}-{\\',\\'.join(df.columns)},{len(df)}\".encode(\\'utf-8\\')).hexdigest()\\n\\ndef get_dataframes():\\n    if __pandas is None:\\n        return []\\n    user = getpass.getuser()\\n    values = get_ipython().run_line_magic(\\'who_ls\\', \\'\\')\\n    dataframes = [\\n        {\\n            \"name\": var,\\n            \"type\": type(eval(var)).__name__,\\n            \"hash\": dataframe_hash(var),\\n            \"cols\": dataframe_columns(var),\\n            \"dtypesStr\": dtypes_str(var),\\n        }\\n        for var in values if is_data_frame(var)\\n    ]\\n    result = {\"dataframes\": dataframes, \"user\": user}\\n    return json.dumps(result, ensure_ascii=False)\\n\\n\\nget_dataframes()',\n",
       " 'age += 40\\nprint(age)',\n",
       " 'import json\\nimport getpass\\nimport hashlib\\n\\ndef import_pandas_safely():\\n    try:\\n        return __import__(\\'pandas\\')\\n    except ImportError:\\n        return False\\n\\n\\n__pandas = import_pandas_safely()\\n\\n\\ndef is_data_frame(v: str):\\n    obj = eval(v)\\n    if  isinstance(obj, __pandas.core.frame.DataFrame) or isinstance(obj, __pandas.core.series.Series):\\n        return True\\n\\n\\ndef dataframe_columns(var):\\n    df = eval(var)\\n    if isinstance(df, __pandas.core.series.Series):\\n        return [[df.name, str(df.dtype)]]\\n    return list(map(lambda col: [col, str(df[col].dtype)], df.columns))\\n\\n\\ndef dtypes_str(frame):\\n    return str(eval(frame).dtypes)\\n\\ndef dataframe_hash(var):\\n    # Return a hash including the column names and number of rows\\n    df = eval(var)\\n    if isinstance(df, __pandas.core.series.Series):\\n        return hashlib.sha256(f\"{var}-{df.name},{len(df)}\".encode(\\'utf-8\\')).hexdigest()\\n    return hashlib.sha256(f\"{var}-{\\',\\'.join(df.columns)},{len(df)}\".encode(\\'utf-8\\')).hexdigest()\\n\\ndef get_dataframes():\\n    if __pandas is None:\\n        return []\\n    user = getpass.getuser()\\n    values = get_ipython().run_line_magic(\\'who_ls\\', \\'\\')\\n    dataframes = [\\n        {\\n            \"name\": var,\\n            \"type\": type(eval(var)).__name__,\\n            \"hash\": dataframe_hash(var),\\n            \"cols\": dataframe_columns(var),\\n            \"dtypesStr\": dtypes_str(var),\\n        }\\n        for var in values if is_data_frame(var)\\n    ]\\n    result = {\"dataframes\": dataframes, \"user\": user}\\n    return json.dumps(result, ensure_ascii=False)\\n\\n\\nget_dataframes()',\n",
       " 'age -= 5\\nprint(age)',\n",
       " 'import json\\nimport getpass\\nimport hashlib\\n\\ndef import_pandas_safely():\\n    try:\\n        return __import__(\\'pandas\\')\\n    except ImportError:\\n        return False\\n\\n\\n__pandas = import_pandas_safely()\\n\\n\\ndef is_data_frame(v: str):\\n    obj = eval(v)\\n    if  isinstance(obj, __pandas.core.frame.DataFrame) or isinstance(obj, __pandas.core.series.Series):\\n        return True\\n\\n\\ndef dataframe_columns(var):\\n    df = eval(var)\\n    if isinstance(df, __pandas.core.series.Series):\\n        return [[df.name, str(df.dtype)]]\\n    return list(map(lambda col: [col, str(df[col].dtype)], df.columns))\\n\\n\\ndef dtypes_str(frame):\\n    return str(eval(frame).dtypes)\\n\\ndef dataframe_hash(var):\\n    # Return a hash including the column names and number of rows\\n    df = eval(var)\\n    if isinstance(df, __pandas.core.series.Series):\\n        return hashlib.sha256(f\"{var}-{df.name},{len(df)}\".encode(\\'utf-8\\')).hexdigest()\\n    return hashlib.sha256(f\"{var}-{\\',\\'.join(df.columns)},{len(df)}\".encode(\\'utf-8\\')).hexdigest()\\n\\ndef get_dataframes():\\n    if __pandas is None:\\n        return []\\n    user = getpass.getuser()\\n    values = get_ipython().run_line_magic(\\'who_ls\\', \\'\\')\\n    dataframes = [\\n        {\\n            \"name\": var,\\n            \"type\": type(eval(var)).__name__,\\n            \"hash\": dataframe_hash(var),\\n            \"cols\": dataframe_columns(var),\\n            \"dtypesStr\": dtypes_str(var),\\n        }\\n        for var in values if is_data_frame(var)\\n    ]\\n    result = {\"dataframes\": dataframes, \"user\": user}\\n    return json.dumps(result, ensure_ascii=False)\\n\\n\\nget_dataframes()',\n",
       " 'import json\\nimport getpass\\nimport hashlib\\n\\ndef import_pandas_safely():\\n    try:\\n        return __import__(\\'pandas\\')\\n    except ImportError:\\n        return False\\n\\n\\n__pandas = import_pandas_safely()\\n\\n\\ndef is_data_frame(v: str):\\n    obj = eval(v)\\n    if  isinstance(obj, __pandas.core.frame.DataFrame) or isinstance(obj, __pandas.core.series.Series):\\n        return True\\n\\n\\ndef dataframe_columns(var):\\n    df = eval(var)\\n    if isinstance(df, __pandas.core.series.Series):\\n        return [[df.name, str(df.dtype)]]\\n    return list(map(lambda col: [col, str(df[col].dtype)], df.columns))\\n\\n\\ndef dtypes_str(frame):\\n    return str(eval(frame).dtypes)\\n\\ndef dataframe_hash(var):\\n    # Return a hash including the column names and number of rows\\n    df = eval(var)\\n    if isinstance(df, __pandas.core.series.Series):\\n        return hashlib.sha256(f\"{var}-{df.name},{len(df)}\".encode(\\'utf-8\\')).hexdigest()\\n    return hashlib.sha256(f\"{var}-{\\',\\'.join(df.columns)},{len(df)}\".encode(\\'utf-8\\')).hexdigest()\\n\\ndef get_dataframes():\\n    if __pandas is None:\\n        return []\\n    user = getpass.getuser()\\n    values = get_ipython().run_line_magic(\\'who_ls\\', \\'\\')\\n    dataframes = [\\n        {\\n            \"name\": var,\\n            \"type\": type(eval(var)).__name__,\\n            \"hash\": dataframe_hash(var),\\n            \"cols\": dataframe_columns(var),\\n            \"dtypesStr\": dtypes_str(var),\\n        }\\n        for var in values if is_data_frame(var)\\n    ]\\n    result = {\"dataframes\": dataframes, \"user\": user}\\n    return json.dumps(result, ensure_ascii=False)\\n\\n\\nget_dataframes()',\n",
       " 'import json\\nimport getpass\\nimport hashlib\\n\\ndef import_pandas_safely():\\n    try:\\n        return __import__(\\'pandas\\')\\n    except ImportError:\\n        return False\\n\\n\\n__pandas = import_pandas_safely()\\n\\n\\ndef is_data_frame(v: str):\\n    obj = eval(v)\\n    if  isinstance(obj, __pandas.core.frame.DataFrame) or isinstance(obj, __pandas.core.series.Series):\\n        return True\\n\\n\\ndef dataframe_columns(var):\\n    df = eval(var)\\n    if isinstance(df, __pandas.core.series.Series):\\n        return [[df.name, str(df.dtype)]]\\n    return list(map(lambda col: [col, str(df[col].dtype)], df.columns))\\n\\n\\ndef dtypes_str(frame):\\n    return str(eval(frame).dtypes)\\n\\ndef dataframe_hash(var):\\n    # Return a hash including the column names and number of rows\\n    df = eval(var)\\n    if isinstance(df, __pandas.core.series.Series):\\n        return hashlib.sha256(f\"{var}-{df.name},{len(df)}\".encode(\\'utf-8\\')).hexdigest()\\n    return hashlib.sha256(f\"{var}-{\\',\\'.join(df.columns)},{len(df)}\".encode(\\'utf-8\\')).hexdigest()\\n\\ndef get_dataframes():\\n    if __pandas is None:\\n        return []\\n    user = getpass.getuser()\\n    values = get_ipython().run_line_magic(\\'who_ls\\', \\'\\')\\n    dataframes = [\\n        {\\n            \"name\": var,\\n            \"type\": type(eval(var)).__name__,\\n            \"hash\": dataframe_hash(var),\\n            \"cols\": dataframe_columns(var),\\n            \"dtypesStr\": dtypes_str(var),\\n        }\\n        for var in values if is_data_frame(var)\\n    ]\\n    result = {\"dataframes\": dataframes, \"user\": user}\\n    return json.dumps(result, ensure_ascii=False)\\n\\n\\nget_dataframes()',\n",
       " 'import json\\nimport getpass\\nimport hashlib\\n\\ndef import_pandas_safely():\\n    try:\\n        return __import__(\\'pandas\\')\\n    except ImportError:\\n        return False\\n\\n\\n__pandas = import_pandas_safely()\\n\\n\\ndef is_data_frame(v: str):\\n    obj = eval(v)\\n    if  isinstance(obj, __pandas.core.frame.DataFrame) or isinstance(obj, __pandas.core.series.Series):\\n        return True\\n\\n\\ndef dataframe_columns(var):\\n    df = eval(var)\\n    if isinstance(df, __pandas.core.series.Series):\\n        return [[df.name, str(df.dtype)]]\\n    return list(map(lambda col: [col, str(df[col].dtype)], df.columns))\\n\\n\\ndef dtypes_str(frame):\\n    return str(eval(frame).dtypes)\\n\\ndef dataframe_hash(var):\\n    # Return a hash including the column names and number of rows\\n    df = eval(var)\\n    if isinstance(df, __pandas.core.series.Series):\\n        return hashlib.sha256(f\"{var}-{df.name},{len(df)}\".encode(\\'utf-8\\')).hexdigest()\\n    return hashlib.sha256(f\"{var}-{\\',\\'.join(df.columns)},{len(df)}\".encode(\\'utf-8\\')).hexdigest()\\n\\ndef get_dataframes():\\n    if __pandas is None:\\n        return []\\n    user = getpass.getuser()\\n    values = get_ipython().run_line_magic(\\'who_ls\\', \\'\\')\\n    dataframes = [\\n        {\\n            \"name\": var,\\n            \"type\": type(eval(var)).__name__,\\n            \"hash\": dataframe_hash(var),\\n            \"cols\": dataframe_columns(var),\\n            \"dtypesStr\": dtypes_str(var),\\n        }\\n        for var in values if is_data_frame(var)\\n    ]\\n    result = {\"dataframes\": dataframes, \"user\": user}\\n    return json.dumps(result, ensure_ascii=False)\\n\\n\\nget_dataframes()',\n",
       " 'a = 100\\nb = 100\\nprint(a==b)\\n# Checks wether the 2 values are euql or not\\n# output of comparision operators will always be boolean',\n",
       " 'import json\\nimport getpass\\nimport hashlib\\n\\ndef import_pandas_safely():\\n    try:\\n        return __import__(\\'pandas\\')\\n    except ImportError:\\n        return False\\n\\n\\n__pandas = import_pandas_safely()\\n\\n\\ndef is_data_frame(v: str):\\n    obj = eval(v)\\n    if  isinstance(obj, __pandas.core.frame.DataFrame) or isinstance(obj, __pandas.core.series.Series):\\n        return True\\n\\n\\ndef dataframe_columns(var):\\n    df = eval(var)\\n    if isinstance(df, __pandas.core.series.Series):\\n        return [[df.name, str(df.dtype)]]\\n    return list(map(lambda col: [col, str(df[col].dtype)], df.columns))\\n\\n\\ndef dtypes_str(frame):\\n    return str(eval(frame).dtypes)\\n\\ndef dataframe_hash(var):\\n    # Return a hash including the column names and number of rows\\n    df = eval(var)\\n    if isinstance(df, __pandas.core.series.Series):\\n        return hashlib.sha256(f\"{var}-{df.name},{len(df)}\".encode(\\'utf-8\\')).hexdigest()\\n    return hashlib.sha256(f\"{var}-{\\',\\'.join(df.columns)},{len(df)}\".encode(\\'utf-8\\')).hexdigest()\\n\\ndef get_dataframes():\\n    if __pandas is None:\\n        return []\\n    user = getpass.getuser()\\n    values = get_ipython().run_line_magic(\\'who_ls\\', \\'\\')\\n    dataframes = [\\n        {\\n            \"name\": var,\\n            \"type\": type(eval(var)).__name__,\\n            \"hash\": dataframe_hash(var),\\n            \"cols\": dataframe_columns(var),\\n            \"dtypesStr\": dtypes_str(var),\\n        }\\n        for var in values if is_data_frame(var)\\n    ]\\n    result = {\"dataframes\": dataframes, \"user\": user}\\n    return json.dumps(result, ensure_ascii=False)\\n\\n\\nget_dataframes()',\n",
       " 'print(a>b)\\nprint(a<b)\\nprint(a<=b)\\nprint(a!=b)',\n",
       " 'import json\\nimport getpass\\nimport hashlib\\n\\ndef import_pandas_safely():\\n    try:\\n        return __import__(\\'pandas\\')\\n    except ImportError:\\n        return False\\n\\n\\n__pandas = import_pandas_safely()\\n\\n\\ndef is_data_frame(v: str):\\n    obj = eval(v)\\n    if  isinstance(obj, __pandas.core.frame.DataFrame) or isinstance(obj, __pandas.core.series.Series):\\n        return True\\n\\n\\ndef dataframe_columns(var):\\n    df = eval(var)\\n    if isinstance(df, __pandas.core.series.Series):\\n        return [[df.name, str(df.dtype)]]\\n    return list(map(lambda col: [col, str(df[col].dtype)], df.columns))\\n\\n\\ndef dtypes_str(frame):\\n    return str(eval(frame).dtypes)\\n\\ndef dataframe_hash(var):\\n    # Return a hash including the column names and number of rows\\n    df = eval(var)\\n    if isinstance(df, __pandas.core.series.Series):\\n        return hashlib.sha256(f\"{var}-{df.name},{len(df)}\".encode(\\'utf-8\\')).hexdigest()\\n    return hashlib.sha256(f\"{var}-{\\',\\'.join(df.columns)},{len(df)}\".encode(\\'utf-8\\')).hexdigest()\\n\\ndef get_dataframes():\\n    if __pandas is None:\\n        return []\\n    user = getpass.getuser()\\n    values = get_ipython().run_line_magic(\\'who_ls\\', \\'\\')\\n    dataframes = [\\n        {\\n            \"name\": var,\\n            \"type\": type(eval(var)).__name__,\\n            \"hash\": dataframe_hash(var),\\n            \"cols\": dataframe_columns(var),\\n            \"dtypesStr\": dtypes_str(var),\\n        }\\n        for var in values if is_data_frame(var)\\n    ]\\n    result = {\"dataframes\": dataframes, \"user\": user}\\n    return json.dumps(result, ensure_ascii=False)\\n\\n\\nget_dataframes()',\n",
       " 'print(a>b)\\nprint(a<b)\\nprint(a<=b)\\nprint(a>=b)\\nprint(a!=b)\\nprint(',\n",
       " 'import json\\nimport getpass\\nimport hashlib\\n\\ndef import_pandas_safely():\\n    try:\\n        return __import__(\\'pandas\\')\\n    except ImportError:\\n        return False\\n\\n\\n__pandas = import_pandas_safely()\\n\\n\\ndef is_data_frame(v: str):\\n    obj = eval(v)\\n    if  isinstance(obj, __pandas.core.frame.DataFrame) or isinstance(obj, __pandas.core.series.Series):\\n        return True\\n\\n\\ndef dataframe_columns(var):\\n    df = eval(var)\\n    if isinstance(df, __pandas.core.series.Series):\\n        return [[df.name, str(df.dtype)]]\\n    return list(map(lambda col: [col, str(df[col].dtype)], df.columns))\\n\\n\\ndef dtypes_str(frame):\\n    return str(eval(frame).dtypes)\\n\\ndef dataframe_hash(var):\\n    # Return a hash including the column names and number of rows\\n    df = eval(var)\\n    if isinstance(df, __pandas.core.series.Series):\\n        return hashlib.sha256(f\"{var}-{df.name},{len(df)}\".encode(\\'utf-8\\')).hexdigest()\\n    return hashlib.sha256(f\"{var}-{\\',\\'.join(df.columns)},{len(df)}\".encode(\\'utf-8\\')).hexdigest()\\n\\ndef get_dataframes():\\n    if __pandas is None:\\n        return []\\n    user = getpass.getuser()\\n    values = get_ipython().run_line_magic(\\'who_ls\\', \\'\\')\\n    dataframes = [\\n        {\\n            \"name\": var,\\n            \"type\": type(eval(var)).__name__,\\n            \"hash\": dataframe_hash(var),\\n            \"cols\": dataframe_columns(var),\\n            \"dtypesStr\": dtypes_str(var),\\n        }\\n        for var in values if is_data_frame(var)\\n    ]\\n    result = {\"dataframes\": dataframes, \"user\": user}\\n    return json.dumps(result, ensure_ascii=False)\\n\\n\\nget_dataframes()',\n",
       " 'print(a>b)\\nprint(a<b)\\nprint(a<=b)\\nprint(a>=b)\\nprint(a!=b)',\n",
       " 'import json\\nimport getpass\\nimport hashlib\\n\\ndef import_pandas_safely():\\n    try:\\n        return __import__(\\'pandas\\')\\n    except ImportError:\\n        return False\\n\\n\\n__pandas = import_pandas_safely()\\n\\n\\ndef is_data_frame(v: str):\\n    obj = eval(v)\\n    if  isinstance(obj, __pandas.core.frame.DataFrame) or isinstance(obj, __pandas.core.series.Series):\\n        return True\\n\\n\\ndef dataframe_columns(var):\\n    df = eval(var)\\n    if isinstance(df, __pandas.core.series.Series):\\n        return [[df.name, str(df.dtype)]]\\n    return list(map(lambda col: [col, str(df[col].dtype)], df.columns))\\n\\n\\ndef dtypes_str(frame):\\n    return str(eval(frame).dtypes)\\n\\ndef dataframe_hash(var):\\n    # Return a hash including the column names and number of rows\\n    df = eval(var)\\n    if isinstance(df, __pandas.core.series.Series):\\n        return hashlib.sha256(f\"{var}-{df.name},{len(df)}\".encode(\\'utf-8\\')).hexdigest()\\n    return hashlib.sha256(f\"{var}-{\\',\\'.join(df.columns)},{len(df)}\".encode(\\'utf-8\\')).hexdigest()\\n\\ndef get_dataframes():\\n    if __pandas is None:\\n        return []\\n    user = getpass.getuser()\\n    values = get_ipython().run_line_magic(\\'who_ls\\', \\'\\')\\n    dataframes = [\\n        {\\n            \"name\": var,\\n            \"type\": type(eval(var)).__name__,\\n            \"hash\": dataframe_hash(var),\\n            \"cols\": dataframe_columns(var),\\n            \"dtypesStr\": dtypes_str(var),\\n        }\\n        for var in values if is_data_frame(var)\\n    ]\\n    result = {\"dataframes\": dataframes, \"user\": user}\\n    return json.dumps(result, ensure_ascii=False)\\n\\n\\nget_dataframes()',\n",
       " 'a = \"100\"\\nb = \"19.524524\"\\nexpr = f\"{a}+{b}\"\\neval(expr)',\n",
       " 'import json\\nimport getpass\\nimport hashlib\\n\\ndef import_pandas_safely():\\n    try:\\n        return __import__(\\'pandas\\')\\n    except ImportError:\\n        return False\\n\\n\\n__pandas = import_pandas_safely()\\n\\n\\ndef is_data_frame(v: str):\\n    obj = eval(v)\\n    if  isinstance(obj, __pandas.core.frame.DataFrame) or isinstance(obj, __pandas.core.series.Series):\\n        return True\\n\\n\\ndef dataframe_columns(var):\\n    df = eval(var)\\n    if isinstance(df, __pandas.core.series.Series):\\n        return [[df.name, str(df.dtype)]]\\n    return list(map(lambda col: [col, str(df[col].dtype)], df.columns))\\n\\n\\ndef dtypes_str(frame):\\n    return str(eval(frame).dtypes)\\n\\ndef dataframe_hash(var):\\n    # Return a hash including the column names and number of rows\\n    df = eval(var)\\n    if isinstance(df, __pandas.core.series.Series):\\n        return hashlib.sha256(f\"{var}-{df.name},{len(df)}\".encode(\\'utf-8\\')).hexdigest()\\n    return hashlib.sha256(f\"{var}-{\\',\\'.join(df.columns)},{len(df)}\".encode(\\'utf-8\\')).hexdigest()\\n\\ndef get_dataframes():\\n    if __pandas is None:\\n        return []\\n    user = getpass.getuser()\\n    values = get_ipython().run_line_magic(\\'who_ls\\', \\'\\')\\n    dataframes = [\\n        {\\n            \"name\": var,\\n            \"type\": type(eval(var)).__name__,\\n            \"hash\": dataframe_hash(var),\\n            \"cols\": dataframe_columns(var),\\n            \"dtypesStr\": dtypes_str(var),\\n        }\\n        for var in values if is_data_frame(var)\\n    ]\\n    result = {\"dataframes\": dataframes, \"user\": user}\\n    return json.dumps(result, ensure_ascii=False)\\n\\n\\nget_dataframes()',\n",
       " 'a = \"100\"\\nb = \"19.524524\"\\nexpr = f\"{a}+{b}\"   # formatted string\\nprint(expr)\\neval(expr)',\n",
       " 'import json\\nimport getpass\\nimport hashlib\\n\\ndef import_pandas_safely():\\n    try:\\n        return __import__(\\'pandas\\')\\n    except ImportError:\\n        return False\\n\\n\\n__pandas = import_pandas_safely()\\n\\n\\ndef is_data_frame(v: str):\\n    obj = eval(v)\\n    if  isinstance(obj, __pandas.core.frame.DataFrame) or isinstance(obj, __pandas.core.series.Series):\\n        return True\\n\\n\\ndef dataframe_columns(var):\\n    df = eval(var)\\n    if isinstance(df, __pandas.core.series.Series):\\n        return [[df.name, str(df.dtype)]]\\n    return list(map(lambda col: [col, str(df[col].dtype)], df.columns))\\n\\n\\ndef dtypes_str(frame):\\n    return str(eval(frame).dtypes)\\n\\ndef dataframe_hash(var):\\n    # Return a hash including the column names and number of rows\\n    df = eval(var)\\n    if isinstance(df, __pandas.core.series.Series):\\n        return hashlib.sha256(f\"{var}-{df.name},{len(df)}\".encode(\\'utf-8\\')).hexdigest()\\n    return hashlib.sha256(f\"{var}-{\\',\\'.join(df.columns)},{len(df)}\".encode(\\'utf-8\\')).hexdigest()\\n\\ndef get_dataframes():\\n    if __pandas is None:\\n        return []\\n    user = getpass.getuser()\\n    values = get_ipython().run_line_magic(\\'who_ls\\', \\'\\')\\n    dataframes = [\\n        {\\n            \"name\": var,\\n            \"type\": type(eval(var)).__name__,\\n            \"hash\": dataframe_hash(var),\\n            \"cols\": dataframe_columns(var),\\n            \"dtypesStr\": dtypes_str(var),\\n        }\\n        for var in values if is_data_frame(var)\\n    ]\\n    result = {\"dataframes\": dataframes, \"user\": user}\\n    return json.dumps(result, ensure_ascii=False)\\n\\n\\nget_dataframes()',\n",
       " 'a = \"100\"\\nb = \"19.524524\"\\nexpr = f\"{a}+{b}\"   # formatted string\\nprint(expr)\\neval(expr) # Allows us to calculate strings if they habe numerical meaning',\n",
       " 'import json\\nimport getpass\\nimport hashlib\\n\\ndef import_pandas_safely():\\n    try:\\n        return __import__(\\'pandas\\')\\n    except ImportError:\\n        return False\\n\\n\\n__pandas = import_pandas_safely()\\n\\n\\ndef is_data_frame(v: str):\\n    obj = eval(v)\\n    if  isinstance(obj, __pandas.core.frame.DataFrame) or isinstance(obj, __pandas.core.series.Series):\\n        return True\\n\\n\\ndef dataframe_columns(var):\\n    df = eval(var)\\n    if isinstance(df, __pandas.core.series.Series):\\n        return [[df.name, str(df.dtype)]]\\n    return list(map(lambda col: [col, str(df[col].dtype)], df.columns))\\n\\n\\ndef dtypes_str(frame):\\n    return str(eval(frame).dtypes)\\n\\ndef dataframe_hash(var):\\n    # Return a hash including the column names and number of rows\\n    df = eval(var)\\n    if isinstance(df, __pandas.core.series.Series):\\n        return hashlib.sha256(f\"{var}-{df.name},{len(df)}\".encode(\\'utf-8\\')).hexdigest()\\n    return hashlib.sha256(f\"{var}-{\\',\\'.join(df.columns)},{len(df)}\".encode(\\'utf-8\\')).hexdigest()\\n\\ndef get_dataframes():\\n    if __pandas is None:\\n        return []\\n    user = getpass.getuser()\\n    values = get_ipython().run_line_magic(\\'who_ls\\', \\'\\')\\n    dataframes = [\\n        {\\n            \"name\": var,\\n            \"type\": type(eval(var)).__name__,\\n            \"hash\": dataframe_hash(var),\\n            \"cols\": dataframe_columns(var),\\n            \"dtypesStr\": dtypes_str(var),\\n        }\\n        for var in values if is_data_frame(var)\\n    ]\\n    result = {\"dataframes\": dataframes, \"user\": user}\\n    return json.dumps(result, ensure_ascii=False)\\n\\n\\nget_dataframes()',\n",
       " 'eval(\"19/24\")',\n",
       " 'import json\\nimport getpass\\nimport hashlib\\n\\ndef import_pandas_safely():\\n    try:\\n        return __import__(\\'pandas\\')\\n    except ImportError:\\n        return False\\n\\n\\n__pandas = import_pandas_safely()\\n\\n\\ndef is_data_frame(v: str):\\n    obj = eval(v)\\n    if  isinstance(obj, __pandas.core.frame.DataFrame) or isinstance(obj, __pandas.core.series.Series):\\n        return True\\n\\n\\ndef dataframe_columns(var):\\n    df = eval(var)\\n    if isinstance(df, __pandas.core.series.Series):\\n        return [[df.name, str(df.dtype)]]\\n    return list(map(lambda col: [col, str(df[col].dtype)], df.columns))\\n\\n\\ndef dtypes_str(frame):\\n    return str(eval(frame).dtypes)\\n\\ndef dataframe_hash(var):\\n    # Return a hash including the column names and number of rows\\n    df = eval(var)\\n    if isinstance(df, __pandas.core.series.Series):\\n        return hashlib.sha256(f\"{var}-{df.name},{len(df)}\".encode(\\'utf-8\\')).hexdigest()\\n    return hashlib.sha256(f\"{var}-{\\',\\'.join(df.columns)},{len(df)}\".encode(\\'utf-8\\')).hexdigest()\\n\\ndef get_dataframes():\\n    if __pandas is None:\\n        return []\\n    user = getpass.getuser()\\n    values = get_ipython().run_line_magic(\\'who_ls\\', \\'\\')\\n    dataframes = [\\n        {\\n            \"name\": var,\\n            \"type\": type(eval(var)).__name__,\\n            \"hash\": dataframe_hash(var),\\n            \"cols\": dataframe_columns(var),\\n            \"dtypesStr\": dtypes_str(var),\\n        }\\n        for var in values if is_data_frame(var)\\n    ]\\n    result = {\"dataframes\": dataframes, \"user\": user}\\n    return json.dumps(result, ensure_ascii=False)\\n\\n\\nget_dataframes()',\n",
       " 'equation = \"100 + 19 - 98 + 65 - (190/23) + 14.657\"',\n",
       " 'import json\\nimport getpass\\nimport hashlib\\n\\ndef import_pandas_safely():\\n    try:\\n        return __import__(\\'pandas\\')\\n    except ImportError:\\n        return False\\n\\n\\n__pandas = import_pandas_safely()\\n\\n\\ndef is_data_frame(v: str):\\n    obj = eval(v)\\n    if  isinstance(obj, __pandas.core.frame.DataFrame) or isinstance(obj, __pandas.core.series.Series):\\n        return True\\n\\n\\ndef dataframe_columns(var):\\n    df = eval(var)\\n    if isinstance(df, __pandas.core.series.Series):\\n        return [[df.name, str(df.dtype)]]\\n    return list(map(lambda col: [col, str(df[col].dtype)], df.columns))\\n\\n\\ndef dtypes_str(frame):\\n    return str(eval(frame).dtypes)\\n\\ndef dataframe_hash(var):\\n    # Return a hash including the column names and number of rows\\n    df = eval(var)\\n    if isinstance(df, __pandas.core.series.Series):\\n        return hashlib.sha256(f\"{var}-{df.name},{len(df)}\".encode(\\'utf-8\\')).hexdigest()\\n    return hashlib.sha256(f\"{var}-{\\',\\'.join(df.columns)},{len(df)}\".encode(\\'utf-8\\')).hexdigest()\\n\\ndef get_dataframes():\\n    if __pandas is None:\\n        return []\\n    user = getpass.getuser()\\n    values = get_ipython().run_line_magic(\\'who_ls\\', \\'\\')\\n    dataframes = [\\n        {\\n            \"name\": var,\\n            \"type\": type(eval(var)).__name__,\\n            \"hash\": dataframe_hash(var),\\n            \"cols\": dataframe_columns(var),\\n            \"dtypesStr\": dtypes_str(var),\\n        }\\n        for var in values if is_data_frame(var)\\n    ]\\n    result = {\"dataframes\": dataframes, \"user\": user}\\n    return json.dumps(result, ensure_ascii=False)\\n\\n\\nget_dataframes()',\n",
       " 'equation = \"100 + 19 - 98 + 65 - (190/23) + 14.657\"\\neval(equation)',\n",
       " 'import json\\nimport getpass\\nimport hashlib\\n\\ndef import_pandas_safely():\\n    try:\\n        return __import__(\\'pandas\\')\\n    except ImportError:\\n        return False\\n\\n\\n__pandas = import_pandas_safely()\\n\\n\\ndef is_data_frame(v: str):\\n    obj = eval(v)\\n    if  isinstance(obj, __pandas.core.frame.DataFrame) or isinstance(obj, __pandas.core.series.Series):\\n        return True\\n\\n\\ndef dataframe_columns(var):\\n    df = eval(var)\\n    if isinstance(df, __pandas.core.series.Series):\\n        return [[df.name, str(df.dtype)]]\\n    return list(map(lambda col: [col, str(df[col].dtype)], df.columns))\\n\\n\\ndef dtypes_str(frame):\\n    return str(eval(frame).dtypes)\\n\\ndef dataframe_hash(var):\\n    # Return a hash including the column names and number of rows\\n    df = eval(var)\\n    if isinstance(df, __pandas.core.series.Series):\\n        return hashlib.sha256(f\"{var}-{df.name},{len(df)}\".encode(\\'utf-8\\')).hexdigest()\\n    return hashlib.sha256(f\"{var}-{\\',\\'.join(df.columns)},{len(df)}\".encode(\\'utf-8\\')).hexdigest()\\n\\ndef get_dataframes():\\n    if __pandas is None:\\n        return []\\n    user = getpass.getuser()\\n    values = get_ipython().run_line_magic(\\'who_ls\\', \\'\\')\\n    dataframes = [\\n        {\\n            \"name\": var,\\n            \"type\": type(eval(var)).__name__,\\n            \"hash\": dataframe_hash(var),\\n            \"cols\": dataframe_columns(var),\\n            \"dtypesStr\": dtypes_str(var),\\n        }\\n        for var in values if is_data_frame(var)\\n    ]\\n    result = {\"dataframes\": dataframes, \"user\": user}\\n    return json.dumps(result, ensure_ascii=False)\\n\\n\\nget_dataframes()',\n",
       " 'equation = \"100 + 19 - 98 + 65 - (190*23) + 14.657\"\\neval(equation)',\n",
       " 'import json\\nimport getpass\\nimport hashlib\\n\\ndef import_pandas_safely():\\n    try:\\n        return __import__(\\'pandas\\')\\n    except ImportError:\\n        return False\\n\\n\\n__pandas = import_pandas_safely()\\n\\n\\ndef is_data_frame(v: str):\\n    obj = eval(v)\\n    if  isinstance(obj, __pandas.core.frame.DataFrame) or isinstance(obj, __pandas.core.series.Series):\\n        return True\\n\\n\\ndef dataframe_columns(var):\\n    df = eval(var)\\n    if isinstance(df, __pandas.core.series.Series):\\n        return [[df.name, str(df.dtype)]]\\n    return list(map(lambda col: [col, str(df[col].dtype)], df.columns))\\n\\n\\ndef dtypes_str(frame):\\n    return str(eval(frame).dtypes)\\n\\ndef dataframe_hash(var):\\n    # Return a hash including the column names and number of rows\\n    df = eval(var)\\n    if isinstance(df, __pandas.core.series.Series):\\n        return hashlib.sha256(f\"{var}-{df.name},{len(df)}\".encode(\\'utf-8\\')).hexdigest()\\n    return hashlib.sha256(f\"{var}-{\\',\\'.join(df.columns)},{len(df)}\".encode(\\'utf-8\\')).hexdigest()\\n\\ndef get_dataframes():\\n    if __pandas is None:\\n        return []\\n    user = getpass.getuser()\\n    values = get_ipython().run_line_magic(\\'who_ls\\', \\'\\')\\n    dataframes = [\\n        {\\n            \"name\": var,\\n            \"type\": type(eval(var)).__name__,\\n            \"hash\": dataframe_hash(var),\\n            \"cols\": dataframe_columns(var),\\n            \"dtypesStr\": dtypes_str(var),\\n        }\\n        for var in values if is_data_frame(var)\\n    ]\\n    result = {\"dataframes\": dataframes, \"user\": user}\\n    return json.dumps(result, ensure_ascii=False)\\n\\n\\nget_dataframes()',\n",
       " 'equation = \"10000 + 19 - 98 + 6500 - (190*23) + 14.657\"\\neval(equation)',\n",
       " 'import json\\nimport getpass\\nimport hashlib\\n\\ndef import_pandas_safely():\\n    try:\\n        return __import__(\\'pandas\\')\\n    except ImportError:\\n        return False\\n\\n\\n__pandas = import_pandas_safely()\\n\\n\\ndef is_data_frame(v: str):\\n    obj = eval(v)\\n    if  isinstance(obj, __pandas.core.frame.DataFrame) or isinstance(obj, __pandas.core.series.Series):\\n        return True\\n\\n\\ndef dataframe_columns(var):\\n    df = eval(var)\\n    if isinstance(df, __pandas.core.series.Series):\\n        return [[df.name, str(df.dtype)]]\\n    return list(map(lambda col: [col, str(df[col].dtype)], df.columns))\\n\\n\\ndef dtypes_str(frame):\\n    return str(eval(frame).dtypes)\\n\\ndef dataframe_hash(var):\\n    # Return a hash including the column names and number of rows\\n    df = eval(var)\\n    if isinstance(df, __pandas.core.series.Series):\\n        return hashlib.sha256(f\"{var}-{df.name},{len(df)}\".encode(\\'utf-8\\')).hexdigest()\\n    return hashlib.sha256(f\"{var}-{\\',\\'.join(df.columns)},{len(df)}\".encode(\\'utf-8\\')).hexdigest()\\n\\ndef get_dataframes():\\n    if __pandas is None:\\n        return []\\n    user = getpass.getuser()\\n    values = get_ipython().run_line_magic(\\'who_ls\\', \\'\\')\\n    dataframes = [\\n        {\\n            \"name\": var,\\n            \"type\": type(eval(var)).__name__,\\n            \"hash\": dataframe_hash(var),\\n            \"cols\": dataframe_columns(var),\\n            \"dtypesStr\": dtypes_str(var),\\n        }\\n        for var in values if is_data_frame(var)\\n    ]\\n    result = {\"dataframes\": dataframes, \"user\": user}\\n    return json.dumps(result, ensure_ascii=False)\\n\\n\\nget_dataframes()',\n",
       " 'name = str(input(\"Please enter your Institute name\"))\\nprint(f\"Hey, Your Institue name is {name}\")',\n",
       " 'import json\\nimport getpass\\nimport hashlib\\n\\ndef import_pandas_safely():\\n    try:\\n        return __import__(\\'pandas\\')\\n    except ImportError:\\n        return False\\n\\n\\n__pandas = import_pandas_safely()\\n\\n\\ndef is_data_frame(v: str):\\n    obj = eval(v)\\n    if  isinstance(obj, __pandas.core.frame.DataFrame) or isinstance(obj, __pandas.core.series.Series):\\n        return True\\n\\n\\ndef dataframe_columns(var):\\n    df = eval(var)\\n    if isinstance(df, __pandas.core.series.Series):\\n        return [[df.name, str(df.dtype)]]\\n    return list(map(lambda col: [col, str(df[col].dtype)], df.columns))\\n\\n\\ndef dtypes_str(frame):\\n    return str(eval(frame).dtypes)\\n\\ndef dataframe_hash(var):\\n    # Return a hash including the column names and number of rows\\n    df = eval(var)\\n    if isinstance(df, __pandas.core.series.Series):\\n        return hashlib.sha256(f\"{var}-{df.name},{len(df)}\".encode(\\'utf-8\\')).hexdigest()\\n    return hashlib.sha256(f\"{var}-{\\',\\'.join(df.columns)},{len(df)}\".encode(\\'utf-8\\')).hexdigest()\\n\\ndef get_dataframes():\\n    if __pandas is None:\\n        return []\\n    user = getpass.getuser()\\n    values = get_ipython().run_line_magic(\\'who_ls\\', \\'\\')\\n    dataframes = [\\n        {\\n            \"name\": var,\\n            \"type\": type(eval(var)).__name__,\\n            \"hash\": dataframe_hash(var),\\n            \"cols\": dataframe_columns(var),\\n            \"dtypesStr\": dtypes_str(var),\\n        }\\n        for var in values if is_data_frame(var)\\n    ]\\n    result = {\"dataframes\": dataframes, \"user\": user}\\n    return json.dumps(result, ensure_ascii=False)\\n\\n\\nget_dataframes()',\n",
       " 'name = float(input(\"Please enter your class name\"))\\nprint(f\"Hey, Your Institue name is {name}\")',\n",
       " 'import json\\nimport getpass\\nimport hashlib\\n\\ndef import_pandas_safely():\\n    try:\\n        return __import__(\\'pandas\\')\\n    except ImportError:\\n        return False\\n\\n\\n__pandas = import_pandas_safely()\\n\\n\\ndef is_data_frame(v: str):\\n    obj = eval(v)\\n    if  isinstance(obj, __pandas.core.frame.DataFrame) or isinstance(obj, __pandas.core.series.Series):\\n        return True\\n\\n\\ndef dataframe_columns(var):\\n    df = eval(var)\\n    if isinstance(df, __pandas.core.series.Series):\\n        return [[df.name, str(df.dtype)]]\\n    return list(map(lambda col: [col, str(df[col].dtype)], df.columns))\\n\\n\\ndef dtypes_str(frame):\\n    return str(eval(frame).dtypes)\\n\\ndef dataframe_hash(var):\\n    # Return a hash including the column names and number of rows\\n    df = eval(var)\\n    if isinstance(df, __pandas.core.series.Series):\\n        return hashlib.sha256(f\"{var}-{df.name},{len(df)}\".encode(\\'utf-8\\')).hexdigest()\\n    return hashlib.sha256(f\"{var}-{\\',\\'.join(df.columns)},{len(df)}\".encode(\\'utf-8\\')).hexdigest()\\n\\ndef get_dataframes():\\n    if __pandas is None:\\n        return []\\n    user = getpass.getuser()\\n    values = get_ipython().run_line_magic(\\'who_ls\\', \\'\\')\\n    dataframes = [\\n        {\\n            \"name\": var,\\n            \"type\": type(eval(var)).__name__,\\n            \"hash\": dataframe_hash(var),\\n            \"cols\": dataframe_columns(var),\\n            \"dtypesStr\": dtypes_str(var),\\n        }\\n        for var in values if is_data_frame(var)\\n    ]\\n    result = {\"dataframes\": dataframes, \"user\": user}\\n    return json.dumps(result, ensure_ascii=False)\\n\\n\\nget_dataframes()',\n",
       " 'name = float(input(\"Please enter your class name\"))\\nprint(f\"Hey, Your Institue name is {name}\")',\n",
       " 'import json\\nimport getpass\\nimport hashlib\\n\\ndef import_pandas_safely():\\n    try:\\n        return __import__(\\'pandas\\')\\n    except ImportError:\\n        return False\\n\\n\\n__pandas = import_pandas_safely()\\n\\n\\ndef is_data_frame(v: str):\\n    obj = eval(v)\\n    if  isinstance(obj, __pandas.core.frame.DataFrame) or isinstance(obj, __pandas.core.series.Series):\\n        return True\\n\\n\\ndef dataframe_columns(var):\\n    df = eval(var)\\n    if isinstance(df, __pandas.core.series.Series):\\n        return [[df.name, str(df.dtype)]]\\n    return list(map(lambda col: [col, str(df[col].dtype)], df.columns))\\n\\n\\ndef dtypes_str(frame):\\n    return str(eval(frame).dtypes)\\n\\ndef dataframe_hash(var):\\n    # Return a hash including the column names and number of rows\\n    df = eval(var)\\n    if isinstance(df, __pandas.core.series.Series):\\n        return hashlib.sha256(f\"{var}-{df.name},{len(df)}\".encode(\\'utf-8\\')).hexdigest()\\n    return hashlib.sha256(f\"{var}-{\\',\\'.join(df.columns)},{len(df)}\".encode(\\'utf-8\\')).hexdigest()\\n\\ndef get_dataframes():\\n    if __pandas is None:\\n        return []\\n    user = getpass.getuser()\\n    values = get_ipython().run_line_magic(\\'who_ls\\', \\'\\')\\n    dataframes = [\\n        {\\n            \"name\": var,\\n            \"type\": type(eval(var)).__name__,\\n            \"hash\": dataframe_hash(var),\\n            \"cols\": dataframe_columns(var),\\n            \"dtypesStr\": dtypes_str(var),\\n        }\\n        for var in values if is_data_frame(var)\\n    ]\\n    result = {\"dataframes\": dataframes, \"user\": user}\\n    return json.dumps(result, ensure_ascii=False)\\n\\n\\nget_dataframes()',\n",
       " 'name = float(input(\"Please enter your class name\"))\\nprint(f\"Hey, Your Institue name is {name}\")',\n",
       " 'import json\\nimport getpass\\nimport hashlib\\n\\ndef import_pandas_safely():\\n    try:\\n        return __import__(\\'pandas\\')\\n    except ImportError:\\n        return False\\n\\n\\n__pandas = import_pandas_safely()\\n\\n\\ndef is_data_frame(v: str):\\n    obj = eval(v)\\n    if  isinstance(obj, __pandas.core.frame.DataFrame) or isinstance(obj, __pandas.core.series.Series):\\n        return True\\n\\n\\ndef dataframe_columns(var):\\n    df = eval(var)\\n    if isinstance(df, __pandas.core.series.Series):\\n        return [[df.name, str(df.dtype)]]\\n    return list(map(lambda col: [col, str(df[col].dtype)], df.columns))\\n\\n\\ndef dtypes_str(frame):\\n    return str(eval(frame).dtypes)\\n\\ndef dataframe_hash(var):\\n    # Return a hash including the column names and number of rows\\n    df = eval(var)\\n    if isinstance(df, __pandas.core.series.Series):\\n        return hashlib.sha256(f\"{var}-{df.name},{len(df)}\".encode(\\'utf-8\\')).hexdigest()\\n    return hashlib.sha256(f\"{var}-{\\',\\'.join(df.columns)},{len(df)}\".encode(\\'utf-8\\')).hexdigest()\\n\\ndef get_dataframes():\\n    if __pandas is None:\\n        return []\\n    user = getpass.getuser()\\n    values = get_ipython().run_line_magic(\\'who_ls\\', \\'\\')\\n    dataframes = [\\n        {\\n            \"name\": var,\\n            \"type\": type(eval(var)).__name__,\\n            \"hash\": dataframe_hash(var),\\n            \"cols\": dataframe_columns(var),\\n            \"dtypesStr\": dtypes_str(var),\\n        }\\n        for var in values if is_data_frame(var)\\n    ]\\n    result = {\"dataframes\": dataframes, \"user\": user}\\n    return json.dumps(result, ensure_ascii=False)\\n\\n\\nget_dataframes()',\n",
       " 'name = float(input(\"Please enter your class name\"))\\nprint(f\"Hey, Your Institue name is {name}\")',\n",
       " 'import json\\nimport getpass\\nimport hashlib\\n\\ndef import_pandas_safely():\\n    try:\\n        return __import__(\\'pandas\\')\\n    except ImportError:\\n        return False\\n\\n\\n__pandas = import_pandas_safely()\\n\\n\\ndef is_data_frame(v: str):\\n    obj = eval(v)\\n    if  isinstance(obj, __pandas.core.frame.DataFrame) or isinstance(obj, __pandas.core.series.Series):\\n        return True\\n\\n\\ndef dataframe_columns(var):\\n    df = eval(var)\\n    if isinstance(df, __pandas.core.series.Series):\\n        return [[df.name, str(df.dtype)]]\\n    return list(map(lambda col: [col, str(df[col].dtype)], df.columns))\\n\\n\\ndef dtypes_str(frame):\\n    return str(eval(frame).dtypes)\\n\\ndef dataframe_hash(var):\\n    # Return a hash including the column names and number of rows\\n    df = eval(var)\\n    if isinstance(df, __pandas.core.series.Series):\\n        return hashlib.sha256(f\"{var}-{df.name},{len(df)}\".encode(\\'utf-8\\')).hexdigest()\\n    return hashlib.sha256(f\"{var}-{\\',\\'.join(df.columns)},{len(df)}\".encode(\\'utf-8\\')).hexdigest()\\n\\ndef get_dataframes():\\n    if __pandas is None:\\n        return []\\n    user = getpass.getuser()\\n    values = get_ipython().run_line_magic(\\'who_ls\\', \\'\\')\\n    dataframes = [\\n        {\\n            \"name\": var,\\n            \"type\": type(eval(var)).__name__,\\n            \"hash\": dataframe_hash(var),\\n            \"cols\": dataframe_columns(var),\\n            \"dtypesStr\": dtypes_str(var),\\n        }\\n        for var in values if is_data_frame(var)\\n    ]\\n    result = {\"dataframes\": dataframes, \"user\": user}\\n    return json.dumps(result, ensure_ascii=False)\\n\\n\\nget_dataframes()',\n",
       " 'name = float(input(\"Please enter your class name\"))\\nprint(f\"Hey, Your class name is {name}\")',\n",
       " 'import json\\nimport getpass\\nimport hashlib\\n\\ndef import_pandas_safely():\\n    try:\\n        return __import__(\\'pandas\\')\\n    except ImportError:\\n        return False\\n\\n\\n__pandas = import_pandas_safely()\\n\\n\\ndef is_data_frame(v: str):\\n    obj = eval(v)\\n    if  isinstance(obj, __pandas.core.frame.DataFrame) or isinstance(obj, __pandas.core.series.Series):\\n        return True\\n\\n\\ndef dataframe_columns(var):\\n    df = eval(var)\\n    if isinstance(df, __pandas.core.series.Series):\\n        return [[df.name, str(df.dtype)]]\\n    return list(map(lambda col: [col, str(df[col].dtype)], df.columns))\\n\\n\\ndef dtypes_str(frame):\\n    return str(eval(frame).dtypes)\\n\\ndef dataframe_hash(var):\\n    # Return a hash including the column names and number of rows\\n    df = eval(var)\\n    if isinstance(df, __pandas.core.series.Series):\\n        return hashlib.sha256(f\"{var}-{df.name},{len(df)}\".encode(\\'utf-8\\')).hexdigest()\\n    return hashlib.sha256(f\"{var}-{\\',\\'.join(df.columns)},{len(df)}\".encode(\\'utf-8\\')).hexdigest()\\n\\ndef get_dataframes():\\n    if __pandas is None:\\n        return []\\n    user = getpass.getuser()\\n    values = get_ipython().run_line_magic(\\'who_ls\\', \\'\\')\\n    dataframes = [\\n        {\\n            \"name\": var,\\n            \"type\": type(eval(var)).__name__,\\n            \"hash\": dataframe_hash(var),\\n            \"cols\": dataframe_columns(var),\\n            \"dtypesStr\": dtypes_str(var),\\n        }\\n        for var in values if is_data_frame(var)\\n    ]\\n    result = {\"dataframes\": dataframes, \"user\": user}\\n    return json.dumps(result, ensure_ascii=False)\\n\\n\\nget_dataframes()',\n",
       " 'name = float(input(\"Please enter your class name\"))\\nprint(f\"Hey, Your class Timing for Sunday Class is: {name}\")',\n",
       " 'import json\\nimport getpass\\nimport hashlib\\n\\ndef import_pandas_safely():\\n    try:\\n        return __import__(\\'pandas\\')\\n    except ImportError:\\n        return False\\n\\n\\n__pandas = import_pandas_safely()\\n\\n\\ndef is_data_frame(v: str):\\n    obj = eval(v)\\n    if  isinstance(obj, __pandas.core.frame.DataFrame) or isinstance(obj, __pandas.core.series.Series):\\n        return True\\n\\n\\ndef dataframe_columns(var):\\n    df = eval(var)\\n    if isinstance(df, __pandas.core.series.Series):\\n        return [[df.name, str(df.dtype)]]\\n    return list(map(lambda col: [col, str(df[col].dtype)], df.columns))\\n\\n\\ndef dtypes_str(frame):\\n    return str(eval(frame).dtypes)\\n\\ndef dataframe_hash(var):\\n    # Return a hash including the column names and number of rows\\n    df = eval(var)\\n    if isinstance(df, __pandas.core.series.Series):\\n        return hashlib.sha256(f\"{var}-{df.name},{len(df)}\".encode(\\'utf-8\\')).hexdigest()\\n    return hashlib.sha256(f\"{var}-{\\',\\'.join(df.columns)},{len(df)}\".encode(\\'utf-8\\')).hexdigest()\\n\\ndef get_dataframes():\\n    if __pandas is None:\\n        return []\\n    user = getpass.getuser()\\n    values = get_ipython().run_line_magic(\\'who_ls\\', \\'\\')\\n    dataframes = [\\n        {\\n            \"name\": var,\\n            \"type\": type(eval(var)).__name__,\\n            \"hash\": dataframe_hash(var),\\n            \"cols\": dataframe_columns(var),\\n            \"dtypesStr\": dtypes_str(var),\\n        }\\n        for var in values if is_data_frame(var)\\n    ]\\n    result = {\"dataframes\": dataframes, \"user\": user}\\n    return json.dumps(result, ensure_ascii=False)\\n\\n\\nget_dataframes()',\n",
       " 'name = float(input(\"Please enter your class name\"))\\nprint(f\"Hey, Your class Timing for Sunday Class is: {name}\")',\n",
       " 'import json\\nimport getpass\\nimport hashlib\\n\\ndef import_pandas_safely():\\n    try:\\n        return __import__(\\'pandas\\')\\n    except ImportError:\\n        return False\\n\\n\\n__pandas = import_pandas_safely()\\n\\n\\ndef is_data_frame(v: str):\\n    obj = eval(v)\\n    if  isinstance(obj, __pandas.core.frame.DataFrame) or isinstance(obj, __pandas.core.series.Series):\\n        return True\\n\\n\\ndef dataframe_columns(var):\\n    df = eval(var)\\n    if isinstance(df, __pandas.core.series.Series):\\n        return [[df.name, str(df.dtype)]]\\n    return list(map(lambda col: [col, str(df[col].dtype)], df.columns))\\n\\n\\ndef dtypes_str(frame):\\n    return str(eval(frame).dtypes)\\n\\ndef dataframe_hash(var):\\n    # Return a hash including the column names and number of rows\\n    df = eval(var)\\n    if isinstance(df, __pandas.core.series.Series):\\n        return hashlib.sha256(f\"{var}-{df.name},{len(df)}\".encode(\\'utf-8\\')).hexdigest()\\n    return hashlib.sha256(f\"{var}-{\\',\\'.join(df.columns)},{len(df)}\".encode(\\'utf-8\\')).hexdigest()\\n\\ndef get_dataframes():\\n    if __pandas is None:\\n        return []\\n    user = getpass.getuser()\\n    values = get_ipython().run_line_magic(\\'who_ls\\', \\'\\')\\n    dataframes = [\\n        {\\n            \"name\": var,\\n            \"type\": type(eval(var)).__name__,\\n            \"hash\": dataframe_hash(var),\\n            \"cols\": dataframe_columns(var),\\n            \"dtypesStr\": dtypes_str(var),\\n        }\\n        for var in values if is_data_frame(var)\\n    ]\\n    result = {\"dataframes\": dataframes, \"user\": user}\\n    return json.dumps(result, ensure_ascii=False)\\n\\n\\nget_dataframes()',\n",
       " 'name = float(input(\"Please enter your class Timings\"))\\nprint(f\"Hey, Your class Timing for Sunday Class is: {name}\")',\n",
       " 'import json\\nimport getpass\\nimport hashlib\\n\\ndef import_pandas_safely():\\n    try:\\n        return __import__(\\'pandas\\')\\n    except ImportError:\\n        return False\\n\\n\\n__pandas = import_pandas_safely()\\n\\n\\ndef is_data_frame(v: str):\\n    obj = eval(v)\\n    if  isinstance(obj, __pandas.core.frame.DataFrame) or isinstance(obj, __pandas.core.series.Series):\\n        return True\\n\\n\\ndef dataframe_columns(var):\\n    df = eval(var)\\n    if isinstance(df, __pandas.core.series.Series):\\n        return [[df.name, str(df.dtype)]]\\n    return list(map(lambda col: [col, str(df[col].dtype)], df.columns))\\n\\n\\ndef dtypes_str(frame):\\n    return str(eval(frame).dtypes)\\n\\ndef dataframe_hash(var):\\n    # Return a hash including the column names and number of rows\\n    df = eval(var)\\n    if isinstance(df, __pandas.core.series.Series):\\n        return hashlib.sha256(f\"{var}-{df.name},{len(df)}\".encode(\\'utf-8\\')).hexdigest()\\n    return hashlib.sha256(f\"{var}-{\\',\\'.join(df.columns)},{len(df)}\".encode(\\'utf-8\\')).hexdigest()\\n\\ndef get_dataframes():\\n    if __pandas is None:\\n        return []\\n    user = getpass.getuser()\\n    values = get_ipython().run_line_magic(\\'who_ls\\', \\'\\')\\n    dataframes = [\\n        {\\n            \"name\": var,\\n            \"type\": type(eval(var)).__name__,\\n            \"hash\": dataframe_hash(var),\\n            \"cols\": dataframe_columns(var),\\n            \"dtypesStr\": dtypes_str(var),\\n        }\\n        for var in values if is_data_frame(var)\\n    ]\\n    result = {\"dataframes\": dataframes, \"user\": user}\\n    return json.dumps(result, ensure_ascii=False)\\n\\n\\nget_dataframes()',\n",
       " 'import json\\nimport getpass\\nimport hashlib\\n\\ndef import_pandas_safely():\\n    try:\\n        return __import__(\\'pandas\\')\\n    except ImportError:\\n        return False\\n\\n\\n__pandas = import_pandas_safely()\\n\\n\\ndef is_data_frame(v: str):\\n    obj = eval(v)\\n    if  isinstance(obj, __pandas.core.frame.DataFrame) or isinstance(obj, __pandas.core.series.Series):\\n        return True\\n\\n\\ndef dataframe_columns(var):\\n    df = eval(var)\\n    if isinstance(df, __pandas.core.series.Series):\\n        return [[df.name, str(df.dtype)]]\\n    return list(map(lambda col: [col, str(df[col].dtype)], df.columns))\\n\\n\\ndef dtypes_str(frame):\\n    return str(eval(frame).dtypes)\\n\\ndef dataframe_hash(var):\\n    # Return a hash including the column names and number of rows\\n    df = eval(var)\\n    if isinstance(df, __pandas.core.series.Series):\\n        return hashlib.sha256(f\"{var}-{df.name},{len(df)}\".encode(\\'utf-8\\')).hexdigest()\\n    return hashlib.sha256(f\"{var}-{\\',\\'.join(df.columns)},{len(df)}\".encode(\\'utf-8\\')).hexdigest()\\n\\ndef get_dataframes():\\n    if __pandas is None:\\n        return []\\n    user = getpass.getuser()\\n    values = get_ipython().run_line_magic(\\'who_ls\\', \\'\\')\\n    dataframes = [\\n        {\\n            \"name\": var,\\n            \"type\": type(eval(var)).__name__,\\n            \"hash\": dataframe_hash(var),\\n            \"cols\": dataframe_columns(var),\\n            \"dtypesStr\": dtypes_str(var),\\n        }\\n        for var in values if is_data_frame(var)\\n    ]\\n    result = {\"dataframes\": dataframes, \"user\": user}\\n    return json.dumps(result, ensure_ascii=False)\\n\\n\\nget_dataframes()',\n",
       " 'name = float(input(\"Please enter your class Timings\"))\\nprint(f\"Hey, Your class Timing for Sunday Class is: {name}\")',\n",
       " 'import json\\nimport getpass\\nimport hashlib\\n\\ndef import_pandas_safely():\\n    try:\\n        return __import__(\\'pandas\\')\\n    except ImportError:\\n        return False\\n\\n\\n__pandas = import_pandas_safely()\\n\\n\\ndef is_data_frame(v: str):\\n    obj = eval(v)\\n    if  isinstance(obj, __pandas.core.frame.DataFrame) or isinstance(obj, __pandas.core.series.Series):\\n        return True\\n\\n\\ndef dataframe_columns(var):\\n    df = eval(var)\\n    if isinstance(df, __pandas.core.series.Series):\\n        return [[df.name, str(df.dtype)]]\\n    return list(map(lambda col: [col, str(df[col].dtype)], df.columns))\\n\\n\\ndef dtypes_str(frame):\\n    return str(eval(frame).dtypes)\\n\\ndef dataframe_hash(var):\\n    # Return a hash including the column names and number of rows\\n    df = eval(var)\\n    if isinstance(df, __pandas.core.series.Series):\\n        return hashlib.sha256(f\"{var}-{df.name},{len(df)}\".encode(\\'utf-8\\')).hexdigest()\\n    return hashlib.sha256(f\"{var}-{\\',\\'.join(df.columns)},{len(df)}\".encode(\\'utf-8\\')).hexdigest()\\n\\ndef get_dataframes():\\n    if __pandas is None:\\n        return []\\n    user = getpass.getuser()\\n    values = get_ipython().run_line_magic(\\'who_ls\\', \\'\\')\\n    dataframes = [\\n        {\\n            \"name\": var,\\n            \"type\": type(eval(var)).__name__,\\n            \"hash\": dataframe_hash(var),\\n            \"cols\": dataframe_columns(var),\\n            \"dtypesStr\": dtypes_str(var),\\n        }\\n        for var in values if is_data_frame(var)\\n    ]\\n    result = {\"dataframes\": dataframes, \"user\": user}\\n    return json.dumps(result, ensure_ascii=False)\\n\\n\\nget_dataframes()',\n",
       " 'name = float(input(\"Please enter your class Timings\"))\\nprint(f\"Hey, Your class Timing for Sunday Class is: {name}\")',\n",
       " 'import json\\nimport getpass\\nimport hashlib\\n\\ndef import_pandas_safely():\\n    try:\\n        return __import__(\\'pandas\\')\\n    except ImportError:\\n        return False\\n\\n\\n__pandas = import_pandas_safely()\\n\\n\\ndef is_data_frame(v: str):\\n    obj = eval(v)\\n    if  isinstance(obj, __pandas.core.frame.DataFrame) or isinstance(obj, __pandas.core.series.Series):\\n        return True\\n\\n\\ndef dataframe_columns(var):\\n    df = eval(var)\\n    if isinstance(df, __pandas.core.series.Series):\\n        return [[df.name, str(df.dtype)]]\\n    return list(map(lambda col: [col, str(df[col].dtype)], df.columns))\\n\\n\\ndef dtypes_str(frame):\\n    return str(eval(frame).dtypes)\\n\\ndef dataframe_hash(var):\\n    # Return a hash including the column names and number of rows\\n    df = eval(var)\\n    if isinstance(df, __pandas.core.series.Series):\\n        return hashlib.sha256(f\"{var}-{df.name},{len(df)}\".encode(\\'utf-8\\')).hexdigest()\\n    return hashlib.sha256(f\"{var}-{\\',\\'.join(df.columns)},{len(df)}\".encode(\\'utf-8\\')).hexdigest()\\n\\ndef get_dataframes():\\n    if __pandas is None:\\n        return []\\n    user = getpass.getuser()\\n    values = get_ipython().run_line_magic(\\'who_ls\\', \\'\\')\\n    dataframes = [\\n        {\\n            \"name\": var,\\n            \"type\": type(eval(var)).__name__,\\n            \"hash\": dataframe_hash(var),\\n            \"cols\": dataframe_columns(var),\\n            \"dtypesStr\": dtypes_str(var),\\n        }\\n        for var in values if is_data_frame(var)\\n    ]\\n    result = {\"dataframes\": dataframes, \"user\": user}\\n    return json.dumps(result, ensure_ascii=False)\\n\\n\\nget_dataframes()',\n",
       " 'name = float(input(\"Please enter your class Timings\"))\\nprint(f\"Hi, Student, Your class Timing for Sunday Class is: {name}\")',\n",
       " 'import json\\nimport getpass\\nimport hashlib\\n\\ndef import_pandas_safely():\\n    try:\\n        return __import__(\\'pandas\\')\\n    except ImportError:\\n        return False\\n\\n\\n__pandas = import_pandas_safely()\\n\\n\\ndef is_data_frame(v: str):\\n    obj = eval(v)\\n    if  isinstance(obj, __pandas.core.frame.DataFrame) or isinstance(obj, __pandas.core.series.Series):\\n        return True\\n\\n\\ndef dataframe_columns(var):\\n    df = eval(var)\\n    if isinstance(df, __pandas.core.series.Series):\\n        return [[df.name, str(df.dtype)]]\\n    return list(map(lambda col: [col, str(df[col].dtype)], df.columns))\\n\\n\\ndef dtypes_str(frame):\\n    return str(eval(frame).dtypes)\\n\\ndef dataframe_hash(var):\\n    # Return a hash including the column names and number of rows\\n    df = eval(var)\\n    if isinstance(df, __pandas.core.series.Series):\\n        return hashlib.sha256(f\"{var}-{df.name},{len(df)}\".encode(\\'utf-8\\')).hexdigest()\\n    return hashlib.sha256(f\"{var}-{\\',\\'.join(df.columns)},{len(df)}\".encode(\\'utf-8\\')).hexdigest()\\n\\ndef get_dataframes():\\n    if __pandas is None:\\n        return []\\n    user = getpass.getuser()\\n    values = get_ipython().run_line_magic(\\'who_ls\\', \\'\\')\\n    dataframes = [\\n        {\\n            \"name\": var,\\n            \"type\": type(eval(var)).__name__,\\n            \"hash\": dataframe_hash(var),\\n            \"cols\": dataframe_columns(var),\\n            \"dtypesStr\": dtypes_str(var),\\n        }\\n        for var in values if is_data_frame(var)\\n    ]\\n    result = {\"dataframes\": dataframes, \"user\": user}\\n    return json.dumps(result, ensure_ascii=False)\\n\\n\\nget_dataframes()',\n",
       " 'a = 100\\nprint(a)',\n",
       " 'import json\\nimport getpass\\nimport hashlib\\n\\ndef import_pandas_safely():\\n    try:\\n        return __import__(\\'pandas\\')\\n    except ImportError:\\n        return False\\n\\n\\n__pandas = import_pandas_safely()\\n\\n\\ndef is_data_frame(v: str):\\n    obj = eval(v)\\n    if  isinstance(obj, __pandas.core.frame.DataFrame) or isinstance(obj, __pandas.core.series.Series):\\n        return True\\n\\n\\ndef dataframe_columns(var):\\n    df = eval(var)\\n    if isinstance(df, __pandas.core.series.Series):\\n        return [[df.name, str(df.dtype)]]\\n    return list(map(lambda col: [col, str(df[col].dtype)], df.columns))\\n\\n\\ndef dtypes_str(frame):\\n    return str(eval(frame).dtypes)\\n\\ndef dataframe_hash(var):\\n    # Return a hash including the column names and number of rows\\n    df = eval(var)\\n    if isinstance(df, __pandas.core.series.Series):\\n        return hashlib.sha256(f\"{var}-{df.name},{len(df)}\".encode(\\'utf-8\\')).hexdigest()\\n    return hashlib.sha256(f\"{var}-{\\',\\'.join(df.columns)},{len(df)}\".encode(\\'utf-8\\')).hexdigest()\\n\\ndef get_dataframes():\\n    if __pandas is None:\\n        return []\\n    user = getpass.getuser()\\n    values = get_ipython().run_line_magic(\\'who_ls\\', \\'\\')\\n    dataframes = [\\n        {\\n            \"name\": var,\\n            \"type\": type(eval(var)).__name__,\\n            \"hash\": dataframe_hash(var),\\n            \"cols\": dataframe_columns(var),\\n            \"dtypesStr\": dtypes_str(var),\\n        }\\n        for var in values if is_data_frame(var)\\n    ]\\n    result = {\"dataframes\": dataframes, \"user\": user}\\n    return json.dumps(result, ensure_ascii=False)\\n\\n\\nget_dataframes()',\n",
       " 'import json\\nimport getpass\\nimport hashlib\\n\\ndef import_pandas_safely():\\n    try:\\n        return __import__(\\'pandas\\')\\n    except ImportError:\\n        return False\\n\\n\\n__pandas = import_pandas_safely()\\n\\n\\ndef is_data_frame(v: str):\\n    obj = eval(v)\\n    if  isinstance(obj, __pandas.core.frame.DataFrame) or isinstance(obj, __pandas.core.series.Series):\\n        return True\\n\\n\\ndef dataframe_columns(var):\\n    df = eval(var)\\n    if isinstance(df, __pandas.core.series.Series):\\n        return [[df.name, str(df.dtype)]]\\n    return list(map(lambda col: [col, str(df[col].dtype)], df.columns))\\n\\n\\ndef dtypes_str(frame):\\n    return str(eval(frame).dtypes)\\n\\ndef dataframe_hash(var):\\n    # Return a hash including the column names and number of rows\\n    df = eval(var)\\n    if isinstance(df, __pandas.core.series.Series):\\n        return hashlib.sha256(f\"{var}-{df.name},{len(df)}\".encode(\\'utf-8\\')).hexdigest()\\n    return hashlib.sha256(f\"{var}-{\\',\\'.join(df.columns)},{len(df)}\".encode(\\'utf-8\\')).hexdigest()\\n\\ndef get_dataframes():\\n    if __pandas is None:\\n        return []\\n    user = getpass.getuser()\\n    values = get_ipython().run_line_magic(\\'who_ls\\', \\'\\')\\n    dataframes = [\\n        {\\n            \"name\": var,\\n            \"type\": type(eval(var)).__name__,\\n            \"hash\": dataframe_hash(var),\\n            \"cols\": dataframe_columns(var),\\n            \"dtypesStr\": dtypes_str(var),\\n        }\\n        for var in values if is_data_frame(var)\\n    ]\\n    result = {\"dataframes\": dataframes, \"user\": user}\\n    return json.dumps(result, ensure_ascii=False)\\n\\n\\nget_dataframes()',\n",
       " 'x = 10\\ny = 11\\nz = 12\\nx<y andy>z',\n",
       " 'import json\\nimport getpass\\nimport hashlib\\n\\ndef import_pandas_safely():\\n    try:\\n        return __import__(\\'pandas\\')\\n    except ImportError:\\n        return False\\n\\n\\n__pandas = import_pandas_safely()\\n\\n\\ndef is_data_frame(v: str):\\n    obj = eval(v)\\n    if  isinstance(obj, __pandas.core.frame.DataFrame) or isinstance(obj, __pandas.core.series.Series):\\n        return True\\n\\n\\ndef dataframe_columns(var):\\n    df = eval(var)\\n    if isinstance(df, __pandas.core.series.Series):\\n        return [[df.name, str(df.dtype)]]\\n    return list(map(lambda col: [col, str(df[col].dtype)], df.columns))\\n\\n\\ndef dtypes_str(frame):\\n    return str(eval(frame).dtypes)\\n\\ndef dataframe_hash(var):\\n    # Return a hash including the column names and number of rows\\n    df = eval(var)\\n    if isinstance(df, __pandas.core.series.Series):\\n        return hashlib.sha256(f\"{var}-{df.name},{len(df)}\".encode(\\'utf-8\\')).hexdigest()\\n    return hashlib.sha256(f\"{var}-{\\',\\'.join(df.columns)},{len(df)}\".encode(\\'utf-8\\')).hexdigest()\\n\\ndef get_dataframes():\\n    if __pandas is None:\\n        return []\\n    user = getpass.getuser()\\n    values = get_ipython().run_line_magic(\\'who_ls\\', \\'\\')\\n    dataframes = [\\n        {\\n            \"name\": var,\\n            \"type\": type(eval(var)).__name__,\\n            \"hash\": dataframe_hash(var),\\n            \"cols\": dataframe_columns(var),\\n            \"dtypesStr\": dtypes_str(var),\\n        }\\n        for var in values if is_data_frame(var)\\n    ]\\n    result = {\"dataframes\": dataframes, \"user\": user}\\n    return json.dumps(result, ensure_ascii=False)\\n\\n\\nget_dataframes()',\n",
       " 'x = 10\\ny = 11\\nz = 12\\nx<y and y>z',\n",
       " 'import json\\nimport getpass\\nimport hashlib\\n\\ndef import_pandas_safely():\\n    try:\\n        return __import__(\\'pandas\\')\\n    except ImportError:\\n        return False\\n\\n\\n__pandas = import_pandas_safely()\\n\\n\\ndef is_data_frame(v: str):\\n    obj = eval(v)\\n    if  isinstance(obj, __pandas.core.frame.DataFrame) or isinstance(obj, __pandas.core.series.Series):\\n        return True\\n\\n\\ndef dataframe_columns(var):\\n    df = eval(var)\\n    if isinstance(df, __pandas.core.series.Series):\\n        return [[df.name, str(df.dtype)]]\\n    return list(map(lambda col: [col, str(df[col].dtype)], df.columns))\\n\\n\\ndef dtypes_str(frame):\\n    return str(eval(frame).dtypes)\\n\\ndef dataframe_hash(var):\\n    # Return a hash including the column names and number of rows\\n    df = eval(var)\\n    if isinstance(df, __pandas.core.series.Series):\\n        return hashlib.sha256(f\"{var}-{df.name},{len(df)}\".encode(\\'utf-8\\')).hexdigest()\\n    return hashlib.sha256(f\"{var}-{\\',\\'.join(df.columns)},{len(df)}\".encode(\\'utf-8\\')).hexdigest()\\n\\ndef get_dataframes():\\n    if __pandas is None:\\n        return []\\n    user = getpass.getuser()\\n    values = get_ipython().run_line_magic(\\'who_ls\\', \\'\\')\\n    dataframes = [\\n        {\\n            \"name\": var,\\n            \"type\": type(eval(var)).__name__,\\n            \"hash\": dataframe_hash(var),\\n            \"cols\": dataframe_columns(var),\\n            \"dtypesStr\": dtypes_str(var),\\n        }\\n        for var in values if is_data_frame(var)\\n    ]\\n    result = {\"dataframes\": dataframes, \"user\": user}\\n    return json.dumps(result, ensure_ascii=False)\\n\\n\\nget_dataframes()',\n",
       " '_ih']"
      ]
     },
     "execution_count": 121,
     "metadata": {},
     "output_type": "execute_result"
    }
   ],
   "source": [
    "_ih"
   ]
  },
  {
   "cell_type": "code",
   "execution_count": null,
   "id": "ed942a6b-96b2-426b-bde2-1f47be0b6ebd",
   "metadata": {},
   "outputs": [],
   "source": []
  }
 ],
 "metadata": {
  "kernelspec": {
   "display_name": "Python [conda env:base] *",
   "language": "python",
   "name": "conda-base-py"
  },
  "language_info": {
   "codemirror_mode": {
    "name": "ipython",
    "version": 3
   },
   "file_extension": ".py",
   "mimetype": "text/x-python",
   "name": "python",
   "nbconvert_exporter": "python",
   "pygments_lexer": "ipython3",
   "version": "3.11.5"
  }
 },
 "nbformat": 4,
 "nbformat_minor": 5
}
