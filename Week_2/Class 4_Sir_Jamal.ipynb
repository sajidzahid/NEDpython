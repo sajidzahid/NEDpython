{
 "cells": [
  {
   "cell_type": "raw",
   "id": "177f25c3",
   "metadata": {},
   "source": [
    "jupyter notebook"
   ]
  },
  {
   "cell_type": "code",
   "execution_count": 1,
   "id": "710cf933",
   "metadata": {},
   "outputs": [],
   "source": [
    "name = \"Jamal\""
   ]
  },
  {
   "cell_type": "code",
   "execution_count": 2,
   "id": "c0027641",
   "metadata": {},
   "outputs": [
    {
     "data": {
      "text/plain": [
       "2034659653104"
      ]
     },
     "execution_count": 2,
     "metadata": {},
     "output_type": "execute_result"
    }
   ],
   "source": [
    "id(name) # memory address"
   ]
  },
  {
   "cell_type": "markdown",
   "id": "5cb74869",
   "metadata": {},
   "source": [
    "# Shallow Copy"
   ]
  },
  {
   "cell_type": "code",
   "execution_count": 3,
   "id": "4e6b15e6",
   "metadata": {},
   "outputs": [
    {
     "data": {
      "text/plain": [
       "2034660414384"
      ]
     },
     "execution_count": 3,
     "metadata": {},
     "output_type": "execute_result"
    }
   ],
   "source": [
    "# create a new variable which refers to the memory location of a old variable\n",
    "# 2 variables are stored but only one memory slot is used\n",
    "\n",
    "name2 = \"HAssan\"\n",
    "id(name2)"
   ]
  },
  {
   "cell_type": "code",
   "execution_count": 4,
   "id": "32f9b066",
   "metadata": {},
   "outputs": [
    {
     "name": "stdout",
     "output_type": "stream",
     "text": [
      "HAssan\n"
     ]
    }
   ],
   "source": [
    "name3 = name2\n",
    "print(name3)"
   ]
  },
  {
   "cell_type": "code",
   "execution_count": 5,
   "id": "74b76ccd",
   "metadata": {},
   "outputs": [
    {
     "data": {
      "text/plain": [
       "2034660414384"
      ]
     },
     "execution_count": 5,
     "metadata": {},
     "output_type": "execute_result"
    }
   ],
   "source": [
    "id(name3) # Shallow Copy (helps to save memory)"
   ]
  },
  {
   "cell_type": "code",
   "execution_count": 6,
   "id": "1d57a599",
   "metadata": {},
   "outputs": [
    {
     "name": "stdout",
     "output_type": "stream",
     "text": [
      "Aneeq\n",
      "2034660256944\n"
     ]
    }
   ],
   "source": [
    "name2 = \"Aneeq\"\n",
    "print(name2)\n",
    "print(id(name2))"
   ]
  },
  {
   "cell_type": "code",
   "execution_count": 7,
   "id": "82d3174b",
   "metadata": {},
   "outputs": [
    {
     "name": "stdout",
     "output_type": "stream",
     "text": [
      "HAssan\n",
      "2034660414384\n"
     ]
    }
   ],
   "source": [
    "print(name3)\n",
    "print(id(name3))"
   ]
  },
  {
   "cell_type": "code",
   "execution_count": 8,
   "id": "6088b860",
   "metadata": {},
   "outputs": [
    {
     "name": "stdout",
     "output_type": "stream",
     "text": [
      "2034660253616\n"
     ]
    }
   ],
   "source": [
    "name4 = \"hamza\"\n",
    "print(id(name4))"
   ]
  },
  {
   "cell_type": "code",
   "execution_count": 9,
   "id": "880799e6",
   "metadata": {},
   "outputs": [
    {
     "name": "stdout",
     "output_type": "stream",
     "text": [
      "2034660252336\n"
     ]
    }
   ],
   "source": [
    "name4 = \"Ahmed\"\n",
    "print(id(name4))"
   ]
  },
  {
   "cell_type": "code",
   "execution_count": 12,
   "id": "3d51f2cc",
   "metadata": {},
   "outputs": [
    {
     "name": "stdout",
     "output_type": "stream",
     "text": [
      "name1:  2034660258480\n",
      "name2:  2034660424048\n"
     ]
    }
   ],
   "source": [
    "name1 = \"Hassan\"\n",
    "name2 = \"Hassan\"\n",
    "print(\"name1: \",id(name1))\n",
    "print(\"name2: \",id(name2))"
   ]
  },
  {
   "cell_type": "code",
   "execution_count": 13,
   "id": "b7914f52",
   "metadata": {},
   "outputs": [
    {
     "name": "stdout",
     "output_type": "stream",
     "text": [
      "Ahmed\n"
     ]
    }
   ],
   "source": [
    "print(name4)"
   ]
  },
  {
   "cell_type": "markdown",
   "id": "86f66c1c",
   "metadata": {},
   "source": [
    "# Operators"
   ]
  },
  {
   "cell_type": "code",
   "execution_count": 19,
   "id": "39045a13",
   "metadata": {},
   "outputs": [
    {
     "name": "stdout",
     "output_type": "stream",
     "text": [
      "119.123456789 <class 'float'>\n",
      "-80.876543211\n",
      "1912.3456789\n",
      "4.382716055000007\n",
      "5.0\n",
      "1.7656864247043414e+38\n"
     ]
    }
   ],
   "source": [
    "x = 19.123456789\n",
    "y = 100\n",
    "print(x+y,type(x+y))\n",
    "print(x-y)\n",
    "print(x*y)\n",
    "print(y%x)#remainder\n",
    "print(y//x)# floor division\n",
    "print(y**x)# exponent 100^19"
   ]
  },
  {
   "cell_type": "code",
   "execution_count": 15,
   "id": "c86375b6",
   "metadata": {},
   "outputs": [
    {
     "data": {
      "text/plain": [
       "5.2631578947368425"
      ]
     },
     "execution_count": 15,
     "metadata": {},
     "output_type": "execute_result"
    }
   ],
   "source": [
    "100/19"
   ]
  },
  {
   "cell_type": "markdown",
   "id": "957f87f6",
   "metadata": {},
   "source": [
    "# Assignment Operators"
   ]
  },
  {
   "cell_type": "code",
   "execution_count": 34,
   "id": "9ccbb5a4",
   "metadata": {},
   "outputs": [],
   "source": [
    "age1 = 23"
   ]
  },
  {
   "cell_type": "code",
   "execution_count": 35,
   "id": "cdd8a003",
   "metadata": {},
   "outputs": [],
   "source": [
    "age = 23 #assignment operator"
   ]
  },
  {
   "cell_type": "code",
   "execution_count": 36,
   "id": "77826f28",
   "metadata": {},
   "outputs": [
    {
     "name": "stdout",
     "output_type": "stream",
     "text": [
      "46\n"
     ]
    }
   ],
   "source": [
    "age1 +=23\n",
    "print(age1)"
   ]
  },
  {
   "cell_type": "code",
   "execution_count": 37,
   "id": "d34709d7",
   "metadata": {},
   "outputs": [
    {
     "name": "stdout",
     "output_type": "stream",
     "text": [
      "18\n"
     ]
    }
   ],
   "source": [
    "age -= 5\n",
    "print(age)"
   ]
  },
  {
   "cell_type": "code",
   "execution_count": 38,
   "id": "454c5b2a",
   "metadata": {},
   "outputs": [
    {
     "name": "stdout",
     "output_type": "stream",
     "text": [
      "41\n"
     ]
    }
   ],
   "source": [
    "age1 -= 5\n",
    "print(age1)"
   ]
  },
  {
   "cell_type": "code",
   "execution_count": 39,
   "id": "f2303e3e",
   "metadata": {},
   "outputs": [],
   "source": [
    "age = 10"
   ]
  },
  {
   "cell_type": "code",
   "execution_count": 40,
   "id": "84941f63",
   "metadata": {},
   "outputs": [
    {
     "name": "stdout",
     "output_type": "stream",
     "text": [
      "0\n"
     ]
    }
   ],
   "source": [
    "age -= 10\n",
    "print(age)"
   ]
  },
  {
   "cell_type": "code",
   "execution_count": 23,
   "id": "83bda19b",
   "metadata": {},
   "outputs": [
    {
     "name": "stdout",
     "output_type": "stream",
     "text": [
      "45.0\n"
     ]
    }
   ],
   "source": [
    "age *= 2.5\n",
    "print(age)"
   ]
  },
  {
   "cell_type": "code",
   "execution_count": 24,
   "id": "4f210970",
   "metadata": {},
   "outputs": [
    {
     "name": "stdout",
     "output_type": "stream",
     "text": [
      "13584.112963311223\n"
     ]
    }
   ],
   "source": [
    "age **= 2.5\n",
    "print(age)"
   ]
  },
  {
   "cell_type": "code",
   "execution_count": 25,
   "id": "339a9999",
   "metadata": {},
   "outputs": [
    {
     "name": "stdout",
     "output_type": "stream",
     "text": [
      "5433.0\n"
     ]
    }
   ],
   "source": [
    "age //= 2.5\n",
    "print(age)"
   ]
  },
  {
   "cell_type": "code",
   "execution_count": 41,
   "id": "3cfe3cbe",
   "metadata": {},
   "outputs": [],
   "source": [
    "# Python is a dynamic data type language\n",
    "# variables can be updated constantly"
   ]
  },
  {
   "cell_type": "code",
   "execution_count": null,
   "id": "77204f76",
   "metadata": {},
   "outputs": [],
   "source": [
    "age = \"23\""
   ]
  },
  {
   "cell_type": "code",
   "execution_count": 46,
   "id": "117c9ebd",
   "metadata": {},
   "outputs": [],
   "source": [
    "age = 23\n",
    "age2 = 23"
   ]
  },
  {
   "cell_type": "code",
   "execution_count": 43,
   "id": "3364f3b4",
   "metadata": {},
   "outputs": [
    {
     "name": "stdout",
     "output_type": "stream",
     "text": [
      "123\n"
     ]
    }
   ],
   "source": [
    "age+= 100\n",
    "age2+=56\n",
    "\n",
    "print(age1+age2)"
   ]
  },
  {
   "cell_type": "code",
   "execution_count": 47,
   "id": "4fc2a22c",
   "metadata": {},
   "outputs": [
    {
     "name": "stdout",
     "output_type": "stream",
     "text": [
      "123\n"
     ]
    },
    {
     "data": {
      "text/plain": [
       "123"
      ]
     },
     "execution_count": 47,
     "metadata": {},
     "output_type": "execute_result"
    }
   ],
   "source": [
    "# Both have the same meaning\n",
    "age += 100\n",
    "print(age)\n",
    "age2 = age2 + 100\n",
    "(age2)"
   ]
  },
  {
   "cell_type": "markdown",
   "id": "cbc17cdf",
   "metadata": {},
   "source": [
    "# Comparision operators"
   ]
  },
  {
   "cell_type": "code",
   "execution_count": 51,
   "id": "103ad0e1",
   "metadata": {},
   "outputs": [
    {
     "name": "stdout",
     "output_type": "stream",
     "text": [
      "False\n"
     ]
    }
   ],
   "source": [
    "a = 1000\n",
    "b = 104565.24524\n",
    "c = \"my name is\"\n",
    "print(a==b)\n",
    "# checks wether the 2 values are equal or not\n",
    "# Output of comparision operators will always be boolean"
   ]
  },
  {
   "cell_type": "code",
   "execution_count": 50,
   "id": "e208a6f0",
   "metadata": {},
   "outputs": [
    {
     "name": "stdout",
     "output_type": "stream",
     "text": [
      "False\n",
      "True\n",
      "True\n",
      "False\n",
      "True\n"
     ]
    }
   ],
   "source": [
    "print(a>b)\n",
    "print(a<b)\n",
    "print(a<=b)\n",
    "print(a>=b)\n",
    "print(a!=b) # Does not equal to"
   ]
  },
  {
   "cell_type": "code",
   "execution_count": 55,
   "id": "8c3e7ac1",
   "metadata": {},
   "outputs": [],
   "source": [
    "# comparision between string and integer is only possible with\n",
    "# == and != operators"
   ]
  },
  {
   "cell_type": "code",
   "execution_count": 57,
   "id": "875f5edd",
   "metadata": {},
   "outputs": [
    {
     "data": {
      "text/plain": [
       "True"
      ]
     },
     "execution_count": 57,
     "metadata": {},
     "output_type": "execute_result"
    }
   ],
   "source": [
    "rain = True\n",
    "not_rain = False\n",
    "\n",
    "rain != not_rain"
   ]
  },
  {
   "cell_type": "markdown",
   "id": "2590dcd4",
   "metadata": {},
   "source": [
    "# Type Casting"
   ]
  },
  {
   "cell_type": "code",
   "execution_count": 63,
   "id": "63051701",
   "metadata": {},
   "outputs": [
    {
     "name": "stdout",
     "output_type": "stream",
     "text": [
      "<class 'str'>\n"
     ]
    }
   ],
   "source": [
    "x = \"agdawrhgahgafs\"\n",
    "print(type(x))"
   ]
  },
  {
   "cell_type": "code",
   "execution_count": 64,
   "id": "55389f14",
   "metadata": {},
   "outputs": [
    {
     "ename": "ValueError",
     "evalue": "could not convert string to float: 'agdawrhgahgafs'",
     "output_type": "error",
     "traceback": [
      "\u001b[1;31m---------------------------------------------------------------------------\u001b[0m",
      "\u001b[1;31mValueError\u001b[0m                                Traceback (most recent call last)",
      "Cell \u001b[1;32mIn[64], line 1\u001b[0m\n\u001b[1;32m----> 1\u001b[0m x \u001b[38;5;241m=\u001b[39m \u001b[38;5;28;43mfloat\u001b[39;49m\u001b[43m(\u001b[49m\u001b[43mx\u001b[49m\u001b[43m)\u001b[49m\n\u001b[0;32m      2\u001b[0m \u001b[38;5;28mprint\u001b[39m(\u001b[38;5;28mtype\u001b[39m(x))\n",
      "\u001b[1;31mValueError\u001b[0m: could not convert string to float: 'agdawrhgahgafs'"
     ]
    }
   ],
   "source": [
    "x = float(x)\n",
    "print(type(x))"
   ]
  },
  {
   "cell_type": "code",
   "execution_count": 70,
   "id": "98104688",
   "metadata": {},
   "outputs": [
    {
     "name": "stdout",
     "output_type": "stream",
     "text": [
      "100+19.524524\n"
     ]
    },
    {
     "data": {
      "text/plain": [
       "119.524524"
      ]
     },
     "execution_count": 70,
     "metadata": {},
     "output_type": "execute_result"
    }
   ],
   "source": [
    "a = \"100\"\n",
    "b = \"19.524524\"\n",
    "expr = f\"{a}+{b}\" # formatted string\n",
    "print(expr)\n",
    "eval(expr)# allows us to calcualte strings if they have a numerical meaning"
   ]
  },
  {
   "cell_type": "code",
   "execution_count": 72,
   "id": "3b99374e",
   "metadata": {},
   "outputs": [
    {
     "data": {
      "text/plain": [
       "92.3961304347826"
      ]
     },
     "execution_count": 72,
     "metadata": {},
     "output_type": "execute_result"
    }
   ],
   "source": [
    "equation = \"100 + 19 - 98 + 65 - (190/23) + 14.657 \"\n",
    "eval(equation)"
   ]
  },
  {
   "cell_type": "code",
   "execution_count": 73,
   "id": "5b823842",
   "metadata": {},
   "outputs": [],
   "source": [
    "# formatted String\n",
    "# when you want to add variable values to your string"
   ]
  },
  {
   "cell_type": "code",
   "execution_count": 74,
   "id": "7afb0ed7",
   "metadata": {},
   "outputs": [
    {
     "name": "stdout",
     "output_type": "stream",
     "text": [
      "Please enter your nameJamal Ahmed Khan\n",
      "Hello, your name is Jamal Ahmed Khan\n"
     ]
    }
   ],
   "source": [
    "name = str(input(\"Please enter your name\"))\n",
    "#input() method is used to take user input at run time\n",
    "print(f\"Hello, your name is {name}\")"
   ]
  },
  {
   "cell_type": "code",
   "execution_count": 78,
   "id": "c1da5823",
   "metadata": {},
   "outputs": [
    {
     "name": "stdout",
     "output_type": "stream",
     "text": [
      "Please enter your age23.25\n",
      "Hello, your age is 23.25\n"
     ]
    }
   ],
   "source": [
    "age = float(input(\"Please enter your age\"))\n",
    "print(f\"Hello, your age is {age}\")"
   ]
  },
  {
   "cell_type": "code",
   "execution_count": 79,
   "id": "e8884167",
   "metadata": {},
   "outputs": [
    {
     "name": "stdout",
     "output_type": "stream",
     "text": [
      "12\n",
      "Hello, your age is 12.0\n"
     ]
    }
   ],
   "source": [
    "age = float(input(\"\"))\n",
    "print(f\"Hello, your age is {age}\")"
   ]
  },
  {
   "cell_type": "code",
   "execution_count": 83,
   "id": "6cc9d116",
   "metadata": {},
   "outputs": [
    {
     "name": "stdout",
     "output_type": "stream",
     "text": [
      "Please enter the university you study in? abc\n",
      "The university you are studying in is: abc\n"
     ]
    }
   ],
   "source": [
    "university = input(\"Please enter the university you study in? \")\n",
    "print(f\"The university you are studying in is: {university}\")"
   ]
  },
  {
   "cell_type": "code",
   "execution_count": 99,
   "id": "a256a284",
   "metadata": {},
   "outputs": [
    {
     "name": "stdout",
     "output_type": "stream",
     "text": [
      "hello\n"
     ]
    }
   ],
   "source": [
    "print(\"hello\")"
   ]
  },
  {
   "cell_type": "raw",
   "id": "f86bc92d",
   "metadata": {},
   "source": [
    "eval()\n",
    "input()\n",
    "sum()\n",
    "str()\n",
    "int()\n",
    "\n",
    "[]\n",
    "{}"
   ]
  },
  {
   "cell_type": "code",
   "execution_count": 86,
   "id": "2194495e",
   "metadata": {},
   "outputs": [
    {
     "name": "stdout",
     "output_type": "stream",
     "text": [
      "<class 'str'>\n"
     ]
    }
   ],
   "source": [
    "print(type(\"abc\"))"
   ]
  },
  {
   "cell_type": "code",
   "execution_count": 91,
   "id": "2f0d5762",
   "metadata": {},
   "outputs": [],
   "source": [
    "integer  = 1000\n",
    "integer = str(integer)"
   ]
  },
  {
   "cell_type": "code",
   "execution_count": 92,
   "id": "a71b7618",
   "metadata": {},
   "outputs": [
    {
     "name": "stdout",
     "output_type": "stream",
     "text": [
      "<class 'str'>\n"
     ]
    }
   ],
   "source": [
    "print(type(integer))"
   ]
  },
  {
   "cell_type": "code",
   "execution_count": 95,
   "id": "d058ad00",
   "metadata": {},
   "outputs": [
    {
     "name": "stdout",
     "output_type": "stream",
     "text": [
      "<class 'str'>\n"
     ]
    }
   ],
   "source": [
    "rain2 = str(rain)\n",
    "print(type(rain2))"
   ]
  },
  {
   "cell_type": "code",
   "execution_count": 98,
   "id": "c132060b",
   "metadata": {},
   "outputs": [
    {
     "name": "stdout",
     "output_type": "stream",
     "text": [
      "True\n",
      "<class 'int'>\n",
      "1\n"
     ]
    }
   ],
   "source": [
    "#True 1\n",
    "#False 0\n",
    "print(rain)\n",
    "rain3 = int(rain)\n",
    "print(type(rain3))\n",
    "print(rain3)"
   ]
  },
  {
   "cell_type": "raw",
   "id": "d8f89e6f",
   "metadata": {},
   "source": [
    "Type Casting:\n",
    "string to integer\n",
    "string to float\n",
    "string to boolean\n",
    "string to datetime\n",
    "\n",
    "integer to string\n",
    "integer to float\n",
    "\n",
    "boolean to string\n",
    "boolean to integer"
   ]
  },
  {
   "cell_type": "markdown",
   "id": "7fd19cad",
   "metadata": {},
   "source": [
    "# Logical Operators:"
   ]
  },
  {
   "cell_type": "code",
   "execution_count": 102,
   "id": "35d80c7e",
   "metadata": {},
   "outputs": [
    {
     "data": {
      "text/plain": [
       "False"
      ]
     },
     "execution_count": 102,
     "metadata": {},
     "output_type": "execute_result"
    }
   ],
   "source": [
    "x = 10\n",
    "y = 11\n",
    "z = 12\n",
    "\n",
    "x<y and y>z"
   ]
  },
  {
   "cell_type": "code",
   "execution_count": 105,
   "id": "ef93a7cd",
   "metadata": {},
   "outputs": [
    {
     "data": {
      "text/plain": [
       "True"
      ]
     },
     "execution_count": 105,
     "metadata": {},
     "output_type": "execute_result"
    }
   ],
   "source": [
    "# and means all expressions have to be true\n",
    "x<y and x<z and y<z"
   ]
  },
  {
   "cell_type": "code",
   "execution_count": 106,
   "id": "c609c5a6",
   "metadata": {},
   "outputs": [
    {
     "data": {
      "text/plain": [
       "True"
      ]
     },
     "execution_count": 106,
     "metadata": {},
     "output_type": "execute_result"
    }
   ],
   "source": [
    "# or means at least one expressions ha to be True\n",
    "x<y or y>z or y<z "
   ]
  },
  {
   "cell_type": "code",
   "execution_count": 108,
   "id": "f6f71f88",
   "metadata": {},
   "outputs": [
    {
     "data": {
      "text/plain": [
       "True"
      ]
     },
     "execution_count": 108,
     "metadata": {},
     "output_type": "execute_result"
    }
   ],
   "source": [
    "x<y and z>y or z<y # sequentially evauates the expression"
   ]
  },
  {
   "cell_type": "code",
   "execution_count": 111,
   "id": "6688bc46",
   "metadata": {},
   "outputs": [
    {
     "data": {
      "text/plain": [
       "False"
      ]
     },
     "execution_count": 111,
     "metadata": {},
     "output_type": "execute_result"
    }
   ],
   "source": [
    "d = 20\n",
    "(x>y and z<y) or (z<y and d<z) \n",
    "# false         or       false"
   ]
  },
  {
   "cell_type": "markdown",
   "id": "527067fa",
   "metadata": {},
   "source": [
    "# not operator"
   ]
  },
  {
   "cell_type": "code",
   "execution_count": null,
   "id": "aa923db9",
   "metadata": {},
   "outputs": [],
   "source": []
  }
 ],
 "metadata": {
  "kernelspec": {
   "display_name": "Python 3 (ipykernel)",
   "language": "python",
   "name": "python3"
  },
  "language_info": {
   "codemirror_mode": {
    "name": "ipython",
    "version": 3
   },
   "file_extension": ".py",
   "mimetype": "text/x-python",
   "name": "python",
   "nbconvert_exporter": "python",
   "pygments_lexer": "ipython3",
   "version": "3.10.9"
  }
 },
 "nbformat": 4,
 "nbformat_minor": 5
}
