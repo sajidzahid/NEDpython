{
  "nbformat": 4,
  "nbformat_minor": 0,
  "metadata": {
    "colab": {
      "provenance": []
    },
    "kernelspec": {
      "name": "python3",
      "display_name": "Python 3"
    },
    "language_info": {
      "name": "python"
    }
  },
  "cells": [
    {
      "cell_type": "code",
      "execution_count": null,
      "metadata": {
        "id": "1MiqazxH-ihL"
      },
      "outputs": [],
      "source": []
    },
    {
      "cell_type": "markdown",
      "source": [
        "https://www.w3schools.com/python/python_operators.asp"
      ],
      "metadata": {
        "id": "xLecoky6BRC8"
      }
    },
    {
      "cell_type": "code",
      "source": [
        "\"1\" + \"1\""
      ],
      "metadata": {
        "colab": {
          "base_uri": "https://localhost:8080/",
          "height": 35
        },
        "id": "_JMS6KYFBR5a",
        "outputId": "5885822f-49ad-46b4-d0f1-e115c52027d7"
      },
      "execution_count": 1,
      "outputs": [
        {
          "output_type": "execute_result",
          "data": {
            "text/plain": [
              "'11'"
            ],
            "application/vnd.google.colaboratory.intrinsic+json": {
              "type": "string"
            }
          },
          "metadata": {},
          "execution_count": 1
        }
      ]
    },
    {
      "cell_type": "code",
      "source": [
        "1 + 1"
      ],
      "metadata": {
        "colab": {
          "base_uri": "https://localhost:8080/"
        },
        "id": "vIM9u00ZB6qr",
        "outputId": "eb397e63-670a-412e-a166-363003728d64"
      },
      "execution_count": 2,
      "outputs": [
        {
          "output_type": "execute_result",
          "data": {
            "text/plain": [
              "2"
            ]
          },
          "metadata": {},
          "execution_count": 2
        }
      ]
    },
    {
      "cell_type": "code",
      "source": [
        "3 - 2"
      ],
      "metadata": {
        "colab": {
          "base_uri": "https://localhost:8080/"
        },
        "id": "u-UjKAfMCC3J",
        "outputId": "687dc085-bfcd-41ae-bc4e-78f99275b711"
      },
      "execution_count": 3,
      "outputs": [
        {
          "output_type": "execute_result",
          "data": {
            "text/plain": [
              "1"
            ]
          },
          "metadata": {},
          "execution_count": 3
        }
      ]
    },
    {
      "cell_type": "code",
      "source": [
        "2 * 2"
      ],
      "metadata": {
        "colab": {
          "base_uri": "https://localhost:8080/"
        },
        "id": "d0jqyQEoC804",
        "outputId": "e4b8ecba-3d64-4bf1-800f-456c6bb78c31"
      },
      "execution_count": 4,
      "outputs": [
        {
          "output_type": "execute_result",
          "data": {
            "text/plain": [
              "4"
            ]
          },
          "metadata": {},
          "execution_count": 4
        }
      ]
    },
    {
      "cell_type": "code",
      "source": [
        "12 / 4"
      ],
      "metadata": {
        "colab": {
          "base_uri": "https://localhost:8080/"
        },
        "id": "NWsjokJ4C-Wo",
        "outputId": "09f45fb0-db31-4157-8141-cbf7b87a51ec"
      },
      "execution_count": 5,
      "outputs": [
        {
          "output_type": "execute_result",
          "data": {
            "text/plain": [
              "3.0"
            ]
          },
          "metadata": {},
          "execution_count": 5
        }
      ]
    },
    {
      "cell_type": "code",
      "source": [
        "12 / 5"
      ],
      "metadata": {
        "colab": {
          "base_uri": "https://localhost:8080/"
        },
        "id": "W3KEbZqXDAAv",
        "outputId": "fb0785da-12f2-4f71-e1f1-686373115f6f"
      },
      "execution_count": 6,
      "outputs": [
        {
          "output_type": "execute_result",
          "data": {
            "text/plain": [
              "2.4"
            ]
          },
          "metadata": {},
          "execution_count": 6
        }
      ]
    },
    {
      "cell_type": "code",
      "source": [
        "12 // 5"
      ],
      "metadata": {
        "colab": {
          "base_uri": "https://localhost:8080/"
        },
        "id": "9p9UER3YDBjS",
        "outputId": "6aeb65ad-0cbc-4531-d274-636019ce09a8"
      },
      "execution_count": 7,
      "outputs": [
        {
          "output_type": "execute_result",
          "data": {
            "text/plain": [
              "2"
            ]
          },
          "metadata": {},
          "execution_count": 7
        }
      ]
    },
    {
      "cell_type": "code",
      "source": [
        "11 % 3"
      ],
      "metadata": {
        "colab": {
          "base_uri": "https://localhost:8080/"
        },
        "id": "ObzIJdq9DGbb",
        "outputId": "5096141a-14ee-4b9b-d621-80a9df5a85bc"
      },
      "execution_count": 8,
      "outputs": [
        {
          "output_type": "execute_result",
          "data": {
            "text/plain": [
              "2"
            ]
          },
          "metadata": {},
          "execution_count": 8
        }
      ]
    },
    {
      "cell_type": "code",
      "source": [
        "2 ** 3\n",
        "# 2 * 2 * 2 = 8"
      ],
      "metadata": {
        "colab": {
          "base_uri": "https://localhost:8080/"
        },
        "id": "T-PMi7GADI0z",
        "outputId": "0304f9c8-79dd-4846-9651-740edc598933"
      },
      "execution_count": 9,
      "outputs": [
        {
          "output_type": "execute_result",
          "data": {
            "text/plain": [
              "8"
            ]
          },
          "metadata": {},
          "execution_count": 9
        }
      ]
    },
    {
      "cell_type": "code",
      "source": [
        "a = 7\n",
        "print(a)"
      ],
      "metadata": {
        "colab": {
          "base_uri": "https://localhost:8080/"
        },
        "id": "R2FqzSRbDWwD",
        "outputId": "f1895fd4-5973-400e-d0c5-202561238279"
      },
      "execution_count": 10,
      "outputs": [
        {
          "output_type": "stream",
          "name": "stdout",
          "text": [
            "7\n"
          ]
        }
      ]
    },
    {
      "cell_type": "code",
      "source": [
        "a = 7\n",
        "a = 3\n",
        "a = 4\n",
        "\n",
        "print(a)"
      ],
      "metadata": {
        "colab": {
          "base_uri": "https://localhost:8080/"
        },
        "id": "purS7EwyDiAh",
        "outputId": "fd4fd241-8086-4fb7-9bff-5290d57e12c3"
      },
      "execution_count": 11,
      "outputs": [
        {
          "output_type": "stream",
          "name": "stdout",
          "text": [
            "4\n"
          ]
        }
      ]
    },
    {
      "cell_type": "code",
      "source": [
        "a = 0\n",
        "# = 0 + 1\n",
        "# =   1\n",
        "# a = 1\n",
        "a = a + 1 # 1\n",
        "a = a + 2 # 3\n",
        "a += 4\n",
        "\n",
        "print(a)"
      ],
      "metadata": {
        "colab": {
          "base_uri": "https://localhost:8080/"
        },
        "id": "lPIWWJA0Dy9u",
        "outputId": "aeab8122-f9ae-4b70-f054-6f8b233fd7ce"
      },
      "execution_count": 16,
      "outputs": [
        {
          "output_type": "stream",
          "name": "stdout",
          "text": [
            "3\n"
          ]
        }
      ]
    },
    {
      "cell_type": "code",
      "source": [
        "a = 0\n",
        "\n",
        "a = a + 1\n",
        "a = a + 2\n",
        "a += 4\n",
        "\n",
        "print(a)"
      ],
      "metadata": {
        "colab": {
          "base_uri": "https://localhost:8080/"
        },
        "id": "Y17PLSPmEv7d",
        "outputId": "00185b8d-7491-4a65-d725-08670b8b4a20"
      },
      "execution_count": 17,
      "outputs": [
        {
          "output_type": "stream",
          "name": "stdout",
          "text": [
            "7\n"
          ]
        }
      ]
    },
    {
      "cell_type": "code",
      "source": [
        "x = 3\n",
        "print(x)"
      ],
      "metadata": {
        "colab": {
          "base_uri": "https://localhost:8080/"
        },
        "id": "HMzLbwl-D2nW",
        "outputId": "db148661-670d-4b26-f537-4e66365d28e9"
      },
      "execution_count": 19,
      "outputs": [
        {
          "output_type": "stream",
          "name": "stdout",
          "text": [
            "3\n"
          ]
        }
      ]
    },
    {
      "cell_type": "code",
      "source": [
        "print( y := 3)\n"
      ],
      "metadata": {
        "colab": {
          "base_uri": "https://localhost:8080/"
        },
        "id": "b0r-tkTSFHA3",
        "outputId": "c1ba2aa0-df5b-4f7b-8cfe-3a19e08b0e16"
      },
      "execution_count": 21,
      "outputs": [
        {
          "output_type": "stream",
          "name": "stdout",
          "text": [
            "3\n"
          ]
        }
      ]
    },
    {
      "cell_type": "markdown",
      "source": [
        "# Python Comparison Operators\n"
      ],
      "metadata": {
        "id": "ofQWiW-NFxc-"
      }
    },
    {
      "cell_type": "code",
      "source": [
        "print(2 == 4)"
      ],
      "metadata": {
        "colab": {
          "base_uri": "https://localhost:8080/"
        },
        "id": "8bVo1qs7FRPu",
        "outputId": "47e6aede-7d7e-4df2-da49-cae0aad68b7b"
      },
      "execution_count": 22,
      "outputs": [
        {
          "output_type": "stream",
          "name": "stdout",
          "text": [
            "False\n"
          ]
        }
      ]
    },
    {
      "cell_type": "code",
      "source": [
        "print(2 == 2)"
      ],
      "metadata": {
        "colab": {
          "base_uri": "https://localhost:8080/"
        },
        "id": "QMT-wulaGOgR",
        "outputId": "58350373-1d33-4ff5-8c41-4199a4d6999f"
      },
      "execution_count": 23,
      "outputs": [
        {
          "output_type": "stream",
          "name": "stdout",
          "text": [
            "True\n"
          ]
        }
      ]
    },
    {
      "cell_type": "code",
      "source": [
        "\"Qasim\" == \"qasim\""
      ],
      "metadata": {
        "colab": {
          "base_uri": "https://localhost:8080/"
        },
        "id": "GFOtPw2VGQtx",
        "outputId": "40146d4c-6c71-4109-bf3f-346f7e04fd19"
      },
      "execution_count": 24,
      "outputs": [
        {
          "output_type": "execute_result",
          "data": {
            "text/plain": [
              "False"
            ]
          },
          "metadata": {},
          "execution_count": 24
        }
      ]
    },
    {
      "cell_type": "code",
      "source": [
        "\"Qasim\" == \"Qasim\""
      ],
      "metadata": {
        "colab": {
          "base_uri": "https://localhost:8080/"
        },
        "id": "XkUJg-pMGZ6I",
        "outputId": "0abcf9db-dfd5-4e04-8bed-4ae9ac24f6e1"
      },
      "execution_count": 25,
      "outputs": [
        {
          "output_type": "execute_result",
          "data": {
            "text/plain": [
              "True"
            ]
          },
          "metadata": {},
          "execution_count": 25
        }
      ]
    },
    {
      "cell_type": "code",
      "source": [
        "2 != 3"
      ],
      "metadata": {
        "colab": {
          "base_uri": "https://localhost:8080/"
        },
        "id": "sPhoxXjmGcSW",
        "outputId": "c3e8695d-489a-458c-f148-acec0d2328cb"
      },
      "execution_count": 26,
      "outputs": [
        {
          "output_type": "execute_result",
          "data": {
            "text/plain": [
              "True"
            ]
          },
          "metadata": {},
          "execution_count": 26
        }
      ]
    },
    {
      "cell_type": "code",
      "source": [
        "2 != 2"
      ],
      "metadata": {
        "colab": {
          "base_uri": "https://localhost:8080/"
        },
        "id": "wh3jb-weGo_o",
        "outputId": "172cb638-dfaa-4801-8a2a-f4caa9d5ccc6"
      },
      "execution_count": 27,
      "outputs": [
        {
          "output_type": "execute_result",
          "data": {
            "text/plain": [
              "False"
            ]
          },
          "metadata": {},
          "execution_count": 27
        }
      ]
    },
    {
      "cell_type": "code",
      "source": [
        "\"Qasim\" != \"qasim\""
      ],
      "metadata": {
        "colab": {
          "base_uri": "https://localhost:8080/"
        },
        "id": "thLyGzdFGsHZ",
        "outputId": "c3d7ccc4-a17e-46a8-cb4a-342db910ee59"
      },
      "execution_count": 28,
      "outputs": [
        {
          "output_type": "execute_result",
          "data": {
            "text/plain": [
              "True"
            ]
          },
          "metadata": {},
          "execution_count": 28
        }
      ]
    },
    {
      "cell_type": "code",
      "source": [
        "5 > 6"
      ],
      "metadata": {
        "colab": {
          "base_uri": "https://localhost:8080/"
        },
        "id": "Go2Ib1I8GvYi",
        "outputId": "53b8e6fd-452c-47e2-e706-90f2a48324b4"
      },
      "execution_count": 29,
      "outputs": [
        {
          "output_type": "execute_result",
          "data": {
            "text/plain": [
              "False"
            ]
          },
          "metadata": {},
          "execution_count": 29
        }
      ]
    },
    {
      "cell_type": "code",
      "source": [
        "5 > 3"
      ],
      "metadata": {
        "colab": {
          "base_uri": "https://localhost:8080/"
        },
        "id": "plI6vsvmG9Fx",
        "outputId": "5705ebb6-12db-4c8d-9ae2-c456c9dd92ad"
      },
      "execution_count": 30,
      "outputs": [
        {
          "output_type": "execute_result",
          "data": {
            "text/plain": [
              "True"
            ]
          },
          "metadata": {},
          "execution_count": 30
        }
      ]
    },
    {
      "cell_type": "code",
      "source": [
        "12 > 7"
      ],
      "metadata": {
        "colab": {
          "base_uri": "https://localhost:8080/"
        },
        "id": "aKlP-eFzG-iA",
        "outputId": "0fc8cafe-4876-44b8-8342-879a226d686c"
      },
      "execution_count": 31,
      "outputs": [
        {
          "output_type": "execute_result",
          "data": {
            "text/plain": [
              "True"
            ]
          },
          "metadata": {},
          "execution_count": 31
        }
      ]
    },
    {
      "cell_type": "code",
      "source": [
        "# prompt: print Q ascci\n",
        "\n",
        "print(ord(\"Q\"))\n",
        "print(ord('q'))\n"
      ],
      "metadata": {
        "colab": {
          "base_uri": "https://localhost:8080/"
        },
        "id": "p_wl4kHFHOjE",
        "outputId": "ef81a864-642a-48b1-e02c-2b0b8ddf8f5b"
      },
      "execution_count": 39,
      "outputs": [
        {
          "output_type": "stream",
          "name": "stdout",
          "text": [
            "81\n",
            "113\n"
          ]
        }
      ]
    },
    {
      "cell_type": "code",
      "source": [
        "\"qasim\" > \"Qasim\""
      ],
      "metadata": {
        "colab": {
          "base_uri": "https://localhost:8080/"
        },
        "id": "ZOGYsFh8HBZ6",
        "outputId": "6678e344-13ee-414a-89a7-ffb36a6feae5"
      },
      "execution_count": 34,
      "outputs": [
        {
          "output_type": "execute_result",
          "data": {
            "text/plain": [
              "True"
            ]
          },
          "metadata": {},
          "execution_count": 34
        }
      ]
    },
    {
      "cell_type": "code",
      "source": [
        "5 > 5"
      ],
      "metadata": {
        "colab": {
          "base_uri": "https://localhost:8080/"
        },
        "id": "6-GUwbmgHEO_",
        "outputId": "9cc973dc-6fe6-4117-a869-d5eaf3debedf"
      },
      "execution_count": 40,
      "outputs": [
        {
          "output_type": "execute_result",
          "data": {
            "text/plain": [
              "False"
            ]
          },
          "metadata": {},
          "execution_count": 40
        }
      ]
    },
    {
      "cell_type": "code",
      "source": [
        "5 >= 5"
      ],
      "metadata": {
        "colab": {
          "base_uri": "https://localhost:8080/"
        },
        "id": "9b8BilsVHrdX",
        "outputId": "46226c43-340e-4946-f8d3-3c31514e9bef"
      },
      "execution_count": 41,
      "outputs": [
        {
          "output_type": "execute_result",
          "data": {
            "text/plain": [
              "True"
            ]
          },
          "metadata": {},
          "execution_count": 41
        }
      ]
    },
    {
      "cell_type": "code",
      "source": [
        "5 => 5"
      ],
      "metadata": {
        "colab": {
          "base_uri": "https://localhost:8080/",
          "height": 108
        },
        "id": "O8yGq7WSHtP5",
        "outputId": "dcaa3661-c7b8-4b08-888a-55604a36f2f8"
      },
      "execution_count": 42,
      "outputs": [
        {
          "output_type": "error",
          "ename": "SyntaxError",
          "evalue": "cannot assign to literal (<ipython-input-42-370ffe2009c2>, line 1)",
          "traceback": [
            "\u001b[0;36m  File \u001b[0;32m\"<ipython-input-42-370ffe2009c2>\"\u001b[0;36m, line \u001b[0;32m1\u001b[0m\n\u001b[0;31m    5 => 5\u001b[0m\n\u001b[0m    ^\u001b[0m\n\u001b[0;31mSyntaxError\u001b[0m\u001b[0;31m:\u001b[0m cannot assign to literal\n"
          ]
        }
      ]
    },
    {
      "cell_type": "markdown",
      "source": [
        "# Python Logical Operators\n"
      ],
      "metadata": {
        "id": "97DJk5ryIThe"
      }
    },
    {
      "cell_type": "code",
      "source": [
        "# True      True       True          True\n",
        "5 == 5 and 2 == 2 and 3 == 3 and 'Qasim' == 'Qasim'"
      ],
      "metadata": {
        "colab": {
          "base_uri": "https://localhost:8080/"
        },
        "id": "gDgehH1sHvoM",
        "outputId": "ffea88ca-52f9-4c37-c16b-df7b7c719563"
      },
      "execution_count": 46,
      "outputs": [
        {
          "output_type": "execute_result",
          "data": {
            "text/plain": [
              "True"
            ]
          },
          "metadata": {},
          "execution_count": 46
        }
      ]
    },
    {
      "cell_type": "code",
      "source": [
        "print(True and True and True and True)\n",
        "print(False and True and True and True)\n",
        "print(True and False and False and True)\n"
      ],
      "metadata": {
        "colab": {
          "base_uri": "https://localhost:8080/"
        },
        "id": "mxRU6MfiIbSS",
        "outputId": "23a6fd40-19ec-40f5-fe38-c70d47627d3d"
      },
      "execution_count": 49,
      "outputs": [
        {
          "output_type": "stream",
          "name": "stdout",
          "text": [
            "True\n",
            "False\n",
            "False\n"
          ]
        }
      ]
    },
    {
      "cell_type": "code",
      "source": [
        "# True      True       True          True\n",
        "print(5 == 5 or 2 == 2 or 3 == 3 or 'Qasim' == 'Qasim')\n",
        "print(5 == 5 or 2 == 2 or 3 == 3 or 'Qasim' == 'qasim')\n",
        "print(5 == 3 or 2 == 2 or 3 == 3 or 'Qasim' == 'qasim')\n",
        "print(5 == 2 or 2 == 1 or 3 == 3 or 'Qasim' == 'q')"
      ],
      "metadata": {
        "colab": {
          "base_uri": "https://localhost:8080/"
        },
        "id": "0SleC57CJC7n",
        "outputId": "377c8dd5-58cf-4f55-9c19-7a53b3a35762"
      },
      "execution_count": 50,
      "outputs": [
        {
          "output_type": "stream",
          "name": "stdout",
          "text": [
            "True\n",
            "True\n",
            "True\n",
            "True\n"
          ]
        }
      ]
    },
    {
      "cell_type": "code",
      "source": [
        "(True or False or False) and True"
      ],
      "metadata": {
        "colab": {
          "base_uri": "https://localhost:8080/"
        },
        "id": "LGnMRVnsJmeM",
        "outputId": "bdd902ea-98ca-4655-a7f6-1e985a84586b"
      },
      "execution_count": 52,
      "outputs": [
        {
          "output_type": "execute_result",
          "data": {
            "text/plain": [
              "True"
            ]
          },
          "metadata": {},
          "execution_count": 52
        }
      ]
    },
    {
      "cell_type": "code",
      "source": [
        "not True"
      ],
      "metadata": {
        "colab": {
          "base_uri": "https://localhost:8080/"
        },
        "id": "b8biZBpZKFfE",
        "outputId": "cac2d195-7540-47a7-bc23-af436e20430a"
      },
      "execution_count": 53,
      "outputs": [
        {
          "output_type": "execute_result",
          "data": {
            "text/plain": [
              "False"
            ]
          },
          "metadata": {},
          "execution_count": 53
        }
      ]
    },
    {
      "cell_type": "code",
      "source": [
        "not 2 == 2"
      ],
      "metadata": {
        "colab": {
          "base_uri": "https://localhost:8080/"
        },
        "id": "YmvNxoGvKcnt",
        "outputId": "7f2dc59f-f7d2-4fe1-b825-88ef8e766902"
      },
      "execution_count": 54,
      "outputs": [
        {
          "output_type": "execute_result",
          "data": {
            "text/plain": [
              "False"
            ]
          },
          "metadata": {},
          "execution_count": 54
        }
      ]
    },
    {
      "cell_type": "markdown",
      "source": [
        "# Python Identity Operators\n"
      ],
      "metadata": {
        "id": "SpmiPRXNKnLh"
      }
    },
    {
      "cell_type": "code",
      "source": [
        "a = 5\n",
        "b = 5\n",
        "c = 5\n",
        "print(id(a), id(b), id(c))"
      ],
      "metadata": {
        "colab": {
          "base_uri": "https://localhost:8080/"
        },
        "id": "V-SF0bV0Kmu1",
        "outputId": "2afedaa8-717e-483e-d58f-7eff8bb0b6da"
      },
      "execution_count": 55,
      "outputs": [
        {
          "output_type": "stream",
          "name": "stdout",
          "text": [
            "139334017401200 139334017401200 139334017401200\n"
          ]
        }
      ]
    },
    {
      "cell_type": "code",
      "source": [
        "a is b"
      ],
      "metadata": {
        "colab": {
          "base_uri": "https://localhost:8080/"
        },
        "id": "g8HsYncWLUhh",
        "outputId": "9b2ec034-387c-4e8d-a4ca-853a23f77c6a"
      },
      "execution_count": 56,
      "outputs": [
        {
          "output_type": "execute_result",
          "data": {
            "text/plain": [
              "True"
            ]
          },
          "metadata": {},
          "execution_count": 56
        }
      ]
    },
    {
      "cell_type": "code",
      "source": [
        "a is not b"
      ],
      "metadata": {
        "colab": {
          "base_uri": "https://localhost:8080/"
        },
        "id": "DLGzsQ34LWXU",
        "outputId": "f690b775-93a9-421b-8b15-302d0817e693"
      },
      "execution_count": 57,
      "outputs": [
        {
          "output_type": "execute_result",
          "data": {
            "text/plain": [
              "False"
            ]
          },
          "metadata": {},
          "execution_count": 57
        }
      ]
    },
    {
      "cell_type": "markdown",
      "source": [
        "#  Python Membership Operators\n"
      ],
      "metadata": {
        "id": "aI6xyjL2MLcj"
      }
    },
    {
      "cell_type": "code",
      "source": [
        "post = \"\"\"\n",
        "Hello world\n",
        "we love our country\n",
        "pakistan zindabad\n",
        "\"\"\"\n",
        "\n",
        "print(post)\n",
        "print('pakistan' in post)\n",
        "print(\"Pakistan\" in post)"
      ],
      "metadata": {
        "colab": {
          "base_uri": "https://localhost:8080/"
        },
        "id": "nVFCeWkOMMe4",
        "outputId": "09f8e13e-b78a-4690-d75b-dbb1376bf92a"
      },
      "execution_count": 60,
      "outputs": [
        {
          "output_type": "stream",
          "name": "stdout",
          "text": [
            "\n",
            "Hello world\n",
            "we love our country\n",
            "pakistan zindabad\n",
            "\n",
            "True\n",
            "False\n"
          ]
        }
      ]
    },
    {
      "cell_type": "code",
      "source": [
        "names = [\"Qasim\", \"Ali\", \"Hamza\", \"Zia\", \"Najeed\"]\n",
        "\n",
        "i = 0\n",
        "while i<len(names):\n",
        "    if names[i] == \"Najam\":\n",
        "        print(True)\n",
        "        break\n",
        "    i += 1\n",
        "else:\n",
        "  print(False)\n",
        "\n",
        "#"
      ],
      "metadata": {
        "colab": {
          "base_uri": "https://localhost:8080/"
        },
        "id": "sz2RO8cuMhqO",
        "outputId": "6541043d-67bd-460b-a9c6-81bf6e6c5f54"
      },
      "execution_count": 63,
      "outputs": [
        {
          "output_type": "stream",
          "name": "stdout",
          "text": [
            "False\n"
          ]
        }
      ]
    },
    {
      "cell_type": "code",
      "source": [
        "names = [\"Qasim\", \"Ali\", \"Hamza\", \"Zia\", \"Najeed\"]\n",
        "\n",
        "print(\"Najeed\" in names)\n",
        "print(\"Najam\" not in names)\n",
        "print(\"Najam\" in names)"
      ],
      "metadata": {
        "colab": {
          "base_uri": "https://localhost:8080/"
        },
        "id": "kVwnpFQgNI6E",
        "outputId": "0e88c001-30b1-40b7-a867-29f6b806cee1"
      },
      "execution_count": 66,
      "outputs": [
        {
          "output_type": "stream",
          "name": "stdout",
          "text": [
            "True\n",
            "True\n",
            "False\n"
          ]
        }
      ]
    },
    {
      "cell_type": "code",
      "source": [
        "address = [\"Pakistan\", 'Iran',\"Pakistan\"]\n",
        "print(\"Pakistan\" in address)"
      ],
      "metadata": {
        "colab": {
          "base_uri": "https://localhost:8080/"
        },
        "id": "wJv9wiItNTNt",
        "outputId": "c15c7477-5094-4f62-b20e-5690456afe7d"
      },
      "execution_count": 67,
      "outputs": [
        {
          "output_type": "stream",
          "name": "stdout",
          "text": [
            "True\n"
          ]
        }
      ]
    },
    {
      "cell_type": "code",
      "source": [
        "#         2\n",
        "#   2  * 2 = 4\n",
        "#2 + 4 = 6\n",
        "2 + 2 * (7 - 5)\n"
      ],
      "metadata": {
        "colab": {
          "base_uri": "https://localhost:8080/"
        },
        "id": "6rA3AeqpN66K",
        "outputId": "bf637e6c-c2bd-4c2e-ed49-56b6a6c1b5fd"
      },
      "execution_count": 68,
      "outputs": [
        {
          "output_type": "execute_result",
          "data": {
            "text/plain": [
              "6"
            ]
          },
          "metadata": {},
          "execution_count": 68
        }
      ]
    },
    {
      "cell_type": "markdown",
      "source": [
        "# String Data types"
      ],
      "metadata": {
        "id": "nlqIYIckPUOy"
      }
    },
    {
      "cell_type": "code",
      "source": [
        "a = \"Qasim\"\n",
        "b = 'Qasim'\n",
        "c = \"\"\"Qasim\"\"\"\n",
        "d = '''Qasim'''\n",
        "\n",
        "print(type(a), type(b), type(c), type(d))\n",
        "print(id(a), id(b), id(c), id(d))"
      ],
      "metadata": {
        "colab": {
          "base_uri": "https://localhost:8080/"
        },
        "id": "93F9Iu2APWX9",
        "outputId": "788fbc76-4df7-4145-f3c6-0baab675490d"
      },
      "execution_count": 69,
      "outputs": [
        {
          "output_type": "stream",
          "name": "stdout",
          "text": [
            "<class 'str'> <class 'str'> <class 'str'> <class 'str'>\n",
            "139332689751536 139332689751536 139332689751536 139332689751536\n"
          ]
        }
      ]
    },
    {
      "cell_type": "code",
      "source": [
        "# prompt: print all methods of string\n",
        "\n",
        "string_methods = [method for method in dir(str) if not method.startswith(\"__\")]\n",
        "for idx, method in enumerate(string_methods):\n",
        "  print(idx , method)"
      ],
      "metadata": {
        "colab": {
          "base_uri": "https://localhost:8080/"
        },
        "id": "APdRMRwYOgiI",
        "outputId": "d14ed2da-4f6b-4fec-e5fe-8a849d186213"
      },
      "execution_count": 72,
      "outputs": [
        {
          "output_type": "stream",
          "name": "stdout",
          "text": [
            "0 capitalize\n",
            "1 casefold\n",
            "2 center\n",
            "3 count\n",
            "4 encode\n",
            "5 endswith\n",
            "6 expandtabs\n",
            "7 find\n",
            "8 format\n",
            "9 format_map\n",
            "10 index\n",
            "11 isalnum\n",
            "12 isalpha\n",
            "13 isascii\n",
            "14 isdecimal\n",
            "15 isdigit\n",
            "16 isidentifier\n",
            "17 islower\n",
            "18 isnumeric\n",
            "19 isprintable\n",
            "20 isspace\n",
            "21 istitle\n",
            "22 isupper\n",
            "23 join\n",
            "24 ljust\n",
            "25 lower\n",
            "26 lstrip\n",
            "27 maketrans\n",
            "28 partition\n",
            "29 removeprefix\n",
            "30 removesuffix\n",
            "31 replace\n",
            "32 rfind\n",
            "33 rindex\n",
            "34 rjust\n",
            "35 rpartition\n",
            "36 rsplit\n",
            "37 rstrip\n",
            "38 split\n",
            "39 splitlines\n",
            "40 startswith\n",
            "41 strip\n",
            "42 swapcase\n",
            "43 title\n",
            "44 translate\n",
            "45 upper\n",
            "46 zfill\n"
          ]
        }
      ]
    },
    {
      "cell_type": "code",
      "source": [
        "# prompt: print all attributes of string excluding methods\n",
        "\n",
        "string_attributes = [attr for attr in dir(str) if not attr.startswith(\"__\") and not callable(getattr(str, attr))]\n",
        "for idx, attr in enumerate(string_attributes):\n",
        "  print(idx, attr)"
      ],
      "metadata": {
        "id": "U-5O0DldQUC2"
      },
      "execution_count": 74,
      "outputs": []
    },
    {
      "cell_type": "code",
      "source": [
        "text = \"Pakistan zinda bad\"\n",
        "print(text)"
      ],
      "metadata": {
        "colab": {
          "base_uri": "https://localhost:8080/"
        },
        "id": "sO8KNIlbP4qZ",
        "outputId": "44a7a623-f2c3-49a9-b1d3-3558c27da0c5"
      },
      "execution_count": 75,
      "outputs": [
        {
          "output_type": "stream",
          "name": "stdout",
          "text": [
            "Pakistan zinda bad\n"
          ]
        }
      ]
    },
    {
      "cell_type": "code",
      "source": [
        "text = \"    Pakistan zinda bad   \"\n",
        "# variable_name.method_name()\n",
        "# variable_name.attribute_name\n",
        "print(text.capitalize())\n",
        "print(text.lower())\n",
        "print(text.upper())\n",
        "print(text.title())\n",
        "print(text.casefold())\n",
        "print(text.swapcase())\n",
        "print(text.count('a'))\n",
        "print(text.find('a'))\n",
        "print(text.index('a'))\n",
        "print(text.startswith('a'))\n",
        "print(text.endswith('a')) # False\n",
        "print(text.split()) # split space\n",
        "print(text.split('a'))\n",
        "print(text.splitlines())\n",
        "print(text.strip())\n",
        "print(text.lstrip())\n",
        "print(text.rstrip())\n",
        "print(text.replace('a', 'b'))\n",
        "print(text.join('abc'))\n"
      ],
      "metadata": {
        "colab": {
          "base_uri": "https://localhost:8080/"
        },
        "id": "cgmnyubkQlXi",
        "outputId": "4b181dc9-d896-4a6f-bbd3-f497848ae328"
      },
      "execution_count": 83,
      "outputs": [
        {
          "output_type": "stream",
          "name": "stdout",
          "text": [
            "    pakistan zinda bad   \n",
            "    pakistan zinda bad   \n",
            "    PAKISTAN ZINDA BAD   \n",
            "    Pakistan Zinda Bad   \n",
            "    pakistan zinda bad   \n",
            "    pAKISTAN ZINDA BAD   \n",
            "4\n",
            "5\n",
            "5\n",
            "False\n",
            "False\n",
            "['Pakistan', 'zinda', 'bad']\n",
            "['    P', 'kist', 'n zind', ' b', 'd   ']\n",
            "['    Pakistan zinda bad   ']\n",
            "Pakistan zinda bad\n",
            "Pakistan zinda bad   \n",
            "    Pakistan zinda bad\n",
            "    Pbkistbn zindb bbd   \n",
            "a    Pakistan zinda bad   b    Pakistan zinda bad   c\n"
          ]
        }
      ]
    },
    {
      "cell_type": "code",
      "source": [
        "card = \"\"\"\n",
        "PIAIC ISLAMABAD\n",
        "Bahria University\n",
        "Name: \\tMuhammad Qasim\n",
        "Father's Name: \\tMuhammad Aslam\n",
        "\"\"\"\n",
        "print(card)\n",
        "print(card.expandtabs(24))"
      ],
      "metadata": {
        "colab": {
          "base_uri": "https://localhost:8080/"
        },
        "id": "f3R5mRCrTp9e",
        "outputId": "0e371719-c604-4ee6-9439-5532d800677e"
      },
      "execution_count": 91,
      "outputs": [
        {
          "output_type": "stream",
          "name": "stdout",
          "text": [
            "\n",
            "PIAIC ISLAMABAD\n",
            "Bahria University\n",
            "Name: \tMuhammad Qasim\n",
            "Father's Name: \tMuhammad Aslam\n",
            "\n",
            "\n",
            "PIAIC ISLAMABAD\n",
            "Bahria University\n",
            "Name:                   Muhammad Qasim\n",
            "Father's Name:          Muhammad Aslam\n",
            "\n"
          ]
        }
      ]
    },
    {
      "cell_type": "code",
      "source": [
        "names = [\"Qasim\", \"Ali\", \"Hamza\", \"Zia\", \"Najeed\"]\n",
        "print(names)\n",
        "\" Dear, \".join(names)"
      ],
      "metadata": {
        "colab": {
          "base_uri": "https://localhost:8080/",
          "height": 53
        },
        "id": "Ry1bHtnuRKyo",
        "outputId": "bd25d542-a2d5-43ea-ab52-45e2cc91fa1d"
      },
      "execution_count": 86,
      "outputs": [
        {
          "output_type": "stream",
          "name": "stdout",
          "text": [
            "['Qasim', 'Ali', 'Hamza', 'Zia', 'Najeed']\n"
          ]
        },
        {
          "output_type": "execute_result",
          "data": {
            "text/plain": [
              "'Qasim Dear, Ali Dear, Hamza Dear, Zia Dear, Najeed'"
            ],
            "application/vnd.google.colaboratory.intrinsic+json": {
              "type": "string"
            }
          },
          "metadata": {},
          "execution_count": 86
        }
      ]
    },
    {
      "cell_type": "code",
      "source": [
        "text1= \"\"\"\n",
        "Pakistan {2 + 7}\n",
        "name list {names}\n",
        "\"\"\"\n",
        "print(text1)"
      ],
      "metadata": {
        "colab": {
          "base_uri": "https://localhost:8080/"
        },
        "id": "32j21jy_TAfj",
        "outputId": "b2c97461-a176-4f58-bf71-e4853ca3f791"
      },
      "execution_count": 96,
      "outputs": [
        {
          "output_type": "stream",
          "name": "stdout",
          "text": [
            "\n",
            "Pakistan {2 + 7}\n",
            "name list {names}\n",
            "\n"
          ]
        }
      ]
    },
    {
      "cell_type": "code",
      "source": [
        "text1= f\"\"\"\n",
        "Pakistan {2 + 7}\n",
        "names list {names}\n",
        "\"\"\"\n",
        "print(text1)"
      ],
      "metadata": {
        "colab": {
          "base_uri": "https://localhost:8080/"
        },
        "id": "VoTVtUWMUjTc",
        "outputId": "2e5a2eca-c3b0-4449-b650-06ac182e7fa1"
      },
      "execution_count": 95,
      "outputs": [
        {
          "output_type": "stream",
          "name": "stdout",
          "text": [
            "\n",
            "Pakistan 9\n",
            "names list ['Qasim', 'Ali', 'Hamza', 'Zia', 'Najeed']\n",
            "\n"
          ]
        }
      ]
    },
    {
      "cell_type": "code",
      "source": [
        "a = 7\n",
        "print(type(a))\n",
        "print(a)"
      ],
      "metadata": {
        "colab": {
          "base_uri": "https://localhost:8080/"
        },
        "id": "YLFOZx2rUrIr",
        "outputId": "08cd1f47-4ffd-4256-c30f-754dc2899970"
      },
      "execution_count": 97,
      "outputs": [
        {
          "output_type": "stream",
          "name": "stdout",
          "text": [
            "<class 'int'>\n",
            "7\n"
          ]
        }
      ]
    },
    {
      "cell_type": "code",
      "source": [
        "for name in names:\n",
        "  card = f\"\"\"\n",
        "PIAIC ISLAMABAD\n",
        "Bahria University\n",
        "Name: \\t{name}\n",
        "Father's Name: \\tMuhammad Aslam\n",
        "\"\"\"\n",
        "  print(name)\n",
        "  print(card)"
      ],
      "metadata": {
        "colab": {
          "base_uri": "https://localhost:8080/"
        },
        "id": "mfG3lfxKU5wA",
        "outputId": "5d3424f5-b579-4130-e77e-9f0c7f2ded8e"
      },
      "execution_count": 101,
      "outputs": [
        {
          "output_type": "stream",
          "name": "stdout",
          "text": [
            "Qasim\n",
            "\n",
            "PIAIC ISLAMABAD\n",
            "Bahria University\n",
            "Name: \tQasim\n",
            "Father's Name: \tMuhammad Aslam\n",
            "\n",
            "Ali\n",
            "\n",
            "PIAIC ISLAMABAD\n",
            "Bahria University\n",
            "Name: \tAli\n",
            "Father's Name: \tMuhammad Aslam\n",
            "\n",
            "Hamza\n",
            "\n",
            "PIAIC ISLAMABAD\n",
            "Bahria University\n",
            "Name: \tHamza\n",
            "Father's Name: \tMuhammad Aslam\n",
            "\n",
            "Zia\n",
            "\n",
            "PIAIC ISLAMABAD\n",
            "Bahria University\n",
            "Name: \tZia\n",
            "Father's Name: \tMuhammad Aslam\n",
            "\n",
            "Najeed\n",
            "\n",
            "PIAIC ISLAMABAD\n",
            "Bahria University\n",
            "Name: \tNajeed\n",
            "Father's Name: \tMuhammad Aslam\n",
            "\n"
          ]
        }
      ]
    },
    {
      "cell_type": "code",
      "source": [
        "a = 7\n",
        "print(type(a))"
      ],
      "metadata": {
        "colab": {
          "base_uri": "https://localhost:8080/"
        },
        "id": "EipDVJgEVHnR",
        "outputId": "3a34b7be-9d81-4824-a31f-6861b4889dd6"
      },
      "execution_count": 102,
      "outputs": [
        {
          "output_type": "stream",
          "name": "stdout",
          "text": [
            "<class 'int'>\n"
          ]
        }
      ]
    },
    {
      "cell_type": "code",
      "source": [
        "a = 7.2\n",
        "print(type(a))"
      ],
      "metadata": {
        "colab": {
          "base_uri": "https://localhost:8080/"
        },
        "id": "A3PwrGXNVj4S",
        "outputId": "408051c9-55c1-41f4-8065-8491f25fe758"
      },
      "execution_count": 103,
      "outputs": [
        {
          "output_type": "stream",
          "name": "stdout",
          "text": [
            "<class 'float'>\n"
          ]
        }
      ]
    },
    {
      "cell_type": "code",
      "source": [
        "a = True\n",
        "print(a)\n",
        "print(type(a))"
      ],
      "metadata": {
        "colab": {
          "base_uri": "https://localhost:8080/"
        },
        "id": "K7V3NUBpVmDN",
        "outputId": "072a9cda-6aec-4754-ca38-dbd7cab24bd9"
      },
      "execution_count": 108,
      "outputs": [
        {
          "output_type": "stream",
          "name": "stdout",
          "text": [
            "True\n",
            "<class 'bool'>\n"
          ]
        }
      ]
    },
    {
      "cell_type": "code",
      "source": [
        "a = 'pakistan'\n",
        "print(a)\n",
        "\n",
        "print(type(a))"
      ],
      "metadata": {
        "colab": {
          "base_uri": "https://localhost:8080/"
        },
        "id": "pGA6nUDaVoUs",
        "outputId": "5b5ba7f0-276e-4af4-aebb-e62599e2fd17"
      },
      "execution_count": 109,
      "outputs": [
        {
          "output_type": "stream",
          "name": "stdout",
          "text": [
            "pakistan\n",
            "<class 'str'>\n"
          ]
        }
      ]
    },
    {
      "cell_type": "code",
      "source": [
        "a = [1,2,3,'a','b']\n",
        "print(a)\n",
        "\n",
        "print(type(a))"
      ],
      "metadata": {
        "colab": {
          "base_uri": "https://localhost:8080/"
        },
        "id": "eknfuO6YVrby",
        "outputId": "c057d7df-9b58-4b35-f318-d0c08a759535"
      },
      "execution_count": 110,
      "outputs": [
        {
          "output_type": "stream",
          "name": "stdout",
          "text": [
            "[1, 2, 3, 'a', 'b']\n",
            "<class 'list'>\n"
          ]
        }
      ]
    },
    {
      "cell_type": "code",
      "source": [
        "a = {1,1,1,2,3,3}\n",
        "print(a)\n",
        "\n",
        "print(type(a))"
      ],
      "metadata": {
        "colab": {
          "base_uri": "https://localhost:8080/"
        },
        "id": "DnXTtrR3Vujz",
        "outputId": "2c499f55-5a25-41f6-a5a0-9563788d1fe8"
      },
      "execution_count": 111,
      "outputs": [
        {
          "output_type": "stream",
          "name": "stdout",
          "text": [
            "{1, 2, 3}\n",
            "<class 'set'>\n"
          ]
        }
      ]
    },
    {
      "cell_type": "code",
      "source": [
        "a = (1,1,1,2,3,3)\n",
        "print(a)\n",
        "\n",
        "print(type(a))\n"
      ],
      "metadata": {
        "colab": {
          "base_uri": "https://localhost:8080/"
        },
        "id": "kKtzu99aVyVW",
        "outputId": "e10e40a7-6f99-456a-be8f-0db8c8750f6f"
      },
      "execution_count": 112,
      "outputs": [
        {
          "output_type": "stream",
          "name": "stdout",
          "text": [
            "(1, 1, 1, 2, 3, 3)\n",
            "<class 'tuple'>\n"
          ]
        }
      ]
    },
    {
      "cell_type": "code",
      "source": [
        "a = {\n",
        "    \"name\": \"Qasim\",\n",
        "    \"fname\": \"Aslam\",\n",
        "    \"age\": 30\n",
        "}\n",
        "print(a)\n",
        "\n",
        "print(type(a))\n"
      ],
      "metadata": {
        "colab": {
          "base_uri": "https://localhost:8080/"
        },
        "id": "MD-UxQHeV8sh",
        "outputId": "656328a3-b62e-4d43-9fad-588e3f95c005"
      },
      "execution_count": 113,
      "outputs": [
        {
          "output_type": "stream",
          "name": "stdout",
          "text": [
            "{'name': 'Qasim', 'fname': 'Aslam', 'age': 30}\n",
            "<class 'dict'>\n"
          ]
        }
      ]
    },
    {
      "cell_type": "code",
      "source": [],
      "metadata": {
        "id": "yUeevQiTWAEI"
      },
      "execution_count": null,
      "outputs": []
    }
  ]
}