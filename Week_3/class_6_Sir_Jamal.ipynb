{
 "cells": [
  {
   "cell_type": "markdown",
   "id": "d0785ff2-ec12-4827-b19c-3a1745469f2e",
   "metadata": {},
   "source": [
    "# Python Collection Data Types\n",
    "## Pyhon Lists"
   ]
  },
  {
   "cell_type": "code",
   "execution_count": 1,
   "id": "f850aafa-ad17-4e3d-abc0-609757023465",
   "metadata": {},
   "outputs": [
    {
     "name": "stdout",
     "output_type": "stream",
     "text": [
      "[]\n",
      "<class 'list'>\n"
     ]
    }
   ],
   "source": [
    "names = []\n",
    "print(names)\n",
    "print(type(names))"
   ]
  },
  {
   "cell_type": "code",
   "execution_count": 2,
   "id": "9e4b8f89-ac8c-4873-8c9d-bd89468705b5",
   "metadata": {},
   "outputs": [
    {
     "name": "stdout",
     "output_type": "stream",
     "text": [
      "['Jamal', 'Ahmed', 'Khan', 'Hamza', 'Akram']\n"
     ]
    }
   ],
   "source": [
    "names = [\"Jamal\",\"Ahmed\",\"Khan\",\"Hamza\",\"Akram\"]\n",
    "print(names)"
   ]
  },
  {
   "cell_type": "code",
   "execution_count": 4,
   "id": "26b46ce2-5769-4363-a311-5d619fd82ecf",
   "metadata": {},
   "outputs": [],
   "source": [
    "# Lists are heterogenous meaning they can store more than one different data\n",
    "# types.\n",
    "# Lists have no fixed size unlike arrays"
   ]
  },
  {
   "cell_type": "code",
   "execution_count": 5,
   "id": "6e2d9335-494e-4d14-b680-12d7d088cdf3",
   "metadata": {},
   "outputs": [
    {
     "name": "stdout",
     "output_type": "stream",
     "text": [
      "5\n"
     ]
    }
   ],
   "source": [
    "print(len(names))"
   ]
  },
  {
   "cell_type": "code",
   "execution_count": 21,
   "id": "c0b17688-4179-4508-a122-21e21254a9d7",
   "metadata": {},
   "outputs": [
    {
     "name": "stdout",
     "output_type": "stream",
     "text": [
      "14\n",
      "['Jamal', 'Ahmed', 'Khan', 'Hamza', 'Akram', 10, 12, 13, 13.5678, 90.1234, False, True, True, True]\n"
     ]
    }
   ],
   "source": [
    "names = [\"Jamal\",\"Ahmed\",\"Khan\",\"Hamza\",\"Akram\"\n",
    "        ,10,12,13,13.5678,90.1234,False, True, True,True]\n",
    "print(len(names))\n",
    "print(names)"
   ]
  },
  {
   "cell_type": "code",
   "execution_count": 8,
   "id": "6234bf2c-5410-4616-be75-2eddae414b59",
   "metadata": {},
   "outputs": [
    {
     "name": "stdout",
     "output_type": "stream",
     "text": [
      "['__add__', '__class__', '__class_getitem__', '__contains__', '__delattr__', '__delitem__', '__dir__', '__doc__', '__eq__', '__format__', '__ge__', '__getattribute__', '__getitem__', '__getstate__', '__gt__', '__hash__', '__iadd__', '__imul__', '__init__', '__init_subclass__', '__iter__', '__le__', '__len__', '__lt__', '__mul__', '__ne__', '__new__', '__reduce__', '__reduce_ex__', '__repr__', '__reversed__', '__rmul__', '__setattr__', '__setitem__', '__sizeof__', '__str__', '__subclasshook__', 'append', 'clear', 'copy', 'count', 'extend', 'index', 'insert', 'pop', 'remove', 'reverse', 'sort']\n"
     ]
    }
   ],
   "source": [
    "print(dir(names))"
   ]
  },
  {
   "cell_type": "code",
   "execution_count": 9,
   "id": "fcfc6ca2-7637-40f9-82df-1d4da5817615",
   "metadata": {},
   "outputs": [
    {
     "name": "stdout",
     "output_type": "stream",
     "text": [
      "[]\n",
      "['Jamal Ahmed Khan', 'BE SE NED', 23, 'Innovative Solutions']\n"
     ]
    }
   ],
   "source": [
    "biodata = [] # empty list\n",
    "print(biodata)\n",
    "biodata.append(\"Jamal Ahmed Khan\")\n",
    "biodata.append(\"BE SE NED\")\n",
    "biodata.append(23)\n",
    "biodata.append(\"Innovative Solutions\")\n",
    "print(biodata)"
   ]
  },
  {
   "cell_type": "code",
   "execution_count": 10,
   "id": "0f27def2-23ce-4466-b27a-5daee1f24a4b",
   "metadata": {},
   "outputs": [
    {
     "name": "stdout",
     "output_type": "stream",
     "text": [
      "['Jamal', 'Ahmed', 'Khan', 'Hamza', 'Akram', 10, 12, 13, 13.5678, 90.1234, False, True, True, 'Aneeq']\n",
      "14\n"
     ]
    }
   ],
   "source": [
    "names.append(\"Aneeq\")\n",
    "print(names)\n",
    "print(len(names))"
   ]
  },
  {
   "cell_type": "code",
   "execution_count": 14,
   "id": "cf95e7e5-ea1f-4cf9-9e31-9b6f92b4fbe3",
   "metadata": {},
   "outputs": [
    {
     "name": "stdout",
     "output_type": "stream",
     "text": [
      "['Jamal Ahmed Khan', 'BE SE NED', 23, 'Innovative Solutions', ['HAssan']]\n"
     ]
    }
   ],
   "source": [
    "# nested lists\n",
    "# dimensionality of the lists increases only whwn a list has another list within it\n",
    "print(biodata)\n",
    "biodata.append([\"HAssan\",\"Sohail\",\"Masood\"])"
   ]
  },
  {
   "cell_type": "code",
   "execution_count": 15,
   "id": "a523f1fd-5681-49fc-a21a-ec493d24b4d6",
   "metadata": {},
   "outputs": [
    {
     "name": "stdout",
     "output_type": "stream",
     "text": [
      "['Jamal Ahmed Khan', 'BE SE NED', 23, 'Innovative Solutions', ['HAssan'], ['HAssan', 'Sohail', 'Masood']]\n"
     ]
    }
   ],
   "source": [
    "print(biodata)"
   ]
  },
  {
   "cell_type": "code",
   "execution_count": 16,
   "id": "2d3e9757-9ef0-4a30-882b-144f50f1b6c1",
   "metadata": {},
   "outputs": [
    {
     "name": "stdout",
     "output_type": "stream",
     "text": [
      "[['NUST', 'AIR', 'FAST ISL'], ['Peshawar Uni', 'islamia college'], [['NED', 'KU', 'IQRA', 'Sir Syed'], ['DHA SUffa', 'SZABIST', 'GReenwich']]]\n"
     ]
    }
   ],
   "source": [
    "unis = [\n",
    "    [\"NUST\",\"AIR\",\"FAST ISL\"], [\"Peshawar Uni\",\"islamia college\"]\n",
    "        ,[\n",
    "            [\"NED\",\"KU\",\"IQRA\",\"Sir Syed\"],\n",
    "          [\"DHA SUffa\",\"SZABIST\",\"GReenwich\"]\n",
    "         ]\n",
    "       ]\n",
    "print(unis)"
   ]
  },
  {
   "cell_type": "code",
   "execution_count": 17,
   "id": "9eda5709-5b10-4ef0-b5a2-05e6c427e1a8",
   "metadata": {},
   "outputs": [
    {
     "name": "stdout",
     "output_type": "stream",
     "text": [
      "3\n"
     ]
    }
   ],
   "source": [
    "print(len(unis))"
   ]
  },
  {
   "cell_type": "code",
   "execution_count": 18,
   "id": "259c68cd-6b7b-49cf-96c3-ce9a71b1e2f6",
   "metadata": {},
   "outputs": [
    {
     "name": "stdout",
     "output_type": "stream",
     "text": [
      "[['LGS'], ['IBA SUKKUR'], ['Beaconhose', 'CITY', ['ST micahel', 'St joseph', 'St paul', ['KGS', 'MAMA PARSI']]]]\n"
     ]
    }
   ],
   "source": [
    "schools = [\n",
    "    [\"LGS\"],\n",
    "    [\"IBA SUKKUR\"],\n",
    "    [\"Beaconhose\", \"CITY\"\n",
    "     , [\"ST micahel\",\"St joseph\",\"St paul\"\n",
    "        ,[\"KGS\",\"MAMA PARSI\"]]]\n",
    "]\n",
    "print(schools)"
   ]
  },
  {
   "cell_type": "code",
   "execution_count": 19,
   "id": "a5a40d45-ade0-4444-b5f8-c66df45ebc32",
   "metadata": {},
   "outputs": [
    {
     "name": "stdout",
     "output_type": "stream",
     "text": [
      "3\n"
     ]
    }
   ],
   "source": [
    "print(len(schools))"
   ]
  },
  {
   "cell_type": "code",
   "execution_count": 20,
   "id": "5eaed1ca-a9d6-4450-acdb-c16ec20471e2",
   "metadata": {},
   "outputs": [
    {
     "name": "stdout",
     "output_type": "stream",
     "text": [
      "['Jamal Ahmed Khan', 'BE SE NED', 23, 'Innovative Solutions', ['HAssan'], ['HAssan', 'Sohail', 'Masood']]\n",
      "[]\n"
     ]
    }
   ],
   "source": [
    "#'append', 'clear', 'copy', 'count', 'extend', 'index', 'insert', 'pop', 'remove', 'reverse', 'sort'\n",
    "print(biodata)\n",
    "biodata.clear()\n",
    "print(biodata)"
   ]
  },
  {
   "cell_type": "code",
   "execution_count": 28,
   "id": "f7819784-4024-4a72-b60c-a762514532c2",
   "metadata": {},
   "outputs": [
    {
     "data": {
      "text/plain": [
       "0"
      ]
     },
     "execution_count": 28,
     "metadata": {},
     "output_type": "execute_result"
    }
   ],
   "source": [
    "names.count(\"HAssan\")"
   ]
  },
  {
   "cell_type": "code",
   "execution_count": 23,
   "id": "be5773d3-57bc-4170-b6cc-dc5ac800cde0",
   "metadata": {},
   "outputs": [
    {
     "name": "stdout",
     "output_type": "stream",
     "text": [
      "['Jamal', 'Ahmed', 'Khan', 'Hamza', 'Akram', 10, 12, 13, 13.5678, 90.1234, False, True, True, True]\n"
     ]
    }
   ],
   "source": [
    "print(names)"
   ]
  },
  {
   "cell_type": "code",
   "execution_count": 30,
   "id": "c8f21dc6-916e-409c-9787-8c5123abe8d7",
   "metadata": {},
   "outputs": [
    {
     "name": "stdout",
     "output_type": "stream",
     "text": [
      "['Jamal', 'Ahmed', 'Khan', 'Hamza', 'Akram', 10, 12, 13, 13.5678, 90.1234, False, True, True, True, ['LGS'], ['IBA SUKKUR'], ['Beaconhose', 'CITY', ['ST micahel', 'St joseph', 'St paul', ['KGS', 'MAMA PARSI']]], ['LGS'], ['IBA SUKKUR'], ['Beaconhose', 'CITY', ['ST micahel', 'St joseph', 'St paul', ['KGS', 'MAMA PARSI']]]]\n"
     ]
    }
   ],
   "source": [
    "names.extend(schools)\n",
    "print(names)"
   ]
  },
  {
   "cell_type": "code",
   "execution_count": 33,
   "id": "da5b9057-7268-4250-ac48-736ca6a71eca",
   "metadata": {},
   "outputs": [
    {
     "name": "stdout",
     "output_type": "stream",
     "text": [
      "['Apple', 'mango', 'Cherry', 1, 22, 3, 4, 5, 6, 7, 8, 9]\n"
     ]
    }
   ],
   "source": [
    "# extend method adds two lists together\n",
    "numbers = [1,22,3]\n",
    "fruits = [\"Apple\",\"mango\",\"Cherry\"]\n",
    "fruits.extend(numbers) # old fruits list is now updated\n",
    "print(fruits)"
   ]
  },
  {
   "cell_type": "code",
   "execution_count": 34,
   "id": "dc0a1964-07f3-4663-b275-fb7c3e52bb2b",
   "metadata": {},
   "outputs": [
    {
     "name": "stdout",
     "output_type": "stream",
     "text": [
      "[1, 22, 3, 4, 5, 6, 7, 8, 9]\n"
     ]
    }
   ],
   "source": [
    "print(numbers)"
   ]
  },
  {
   "cell_type": "code",
   "execution_count": 31,
   "id": "cd47ddfb-f6eb-4b54-9bb7-93b6cc8fab7b",
   "metadata": {},
   "outputs": [
    {
     "name": "stdout",
     "output_type": "stream",
     "text": [
      "['Jamal', 'Ahmed', 'Khan', 'Hamza', 'Akram', 10, 12, 13, 13.5678, 90.1234, False, True, True, True, ['LGS'], ['IBA SUKKUR'], ['Beaconhose', 'CITY', ['ST micahel', 'St joseph', 'St paul', ['KGS', 'MAMA PARSI']]], ['LGS'], ['IBA SUKKUR']]\n"
     ]
    }
   ],
   "source": [
    "names.pop() # removes last item from the list\n",
    "print(names)"
   ]
  },
  {
   "cell_type": "code",
   "execution_count": 32,
   "id": "5b7e03fe-14d7-4563-9463-48537d34acfd",
   "metadata": {},
   "outputs": [
    {
     "name": "stdout",
     "output_type": "stream",
     "text": [
      "[1, 22, 3, 4, 5, 6, 7, 8]\n"
     ]
    }
   ],
   "source": [
    "numbers = [1,22,3,4,5,6,7,8,9]\n",
    "numbers.pop()\n",
    "print(numbers)"
   ]
  },
  {
   "cell_type": "code",
   "execution_count": 35,
   "id": "d51ba6ea-1b85-4275-a25b-67f44d4d4080",
   "metadata": {},
   "outputs": [
    {
     "name": "stdout",
     "output_type": "stream",
     "text": [
      "[1, 3, 4, 5, 6, 7, 8, 9]\n"
     ]
    }
   ],
   "source": [
    "numbers.remove(22)\n",
    "print(numbers)"
   ]
  },
  {
   "cell_type": "code",
   "execution_count": 36,
   "id": "a85e7dba-8f0f-41d3-b1f8-5da7b935326a",
   "metadata": {},
   "outputs": [
    {
     "name": "stdout",
     "output_type": "stream",
     "text": [
      "['Ahmed', 'Khan', 'Hamza', 'Akram', 10, 12, 13, 13.5678, 90.1234, False, True, True, True, ['LGS'], ['IBA SUKKUR'], ['Beaconhose', 'CITY', ['ST micahel', 'St joseph', 'St paul', ['KGS', 'MAMA PARSI']]], ['LGS'], ['IBA SUKKUR']]\n"
     ]
    }
   ],
   "source": [
    "names.remove(\"Jamal\")\n",
    "print(names)"
   ]
  },
  {
   "cell_type": "code",
   "execution_count": 37,
   "id": "05250484-0285-4611-adef-785f340c65ca",
   "metadata": {},
   "outputs": [
    {
     "name": "stdout",
     "output_type": "stream",
     "text": [
      "['Ahmed', 'Khan', 'Hamza', 'Akram', 10, 12, 13, 13.5678, 90.1234, False, True, True, True, ['LGS'], ['IBA SUKKUR'], ['Beaconhose', 'CITY', ['ST micahel', 'St joseph', 'St paul', ['KGS', 'MAMA PARSI']]], ['LGS'], ['IBA SUKKUR']]\n"
     ]
    }
   ],
   "source": [
    "names_new = names.copy()\n",
    "print(names_new)"
   ]
  },
  {
   "cell_type": "code",
   "execution_count": 38,
   "id": "62e08b01-35db-45c2-8c15-dd9c05413102",
   "metadata": {},
   "outputs": [
    {
     "name": "stdout",
     "output_type": "stream",
     "text": [
      "[9, 8, 7, 6, 5, 4, 3, 1]\n"
     ]
    }
   ],
   "source": [
    "numbers.reverse()\n",
    "print(numbers)"
   ]
  },
  {
   "cell_type": "code",
   "execution_count": 40,
   "id": "9994d32f-5f3e-4de3-8eeb-09fcc0abbe16",
   "metadata": {},
   "outputs": [
    {
     "name": "stdout",
     "output_type": "stream",
     "text": [
      "[-4, -2, -1, 1, 34, 43, 67, 108]\n"
     ]
    }
   ],
   "source": [
    "numbers_2 = [1,-1,-2,67,108,43,-4,34]\n",
    "numbers_2.sort()\n",
    "print(numbers_2)"
   ]
  },
  {
   "cell_type": "code",
   "execution_count": 41,
   "id": "a993f288-5845-4998-bd28-e9f67bd9479e",
   "metadata": {},
   "outputs": [
    {
     "name": "stdout",
     "output_type": "stream",
     "text": [
      "[108, 67, 43, 34, 1, -1, -2, -4]\n"
     ]
    }
   ],
   "source": [
    "numbers_2 = [1,-1,-2,67,108,43,-4,34]\n",
    "numbers_2.sort(reverse = True)\n",
    "print(numbers_2)"
   ]
  },
  {
   "cell_type": "code",
   "execution_count": 42,
   "id": "ac137b24-7e14-4b61-a94f-ee841ed13f5b",
   "metadata": {},
   "outputs": [
    {
     "name": "stdout",
     "output_type": "stream",
     "text": [
      "8\n"
     ]
    }
   ],
   "source": [
    "print(len(numbers_2))"
   ]
  },
  {
   "cell_type": "code",
   "execution_count": 43,
   "id": "edd71a00-a2ae-4ac3-961f-0076bf84b266",
   "metadata": {},
   "outputs": [
    {
     "data": {
      "text/plain": [
       "108"
      ]
     },
     "execution_count": 43,
     "metadata": {},
     "output_type": "execute_result"
    }
   ],
   "source": [
    "# list indexing means a position is assigned to each value within the list\n",
    "# indexing starts from 0th Position\n",
    "numbers_2[0]"
   ]
  },
  {
   "cell_type": "code",
   "execution_count": 46,
   "id": "b058a011-6c9b-46fa-9969-e41a0092922d",
   "metadata": {},
   "outputs": [
    {
     "data": {
      "text/plain": [
       "-4"
      ]
     },
     "execution_count": 46,
     "metadata": {},
     "output_type": "execute_result"
    }
   ],
   "source": [
    "numbers_2[7]"
   ]
  },
  {
   "cell_type": "code",
   "execution_count": 47,
   "id": "d4e41e14-a4c7-40ae-b556-3b7c22d79e4b",
   "metadata": {},
   "outputs": [
    {
     "name": "stdout",
     "output_type": "stream",
     "text": [
      "1000\n"
     ]
    }
   ],
   "source": [
    "numbers_2.append(1000)\n",
    "print(numbers_2[8])"
   ]
  },
  {
   "cell_type": "code",
   "execution_count": 48,
   "id": "04da5f87-4b6f-4f93-8183-779e39a46662",
   "metadata": {},
   "outputs": [
    {
     "data": {
      "text/plain": [
       "[108, 67, 43, 34, 1, -1, -2, -4, 1000]"
      ]
     },
     "execution_count": 48,
     "metadata": {},
     "output_type": "execute_result"
    }
   ],
   "source": [
    "numbers_2"
   ]
  },
  {
   "cell_type": "code",
   "execution_count": 49,
   "id": "aa0ba56a-77a3-4747-b8f5-cbb5b943ee90",
   "metadata": {},
   "outputs": [
    {
     "name": "stdout",
     "output_type": "stream",
     "text": [
      "[108, 67, 43, 43, 1, -1, -2, -4, 1000]\n"
     ]
    }
   ],
   "source": [
    "numbers_2[3] = 43 #value at 3rd position is now updated\n",
    "print(numbers_2)"
   ]
  },
  {
   "cell_type": "code",
   "execution_count": 50,
   "id": "cef70087-6b22-40f8-bc07-90d83cbaeb5c",
   "metadata": {},
   "outputs": [
    {
     "name": "stdout",
     "output_type": "stream",
     "text": [
      "9\n"
     ]
    }
   ],
   "source": [
    "print(len(numbers_2))"
   ]
  },
  {
   "cell_type": "code",
   "execution_count": 51,
   "id": "b26ea13a-ea24-4159-a0f7-5470fb4d6bf6",
   "metadata": {},
   "outputs": [
    {
     "name": "stdout",
     "output_type": "stream",
     "text": [
      "[108, 67, 43, 43, 1, -2, -4, 1000]\n"
     ]
    }
   ],
   "source": [
    "numbers_2.pop(5)\n",
    "print(numbers_2)"
   ]
  },
  {
   "cell_type": "code",
   "execution_count": 52,
   "id": "43bc3ca8-871b-420c-873a-829ad3e10f23",
   "metadata": {},
   "outputs": [
    {
     "name": "stdout",
     "output_type": "stream",
     "text": [
      "[108, 67, 43, 43, 1, -4, 1000]\n"
     ]
    }
   ],
   "source": [
    "numbers_2.remove(-2)\n",
    "print(numbers_2)"
   ]
  },
  {
   "cell_type": "code",
   "execution_count": 55,
   "id": "451ad69c-56d5-4d62-b683-4191ffedaab6",
   "metadata": {},
   "outputs": [
    {
     "data": {
      "text/plain": [
       "[-4, 1000]"
      ]
     },
     "execution_count": 55,
     "metadata": {},
     "output_type": "execute_result"
    }
   ],
   "source": [
    "# to select a specific chunk (in seuence) from the list you can use slicing\n",
    "# list_name[start_index:end_index]\n",
    "numbers_2[5:8]"
   ]
  },
  {
   "cell_type": "code",
   "execution_count": 56,
   "id": "f837215c-323c-4464-897c-442c35e252b4",
   "metadata": {},
   "outputs": [
    {
     "name": "stdout",
     "output_type": "stream",
     "text": [
      "[108, 67, 43, 43, 1, -4, 1000]\n"
     ]
    }
   ],
   "source": [
    "print(numbers_2)"
   ]
  },
  {
   "cell_type": "code",
   "execution_count": 57,
   "id": "f769ce13-0e4f-4a2b-bb26-795599f4d4d7",
   "metadata": {},
   "outputs": [
    {
     "data": {
      "text/plain": [
       "[-4, 1000]"
      ]
     },
     "execution_count": 57,
     "metadata": {},
     "output_type": "execute_result"
    }
   ],
   "source": [
    "numbers_2[5:8]"
   ]
  },
  {
   "cell_type": "code",
   "execution_count": 59,
   "id": "d1e89f3f-8d19-4628-a482-fe7b3ff39dcb",
   "metadata": {},
   "outputs": [
    {
     "name": "stdout",
     "output_type": "stream",
     "text": [
      "[0, 1, 2, 3, 4, 5, 6, 7, 8, 9, 10, 11, 12, 13, 14, 15, 16, 17, 18, 19]\n"
     ]
    }
   ],
   "source": [
    "numbers_3 = list(range(0,20))\n",
    "print(numbers_3)"
   ]
  },
  {
   "cell_type": "code",
   "execution_count": 62,
   "id": "57d458b7-fea4-4b32-b916-9f361275d2bc",
   "metadata": {},
   "outputs": [
    {
     "name": "stdout",
     "output_type": "stream",
     "text": [
      "[0, 1, 2, 3, 4, 5, 6, 7, 8, 9, 10, 11]\n"
     ]
    }
   ],
   "source": [
    "print(numbers_3[0:12])"
   ]
  },
  {
   "cell_type": "code",
   "execution_count": 63,
   "id": "de4049ae-e05a-4409-8a64-4b1987fead64",
   "metadata": {},
   "outputs": [
    {
     "name": "stdout",
     "output_type": "stream",
     "text": [
      "[9, 10, 11]\n"
     ]
    }
   ],
   "source": [
    "print(numbers_3[9:12])"
   ]
  },
  {
   "cell_type": "code",
   "execution_count": null,
   "id": "0cb30056-9440-46b9-b10e-3a1dc0f77d6d",
   "metadata": {},
   "outputs": [],
   "source": []
  }
 ],
 "metadata": {
  "kernelspec": {
   "display_name": "Python 3 (ipykernel)",
   "language": "python",
   "name": "python3"
  },
  "language_info": {
   "codemirror_mode": {
    "name": "ipython",
    "version": 3
   },
   "file_extension": ".py",
   "mimetype": "text/x-python",
   "name": "python",
   "nbconvert_exporter": "python",
   "pygments_lexer": "ipython3",
   "version": "3.12.7"
  }
 },
 "nbformat": 4,
 "nbformat_minor": 5
}
