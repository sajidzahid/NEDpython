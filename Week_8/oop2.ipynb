{
  "nbformat": 4,
  "nbformat_minor": 0,
  "metadata": {
    "colab": {
      "provenance": []
    },
    "kernelspec": {
      "name": "python3",
      "display_name": "Python 3"
    },
    "language_info": {
      "name": "python"
    }
  },
  "cells": [
    {
      "cell_type": "code",
      "execution_count": 5,
      "metadata": {
        "colab": {
          "base_uri": "https://localhost:8080/"
        },
        "id": "PO7NouJkOhrU",
        "outputId": "4008e9ed-943a-4645-f354-a212b1c1a5e8"
      },
      "outputs": [
        {
          "output_type": "execute_result",
          "data": {
            "text/plain": [
              "['__add__',\n",
              " '__class__',\n",
              " '__contains__',\n",
              " '__delattr__',\n",
              " '__dir__',\n",
              " '__doc__',\n",
              " '__eq__',\n",
              " '__format__',\n",
              " '__ge__',\n",
              " '__getattribute__',\n",
              " '__getitem__',\n",
              " '__getnewargs__',\n",
              " '__getstate__',\n",
              " '__gt__',\n",
              " '__hash__',\n",
              " '__init__',\n",
              " '__init_subclass__',\n",
              " '__iter__',\n",
              " '__le__',\n",
              " '__len__',\n",
              " '__lt__',\n",
              " '__mod__',\n",
              " '__mul__',\n",
              " '__ne__',\n",
              " '__new__',\n",
              " '__reduce__',\n",
              " '__reduce_ex__',\n",
              " '__repr__',\n",
              " '__rmod__',\n",
              " '__rmul__',\n",
              " '__setattr__',\n",
              " '__sizeof__',\n",
              " '__str__',\n",
              " '__subclasshook__',\n",
              " 'capitalize',\n",
              " 'casefold',\n",
              " 'center',\n",
              " 'count',\n",
              " 'encode',\n",
              " 'endswith',\n",
              " 'expandtabs',\n",
              " 'find',\n",
              " 'format',\n",
              " 'format_map',\n",
              " 'index',\n",
              " 'isalnum',\n",
              " 'isalpha',\n",
              " 'isascii',\n",
              " 'isdecimal',\n",
              " 'isdigit',\n",
              " 'isidentifier',\n",
              " 'islower',\n",
              " 'isnumeric',\n",
              " 'isprintable',\n",
              " 'isspace',\n",
              " 'istitle',\n",
              " 'isupper',\n",
              " 'join',\n",
              " 'ljust',\n",
              " 'lower',\n",
              " 'lstrip',\n",
              " 'maketrans',\n",
              " 'partition',\n",
              " 'removeprefix',\n",
              " 'removesuffix',\n",
              " 'replace',\n",
              " 'rfind',\n",
              " 'rindex',\n",
              " 'rjust',\n",
              " 'rpartition',\n",
              " 'rsplit',\n",
              " 'rstrip',\n",
              " 'split',\n",
              " 'splitlines',\n",
              " 'startswith',\n",
              " 'strip',\n",
              " 'swapcase',\n",
              " 'title',\n",
              " 'translate',\n",
              " 'upper',\n",
              " 'zfill']"
            ]
          },
          "metadata": {},
          "execution_count": 5
        }
      ],
      "source": [
        "list(dir(str))"
      ]
    },
    {
      "cell_type": "code",
      "source": [
        "# prompt: create simple example of __class__\n",
        "\n",
        "class MyClass:\n",
        "    def __init__(self, value):\n",
        "        self.value = value\n",
        "\n",
        "    def __str__(self):\n",
        "        return f\"MyClass object with value: {self.value}\"\n",
        "\n",
        "my_object = MyClass(10)\n",
        "print(my_object.__class__)  # Output: <class '__main__.MyClass'>\n",
        "print(my_object) # Output: MyClass object with value: 10\n",
        "print(type(my_object)) # Output: <class '__main__.MyClass'>\n",
        "print(my_object.__class__ is type(my_object)) # Output: True\n"
      ],
      "metadata": {
        "colab": {
          "base_uri": "https://localhost:8080/"
        },
        "id": "PayiZkLGOkDD",
        "outputId": "a51ce6fe-2c61-4b08-ba02-481fdee06187"
      },
      "execution_count": 2,
      "outputs": [
        {
          "output_type": "stream",
          "name": "stdout",
          "text": [
            "<class '__main__.MyClass'>\n",
            "MyClass object with value: 10\n",
            "<class '__main__.MyClass'>\n",
            "True\n"
          ]
        }
      ]
    },
    {
      "cell_type": "code",
      "source": [
        "# prompt: create simple example of __delattr__\n",
        "\n",
        "class MyClass:\n",
        "    def __init__(self, value):\n",
        "        self.value = value\n",
        "\n",
        "    def __str__(self):\n",
        "        return f\"MyClass object with value: {self.value}\"\n",
        "\n",
        "my_object = MyClass(10)\n",
        "print(my_object.value)  # Output: 10\n",
        "\n",
        "my_object2 = MyClass(20)\n",
        "\n",
        "delattr(my_object, 'value') # delete attribute\n",
        "\n",
        "try:\n",
        "    print(my_object.value)  # This will now raise an AttributeError\n",
        "\n",
        "except AttributeError:\n",
        "    print(\"Attribute 'value' has been deleted.\")\n",
        "\n",
        "print(my_object2.value)  # Output: 20\n",
        "my_object2.value = 100\n",
        "print(my_object2.value)  # Output: 20"
      ],
      "metadata": {
        "colab": {
          "base_uri": "https://localhost:8080/"
        },
        "id": "b-ES9h7-PA9_",
        "outputId": "0e843da3-2a03-4dd5-c15a-b4699b64e310"
      },
      "execution_count": 32,
      "outputs": [
        {
          "output_type": "stream",
          "name": "stdout",
          "text": [
            "10\n",
            "Attribute 'value' has been deleted.\n",
            "20\n",
            "100\n"
          ]
        }
      ]
    },
    {
      "cell_type": "markdown",
      "source": [
        "# Inheritance"
      ],
      "metadata": {
        "id": "S3TmuDeoQx1s"
      }
    },
    {
      "cell_type": "code",
      "source": [
        "class Parent():\n",
        "  def __init__(self):\n",
        "    self.eye_color = \"blue\"\n",
        "    self.hair_color = \"brown\"\n",
        "\n",
        "  def speak(self, words):\n",
        "    print(f\"Object words {words}\")\n",
        "\n",
        "  def eat(self, food):\n",
        "    print(f\"Object is eating {food}\")\n",
        "\n",
        "  def show_info(self):\n",
        "    print(\"Eye color:\", self.eye_color)\n",
        "\n",
        "\n",
        "\n",
        "\n",
        "class Child(Parent): # Inheritance\n",
        "  def walk(self):\n",
        "    print(\"Object is walking\")\n",
        "  def smell(self):\n",
        "    print(\"Object is smelling\")\n",
        "\n",
        "\n",
        "p1 = Parent()\n",
        "p1.speak(\"Hello\")\n",
        "p1.eat(\"Pizza\")\n",
        "p1.show_info()\n",
        "\n",
        "print(\"=\" * 40)\n",
        "\n",
        "c1 = Child()\n",
        "c1.speak(\"Hello\")\n",
        "c1.eat(\"Pizza\")\n",
        "c1.walk()\n",
        "c1.smell()\n",
        "c1.show_info()\n",
        "\n",
        "\n"
      ],
      "metadata": {
        "colab": {
          "base_uri": "https://localhost:8080/"
        },
        "id": "inJ-9Dr6QXc4",
        "outputId": "c82571f5-4cb6-4a74-d179-517d1a7f2938"
      },
      "execution_count": 9,
      "outputs": [
        {
          "output_type": "stream",
          "name": "stdout",
          "text": [
            "Object words Hello\n",
            "Object is eating Pizza\n",
            "Eye color: blue\n",
            "========================================\n",
            "Object words Hello\n",
            "Object is eating Pizza\n",
            "Object is walking\n",
            "Object is smelling\n",
            "Eye color: blue\n"
          ]
        }
      ]
    },
    {
      "cell_type": "code",
      "source": [
        "p1.smell()"
      ],
      "metadata": {
        "colab": {
          "base_uri": "https://localhost:8080/",
          "height": 144
        },
        "id": "OsAOILLHSjql",
        "outputId": "6b108989-8b1b-46d2-b8e0-6c1bac7cc64f"
      },
      "execution_count": 10,
      "outputs": [
        {
          "output_type": "error",
          "ename": "AttributeError",
          "evalue": "'Parent' object has no attribute 'smell'",
          "traceback": [
            "\u001b[0;31m---------------------------------------------------------------------------\u001b[0m",
            "\u001b[0;31mAttributeError\u001b[0m                            Traceback (most recent call last)",
            "\u001b[0;32m<ipython-input-10-b337151ded0d>\u001b[0m in \u001b[0;36m<cell line: 0>\u001b[0;34m()\u001b[0m\n\u001b[0;32m----> 1\u001b[0;31m \u001b[0mp1\u001b[0m\u001b[0;34m.\u001b[0m\u001b[0msmell\u001b[0m\u001b[0;34m(\u001b[0m\u001b[0;34m)\u001b[0m\u001b[0;34m\u001b[0m\u001b[0;34m\u001b[0m\u001b[0m\n\u001b[0m",
            "\u001b[0;31mAttributeError\u001b[0m: 'Parent' object has no attribute 'smell'"
          ]
        }
      ]
    },
    {
      "cell_type": "code",
      "source": [
        "class Parent():\n",
        "  def __init__(self,eye_color, h_color):\n",
        "    self.eye_color = eye_color\n",
        "    self.hair_color = h_color\n",
        "\n",
        "\n",
        "p1 = Parent(\"blue\", \"brown\")\n",
        "print(p1.eye_color)\n",
        "print(p1.hair_color)\n",
        "\n",
        ""
      ],
      "metadata": {
        "id": "d-C8e_noQXuC"
      },
      "execution_count": null,
      "outputs": []
    },
    {
      "cell_type": "code",
      "source": [
        "class Parent():\n",
        "  def __init__(self,eye_color, h_color):\n",
        "    self.eye_color = eye_color\n",
        "    self.hair_color = h_color\n",
        "\n",
        "class Child(Parent):\n",
        "  def __init__(self, eye_color, h_color, skin_color):\n",
        "    super().__init__(eye_color, h_color)\n",
        "    self.skin_color = skin_color\n",
        "\n",
        "\n",
        "p1 = Parent(\"blue\", \"brown\")\n",
        "print(p1.eye_color)\n",
        "print(p1.hair_color)\n",
        "\n",
        "print(\"=\" * 40)\n",
        "\n",
        "c1 = Child(\"blue\", \"brown\", \"white\")\n",
        "print(c1.eye_color)\n",
        "print(c1.hair_color)\n",
        "print(c1.skin_color)"
      ],
      "metadata": {
        "colab": {
          "base_uri": "https://localhost:8080/"
        },
        "id": "U563vZxvUFhP",
        "outputId": "073ca1c9-51c4-4250-fa79-3d4ccc97ae1f"
      },
      "execution_count": 12,
      "outputs": [
        {
          "output_type": "stream",
          "name": "stdout",
          "text": [
            "blue\n",
            "brown\n",
            "========================================\n",
            "blue\n",
            "brown\n",
            "white\n"
          ]
        }
      ]
    },
    {
      "cell_type": "markdown",
      "source": [
        "## Multi-level Inheritance"
      ],
      "metadata": {
        "id": "GP3usJPPU3Cl"
      }
    },
    {
      "cell_type": "code",
      "source": [
        "class Mother():\n",
        "  def __init__(self):\n",
        "    self.eye_color = \"blue\"\n",
        "    self.hair_color = \"brown\"\n",
        "\n",
        "  def speak(self, words):\n",
        "    print(f\"Object words {words}\")\n",
        "\n",
        "  def eat(self, food):\n",
        "    print(f\"Object is eating {food}, From Mohter class\")\n",
        "\n",
        "  def show_info(self):\n",
        "    print(\"Eye color:\", self.eye_color)\n",
        "\n",
        "\n",
        "class Father():\n",
        "  def __init__(self):\n",
        "    self.eye_color = \"blue\"\n",
        "    self.hair_color = \"brown\"\n",
        "    self.skin_color = \"white\"\n",
        "\n",
        "  def walking(self):\n",
        "    print(\"Father Walking Method\")\n",
        "\n",
        "  def eat(self, food):\n",
        "    print(f\"Object is eating {food}, From Father class\")\n",
        "\n",
        "\n",
        "class Child(Mother, Father):\n",
        "  def __init__(self):\n",
        "    super().__init__()\n",
        "\n",
        "\n",
        "c1 = Child()\n",
        "c1.speak(\"Hello\")\n",
        "c1.eat(\"Pizza\")\n",
        "c1.walking()\n",
        "c1.show_info()\n"
      ],
      "metadata": {
        "colab": {
          "base_uri": "https://localhost:8080/"
        },
        "id": "_YWuEnU9QXwt",
        "outputId": "d9637957-f3ef-4a9f-9b81-3198a1a4da6a"
      },
      "execution_count": 14,
      "outputs": [
        {
          "output_type": "stream",
          "name": "stdout",
          "text": [
            "Object words Hello\n",
            "Object is eating Pizza, From Mohter class\n",
            "Father Walking Method\n",
            "Eye color: blue\n"
          ]
        }
      ]
    },
    {
      "cell_type": "code",
      "source": [
        "class Mother():\n",
        "  def __init__(self):\n",
        "    self.eye_color = \"blue\"\n",
        "    self.hair_color = \"brown\"\n",
        "\n",
        "  def speak(self, words):\n",
        "    print(f\"Object words {words}\")\n",
        "\n",
        "  def eat(self, food):\n",
        "    print(f\"Object is eating {food}, From Mohter class\")\n",
        "\n",
        "  def show_info(self):\n",
        "    print(\"Eye color:\", self.eye_color)\n",
        "\n",
        "\n",
        "class Father():\n",
        "  def __init__(self):\n",
        "    self.eye_color = \"blue\"\n",
        "    self.hair_color = \"brown\"\n",
        "    self.skin_color = \"white\"\n",
        "\n",
        "  def walking(self):\n",
        "    print(\"Father Walking Method\")\n",
        "\n",
        "  def eat(self, food):\n",
        "    print(f\"Object is eating {food}, From Father class\")\n",
        "\n",
        "\n",
        "class Child( Father, Mother): # changed position\n",
        "  def __init__(self):\n",
        "    super().__init__()\n",
        "\n",
        "\n",
        "c1 = Child()\n",
        "c1.speak(\"Hello\")\n",
        "c1.eat(\"Pizza\")\n",
        "c1.walking()\n",
        "c1.show_info()\n"
      ],
      "metadata": {
        "colab": {
          "base_uri": "https://localhost:8080/"
        },
        "id": "zh_IzUthQXzN",
        "outputId": "959b5743-8300-461b-c50c-92f311bdd934"
      },
      "execution_count": 15,
      "outputs": [
        {
          "output_type": "stream",
          "name": "stdout",
          "text": [
            "Object words Hello\n",
            "Object is eating Pizza, From Father class\n",
            "Father Walking Method\n",
            "Eye color: blue\n"
          ]
        }
      ]
    },
    {
      "cell_type": "markdown",
      "source": [
        "# polymorphism\n",
        "* over loading\n",
        "* over ridding"
      ],
      "metadata": {
        "id": "iUSclbYAX1BG"
      }
    },
    {
      "cell_type": "code",
      "source": [
        "# print(\"1\" + \"1\")\n",
        "# print(1 + 1)\n",
        "\n",
        "print(\"*\" * 20)\n",
        "\n",
        "\n",
        "print(sum([1,1]))\n",
        "print(sum([1.0, 1.0]))\n",
        "print(sum([1.0,1]))\n",
        "print(sum([1,1.0]))\n"
      ],
      "metadata": {
        "colab": {
          "base_uri": "https://localhost:8080/"
        },
        "id": "xp4-wbGRX9ix",
        "outputId": "b075a34d-0afb-4348-a8aa-6e4c9eb7de71"
      },
      "execution_count": 21,
      "outputs": [
        {
          "output_type": "stream",
          "name": "stdout",
          "text": [
            "********************\n",
            "2\n",
            "2.0\n",
            "2.0\n",
            "2.0\n"
          ]
        }
      ]
    },
    {
      "cell_type": "code",
      "source": [
        "# prompt: create simple over loading example\n",
        "\n",
        "class Calculator():\n",
        "    def add(self, a, b, c=0): # Overloading the add method\n",
        "        return a + b + c\n",
        "\n",
        "calc = Calculator()\n",
        "print(calc.add(2, 3)) # This will raise an error because the two argument method is hidden.\n",
        "print(calc.add(2, 3, 4))  # Output: 9\n"
      ],
      "metadata": {
        "colab": {
          "base_uri": "https://localhost:8080/"
        },
        "id": "wg4UY0VIXysp",
        "outputId": "419786af-e29c-4d85-8f0d-b94ac7afceb3"
      },
      "execution_count": 26,
      "outputs": [
        {
          "output_type": "stream",
          "name": "stdout",
          "text": [
            "5\n",
            "9\n"
          ]
        }
      ]
    },
    {
      "cell_type": "code",
      "source": [
        "# prompt: create simple example of over ridding\n",
        "\n",
        "class Animal:\n",
        "    def speak(self):\n",
        "        print(\"Generic animal sound\")\n",
        "\n",
        "class Dog(Animal):\n",
        "    def speak(self):\n",
        "        print(\"Woof!\")\n",
        "\n",
        "class Cat(Animal):\n",
        "    def speak(self):\n",
        "        print(\"Meow!\")\n",
        "\n",
        "animal = Animal()\n",
        "dog = Dog()\n",
        "cat = Cat()\n",
        "\n",
        "animal.speak()  # Output: Generic animal sound\n",
        "dog.speak()     # Output: Woof!\n",
        "cat.speak()     # Output: Meow!\n"
      ],
      "metadata": {
        "colab": {
          "base_uri": "https://localhost:8080/"
        },
        "id": "2oNej_nYXyvY",
        "outputId": "5ee36264-5820-4d77-d81e-595516289fdf"
      },
      "execution_count": 27,
      "outputs": [
        {
          "output_type": "stream",
          "name": "stdout",
          "text": [
            "Generic animal sound\n",
            "Woof!\n",
            "Meow!\n"
          ]
        }
      ]
    },
    {
      "cell_type": "code",
      "source": [
        "# prompt: create simple example of operator over loading\n",
        "\n",
        "class Vector:\n",
        "    def __init__(self, x, y):\n",
        "        self.x = x\n",
        "        self.y = y\n",
        "\n",
        "    def __add__(self, other):\n",
        "      if type(other) is str:\n",
        "        return f\"{self.x} {self.y}, {other}\"\n",
        "      else:\n",
        "        return Vector(self.x + other.x, self.y + other.y)\n",
        "\n",
        "    def __str__(self):\n",
        "        return f\"({self.x}, {self.y})\"\n",
        "\n",
        "v1 = Vector(1, 2)\n",
        "v2 = Vector(3, 4)\n",
        "\n",
        "v3 = v1 + v2\n",
        "print(v3)  # Output: (4, 6)\n",
        "\n",
        "v4 = v1 + \"Hello\"\n",
        "print(v4)  # Output: (4, 6)\n"
      ],
      "metadata": {
        "colab": {
          "base_uri": "https://localhost:8080/"
        },
        "id": "zlikzsztXyx-",
        "outputId": "dfd56e97-d250-487c-d503-7cd169e42d0f"
      },
      "execution_count": 29,
      "outputs": [
        {
          "output_type": "stream",
          "name": "stdout",
          "text": [
            "(4, 6)\n",
            "1 2, Hello\n"
          ]
        }
      ]
    },
    {
      "cell_type": "code",
      "source": [
        "print(1 + 1)\n",
        "print(\"1\" + \"1\")\n",
        "print([1,2] + [3,4])"
      ],
      "metadata": {
        "colab": {
          "base_uri": "https://localhost:8080/"
        },
        "id": "R0aDgW6KXy0o",
        "outputId": "390bb2a3-61f3-4ad1-e3e2-6ef37ead3c93"
      },
      "execution_count": 30,
      "outputs": [
        {
          "output_type": "stream",
          "name": "stdout",
          "text": [
            "2\n",
            "11\n",
            "[1, 2, 3, 4]\n"
          ]
        }
      ]
    },
    {
      "cell_type": "code",
      "source": [
        "# prompt: create advance polymorphism example\n",
        "\n",
        "class Shape:\n",
        "    def area(self):\n",
        "        pass  # Placeholder for area calculation\n",
        "\n",
        "class Circle(Shape):\n",
        "    def __init__(self, radius):\n",
        "        self.radius = radius\n",
        "\n",
        "    def area(self):\n",
        "        return 3.14159 * self.radius * self.radius\n",
        "\n",
        "class Square(Shape):\n",
        "    def __init__(self, side):\n",
        "        self.side = side\n",
        "\n",
        "    def area(self):\n",
        "        return self.side * self.side\n",
        "\n",
        "class Triangle(Shape):\n",
        "    def __init__(self, base, height):\n",
        "        self.base = base\n",
        "        self.height = height\n",
        "\n",
        "    def area(self):\n",
        "        return 0.5 * self.base * self.height\n",
        "\n",
        "# Example usage\n",
        "shapes = [Circle(5), Square(4), Triangle(3, 6)]\n",
        "\n",
        "for shape in shapes:\n",
        "    print(f\"Area of the shape: {shape.area()}\")\n"
      ],
      "metadata": {
        "colab": {
          "base_uri": "https://localhost:8080/"
        },
        "id": "qA2TDooAXy3L",
        "outputId": "f7631edf-a851-48a5-ddf1-12554aa9c92a"
      },
      "execution_count": 31,
      "outputs": [
        {
          "output_type": "stream",
          "name": "stdout",
          "text": [
            "Area of the shape: 78.53975\n",
            "Area of the shape: 16\n",
            "Area of the shape: 9.0\n"
          ]
        }
      ]
    },
    {
      "cell_type": "markdown",
      "source": [
        " # Encapsulation"
      ],
      "metadata": {
        "id": "E0nA8JiIdfHF"
      }
    },
    {
      "cell_type": "code",
      "source": [
        "# prompt: create simple example of encapsulation\n",
        "\n",
        "class BankAccount:\n",
        "    def __init__(self, account_number, balance):\n",
        "        self.__account_number = account_number  # Private attribute\n",
        "        self.__balance = balance  # Private attribute\n",
        "\n",
        "\n",
        "    def __database_connection(self): # private method\n",
        "        print(\"Database connection established.\")\n",
        "\n",
        "    def deposit(self, amount):\n",
        "        self.__database_connection()\n",
        "        if amount > 0:\n",
        "            self.__balance += amount\n",
        "            print(f\"Deposited {amount}. New balance: {self.__balance}\")\n",
        "        else:\n",
        "            print(\"Invalid deposit amount.\")\n",
        "\n",
        "    def withdraw(self, amount):\n",
        "        self.__database_connection()\n",
        "        if 0 < amount <= self.__balance:\n",
        "            self.__balance -= amount\n",
        "            print(f\"Withdrew {amount}. New balance: {self.__balance}\")\n",
        "        else:\n",
        "            print(\"Insufficient funds or invalid withdrawal amount.\")\n",
        "\n",
        "    def get_balance(self):\n",
        "        self.__database_connection()\n",
        "        return self.__balance # Access private attribute through method\n",
        "\n",
        "# Example usage\n",
        "account = BankAccount(\"1234567890\", 100)\n",
        "print(account.get_balance())\n",
        "account.withdraw(50)\n",
        "print(account.get_balance())\n",
        "# account.database_connection()\n",
        "\n",
        "\n",
        "# account.deposit(500)  # Output: Deposited 500. New balance: 1500\n",
        "# account.withdraw(200)  # Output: Withdrew 200. New balance: 1300\n",
        "# print(account.get_balance()) # Access private attribute using public method\n",
        "\n",
        "# Trying to directly access private attributes (will not work as expected)\n",
        "# print(account.__balance)  # Raises AttributeError\n",
        "# print(account._account_number) # Can be accessed but should be treated as protected.\n",
        "\n"
      ],
      "metadata": {
        "colab": {
          "base_uri": "https://localhost:8080/"
        },
        "id": "CAhkAw8tXy5q",
        "outputId": "37a4cfd3-9c4c-4a9e-a063-e64172cbfd1a"
      },
      "execution_count": 47,
      "outputs": [
        {
          "output_type": "stream",
          "name": "stdout",
          "text": [
            "Database connection established.\n",
            "100\n",
            "Database connection established.\n",
            "Withdrew 50. New balance: 50\n",
            "Database connection established.\n",
            "50\n"
          ]
        }
      ]
    },
    {
      "cell_type": "markdown",
      "source": [
        "# Abstraction"
      ],
      "metadata": {
        "id": "5YuvIzPWhpHC"
      }
    },
    {
      "cell_type": "code",
      "source": [
        "# prompt: create simple example of abstraction\n",
        "\n",
        "from abc import ABC, abstractmethod\n",
        "\n",
        "class Shape(ABC): # Abstract class\n",
        "    @abstractmethod\n",
        "    def area(self):\n",
        "        print(\"Pakistan zinda bad\")\n",
        "\n",
        "class Circle(Shape):\n",
        "    def __init__(self, radius):\n",
        "        self.radius = radius\n",
        "\n",
        "    def area(self):\n",
        "        return 3.14159 * self.radius * self.radius\n",
        "\n",
        "class Square(Shape):\n",
        "    def __init__(self, side):\n",
        "        self.side = side\n",
        "\n",
        "    def area(self):\n",
        "        return self.side * self.side\n",
        "\n",
        "\n",
        "# my_shape = Shape()\n",
        "# my_shape.area()\n",
        "\n",
        "# # Example usage\n",
        "circle = Circle(5)\n",
        "square = Square(4)\n",
        "\n",
        "print(f\"Area of circle: {circle.area()}\")\n",
        "print(f\"Area of square: {square.area()}\")\n",
        "\n",
        "# You cannot create an instance of an abstract class\n",
        "# shape = Shape() # This will raise an error\n"
      ],
      "metadata": {
        "colab": {
          "base_uri": "https://localhost:8080/"
        },
        "id": "bEvoU1eRXy8Y",
        "outputId": "c728fe50-5c70-4d0d-fdb3-1a4345d38488"
      },
      "execution_count": 54,
      "outputs": [
        {
          "output_type": "stream",
          "name": "stdout",
          "text": [
            "Area of circle: 78.53975\n",
            "Area of square: 16\n"
          ]
        }
      ]
    },
    {
      "cell_type": "code",
      "source": [],
      "metadata": {
        "id": "JthDB0bDXy-O"
      },
      "execution_count": null,
      "outputs": []
    }
  ]
}