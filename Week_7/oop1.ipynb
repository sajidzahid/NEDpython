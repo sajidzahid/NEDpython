{
  "nbformat": 4,
  "nbformat_minor": 0,
  "metadata": {
    "colab": {
      "provenance": []
    },
    "kernelspec": {
      "name": "python3",
      "display_name": "Python 3"
    },
    "language_info": {
      "name": "python"
    }
  },
  "cells": [
    {
      "cell_type": "markdown",
      "source": [
        "# Linear Programming"
      ],
      "metadata": {
        "id": "6EHLrleVMDfd"
      }
    },
    {
      "cell_type": "code",
      "execution_count": 1,
      "metadata": {
        "colab": {
          "base_uri": "https://localhost:8080/"
        },
        "id": "VGw7YxgKKOSM",
        "outputId": "1c26a042-5c56-42e8-ee9d-ff6fada12b70"
      },
      "outputs": [
        {
          "output_type": "stream",
          "name": "stdout",
          "text": [
            "Pakistan zinda bad\n",
            "Pakistan zinda bad\n",
            "Pakistan zinda bad\n",
            "Pakistan zinda bad\n",
            "Pakistan zinda bad\n",
            "Pakistan zinda bad\n",
            "Pakistan zinda bad\n",
            "Pakistan zinda bad\n",
            "Pakistan zinda bad\n",
            "Pakistan zinda bad\n"
          ]
        }
      ],
      "source": [
        "print(\"Pakistan zinda bad\")\n",
        "print(\"Pakistan zinda bad\")\n",
        "print(\"Pakistan zinda bad\")\n",
        "print(\"Pakistan zinda bad\")\n",
        "print(\"Pakistan zinda bad\")\n",
        "print(\"Pakistan zinda bad\")\n",
        "print(\"Pakistan zinda bad\")\n",
        "print(\"Pakistan zinda bad\")\n",
        "print(\"Pakistan zinda bad\")\n",
        "print(\"Pakistan zinda bad\")"
      ]
    },
    {
      "cell_type": "markdown",
      "source": [
        "# Structure programming"
      ],
      "metadata": {
        "id": "L32o93jaMOzU"
      }
    },
    {
      "cell_type": "code",
      "source": [
        "for i in range(10):\n",
        "  print(\"Pakistan zinda bad\")"
      ],
      "metadata": {
        "colab": {
          "base_uri": "https://localhost:8080/"
        },
        "id": "E66btvZpMR8x",
        "outputId": "b63e1706-9287-463c-d283-fd9aacd048c5"
      },
      "execution_count": 2,
      "outputs": [
        {
          "output_type": "stream",
          "name": "stdout",
          "text": [
            "Pakistan zinda bad\n",
            "Pakistan zinda bad\n",
            "Pakistan zinda bad\n",
            "Pakistan zinda bad\n",
            "Pakistan zinda bad\n",
            "Pakistan zinda bad\n",
            "Pakistan zinda bad\n",
            "Pakistan zinda bad\n",
            "Pakistan zinda bad\n",
            "Pakistan zinda bad\n"
          ]
        }
      ]
    },
    {
      "cell_type": "code",
      "source": [
        "def student1_login(): pass\n",
        "def student2_login(): pass\n",
        "def student3_login(): pass\n",
        "def student4_login(): pass\n",
        "\n",
        "\n",
        "def student1_signup(): pass\n",
        "def student2_signup(): pass\n",
        "def student3_signup(): pass\n",
        "def student4_signup(): pass\n",
        "def student5_signup(): pass\n",
        "\n",
        "student1_name = \"\"\n",
        "student2_name = \"\"\n",
        "student3_name = \"\"\n",
        "student4_name = \"\"\n",
        "student5_name = \"\"\n",
        "\n",
        "student1_password = \"\"\n",
        "student2_password = \"\"\n",
        "student3_password = \"\"\n",
        "student4_password = \"\"\n",
        "student5_password = \"\"\n",
        "\n",
        "student1_education = \"\"\n",
        "student2_education = \"\"\n",
        "student3_education = \"\"\n",
        "student4_education = \"\"\n",
        "student5_education = \"\"\n",
        "\n",
        "\n",
        "\n"
      ],
      "metadata": {
        "id": "I8Vv-Zn5M3ZJ"
      },
      "execution_count": null,
      "outputs": []
    },
    {
      "cell_type": "markdown",
      "source": [
        "# OOP (Object Oriented Programming)\n",
        "* class\n",
        "* objects\n",
        "  * methods\n",
        "  * attributes\n",
        "* encapsulation\n",
        "* inheritance\n",
        "* abstraction\n",
        "* polymorphisam"
      ],
      "metadata": {
        "id": "zPsfO21DM0Tu"
      }
    },
    {
      "cell_type": "code",
      "source": [
        "class Student():\n",
        "\n",
        "  def __init__(self, name, education): # constructor method\n",
        "    self.name = name # attribute\n",
        "    self.password = \"\"  # attribute\n",
        "    self.user_name = \"\"\n",
        "    self.education = education  # attribute\n",
        "    self.login = False  # attribute\n",
        "    self.country = \"\"\n",
        "\n",
        "\n",
        ""
      ],
      "metadata": {
        "id": "42HmPM0AOLRd"
      },
      "execution_count": 12,
      "outputs": []
    },
    {
      "cell_type": "code",
      "source": [
        "obj1 = Student(\"Ali\", \"MS\") # ojbect1\n",
        "obj2 = Student(\"Qasim\",\"MSDS\") # object2\n",
        "\n",
        "\n",
        "\n",
        "print(obj1.name)\n",
        "print(obj1.education)\n",
        "print(obj1.country)\n",
        "\n",
        "print()\n",
        "\n",
        "print(obj2.name)\n",
        "print(obj2.education)\n",
        "print(obj2.country)"
      ],
      "metadata": {
        "colab": {
          "base_uri": "https://localhost:8080/"
        },
        "id": "0R5d1Eo9Uq-f",
        "outputId": "5960d510-4c5d-4262-ed8f-ddc4ae884e46"
      },
      "execution_count": 14,
      "outputs": [
        {
          "output_type": "stream",
          "name": "stdout",
          "text": [
            "Ali\n",
            "MS\n",
            "\n",
            "\n",
            "Qasim\n",
            "MSDS\n",
            "\n"
          ]
        }
      ]
    },
    {
      "cell_type": "code",
      "source": [
        "class Student():\n",
        "\n",
        "  def __init__(self, name, education): # constructor method\n",
        "    self.name = name # attribute\n",
        "    self.password = \"\"  # attribute\n",
        "    self.user_name = \"\"\n",
        "    self.education = education  # attribute\n",
        "    self.login = False  # attribute\n",
        "\n",
        "  def signup(self, user, password): # method\n",
        "    self.user_name = user\n",
        "    self.password = password\n",
        "    print(\"user created\")\n",
        "\n",
        "  def student_login(self, user, password ): # method\n",
        "    if self.user_name == user and self.password==password:\n",
        "      self.login = True\n",
        "      print(\"login successful\")\n",
        "    else:\n",
        "      print(\"login failed\")\n",
        "\n",
        "  def info(self):\n",
        "    print(\"name :\",self.name) # call attribute\n",
        "    print(\"password :\", self.password)\n",
        "    print(\"user name :\", self.user_name)\n",
        "    print(\"education :\", self.education)\n",
        "    print(\"login :\", self.login)\n",
        "    print()\n",
        "\n",
        "\n",
        "\n",
        "obj1 = Student(\"Qasim\",\"MSDS\")# create object->call __init__ method -> set attributes\n",
        "obj1.info()\n",
        "\n"
      ],
      "metadata": {
        "colab": {
          "base_uri": "https://localhost:8080/"
        },
        "id": "pXuhHtAPUoim",
        "outputId": "18c44213-e4f8-4d15-e851-ba8b502d59c8"
      },
      "execution_count": 19,
      "outputs": [
        {
          "output_type": "stream",
          "name": "stdout",
          "text": [
            "name : Qasim\n",
            "password : \n",
            "user name : \n",
            "education : MSDS\n",
            "login : False\n",
            "\n"
          ]
        }
      ]
    },
    {
      "cell_type": "code",
      "source": [
        "obj1.signup(\"qasim123\", 'admin')\n",
        "obj1.info()\n"
      ],
      "metadata": {
        "colab": {
          "base_uri": "https://localhost:8080/"
        },
        "id": "8zy3RwHNZ45K",
        "outputId": "5b207d77-e021-4439-ac77-1e3cf4e9c11e"
      },
      "execution_count": 20,
      "outputs": [
        {
          "output_type": "stream",
          "name": "stdout",
          "text": [
            "user created\n",
            "name : Qasim\n",
            "password : admin\n",
            "user name : qasim123\n",
            "education : MSDS\n",
            "login : False\n",
            "\n"
          ]
        }
      ]
    },
    {
      "cell_type": "code",
      "source": [
        "obj1.student_login(\"qasim123\", 'admin')\n",
        "\n"
      ],
      "metadata": {
        "colab": {
          "base_uri": "https://localhost:8080/"
        },
        "id": "jJKg2quXXhms",
        "outputId": "5fa8f445-444c-4e2a-ad50-1386e0c4ecce"
      },
      "execution_count": 21,
      "outputs": [
        {
          "output_type": "stream",
          "name": "stdout",
          "text": [
            "login successful\n"
          ]
        }
      ]
    },
    {
      "cell_type": "code",
      "source": [
        "obj2 = Student(\"Asif\",\"MSDS\")# create object->call __init__ method -> set attributes\n",
        "obj2.info()\n",
        "\n",
        "obj2.signup(\"asif123\", 'admin')\n",
        "obj2.info()\n",
        "\n",
        "obj2.student_login(\"asif123\", 'admin')\n"
      ],
      "metadata": {
        "colab": {
          "base_uri": "https://localhost:8080/"
        },
        "id": "q-R_Eg9faJjo",
        "outputId": "e46c2a62-1a8e-4b55-a696-713dbe827c76"
      },
      "execution_count": 22,
      "outputs": [
        {
          "output_type": "stream",
          "name": "stdout",
          "text": [
            "name : Asif\n",
            "password : \n",
            "user name : \n",
            "education : MSDS\n",
            "login : False\n",
            "\n",
            "user created\n",
            "name : Asif\n",
            "password : admin\n",
            "user name : asif123\n",
            "education : MSDS\n",
            "login : False\n",
            "\n",
            "login successful\n"
          ]
        }
      ]
    },
    {
      "cell_type": "code",
      "source": [
        "obj1.info()\n",
        "obj2.info()"
      ],
      "metadata": {
        "colab": {
          "base_uri": "https://localhost:8080/"
        },
        "id": "VkkOgT6DbLRf",
        "outputId": "65458475-9851-4f2e-e8e3-44639700568d"
      },
      "execution_count": 23,
      "outputs": [
        {
          "output_type": "stream",
          "name": "stdout",
          "text": [
            "name : Qasim\n",
            "password : admin\n",
            "user name : qasim123\n",
            "education : MSDS\n",
            "login : True\n",
            "\n",
            "name : Asif\n",
            "password : admin\n",
            "user name : asif123\n",
            "education : MSDS\n",
            "login : True\n",
            "\n"
          ]
        }
      ]
    },
    {
      "cell_type": "code",
      "source": [
        "# prompt: print current time\n",
        "\n",
        "import datetime\n",
        "\n",
        "current_time = datetime.datetime.now()\n",
        "current_time\n"
      ],
      "metadata": {
        "id": "y-Bd7dOfcjAo"
      },
      "execution_count": null,
      "outputs": []
    },
    {
      "cell_type": "markdown",
      "source": [
        "## Class variables"
      ],
      "metadata": {
        "id": "fRHCs0WecKdV"
      }
    },
    {
      "cell_type": "code",
      "source": [
        "import datetime\n",
        "class Student():\n",
        "\n",
        "  counter = 0 # class variable\n",
        "  subject = \"Artificial Intelligence\" # class variable\n",
        "  last_object_created = datetime.datetime.now() # class variable\n",
        "\n",
        "  def __init__(self, name, education): # constructor method / only object creating time\n",
        "    self.name = name # attribute\n",
        "    self.password = \"\"  # attribute\n",
        "    self.user_name = \"\"\n",
        "    self.education = education  # attribute\n",
        "    self.login = False  # attribute\n",
        "    Student.counter += 1\n",
        "    Student.last_object_created = datetime.datetime.now()\n",
        "\n",
        "\n",
        "\n",
        "  def signup(self, user, password): # method\n",
        "    self.user_name = user\n",
        "    self.password = password\n",
        "    print(\"user created\")\n",
        "\n",
        "  def student_login(self, user, password ): # method\n",
        "    if self.user_name == user and self.password==password:\n",
        "      self.login = True\n",
        "      print(\"login successful\")\n",
        "    else:\n",
        "      print(\"login failed\")\n",
        "\n",
        "  def info(self):\n",
        "    print(\"name :\",self.name) # call attribute\n",
        "    print(\"password :\", self.password)\n",
        "    print(\"user name :\", self.user_name)\n",
        "    print(\"education :\", self.education)\n",
        "    print(\"login :\", self.login)\n",
        "    print(\"\\tTotal Objects\", Student.counter)\n",
        "    print(\"\\tsubject :\", Student.subject)\n",
        "    print(\"\\tlast object created :\", Student.last_object_created)\n",
        "    print()\n",
        "\n",
        "\n",
        "\n",
        "obj1 = Student(\"Qasim\",\"MSDS\")# create object->call __init__ method -> set attributes\n",
        "obj1.info()\n",
        "\n"
      ],
      "metadata": {
        "colab": {
          "base_uri": "https://localhost:8080/"
        },
        "id": "3HVXGgo1bR8A",
        "outputId": "8cb029ab-1dd4-49b6-b2fb-45ba3861e962"
      },
      "execution_count": 25,
      "outputs": [
        {
          "output_type": "stream",
          "name": "stdout",
          "text": [
            "name : Qasim\n",
            "password : \n",
            "user name : \n",
            "education : MSDS\n",
            "login : False\n",
            "\tTotal Objects 1\n",
            "\tsubject : Artificial Intelligence\n",
            "\tlast object created : 2025-02-08 07:29:03.388945\n",
            "\n"
          ]
        }
      ]
    },
    {
      "cell_type": "code",
      "source": [
        "obj2 = Student(\"Asif\",\"MSDS\")# create object->call __init__ method -> set attributes\n",
        "obj2.info()"
      ],
      "metadata": {
        "colab": {
          "base_uri": "https://localhost:8080/"
        },
        "id": "Gbj1zZ0HdYFM",
        "outputId": "da708a25-42ca-4a52-99d7-8fa483a82c8b"
      },
      "execution_count": 26,
      "outputs": [
        {
          "output_type": "stream",
          "name": "stdout",
          "text": [
            "name : Asif\n",
            "password : \n",
            "user name : \n",
            "education : MSDS\n",
            "login : False\n",
            "\tTotal Objects 2\n",
            "\tsubject : Artificial Intelligence\n",
            "\tlast object created : 2025-02-08 07:29:41.300569\n",
            "\n"
          ]
        }
      ]
    },
    {
      "cell_type": "code",
      "source": [
        "obj3 = Student(\"Hamza\",\"MSDS\")# create object->call __init__ method -> set attributes\n",
        "obj3.info()"
      ],
      "metadata": {
        "colab": {
          "base_uri": "https://localhost:8080/"
        },
        "id": "nXkqeR2Nds4F",
        "outputId": "2435c56b-ef31-4df6-b8e7-b84017e3cded"
      },
      "execution_count": 27,
      "outputs": [
        {
          "output_type": "stream",
          "name": "stdout",
          "text": [
            "name : Hamza\n",
            "password : \n",
            "user name : \n",
            "education : MSDS\n",
            "login : False\n",
            "\tTotal Objects 3\n",
            "\tsubject : Artificial Intelligence\n",
            "\tlast object created : 2025-02-08 07:30:03.096171\n",
            "\n"
          ]
        }
      ]
    },
    {
      "cell_type": "code",
      "source": [
        "print(obj1.counter)\n",
        "print(obj2.counter)\n",
        "print(obj3.counter)"
      ],
      "metadata": {
        "colab": {
          "base_uri": "https://localhost:8080/"
        },
        "id": "B2N9USpNdyNb",
        "outputId": "19235380-d744-4c57-a4e9-f0cc8d716192"
      },
      "execution_count": 29,
      "outputs": [
        {
          "output_type": "stream",
          "name": "stdout",
          "text": [
            "3\n",
            "3\n",
            "3\n"
          ]
        }
      ]
    },
    {
      "cell_type": "code",
      "source": [
        "# prompt: create simple pytho oop magic function example like __call__, __add__\n",
        "\n",
        "class MyClass:\n",
        "    def __init__(self, value):\n",
        "        self.value = value\n",
        "\n",
        "    def __call__(self, x): # make callable object\n",
        "        self.value += x\n",
        "        return self.value\n",
        "\n",
        "    def __add__(self, other):\n",
        "        if isinstance(other, MyClass):\n",
        "            return MyClass(self.value + other.value)\n",
        "        elif isinstance(other, int):\n",
        "            return MyClass(self.value + other)\n",
        "        elif isinstance(other, str):\n",
        "            print(\"Pakistan\")\n",
        "            return str(f\"{self.value} {other}\")\n",
        "        else:\n",
        "            return MyClass(self.value + other)\n",
        "\n",
        "# Example usage\n",
        "obj = MyClass(10)\n",
        "print(obj(5))  # Output: 15 (calling the object like a function)\n",
        "print(obj(5))\n",
        "print(obj(3)) # 23\n",
        "\n",
        "obj2 = MyClass(20)\n",
        "\n",
        "obj3 = obj + obj2\n",
        "print(obj3.value)  # Output: 30 (__add__ with another MyClass object)\n",
        "\n",
        "obj4 = obj + 5\n",
        "print(obj4.value) # Output: 15 (__add__ with an integer)\n"
      ],
      "metadata": {
        "colab": {
          "base_uri": "https://localhost:8080/"
        },
        "id": "R5DflsUCeIlD",
        "outputId": "d3d57e8b-3750-4a1b-e564-bf1a702b76a8"
      },
      "execution_count": 46,
      "outputs": [
        {
          "output_type": "stream",
          "name": "stdout",
          "text": [
            "15\n",
            "20\n",
            "23\n",
            "43\n",
            "28\n"
          ]
        }
      ]
    },
    {
      "cell_type": "code",
      "source": [
        "\n",
        "obj + \"2\""
      ],
      "metadata": {
        "colab": {
          "base_uri": "https://localhost:8080/",
          "height": 52
        },
        "id": "APJEDmOhhjIt",
        "outputId": "c92b8019-4736-481a-9830-a76c6b0aa9d2"
      },
      "execution_count": 47,
      "outputs": [
        {
          "output_type": "stream",
          "name": "stdout",
          "text": [
            "Pakistan\n"
          ]
        },
        {
          "output_type": "execute_result",
          "data": {
            "text/plain": [
              "'23 2'"
            ],
            "application/vnd.google.colaboratory.intrinsic+json": {
              "type": "string"
            }
          },
          "metadata": {},
          "execution_count": 47
        }
      ]
    },
    {
      "cell_type": "code",
      "source": [
        "print(2 * 2)\n",
        "print(\"a\" * 2)"
      ],
      "metadata": {
        "colab": {
          "base_uri": "https://localhost:8080/"
        },
        "id": "A9Xu_vNlf6b1",
        "outputId": "bd939b5e-486b-4c32-ea62-dc7e458dce5d"
      },
      "execution_count": 39,
      "outputs": [
        {
          "output_type": "stream",
          "name": "stdout",
          "text": [
            "4\n",
            "aa\n"
          ]
        }
      ]
    },
    {
      "cell_type": "code",
      "source": [
        "list(dir(obj))"
      ],
      "metadata": {
        "colab": {
          "base_uri": "https://localhost:8080/"
        },
        "id": "tk46rgWthD_J",
        "outputId": "a9766250-9a53-4c1e-8b35-ae6eff64b263"
      },
      "execution_count": 48,
      "outputs": [
        {
          "output_type": "execute_result",
          "data": {
            "text/plain": [
              "['__add__',\n",
              " '__call__',\n",
              " '__class__',\n",
              " '__delattr__',\n",
              " '__dict__',\n",
              " '__dir__',\n",
              " '__doc__',\n",
              " '__eq__',\n",
              " '__format__',\n",
              " '__ge__',\n",
              " '__getattribute__',\n",
              " '__getstate__',\n",
              " '__gt__',\n",
              " '__hash__',\n",
              " '__init__',\n",
              " '__init_subclass__',\n",
              " '__le__',\n",
              " '__lt__',\n",
              " '__module__',\n",
              " '__ne__',\n",
              " '__new__',\n",
              " '__reduce__',\n",
              " '__reduce_ex__',\n",
              " '__repr__',\n",
              " '__setattr__',\n",
              " '__sizeof__',\n",
              " '__str__',\n",
              " '__subclasshook__',\n",
              " '__weakref__',\n",
              " 'value']"
            ]
          },
          "metadata": {},
          "execution_count": 48
        }
      ]
    },
    {
      "cell_type": "code",
      "source": [
        "# prompt: create simple example __dict__\n",
        "\n",
        "class MyClass:\n",
        "    def __init__(self, value):\n",
        "        self.value = value\n",
        "\n",
        "    def __call__(self, x):\n",
        "        self.value += x\n",
        "        return self.value\n",
        "\n",
        "    def __add__(self, other):\n",
        "        if isinstance(other, MyClass):\n",
        "            return MyClass(self.value + other.value)\n",
        "        elif isinstance(other, int):\n",
        "            return MyClass(self.value + other)\n",
        "        elif isinstance(other, str):\n",
        "            print(\"Pakistan\")\n",
        "            return str(f\"{self.value} {other}\")\n",
        "        else:\n",
        "            return MyClass(self.value + other)\n",
        "\n",
        "# Example usage\n",
        "obj = MyClass(10)\n",
        "obj.__dict__\n"
      ],
      "metadata": {
        "colab": {
          "base_uri": "https://localhost:8080/"
        },
        "id": "QKHoI1n-h_Uz",
        "outputId": "1c58604f-fd83-4594-8300-bfc2f07c521a"
      },
      "execution_count": 50,
      "outputs": [
        {
          "output_type": "execute_result",
          "data": {
            "text/plain": [
              "{'value': 10}"
            ]
          },
          "metadata": {},
          "execution_count": 50
        }
      ]
    },
    {
      "cell_type": "code",
      "source": [
        "obj2.__dict__"
      ],
      "metadata": {
        "colab": {
          "base_uri": "https://localhost:8080/"
        },
        "id": "tlaUIN9vigHv",
        "outputId": "356bd4a4-a851-4073-8088-c74be84b319a"
      },
      "execution_count": 52,
      "outputs": [
        {
          "output_type": "execute_result",
          "data": {
            "text/plain": [
              "{'value': 20}"
            ]
          },
          "metadata": {},
          "execution_count": 52
        }
      ]
    },
    {
      "cell_type": "code",
      "source": [],
      "metadata": {
        "id": "Y6yJ8Mp4iiKY"
      },
      "execution_count": null,
      "outputs": []
    }
  ]
}