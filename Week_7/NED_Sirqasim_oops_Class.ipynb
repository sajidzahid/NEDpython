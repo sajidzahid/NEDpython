{
  "nbformat": 4,
  "nbformat_minor": 0,
  "metadata": {
    "colab": {
      "provenance": []
    },
    "kernelspec": {
      "name": "python3",
      "display_name": "Python 3"
    },
    "language_info": {
      "name": "python"
    }
  },
  "cells": [
    {
      "cell_type": "code",
      "source": [],
      "metadata": {
        "id": "v5SIyeHHf5TF"
      },
      "execution_count": null,
      "outputs": []
    },
    {
      "cell_type": "code",
      "execution_count": 1,
      "metadata": {
        "id": "8gUE2XwYfrlZ"
      },
      "outputs": [],
      "source": [
        "import datetime"
      ]
    },
    {
      "cell_type": "code",
      "source": [
        "print(datetime.datetime.now())"
      ],
      "metadata": {
        "colab": {
          "base_uri": "https://localhost:8080/"
        },
        "id": "DeGo8FNef5xn",
        "outputId": "7e1e8df9-c2b7-453c-c021-10adbad7baff"
      },
      "execution_count": 2,
      "outputs": [
        {
          "output_type": "stream",
          "name": "stdout",
          "text": [
            "2025-02-08 07:44:07.363435\n"
          ]
        }
      ]
    },
    {
      "cell_type": "code",
      "source": [
        "class Person:\n",
        "    def __init__(self, name, age):\n",
        "        self.name = name\n",
        "        self.age = age\n",
        "print(Person(\"Sajid\", 42))"
      ],
      "metadata": {
        "colab": {
          "base_uri": "https://localhost:8080/"
        },
        "id": "o7hSS2m3f-_a",
        "outputId": "ec2ca238-d556-4d0d-8541-7ded1b1cf898"
      },
      "execution_count": 8,
      "outputs": [
        {
          "output_type": "stream",
          "name": "stdout",
          "text": [
            "<__main__.Person object at 0x7ba86a25de10>\n"
          ]
        }
      ]
    },
    {
      "cell_type": "code",
      "source": [
        "list = dir(object)\n",
        "print(list)"
      ],
      "metadata": {
        "colab": {
          "base_uri": "https://localhost:8080/"
        },
        "id": "_mh4amZugVcM",
        "outputId": "f15477e2-10cc-4902-8545-aab6a436d07f"
      },
      "execution_count": 10,
      "outputs": [
        {
          "output_type": "stream",
          "name": "stdout",
          "text": [
            "['__class__', '__delattr__', '__dir__', '__doc__', '__eq__', '__format__', '__ge__', '__getattribute__', '__getstate__', '__gt__', '__hash__', '__init__', '__init_subclass__', '__le__', '__lt__', '__ne__', '__new__', '__reduce__', '__reduce_ex__', '__repr__', '__setattr__', '__sizeof__', '__str__', '__subclasshook__']\n"
          ]
        }
      ]
    },
    {
      "cell_type": "code",
      "source": [
        "# prompt: simple code in class and object\n",
        "\n",
        "class Person:\n",
        "    def __init__(self, name, age):\n",
        "        self.name = name\n",
        "        self.age = age\n",
        "\n",
        "    def __str__(self):\n",
        "        return f\"Name: {self.name}, Age: {self.age}\"\n",
        "\n",
        "person = Person(\"Sajid\", 42)\n",
        "person\n"
      ],
      "metadata": {
        "id": "VHZoX7tBhGmj"
      },
      "execution_count": null,
      "outputs": []
    },
    {
      "cell_type": "markdown",
      "source": [
        "Assignment to call all the method of object by using the Generative AI"
      ],
      "metadata": {
        "id": "daaf9eDXhda4"
      }
    },
    {
      "cell_type": "code",
      "source": [
        "object1 = [method for method in dir(object) if not method.startswith('*')]\n",
        "for function, method in enumerate(object1):\n",
        "    print(f'{function+1}. {method}')"
      ],
      "metadata": {
        "colab": {
          "base_uri": "https://localhost:8080/"
        },
        "id": "r2IjHBNAhdLx",
        "outputId": "34e86cb1-164d-4c32-f35a-60b185ed8030"
      },
      "execution_count": 13,
      "outputs": [
        {
          "output_type": "stream",
          "name": "stdout",
          "text": [
            "1. __class__\n",
            "2. __delattr__\n",
            "3. __dir__\n",
            "4. __doc__\n",
            "5. __eq__\n",
            "6. __format__\n",
            "7. __ge__\n",
            "8. __getattribute__\n",
            "9. __getstate__\n",
            "10. __gt__\n",
            "11. __hash__\n",
            "12. __init__\n",
            "13. __init_subclass__\n",
            "14. __le__\n",
            "15. __lt__\n",
            "16. __ne__\n",
            "17. __new__\n",
            "18. __reduce__\n",
            "19. __reduce_ex__\n",
            "20. __repr__\n",
            "21. __setattr__\n",
            "22. __sizeof__\n",
            "23. __str__\n",
            "24. __subclasshook__\n"
          ]
        }
      ]
    },
    {
      "cell_type": "markdown",
      "source": [
        "https://github.com/EnggQasim/NED-Batch10-python/blob/main/07-week-oop/oop1.ipynb\n",
        "\n",
        "\n",
        "Shared by Sir Qasim\n"
      ],
      "metadata": {
        "id": "ls0Lpf2riLKy"
      }
    },
    {
      "cell_type": "code",
      "source": [],
      "metadata": {
        "id": "Pitfl5zbiL3C"
      },
      "execution_count": null,
      "outputs": []
    }
  ]
}